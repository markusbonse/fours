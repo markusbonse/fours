{
 "cells": [
  {
   "cell_type": "code",
   "execution_count": 1,
   "id": "c305724e",
   "metadata": {},
   "outputs": [],
   "source": [
    "import numpy as np\n",
    "from pathlib import Path\n",
    "import matplotlib.pyplot as plt\n",
    "from copy import deepcopy\n",
    "\n",
    "from s4hci.utils.data_handling import load_adi_data, save_as_fits"
   ]
  },
  {
   "cell_type": "markdown",
   "id": "0e7dda5a",
   "metadata": {},
   "source": [
    "# Load the dataset"
   ]
  },
  {
   "cell_type": "code",
   "execution_count": 2,
   "id": "6789d27b",
   "metadata": {},
   "outputs": [],
   "source": [
    "dataset_hdf5_file = \"/fast/mbonse/s4/30_data/HD22049_304_199_C-0065_C_.hdf5\""
   ]
  },
  {
   "cell_type": "code",
   "execution_count": 3,
   "id": "3b927c42",
   "metadata": {},
   "outputs": [],
   "source": [
    "science_data, raw_angles, raw_psf_template_data = \\\n",
    "    load_adi_data(\n",
    "        hdf5_dataset=dataset_hdf5_file,\n",
    "        data_tag=\"object\",\n",
    "        psf_template_tag=\"psf_template\",\n",
    "        para_tag=\"header_object/PARANG\")\n",
    "\n",
    "science_data = science_data[:, 12:-12, 12:-12]"
   ]
  },
  {
   "cell_type": "markdown",
   "id": "28a398c4",
   "metadata": {},
   "source": [
    "## stack the frames"
   ]
  },
  {
   "cell_type": "code",
   "execution_count": 4,
   "id": "861d86fd",
   "metadata": {},
   "outputs": [],
   "source": [
    "num_frames = science_data.shape[0]\n",
    "stacking_n_frames = 10"
   ]
  },
  {
   "cell_type": "code",
   "execution_count": 5,
   "id": "f3e56473",
   "metadata": {},
   "outputs": [],
   "source": [
    "stacking_idx = np.array_split(np.arange(num_frames), \n",
    "                              int(num_frames / stacking_n_frames))"
   ]
  },
  {
   "cell_type": "code",
   "execution_count": 6,
   "id": "bedad20d",
   "metadata": {},
   "outputs": [],
   "source": [
    "stacked_science = np.array([np.mean(science_data[tmp_idx], axis=0) for tmp_idx in stacking_idx])\n",
    "stacked_angles = np.array([np.median(raw_angles[tmp_idx], axis=0) for tmp_idx in stacking_idx])"
   ]
  },
  {
   "cell_type": "code",
   "execution_count": 7,
   "id": "33e3bca0",
   "metadata": {},
   "outputs": [
    {
     "data": {
      "text/plain": [
       "(5756, 117, 117)"
      ]
     },
     "execution_count": 7,
     "metadata": {},
     "output_type": "execute_result"
    }
   ],
   "source": [
    "stacked_science.shape"
   ]
  },
  {
   "cell_type": "code",
   "execution_count": 8,
   "id": "c4678e7c",
   "metadata": {},
   "outputs": [
    {
     "data": {
      "text/plain": [
       "(5756,)"
      ]
     },
     "execution_count": 8,
     "metadata": {},
     "output_type": "execute_result"
    }
   ],
   "source": [
    "stacked_angles.shape"
   ]
  },
  {
   "cell_type": "markdown",
   "id": "bc4baff1",
   "metadata": {},
   "source": [
    "# Run a CPU based cADI"
   ]
  },
  {
   "cell_type": "code",
   "execution_count": 9,
   "id": "331c5d99",
   "metadata": {},
   "outputs": [],
   "source": [
    "from s4hci.utils.adi_tools import combine_residual_stack"
   ]
  },
  {
   "cell_type": "code",
   "execution_count": 10,
   "id": "5d1cfcd6",
   "metadata": {},
   "outputs": [],
   "source": [
    "median_frame = np.median(stacked_science, axis=0)"
   ]
  },
  {
   "cell_type": "code",
   "execution_count": 11,
   "id": "ce164972",
   "metadata": {},
   "outputs": [],
   "source": [
    "residual_sequence = stacked_science - median_frame"
   ]
  },
  {
   "cell_type": "code",
   "execution_count": 12,
   "id": "1c16b593",
   "metadata": {},
   "outputs": [],
   "source": [
    "residual_image = combine_residual_stack(\n",
    "    residual_stack=residual_sequence,\n",
    "    angles=stacked_angles,\n",
    "    combine=\"mean\")"
   ]
  },
  {
   "cell_type": "code",
   "execution_count": null,
   "id": "b2acdfeb",
   "metadata": {},
   "outputs": [],
   "source": []
  }
 ],
 "metadata": {
  "kernelspec": {
   "display_name": "Python 3 (ipykernel)",
   "language": "python",
   "name": "python3"
  },
  "language_info": {
   "codemirror_mode": {
    "name": "ipython",
    "version": 3
   },
   "file_extension": ".py",
   "mimetype": "text/x-python",
   "name": "python",
   "nbconvert_exporter": "python",
   "pygments_lexer": "ipython3",
   "version": "3.10.10"
  }
 },
 "nbformat": 4,
 "nbformat_minor": 5
}
