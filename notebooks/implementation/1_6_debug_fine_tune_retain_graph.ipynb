{
 "cells": [
  {
   "cell_type": "code",
   "execution_count": 109,
   "id": "2ca501dd",
   "metadata": {},
   "outputs": [],
   "source": [
    "import json\n",
    "import sys\n",
    "import numpy as np\n",
    "from pathlib import Path\n",
    "\n",
    "import matplotlib.pyplot as plt\n",
    "from s4hci.utils.data_handling import load_adi_data, save_as_fits\n",
    "from s4hci.models.noise import S4Noise\n",
    "from s4hci.utils.logging import print_message, setup_logger\n",
    "\n",
    "from applefy.utils.fake_planets import add_fake_planets"
   ]
  },
  {
   "cell_type": "code",
   "execution_count": 110,
   "id": "6f18ec9d",
   "metadata": {},
   "outputs": [],
   "source": [
    "from pathlib import Path\n",
    "from copy import deepcopy\n",
    "from datetime import datetime\n",
    "\n",
    "import numpy as np\n",
    "from scipy.stats import iqr\n",
    "from tqdm.auto import tqdm\n",
    "\n",
    "from sklearn.model_selection import train_test_split\n",
    "\n",
    "import torch\n",
    "from torch import optim\n",
    "from torch.utils.tensorboard import SummaryWriter\n",
    "from torch.utils.data import TensorDataset, DataLoader\n",
    "\n",
    "from s4hci.models.noise import S4Noise\n",
    "from s4hci.models.planet import S4Planet\n",
    "from s4hci.utils.adi_tools import combine_residual_stack\n",
    "from s4hci.utils.data_handling import save_as_fits\n",
    "\n",
    "\n",
    "class S4:\n",
    "\n",
    "    def __init__(\n",
    "            self,\n",
    "            data_cube,\n",
    "            parang,\n",
    "            psf_template,\n",
    "            noise_noise_cut_radius_psf,\n",
    "            noise_mask_radius,\n",
    "            device=0,\n",
    "            noise_normalization=\"normal\",\n",
    "            noise_lambda_init=1e3,\n",
    "            planet_convolve_second=True,\n",
    "            planet_use_up_sample=1,\n",
    "            work_dir=None,\n",
    "            convolve=True,\n",
    "            verbose=True\n",
    "    ):\n",
    "        # 1.) Save all member data\n",
    "        self.device = device\n",
    "        self.parang = parang\n",
    "        self.data_cube = data_cube\n",
    "        self.psf_template = psf_template\n",
    "        self.data_image_size = data_cube.shape[-1]\n",
    "        if work_dir is not None:\n",
    "            self.work_dir = Path(work_dir)\n",
    "        else:\n",
    "            self.work_dir = None\n",
    "        self.residuals_dir, self.tensorboard_dir, self.models_dir = \\\n",
    "            self._setup_working_dir()\n",
    "\n",
    "        # 2.) Create the noise model\n",
    "        self.noise_model = S4Noise(\n",
    "            data_image_size=self.data_image_size,\n",
    "            psf_template=self.psf_template,\n",
    "            lambda_reg=noise_lambda_init,\n",
    "            cut_radius_psf=noise_noise_cut_radius_psf,\n",
    "            mask_template_setup=(\"radius\", noise_mask_radius),\n",
    "            normalization=noise_normalization,\n",
    "            convolve=convolve,\n",
    "            verbose=verbose).float()\n",
    "\n",
    "        # 3.) Create the planet model\n",
    "        self.planet_model = S4Planet(\n",
    "            data_image_size=self.data_image_size,\n",
    "            psf_template=self.psf_template,\n",
    "            convolve_second=planet_convolve_second,\n",
    "            inner_mask_radius=0,\n",
    "            use_up_sample=planet_use_up_sample).float()\n",
    "\n",
    "        # 4.) Create the tensorboard logger for the fine_tuning\n",
    "        self.tensorboard_logger = None\n",
    "        self.fine_tune_start_time = None\n",
    "\n",
    "    def _setup_working_dir(self):\n",
    "        if self.work_dir is None:\n",
    "            return None, None, None\n",
    "\n",
    "        # make sure the working dir is a dir\n",
    "        self.work_dir.mkdir(exist_ok=True)\n",
    "\n",
    "        residuals_dir = self.work_dir / \"residuals\"\n",
    "        tensorboard_dir = self.work_dir / \"tensorboard\"\n",
    "        models_dir = self.work_dir / \"models\"\n",
    "\n",
    "        residuals_dir.mkdir(exist_ok=True)\n",
    "        tensorboard_dir.mkdir(exist_ok=True)\n",
    "        models_dir.mkdir(exist_ok=True)\n",
    "\n",
    "        return residuals_dir, tensorboard_dir, models_dir\n",
    "\n",
    "    def validate_lambdas_noise(\n",
    "            self,\n",
    "            num_separations,\n",
    "            lambdas,\n",
    "            num_test_positions,\n",
    "            test_size=0.3,\n",
    "            approx_svd=5000):\n",
    "        \"\"\"\n",
    "        First processing step\n",
    "        \"\"\"\n",
    "\n",
    "        # 1.) split the data into training and test data\n",
    "        if isinstance(test_size, float):\n",
    "            x_train, x_test, = train_test_split(\n",
    "                self.data_cube,\n",
    "                test_size=test_size,\n",
    "                random_state=42,\n",
    "                shuffle=True)\n",
    "        else:\n",
    "            # Use an even/odd split\n",
    "            x_train = self.data_cube[0::2]\n",
    "            x_test = self.data_cube[1::2]\n",
    "\n",
    "        # 2.) validate the lambda values of the noise model\n",
    "        x_train = torch.from_numpy(x_train).float()\n",
    "        x_test = torch.from_numpy(x_test).float()\n",
    "\n",
    "        all_results, best_lambda = self.noise_model.validate_lambdas(\n",
    "            num_separations=num_separations,\n",
    "            lambdas=lambdas,\n",
    "            science_data_train=x_train,\n",
    "            science_data_test=x_test,\n",
    "            num_test_positions=num_test_positions,\n",
    "            approx_svd=approx_svd,\n",
    "            device=self.device)\n",
    "\n",
    "        return all_results, best_lambda\n",
    "\n",
    "    def find_closed_form_noise_model(\n",
    "            self,\n",
    "            save_model=False,\n",
    "            fp_precision=\"float32\",\n",
    "            lstrq_mode=\"LSTSQ\"):\n",
    "        \"\"\"\n",
    "        Second processing step\n",
    "        \"\"\"\n",
    "\n",
    "        # 1.) Train the noise model\n",
    "        x_train = torch.from_numpy(self.data_cube).float()\n",
    "        self.noise_model.fit(\n",
    "            x_train,\n",
    "            device=self.device,\n",
    "            mode=lstrq_mode,\n",
    "            fp_precision=fp_precision)\n",
    "\n",
    "        # 2.) Save the noise model\n",
    "        if save_model:\n",
    "            self.noise_model.save(\n",
    "                self.models_dir / \"noise_model_closed_form.pkl\")\n",
    "\n",
    "    def _logg_fine_tune_status(\n",
    "            self,\n",
    "            epoch,\n",
    "            loss_reg,\n",
    "            start_reg_loss,\n",
    "            loss_recon,\n",
    "            start_recon_loss,\n",
    "            logging_interval,\n",
    "            planet_signal):\n",
    "\n",
    "        if self.work_dir is None:\n",
    "            return\n",
    "\n",
    "        self.tensorboard_logger.add_scalar(\n",
    "            \"Loss/Reconstruction_delta\",\n",
    "            loss_recon - start_recon_loss,\n",
    "            epoch)\n",
    "\n",
    "        self.tensorboard_logger.add_scalar(\n",
    "            \"Loss/Regularization_delta\",\n",
    "            loss_reg - start_reg_loss,\n",
    "            epoch)\n",
    "\n",
    "        if not epoch % logging_interval == logging_interval - 1:\n",
    "            return\n",
    "\n",
    "        with torch.no_grad():\n",
    "            tmp_frame = planet_signal.detach()[-1, 0].cpu().numpy()\n",
    "            self.tensorboard_logger.add_image(\n",
    "                \"Images/Planet_signal_estimate\",\n",
    "                self.normalize_for_tensorboard(tmp_frame),\n",
    "                epoch,\n",
    "                dataformats=\"HW\")\n",
    "\n",
    "            tmp_residual_dir = self.residuals_dir / \\\n",
    "                Path(self.fine_tune_start_time)\n",
    "            tmp_residual_dir.mkdir(exist_ok=True)\n",
    "\n",
    "            save_as_fits(\n",
    "                tmp_frame,\n",
    "                tmp_residual_dir /\n",
    "                Path(\"Planet_signal_estimate_epoch_\" + str(epoch).zfill(4)\n",
    "                     + \".fits\"),\n",
    "                overwrite=True)\n",
    "\n",
    "            tmp_frame = self.planet_model.get_planet_signal()\n",
    "            tmp_frame = tmp_frame.detach()[0].cpu().numpy()\n",
    "            self.tensorboard_logger.add_image(\n",
    "                \"Images/Planet_raw_parameters\",\n",
    "                self.normalize_for_tensorboard(tmp_frame),\n",
    "                epoch,\n",
    "                dataformats=\"HW\")\n",
    "\n",
    "            save_as_fits(\n",
    "                tmp_frame,\n",
    "                tmp_residual_dir /\n",
    "                Path(\"Planet_raw_parameters_\" + str(epoch).zfill(4)\n",
    "                     + \".fits\"),\n",
    "                overwrite=True)\n",
    "\n",
    "            self.noise_model.compute_betas()\n",
    "            betas = self.noise_model.prev_betas.detach().cpu().numpy()\n",
    "            beta_frame = np.abs(betas[6500].reshape(\n",
    "                self.data_image_size, self.data_image_size))\n",
    "\n",
    "            self.tensorboard_logger.add_image(\n",
    "                \"Images/Noise_model_reasons\",\n",
    "                self.normalize_for_tensorboard(beta_frame),\n",
    "                epoch,\n",
    "                dataformats=\"HW\")\n",
    "\n",
    "    def fine_tune_model(\n",
    "            self,\n",
    "            num_epochs,\n",
    "            learning_rate_planet=1e-3,\n",
    "            learning_rate_noise=1e-6,\n",
    "            fine_tune_noise_model=False,\n",
    "            lean_planet_model=True,\n",
    "            rotation_grid_down_sample=10,\n",
    "            upload_rotation_grid=True,\n",
    "            logging_interval=10,\n",
    "            save_model=False,\n",
    "            batch_size=-1\n",
    "    ):\n",
    "        \"\"\"\n",
    "        This is the last step of optimization\n",
    "        \"\"\"\n",
    "\n",
    "        # 1.) setup planet model for training\n",
    "        self.planet_model.setup_for_training(\n",
    "            all_angles=self.parang,\n",
    "            rotation_grid_down_sample=rotation_grid_down_sample,\n",
    "            upload_rotation_grid=upload_rotation_grid)\n",
    "\n",
    "        if self.work_dir is not None:\n",
    "            time_str = datetime.now().strftime(\"%Y-%m-%d-%Hh%Mm%Ss\")\n",
    "            self.fine_tune_start_time = time_str\n",
    "            current_logdir = self.tensorboard_dir /\\\n",
    "                Path(self.fine_tune_start_time)\n",
    "            current_logdir.mkdir()\n",
    "            self.tensorboard_logger = SummaryWriter(current_logdir)\n",
    "\n",
    "        # 2.) move models to the GPU\n",
    "        self.planet_model = self.planet_model.to(self.device)\n",
    "        self.noise_model = self.noise_model.to(self.device)\n",
    "\n",
    "        # 3.) set up the normalization\n",
    "        # TODO update this code in case the robust normalization works\n",
    "        x_train = torch.from_numpy(self.data_cube).float()\n",
    "        x_mu = torch.mean(x_train, axis=0)\n",
    "        x_std = torch.std(x_train, axis=0)\n",
    "        x_norm = (x_train - x_mu) / x_std\n",
    "\n",
    "        # move the data to the GPU\n",
    "        x_std = x_std.to(self.device)\n",
    "        x_norm = x_norm.to(self.device)\n",
    "        science_norm_flatten = x_norm.view(x_norm.shape[0], -1)\n",
    "\n",
    "        # 4.) Create the optimizer and add the parameters we want to optimize\n",
    "        parameters = []\n",
    "        if fine_tune_noise_model:\n",
    "            parameters.append(\n",
    "                {\"params\": self.noise_model.betas_raw,\n",
    "                 'lr': learning_rate_noise})\n",
    "        else:\n",
    "            self.noise_model.betas_raw.requires_grad = False\n",
    "\n",
    "        if lean_planet_model:\n",
    "            parameters.append(\n",
    "                {\"params\": self.planet_model.planet_model,\n",
    "                 'lr': learning_rate_planet}\n",
    "            )\n",
    "        else:\n",
    "            self.planet_model.planet_model.requires_grad = False\n",
    "\n",
    "        # The default learning rate is not needed\n",
    "        optimizer = optim.Adam(\n",
    "            parameters,\n",
    "            lr=learning_rate_planet)\n",
    "\n",
    "        # if the noise model is not fine-tuned we can compute the noise estimate\n",
    "        # once at the start of the training loop\n",
    "        if not fine_tune_noise_model:\n",
    "            pre_build_noise_noise_estimate = self.noise_model(\n",
    "                science_norm_flatten.to(self.device))\n",
    "        else:\n",
    "            pre_build_noise_noise_estimate = torch.ones(\n",
    "                science_norm_flatten.shape[0])\n",
    "\n",
    "        # The index list is needed to get all planet frames during fine-tuning.\n",
    "        planet_model_idx = torch.from_numpy(np.arange(x_norm.shape[0]))\n",
    "\n",
    "        # 5.) Run the fine-tuning\n",
    "        if self.noise_model.verbose:\n",
    "            epoch_range = tqdm(range(num_epochs))\n",
    "        else:\n",
    "            epoch_range = range(num_epochs)\n",
    "\n",
    "        # create the DataLoader\n",
    "        merged_dataset = TensorDataset(\n",
    "            science_norm_flatten,\n",
    "            pre_build_noise_noise_estimate,\n",
    "            planet_model_idx)\n",
    "\n",
    "        if batch_size == -1:\n",
    "            bs = x_norm.shape[0]\n",
    "        else:\n",
    "            bs = batch_size\n",
    "        data_loader = DataLoader(\n",
    "            merged_dataset,\n",
    "            batch_size=bs,\n",
    "            shuffle=True)\n",
    "\n",
    "        # needed for gradient accumulation in order to normalize the loss\n",
    "        num_steps_per_epoch = len(data_loader)\n",
    "\n",
    "        # values needed to plot the difference in loss\n",
    "        start_reg_loss = 0.\n",
    "        start_recon_loss = 0.\n",
    "\n",
    "        for epoch in epoch_range:\n",
    "            optimizer.zero_grad()\n",
    "\n",
    "            # we have to keep track of the loss sum within gradient accumulation\n",
    "            running_reg_loss = 0\n",
    "            running_recon_loss = 0\n",
    "\n",
    "            for tmp_frames, noise_estimate, tmp_planet_idx in data_loader:\n",
    "                # 1.) Get the current planet signal estimate\n",
    "                planet_signal = self.planet_model.forward(tmp_planet_idx)\n",
    "\n",
    "                # 2.) normalize and reshape the planet signal\n",
    "                planet_signal = planet_signal / x_std\n",
    "                planet_signal_norm = planet_signal.view(\n",
    "                    planet_signal.shape[0], -1)\n",
    "\n",
    "                # 3.) run the forward path\n",
    "                if fine_tune_noise_model:\n",
    "                    self.noise_model.compute_betas()\n",
    "                    noise_estimate = self.noise_model(tmp_frames)\n",
    "\n",
    "                p_hat_n = self.noise_model(planet_signal_norm)\n",
    "                p_hat_n[p_hat_n > 0] = 0\n",
    "\n",
    "                # 4.) Compute the loss\n",
    "                loss_recon = ((noise_estimate - p_hat_n + planet_signal_norm\n",
    "                               - tmp_frames) ** 2).sum()\n",
    "\n",
    "                loss_reg = (self.noise_model.betas_raw ** 2).sum() \\\n",
    "                    * self.noise_model.lambda_reg\n",
    "\n",
    "                # 5.) Backward\n",
    "                loss = (loss_recon + loss_reg) / num_steps_per_epoch\n",
    "                loss.backward()\n",
    "\n",
    "                # 6.) Track the current loss\n",
    "                running_reg_loss += loss_reg.detach().item()\n",
    "                running_recon_loss += loss_recon.detach().item()\n",
    "\n",
    "            # Make one accumulated gradient step\n",
    "            optimizer.step()\n",
    "\n",
    "            # 6.) Logg the information\n",
    "            if epoch == 0:\n",
    "                start_reg_loss = running_reg_loss\n",
    "                start_recon_loss = running_recon_loss\n",
    "\n",
    "            self._logg_fine_tune_status(\n",
    "                epoch=epoch,\n",
    "                loss_reg=running_reg_loss,\n",
    "                start_reg_loss=start_reg_loss,\n",
    "                loss_recon=running_recon_loss,\n",
    "                start_recon_loss=start_recon_loss,\n",
    "                logging_interval=logging_interval,\n",
    "                planet_signal=planet_signal)\n",
    "\n",
    "        # 8.) Clean up GPU\n",
    "        del x_norm, x_std\n",
    "        self.noise_model = self.noise_model.cpu()\n",
    "        self.planet_model = self.planet_model.cpu()\n",
    "        torch.cuda.empty_cache()\n",
    "\n",
    "        # 9.) Save the models\n",
    "        if save_model:\n",
    "            self.noise_model.save(\n",
    "                self.models_dir / \"noise_model_fine_tuned.pkl\")\n",
    "            self.planet_model.save(\n",
    "                self.models_dir / \"planet_model_fine_tuned.pkl\")\n",
    "\n",
    "    @staticmethod\n",
    "    def normalize_for_tensorboard(frame_in):\n",
    "        image_for_tb = deepcopy(frame_in)\n",
    "        image_for_tb -= np.min(image_for_tb)\n",
    "        image_for_tb /= np.max(image_for_tb)\n",
    "        return image_for_tb\n",
    "\n",
    "    def compute_residual(\n",
    "            self,\n",
    "            account_for_planet,\n",
    "            combine=\"median\"\n",
    "    ):\n",
    "        # 1.) move everything to the GPU\n",
    "        x_train = torch.from_numpy(self.data_cube).float()\n",
    "\n",
    "        # 2.) Get the current planet signal and subtract it if requested\n",
    "        if account_for_planet:\n",
    "            planet_model_idx = torch.from_numpy(np.arange(x_train.shape[0]))\n",
    "            planet_signal = self.planet_model.forward(planet_model_idx)\n",
    "\n",
    "            # 3.) Get the current data without the planet\n",
    "            data_no_planet = x_train - planet_signal.squeeze().detach()\n",
    "            del planet_signal\n",
    "        else:\n",
    "            data_no_planet = x_train\n",
    "\n",
    "        # 4.) Set up the normalization\n",
    "        if self.noise_model.normalization == \"normal\":\n",
    "            x_mu = torch.mean(data_no_planet, axis=0)\n",
    "            x_std = torch.std(data_no_planet, axis=0)\n",
    "        elif self.noise_model.normalization == \"robust\":\n",
    "            x_mu = torch.median(data_no_planet, dim=0).values\n",
    "            iqr_frame = iqr(data_no_planet.numpy(), axis=0, scale=1.349)\n",
    "            x_std = torch.from_numpy(iqr_frame).float()\n",
    "        else:\n",
    "            raise ValueError(\"normalization type unknown.\")\n",
    "\n",
    "        # 5.) get the current normalized data\n",
    "        x_norm = (x_train - x_mu) / x_std\n",
    "        x_no_planet = (data_no_planet - x_mu) / x_std\n",
    "        del data_no_planet\n",
    "\n",
    "        # 6.) reshape everything\n",
    "        science_norm_flatten = x_norm.view(x_norm.shape[0], -1)\n",
    "        science_norm_flatten_no_planet = x_no_planet.view(x_norm.shape[0], -1)\n",
    "\n",
    "        # 7.) compute the noise estimate\n",
    "        noise_estimate = self.noise_model(science_norm_flatten_no_planet)\n",
    "\n",
    "        # 8.) compute the residual sequence\n",
    "        residual_sequence = science_norm_flatten - noise_estimate\n",
    "        residual_stack = residual_sequence.view(\n",
    "            x_train.shape[0],\n",
    "            self.noise_model.image_size,\n",
    "            self.noise_model.image_size).detach().cpu().numpy()\n",
    "\n",
    "        # 9.) Compute the unbiased median / mean frame\n",
    "        residuals_unbiased = science_norm_flatten_no_planet - noise_estimate\n",
    "        residuals_unbiased = residuals_unbiased.view(\n",
    "            x_train.shape[0],\n",
    "            self.noise_model.image_size,\n",
    "            self.noise_model.image_size).detach().cpu().numpy()\n",
    "\n",
    "        if combine == \"mean\":\n",
    "            unbiased_me_frame = np.mean(residuals_unbiased, axis=0)\n",
    "            combine_tag = \"Mean_Residuals\"\n",
    "        else:\n",
    "            unbiased_me_frame = np.median(residuals_unbiased, axis=0)\n",
    "            combine_tag = \"Median_Residuals\"\n",
    "\n",
    "        del residuals_unbiased\n",
    "\n",
    "        # 10.) Compute the residual image\n",
    "        residual_stack = residual_stack - unbiased_me_frame\n",
    "\n",
    "        residual_after_fine_tuning = combine_residual_stack(\n",
    "            residual_stack=residual_stack,\n",
    "            angles=self.parang,\n",
    "            combine=[combine_tag, ],\n",
    "            suffix=\"\",\n",
    "            num_cpus=8)[combine_tag]\n",
    "\n",
    "        return residual_after_fine_tuning\n"
   ]
  },
  {
   "cell_type": "markdown",
   "id": "13d701a9",
   "metadata": {},
   "source": [
    "# All files we need"
   ]
  },
  {
   "cell_type": "code",
   "execution_count": 25,
   "id": "e1762c24",
   "metadata": {},
   "outputs": [],
   "source": [
    "# 1.) Load the arguments\n",
    "dataset_hdf5_file = \"/fast/mbonse/s4/30_data/HD22049_304_199_C-0065_C_.hdf5\"\n",
    "reg_lambda = 1934\n",
    "s4_work_dir = \"/fast/mbonse/s4/70_results/03_contrast_grid/debug_retain_graph/\"\n",
    "saved_model = \"/fast/mbonse/s4/70_results/03_contrast_grid/finished/HD22049_304_199_C-0065_C_/results/0000/models/noise_model_closed_form.pkl\""
   ]
  },
  {
   "cell_type": "markdown",
   "id": "2f43c476",
   "metadata": {},
   "source": [
    "# Load the data"
   ]
  },
  {
   "cell_type": "code",
   "execution_count": 41,
   "id": "6d2b46aa",
   "metadata": {},
   "outputs": [],
   "source": [
    "science_data, raw_angles, raw_psf_template_data = \\\n",
    "    load_adi_data(\n",
    "        hdf5_dataset=dataset_hdf5_file,\n",
    "        data_tag=\"object\",\n",
    "        psf_template_tag=\"psf_template\",\n",
    "        para_tag=\"header_object/PARANG\")\n",
    "\n",
    "science_data = science_data[:, 12:-12, 12:-12]\n",
    "\n",
    "# Background subtraction of the PSF template\n",
    "psf_template_data = np.median(raw_psf_template_data, axis=0)\n",
    "psf_template_data = psf_template_data - np.min(psf_template_data)"
   ]
  },
  {
   "cell_type": "markdown",
   "id": "be5dca24",
   "metadata": {},
   "source": [
    "# Create and restore the model"
   ]
  },
  {
   "cell_type": "code",
   "execution_count": 111,
   "id": "73b21995",
   "metadata": {},
   "outputs": [
    {
     "name": "stdout",
     "output_type": "stream",
     "text": [
      "Creating right reason mask ... [DONE]\n"
     ]
    }
   ],
   "source": [
    "s4_model = S4(\n",
    "    data_cube=science_data,\n",
    "    parang=raw_angles,\n",
    "    psf_template=psf_template_data,\n",
    "    noise_noise_cut_radius_psf=4.0,\n",
    "    noise_mask_radius=5.5,\n",
    "    device=0,\n",
    "    noise_lambda_init=reg_lambda,\n",
    "    noise_normalization=\"normal\",\n",
    "    planet_convolve_second=True,\n",
    "    planet_use_up_sample=1,\n",
    "    work_dir=s4_work_dir,\n",
    "    verbose=True)"
   ]
  },
  {
   "cell_type": "code",
   "execution_count": 112,
   "id": "fdd5fa16",
   "metadata": {},
   "outputs": [
    {
     "name": "stdout",
     "output_type": "stream",
     "text": [
      "Creating right reason mask ... [DONE]\n"
     ]
    }
   ],
   "source": [
    "s4_noise = S4Noise.load(saved_model)"
   ]
  },
  {
   "cell_type": "code",
   "execution_count": 113,
   "id": "b3d79454",
   "metadata": {},
   "outputs": [],
   "source": [
    "s4_model.noise_model = s4_noise.float()"
   ]
  },
  {
   "cell_type": "markdown",
   "id": "d276424c",
   "metadata": {},
   "source": [
    "# Compute one test residual"
   ]
  },
  {
   "cell_type": "code",
   "execution_count": 115,
   "id": "99d65eee",
   "metadata": {},
   "outputs": [],
   "source": [
    "residual_before_fine_tuning = s4_model.compute_residual(\n",
    "    account_for_planet=False,\n",
    "    combine=\"mean\")"
   ]
  },
  {
   "cell_type": "code",
   "execution_count": 116,
   "id": "af1ceef2",
   "metadata": {},
   "outputs": [
    {
     "data": {
      "text/plain": [
       "<matplotlib.image.AxesImage at 0x154d7aa80d00>"
      ]
     },
     "execution_count": 116,
     "metadata": {},
     "output_type": "execute_result"
    },
    {
     "data": {
      "image/png": "[encoded data removed]",
      "text/plain": [
       "<Figure size 640x480 with 1 Axes>"
      ]
     },
     "metadata": {},
     "output_type": "display_data"
    }
   ],
   "source": [
    "plt.imshow(residual_before_fine_tuning)"
   ]
  },
  {
   "cell_type": "markdown",
   "id": "34f1047b",
   "metadata": {},
   "source": [
    "# Fine-tune the model"
   ]
  },
  {
   "cell_type": "code",
   "execution_count": 114,
   "id": "933015ab",
   "metadata": {},
   "outputs": [
    {
     "data": {
      "application/vnd.jupyter.widget-view+json": {
       "model_id": "1d8cd72dcd3e4057bccf35648edcf054",
       "version_major": 2,
       "version_minor": 0
      },
      "text/plain": [
       "  0%|          | 0/100 [00:00<?, ?it/s]"
      ]
     },
     "metadata": {},
     "output_type": "display_data"
    }
   ],
   "source": [
    "s4_model.fine_tune_model(\n",
    "    num_epochs=100,\n",
    "    learning_rate_planet=1e-3,\n",
    "    learning_rate_noise=1e-6,\n",
    "    fine_tune_noise_model=True,\n",
    "    lean_planet_model=False,\n",
    "    rotation_grid_down_sample=10,\n",
    "    upload_rotation_grid=True,\n",
    "    batch_size=-1)"
   ]
  },
  {
   "cell_type": "markdown",
   "id": "273a2074",
   "metadata": {},
   "source": [
    "# Load the raw model again"
   ]
  },
  {
   "cell_type": "code",
   "execution_count": 117,
   "id": "cd8342dc",
   "metadata": {},
   "outputs": [
    {
     "name": "stdout",
     "output_type": "stream",
     "text": [
      "Creating right reason mask ... [DONE]\n"
     ]
    }
   ],
   "source": [
    "s4_model_raw = S4(\n",
    "    data_cube=science_data,\n",
    "    parang=raw_angles,\n",
    "    psf_template=psf_template_data,\n",
    "    noise_noise_cut_radius_psf=4.0,\n",
    "    noise_mask_radius=5.5,\n",
    "    device=0,\n",
    "    noise_lambda_init=reg_lambda,\n",
    "    noise_normalization=\"normal\",\n",
    "    planet_convolve_second=True,\n",
    "    planet_use_up_sample=1,\n",
    "    work_dir=s4_work_dir,\n",
    "    verbose=True)"
   ]
  },
  {
   "cell_type": "code",
   "execution_count": 118,
   "id": "3caf9397",
   "metadata": {},
   "outputs": [
    {
     "name": "stdout",
     "output_type": "stream",
     "text": [
      "Creating right reason mask ... [DONE]\n"
     ]
    }
   ],
   "source": [
    "s4_noise_raw = S4Noise.load(saved_model)\n",
    "s4_model_raw.noise_model = s4_noise_raw.float()"
   ]
  },
  {
   "cell_type": "markdown",
   "id": "7d72cc63",
   "metadata": {},
   "source": [
    "# Compute the loss terms"
   ]
  },
  {
   "cell_type": "code",
   "execution_count": 119,
   "id": "5298336c",
   "metadata": {},
   "outputs": [],
   "source": [
    "def compute_noise_estimate(model_in):\n",
    "    # get all the data\n",
    "    x_train = torch.from_numpy(model_in.data_cube).float()\n",
    "    x_mu = torch.mean(x_train, axis=0)\n",
    "    x_std = torch.std(x_train, axis=0)\n",
    "    x_norm = (x_train - x_mu) / x_std\n",
    "    \n",
    "    # run the forward pass\n",
    "    science_norm_flatten = x_norm.view(x_norm.shape[0], -1)\n",
    "    model_in.noise_model.compute_betas()\n",
    "    noise_estimate = model_in.noise_model(science_norm_flatten)\n",
    "    \n",
    "    return x_norm.view(-1, 117, 117).detach().numpy(), noise_estimate.view(-1, 117, 117).detach().numpy()"
   ]
  },
  {
   "cell_type": "code",
   "execution_count": 120,
   "id": "d09a3c8c",
   "metadata": {},
   "outputs": [],
   "source": [
    "data_raw, noise_raw = compute_noise_estimate(s4_model_raw)\n",
    "data_fine_tuned, noise_fine_tuned = compute_noise_estimate(s4_model)"
   ]
  },
  {
   "cell_type": "markdown",
   "id": "3cfc80c2",
   "metadata": {},
   "source": [
    "## The loss terms"
   ]
  },
  {
   "cell_type": "code",
   "execution_count": 121,
   "id": "c29f034a",
   "metadata": {},
   "outputs": [
    {
     "data": {
      "text/plain": [
       "376152500.0"
      ]
     },
     "execution_count": 121,
     "metadata": {},
     "output_type": "execute_result"
    }
   ],
   "source": [
    "np.sum((data_raw - noise_raw)**2)"
   ]
  },
  {
   "cell_type": "code",
   "execution_count": 122,
   "id": "5bc29458",
   "metadata": {},
   "outputs": [
    {
     "data": {
      "text/plain": [
       "376102270.0"
      ]
     },
     "execution_count": 122,
     "metadata": {},
     "output_type": "execute_result"
    }
   ],
   "source": [
    "np.sum((data_fine_tuned - noise_fine_tuned)**2)"
   ]
  },
  {
   "cell_type": "code",
   "execution_count": 123,
   "id": "76946d88",
   "metadata": {},
   "outputs": [
    {
     "data": {
      "text/plain": [
       "8281.342"
      ]
     },
     "execution_count": 123,
     "metadata": {},
     "output_type": "execute_result"
    }
   ],
   "source": [
    "np.sum((s4_model_raw.noise_model.betas_raw **2).detach().numpy())"
   ]
  },
  {
   "cell_type": "code",
   "execution_count": 124,
   "id": "0da40284",
   "metadata": {},
   "outputs": [
    {
     "data": {
      "text/plain": [
       "8281.322"
      ]
     },
     "execution_count": 124,
     "metadata": {},
     "output_type": "execute_result"
    }
   ],
   "source": [
    "np.sum((s4_model.noise_model.betas_raw **2).detach().numpy())"
   ]
  },
  {
   "cell_type": "code",
   "execution_count": 125,
   "id": "ee6f81d6",
   "metadata": {},
   "outputs": [],
   "source": [
    "errors_raw = np.mean((data_raw - noise_raw)**2, axis=(1, 2))\n",
    "errors_fine_tuned = np.mean((data_raw - noise_fine_tuned)**2, axis=(1, 2))"
   ]
  },
  {
   "cell_type": "code",
   "execution_count": 126,
   "id": "b2bd0ce7",
   "metadata": {},
   "outputs": [
    {
     "data": {
      "text/plain": [
       "[<matplotlib.lines.Line2D at 0x154d7a03a3e0>]"
      ]
     },
     "execution_count": 126,
     "metadata": {},
     "output_type": "execute_result"
    },
    {
     "data": {
      "image/png": "[encoded data removed]",
      "text/plain": [
       "<Figure size 640x480 with 1 Axes>"
      ]
     },
     "metadata": {},
     "output_type": "display_data"
    }
   ],
   "source": [
    "plt.plot(errors_raw - errors_fine_tuned)"
   ]
  },
  {
   "cell_type": "code",
   "execution_count": 127,
   "id": "49721baa",
   "metadata": {},
   "outputs": [],
   "source": [
    "beta_difference = s4_model.noise_model.betas - s4_model_raw.noise_model.betas"
   ]
  },
  {
   "cell_type": "code",
   "execution_count": 128,
   "id": "375dcad0",
   "metadata": {},
   "outputs": [],
   "source": [
    "most_changed_region = torch.mean(torch.abs(beta_difference), axis=0).reshape(117, 117)"
   ]
  },
  {
   "cell_type": "code",
   "execution_count": 129,
   "id": "3c32a9de",
   "metadata": {},
   "outputs": [
    {
     "data": {
      "text/plain": [
       "(-0.5, 116.5, 116.5, -0.5)"
      ]
     },
     "execution_count": 129,
     "metadata": {},
     "output_type": "execute_result"
    },
    {
     "data": {
      "image/png": "[encoded data removed]",
      "text/plain": [
       "<Figure size 640x480 with 1 Axes>"
      ]
     },
     "metadata": {},
     "output_type": "display_data"
    }
   ],
   "source": [
    "plt.imshow(most_changed_region.detach().numpy())\n",
    "plt.axis(\"off\")"
   ]
  },
  {
   "cell_type": "code",
   "execution_count": null,
   "id": "50a5d044",
   "metadata": {},
   "outputs": [],
   "source": []
  }
 ],
 "metadata": {
  "kernelspec": {
   "display_name": "Python 3 (ipykernel)",
   "language": "python",
   "name": "python3"
  },
  "language_info": {
   "codemirror_mode": {
    "name": "ipython",
    "version": 3
   },
   "file_extension": ".py",
   "mimetype": "text/x-python",
   "name": "python",
   "nbconvert_exporter": "python",
   "pygments_lexer": "ipython3",
   "version": "3.10.10"
  }
 },
 "nbformat": 4,
 "nbformat_minor": 5
}
