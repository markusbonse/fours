{
 "cells": [
  {
   "cell_type": "markdown",
   "id": "e426b757",
   "metadata": {},
   "source": [
    "The idea of this test is to check if the noise model matrix B of 4S changes if the planet is in the data. Can we compute it once for contrast curves and MCMC?"
   ]
  },
  {
   "cell_type": "code",
   "execution_count": 1,
   "id": "8de8f19b",
   "metadata": {},
   "outputs": [],
   "source": [
    "import sys\n",
    "from copy import deepcopy\n",
    "from pathlib import Path\n",
    "import numpy as np\n",
    "import json\n",
    "from applefy.detections.contrast import Contrast\n",
    "import matplotlib.pyplot as plt\n",
    "\n",
    "from fours.utils.data_handling import load_adi_data\n",
    "from fours.detection_limits.applefy_wrapper import FourSDataReduction\n",
    "from fours.models.psf_subtraction import FourS\n",
    "\n",
    "from applefy.utils.file_handling import open_fits\n",
    "from applefy.utils.fake_planets import add_fake_planets\n",
    "from applefy.utils.photometry import flux_ratio2mag, mag2flux_ratio"
   ]
  },
  {
   "cell_type": "code",
   "execution_count": 38,
   "id": "0ace5ca9",
   "metadata": {},
   "outputs": [],
   "source": [
    "from typing import Union\n",
    "from pathlib import Path\n",
    "from datetime import datetime\n",
    "\n",
    "import numpy as np\n",
    "from tqdm.auto import tqdm\n",
    "\n",
    "import torch\n",
    "from torch import optim\n",
    "from torch.utils.tensorboard import SummaryWriter\n",
    "\n",
    "from fours.models.noise import FourSNoise\n",
    "from fours.models.normalization import FourSFrameNormalization\n",
    "from fours.models.rotation import FieldRotationModel\n",
    "\n",
    "from fours.utils.data_handling import save_as_fits\n",
    "from fours.utils.logging import normalize_for_tensorboard\n",
    "from fours.utils.fwhm import get_fwhm\n",
    "from fours.utils.adi_tools import combine_residual_stack\n",
    "\n",
    "\n",
    "class FourS:\n",
    "\n",
    "    def __init__(\n",
    "            self,\n",
    "            science_cube,\n",
    "            adi_angles,\n",
    "            psf_template,\n",
    "            noise_model_lambda,\n",
    "            psf_fwhm=None,\n",
    "            right_reason_mask_factor=1.5,\n",
    "            rotation_grid_subsample=1,\n",
    "            device=0,\n",
    "            work_dir=None,\n",
    "            verbose=True,\n",
    "    ):\n",
    "        # 0.) If some parameters are not given, set them to default values\n",
    "        if psf_fwhm is None:\n",
    "            psf_fwhm = get_fwhm(psf_template)\n",
    "        right_reason_mask_radius = psf_fwhm * right_reason_mask_factor\n",
    "\n",
    "        # 1.) Save all member data\n",
    "        self.right_reason_mask_factor = right_reason_mask_factor\n",
    "        self.device = device\n",
    "        self.verbose = verbose\n",
    "        self.adi_angles = adi_angles\n",
    "        self.science_cube = torch.from_numpy(science_cube).float()\n",
    "        self.psf_template = psf_template\n",
    "        self.data_image_size = self.science_cube.shape[-1]\n",
    "\n",
    "        if work_dir is not None:\n",
    "            self.work_dir = Path(work_dir)\n",
    "        else:\n",
    "            self.work_dir = None\n",
    "        self.residuals_dir, self.tensorboard_dir, self.models_dir = \\\n",
    "            self._setup_work_dir()\n",
    "\n",
    "        # 2.) Create the noise model\n",
    "        self.noise_model = FourSNoise(\n",
    "            data_image_size=self.data_image_size,\n",
    "            psf_template=self.psf_template,\n",
    "            lambda_reg=noise_model_lambda,\n",
    "            cut_radius_psf=psf_fwhm,\n",
    "            right_reason_mask_radius=right_reason_mask_radius,\n",
    "            convolve=True).float()\n",
    "\n",
    "        # 2.1) Create the rotation model\n",
    "        self.rotation_model = FieldRotationModel(\n",
    "            all_angles=self.adi_angles,\n",
    "            input_size=self.data_image_size,\n",
    "            subsample=rotation_grid_subsample,\n",
    "            inverse=False,\n",
    "            register_grid=True).float()\n",
    "\n",
    "        # 3.) Create normalization model\n",
    "        self.normalization_model = FourSFrameNormalization(\n",
    "            image_size=self.data_image_size,\n",
    "            normalization_type=\"normal\").float()\n",
    "        self.normalization_model.prepare_normalization(\n",
    "            science_data=self.science_cube)\n",
    "\n",
    "        # 5.) Create the tensorboard logger for the fine_tuning\n",
    "        self.tensorboard_logger = None\n",
    "        self.fine_tune_start_time = None\n",
    "\n",
    "    @classmethod\n",
    "    def create_from_checkpoint(\n",
    "            cls,\n",
    "            noise_model_file: str,\n",
    "            normalization_model_file: Union[str, Path, None],\n",
    "            s4_work_dir: Union[str, Path, None],\n",
    "            science_cube: np.ndarray,\n",
    "            adi_angles: np.ndarray,\n",
    "            psf_template: np.ndarray,\n",
    "            device: Union[int, str],\n",
    "            verbose: bool = True):\n",
    "\n",
    "        # create the s4 model\n",
    "        s4_model = cls(\n",
    "            science_cube=science_cube,\n",
    "            adi_angles=adi_angles,\n",
    "            psf_template=psf_template,\n",
    "            noise_cut_radius_psf=1,  # will be restored\n",
    "            noise_mask_radius=1,  # will be restored\n",
    "            device=device,\n",
    "            negative_wing_suppression=False,  # will be restored\n",
    "            noise_model_convolve=True,  # will be restored\n",
    "            noise_normalization=\"normal\",  # will be restored\n",
    "            work_dir=s4_work_dir,\n",
    "            verbose=verbose)\n",
    "\n",
    "        # restore the noise and normalization model\n",
    "        s4_model.restore_models(\n",
    "            file_noise_model=noise_model_file,\n",
    "            file_normalization_model=normalization_model_file,\n",
    "            verbose=verbose)\n",
    "\n",
    "        return s4_model\n",
    "\n",
    "    @staticmethod\n",
    "    def _print_progress(msg):\n",
    "        def decorator(function):\n",
    "            def wrapper(self, *args, **kwargs):\n",
    "                if self.verbose:\n",
    "                    print(msg + \" ... \", end='')\n",
    "                    result = function(self, *args, **kwargs)\n",
    "                    print(\"[DONE]\")\n",
    "                else:\n",
    "                    result = function(self, *args, **kwargs)\n",
    "                return result\n",
    "            return wrapper\n",
    "        return decorator\n",
    "\n",
    "    def _setup_work_dir(self):\n",
    "        if self.work_dir is None:\n",
    "            return None, None, None\n",
    "\n",
    "        # make sure the working dir is a dir\n",
    "        self.work_dir.mkdir(exist_ok=True)\n",
    "\n",
    "        residuals_dir = self.work_dir / \"residuals\"\n",
    "        tensorboard_dir = self.work_dir / \"tensorboard\"\n",
    "        models_dir = self.work_dir / \"models\"\n",
    "\n",
    "        residuals_dir.mkdir(exist_ok=True)\n",
    "        tensorboard_dir.mkdir(exist_ok=True)\n",
    "        models_dir.mkdir(exist_ok=True)\n",
    "\n",
    "        return residuals_dir, tensorboard_dir, models_dir\n",
    "\n",
    "    @_print_progress(\"4S model: saving model\")\n",
    "    def save_models(\n",
    "            self,\n",
    "            file_name_noise_model,\n",
    "            file_name_normalization_model):\n",
    "\n",
    "        if self.models_dir is None:\n",
    "            raise FileNotFoundError(\n",
    "                \"Saving the model requires a work directory.\")\n",
    "\n",
    "        self.normalization_model.save(\n",
    "            self.models_dir / file_name_normalization_model)\n",
    "        self.noise_model.save(\n",
    "            self.models_dir / file_name_noise_model)\n",
    "\n",
    "    @_print_progress(\"4S model: restoring models\")\n",
    "    def restore_models(\n",
    "            self,\n",
    "            file_noise_model=None,\n",
    "            file_normalization_model=None):\n",
    "\n",
    "        if file_noise_model is not None:\n",
    "            self.noise_model = FourSNoise.load(file_noise_model)\n",
    "\n",
    "        if file_normalization_model is not None:\n",
    "            self.normalization_model = FourSFrameNormalization.load(\n",
    "                file_normalization_model)\n",
    "\n",
    "    def _logg_loss_values(\n",
    "            self,\n",
    "            epoch,\n",
    "            loss_recon,\n",
    "            loss_reg):\n",
    "\n",
    "        if self.work_dir is None:\n",
    "            return\n",
    "\n",
    "        self.tensorboard_logger.add_scalar(\n",
    "            \"Loss/Reconstruction_loss\",\n",
    "            loss_recon,\n",
    "            epoch)\n",
    "\n",
    "        self.tensorboard_logger.add_scalar(\n",
    "            \"Loss/Regularization_loss\",\n",
    "            loss_reg,\n",
    "            epoch)\n",
    "\n",
    "    def _logg_residuals(\n",
    "            self,\n",
    "            epoch,\n",
    "            residual_mean,\n",
    "            residual_median,\n",
    "            training_name):\n",
    "\n",
    "        self.tensorboard_logger.add_image(\n",
    "            \"Images/Residual\",\n",
    "            normalize_for_tensorboard(residual_mean),\n",
    "            epoch,\n",
    "            dataformats=\"HW\")\n",
    "\n",
    "        self.tensorboard_logger.add_image(\n",
    "            \"Images/Residual_Median\",\n",
    "            normalize_for_tensorboard(residual_median),\n",
    "            epoch,\n",
    "            dataformats=\"HW\")\n",
    "\n",
    "        self.tensorboard_logger.add_image(\n",
    "            \"Images/Intercept\",\n",
    "            normalize_for_tensorboard(\n",
    "                self.noise_model.intercept.detach().cpu().numpy()),\n",
    "            epoch,\n",
    "            dataformats=\"HW\")\n",
    "\n",
    "        tmp_residual_dir = self.residuals_dir / \\\n",
    "            Path(training_name + \"_\" + self.fine_tune_start_time)\n",
    "        tmp_residual_dir.mkdir(exist_ok=True)\n",
    "\n",
    "        save_as_fits(\n",
    "            residual_mean,\n",
    "            tmp_residual_dir /\n",
    "            Path(\"Residual_Mean_epoch_\" + str(epoch).zfill(4)\n",
    "                 + \".fits\"),\n",
    "            overwrite=True)\n",
    "\n",
    "        save_as_fits(\n",
    "            residual_median,\n",
    "            tmp_residual_dir /\n",
    "            Path(\"Residual_Median_epoch_\" + str(epoch).zfill(4)\n",
    "                 + \".fits\"),\n",
    "            overwrite=True)\n",
    "\n",
    "    def _create_tensorboard_logger(self, training_name):\n",
    "        time_str = datetime.now().strftime(\"%Y-%m-%d-%Hh%Mm%Ss\")\n",
    "        self.fine_tune_start_time = time_str\n",
    "        current_logdir = self.tensorboard_dir / \\\n",
    "            Path(training_name + \"_\" + self.fine_tune_start_time)\n",
    "        current_logdir.mkdir()\n",
    "        self.tensorboard_logger = SummaryWriter(current_logdir)\n",
    "\n",
    "    def _get_residual_sequence(self):\n",
    "        # 0.) Normalize the science data\n",
    "        x_norm = self.normalization_model(self.science_cube)\n",
    "        science_norm_flatten = x_norm.view(x_norm.shape[0], -1)\n",
    "\n",
    "        # 1.) run the forward path of the noise model\n",
    "        self.noise_model.compute_betas()\n",
    "        noise_estimate = self.noise_model(science_norm_flatten)\n",
    "\n",
    "        # 2.) compute the residual and rotate it\n",
    "        residual_sequence = science_norm_flatten - noise_estimate\n",
    "        residual_sequence = residual_sequence.view(\n",
    "            residual_sequence.shape[0],\n",
    "            1,\n",
    "            self.data_image_size,\n",
    "            self.data_image_size)\n",
    "        \n",
    "        # new code\n",
    "        residual_sequence_mean_sub = residual_sequence - torch.mean(residual_sequence[:,0], axis=0)\n",
    "\n",
    "        rotated_residual_sequence = self.rotation_model(\n",
    "            residual_sequence_mean_sub,\n",
    "            parang_idx=torch.arange(len(residual_sequence_mean_sub)))\n",
    "\n",
    "        return rotated_residual_sequence, residual_sequence_mean_sub\n",
    "\n",
    "    @_print_progress(\"S4 model: Fit noise model\")\n",
    "    def fit_noise_model(\n",
    "            self,\n",
    "            num_epochs,\n",
    "            training_name=\"\",\n",
    "            logging_interval=1,\n",
    "            fit_intercept=False,\n",
    "            optimizer=None,\n",
    "            optimizer_kwargs=None):\n",
    "\n",
    "        # 1.) Create the tensorboard logger\n",
    "        if self.work_dir is not None:\n",
    "            self._create_tensorboard_logger(training_name)\n",
    "\n",
    "        # 2.) move models to the GPU\n",
    "        self.noise_model = self.noise_model.to(self.device)\n",
    "        self.rotation_model = self.rotation_model.to(self.device)\n",
    "        self.science_cube = self.science_cube.to(self.device)\n",
    "        self.normalization_model = self.normalization_model.to(self.device)\n",
    "\n",
    "        # 3.) Create the optimizer and add the parameters we want to optimize\n",
    "        trainable_params = [self.noise_model.betas_raw, ]\n",
    "        if fit_intercept:\n",
    "            trainable_params.append(self.noise_model.intercept)\n",
    "\n",
    "        if optimizer is not None:\n",
    "            optimizer = optimizer(\n",
    "                trainable_params,\n",
    "                **optimizer_kwargs)\n",
    "        else:\n",
    "            if optimizer_kwargs is None:\n",
    "                optimizer_kwargs = {\n",
    "                    \"max_iter\": 20,\n",
    "                    \"history_size\": 10}\n",
    "\n",
    "            optimizer = optim.LBFGS(\n",
    "                trainable_params,\n",
    "                **optimizer_kwargs)\n",
    "\n",
    "        # 4.) Run the optimization\n",
    "        for epoch in tqdm(range(num_epochs)):\n",
    "\n",
    "            def full_closure(compute_residuals):\n",
    "                optimizer.zero_grad()\n",
    "\n",
    "                # 4.1) Get the residual sequence\n",
    "                rotated_residual_sequence, residual_sequence = (\n",
    "                    self._get_residual_sequence())\n",
    "\n",
    "                # 4.2) Compute the loss\n",
    "                loss_recon = torch.var(rotated_residual_sequence, axis=0).sum()\n",
    "                loss_recon *= rotated_residual_sequence.shape[0]\n",
    "\n",
    "                loss_reg = (self.noise_model.betas_raw ** 2).sum() \\\n",
    "                    * self.noise_model.lambda_reg\n",
    "\n",
    "                # 4.3) Backward\n",
    "                loss = loss_recon + loss_reg\n",
    "                loss.backward()\n",
    "\n",
    "                if compute_residuals:\n",
    "                    residual = torch.mean(\n",
    "                        rotated_residual_sequence, axis=0)[\n",
    "                        0].detach().cpu().numpy()\n",
    "                    residual_median = torch.median(\n",
    "                        rotated_residual_sequence, axis=0)[0][\n",
    "                        0].detach().cpu().numpy()\n",
    "\n",
    "                    return loss_recon, loss_reg, residual, residual_median\n",
    "                else:\n",
    "                    return loss, loss_recon, loss_reg\n",
    "\n",
    "            def loss_closure():\n",
    "                return full_closure(False)[0]\n",
    "\n",
    "            optimizer.step(loss_closure)\n",
    "\n",
    "            # 5.) Logg the information\n",
    "            if epoch % logging_interval == 0:\n",
    "                # Logg the full information with residuals\n",
    "                # x.) get current residuals\n",
    "                current_loss_recon, \\\n",
    "                    current_loss_reg, \\\n",
    "                    current_residual, \\\n",
    "                    current_residual_median = full_closure(True)\n",
    "\n",
    "                self._logg_residuals(\n",
    "                    epoch=epoch,\n",
    "                    residual_mean=current_residual,\n",
    "                    residual_median=current_residual_median,\n",
    "                    training_name=training_name)\n",
    "\n",
    "                self._logg_loss_values(\n",
    "                    epoch=epoch,\n",
    "                    loss_recon=current_loss_recon,\n",
    "                    loss_reg=current_loss_reg)\n",
    "\n",
    "            else:\n",
    "                # Logg the loss information\n",
    "                _, current_loss_recon, current_loss_reg = full_closure(False)\n",
    "\n",
    "        # 7.) Clean up GPU\n",
    "        self.noise_model = self.noise_model.cpu()\n",
    "        self.rotation_model = self.rotation_model.cpu()\n",
    "        self.normalization_model = self.normalization_model.cpu()\n",
    "        self.science_cube = self.science_cube.cpu()\n",
    "        torch.cuda.empty_cache()\n",
    "\n",
    "    @_print_progress(\"S4 model: computing residual\")\n",
    "    @torch.no_grad()\n",
    "    def compute_residuals(self, num_cpus=4):\n",
    "\n",
    "        # 1.) Get the residual sequence\n",
    "        rotated_residual_sequence, residual_sequence = (\n",
    "            self._get_residual_sequence())\n",
    "\n",
    "        # 2.) Compute the residual image (mean)\n",
    "        mean_residual = torch.mean(rotated_residual_sequence,\n",
    "                                   axis=0)[0].cpu().numpy()\n",
    "\n",
    "        # 3.) Compute the residual image (median)\n",
    "        median_residual = torch.median(rotated_residual_sequence,\n",
    "                                       axis=0)[0][0].cpu().numpy()\n",
    "\n",
    "        return mean_residual, median_residual\n"
   ]
  },
  {
   "cell_type": "markdown",
   "id": "159dbd65",
   "metadata": {},
   "source": [
    "# Load the data"
   ]
  },
  {
   "cell_type": "code",
   "execution_count": 39,
   "id": "8eec8629",
   "metadata": {},
   "outputs": [],
   "source": [
    "dataset_file = Path(\"/fast/mbonse/s4/30_data/HD22049_303_199_C-0065_C_.hdf5\")\n",
    "experiment_root_dir = Path(\"/fast/mbonse/s4/70_results/09_new_rotation_loss/x2_different_residual_creations/\")\n",
    "exp_id = str(\"0123a\")\n",
    "use_rotation_loss = True\n",
    "lambda_reg = float(850)"
   ]
  },
  {
   "cell_type": "code",
   "execution_count": 40,
   "id": "fafcdd1a",
   "metadata": {},
   "outputs": [],
   "source": [
    "science_data, angles, raw_psf_template_data = \\\n",
    "    load_adi_data(\n",
    "        hdf5_dataset=str(dataset_file),\n",
    "        data_tag=\"object_stacked_05\",\n",
    "        psf_template_tag=\"psf_template\",\n",
    "        para_tag=\"header_object_stacked_05/PARANG\")\n",
    "\n",
    "psf_template = np.median(raw_psf_template_data, axis=0)\n",
    "\n",
    "# other parameters\n",
    "dit_psf_template = 0.0042560\n",
    "dit_science = 0.08\n",
    "fwhm = 3.6\n",
    "pixel_scale = 0.02718\n",
    "\n",
    "# we cut the image to 91 x 91 pixel to be slightly larger than 1.2 arcsec\n",
    "cut_off = int((science_data.shape[1] - 91) / 2)\n",
    "science_data = science_data[:, cut_off:-cut_off, cut_off:-cut_off]"
   ]
  },
  {
   "cell_type": "code",
   "execution_count": 41,
   "id": "beb4e6e2",
   "metadata": {},
   "outputs": [],
   "source": [
    "dataset_id = \"0115b\"\n",
    "\n",
    "# add the fake planet\n",
    "fake_planet_config_file = \"/fast/mbonse/s4/70_results/10_contrast_grids/HD22049_303_199_C-0065_C_/configs_cgrid/exp_ID_\" + exp_id + \".json\"\n",
    "with open(fake_planet_config_file) as json_file:\n",
    "    fake_planet_config = json.load(json_file)"
   ]
  },
  {
   "cell_type": "code",
   "execution_count": 42,
   "id": "78ce0411",
   "metadata": {},
   "outputs": [],
   "source": [
    "#fake_planet_config[\"flux_ratio\"] = mag2flux_ratio(9.5)"
   ]
  },
  {
   "cell_type": "code",
   "execution_count": 43,
   "id": "d2e3b8e3",
   "metadata": {},
   "outputs": [],
   "source": [
    "data_with_fake_planet = add_fake_planets(\n",
    "    input_stack=deepcopy(science_data),\n",
    "    psf_template=psf_template,\n",
    "    parang=angles,\n",
    "    dit_psf_template=0.004256,\n",
    "    dit_science=0.08,\n",
    "    experiment_config=fake_planet_config,\n",
    "    scaling_factor=1.0)"
   ]
  },
  {
   "cell_type": "markdown",
   "id": "02c4d738",
   "metadata": {},
   "source": [
    "# Implement the temporal exclusion"
   ]
  },
  {
   "cell_type": "code",
   "execution_count": 44,
   "id": "781ea8c7",
   "metadata": {},
   "outputs": [],
   "source": [
    "fwhm = 3.6\n",
    "margin = 0.5\n",
    "d = fwhm * 2.5\n",
    "\n",
    "angle_limits = np.sin(angles / 2) * 2 * d"
   ]
  },
  {
   "cell_type": "code",
   "execution_count": 45,
   "id": "7c9c1d2c",
   "metadata": {},
   "outputs": [],
   "source": [
    "idx = 10000\n",
    "mask = np.abs(angle_limits - angle_limits[idx]) > fwhm * margin"
   ]
  },
  {
   "cell_type": "code",
   "execution_count": 46,
   "id": "78362056",
   "metadata": {},
   "outputs": [
    {
     "data": {
      "text/plain": [
       "[<matplotlib.lines.Line2D at 0x14aa08133cd0>]"
      ]
     },
     "execution_count": 46,
     "metadata": {},
     "output_type": "execute_result"
    },
    {
     "data": {
      "image/png": "[encoded data removed]",
      "text/plain": [
       "<Figure size 640x480 with 1 Axes>"
      ]
     },
     "metadata": {},
     "output_type": "display_data"
    }
   ],
   "source": [
    "plt.plot(np.abs(angle_limits - angle_limits[idx]))\n",
    "plt.plot(mask)"
   ]
  },
  {
   "cell_type": "code",
   "execution_count": 47,
   "id": "c489f1d4",
   "metadata": {},
   "outputs": [],
   "source": [
    "def create_distance_array(a, b):\n",
    "    # Determine the coordinates of the central pixel\n",
    "    center_x, center_y = a // 2, b // 2\n",
    "    \n",
    "    # Create a grid of coordinates (x, y)\n",
    "    y, x = np.indices((a, b))\n",
    "    \n",
    "    # Calculate the Euclidean distance to the central pixel\n",
    "    distance_array = np.sqrt((x - center_x)**2 + (y - center_y)**2)\n",
    "    \n",
    "    return distance_array"
   ]
  },
  {
   "cell_type": "code",
   "execution_count": 48,
   "id": "7d8e1439",
   "metadata": {},
   "outputs": [],
   "source": [
    "distance_image = create_distance_array(\n",
    "    data_with_fake_planet.shape[-1],\n",
    "    data_with_fake_planet.shape[-2])"
   ]
  },
  {
   "cell_type": "code",
   "execution_count": 49,
   "id": "e0ea5e19",
   "metadata": {},
   "outputs": [],
   "source": [
    "angle_limits = np.sin(angles / 2) * 2\n",
    "\n",
    "distance_array = np.stack([distance_image] * data_with_fake_planet.shape[0], axis=0)\n",
    "distance_array = distance_array * angle_limits[:, np.newaxis, np.newaxis]"
   ]
  },
  {
   "cell_type": "code",
   "execution_count": 50,
   "id": "a6ae0e16",
   "metadata": {},
   "outputs": [
    {
     "data": {
      "text/plain": [
       "(11593, 91, 91)"
      ]
     },
     "execution_count": 50,
     "metadata": {},
     "output_type": "execute_result"
    }
   ],
   "source": [
    "distance_array.shape"
   ]
  },
  {
   "cell_type": "markdown",
   "id": "90035899",
   "metadata": {},
   "source": [
    "# Implement the mean calculation"
   ]
  },
  {
   "cell_type": "code",
   "execution_count": 51,
   "id": "79154bbe",
   "metadata": {},
   "outputs": [],
   "source": [
    "import torch\n",
    "from tqdm import tqdm"
   ]
  },
  {
   "cell_type": "code",
   "execution_count": 58,
   "id": "689666b0",
   "metadata": {},
   "outputs": [],
   "source": [
    "fwhm = 3.6\n",
    "margin = 0.2"
   ]
  },
  {
   "cell_type": "code",
   "execution_count": 59,
   "id": "8bfa90a3",
   "metadata": {},
   "outputs": [],
   "source": [
    "science_data_torch = torch.from_numpy(data_with_fake_planet).float().to(0)\n",
    "distance_array_torch = torch.from_numpy(distance_array).float().to(0)"
   ]
  },
  {
   "cell_type": "code",
   "execution_count": 60,
   "id": "c302bee1",
   "metadata": {},
   "outputs": [
    {
     "name": "stderr",
     "output_type": "stream",
     "text": [
      "100%|████████████████████████████████████████████████████████████████████████████████████████████████████████████████████████████████████████████████████████████████| 11593/11593 [00:31<00:00, 370.64it/s]\n"
     ]
    }
   ],
   "source": [
    "mean_frames = [] \n",
    "\n",
    "for idx in tqdm(range(distance_array_torch.shape[0])):\n",
    "    tmp_mask = torch.abs(distance_array_torch - distance_array_torch[idx]) >= fwhm * margin\n",
    "    tmp_mask_sum = torch.sum(tmp_mask, axis=0)\n",
    "    tmp_mask[:, tmp_mask_sum == 0] = 1\n",
    "\n",
    "    mean_frame = torch.mean(science_data_torch * tmp_mask, axis=0)\n",
    "    normalization = 1 / (torch.sum(tmp_mask, axis=0) / tmp_mask.shape[0])\n",
    "    mean_frame = mean_frame * normalization\n",
    "    \n",
    "    mean_frames.append(mean_frame)"
   ]
  },
  {
   "cell_type": "code",
   "execution_count": 61,
   "id": "9324b55e",
   "metadata": {},
   "outputs": [],
   "source": [
    "mean_frames = torch.stack(mean_frames)"
   ]
  },
  {
   "cell_type": "code",
   "execution_count": 62,
   "id": "8d448f51",
   "metadata": {},
   "outputs": [],
   "source": [
    "mean_frames_numpy = mean_frames.cpu().numpy()"
   ]
  },
  {
   "cell_type": "code",
   "execution_count": 63,
   "id": "b9a774e2",
   "metadata": {},
   "outputs": [
    {
     "data": {
      "text/plain": [
       "1046.9324"
      ]
     },
     "execution_count": 63,
     "metadata": {},
     "output_type": "execute_result"
    }
   ],
   "source": [
    "np.max(mean_frames_numpy[0]-mean_frames_numpy[-1])"
   ]
  },
  {
   "cell_type": "markdown",
   "id": "46f3730e",
   "metadata": {},
   "source": [
    "## Train 4S with the new data"
   ]
  },
  {
   "cell_type": "code",
   "execution_count": 64,
   "id": "6a3e928a",
   "metadata": {},
   "outputs": [],
   "source": [
    "experiment_root_dir = Path(\"/fast/mbonse/s4/70_results/test_temporal_exclusion/\")\n",
    "experiment_root_dir.mkdir(exist_ok=True)"
   ]
  },
  {
   "cell_type": "code",
   "execution_count": 71,
   "id": "5b9c14bf",
   "metadata": {},
   "outputs": [],
   "source": [
    "cleaned_science_data = data_with_fake_planet - mean_frames_numpy #np.mean(data_with_fake_planet, axis=0)"
   ]
  },
  {
   "cell_type": "code",
   "execution_count": 72,
   "id": "e81f3efb",
   "metadata": {},
   "outputs": [],
   "source": [
    "fours_model = FourS(\n",
    "    science_cube=cleaned_science_data,\n",
    "    adi_angles=angles,\n",
    "    psf_template=psf_template,\n",
    "    device=0,\n",
    "    work_dir=experiment_root_dir,\n",
    "    verbose=True,\n",
    "    rotation_grid_subsample=1,\n",
    "    noise_model_lambda=10000,\n",
    "    psf_fwhm=3.6,\n",
    "    right_reason_mask_factor=1.5)"
   ]
  },
  {
   "cell_type": "code",
   "execution_count": 73,
   "id": "62f4984e",
   "metadata": {},
   "outputs": [],
   "source": [
    "fours_model.normalization_model.mean_frame.data = torch.zeros_like(fours_model.normalization_model.mean_frame.data)"
   ]
  },
  {
   "cell_type": "code",
   "execution_count": 74,
   "id": "94103dbc",
   "metadata": {},
   "outputs": [
    {
     "name": "stdout",
     "output_type": "stream",
     "text": [
      "S4 model: Fit noise model ... "
     ]
    },
    {
     "name": "stderr",
     "output_type": "stream",
     "text": [
      "100%|█████████████████████████████████████████████████████████████████████████████████████████████████████████████████████████████████████████████████████████████████████| 100/100 [05:39<00:00,  3.40s/it]\n"
     ]
    },
    {
     "name": "stdout",
     "output_type": "stream",
     "text": [
      "[DONE]\n"
     ]
    }
   ],
   "source": [
    "fours_model.fit_noise_model(\n",
    "        num_epochs=100,\n",
    "        training_name=\"strong_fake_planet\",\n",
    "        logging_interval=10)"
   ]
  },
  {
   "cell_type": "code",
   "execution_count": null,
   "id": "24c0aad6",
   "metadata": {},
   "outputs": [],
   "source": []
  }
 ],
 "metadata": {
  "kernelspec": {
   "display_name": "Python 3 (ipykernel)",
   "language": "python",
   "name": "python3"
  },
  "language_info": {
   "codemirror_mode": {
    "name": "ipython",
    "version": 3
   },
   "file_extension": ".py",
   "mimetype": "text/x-python",
   "name": "python",
   "nbconvert_exporter": "python",
   "pygments_lexer": "ipython3",
   "version": "3.10.10"
  }
 },
 "nbformat": 4,
 "nbformat_minor": 5
}
