{
 "cells": [
  {
   "cell_type": "markdown",
   "id": "e426b757",
   "metadata": {},
   "source": [
    "The idea of this test is to check if the noise model matrix B of 4S changes if the planet is in the data. Can we compute it once for contrast curves and MCMC?"
   ]
  },
  {
   "cell_type": "code",
   "execution_count": 1,
   "id": "8de8f19b",
   "metadata": {},
   "outputs": [],
   "source": [
    "import sys\n",
    "from copy import deepcopy\n",
    "from pathlib import Path\n",
    "import numpy as np\n",
    "import json\n",
    "from applefy.detections.contrast import Contrast\n",
    "import matplotlib.pyplot as plt\n",
    "\n",
    "from fours.utils.data_handling import load_adi_data\n",
    "from fours.detection_limits.applefy_wrapper import FourSDataReduction\n",
    "\n",
    "from applefy.utils.file_handling import open_fits\n",
    "from applefy.utils.fake_planets import add_fake_planets\n",
    "from applefy.utils.photometry import flux_ratio2mag, mag2flux_ratio\n",
    "\n",
    "import torch\n",
    "from fours.models.psf_subtraction import FourS"
   ]
  },
  {
   "cell_type": "markdown",
   "id": "159dbd65",
   "metadata": {},
   "source": [
    "# Load the data"
   ]
  },
  {
   "cell_type": "code",
   "execution_count": 2,
   "id": "8eec8629",
   "metadata": {},
   "outputs": [],
   "source": [
    "dataset_file = Path(\"/fast/mbonse/s4/30_data/HD22049_303_199_C-0065_C_.hdf5\")\n",
    "experiment_root_dir = Path(\"/fast/mbonse/s4/70_results/09_new_rotation_loss/x2_different_residual_creations/\")\n",
    "exp_id = str(\"0123a\")\n",
    "use_rotation_loss = True\n",
    "lambda_reg = float(850)"
   ]
  },
  {
   "cell_type": "code",
   "execution_count": 3,
   "id": "fafcdd1a",
   "metadata": {},
   "outputs": [],
   "source": [
    "science_data, angles, raw_psf_template_data = \\\n",
    "    load_adi_data(\n",
    "        hdf5_dataset=str(dataset_file),\n",
    "        data_tag=\"object_stacked_05\",\n",
    "        psf_template_tag=\"psf_template\",\n",
    "        para_tag=\"header_object_stacked_05/PARANG\")\n",
    "\n",
    "psf_template = np.median(raw_psf_template_data, axis=0)\n",
    "\n",
    "# other parameters\n",
    "dit_psf_template = 0.0042560\n",
    "dit_science = 0.08\n",
    "fwhm = 3.6\n",
    "pixel_scale = 0.02718\n",
    "\n",
    "# we cut the image to 91 x 91 pixel to be slightly larger than 1.2 arcsec\n",
    "cut_off = int((science_data.shape[1] - 91) / 2)\n",
    "science_data = science_data[:, cut_off:-cut_off, cut_off:-cut_off]"
   ]
  },
  {
   "cell_type": "code",
   "execution_count": 4,
   "id": "beb4e6e2",
   "metadata": {},
   "outputs": [],
   "source": [
    "dataset_id = \"0115b\"\n",
    "\n",
    "# add the fake planet\n",
    "fake_planet_config_file = \"/fast/mbonse/s4/70_results/10_contrast_grids/HD22049_303_199_C-0065_C_/configs_cgrid/exp_ID_\" + exp_id + \".json\"\n",
    "with open(fake_planet_config_file) as json_file:\n",
    "    fake_planet_config = json.load(json_file)"
   ]
  },
  {
   "cell_type": "code",
   "execution_count": 5,
   "id": "78ce0411",
   "metadata": {},
   "outputs": [],
   "source": [
    "fake_planet_config[\"flux_ratio\"] = mag2flux_ratio(9.5)"
   ]
  },
  {
   "cell_type": "code",
   "execution_count": 6,
   "id": "d2e3b8e3",
   "metadata": {},
   "outputs": [],
   "source": [
    "data_with_fake_planet = add_fake_planets(\n",
    "    input_stack=deepcopy(science_data),\n",
    "    psf_template=psf_template,\n",
    "    parang=angles,\n",
    "    dit_psf_template=0.004256,\n",
    "    dit_science=0.08,\n",
    "    experiment_config=fake_planet_config,\n",
    "    scaling_factor=1.0)"
   ]
  },
  {
   "cell_type": "markdown",
   "id": "13d030ec",
   "metadata": {},
   "source": [
    "# get the true mean"
   ]
  },
  {
   "cell_type": "code",
   "execution_count": 7,
   "id": "6a10333e",
   "metadata": {},
   "outputs": [],
   "source": [
    "true_mean = torch.tensor(np.mean(science_data, axis=0))"
   ]
  },
  {
   "cell_type": "markdown",
   "id": "46f3730e",
   "metadata": {},
   "source": [
    "## Train 4S on the data without the fake planet"
   ]
  },
  {
   "cell_type": "code",
   "execution_count": 8,
   "id": "6a3e928a",
   "metadata": {},
   "outputs": [],
   "source": [
    "experiment_root_dir = Path(\"/fast/mbonse/s4/70_results/test_fast_science_intercept/\")\n",
    "experiment_root_dir.mkdir(exist_ok=True)"
   ]
  },
  {
   "cell_type": "code",
   "execution_count": 9,
   "id": "e81f3efb",
   "metadata": {},
   "outputs": [],
   "source": [
    "fours_model = FourS(\n",
    "    science_cube=science_data,\n",
    "    adi_angles=angles,\n",
    "    psf_template=psf_template,\n",
    "    device=0,\n",
    "    work_dir=experiment_root_dir,\n",
    "    verbose=True,\n",
    "    rotation_grid_subsample=1,\n",
    "    noise_model_lambda=10000,\n",
    "    psf_fwhm=3.6,\n",
    "    right_reason_mask_factor=1.5)"
   ]
  },
  {
   "cell_type": "code",
   "execution_count": 10,
   "id": "94103dbc",
   "metadata": {},
   "outputs": [
    {
     "name": "stdout",
     "output_type": "stream",
     "text": [
      "S4 model: Fit noise model ... "
     ]
    },
    {
     "data": {
      "application/vnd.jupyter.widget-view+json": {
       "model_id": "318138d375914831a4a42804a0f5a933",
       "version_major": 2,
       "version_minor": 0
      },
      "text/plain": [
       "  0%|          | 0/500 [00:00<?, ?it/s]"
      ]
     },
     "metadata": {},
     "output_type": "display_data"
    },
    {
     "name": "stdout",
     "output_type": "stream",
     "text": [
      "[DONE]\n"
     ]
    }
   ],
   "source": [
    "fours_model.fit_noise_model(\n",
    "    num_epochs=500,\n",
    "    training_name=\"Data_no_fake_planet\",\n",
    "    fit_intercept=True,\n",
    "    logging_interval=10)"
   ]
  },
  {
   "cell_type": "code",
   "execution_count": 11,
   "id": "30e29b44",
   "metadata": {},
   "outputs": [
    {
     "name": "stdout",
     "output_type": "stream",
     "text": [
      "4S model: saving model ... [DONE]\n"
     ]
    }
   ],
   "source": [
    "fours_model.save_models(\n",
    "    file_name_noise_model=\"noise_model_no_planet.pkl\",\n",
    "    file_name_normalization_model=\"normalization_model_no_planet.pkl\")"
   ]
  },
  {
   "cell_type": "markdown",
   "id": "eaeefa7a",
   "metadata": {},
   "source": [
    "# Train the model a second time on the data with fake planet"
   ]
  },
  {
   "cell_type": "code",
   "execution_count": 12,
   "id": "0b23e6fb",
   "metadata": {},
   "outputs": [],
   "source": [
    "fours_model_with_planet = FourS(\n",
    "    science_cube=data_with_fake_planet,\n",
    "    adi_angles=angles,\n",
    "    psf_template=psf_template,\n",
    "    device=0,\n",
    "    work_dir=experiment_root_dir,\n",
    "    verbose=True,\n",
    "    rotation_grid_subsample=1,\n",
    "    noise_model_lambda=10000,\n",
    "    psf_fwhm=3.6,\n",
    "    right_reason_mask_factor=1.5)"
   ]
  },
  {
   "cell_type": "code",
   "execution_count": 13,
   "id": "eb12bae4",
   "metadata": {},
   "outputs": [
    {
     "name": "stdout",
     "output_type": "stream",
     "text": [
      "S4 model: Fit noise model ... "
     ]
    },
    {
     "data": {
      "application/vnd.jupyter.widget-view+json": {
       "model_id": "3a1a002e9af64f1f86419037ad7a94b0",
       "version_major": 2,
       "version_minor": 0
      },
      "text/plain": [
       "  0%|          | 0/500 [00:00<?, ?it/s]"
      ]
     },
     "metadata": {},
     "output_type": "display_data"
    },
    {
     "name": "stdout",
     "output_type": "stream",
     "text": [
      "[DONE]\n"
     ]
    }
   ],
   "source": [
    "fours_model_with_planet.fit_noise_model(\n",
    "    num_epochs=500,\n",
    "    training_name=\"Data_with_fake_planet\",\n",
    "    fit_intercept=True,\n",
    "    logging_interval=10)"
   ]
  },
  {
   "cell_type": "code",
   "execution_count": 14,
   "id": "fa4d254d",
   "metadata": {},
   "outputs": [
    {
     "name": "stdout",
     "output_type": "stream",
     "text": [
      "4S model: saving model ... [DONE]\n"
     ]
    }
   ],
   "source": [
    "fours_model_with_planet.save_models(\n",
    "    file_name_noise_model=\"noise_model_with_planet.pkl\",\n",
    "    file_name_normalization_model=\"normalization_model_with_planet.pkl\")"
   ]
  },
  {
   "cell_type": "markdown",
   "id": "cb9d4960",
   "metadata": {},
   "source": [
    "## Compute the residuals"
   ]
  },
  {
   "cell_type": "code",
   "execution_count": 15,
   "id": "117e0bfc",
   "metadata": {},
   "outputs": [
    {
     "name": "stdout",
     "output_type": "stream",
     "text": [
      "S4 model: computing residual ... [DONE]\n"
     ]
    }
   ],
   "source": [
    "mean_residual_no_planet, median_residual_no_planet = fours_model.compute_residuals()"
   ]
  },
  {
   "cell_type": "code",
   "execution_count": 16,
   "id": "d8b40676",
   "metadata": {},
   "outputs": [
    {
     "name": "stdout",
     "output_type": "stream",
     "text": [
      "S4 model: computing residual ... [DONE]\n"
     ]
    }
   ],
   "source": [
    "mean_residual_with_planet, median_residual_with_planet = fours_model_with_planet.compute_residuals()"
   ]
  },
  {
   "cell_type": "markdown",
   "id": "aef4f129",
   "metadata": {},
   "source": [
    "# Create some plots"
   ]
  },
  {
   "cell_type": "code",
   "execution_count": 17,
   "id": "f02c88ce",
   "metadata": {},
   "outputs": [
    {
     "data": {
      "image/png": "[encoded data removed]",
      "text/plain": [
       "<Figure size 1200x500 with 3 Axes>"
      ]
     },
     "metadata": {},
     "output_type": "display_data"
    }
   ],
   "source": [
    "fig, (ax1, ax2, ax3) = plt.subplots(1, 3, figsize=(12, 5))\n",
    "\n",
    "ax1.imshow(mean_residual_no_planet, vmin=-0.05, vmax=0.05)\n",
    "ax2.imshow(mean_residual_with_planet, vmin=-0.05, vmax=0.05)\n",
    "ax3.imshow(mean_residual_with_planet - mean_residual_no_planet, vmin=-0.04, vmax=0.04)\n",
    "\n",
    "plt.tight_layout()"
   ]
  },
  {
   "cell_type": "markdown",
   "id": "a9549ab7",
   "metadata": {},
   "source": [
    "Create a new model but re-load the pre-trained model matrix"
   ]
  },
  {
   "cell_type": "code",
   "execution_count": 18,
   "id": "1e80979b",
   "metadata": {},
   "outputs": [],
   "source": [
    "fours_model_reloaded = FourS(\n",
    "    science_cube=data_with_fake_planet,\n",
    "    adi_angles=angles,\n",
    "    psf_template=psf_template,\n",
    "    device=0,\n",
    "    work_dir=experiment_root_dir,\n",
    "    verbose=True,\n",
    "    rotation_grid_subsample=1,\n",
    "    noise_model_lambda=10000,\n",
    "    psf_fwhm=3.6,\n",
    "    right_reason_mask_factor=1.5)"
   ]
  },
  {
   "cell_type": "code",
   "execution_count": 22,
   "id": "b2e2e3a4",
   "metadata": {},
   "outputs": [
    {
     "name": "stdout",
     "output_type": "stream",
     "text": [
      "S4 model: computing residual ... [DONE]\n"
     ]
    }
   ],
   "source": [
    "pre_trained_model = torch.load(experiment_root_dir / \"models/noise_model_no_planet.pkl\")\n",
    "\n",
    "with torch.no_grad():\n",
    "    fours_model_reloaded.noise_model.betas_raw.data = pre_trained_model[\"betas_raw\"]\n",
    "    fours_model_reloaded.noise_model.intercept.data = pre_trained_model[\"intercept\"]\n",
    "    \n",
    "# compute the residuals\n",
    "mean_residual_with_planet_res, median_residual_with_planet_res = fours_model_reloaded.compute_residuals()"
   ]
  },
  {
   "cell_type": "code",
   "execution_count": 23,
   "id": "91d6e263",
   "metadata": {},
   "outputs": [
    {
     "data": {
      "text/plain": [
       "0.06486459"
      ]
     },
     "execution_count": 23,
     "metadata": {},
     "output_type": "execute_result"
    }
   ],
   "source": [
    "np.max(mean_residual_with_planet_res - mean_residual_no_planet)"
   ]
  },
  {
   "cell_type": "code",
   "execution_count": 24,
   "id": "9733fdde",
   "metadata": {},
   "outputs": [
    {
     "data": {
      "text/plain": [
       "0.041016936"
      ]
     },
     "execution_count": 24,
     "metadata": {},
     "output_type": "execute_result"
    }
   ],
   "source": [
    "np.max(mean_residual_with_planet - mean_residual_no_planet)"
   ]
  },
  {
   "cell_type": "code",
   "execution_count": null,
   "id": "641c1835",
   "metadata": {},
   "outputs": [],
   "source": []
  }
 ],
 "metadata": {
  "kernelspec": {
   "display_name": "Python 3 (ipykernel)",
   "language": "python",
   "name": "python3"
  },
  "language_info": {
   "codemirror_mode": {
    "name": "ipython",
    "version": 3
   },
   "file_extension": ".py",
   "mimetype": "text/x-python",
   "name": "python",
   "nbconvert_exporter": "python",
   "pygments_lexer": "ipython3",
   "version": "3.10.10"
  }
 },
 "nbformat": 4,
 "nbformat_minor": 5
}
