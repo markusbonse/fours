{
 "cells": [
  {
   "cell_type": "markdown",
   "id": "e426b757",
   "metadata": {},
   "source": [
    "The idea of this test is to check if the noise model matrix B of 4S changes if the planet is in the data. Can we compute it once for contrast curves and MCMC?"
   ]
  },
  {
   "cell_type": "code",
   "execution_count": 1,
   "id": "8de8f19b",
   "metadata": {},
   "outputs": [],
   "source": [
    "import sys\n",
    "from copy import deepcopy\n",
    "from pathlib import Path\n",
    "import numpy as np\n",
    "import json\n",
    "from applefy.detections.contrast import Contrast\n",
    "import matplotlib.pyplot as plt\n",
    "\n",
    "from fours.utils.data_handling import load_adi_data\n",
    "from fours.detection_limits.applefy_wrapper import FourSDataReduction\n",
    "\n",
    "from applefy.utils.file_handling import open_fits\n",
    "from applefy.utils.fake_planets import add_fake_planets\n",
    "from applefy.utils.photometry import flux_ratio2mag, mag2flux_ratio\n",
    "\n",
    "import torch\n",
    "from fours.models.psf_subtraction import FourS"
   ]
  },
  {
   "cell_type": "markdown",
   "id": "159dbd65",
   "metadata": {},
   "source": [
    "# Load the data"
   ]
  },
  {
   "cell_type": "code",
   "execution_count": 2,
   "id": "8eec8629",
   "metadata": {},
   "outputs": [],
   "source": [
    "dataset_file = Path(\"/fast/mbonse/s4/30_data/HD22049_303_199_C-0065_C_.hdf5\")\n",
    "experiment_root_dir = Path(\"/fast/mbonse/s4/70_results/09_new_rotation_loss/x2_different_residual_creations/\")\n",
    "exp_id = str(\"0123a\")\n",
    "use_rotation_loss = True\n",
    "lambda_reg = float(850)"
   ]
  },
  {
   "cell_type": "code",
   "execution_count": 3,
   "id": "fafcdd1a",
   "metadata": {},
   "outputs": [],
   "source": [
    "science_data, angles, raw_psf_template_data = \\\n",
    "    load_adi_data(\n",
    "        hdf5_dataset=str(dataset_file),\n",
    "        data_tag=\"object_stacked_05\",\n",
    "        psf_template_tag=\"psf_template\",\n",
    "        para_tag=\"header_object_stacked_05/PARANG\")\n",
    "\n",
    "psf_template = np.median(raw_psf_template_data, axis=0)\n",
    "\n",
    "# other parameters\n",
    "dit_psf_template = 0.0042560\n",
    "dit_science = 0.08\n",
    "fwhm = 3.6\n",
    "pixel_scale = 0.02718\n",
    "\n",
    "# we cut the image to 91 x 91 pixel to be slightly larger than 1.2 arcsec\n",
    "cut_off = int((science_data.shape[1] - 91) / 2)\n",
    "science_data = science_data[:, cut_off:-cut_off, cut_off:-cut_off]"
   ]
  },
  {
   "cell_type": "code",
   "execution_count": 4,
   "id": "beb4e6e2",
   "metadata": {},
   "outputs": [],
   "source": [
    "dataset_id = \"0115b\"\n",
    "\n",
    "# add the fake planet\n",
    "fake_planet_config_file = \"/fast/mbonse/s4/70_results/10_contrast_grids/HD22049_303_199_C-0065_C_/configs_cgrid/exp_ID_\" + exp_id + \".json\"\n",
    "with open(fake_planet_config_file) as json_file:\n",
    "    fake_planet_config = json.load(json_file)"
   ]
  },
  {
   "cell_type": "code",
   "execution_count": 5,
   "id": "d2e3b8e3",
   "metadata": {},
   "outputs": [],
   "source": [
    "data_with_fake_planet = add_fake_planets(\n",
    "    input_stack=deepcopy(science_data),\n",
    "    psf_template=psf_template,\n",
    "    parang=angles,\n",
    "    dit_psf_template=0.004256,\n",
    "    dit_science=0.08,\n",
    "    experiment_config=fake_planet_config,\n",
    "    scaling_factor=1.0)"
   ]
  },
  {
   "cell_type": "markdown",
   "id": "46f3730e",
   "metadata": {},
   "source": [
    "## Train 4S on the data without the fake planet"
   ]
  },
  {
   "cell_type": "code",
   "execution_count": 10,
   "id": "6a3e928a",
   "metadata": {},
   "outputs": [],
   "source": [
    "experiment_root_dir = Path(\"/fast/mbonse/s4/70_results/test_fast_science_intercept/\")\n",
    "experiment_root_dir.mkdir(exist_ok=True)"
   ]
  },
  {
   "cell_type": "code",
   "execution_count": 14,
   "id": "e81f3efb",
   "metadata": {},
   "outputs": [],
   "source": [
    "fours_model = FourS(\n",
    "    science_cube=data_with_fake_planet,\n",
    "    adi_angles=angles,\n",
    "    psf_template=psf_template,\n",
    "    device=0,\n",
    "    work_dir=experiment_root_dir,\n",
    "    verbose=True,\n",
    "    rotation_grid_subsample=1,\n",
    "    noise_model_lambda=10000,\n",
    "    psf_fwhm=3.6,\n",
    "    right_reason_mask_factor=1.5)"
   ]
  },
  {
   "cell_type": "code",
   "execution_count": 15,
   "id": "415c8e3f",
   "metadata": {},
   "outputs": [],
   "source": [
    "fours_model.normalization_model.mean_frame.data = torch.zeros_like(fours_model.normalization_model.mean_frame)"
   ]
  },
  {
   "cell_type": "code",
   "execution_count": 16,
   "id": "3af4c7fd",
   "metadata": {},
   "outputs": [],
   "source": [
    "fours_model.noise_model.intercept.data = torch.ones_like(fours_model.noise_model.intercept.data)"
   ]
  },
  {
   "cell_type": "code",
   "execution_count": null,
   "id": "94103dbc",
   "metadata": {},
   "outputs": [
    {
     "name": "stdout",
     "output_type": "stream",
     "text": [
      "S4 model: Fit noise model ... "
     ]
    },
    {
     "data": {
      "application/vnd.jupyter.widget-view+json": {
       "model_id": "dc5b300b7ef347d6a144ba3be84d67a4",
       "version_major": 2,
       "version_minor": 0
      },
      "text/plain": [
       "  0%|          | 0/100 [00:00<?, ?it/s]"
      ]
     },
     "metadata": {},
     "output_type": "display_data"
    }
   ],
   "source": [
    "fours_model.fit_noise_model(\n",
    "    num_epochs=100,\n",
    "    training_name=\"No_mean_frame\",\n",
    "    fit_intercept=True,\n",
    "    logging_interval=1)"
   ]
  },
  {
   "cell_type": "markdown",
   "id": "cfa9e839",
   "metadata": {},
   "source": [
    "## remplace the mean frame"
   ]
  },
  {
   "cell_type": "code",
   "execution_count": 27,
   "id": "f8789086",
   "metadata": {},
   "outputs": [],
   "source": [
    "_, residual_sequence = fours_model._get_residual_sequence()"
   ]
  },
  {
   "cell_type": "code",
   "execution_count": 32,
   "id": "0c8676ae",
   "metadata": {},
   "outputs": [],
   "source": [
    "residual_sequence_mean_sub = residual_sequence - torch.mean(residual_sequence, axis=0)"
   ]
  },
  {
   "cell_type": "code",
   "execution_count": 33,
   "id": "952e8745",
   "metadata": {},
   "outputs": [],
   "source": [
    "rotated_residual_sequence = fours_model.rotation_model(\n",
    "            residual_sequence_mean_sub,\n",
    "            parang_idx=torch.arange(len(residual_sequence)))"
   ]
  },
  {
   "cell_type": "code",
   "execution_count": 34,
   "id": "ba344451",
   "metadata": {},
   "outputs": [],
   "source": [
    "mean_residual = torch.mean(rotated_residual_sequence, axis=0)[0]"
   ]
  },
  {
   "cell_type": "code",
   "execution_count": 35,
   "id": "9383426f",
   "metadata": {},
   "outputs": [
    {
     "data": {
      "text/plain": [
       "<matplotlib.image.AxesImage at 0x1514cce3b820>"
      ]
     },
     "execution_count": 35,
     "metadata": {},
     "output_type": "execute_result"
    },
    {
     "data": {
      "image/png": "[encoded data removed]",
      "text/plain": [
       "<Figure size 640x480 with 1 Axes>"
      ]
     },
     "metadata": {},
     "output_type": "display_data"
    }
   ],
   "source": [
    "plt.imshow(mean_residual.detach().numpy())"
   ]
  },
  {
   "cell_type": "code",
   "execution_count": null,
   "id": "80fa60ae",
   "metadata": {},
   "outputs": [],
   "source": []
  }
 ],
 "metadata": {
  "kernelspec": {
   "display_name": "Python 3 (ipykernel)",
   "language": "python",
   "name": "python3"
  },
  "language_info": {
   "codemirror_mode": {
    "name": "ipython",
    "version": 3
   },
   "file_extension": ".py",
   "mimetype": "text/x-python",
   "name": "python",
   "nbconvert_exporter": "python",
   "pygments_lexer": "ipython3",
   "version": "3.10.10"
  }
 },
 "nbformat": 4,
 "nbformat_minor": 5
}
