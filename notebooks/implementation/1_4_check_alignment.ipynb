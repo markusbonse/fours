{
 "cells": [
  {
   "cell_type": "code",
   "execution_count": 1,
   "id": "f8cdc2e2",
   "metadata": {},
   "outputs": [],
   "source": [
    "import torch\n",
    "import json\n",
    "import numpy as np\n",
    "import pickle\n",
    "from tqdm import tqdm\n",
    "from pathlib import Path\n",
    "\n",
    "import matplotlib.pyplot as plt\n",
    "\n",
    "from s4hci.utils.data_handling import load_adi_data\n",
    "from applefy.utils.file_handling import save_as_fits, open_fits"
   ]
  },
  {
   "cell_type": "markdown",
   "id": "6b787327",
   "metadata": {},
   "source": [
    "## Load the data"
   ]
  },
  {
   "cell_type": "code",
   "execution_count": 16,
   "id": "e15f78e5",
   "metadata": {},
   "outputs": [
    {
     "name": "stdout",
     "output_type": "stream",
     "text": [
      "Loading data ... [DONE]\n"
     ]
    }
   ],
   "source": [
    "print(\"Loading data ... \", end='')\n",
    "science_data_new, _, _ = \\\n",
    "    load_adi_data(\"/fast/mbonse/s4/30_data/HD22049_303_199_C-0065_C_.hdf5\",\n",
    "                  data_tag=\"object\",\n",
    "                  psf_template_tag=\"psf_template\",\n",
    "                  para_tag=\"header_object/PARANG\")\n",
    "\n",
    "science_data_new = science_data_new[:, 17:-17, 17:-17]\n",
    "print(\"[DONE]\")"
   ]
  },
  {
   "cell_type": "code",
   "execution_count": 17,
   "id": "d354c097",
   "metadata": {},
   "outputs": [
    {
     "name": "stdout",
     "output_type": "stream",
     "text": [
      "Loading data ... [DONE]\n"
     ]
    }
   ],
   "source": [
    "print(\"Loading data ... \", end='')\n",
    "science_data_old, _, _ = \\\n",
    "    load_adi_data(\"/fast/mbonse/s4/30_data/old_datasets/HD22049_303_199_C-0065_C_.hdf5\",\n",
    "                  data_tag=\"13_object_final\",\n",
    "                  psf_template_tag=\"10_psf\",\n",
    "                  para_tag=\"header_13_object_final/PARANG\")\n",
    "\n",
    "print(\"[DONE]\")"
   ]
  },
  {
   "cell_type": "code",
   "execution_count": 18,
   "id": "f98475bd",
   "metadata": {},
   "outputs": [
    {
     "data": {
      "text/plain": [
       "(57961, 107, 107)"
      ]
     },
     "execution_count": 18,
     "metadata": {},
     "output_type": "execute_result"
    }
   ],
   "source": [
    "science_data_new.shape"
   ]
  },
  {
   "cell_type": "code",
   "execution_count": 19,
   "id": "3a1d3cc2",
   "metadata": {},
   "outputs": [
    {
     "data": {
      "text/plain": [
       "(64334, 107, 107)"
      ]
     },
     "execution_count": 19,
     "metadata": {},
     "output_type": "execute_result"
    }
   ],
   "source": [
    "science_data_old.shape"
   ]
  },
  {
   "cell_type": "code",
   "execution_count": null,
   "id": "ece07265",
   "metadata": {},
   "outputs": [],
   "source": [
    "save_as_fits(\n",
    "    science_data_new[::10],\n",
    "    \"/fast/mbonse/s4/70_results/04_alignment/new_data.fits\")"
   ]
  },
  {
   "cell_type": "code",
   "execution_count": 10,
   "id": "0a823e25",
   "metadata": {},
   "outputs": [],
   "source": [
    "save_as_fits(\n",
    "    science_data_old[::10],\n",
    "    \"/fast/mbonse/s4/70_results/04_alignment/old_data.fits\")"
   ]
  },
  {
   "cell_type": "markdown",
   "id": "a443507a",
   "metadata": {},
   "source": [
    "# Test the alignment"
   ]
  },
  {
   "cell_type": "code",
   "execution_count": 20,
   "id": "0f730f8e",
   "metadata": {},
   "outputs": [],
   "source": [
    "reference = open_fits(\"/fast/mbonse/s4/30_data/Ref_PSF/ref_psf.fits\")"
   ]
  },
  {
   "cell_type": "code",
   "execution_count": 21,
   "id": "7389485f",
   "metadata": {},
   "outputs": [
    {
     "data": {
      "text/plain": [
       "(107, 107)"
      ]
     },
     "execution_count": 21,
     "metadata": {},
     "output_type": "execute_result"
    }
   ],
   "source": [
    "reference[77:-77, 77:-77].shape"
   ]
  },
  {
   "cell_type": "code",
   "execution_count": 22,
   "id": "2ab711e7",
   "metadata": {},
   "outputs": [],
   "source": [
    "from skimage.registration import phase_cross_correlation\n",
    "from scipy.ndimage import shift"
   ]
  },
  {
   "cell_type": "code",
   "execution_count": 23,
   "id": "b0028ee8",
   "metadata": {},
   "outputs": [],
   "source": [
    "mean_frame_new = np.mean(science_data_new, axis=0)\n",
    "mean_frame_old = np.mean(science_data_old, axis=0)"
   ]
  },
  {
   "cell_type": "code",
   "execution_count": 24,
   "id": "739f30f2",
   "metadata": {},
   "outputs": [
    {
     "name": "stderr",
     "output_type": "stream",
     "text": [
      "100%|███████████████████████████████████████████████████████████████████████████████████████████████████████████████████████| 57961/57961 [03:50<00:00, 250.96it/s]\n"
     ]
    }
   ],
   "source": [
    "shifts = []\n",
    "shifted_frames = np.zeros_like(science_data_new)\n",
    "\n",
    "for i in tqdm(range(science_data_new.shape[0])):\n",
    "    tmp_shift = phase_cross_correlation(\n",
    "        reference[77:-77, 77:-77],\n",
    "        science_data_new[i, :, :],\n",
    "        normalization=None,\n",
    "        upsample_factor=10)[0]\n",
    "    shifts.append(tmp_shift)\n",
    "    \n",
    "    shifted_frames[i, :, :] = shift(\n",
    "        science_data_new[i, :, :], \n",
    "        tmp_shift, \n",
    "        order=5, \n",
    "        mode=\"constant\")"
   ]
  },
  {
   "cell_type": "code",
   "execution_count": 25,
   "id": "5f0bc6a2",
   "metadata": {},
   "outputs": [],
   "source": [
    "distance_shift = np.sqrt(np.array(shifts)[:, 0]**2 + np.array(shifts)[:, 1]**2)"
   ]
  },
  {
   "cell_type": "code",
   "execution_count": 26,
   "id": "5cba7f9d",
   "metadata": {},
   "outputs": [],
   "source": [
    "mse_distances = np.mean((science_data_new - mean_frame_new)**2, axis=(1, 2))"
   ]
  },
  {
   "cell_type": "code",
   "execution_count": 27,
   "id": "cb519926",
   "metadata": {},
   "outputs": [],
   "source": [
    "cutoff = int(len(mse_distances) / 100 * 5)\n",
    "cutoff_5percent = np.sort(mse_distances)[-cutoff]\n",
    "\n",
    "cutoff = int(len(mse_distances) / 100 * 10)\n",
    "cutoff_10percent = np.sort(mse_distances)[-cutoff]\n",
    "\n",
    "cutoff = int(len(mse_distances) / 100 * 20)\n",
    "cutoff_20percent = np.sort(mse_distances)[-cutoff]"
   ]
  },
  {
   "cell_type": "code",
   "execution_count": 28,
   "id": "24f1c002",
   "metadata": {},
   "outputs": [
    {
     "data": {
      "text/plain": [
       "(0.0, 7.0)"
      ]
     },
     "execution_count": 28,
     "metadata": {},
     "output_type": "execute_result"
    },
    {
     "data": {
      "image/png": "[encoded data removed]",
      "text/plain": [
       "<Figure size 640x480 with 1 Axes>"
      ]
     },
     "metadata": {},
     "output_type": "display_data"
    }
   ],
   "source": [
    "plt.hlines([cutoff_5percent, cutoff_10percent, cutoff_20percent], \n",
    "           xmin=0, xmax=8, color=\"red\")\n",
    "plt.scatter(distance_shift, mse_distances, s=0.5)\n",
    "plt.xlabel(\"Shift [pixel]\")\n",
    "plt.ylabel(\"MSE\")\n",
    "\n",
    "plt.grid()\n",
    "plt.xlim(0, 7)"
   ]
  },
  {
   "cell_type": "markdown",
   "id": "988fe6e4",
   "metadata": {},
   "source": [
    "# Frame selection based on shifts"
   ]
  },
  {
   "cell_type": "code",
   "execution_count": 21,
   "id": "95c06d5e",
   "metadata": {},
   "outputs": [],
   "source": [
    "mask = distance_shift > 0.8"
   ]
  },
  {
   "cell_type": "code",
   "execution_count": 22,
   "id": "16a85bd4",
   "metadata": {},
   "outputs": [
    {
     "data": {
      "text/plain": [
       "0.05783080903802099"
      ]
     },
     "execution_count": 22,
     "metadata": {},
     "output_type": "execute_result"
    }
   ],
   "source": [
    "np.sum(mask) / len(mask)"
   ]
  },
  {
   "cell_type": "code",
   "execution_count": 17,
   "id": "7d9ebe08",
   "metadata": {},
   "outputs": [],
   "source": [
    "bad_frames = science_data_new[distance_shift > 1.0]\n",
    "good_frames = science_data_new[distance_shift < 1.0]\n",
    "good_frames_shifted = shifted_frames[distance_shift < 1.0]"
   ]
  },
  {
   "cell_type": "code",
   "execution_count": 18,
   "id": "338c2241",
   "metadata": {},
   "outputs": [],
   "source": [
    "save_as_fits(\n",
    "    bad_frames[::10], \n",
    "    \"/fast/mbonse/s4/70_results/04_alignment/new_data_bad.fits\")\n",
    "\n",
    "save_as_fits(\n",
    "    good_frames[::10], \n",
    "    \"/fast/mbonse/s4/70_results/04_alignment/new_data_good.fits\")\n",
    "\n",
    "save_as_fits(\n",
    "    good_frames_shifted[::10], \n",
    "    \"/fast/mbonse/s4/70_results/04_alignment/new_data_good_shifted.fits\")"
   ]
  },
  {
   "cell_type": "code",
   "execution_count": 19,
   "id": "58dd7bd1",
   "metadata": {},
   "outputs": [
    {
     "data": {
      "text/plain": [
       "(1181, 107, 107)"
      ]
     },
     "execution_count": 19,
     "metadata": {},
     "output_type": "execute_result"
    }
   ],
   "source": [
    "bad_frames.shape"
   ]
  },
  {
   "cell_type": "code",
   "execution_count": 20,
   "id": "7b1f6fec",
   "metadata": {},
   "outputs": [
    {
     "data": {
      "text/plain": [
       "(59387, 107, 107)"
      ]
     },
     "execution_count": 20,
     "metadata": {},
     "output_type": "execute_result"
    }
   ],
   "source": [
    "good_frames.shape"
   ]
  },
  {
   "cell_type": "code",
   "execution_count": null,
   "id": "223db221",
   "metadata": {},
   "outputs": [],
   "source": []
  }
 ],
 "metadata": {
  "kernelspec": {
   "display_name": "Python 3 (ipykernel)",
   "language": "python",
   "name": "python3"
  },
  "language_info": {
   "codemirror_mode": {
    "name": "ipython",
    "version": 3
   },
   "file_extension": ".py",
   "mimetype": "text/x-python",
   "name": "python",
   "nbconvert_exporter": "python",
   "pygments_lexer": "ipython3",
   "version": "3.10.10"
  }
 },
 "nbformat": 4,
 "nbformat_minor": 5
}
