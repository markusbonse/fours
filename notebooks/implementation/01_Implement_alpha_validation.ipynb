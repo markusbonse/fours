{
 "cells": [
  {
   "cell_type": "code",
   "execution_count": 1,
   "id": "9e98f0a5",
   "metadata": {},
   "outputs": [],
   "source": [
    "import torch\n",
    "import json\n",
    "import numpy as np\n",
    "import pickle\n",
    "from pathlib import Path\n",
    "\n",
    "import matplotlib.pyplot as plt\n",
    "\n",
    "from apelfei.utils.data_handling import load_adi_data\n",
    "from s4hci.models.noise import S4Ridge"
   ]
  },
  {
   "cell_type": "markdown",
   "id": "1c741d7e",
   "metadata": {},
   "source": [
    "## Load the data"
   ]
  },
  {
   "cell_type": "code",
   "execution_count": 2,
   "id": "45ca980c",
   "metadata": {},
   "outputs": [
    {
     "name": "stdout",
     "output_type": "stream",
     "text": [
      "Loading data ... [DONE]\n"
     ]
    }
   ],
   "source": [
    "dataset_config_file = \"/home/ipa/quanz/user_accounts/mbonse/2022_ALADIN/\" \\\n",
    "                      \"70_results/00_eps_eri_fake_planet_experiments/\" \\\n",
    "                      \"0100_C-0656-A/dataset.json\"\n",
    "\n",
    "with open(dataset_config_file) as json_file:\n",
    "    dataset_config = json.load(json_file)\n",
    "\n",
    "print(\"Loading data ... \", end='')\n",
    "science_data, raw_angles, raw_psf_template_data = \\\n",
    "    load_adi_data(dataset_config[\"file_path\"],\n",
    "                  data_tag=dataset_config[\"stack_key\"],\n",
    "                  psf_template_tag=dataset_config[\"psf_template_key\"],\n",
    "                  para_tag=dataset_config[\"parang_key\"])\n",
    "\n",
    "psf_template_data = np.mean(raw_psf_template_data, axis=0)\n",
    "\n",
    "X_train = science_data[0::2]\n",
    "X_test = science_data[1::2]\n",
    "print(\"[DONE]\")"
   ]
  },
  {
   "cell_type": "markdown",
   "id": "8a3532c4",
   "metadata": {},
   "source": [
    "## Test different alphas"
   ]
  },
  {
   "cell_type": "code",
   "execution_count": 3,
   "id": "2b43e773",
   "metadata": {},
   "outputs": [],
   "source": [
    "alphas = np.linspace(1000, 20000, 20)"
   ]
  },
  {
   "cell_type": "code",
   "execution_count": 4,
   "id": "d704852e",
   "metadata": {},
   "outputs": [
    {
     "data": {
      "text/plain": [
       "array([ 1000.,  2000.,  3000.,  4000.,  5000.,  6000.,  7000.,  8000.,\n",
       "        9000., 10000., 11000., 12000., 13000., 14000., 15000., 16000.,\n",
       "       17000., 18000., 19000., 20000.])"
      ]
     },
     "execution_count": 4,
     "metadata": {},
     "output_type": "execute_result"
    }
   ],
   "source": [
    "alphas"
   ]
  },
  {
   "cell_type": "code",
   "execution_count": null,
   "id": "7af249a6",
   "metadata": {},
   "outputs": [
    {
     "name": "stdout",
     "output_type": "stream",
     "text": [
      "Creating masks ... [DONE]\n",
      "Normalizing data ... [DONE]\n",
      "Testing alpha = 1000.0\n"
     ]
    },
    {
     "name": "stderr",
     "output_type": "stream",
     "text": [
      "100%|██████████| 242/242 [05:21<00:00,  1.33s/it]\n",
      "100%|██████████| 242/242 [05:15<00:00,  1.31s/it]\n"
     ]
    },
    {
     "name": "stdout",
     "output_type": "stream",
     "text": [
      "Testing alpha = 2000.0\n"
     ]
    },
    {
     "name": "stderr",
     "output_type": "stream",
     "text": [
      " 10%|▉         | 23/242 [00:31<04:48,  1.32s/it]"
     ]
    }
   ],
   "source": [
    "step_size = 5\n",
    "\n",
    "test_errors = []\n",
    "all_betas = []\n",
    "\n",
    "ridge_model = S4Ridge(\n",
    "    X_train,\n",
    "    psf_template_data,\n",
    "    normalize_data=True,\n",
    "    alpha=-1,\n",
    "    available_devices=[0, 1],\n",
    "    half_precision=True)\n",
    "\n",
    "best_error = np.inf\n",
    "best_alpha = 10000000\n",
    "\n",
    "for tmp_alpha in alphas:\n",
    "    print(\"Testing alpha = \" + str(tmp_alpha))\n",
    "    ridge_model.alpha = tmp_alpha\n",
    "\n",
    "    errors, betas = ridge_model.fit_and_validate(\n",
    "        step_size=step_size,\n",
    "        test_science_data=X_test)\n",
    "    \n",
    "    all_betas.append(betas)\n",
    "    \n",
    "    median_errors = np.median(errors, axis=0)\n",
    "    test_errors.append((np.median(median_errors), median_errors))\n",
    "    \n",
    "    if np.median(median_errors) < best_error:\n",
    "        best_error = np.median(median_errors)\n",
    "        best_alpha = tmp_alpha"
   ]
  },
  {
   "cell_type": "code",
   "execution_count": 5,
   "id": "c4c49e43",
   "metadata": {},
   "outputs": [],
   "source": [
    "# save the results\n",
    "root_save_dir = Path(\"/home/ipa/quanz/user_accounts/mbonse/2022_ALADIN/70_results/\"\n",
    "                     \"s4_closed_form/01_validation_of_different_alphas/\")"
   ]
  },
  {
   "cell_type": "code",
   "execution_count": 84,
   "id": "f0791dc3",
   "metadata": {},
   "outputs": [
    {
     "data": {
      "text/plain": [
       "PosixPath('/home/ipa/quanz/user_accounts/mbonse/2022_ALADIN/70_results/s4_closed_form/01_validation_of_different_alphas/all_betas.pkl')"
      ]
     },
     "execution_count": 84,
     "metadata": {},
     "output_type": "execute_result"
    }
   ],
   "source": [
    "root_save_dir / \"all_betas.pkl\""
   ]
  },
  {
   "cell_type": "code",
   "execution_count": 91,
   "id": "9b8a3edd",
   "metadata": {},
   "outputs": [],
   "source": [
    "with open(root_save_dir / \"01_all_betas.pkl\", 'wb') as outp:\n",
    "    pickle.dump(all_betas, outp, pickle.HIGHEST_PROTOCOL)\n",
    "    \n",
    "with open(root_save_dir / \"01_test_errors.pkl\", 'wb') as outp:\n",
    "    pickle.dump(test_errors, outp, pickle.HIGHEST_PROTOCOL)"
   ]
  },
  {
   "cell_type": "code",
   "execution_count": 6,
   "id": "566fa4b0",
   "metadata": {},
   "outputs": [],
   "source": [
    "with open(root_save_dir / \"01_all_betas.pkl\", 'rb') as inp:\n",
    "    all_betas = pickle.load(inp)\n",
    "    \n",
    "with open(root_save_dir / \"01_test_errors.pkl\", 'rb') as inp:\n",
    "    test_errors = pickle.load(inp)"
   ]
  },
  {
   "cell_type": "code",
   "execution_count": 7,
   "id": "5ee153f9",
   "metadata": {},
   "outputs": [
    {
     "data": {
      "text/plain": [
       "6000.0"
      ]
     },
     "execution_count": 7,
     "metadata": {},
     "output_type": "execute_result"
    }
   ],
   "source": [
    "best_alpha = 6000.\n",
    "best_alpha"
   ]
  },
  {
   "cell_type": "code",
   "execution_count": 8,
   "id": "49d4c088",
   "metadata": {},
   "outputs": [],
   "source": [
    "errors_col = [i[0] for i in test_errors]"
   ]
  },
  {
   "cell_type": "code",
   "execution_count": 9,
   "id": "f3ef92e5",
   "metadata": {},
   "outputs": [
    {
     "data": {
      "text/plain": [
       "[<matplotlib.lines.Line2D at 0x7fc0972b65c0>]"
      ]
     },
     "execution_count": 9,
     "metadata": {},
     "output_type": "execute_result"
    },
    {
     "data": {
      "image/png": "[encoded data removed]",
      "text/plain": [
       "<Figure size 640x480 with 1 Axes>"
      ]
     },
     "metadata": {},
     "output_type": "display_data"
    }
   ],
   "source": [
    "plt.plot(alphas[2:], np.array(errors_col)[2:])"
   ]
  },
  {
   "cell_type": "markdown",
   "id": "1ff9374d",
   "metadata": {},
   "source": [
    "# Interactive Beta Plots"
   ]
  },
  {
   "cell_type": "code",
   "execution_count": 10,
   "id": "76b6b9fc",
   "metadata": {},
   "outputs": [],
   "source": [
    "from matplotlib import rcParams\n",
    "import ipywidgets\n",
    "from ipywidgets import interact\n",
    "import IPython"
   ]
  },
  {
   "cell_type": "code",
   "execution_count": 11,
   "id": "a0fc8499",
   "metadata": {
    "scrolled": false
   },
   "outputs": [
    {
     "name": "stderr",
     "output_type": "stream",
     "text": [
      "/scratch/user/mbonse/2022_ALADIN/venv_s4/lib/python3.10/site-packages/ipykernel/pylab/backend_inline.py:10: DeprecationWarning: `ipykernel.pylab.backend_inline` is deprecated, directly use `matplotlib_inline.backend_inline`\n",
      "  warnings.warn(\n"
     ]
    },
    {
     "data": {
      "application/vnd.jupyter.widget-view+json": {
       "model_id": "d2af20e46e344c3e9ecb7667cc21f674",
       "version_major": 2,
       "version_minor": 0
      },
      "text/plain": [
       "interactive(children=(IntSlider(value=6000, description='Alpha:', max=20000, min=1000, step=1000), IntSlider(v…"
      ]
     },
     "metadata": {},
     "output_type": "display_data"
    }
   ],
   "source": [
    "rcParams['figure.figsize'] = (15, 6)\n",
    "\n",
    "def generate_plots_(alpha,\n",
    "                    idx):\n",
    "    \n",
    "    alpha_idx = np.where(alphas == alpha)[0][0]\n",
    "    sel_beta = all_betas[alpha_idx][idx, :].reshape(107, 107)\n",
    "    \n",
    "    fig, ax = plt.subplots(1, 1)\n",
    "    \n",
    "    ax.imshow(torch.abs(sel_beta))\n",
    "    ax.set_title(\"Alpha = \" + str(alpha))\n",
    "    \n",
    "    plt.show()\n",
    "\n",
    "# set up the interaction tools\n",
    "alpha_slider = ipywidgets.IntSlider(\n",
    "    value=int(best_alpha),\n",
    "    min=int(np.min(alphas)),\n",
    "    max=int(np.max(alphas)),\n",
    "    step=1000,\n",
    "    description='Alpha:',\n",
    "    disabled=False,\n",
    "    continuous_update=True,\n",
    "    orientation='horizontal',\n",
    "    readout=True,\n",
    "    readout_format='d')\n",
    "\n",
    "idx_slider = ipywidgets.IntSlider(\n",
    "    description='Position idx:',\n",
    "    value=0,\n",
    "    min=0,\n",
    "    max=all_betas[0].shape[0] - 1,\n",
    "    step=1,\n",
    "    disabled=False,\n",
    "    continuous_update=True,\n",
    "    orientation='horizontal',\n",
    "    readout=True,\n",
    "    readout_format='d')\n",
    "\n",
    "interact(\n",
    "    generate_plots_,\n",
    "    alpha=alpha_slider,\n",
    "    idx=idx_slider,\n",
    ");"
   ]
  },
  {
   "cell_type": "markdown",
   "id": "309df585",
   "metadata": {},
   "source": [
    "# Final best model"
   ]
  },
  {
   "cell_type": "code",
   "execution_count": null,
   "id": "70e12bc7",
   "metadata": {},
   "outputs": [],
   "source": [
    "final_ridge_model = S4Ridge(\n",
    "    X_train,\n",
    "    psf_template_data,\n",
    "    normalize_data=True,\n",
    "    alpha=best_alpha,\n",
    "    available_devices=[0, 1],\n",
    "    half_precision=True)"
   ]
  },
  {
   "cell_type": "code",
   "execution_count": null,
   "id": "cea5ad26",
   "metadata": {},
   "outputs": [],
   "source": [
    "final_ridge_model.fit()"
   ]
  },
  {
   "cell_type": "code",
   "execution_count": 96,
   "id": "03afe5e9",
   "metadata": {},
   "outputs": [],
   "source": [
    "with open(root_save_dir / \"02_final_ridge_model.pkl\", 'wb') as outp:\n",
    "    pickle.dump(final_ridge_model, outp, pickle.HIGHEST_PROTOCOL)"
   ]
  },
  {
   "cell_type": "code",
   "execution_count": 12,
   "id": "14c82771",
   "metadata": {},
   "outputs": [],
   "source": [
    "with open(root_save_dir / \"02_final_ridge_model.pkl\", 'rb') as inp:\n",
    "    final_ridge_model = pickle.load(inp)"
   ]
  },
  {
   "cell_type": "code",
   "execution_count": 13,
   "id": "7d0a7ed4",
   "metadata": {},
   "outputs": [
    {
     "data": {
      "application/vnd.jupyter.widget-view+json": {
       "model_id": "3a7483978ace494d8325dd6aa9cc9ef6",
       "version_major": 2,
       "version_minor": 0
      },
      "text/plain": [
       "interactive(children=(IntSlider(value=0, description='X Position:', max=106), IntSlider(value=0, description='…"
      ]
     },
     "metadata": {},
     "output_type": "display_data"
    }
   ],
   "source": [
    "rcParams['figure.figsize'] = (15, 6)\n",
    "\n",
    "def generate_plots_(x, y):\n",
    "    \n",
    "    idx = x*107 + y\n",
    "    \n",
    "    tmp_betas = final_ridge_model.betas[idx, :]\n",
    "    tmp_betas = tmp_betas.reshape(107, 107)\n",
    "    \n",
    "    fig, ax = plt.subplots(1, 1)\n",
    "    \n",
    "    ax.imshow(torch.abs(tmp_betas))\n",
    "    \n",
    "    plt.show()\n",
    "\n",
    "# set up the interaction tools\n",
    "x_slider = ipywidgets.IntSlider(\n",
    "    description='X Position:',\n",
    "    value=0,\n",
    "    min=0,\n",
    "    max=106,\n",
    "    step=1,\n",
    "    continuous_update=True,\n",
    "    orientation='horizontal',\n",
    "    readout=True,\n",
    "    readout_format='d')\n",
    "\n",
    "y_slider = ipywidgets.IntSlider(\n",
    "    description='Y Position:',\n",
    "    value=0,\n",
    "    min=0,\n",
    "    max=106,\n",
    "    step=1,\n",
    "    continuous_update=True,\n",
    "    orientation='horizontal',\n",
    "    readout=True,\n",
    "    readout_format='d')\n",
    "\n",
    "interact(\n",
    "    generate_plots_,\n",
    "    x=x_slider,\n",
    "    y=y_slider,\n",
    ");"
   ]
  },
  {
   "cell_type": "code",
   "execution_count": null,
   "id": "17d68112",
   "metadata": {},
   "outputs": [],
   "source": []
  }
 ],
 "metadata": {
  "kernelspec": {
   "display_name": "Python 3 (ipykernel)",
   "language": "python",
   "name": "python3"
  },
  "language_info": {
   "codemirror_mode": {
    "name": "ipython",
    "version": 3
   },
   "file_extension": ".py",
   "mimetype": "text/x-python",
   "name": "python",
   "nbconvert_exporter": "python",
   "pygments_lexer": "ipython3",
   "version": "3.10.6"
  }
 },
 "nbformat": 4,
 "nbformat_minor": 5
}
