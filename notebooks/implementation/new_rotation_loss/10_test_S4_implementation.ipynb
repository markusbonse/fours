{
 "cells": [
  {
   "cell_type": "code",
   "execution_count": 1,
   "id": "3a8104cf",
   "metadata": {},
   "outputs": [],
   "source": [
    "import json\n",
    "import numpy as np\n",
    "import matplotlib.pyplot as plt\n",
    "\n",
    "import torch\n",
    "from torch import optim\n",
    "from s4hci.utils.data_handling import load_adi_data\n",
    "from applefy.utils.file_handling import open_fits, save_as_fits\n",
    "from applefy.utils.fake_planets import add_fake_planets"
   ]
  },
  {
   "cell_type": "code",
   "execution_count": 2,
   "id": "34926576",
   "metadata": {},
   "outputs": [],
   "source": [
    "from s4hci.models.psf_subtraction import S4"
   ]
  },
  {
   "cell_type": "code",
   "execution_count": 3,
   "id": "6fff3050",
   "metadata": {},
   "outputs": [],
   "source": [
    "torch.set_float32_matmul_precision(\"high\")"
   ]
  },
  {
   "cell_type": "markdown",
   "id": "e2fe94b6",
   "metadata": {},
   "source": [
    "# Load the data and insert the fake planet"
   ]
  },
  {
   "cell_type": "code",
   "execution_count": 4,
   "id": "0832fed5",
   "metadata": {},
   "outputs": [],
   "source": [
    "# 2.) Load the dataset\n",
    "science_data, raw_angles, raw_psf_template_data = \\\n",
    "    load_adi_data(\n",
    "        hdf5_dataset=\"/fast/mbonse/s4/30_data/HD22049_303_199_C-0065_C_.hdf5\",\n",
    "        data_tag=\"object_stacked_05\",\n",
    "        psf_template_tag=\"psf_template\",\n",
    "        para_tag=\"header_object_stacked_05/PARANG\")\n",
    "\n",
    "science_data = science_data[:, 12:-12, 12:-12]\n",
    "raw_angles = raw_angles[:]\n",
    "\n",
    "# Background subtraction of the PSF template\n",
    "psf_template_data = np.median(raw_psf_template_data, axis=0)\n",
    "psf_template_data = psf_template_data - np.min(psf_template_data)"
   ]
  },
  {
   "cell_type": "code",
   "execution_count": 5,
   "id": "bc6fceb0",
   "metadata": {},
   "outputs": [],
   "source": [
    "dataset_id = \"0115b\"\n",
    "\n",
    "# add the fake planet\n",
    "fake_planet_config_file = \"/fast/mbonse/s4/70_results/07_partial_contrast_grid/HD22049_303_199_C-0065_C_/configs_cgrid/exp_ID_\" + dataset_id + \".json\"\n",
    "with open(fake_planet_config_file) as json_file:\n",
    "    fake_planet_config = json.load(json_file)\n",
    "\n",
    "data_with_fake_planet = add_fake_planets(\n",
    "    input_stack=science_data,\n",
    "    psf_template=psf_template_data,\n",
    "    parang=raw_angles,\n",
    "    dit_psf_template=0.004256,\n",
    "    dit_science=0.08,\n",
    "    experiment_config=fake_planet_config,\n",
    "    scaling_factor=1.0)"
   ]
  },
  {
   "cell_type": "code",
   "execution_count": 6,
   "id": "16894590",
   "metadata": {},
   "outputs": [],
   "source": [
    "# stacking\n",
    "ss = 1\n",
    "angles_stacked = np.array([np.mean(i) for i in np.array_split(raw_angles, int(len(raw_angles) / ss))])\n",
    "science_stacked = np.array([np.mean(i, axis=0) for i in np.array_split(data_with_fake_planet, int(len(raw_angles) / ss))])"
   ]
  },
  {
   "cell_type": "markdown",
   "id": "c1cacc6b",
   "metadata": {},
   "source": [
    "# Test lambda validation"
   ]
  },
  {
   "cell_type": "code",
   "execution_count": 7,
   "id": "3fa6a59f",
   "metadata": {},
   "outputs": [],
   "source": [
    "s4_model = S4(\n",
    "    science_cube=science_stacked,\n",
    "    adi_angles=angles_stacked,\n",
    "    psf_template=psf_template_data,\n",
    "    noise_cut_radius_psf=3.6,\n",
    "    noise_mask_radius=5.4,\n",
    "    device=0,\n",
    "    work_dir=\"/fast/mbonse/s4/70_results/09_new_rotation_loss/xx_test_new_implementation\",\n",
    "    noise_normalization=\"normal\",\n",
    "    noise_model_lambda_init=1000,\n",
    "    noise_model_convolve=True,\n",
    "    rotation_grid_subsample=1,\n",
    "    verbose=True)"
   ]
  },
  {
   "cell_type": "code",
   "execution_count": 8,
   "id": "d18dbb1b",
   "metadata": {
    "scrolled": true
   },
   "outputs": [
    {
     "name": "stdout",
     "output_type": "stream",
     "text": [
      "S4 model: validating noise model ... S4 Noise: validating noise model ... Compute validation positions for separation 5.2727272727272725 ...\n",
      "Compute betas for separation 5.2727272727272725 ...\n"
     ]
    },
    {
     "name": "stderr",
     "output_type": "stream",
     "text": [
      "100%|███████████████████████████████████████████████████████████████████████████████████████████████████████████████████████████████████████████████████████████████████████| 10/10 [00:13<00:00,  1.38s/it]\n"
     ]
    },
    {
     "name": "stdout",
     "output_type": "stream",
     "text": [
      "Re-mask betas for separation 5.2727272727272725 ...\n",
      "Compute validation errors for separation 5.2727272727272725 ...\n",
      "Compute validation positions for separation 10.545454545454545 ...\n",
      "Compute betas for separation 10.545454545454545 ...\n"
     ]
    },
    {
     "name": "stderr",
     "output_type": "stream",
     "text": [
      "100%|███████████████████████████████████████████████████████████████████████████████████████████████████████████████████████████████████████████████████████████████████████| 10/10 [00:12<00:00,  1.23s/it]\n"
     ]
    },
    {
     "name": "stdout",
     "output_type": "stream",
     "text": [
      "Re-mask betas for separation 10.545454545454545 ...\n",
      "Compute validation errors for separation 10.545454545454545 ...\n",
      "Compute validation positions for separation 15.818181818181817 ...\n",
      "Compute betas for separation 15.818181818181817 ...\n"
     ]
    },
    {
     "name": "stderr",
     "output_type": "stream",
     "text": [
      "100%|███████████████████████████████████████████████████████████████████████████████████████████████████████████████████████████████████████████████████████████████████████| 10/10 [00:12<00:00,  1.22s/it]\n"
     ]
    },
    {
     "name": "stdout",
     "output_type": "stream",
     "text": [
      "Re-mask betas for separation 15.818181818181817 ...\n",
      "Compute validation errors for separation 15.818181818181817 ...\n",
      "Compute validation positions for separation 21.09090909090909 ...\n",
      "Compute betas for separation 21.09090909090909 ...\n"
     ]
    },
    {
     "name": "stderr",
     "output_type": "stream",
     "text": [
      "100%|███████████████████████████████████████████████████████████████████████████████████████████████████████████████████████████████████████████████████████████████████████| 10/10 [00:13<00:00,  1.31s/it]\n"
     ]
    },
    {
     "name": "stdout",
     "output_type": "stream",
     "text": [
      "Re-mask betas for separation 21.09090909090909 ...\n",
      "Compute validation errors for separation 21.09090909090909 ...\n",
      "Compute validation positions for separation 26.363636363636363 ...\n",
      "Compute betas for separation 26.363636363636363 ...\n"
     ]
    },
    {
     "name": "stderr",
     "output_type": "stream",
     "text": [
      "100%|███████████████████████████████████████████████████████████████████████████████████████████████████████████████████████████████████████████████████████████████████████| 10/10 [00:12<00:00,  1.26s/it]\n"
     ]
    },
    {
     "name": "stdout",
     "output_type": "stream",
     "text": [
      "Re-mask betas for separation 26.363636363636363 ...\n",
      "Compute validation errors for separation 26.363636363636363 ...\n",
      "Compute validation positions for separation 31.636363636363633 ...\n",
      "Compute betas for separation 31.636363636363633 ...\n"
     ]
    },
    {
     "name": "stderr",
     "output_type": "stream",
     "text": [
      "100%|███████████████████████████████████████████████████████████████████████████████████████████████████████████████████████████████████████████████████████████████████████| 10/10 [00:12<00:00,  1.20s/it]\n"
     ]
    },
    {
     "name": "stdout",
     "output_type": "stream",
     "text": [
      "Re-mask betas for separation 31.636363636363633 ...\n",
      "Compute validation errors for separation 31.636363636363633 ...\n",
      "Compute validation positions for separation 36.90909090909091 ...\n",
      "Compute betas for separation 36.90909090909091 ...\n"
     ]
    },
    {
     "name": "stderr",
     "output_type": "stream",
     "text": [
      "100%|███████████████████████████████████████████████████████████████████████████████████████████████████████████████████████████████████████████████████████████████████████| 10/10 [00:12<00:00,  1.23s/it]\n"
     ]
    },
    {
     "name": "stdout",
     "output_type": "stream",
     "text": [
      "Re-mask betas for separation 36.90909090909091 ...\n",
      "Compute validation errors for separation 36.90909090909091 ...\n",
      "Compute validation positions for separation 42.18181818181818 ...\n",
      "Compute betas for separation 42.18181818181818 ...\n"
     ]
    },
    {
     "name": "stderr",
     "output_type": "stream",
     "text": [
      "100%|███████████████████████████████████████████████████████████████████████████████████████████████████████████████████████████████████████████████████████████████████████| 10/10 [00:12<00:00,  1.25s/it]\n"
     ]
    },
    {
     "name": "stdout",
     "output_type": "stream",
     "text": [
      "Re-mask betas for separation 42.18181818181818 ...\n",
      "Compute validation errors for separation 42.18181818181818 ...\n",
      "Compute validation positions for separation 47.45454545454545 ...\n",
      "Compute betas for separation 47.45454545454545 ...\n"
     ]
    },
    {
     "name": "stderr",
     "output_type": "stream",
     "text": [
      "100%|███████████████████████████████████████████████████████████████████████████████████████████████████████████████████████████████████████████████████████████████████████| 10/10 [00:12<00:00,  1.22s/it]\n"
     ]
    },
    {
     "name": "stdout",
     "output_type": "stream",
     "text": [
      "Re-mask betas for separation 47.45454545454545 ...\n",
      "Compute validation errors for separation 47.45454545454545 ...\n",
      "Compute validation positions for separation 52.72727272727273 ...\n",
      "Compute betas for separation 52.72727272727273 ...\n"
     ]
    },
    {
     "name": "stderr",
     "output_type": "stream",
     "text": [
      "100%|███████████████████████████████████████████████████████████████████████████████████████████████████████████████████████████████████████████████████████████████████████| 10/10 [00:12<00:00,  1.22s/it]\n"
     ]
    },
    {
     "name": "stdout",
     "output_type": "stream",
     "text": [
      "Re-mask betas for separation 52.72727272727273 ...\n",
      "Compute validation errors for separation 52.72727272727273 ...\n",
      "Recommended Lambda = 775259.75\n",
      "Make sure to check if the tested range of lambda values is covering the global minimum!\n",
      "[DONE]\n",
      "[DONE]\n"
     ]
    }
   ],
   "source": [
    "lambdas = np.logspace(1, 8, 200)\n",
    "all_results, best_lambda = s4_model.validate_lambdas_noise(\n",
    "    num_separations=10, \n",
    "    lambdas=lambdas,\n",
    "    num_test_positions=10,\n",
    "    test_size=0.3,\n",
    "    approx_svd=3000)"
   ]
  },
  {
   "cell_type": "code",
   "execution_count": 9,
   "id": "8a7bda6c",
   "metadata": {},
   "outputs": [
    {
     "data": {
      "image/png": "[encoded data removed]",
      "text/plain": [
       "<Figure size 600x400 with 1 Axes>"
      ]
     },
     "metadata": {},
     "output_type": "display_data"
    }
   ],
   "source": [
    "# 4.) Plot the result\n",
    "merged_results = np.array([i for i in all_results.values()])\n",
    "\n",
    "fig, (ax1) = plt.subplots(1, 1, figsize=(6, 4))\n",
    "\n",
    "ax1.plot(lambdas, np.array(merged_results).T)\n",
    "ax1.set_title(\"Validation error (contrast limited areas)\")\n",
    "ax1.set_xlabel(\"Lambda\")\n",
    "ax1.set_ylabel(\"Test Error\")\n",
    "ax1.set_xscale(\"log\")\n",
    "ax1.grid()\n",
    "ax1.set_ylim(-2, 4)\n",
    "ax1.set_xlim(1e1, 1e8)\n",
    "plt.show()"
   ]
  },
  {
   "cell_type": "code",
   "execution_count": 10,
   "id": "e25e918e",
   "metadata": {},
   "outputs": [],
   "source": [
    "best_lambda = lambdas[int(np.median(np.argmin(merged_results, axis=1)))]"
   ]
  },
  {
   "cell_type": "code",
   "execution_count": 7,
   "id": "b28553ea",
   "metadata": {},
   "outputs": [],
   "source": [
    "best_lambda = 1000"
   ]
  },
  {
   "cell_type": "markdown",
   "id": "dd5c6b1f",
   "metadata": {},
   "source": [
    "# Test S4 with new rotation loss"
   ]
  },
  {
   "cell_type": "code",
   "execution_count": 8,
   "id": "6fabfd8c",
   "metadata": {},
   "outputs": [],
   "source": [
    "s4_model = S4(\n",
    "    science_cube=science_stacked,\n",
    "    adi_angles=angles_stacked,\n",
    "    psf_template=psf_template_data,\n",
    "    noise_cut_radius_psf=3.6,\n",
    "    noise_mask_radius=5.4,\n",
    "    device=0,\n",
    "    work_dir=\"/fast/mbonse/s4/70_results/09_new_rotation_loss/xx_test_new_implementation\",\n",
    "    noise_normalization=\"normal\",\n",
    "    noise_model_lambda_init=best_lambda,\n",
    "    noise_model_convolve=True,\n",
    "    rotation_grid_subsample=1,\n",
    "    verbose=True)"
   ]
  },
  {
   "cell_type": "code",
   "execution_count": 9,
   "id": "7ce84718",
   "metadata": {
    "collapsed": true
   },
   "outputs": [
    {
     "name": "stdout",
     "output_type": "stream",
     "text": [
      "S4 model: Fit noise model ... "
     ]
    },
    {
     "data": {
      "application/vnd.jupyter.widget-view+json": {
       "model_id": "70fa7f3f10454ce386b151cb9d8b6a82",
       "version_major": 2,
       "version_minor": 0
      },
      "text/plain": [
       "  0%|          | 0/200 [00:00<?, ?it/s]"
      ]
     },
     "metadata": {},
     "output_type": "display_data"
    },
    {
     "ename": "KeyboardInterrupt",
     "evalue": "",
     "output_type": "error",
     "traceback": [
      "\u001b[0;31m---------------------------------------------------------------------------\u001b[0m",
      "\u001b[0;31mKeyboardInterrupt\u001b[0m                         Traceback (most recent call last)",
      "Cell \u001b[0;32mIn[9], line 1\u001b[0m\n\u001b[0;32m----> 1\u001b[0m \u001b[43ms4_model\u001b[49m\u001b[38;5;241;43m.\u001b[39;49m\u001b[43mfit_noise_model\u001b[49m\u001b[43m(\u001b[49m\n\u001b[1;32m      2\u001b[0m \u001b[43m    \u001b[49m\u001b[43mnum_epochs\u001b[49m\u001b[38;5;241;43m=\u001b[39;49m\u001b[38;5;241;43m200\u001b[39;49m\u001b[43m,\u001b[49m\n\u001b[1;32m      3\u001b[0m \u001b[43m    \u001b[49m\u001b[43muse_rotation_loss\u001b[49m\u001b[38;5;241;43m=\u001b[39;49m\u001b[38;5;28;43;01mTrue\u001b[39;49;00m\u001b[43m,\u001b[49m\n\u001b[1;32m      4\u001b[0m \u001b[43m    \u001b[49m\u001b[43mtraining_name\u001b[49m\u001b[38;5;241;43m=\u001b[39;49m\u001b[38;5;124;43m\"\u001b[39;49m\u001b[38;5;124;43m105c_rotation_loss_lambda_1000\u001b[39;49m\u001b[38;5;124;43m\"\u001b[39;49m\u001b[43m,\u001b[49m\n\u001b[1;32m      5\u001b[0m \u001b[43m    \u001b[49m\u001b[43mlogging_interval\u001b[49m\u001b[38;5;241;43m=\u001b[39;49m\u001b[38;5;241;43m1\u001b[39;49m\u001b[43m,\u001b[49m\n\u001b[1;32m      6\u001b[0m \u001b[43m    \u001b[49m\u001b[43moptimizer\u001b[49m\u001b[38;5;241;43m=\u001b[39;49m\u001b[38;5;28;43;01mNone\u001b[39;49;00m\u001b[43m,\u001b[49m\n\u001b[1;32m      7\u001b[0m \u001b[43m    \u001b[49m\u001b[43moptimizer_kwargs\u001b[49m\u001b[38;5;241;43m=\u001b[39;49m\u001b[38;5;28;43;01mNone\u001b[39;49;00m\u001b[43m)\u001b[49m\n",
      "File \u001b[0;32m/lustre/home/mbonse/2023_s4/50_code/s4hci/s4hci/models/psf_subtraction.py:130\u001b[0m, in \u001b[0;36mS4._print_progress.<locals>.decorator.<locals>.wrapper\u001b[0;34m(self, *args, **kwargs)\u001b[0m\n\u001b[1;32m    128\u001b[0m \u001b[38;5;28;01mif\u001b[39;00m \u001b[38;5;28mself\u001b[39m\u001b[38;5;241m.\u001b[39mnoise_model\u001b[38;5;241m.\u001b[39mverbose:\n\u001b[1;32m    129\u001b[0m     \u001b[38;5;28mprint\u001b[39m(msg \u001b[38;5;241m+\u001b[39m \u001b[38;5;124m\"\u001b[39m\u001b[38;5;124m ... \u001b[39m\u001b[38;5;124m\"\u001b[39m, end\u001b[38;5;241m=\u001b[39m\u001b[38;5;124m'\u001b[39m\u001b[38;5;124m'\u001b[39m)\n\u001b[0;32m--> 130\u001b[0m     result \u001b[38;5;241m=\u001b[39m \u001b[43mfunction\u001b[49m\u001b[43m(\u001b[49m\u001b[38;5;28;43mself\u001b[39;49m\u001b[43m,\u001b[49m\u001b[43m \u001b[49m\u001b[38;5;241;43m*\u001b[39;49m\u001b[43margs\u001b[49m\u001b[43m,\u001b[49m\u001b[43m \u001b[49m\u001b[38;5;241;43m*\u001b[39;49m\u001b[38;5;241;43m*\u001b[39;49m\u001b[43mkwargs\u001b[49m\u001b[43m)\u001b[49m\n\u001b[1;32m    131\u001b[0m     \u001b[38;5;28mprint\u001b[39m(\u001b[38;5;124m\"\u001b[39m\u001b[38;5;124m[DONE]\u001b[39m\u001b[38;5;124m\"\u001b[39m)\n\u001b[1;32m    132\u001b[0m \u001b[38;5;28;01melse\u001b[39;00m:\n",
      "File \u001b[0;32m/lustre/home/mbonse/2023_s4/50_code/s4hci/s4hci/models/psf_subtraction.py:428\u001b[0m, in \u001b[0;36mS4.fit_noise_model\u001b[0;34m(self, num_epochs, use_rotation_loss, training_name, logging_interval, optimizer, optimizer_kwargs)\u001b[0m\n\u001b[1;32m    425\u001b[0m \u001b[38;5;28;01mdef\u001b[39;00m \u001b[38;5;21mloss_closure\u001b[39m():\n\u001b[1;32m    426\u001b[0m     \u001b[38;5;28;01mreturn\u001b[39;00m full_closure(\u001b[38;5;28;01mFalse\u001b[39;00m)[\u001b[38;5;241m0\u001b[39m]\n\u001b[0;32m--> 428\u001b[0m \u001b[43moptimizer\u001b[49m\u001b[38;5;241;43m.\u001b[39;49m\u001b[43mstep\u001b[49m\u001b[43m(\u001b[49m\u001b[43mloss_closure\u001b[49m\u001b[43m)\u001b[49m\n\u001b[1;32m    430\u001b[0m \u001b[38;5;66;03m# 5.) Logg the information\u001b[39;00m\n\u001b[1;32m    431\u001b[0m \u001b[38;5;28;01mif\u001b[39;00m epoch \u001b[38;5;241m%\u001b[39m logging_interval \u001b[38;5;241m==\u001b[39m \u001b[38;5;241m0\u001b[39m:\n\u001b[1;32m    432\u001b[0m     \u001b[38;5;66;03m# Logg the full information with residuals\u001b[39;00m\n\u001b[1;32m    433\u001b[0m     \u001b[38;5;66;03m# x.) get current residuals\u001b[39;00m\n",
      "File \u001b[0;32m/lustre/home/mbonse/2023_s4/50_code/venv_s4/lib/python3.10/site-packages/torch/optim/optimizer.py:373\u001b[0m, in \u001b[0;36mOptimizer.profile_hook_step.<locals>.wrapper\u001b[0;34m(*args, **kwargs)\u001b[0m\n\u001b[1;32m    368\u001b[0m         \u001b[38;5;28;01melse\u001b[39;00m:\n\u001b[1;32m    369\u001b[0m             \u001b[38;5;28;01mraise\u001b[39;00m \u001b[38;5;167;01mRuntimeError\u001b[39;00m(\n\u001b[1;32m    370\u001b[0m                 \u001b[38;5;124mf\u001b[39m\u001b[38;5;124m\"\u001b[39m\u001b[38;5;132;01m{\u001b[39;00mfunc\u001b[38;5;132;01m}\u001b[39;00m\u001b[38;5;124m must return None or a tuple of (new_args, new_kwargs), but got \u001b[39m\u001b[38;5;132;01m{\u001b[39;00mresult\u001b[38;5;132;01m}\u001b[39;00m\u001b[38;5;124m.\u001b[39m\u001b[38;5;124m\"\u001b[39m\n\u001b[1;32m    371\u001b[0m             )\n\u001b[0;32m--> 373\u001b[0m out \u001b[38;5;241m=\u001b[39m \u001b[43mfunc\u001b[49m\u001b[43m(\u001b[49m\u001b[38;5;241;43m*\u001b[39;49m\u001b[43margs\u001b[49m\u001b[43m,\u001b[49m\u001b[43m \u001b[49m\u001b[38;5;241;43m*\u001b[39;49m\u001b[38;5;241;43m*\u001b[39;49m\u001b[43mkwargs\u001b[49m\u001b[43m)\u001b[49m\n\u001b[1;32m    374\u001b[0m \u001b[38;5;28mself\u001b[39m\u001b[38;5;241m.\u001b[39m_optimizer_step_code()\n\u001b[1;32m    376\u001b[0m \u001b[38;5;66;03m# call optimizer step post hooks\u001b[39;00m\n",
      "File \u001b[0;32m/lustre/home/mbonse/2023_s4/50_code/venv_s4/lib/python3.10/site-packages/torch/utils/_contextlib.py:115\u001b[0m, in \u001b[0;36mcontext_decorator.<locals>.decorate_context\u001b[0;34m(*args, **kwargs)\u001b[0m\n\u001b[1;32m    112\u001b[0m \u001b[38;5;129m@functools\u001b[39m\u001b[38;5;241m.\u001b[39mwraps(func)\n\u001b[1;32m    113\u001b[0m \u001b[38;5;28;01mdef\u001b[39;00m \u001b[38;5;21mdecorate_context\u001b[39m(\u001b[38;5;241m*\u001b[39margs, \u001b[38;5;241m*\u001b[39m\u001b[38;5;241m*\u001b[39mkwargs):\n\u001b[1;32m    114\u001b[0m     \u001b[38;5;28;01mwith\u001b[39;00m ctx_factory():\n\u001b[0;32m--> 115\u001b[0m         \u001b[38;5;28;01mreturn\u001b[39;00m \u001b[43mfunc\u001b[49m\u001b[43m(\u001b[49m\u001b[38;5;241;43m*\u001b[39;49m\u001b[43margs\u001b[49m\u001b[43m,\u001b[49m\u001b[43m \u001b[49m\u001b[38;5;241;43m*\u001b[39;49m\u001b[38;5;241;43m*\u001b[39;49m\u001b[43mkwargs\u001b[49m\u001b[43m)\u001b[49m\n",
      "File \u001b[0;32m/lustre/home/mbonse/2023_s4/50_code/venv_s4/lib/python3.10/site-packages/torch/optim/lbfgs.py:411\u001b[0m, in \u001b[0;36mLBFGS.step\u001b[0;34m(self, closure)\u001b[0m\n\u001b[1;32m    408\u001b[0m gtd \u001b[38;5;241m=\u001b[39m flat_grad\u001b[38;5;241m.\u001b[39mdot(d)  \u001b[38;5;66;03m# g * d\u001b[39;00m\n\u001b[1;32m    410\u001b[0m \u001b[38;5;66;03m# directional derivative is below tolerance\u001b[39;00m\n\u001b[0;32m--> 411\u001b[0m \u001b[38;5;28;01mif\u001b[39;00m gtd \u001b[38;5;241m>\u001b[39m \u001b[38;5;241m-\u001b[39mtolerance_change:\n\u001b[1;32m    412\u001b[0m     \u001b[38;5;28;01mbreak\u001b[39;00m\n\u001b[1;32m    414\u001b[0m \u001b[38;5;66;03m# optional line search: user function\u001b[39;00m\n",
      "\u001b[0;31mKeyboardInterrupt\u001b[0m: "
     ]
    }
   ],
   "source": [
    "s4_model.fit_noise_model(\n",
    "    num_epochs=200,\n",
    "    use_rotation_loss=True,\n",
    "    training_name=\"105c_rotation_loss_lambda_1000\",\n",
    "    logging_interval=1,\n",
    "    optimizer=None,\n",
    "    optimizer_kwargs=None)"
   ]
  },
  {
   "cell_type": "code",
   "execution_count": 14,
   "id": "5b8e33ab",
   "metadata": {},
   "outputs": [
    {
     "name": "stdout",
     "output_type": "stream",
     "text": [
      "S4 model: saving model ... S4 Noise: saving noise model ... [DONE]\n",
      "[DONE]\n"
     ]
    }
   ],
   "source": [
    "s4_model.save_models(\n",
    "    file_name_noise_model=\"test_noise_model\",\n",
    "    file_name_normalization_model=\"test_normalization_model\")"
   ]
  },
  {
   "cell_type": "markdown",
   "id": "20c17513",
   "metadata": {},
   "source": [
    "# Test old S4 solution with closed form"
   ]
  },
  {
   "cell_type": "code",
   "execution_count": 15,
   "id": "ba3bb81c",
   "metadata": {},
   "outputs": [],
   "source": [
    "s4_model = S4(\n",
    "    science_cube=science_stacked,\n",
    "    adi_angles=angles_stacked,\n",
    "    psf_template=psf_template_data,\n",
    "    noise_cut_radius_psf=3.6,\n",
    "    noise_mask_radius=5.4,\n",
    "    device=0,\n",
    "    work_dir=\"/fast/mbonse/s4/70_results/09_new_rotation_loss/xx_test_new_implementation\",\n",
    "    noise_normalization=\"normal\",\n",
    "    noise_model_lambda_init=best_lambda,\n",
    "    noise_model_convolve=True,\n",
    "    rotation_grid_subsample=1,\n",
    "    verbose=True)"
   ]
  },
  {
   "cell_type": "code",
   "execution_count": null,
   "id": "1b493475",
   "metadata": {
    "scrolled": true
   },
   "outputs": [
    {
     "name": "stdout",
     "output_type": "stream",
     "text": [
      "S4 model: Find noise model closed form and fine tune. ... S4 model: finding closed form noise model ... S4 Noise: fitting noise model ... Fitting ... "
     ]
    },
    {
     "name": "stderr",
     "output_type": "stream",
     "text": [
      "  2%|██▍                                                                                                                                                              | 207/13689 [01:46<1:53:16,  1.98it/s]"
     ]
    }
   ],
   "source": [
    "s4_model.fit_noise_model_closed_form(\n",
    "    num_epochs=100,\n",
    "    training_name=\"105c_closed_form\",\n",
    "    logging_interval=1,\n",
    "    learning_rate=1e-6)"
   ]
  },
  {
   "cell_type": "markdown",
   "id": "88bdb66a",
   "metadata": {},
   "source": [
    "# Test old S4 with LBFGS"
   ]
  },
  {
   "cell_type": "code",
   "execution_count": 10,
   "id": "1b9e27d0",
   "metadata": {},
   "outputs": [],
   "source": [
    "s4_model = S4(\n",
    "    science_cube=science_stacked,\n",
    "    adi_angles=angles_stacked,\n",
    "    psf_template=psf_template_data,\n",
    "    noise_cut_radius_psf=3.6,\n",
    "    noise_mask_radius=5.4,\n",
    "    device=0,\n",
    "    work_dir=\"/fast/mbonse/s4/70_results/09_new_rotation_loss/xx_test_new_implementation\",\n",
    "    noise_normalization=\"normal\",\n",
    "    noise_model_lambda_init=best_lambda,\n",
    "    noise_model_convolve=True,\n",
    "    rotation_grid_subsample=1,\n",
    "    verbose=True)"
   ]
  },
  {
   "cell_type": "code",
   "execution_count": null,
   "id": "8c922132",
   "metadata": {},
   "outputs": [
    {
     "name": "stdout",
     "output_type": "stream",
     "text": [
      "S4 model: Fit noise model ... "
     ]
    },
    {
     "data": {
      "application/vnd.jupyter.widget-view+json": {
       "model_id": "638f3fed673642f2b4a8d5f7296e953c",
       "version_major": 2,
       "version_minor": 0
      },
      "text/plain": [
       "  0%|          | 0/200 [00:00<?, ?it/s]"
      ]
     },
     "metadata": {},
     "output_type": "display_data"
    }
   ],
   "source": [
    "s4_model.fit_noise_model(\n",
    "    num_epochs=200,\n",
    "    use_rotation_loss=False,\n",
    "    training_name=\"105c_rotation_loss_lambda_1000\",\n",
    "    logging_interval=5,\n",
    "    optimizer=None,\n",
    "    optimizer_kwargs=None)"
   ]
  },
  {
   "cell_type": "markdown",
   "id": "208485f8",
   "metadata": {},
   "source": [
    "# Test save and restoring the models"
   ]
  },
  {
   "cell_type": "code",
   "execution_count": null,
   "id": "595248fe",
   "metadata": {},
   "outputs": [],
   "source": [
    "s4_model = S4.create_from_checkpoint(\n",
    "    noise_model_file=\"/fast/mbonse/s4/70_results/09_new_rotation_loss/xx_test_new_implementation/models/test_noise_model\",\n",
    "    normalization_model_file=\"/fast/mbonse/s4/70_results/09_new_rotation_loss/xx_test_new_implementation/models/test_normalization_model\",\n",
    "    s4_work_dir=\"/fast/mbonse/s4/70_results/09_new_rotation_loss/xx_test_new_implementation\",\n",
    "    science_cube=science_stacked,\n",
    "    adi_angles=angles_stacked,\n",
    "    psf_template=psf_template_data,\n",
    "    device=0,\n",
    "    verbose=True)"
   ]
  },
  {
   "cell_type": "markdown",
   "id": "38e37462",
   "metadata": {},
   "source": [
    "## Test get residual on restored model"
   ]
  },
  {
   "cell_type": "code",
   "execution_count": 22,
   "id": "de42b161",
   "metadata": {},
   "outputs": [],
   "source": [
    "residual = s4_model.compute_residual()"
   ]
  },
  {
   "cell_type": "code",
   "execution_count": 23,
   "id": "c1cb0358",
   "metadata": {},
   "outputs": [],
   "source": [
    "plt.imshow(residual)"
   ]
  },
  {
   "cell_type": "code",
   "execution_count": null,
   "id": "0247b758",
   "metadata": {},
   "outputs": [],
   "source": []
  }
 ],
 "metadata": {
  "kernelspec": {
   "display_name": "Python 3 (ipykernel)",
   "language": "python",
   "name": "python3"
  },
  "language_info": {
   "codemirror_mode": {
    "name": "ipython",
    "version": 3
   },
   "file_extension": ".py",
   "mimetype": "text/x-python",
   "name": "python",
   "nbconvert_exporter": "python",
   "pygments_lexer": "ipython3",
   "version": "3.10.10"
  }
 },
 "nbformat": 4,
 "nbformat_minor": 5
}
