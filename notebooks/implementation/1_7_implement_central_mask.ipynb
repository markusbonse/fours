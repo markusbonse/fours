{
 "cells": [
  {
   "cell_type": "code",
   "execution_count": 1,
   "id": "2ca501dd",
   "metadata": {},
   "outputs": [],
   "source": [
    "import json\n",
    "import sys\n",
    "import numpy as np\n",
    "from pathlib import Path\n",
    "\n",
    "import matplotlib.pyplot as plt\n",
    "from s4hci.utils.data_handling import load_adi_data, save_as_fits"
   ]
  },
  {
   "cell_type": "markdown",
   "id": "13d701a9",
   "metadata": {},
   "source": [
    "# All files we need"
   ]
  },
  {
   "cell_type": "code",
   "execution_count": 21,
   "id": "e1762c24",
   "metadata": {},
   "outputs": [],
   "source": [
    "# 1.) Load the arguments\n",
    "dataset_hdf5_file = \"/fast/mbonse/s4/30_data/HD22049_304_199_C-0065_C_.hdf5\""
   ]
  },
  {
   "cell_type": "markdown",
   "id": "2f43c476",
   "metadata": {},
   "source": [
    "# Load the data"
   ]
  },
  {
   "cell_type": "code",
   "execution_count": 22,
   "id": "6d2b46aa",
   "metadata": {},
   "outputs": [],
   "source": [
    "science_data, _, _ = \\\n",
    "    load_adi_data(\n",
    "        hdf5_dataset=dataset_hdf5_file,\n",
    "        data_tag=\"object\",\n",
    "        psf_template_tag=\"psf_template\",\n",
    "        para_tag=\"header_object/PARANG\")\n",
    "\n",
    "science_data = science_data[:, 12:-12, 12:-12]"
   ]
  },
  {
   "cell_type": "markdown",
   "id": "be5dca24",
   "metadata": {},
   "source": [
    "# Implement mask function"
   ]
  },
  {
   "cell_type": "code",
   "execution_count": 37,
   "id": "4ba52f94",
   "metadata": {},
   "outputs": [],
   "source": [
    "from photutils.aperture import CircularAperture"
   ]
  },
  {
   "cell_type": "code",
   "execution_count": 44,
   "id": "50a5d044",
   "metadata": {},
   "outputs": [],
   "source": [
    "def construct_central_mask(\n",
    "    frame_size,\n",
    "    central_mask_size_radius):\n",
    "    \n",
    "    image_center = (frame_size - 1) / 2.\n",
    "\n",
    "    aperture = CircularAperture(\n",
    "        positions=(image_center, image_center),\n",
    "        r=central_mask_size_radius)\n",
    "    \n",
    "    template_mask = aperture.to_mask().to_image((frame_size, frame_size))\n",
    "    return 1 - template_mask\n",
    "\n",
    "   "
   ]
  },
  {
   "cell_type": "code",
   "execution_count": 47,
   "id": "6b437b65",
   "metadata": {},
   "outputs": [
    {
     "data": {
      "text/plain": [
       "<matplotlib.image.AxesImage at 0x14c83a032020>"
      ]
     },
     "execution_count": 47,
     "metadata": {},
     "output_type": "execute_result"
    },
    {
     "data": {
      "image/png": "[encoded data removed]",
      "text/plain": [
       "<Figure size 640x480 with 1 Axes>"
      ]
     },
     "metadata": {},
     "output_type": "display_data"
    }
   ],
   "source": [
    "plt.imshow(construct_central_mask(science_data.shape[-1], 3.8/2) * science_data[100])"
   ]
  },
  {
   "cell_type": "code",
   "execution_count": 48,
   "id": "a37c6fb2",
   "metadata": {},
   "outputs": [
    {
     "data": {
      "text/plain": [
       "array([[1., 1., 1., ..., 1., 1., 1.],\n",
       "       [1., 1., 1., ..., 1., 1., 1.],\n",
       "       [1., 1., 1., ..., 1., 1., 1.],\n",
       "       ...,\n",
       "       [1., 1., 1., ..., 1., 1., 1.],\n",
       "       [1., 1., 1., ..., 1., 1., 1.],\n",
       "       [1., 1., 1., ..., 1., 1., 1.]])"
      ]
     },
     "execution_count": 48,
     "metadata": {},
     "output_type": "execute_result"
    }
   ],
   "source": [
    "construct_central_mask(science_data.shape[-1], 3.8/2)"
   ]
  },
  {
   "cell_type": "code",
   "execution_count": null,
   "id": "6f0a83d1",
   "metadata": {},
   "outputs": [],
   "source": []
  },
  {
   "cell_type": "code",
   "execution_count": null,
   "id": "29c416a7",
   "metadata": {},
   "outputs": [],
   "source": []
  },
  {
   "cell_type": "code",
   "execution_count": null,
   "id": "e580e07b",
   "metadata": {},
   "outputs": [],
   "source": []
  },
  {
   "cell_type": "code",
   "execution_count": null,
   "id": "a572a60f",
   "metadata": {},
   "outputs": [],
   "source": [
    " mask = np.ones((frame_size, frame_size))\n",
    "    inner_size = np.ceil(central_mask_size_radius)\n",
    "\n",
    "    if frame_size % 2 == 0:\n",
    "        x_grid = y_grid = np.linspace(-frame_size / 2 + 0.5,\n",
    "                                      frame_size / 2 - 0.5, frame_size)\n",
    "    else:\n",
    "        x_grid = y_grid = np.linspace(-(frame_size - 1) / 2,\n",
    "                                      (frame_size - 1) / 2, frame_size)\n",
    "\n",
    "    xx_grid, yy_grid = np.meshgrid(x_grid, y_grid)\n",
    "    rr_grid = np.sqrt(xx_grid ** 2 + yy_grid ** 2)\n",
    "\n",
    "    mask[rr_grid < inner_size] = 0.\n",
    "\n",
    "    return mask"
   ]
  }
 ],
 "metadata": {
  "kernelspec": {
   "display_name": "Python 3 (ipykernel)",
   "language": "python",
   "name": "python3"
  },
  "language_info": {
   "codemirror_mode": {
    "name": "ipython",
    "version": 3
   },
   "file_extension": ".py",
   "mimetype": "text/x-python",
   "name": "python",
   "nbconvert_exporter": "python",
   "pygments_lexer": "ipython3",
   "version": "3.10.10"
  }
 },
 "nbformat": 4,
 "nbformat_minor": 5
}
