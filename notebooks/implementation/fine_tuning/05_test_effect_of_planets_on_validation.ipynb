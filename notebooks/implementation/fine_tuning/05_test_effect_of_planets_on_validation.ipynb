{
 "cells": [
  {
   "cell_type": "markdown",
   "id": "3e8ee4db",
   "metadata": {},
   "source": [
    "## Load the data"
   ]
  },
  {
   "cell_type": "code",
   "execution_count": 1,
   "id": "9a680b29",
   "metadata": {},
   "outputs": [],
   "source": [
    "import json\n",
    "from tqdm import tqdm\n",
    "import numpy as np\n",
    "from pathlib import Path\n",
    "import matplotlib.pyplot as plt\n",
    "\n",
    "import torch\n",
    "\n",
    "from s4hci.utils.data_handling import load_adi_data, save_as_fits\n",
    "from s4hci.models.psf_subtraction import S4\n",
    "from s4hci.models.noise import S4Noise\n",
    "\n",
    "from applefy.utils.fake_planets import add_fake_planets"
   ]
  },
  {
   "cell_type": "code",
   "execution_count": 2,
   "id": "3dc1c430",
   "metadata": {},
   "outputs": [
    {
     "name": "stdout",
     "output_type": "stream",
     "text": [
      "Loading data ... [DONE]\n"
     ]
    }
   ],
   "source": [
    "print(\"Loading data ... \", end='')\n",
    "science_data, raw_angles, raw_psf_template_data = \\\n",
    "    load_adi_data(\"/fast/mbonse/s4/30_data/EpsEri_0100_C-0656-A.hdf5\",\n",
    "                  data_tag=\"13_object_final\",\n",
    "                  psf_template_tag=\"10_psf\",\n",
    "                  para_tag=\"header_13_object_final/PARANG\") \n",
    "\n",
    "psf_template_data = np.mean(raw_psf_template_data, axis=0)\n",
    "print(\"[DONE]\")"
   ]
  },
  {
   "cell_type": "code",
   "execution_count": 3,
   "id": "9b5afc7e",
   "metadata": {},
   "outputs": [],
   "source": [
    "# Background subtraction\n",
    "psf_template_data = psf_template_data - np.min(psf_template_data)"
   ]
  },
  {
   "cell_type": "markdown",
   "id": "dd0aa063",
   "metadata": {},
   "source": [
    "## Create 3 stacks with different fake planets"
   ]
  },
  {
   "cell_type": "code",
   "execution_count": 4,
   "id": "c97732fc",
   "metadata": {},
   "outputs": [],
   "source": [
    "config_file_a = \"/fast/mbonse/s4/30_data/0100_C-0656-A/configs_cgrid/exp_ID_0071a.json\"\n",
    "config_file_b = \"/fast/mbonse/s4/30_data/0100_C-0656-A/configs_cgrid/exp_ID_0142b.json\"\n",
    "config_file_c = \"/fast/mbonse/s4/30_data/0100_C-0656-A/configs_cgrid/exp_ID_0190c.json\""
   ]
  },
  {
   "cell_type": "code",
   "execution_count": 5,
   "id": "ad14aef5",
   "metadata": {},
   "outputs": [],
   "source": [
    "with open(config_file_a) as json_file:\n",
    "    fake_planet_config_a = json.load(json_file)\n",
    "    \n",
    "with open(config_file_b) as json_file:\n",
    "    fake_planet_config_b = json.load(json_file)\n",
    "    \n",
    "with open(config_file_c) as json_file:\n",
    "    fake_planet_config_c = json.load(json_file)"
   ]
  },
  {
   "cell_type": "code",
   "execution_count": 6,
   "id": "fb59828a",
   "metadata": {},
   "outputs": [],
   "source": [
    "data_no_fake_planet = science_data"
   ]
  },
  {
   "cell_type": "code",
   "execution_count": 7,
   "id": "c6762378",
   "metadata": {},
   "outputs": [],
   "source": [
    "data_with_fake_planet_a = add_fake_planets(\n",
    "    input_stack=science_data,\n",
    "    psf_template=psf_template_data,\n",
    "    parang=raw_angles,\n",
    "    dit_psf_template=0.004256,\n",
    "    dit_science=0.08,\n",
    "    experiment_config=fake_planet_config_a,\n",
    "    scaling_factor=1.0)"
   ]
  },
  {
   "cell_type": "code",
   "execution_count": 8,
   "id": "a240615c",
   "metadata": {},
   "outputs": [],
   "source": [
    "data_with_fake_planet_b = add_fake_planets(\n",
    "    input_stack=science_data,\n",
    "    psf_template=psf_template_data,\n",
    "    parang=raw_angles,\n",
    "    dit_psf_template=0.004256,\n",
    "    dit_science=0.08,\n",
    "    experiment_config=fake_planet_config_b,\n",
    "    scaling_factor=1.0)"
   ]
  },
  {
   "cell_type": "code",
   "execution_count": 9,
   "id": "838f88cc",
   "metadata": {},
   "outputs": [],
   "source": [
    "data_with_fake_planet_c = add_fake_planets(\n",
    "    input_stack=science_data,\n",
    "    psf_template=psf_template_data,\n",
    "    parang=raw_angles,\n",
    "    dit_psf_template=0.004256,\n",
    "    dit_science=0.08,\n",
    "    experiment_config=fake_planet_config_c,\n",
    "    scaling_factor=1.0)"
   ]
  },
  {
   "cell_type": "markdown",
   "id": "6ce16b46",
   "metadata": {},
   "source": [
    "# Test the validation for the different datasets"
   ]
  },
  {
   "cell_type": "code",
   "execution_count": 10,
   "id": "9d7eed9a",
   "metadata": {},
   "outputs": [],
   "source": [
    "lambdas = np.logspace(1, 8, 200)"
   ]
  },
  {
   "cell_type": "code",
   "execution_count": 15,
   "id": "72ee7a9a",
   "metadata": {},
   "outputs": [],
   "source": [
    "def test_dataset(dataset_in):\n",
    "    \n",
    "    #1.) Create the S4 model\n",
    "    s4_model = S4(\n",
    "        data_cube=dataset_in,\n",
    "        parang=raw_angles,\n",
    "        psf_template=psf_template_data,\n",
    "        noise_noise_cut_radius_psf=4.0,\n",
    "        noise_mask_radius=5.5,\n",
    "        device=0,\n",
    "        noise_lambda_init=1e3,\n",
    "        planet_convolve_second=True,\n",
    "        planet_use_up_sample=1,\n",
    "        work_dir=\"/fast/mbonse/s4/70_results/02_fine_tuning/s4_lambda_test/\",\n",
    "        verbose=True)\n",
    "    \n",
    "    # 2.) Test the lambda values\n",
    "    all_results, best_lambda = s4_model.validate_lambdas_noise(\n",
    "        num_separations=20,\n",
    "        lambdas=lambdas,\n",
    "        num_test_positions=15,\n",
    "        test_size=0.3,\n",
    "        approx_svd=5000)\n",
    "    \n",
    "    return all_results, best_lambda"
   ]
  },
  {
   "cell_type": "code",
   "execution_count": 16,
   "id": "162990bf",
   "metadata": {},
   "outputs": [],
   "source": [
    "experiment_setups = [\n",
    "    (\"no planet\", data_no_fake_planet),\n",
    "    (\"Planet a\", data_with_fake_planet_a),\n",
    "    (\"Planet b\", data_with_fake_planet_b),\n",
    "    (\"Planet c\", data_with_fake_planet_c)]"
   ]
  },
  {
   "cell_type": "code",
   "execution_count": 17,
   "id": "55dbd840",
   "metadata": {
    "scrolled": true
   },
   "outputs": [
    {
     "name": "stdout",
     "output_type": "stream",
     "text": [
      "Creating right reason mask ... [DONE]\n",
      "Compute validation positions for separation 2.5238095238095237 ...\n",
      "Setup training data for separation 2.5238095238095237 ...\n",
      "Build normalization frames ... [DONE]\n",
      "Compute betas for separation 2.5238095238095237 ...\n"
     ]
    },
    {
     "name": "stderr",
     "output_type": "stream",
     "text": [
      "100%|███████████████████████████████████████████████████████████████████████████████████████████████████████████████████████████████████████████████████████████████████████| 15/15 [01:26<00:00,  5.77s/it]\n"
     ]
    },
    {
     "name": "stdout",
     "output_type": "stream",
     "text": [
      "Re-mask betas for separation 2.5238095238095237 ...\n",
      "Compute validation errors for separation 2.5238095238095237 ...\n"
     ]
    },
    {
     "name": "stderr",
     "output_type": "stream",
     "text": [
      "100%|████████████████████████████████████████████████████████████████████████████████████████████████████████████████████████████████████████████████████████████████████| 200/200 [00:00<00:00, 754.92it/s]\n"
     ]
    },
    {
     "name": "stdout",
     "output_type": "stream",
     "text": [
      "Compute validation positions for separation 5.0476190476190474 ...\n",
      "Setup training data for separation 5.0476190476190474 ...\n",
      "Build normalization frames ... [DONE]\n",
      "Compute betas for separation 5.0476190476190474 ...\n"
     ]
    },
    {
     "name": "stderr",
     "output_type": "stream",
     "text": [
      "100%|███████████████████████████████████████████████████████████████████████████████████████████████████████████████████████████████████████████████████████████████████████| 15/15 [01:26<00:00,  5.77s/it]\n"
     ]
    },
    {
     "name": "stdout",
     "output_type": "stream",
     "text": [
      "Re-mask betas for separation 5.0476190476190474 ...\n",
      "Compute validation errors for separation 5.0476190476190474 ...\n"
     ]
    },
    {
     "name": "stderr",
     "output_type": "stream",
     "text": [
      "100%|████████████████████████████████████████████████████████████████████████████████████████████████████████████████████████████████████████████████████████████████████| 200/200 [00:00<00:00, 758.19it/s]\n"
     ]
    },
    {
     "name": "stdout",
     "output_type": "stream",
     "text": [
      "Compute validation positions for separation 7.571428571428571 ...\n",
      "Setup training data for separation 7.571428571428571 ...\n",
      "Build normalization frames ... [DONE]\n",
      "Compute betas for separation 7.571428571428571 ...\n"
     ]
    },
    {
     "name": "stderr",
     "output_type": "stream",
     "text": [
      "100%|███████████████████████████████████████████████████████████████████████████████████████████████████████████████████████████████████████████████████████████████████████| 15/15 [01:26<00:00,  5.77s/it]\n"
     ]
    },
    {
     "name": "stdout",
     "output_type": "stream",
     "text": [
      "Re-mask betas for separation 7.571428571428571 ...\n",
      "Compute validation errors for separation 7.571428571428571 ...\n"
     ]
    },
    {
     "name": "stderr",
     "output_type": "stream",
     "text": [
      "100%|████████████████████████████████████████████████████████████████████████████████████████████████████████████████████████████████████████████████████████████████████| 200/200 [00:00<00:00, 796.54it/s]\n"
     ]
    },
    {
     "name": "stdout",
     "output_type": "stream",
     "text": [
      "Compute validation positions for separation 10.095238095238095 ...\n",
      "Setup training data for separation 10.095238095238095 ...\n",
      "Build normalization frames ... [DONE]\n",
      "Compute betas for separation 10.095238095238095 ...\n"
     ]
    },
    {
     "name": "stderr",
     "output_type": "stream",
     "text": [
      "100%|███████████████████████████████████████████████████████████████████████████████████████████████████████████████████████████████████████████████████████████████████████| 15/15 [01:26<00:00,  5.77s/it]\n"
     ]
    },
    {
     "name": "stdout",
     "output_type": "stream",
     "text": [
      "Re-mask betas for separation 10.095238095238095 ...\n",
      "Compute validation errors for separation 10.095238095238095 ...\n"
     ]
    },
    {
     "name": "stderr",
     "output_type": "stream",
     "text": [
      "100%|████████████████████████████████████████████████████████████████████████████████████████████████████████████████████████████████████████████████████████████████████| 200/200 [00:00<00:00, 749.22it/s]\n"
     ]
    },
    {
     "name": "stdout",
     "output_type": "stream",
     "text": [
      "Compute validation positions for separation 12.619047619047619 ...\n",
      "Setup training data for separation 12.619047619047619 ...\n",
      "Build normalization frames ... [DONE]\n",
      "Compute betas for separation 12.619047619047619 ...\n"
     ]
    },
    {
     "name": "stderr",
     "output_type": "stream",
     "text": [
      "100%|███████████████████████████████████████████████████████████████████████████████████████████████████████████████████████████████████████████████████████████████████████| 15/15 [01:26<00:00,  5.77s/it]\n"
     ]
    },
    {
     "name": "stdout",
     "output_type": "stream",
     "text": [
      "Re-mask betas for separation 12.619047619047619 ...\n",
      "Compute validation errors for separation 12.619047619047619 ...\n"
     ]
    },
    {
     "name": "stderr",
     "output_type": "stream",
     "text": [
      "100%|████████████████████████████████████████████████████████████████████████████████████████████████████████████████████████████████████████████████████████████████████| 200/200 [00:00<00:00, 725.38it/s]\n"
     ]
    },
    {
     "name": "stdout",
     "output_type": "stream",
     "text": [
      "Compute validation positions for separation 15.142857142857142 ...\n",
      "Setup training data for separation 15.142857142857142 ...\n",
      "Build normalization frames ... [DONE]\n",
      "Compute betas for separation 15.142857142857142 ...\n"
     ]
    },
    {
     "name": "stderr",
     "output_type": "stream",
     "text": [
      "100%|███████████████████████████████████████████████████████████████████████████████████████████████████████████████████████████████████████████████████████████████████████| 15/15 [01:26<00:00,  5.78s/it]\n"
     ]
    },
    {
     "name": "stdout",
     "output_type": "stream",
     "text": [
      "Re-mask betas for separation 15.142857142857142 ...\n",
      "Compute validation errors for separation 15.142857142857142 ...\n"
     ]
    },
    {
     "name": "stderr",
     "output_type": "stream",
     "text": [
      "100%|████████████████████████████████████████████████████████████████████████████████████████████████████████████████████████████████████████████████████████████████████| 200/200 [00:00<00:00, 780.06it/s]\n"
     ]
    },
    {
     "name": "stdout",
     "output_type": "stream",
     "text": [
      "Compute validation positions for separation 17.666666666666664 ...\n",
      "Setup training data for separation 17.666666666666664 ...\n",
      "Build normalization frames ... [DONE]\n",
      "Compute betas for separation 17.666666666666664 ...\n"
     ]
    },
    {
     "name": "stderr",
     "output_type": "stream",
     "text": [
      "100%|███████████████████████████████████████████████████████████████████████████████████████████████████████████████████████████████████████████████████████████████████████| 15/15 [01:26<00:00,  5.77s/it]\n"
     ]
    },
    {
     "name": "stdout",
     "output_type": "stream",
     "text": [
      "Re-mask betas for separation 17.666666666666664 ...\n",
      "Compute validation errors for separation 17.666666666666664 ...\n"
     ]
    },
    {
     "name": "stderr",
     "output_type": "stream",
     "text": [
      "100%|████████████████████████████████████████████████████████████████████████████████████████████████████████████████████████████████████████████████████████████████████| 200/200 [00:00<00:00, 793.97it/s]\n"
     ]
    },
    {
     "name": "stdout",
     "output_type": "stream",
     "text": [
      "Compute validation positions for separation 20.19047619047619 ...\n",
      "Setup training data for separation 20.19047619047619 ...\n",
      "Build normalization frames ... [DONE]\n",
      "Compute betas for separation 20.19047619047619 ...\n"
     ]
    },
    {
     "name": "stderr",
     "output_type": "stream",
     "text": [
      "100%|███████████████████████████████████████████████████████████████████████████████████████████████████████████████████████████████████████████████████████████████████████| 15/15 [01:26<00:00,  5.77s/it]\n"
     ]
    },
    {
     "name": "stdout",
     "output_type": "stream",
     "text": [
      "Re-mask betas for separation 20.19047619047619 ...\n",
      "Compute validation errors for separation 20.19047619047619 ...\n"
     ]
    },
    {
     "name": "stderr",
     "output_type": "stream",
     "text": [
      "100%|████████████████████████████████████████████████████████████████████████████████████████████████████████████████████████████████████████████████████████████████████| 200/200 [00:00<00:00, 777.11it/s]\n"
     ]
    },
    {
     "name": "stdout",
     "output_type": "stream",
     "text": [
      "Compute validation positions for separation 22.714285714285715 ...\n",
      "Setup training data for separation 22.714285714285715 ...\n",
      "Build normalization frames ... [DONE]\n",
      "Compute betas for separation 22.714285714285715 ...\n"
     ]
    },
    {
     "name": "stderr",
     "output_type": "stream",
     "text": [
      "100%|███████████████████████████████████████████████████████████████████████████████████████████████████████████████████████████████████████████████████████████████████████| 15/15 [01:26<00:00,  5.77s/it]\n"
     ]
    },
    {
     "name": "stdout",
     "output_type": "stream",
     "text": [
      "Re-mask betas for separation 22.714285714285715 ...\n",
      "Compute validation errors for separation 22.714285714285715 ...\n"
     ]
    },
    {
     "name": "stderr",
     "output_type": "stream",
     "text": [
      "100%|████████████████████████████████████████████████████████████████████████████████████████████████████████████████████████████████████████████████████████████████████| 200/200 [00:00<00:00, 755.59it/s]\n"
     ]
    },
    {
     "name": "stdout",
     "output_type": "stream",
     "text": [
      "Compute validation positions for separation 25.238095238095237 ...\n",
      "Setup training data for separation 25.238095238095237 ...\n",
      "Build normalization frames ... [DONE]\n",
      "Compute betas for separation 25.238095238095237 ...\n"
     ]
    },
    {
     "name": "stderr",
     "output_type": "stream",
     "text": [
      "100%|███████████████████████████████████████████████████████████████████████████████████████████████████████████████████████████████████████████████████████████████████████| 15/15 [01:26<00:00,  5.77s/it]\n"
     ]
    },
    {
     "name": "stdout",
     "output_type": "stream",
     "text": [
      "Re-mask betas for separation 25.238095238095237 ...\n",
      "Compute validation errors for separation 25.238095238095237 ...\n"
     ]
    },
    {
     "name": "stderr",
     "output_type": "stream",
     "text": [
      "100%|████████████████████████████████████████████████████████████████████████████████████████████████████████████████████████████████████████████████████████████████████| 200/200 [00:00<00:00, 756.35it/s]\n"
     ]
    },
    {
     "name": "stdout",
     "output_type": "stream",
     "text": [
      "Compute validation positions for separation 27.76190476190476 ...\n",
      "Setup training data for separation 27.76190476190476 ...\n",
      "Build normalization frames ... [DONE]\n",
      "Compute betas for separation 27.76190476190476 ...\n"
     ]
    },
    {
     "name": "stderr",
     "output_type": "stream",
     "text": [
      "100%|███████████████████████████████████████████████████████████████████████████████████████████████████████████████████████████████████████████████████████████████████████| 15/15 [01:26<00:00,  5.77s/it]\n"
     ]
    },
    {
     "name": "stdout",
     "output_type": "stream",
     "text": [
      "Re-mask betas for separation 27.76190476190476 ...\n",
      "Compute validation errors for separation 27.76190476190476 ...\n"
     ]
    },
    {
     "name": "stderr",
     "output_type": "stream",
     "text": [
      "100%|████████████████████████████████████████████████████████████████████████████████████████████████████████████████████████████████████████████████████████████████████| 200/200 [00:00<00:00, 765.99it/s]\n"
     ]
    },
    {
     "name": "stdout",
     "output_type": "stream",
     "text": [
      "Compute validation positions for separation 30.285714285714285 ...\n",
      "Setup training data for separation 30.285714285714285 ...\n",
      "Build normalization frames ... [DONE]\n",
      "Compute betas for separation 30.285714285714285 ...\n"
     ]
    },
    {
     "name": "stderr",
     "output_type": "stream",
     "text": [
      "100%|███████████████████████████████████████████████████████████████████████████████████████████████████████████████████████████████████████████████████████████████████████| 15/15 [01:26<00:00,  5.77s/it]\n"
     ]
    },
    {
     "name": "stdout",
     "output_type": "stream",
     "text": [
      "Re-mask betas for separation 30.285714285714285 ...\n",
      "Compute validation errors for separation 30.285714285714285 ...\n"
     ]
    },
    {
     "name": "stderr",
     "output_type": "stream",
     "text": [
      "100%|████████████████████████████████████████████████████████████████████████████████████████████████████████████████████████████████████████████████████████████████████| 200/200 [00:00<00:00, 774.58it/s]\n"
     ]
    },
    {
     "name": "stdout",
     "output_type": "stream",
     "text": [
      "Compute validation positions for separation 32.80952380952381 ...\n",
      "Setup training data for separation 32.80952380952381 ...\n",
      "Build normalization frames ... [DONE]\n",
      "Compute betas for separation 32.80952380952381 ...\n"
     ]
    },
    {
     "name": "stderr",
     "output_type": "stream",
     "text": [
      "100%|███████████████████████████████████████████████████████████████████████████████████████████████████████████████████████████████████████████████████████████████████████| 15/15 [01:26<00:00,  5.77s/it]\n"
     ]
    },
    {
     "name": "stdout",
     "output_type": "stream",
     "text": [
      "Re-mask betas for separation 32.80952380952381 ...\n",
      "Compute validation errors for separation 32.80952380952381 ...\n"
     ]
    },
    {
     "name": "stderr",
     "output_type": "stream",
     "text": [
      "100%|████████████████████████████████████████████████████████████████████████████████████████████████████████████████████████████████████████████████████████████████████| 200/200 [00:00<00:00, 758.26it/s]\n"
     ]
    },
    {
     "name": "stdout",
     "output_type": "stream",
     "text": [
      "Compute validation positions for separation 35.33333333333333 ...\n",
      "Setup training data for separation 35.33333333333333 ...\n",
      "Build normalization frames ... [DONE]\n",
      "Compute betas for separation 35.33333333333333 ...\n"
     ]
    },
    {
     "name": "stderr",
     "output_type": "stream",
     "text": [
      "100%|███████████████████████████████████████████████████████████████████████████████████████████████████████████████████████████████████████████████████████████████████████| 15/15 [01:26<00:00,  5.77s/it]\n"
     ]
    },
    {
     "name": "stdout",
     "output_type": "stream",
     "text": [
      "Re-mask betas for separation 35.33333333333333 ...\n",
      "Compute validation errors for separation 35.33333333333333 ...\n"
     ]
    },
    {
     "name": "stderr",
     "output_type": "stream",
     "text": [
      "100%|████████████████████████████████████████████████████████████████████████████████████████████████████████████████████████████████████████████████████████████████████| 200/200 [00:00<00:00, 740.41it/s]\n"
     ]
    },
    {
     "name": "stdout",
     "output_type": "stream",
     "text": [
      "Compute validation positions for separation 37.857142857142854 ...\n",
      "Setup training data for separation 37.857142857142854 ...\n",
      "Build normalization frames ... [DONE]\n",
      "Compute betas for separation 37.857142857142854 ...\n"
     ]
    },
    {
     "name": "stderr",
     "output_type": "stream",
     "text": [
      "100%|███████████████████████████████████████████████████████████████████████████████████████████████████████████████████████████████████████████████████████████████████████| 15/15 [01:26<00:00,  5.77s/it]\n"
     ]
    },
    {
     "name": "stdout",
     "output_type": "stream",
     "text": [
      "Re-mask betas for separation 37.857142857142854 ...\n",
      "Compute validation errors for separation 37.857142857142854 ...\n"
     ]
    },
    {
     "name": "stderr",
     "output_type": "stream",
     "text": [
      "100%|████████████████████████████████████████████████████████████████████████████████████████████████████████████████████████████████████████████████████████████████████| 200/200 [00:00<00:00, 753.20it/s]\n"
     ]
    },
    {
     "name": "stdout",
     "output_type": "stream",
     "text": [
      "Compute validation positions for separation 40.38095238095238 ...\n",
      "Setup training data for separation 40.38095238095238 ...\n",
      "Build normalization frames ... [DONE]\n",
      "Compute betas for separation 40.38095238095238 ...\n"
     ]
    },
    {
     "name": "stderr",
     "output_type": "stream",
     "text": [
      "100%|███████████████████████████████████████████████████████████████████████████████████████████████████████████████████████████████████████████████████████████████████████| 15/15 [01:26<00:00,  5.77s/it]\n"
     ]
    },
    {
     "name": "stdout",
     "output_type": "stream",
     "text": [
      "Re-mask betas for separation 40.38095238095238 ...\n",
      "Compute validation errors for separation 40.38095238095238 ...\n"
     ]
    },
    {
     "name": "stderr",
     "output_type": "stream",
     "text": [
      "100%|████████████████████████████████████████████████████████████████████████████████████████████████████████████████████████████████████████████████████████████████████| 200/200 [00:00<00:00, 776.09it/s]\n"
     ]
    },
    {
     "name": "stdout",
     "output_type": "stream",
     "text": [
      "Compute validation positions for separation 42.904761904761905 ...\n",
      "Setup training data for separation 42.904761904761905 ...\n",
      "Build normalization frames ... [DONE]\n",
      "Compute betas for separation 42.904761904761905 ...\n"
     ]
    },
    {
     "name": "stderr",
     "output_type": "stream",
     "text": [
      "100%|███████████████████████████████████████████████████████████████████████████████████████████████████████████████████████████████████████████████████████████████████████| 15/15 [01:26<00:00,  5.77s/it]\n"
     ]
    },
    {
     "name": "stdout",
     "output_type": "stream",
     "text": [
      "Re-mask betas for separation 42.904761904761905 ...\n",
      "Compute validation errors for separation 42.904761904761905 ...\n"
     ]
    },
    {
     "name": "stderr",
     "output_type": "stream",
     "text": [
      "100%|████████████████████████████████████████████████████████████████████████████████████████████████████████████████████████████████████████████████████████████████████| 200/200 [00:00<00:00, 795.53it/s]\n"
     ]
    },
    {
     "name": "stdout",
     "output_type": "stream",
     "text": [
      "Compute validation positions for separation 45.42857142857143 ...\n",
      "Setup training data for separation 45.42857142857143 ...\n",
      "Build normalization frames ... [DONE]\n",
      "Compute betas for separation 45.42857142857143 ...\n"
     ]
    },
    {
     "name": "stderr",
     "output_type": "stream",
     "text": [
      "100%|███████████████████████████████████████████████████████████████████████████████████████████████████████████████████████████████████████████████████████████████████████| 15/15 [01:26<00:00,  5.77s/it]\n"
     ]
    },
    {
     "name": "stdout",
     "output_type": "stream",
     "text": [
      "Re-mask betas for separation 45.42857142857143 ...\n",
      "Compute validation errors for separation 45.42857142857143 ...\n"
     ]
    },
    {
     "name": "stderr",
     "output_type": "stream",
     "text": [
      "100%|████████████████████████████████████████████████████████████████████████████████████████████████████████████████████████████████████████████████████████████████████| 200/200 [00:00<00:00, 741.51it/s]\n"
     ]
    },
    {
     "name": "stdout",
     "output_type": "stream",
     "text": [
      "Compute validation positions for separation 47.95238095238095 ...\n",
      "Setup training data for separation 47.95238095238095 ...\n",
      "Build normalization frames ... [DONE]\n",
      "Compute betas for separation 47.95238095238095 ...\n"
     ]
    },
    {
     "name": "stderr",
     "output_type": "stream",
     "text": [
      "100%|███████████████████████████████████████████████████████████████████████████████████████████████████████████████████████████████████████████████████████████████████████| 15/15 [01:26<00:00,  5.77s/it]\n"
     ]
    },
    {
     "name": "stdout",
     "output_type": "stream",
     "text": [
      "Re-mask betas for separation 47.95238095238095 ...\n",
      "Compute validation errors for separation 47.95238095238095 ...\n"
     ]
    },
    {
     "name": "stderr",
     "output_type": "stream",
     "text": [
      "100%|████████████████████████████████████████████████████████████████████████████████████████████████████████████████████████████████████████████████████████████████████| 200/200 [00:00<00:00, 775.28it/s]\n"
     ]
    },
    {
     "name": "stdout",
     "output_type": "stream",
     "text": [
      "Compute validation positions for separation 50.476190476190474 ...\n",
      "Setup training data for separation 50.476190476190474 ...\n",
      "Build normalization frames ... [DONE]\n",
      "Compute betas for separation 50.476190476190474 ...\n"
     ]
    },
    {
     "name": "stderr",
     "output_type": "stream",
     "text": [
      "100%|███████████████████████████████████████████████████████████████████████████████████████████████████████████████████████████████████████████████████████████████████████| 15/15 [01:26<00:00,  5.77s/it]\n"
     ]
    },
    {
     "name": "stdout",
     "output_type": "stream",
     "text": [
      "Re-mask betas for separation 50.476190476190474 ...\n",
      "Compute validation errors for separation 50.476190476190474 ...\n"
     ]
    },
    {
     "name": "stderr",
     "output_type": "stream",
     "text": [
      "100%|████████████████████████████████████████████████████████████████████████████████████████████████████████████████████████████████████████████████████████████████████| 200/200 [00:00<00:00, 804.08it/s]\n"
     ]
    },
    {
     "name": "stdout",
     "output_type": "stream",
     "text": [
      "Recommended Lambda = 62949.89\n",
      "Make sure to check if the tested range of lambda values is covering the global minimum!\n"
     ]
    },
    {
     "data": {
      "image/png": "[encoded data removed]",
      "text/plain": [
       "<Figure size 640x480 with 1 Axes>"
      ]
     },
     "metadata": {},
     "output_type": "display_data"
    },
    {
     "name": "stdout",
     "output_type": "stream",
     "text": [
      "Creating right reason mask ... [DONE]\n",
      "Compute validation positions for separation 2.5238095238095237 ...\n",
      "Setup training data for separation 2.5238095238095237 ...\n",
      "Build normalization frames ... [DONE]\n",
      "Compute betas for separation 2.5238095238095237 ...\n"
     ]
    },
    {
     "name": "stderr",
     "output_type": "stream",
     "text": [
      "100%|███████████████████████████████████████████████████████████████████████████████████████████████████████████████████████████████████████████████████████████████████████| 15/15 [01:26<00:00,  5.77s/it]\n"
     ]
    },
    {
     "name": "stdout",
     "output_type": "stream",
     "text": [
      "Re-mask betas for separation 2.5238095238095237 ...\n",
      "Compute validation errors for separation 2.5238095238095237 ...\n"
     ]
    },
    {
     "name": "stderr",
     "output_type": "stream",
     "text": [
      "100%|████████████████████████████████████████████████████████████████████████████████████████████████████████████████████████████████████████████████████████████████████| 200/200 [00:00<00:00, 721.44it/s]\n"
     ]
    },
    {
     "name": "stdout",
     "output_type": "stream",
     "text": [
      "Compute validation positions for separation 5.0476190476190474 ...\n",
      "Setup training data for separation 5.0476190476190474 ...\n",
      "Build normalization frames ... [DONE]\n",
      "Compute betas for separation 5.0476190476190474 ...\n"
     ]
    },
    {
     "name": "stderr",
     "output_type": "stream",
     "text": [
      "100%|███████████████████████████████████████████████████████████████████████████████████████████████████████████████████████████████████████████████████████████████████████| 15/15 [01:26<00:00,  5.77s/it]\n"
     ]
    },
    {
     "name": "stdout",
     "output_type": "stream",
     "text": [
      "Re-mask betas for separation 5.0476190476190474 ...\n",
      "Compute validation errors for separation 5.0476190476190474 ...\n"
     ]
    },
    {
     "name": "stderr",
     "output_type": "stream",
     "text": [
      "100%|████████████████████████████████████████████████████████████████████████████████████████████████████████████████████████████████████████████████████████████████████| 200/200 [00:00<00:00, 805.17it/s]\n"
     ]
    },
    {
     "name": "stdout",
     "output_type": "stream",
     "text": [
      "Compute validation positions for separation 7.571428571428571 ...\n",
      "Setup training data for separation 7.571428571428571 ...\n",
      "Build normalization frames ... [DONE]\n",
      "Compute betas for separation 7.571428571428571 ...\n"
     ]
    },
    {
     "name": "stderr",
     "output_type": "stream",
     "text": [
      "100%|███████████████████████████████████████████████████████████████████████████████████████████████████████████████████████████████████████████████████████████████████████| 15/15 [01:26<00:00,  5.77s/it]\n"
     ]
    },
    {
     "name": "stdout",
     "output_type": "stream",
     "text": [
      "Re-mask betas for separation 7.571428571428571 ...\n",
      "Compute validation errors for separation 7.571428571428571 ...\n"
     ]
    },
    {
     "name": "stderr",
     "output_type": "stream",
     "text": [
      "100%|████████████████████████████████████████████████████████████████████████████████████████████████████████████████████████████████████████████████████████████████████| 200/200 [00:00<00:00, 798.37it/s]\n"
     ]
    },
    {
     "name": "stdout",
     "output_type": "stream",
     "text": [
      "Compute validation positions for separation 10.095238095238095 ...\n",
      "Setup training data for separation 10.095238095238095 ...\n",
      "Build normalization frames ... [DONE]\n",
      "Compute betas for separation 10.095238095238095 ...\n"
     ]
    },
    {
     "name": "stderr",
     "output_type": "stream",
     "text": [
      " 53%|█████████████████████████████████████████████████████████████████████████████████████████▌                                                                              | 8/15 [00:51<00:45,  6.50s/it]\n"
     ]
    },
    {
     "ename": "KeyboardInterrupt",
     "evalue": "",
     "output_type": "error",
     "traceback": [
      "\u001B[0;31m---------------------------------------------------------------------------\u001B[0m",
      "\u001B[0;31mKeyboardInterrupt\u001B[0m                         Traceback (most recent call last)",
      "Cell \u001B[0;32mIn[17], line 3\u001B[0m\n\u001B[1;32m      1\u001B[0m \u001B[38;5;28;01mfor\u001B[39;00m tmp_planet_name, tmp_dataset \u001B[38;5;129;01min\u001B[39;00m experiment_setups:\n\u001B[0;32m----> 3\u001B[0m     all_results, best_lambda \u001B[38;5;241m=\u001B[39m \u001B[43mtest_dataset\u001B[49m\u001B[43m(\u001B[49m\u001B[43mtmp_dataset\u001B[49m\u001B[43m)\u001B[49m\n\u001B[1;32m      5\u001B[0m     merged_results \u001B[38;5;241m=\u001B[39m np\u001B[38;5;241m.\u001B[39marray([i \u001B[38;5;28;01mfor\u001B[39;00m i \u001B[38;5;129;01min\u001B[39;00m all_results\u001B[38;5;241m.\u001B[39mvalues()])\n\u001B[1;32m      6\u001B[0m     median_result \u001B[38;5;241m=\u001B[39m np\u001B[38;5;241m.\u001B[39mmedian(merged_results, axis\u001B[38;5;241m=\u001B[39m\u001B[38;5;241m0\u001B[39m)\n",
      "Cell \u001B[0;32mIn[15], line 18\u001B[0m, in \u001B[0;36mtest_dataset\u001B[0;34m(dataset_in)\u001B[0m\n\u001B[1;32m      4\u001B[0m s4_model \u001B[38;5;241m=\u001B[39m S4(\n\u001B[1;32m      5\u001B[0m     data_cube\u001B[38;5;241m=\u001B[39mdataset_in,\n\u001B[1;32m      6\u001B[0m     parang\u001B[38;5;241m=\u001B[39mraw_angles,\n\u001B[0;32m   (...)\u001B[0m\n\u001B[1;32m     14\u001B[0m     work_dir\u001B[38;5;241m=\u001B[39m\u001B[38;5;124m\"\u001B[39m\u001B[38;5;124m/fast/mbonse/s4/70_results/02_fine_tuning/s4_lambda_test/\u001B[39m\u001B[38;5;124m\"\u001B[39m,\n\u001B[1;32m     15\u001B[0m     verbose\u001B[38;5;241m=\u001B[39m\u001B[38;5;28;01mTrue\u001B[39;00m)\n\u001B[1;32m     17\u001B[0m \u001B[38;5;66;03m# 2.) Test the lambda values\u001B[39;00m\n\u001B[0;32m---> 18\u001B[0m all_results, best_lambda \u001B[38;5;241m=\u001B[39m \u001B[43ms4_model\u001B[49m\u001B[38;5;241;43m.\u001B[39;49m\u001B[43mvalidate_lambdas_noise\u001B[49m\u001B[43m(\u001B[49m\n\u001B[1;32m     19\u001B[0m \u001B[43m    \u001B[49m\u001B[43mnum_separations\u001B[49m\u001B[38;5;241;43m=\u001B[39;49m\u001B[38;5;241;43m20\u001B[39;49m\u001B[43m,\u001B[49m\n\u001B[1;32m     20\u001B[0m \u001B[43m    \u001B[49m\u001B[43mlambdas\u001B[49m\u001B[38;5;241;43m=\u001B[39;49m\u001B[43mlambdas\u001B[49m\u001B[43m,\u001B[49m\n\u001B[1;32m     21\u001B[0m \u001B[43m    \u001B[49m\u001B[43mnum_test_positions\u001B[49m\u001B[38;5;241;43m=\u001B[39;49m\u001B[38;5;241;43m15\u001B[39;49m\u001B[43m,\u001B[49m\n\u001B[1;32m     22\u001B[0m \u001B[43m    \u001B[49m\u001B[43mtest_size\u001B[49m\u001B[38;5;241;43m=\u001B[39;49m\u001B[38;5;241;43m0.3\u001B[39;49m\u001B[43m,\u001B[49m\n\u001B[1;32m     23\u001B[0m \u001B[43m    \u001B[49m\u001B[43mapprox_svd\u001B[49m\u001B[38;5;241;43m=\u001B[39;49m\u001B[38;5;241;43m5000\u001B[39;49m\u001B[43m)\u001B[49m\n\u001B[1;32m     25\u001B[0m \u001B[38;5;28;01mreturn\u001B[39;00m all_results, best_lambda\n",
      "File \u001B[0;32m/lustre/home/mbonse/2023_s4/50_code/s4hci/s4hci/models/psf_subtraction.py:111\u001B[0m, in \u001B[0;36mS4.validate_lambdas_noise\u001B[0;34m(self, num_separations, lambdas, num_test_positions, test_size, approx_svd)\u001B[0m\n\u001B[1;32m    108\u001B[0m x_test \u001B[38;5;241m=\u001B[39m torch\u001B[38;5;241m.\u001B[39mfrom_numpy(x_test)\u001B[38;5;241m.\u001B[39mfloat()\u001B[38;5;241m.\u001B[39mto(\u001B[38;5;28mself\u001B[39m\u001B[38;5;241m.\u001B[39mdevice)\n\u001B[1;32m    109\u001B[0m \u001B[38;5;28mself\u001B[39m\u001B[38;5;241m.\u001B[39mnoise_model \u001B[38;5;241m=\u001B[39m \u001B[38;5;28mself\u001B[39m\u001B[38;5;241m.\u001B[39mnoise_model\u001B[38;5;241m.\u001B[39mto(\u001B[38;5;28mself\u001B[39m\u001B[38;5;241m.\u001B[39mdevice)\n\u001B[0;32m--> 111\u001B[0m all_results, best_lambda \u001B[38;5;241m=\u001B[39m \u001B[38;5;28;43mself\u001B[39;49m\u001B[38;5;241;43m.\u001B[39;49m\u001B[43mnoise_model\u001B[49m\u001B[38;5;241;43m.\u001B[39;49m\u001B[43mvalidate_lambdas\u001B[49m\u001B[43m(\u001B[49m\n\u001B[1;32m    112\u001B[0m \u001B[43m    \u001B[49m\u001B[43mnum_separations\u001B[49m\u001B[38;5;241;43m=\u001B[39;49m\u001B[43mnum_separations\u001B[49m\u001B[43m,\u001B[49m\n\u001B[1;32m    113\u001B[0m \u001B[43m    \u001B[49m\u001B[43mlambdas\u001B[49m\u001B[38;5;241;43m=\u001B[39;49m\u001B[43mlambdas\u001B[49m\u001B[43m,\u001B[49m\n\u001B[1;32m    114\u001B[0m \u001B[43m    \u001B[49m\u001B[43mscience_data_train\u001B[49m\u001B[38;5;241;43m=\u001B[39;49m\u001B[43mx_train\u001B[49m\u001B[43m,\u001B[49m\n\u001B[1;32m    115\u001B[0m \u001B[43m    \u001B[49m\u001B[43mscience_data_test\u001B[49m\u001B[38;5;241;43m=\u001B[39;49m\u001B[43mx_test\u001B[49m\u001B[43m,\u001B[49m\n\u001B[1;32m    116\u001B[0m \u001B[43m    \u001B[49m\u001B[43mnum_test_positions\u001B[49m\u001B[38;5;241;43m=\u001B[39;49m\u001B[43mnum_test_positions\u001B[49m\u001B[43m,\u001B[49m\n\u001B[1;32m    117\u001B[0m \u001B[43m    \u001B[49m\u001B[43mapprox_svd\u001B[49m\u001B[38;5;241;43m=\u001B[39;49m\u001B[43mapprox_svd\u001B[49m\u001B[43m)\u001B[49m\n\u001B[1;32m    119\u001B[0m \u001B[38;5;66;03m# 3.) free gpu space\u001B[39;00m\n\u001B[1;32m    120\u001B[0m \u001B[38;5;28;01mdel\u001B[39;00m x_train, x_test\n",
      "File \u001B[0;32m/lustre/home/mbonse/2023_s4/50_code/s4hci/s4hci/models/noise.py:295\u001B[0m, in \u001B[0;36mS4Noise.validate_lambdas\u001B[0;34m(self, num_separations, lambdas, science_data_train, science_data_test, num_test_positions, approx_svd)\u001B[0m\n\u001B[1;32m    293\u001B[0m all_results \u001B[38;5;241m=\u001B[39m \u001B[38;5;28mdict\u001B[39m()\n\u001B[1;32m    294\u001B[0m \u001B[38;5;28;01mfor\u001B[39;00m tmp_separation \u001B[38;5;129;01min\u001B[39;00m separations:\n\u001B[0;32m--> 295\u001B[0m     tmp_errors \u001B[38;5;241m=\u001B[39m \u001B[38;5;28;43mself\u001B[39;49m\u001B[38;5;241;43m.\u001B[39;49m\u001B[43m_validate_lambdas_separation\u001B[49m\u001B[43m(\u001B[49m\n\u001B[1;32m    296\u001B[0m \u001B[43m        \u001B[49m\u001B[43mseparation\u001B[49m\u001B[38;5;241;43m=\u001B[39;49m\u001B[43mtmp_separation\u001B[49m\u001B[43m,\u001B[49m\n\u001B[1;32m    297\u001B[0m \u001B[43m        \u001B[49m\u001B[43mlambdas\u001B[49m\u001B[38;5;241;43m=\u001B[39;49m\u001B[43mlambdas\u001B[49m\u001B[43m,\u001B[49m\n\u001B[1;32m    298\u001B[0m \u001B[43m        \u001B[49m\u001B[43mscience_data_train\u001B[49m\u001B[38;5;241;43m=\u001B[39;49m\u001B[43mscience_data_train\u001B[49m\u001B[43m,\u001B[49m\n\u001B[1;32m    299\u001B[0m \u001B[43m        \u001B[49m\u001B[43mscience_data_test\u001B[49m\u001B[38;5;241;43m=\u001B[39;49m\u001B[43mscience_data_test\u001B[49m\u001B[43m,\u001B[49m\n\u001B[1;32m    300\u001B[0m \u001B[43m        \u001B[49m\u001B[43mnum_test_positions\u001B[49m\u001B[38;5;241;43m=\u001B[39;49m\u001B[43mnum_test_positions\u001B[49m\u001B[43m,\u001B[49m\n\u001B[1;32m    301\u001B[0m \u001B[43m        \u001B[49m\u001B[43mapprox_svd\u001B[49m\u001B[38;5;241;43m=\u001B[39;49m\u001B[43mapprox_svd\u001B[49m\n\u001B[1;32m    302\u001B[0m \u001B[43m    \u001B[49m\u001B[43m)\u001B[49m\n\u001B[1;32m    303\u001B[0m     all_results[tmp_separation] \u001B[38;5;241m=\u001B[39m tmp_errors\n\u001B[1;32m    305\u001B[0m \u001B[38;5;66;03m# find the best lambda\u001B[39;00m\n",
      "File \u001B[0;32m/lustre/home/mbonse/2023_s4/50_code/s4hci/s4hci/models/noise.py:213\u001B[0m, in \u001B[0;36mS4Noise._validate_lambdas_separation\u001B[0;34m(self, separation, lambdas, science_data_train, science_data_test, num_test_positions, approx_svd)\u001B[0m\n\u001B[1;32m    210\u001B[0m \u001B[38;5;28;01melse\u001B[39;00m:\n\u001B[1;32m    211\u001B[0m     p_torch \u001B[38;5;241m=\u001B[39m \u001B[38;5;28;01mNone\u001B[39;00m\n\u001B[0;32m--> 213\u001B[0m betas_conv \u001B[38;5;241m=\u001B[39m \u001B[43mcompute_betas_svd\u001B[49m\u001B[43m(\u001B[49m\n\u001B[1;32m    214\u001B[0m \u001B[43m    \u001B[49m\u001B[43mX_torch\u001B[49m\u001B[38;5;241;43m=\u001B[39;49m\u001B[43mscience_data_norm\u001B[49m\u001B[43m,\u001B[49m\n\u001B[1;32m    215\u001B[0m \u001B[43m    \u001B[49m\u001B[43mM_torch\u001B[49m\u001B[38;5;241;43m=\u001B[39;49m\u001B[38;5;28;43mself\u001B[39;49m\u001B[38;5;241;43m.\u001B[39;49m\u001B[43mright_reason_mask\u001B[49m\u001B[43m,\u001B[49m\n\u001B[1;32m    216\u001B[0m \u001B[43m    \u001B[49m\u001B[43mlambda_regs\u001B[49m\u001B[38;5;241;43m=\u001B[39;49m\u001B[43mlambdas\u001B[49m\u001B[43m,\u001B[49m\n\u001B[1;32m    217\u001B[0m \u001B[43m    \u001B[49m\u001B[43mpositions\u001B[49m\u001B[38;5;241;43m=\u001B[39;49m\u001B[43mpositions\u001B[49m\u001B[43m,\u001B[49m\n\u001B[1;32m    218\u001B[0m \u001B[43m    \u001B[49m\u001B[43mp_torch\u001B[49m\u001B[38;5;241;43m=\u001B[39;49m\u001B[43mp_torch\u001B[49m\u001B[43m,\u001B[49m\n\u001B[1;32m    219\u001B[0m \u001B[43m    \u001B[49m\u001B[43mapprox_svd\u001B[49m\u001B[38;5;241;43m=\u001B[39;49m\u001B[43mapprox_svd\u001B[49m\u001B[43m,\u001B[49m\n\u001B[1;32m    220\u001B[0m \u001B[43m    \u001B[49m\u001B[43mverbose\u001B[49m\u001B[38;5;241;43m=\u001B[39;49m\u001B[38;5;28;43mself\u001B[39;49m\u001B[38;5;241;43m.\u001B[39;49m\u001B[43mverbose\u001B[49m\u001B[43m)\u001B[49m\n\u001B[1;32m    222\u001B[0m \u001B[38;5;66;03m# 4.) Re-mask with second_mask.\u001B[39;00m\n\u001B[1;32m    223\u001B[0m \u001B[38;5;66;03m# This step is needed to cut off overflow towards the identity in case\u001B[39;00m\n\u001B[1;32m    224\u001B[0m \u001B[38;5;66;03m# of small mask sizes\u001B[39;00m\n\u001B[1;32m    226\u001B[0m second_mask \u001B[38;5;241m=\u001B[39m construct_rfrr_mask(\n\u001B[1;32m    227\u001B[0m     template_setup\u001B[38;5;241m=\u001B[39m\u001B[38;5;28mself\u001B[39m\u001B[38;5;241m.\u001B[39mmask_template_setup,\n\u001B[1;32m    228\u001B[0m     psf_template_in\u001B[38;5;241m=\u001B[39m\u001B[38;5;28mself\u001B[39m\u001B[38;5;241m.\u001B[39mpsf_model\u001B[38;5;241m.\u001B[39mcpu()\u001B[38;5;241m.\u001B[39mnumpy()[\u001B[38;5;241m0\u001B[39m, \u001B[38;5;241m0\u001B[39m],\n\u001B[1;32m    229\u001B[0m     mask_size_in\u001B[38;5;241m=\u001B[39m\u001B[38;5;28mself\u001B[39m\u001B[38;5;241m.\u001B[39mimage_size,\n\u001B[1;32m    230\u001B[0m     use_template\u001B[38;5;241m=\u001B[39m\u001B[38;5;28;01mTrue\u001B[39;00m)\n",
      "File \u001B[0;32m/lustre/home/mbonse/2023_s4/50_code/s4hci/s4hci/utils/s4_rigde.py:129\u001B[0m, in \u001B[0;36mcompute_betas_svd\u001B[0;34m(X_torch, M_torch, lambda_regs, positions, p_torch, approx_svd, verbose)\u001B[0m\n\u001B[1;32m    126\u001B[0m eye \u001B[38;5;241m=\u001B[39m torch\u001B[38;5;241m.\u001B[39mones_like(D_torch,\n\u001B[1;32m    127\u001B[0m                       device\u001B[38;5;241m=\u001B[39mX_torch\u001B[38;5;241m.\u001B[39mdevice) \u001B[38;5;241m*\u001B[39m tmp_lambda_reg\n\u001B[1;32m    128\u001B[0m \u001B[38;5;66;03m# 1D vector\u001B[39;00m\n\u001B[0;32m--> 129\u001B[0m inv_eye \u001B[38;5;241m=\u001B[39m \u001B[38;5;241;43m1\u001B[39;49m\u001B[43m \u001B[49m\u001B[38;5;241;43m/\u001B[39;49m\u001B[43m \u001B[49m\u001B[43m(\u001B[49m\u001B[43mD_torch\u001B[49m\u001B[43m \u001B[49m\u001B[38;5;241;43m*\u001B[39;49m\u001B[38;5;241;43m*\u001B[39;49m\u001B[43m \u001B[49m\u001B[38;5;241;43m2\u001B[39;49m\u001B[43m \u001B[49m\u001B[38;5;241;43m+\u001B[39;49m\u001B[43m \u001B[49m\u001B[43meye\u001B[49m\u001B[43m)\u001B[49m\n\u001B[1;32m    131\u001B[0m \u001B[38;5;66;03m# compute beta\u001B[39;00m\n\u001B[1;32m    132\u001B[0m beta \u001B[38;5;241m=\u001B[39m V_torch \u001B[38;5;241m*\u001B[39m inv_eye \u001B[38;5;241m@\u001B[39m rhs\n",
      "File \u001B[0;32m/lustre/home/mbonse/2023_s4/50_code/venv_s4/lib/python3.10/site-packages/torch/_tensor.py:38\u001B[0m, in \u001B[0;36m_handle_torch_function_and_wrap_type_error_to_not_implemented.<locals>.wrapped\u001B[0;34m(*args, **kwargs)\u001B[0m\n\u001B[1;32m     34\u001B[0m \u001B[38;5;129m@functools\u001B[39m\u001B[38;5;241m.\u001B[39mwraps(f, assigned\u001B[38;5;241m=\u001B[39massigned)\n\u001B[1;32m     35\u001B[0m \u001B[38;5;28;01mdef\u001B[39;00m \u001B[38;5;21mwrapped\u001B[39m(\u001B[38;5;241m*\u001B[39margs, \u001B[38;5;241m*\u001B[39m\u001B[38;5;241m*\u001B[39mkwargs):\n\u001B[1;32m     36\u001B[0m     \u001B[38;5;28;01mtry\u001B[39;00m:\n\u001B[1;32m     37\u001B[0m         \u001B[38;5;66;03m# See https://github.com/pytorch/pytorch/issues/75462\u001B[39;00m\n\u001B[0;32m---> 38\u001B[0m         \u001B[38;5;28;01mif\u001B[39;00m \u001B[43mhas_torch_function\u001B[49m\u001B[43m(\u001B[49m\u001B[43margs\u001B[49m\u001B[43m)\u001B[49m:\n\u001B[1;32m     39\u001B[0m             \u001B[38;5;28;01mreturn\u001B[39;00m handle_torch_function(wrapped, args, \u001B[38;5;241m*\u001B[39margs, \u001B[38;5;241m*\u001B[39m\u001B[38;5;241m*\u001B[39mkwargs)\n\u001B[1;32m     40\u001B[0m         \u001B[38;5;28;01mreturn\u001B[39;00m f(\u001B[38;5;241m*\u001B[39margs, \u001B[38;5;241m*\u001B[39m\u001B[38;5;241m*\u001B[39mkwargs)\n",
      "\u001B[0;31mKeyboardInterrupt\u001B[0m: "
     ]
    }
   ],
   "source": [
    "for tmp_planet_name, tmp_dataset in experiment_setups:\n",
    "    \n",
    "    all_results, best_lambda = test_dataset(tmp_dataset)\n",
    "    \n",
    "    merged_results = np.array([i for i in all_results.values()])\n",
    "    median_result = np.median(merged_results, axis=0)\n",
    "    \n",
    "    plt.plot(lambdas, np.array(merged_results).T)\n",
    "    plt.xlabel(\"Lambda\")\n",
    "    plt.ylabel(\"Test Error\")\n",
    "    plt.xscale(\"log\")\n",
    "    plt.title(tmp_planet_name + \"; Best lambda = \" + str(best_lambda))\n",
    "    plt.grid()\n",
    "    plt.show()"
   ]
  },
  {
   "cell_type": "code",
   "execution_count": 22,
   "id": "74ed1740",
   "metadata": {},
   "outputs": [],
   "source": [
    "mean_error = np.mean(np.array(merged_results), axis=0)"
   ]
  },
  {
   "cell_type": "code",
   "execution_count": 23,
   "id": "3c539c8e",
   "metadata": {},
   "outputs": [
    {
     "data": {
      "image/png": "[encoded data removed]",
      "text/plain": [
       "<Figure size 640x480 with 1 Axes>"
      ]
     },
     "metadata": {},
     "output_type": "display_data"
    }
   ],
   "source": [
    "plt.plot(lambdas, mean_error)\n",
    "plt.xlabel(\"Lambda\")\n",
    "plt.ylabel(\"Test Error\")\n",
    "plt.xscale(\"log\")\n",
    "plt.title(tmp_planet_name + \"; Best lambda = \" + str(best_lambda))\n",
    "plt.grid()\n",
    "plt.show()"
   ]
  },
  {
   "cell_type": "code",
   "execution_count": 24,
   "id": "8baa1567",
   "metadata": {},
   "outputs": [
    {
     "data": {
      "text/plain": [
       "18679.135990207847"
      ]
     },
     "execution_count": 24,
     "metadata": {},
     "output_type": "execute_result"
    }
   ],
   "source": [
    "lambdas[np.argmin(mean_error)]"
   ]
  },
  {
   "cell_type": "code",
   "execution_count": null,
   "id": "4808b2e2",
   "metadata": {},
   "outputs": [],
   "source": []
  }
 ],
 "metadata": {
  "kernelspec": {
   "display_name": "Python 3 (ipykernel)",
   "language": "python",
   "name": "python3"
  },
  "language_info": {
   "codemirror_mode": {
    "name": "ipython",
    "version": 3
   },
   "file_extension": ".py",
   "mimetype": "text/x-python",
   "name": "python",
   "nbconvert_exporter": "python",
   "pygments_lexer": "ipython3",
   "version": "3.10.10"
  }
 },
 "nbformat": 4,
 "nbformat_minor": 5
}
