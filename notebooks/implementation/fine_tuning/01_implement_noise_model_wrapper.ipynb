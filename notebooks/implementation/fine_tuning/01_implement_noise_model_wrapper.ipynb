{
 "cells": [
  {
   "cell_type": "code",
   "execution_count": 1,
   "id": "0ab1d95d",
   "metadata": {},
   "outputs": [],
   "source": [
    "from tqdm import tqdm\n",
    "import numpy as np\n",
    "from pathlib import Path\n",
    "import matplotlib.pyplot as plt\n",
    "\n",
    "import torch\n",
    "import torch.nn as nn\n",
    "import torch.nn.functional as F\n",
    "import torch.multiprocessing as mp\n",
    "\n",
    "from s4hci.utils.data_handling import load_adi_data\n",
    "from s4hci.utils.masks import construct_round_rfrr_template, construct_rfrr_mask\n",
    "from s4hci.utils.s4_rigde import compute_betas_least_square, compute_betas_svd\n",
    "from s4hci.utils.positions import get_validation_positions\n",
    "from s4hci.models.noise import S4Noise"
   ]
  },
  {
   "cell_type": "markdown",
   "id": "58ba9de0",
   "metadata": {},
   "source": [
    "## Load the data"
   ]
  },
  {
   "cell_type": "code",
   "execution_count": 2,
   "id": "b9eac5b8",
   "metadata": {},
   "outputs": [
    {
     "name": "stdout",
     "output_type": "stream",
     "text": [
      "Loading data ... [DONE]\n"
     ]
    }
   ],
   "source": [
    "print(\"Loading data ... \", end='')\n",
    "science_data, raw_angles, raw_psf_template_data = \\\n",
    "    load_adi_data(\"/fast/mbonse/s4/30_data/EpsEri_0100_C-0656-A.hdf5\",\n",
    "                  data_tag=\"13_object_final\",\n",
    "                  psf_template_tag=\"10_psf\",\n",
    "                  para_tag=\"header_13_object_final/PARANG\")\n",
    "\n",
    "psf_template_data = np.mean(raw_psf_template_data, axis=0)\n",
    "print(\"[DONE]\")"
   ]
  },
  {
   "cell_type": "code",
   "execution_count": 3,
   "id": "f8f690f4",
   "metadata": {},
   "outputs": [],
   "source": [
    "X_train = science_data[0::2]\n",
    "X_test = science_data[1::2]\n",
    "angles_train = raw_angles[0::2]\n",
    "angles_test = raw_angles[1::2]"
   ]
  },
  {
   "cell_type": "code",
   "execution_count": 4,
   "id": "1c1584dc",
   "metadata": {},
   "outputs": [],
   "source": [
    "del science_data\n",
    "del raw_angles\n",
    "del raw_psf_template_data"
   ]
  },
  {
   "cell_type": "code",
   "execution_count": 5,
   "id": "0e3a7688",
   "metadata": {},
   "outputs": [],
   "source": [
    "import gc"
   ]
  },
  {
   "cell_type": "code",
   "execution_count": 6,
   "id": "c911b8d7",
   "metadata": {},
   "outputs": [
    {
     "data": {
      "text/plain": [
       "0"
      ]
     },
     "execution_count": 6,
     "metadata": {},
     "output_type": "execute_result"
    }
   ],
   "source": [
    "gc.collect()"
   ]
  },
  {
   "cell_type": "markdown",
   "id": "3746f577",
   "metadata": {},
   "source": [
    "## Test create"
   ]
  },
  {
   "cell_type": "code",
   "execution_count": 7,
   "id": "c3eb1223",
   "metadata": {},
   "outputs": [],
   "source": [
    "# setup of all parameters for the S4Noise model\n",
    "data_image_size = X_train.shape[-1]\n",
    "psf_template = psf_template_data\n",
    "lambda_reg = 2000\n",
    "cut_radius_psf = 4.0\n",
    "mask_template_setup = (\"radius\", 5.5)\n",
    "convolve = True\n",
    "verbose = True"
   ]
  },
  {
   "cell_type": "code",
   "execution_count": 13,
   "id": "1ea70e3e",
   "metadata": {},
   "outputs": [
    {
     "name": "stdout",
     "output_type": "stream",
     "text": [
      "Creating right reason mask ... [DONE]\n"
     ]
    }
   ],
   "source": [
    "s4_noise = S4Noise(\n",
    "    data_image_size=data_image_size,\n",
    "    psf_template=psf_template,\n",
    "    lambda_reg=lambda_reg,\n",
    "    cut_radius_psf=cut_radius_psf,\n",
    "    mask_template_setup=mask_template_setup,\n",
    "    convolve=convolve,\n",
    "    verbose=verbose,\n",
    ")"
   ]
  },
  {
   "cell_type": "markdown",
   "id": "407c90c8",
   "metadata": {},
   "source": [
    "## Test save"
   ]
  },
  {
   "cell_type": "code",
   "execution_count": 14,
   "id": "fe45709b",
   "metadata": {},
   "outputs": [],
   "source": [
    "save_path = Path(\"/fast/mbonse/s4/70_results/02_fine_tuning/implementation_tests/test_model.pkl\")"
   ]
  },
  {
   "cell_type": "code",
   "execution_count": 15,
   "id": "e94c6360",
   "metadata": {},
   "outputs": [],
   "source": [
    "s4_noise.save(save_path)"
   ]
  },
  {
   "cell_type": "markdown",
   "id": "ac2291ed",
   "metadata": {},
   "source": [
    "## Test load"
   ]
  },
  {
   "cell_type": "code",
   "execution_count": 16,
   "id": "764799f0",
   "metadata": {},
   "outputs": [
    {
     "name": "stdout",
     "output_type": "stream",
     "text": [
      "Creating right reason mask ... [DONE]\n"
     ]
    }
   ],
   "source": [
    "s4_noise_loaded = S4Noise.load(save_path)"
   ]
  },
  {
   "cell_type": "markdown",
   "id": "5d7eb133",
   "metadata": {},
   "source": [
    "## Test moving to GPU"
   ]
  },
  {
   "cell_type": "code",
   "execution_count": 17,
   "id": "839e678f",
   "metadata": {},
   "outputs": [],
   "source": [
    "s4_noise_loaded = s4_noise_loaded.to(0)"
   ]
  },
  {
   "cell_type": "code",
   "execution_count": 18,
   "id": "e97f701d",
   "metadata": {},
   "outputs": [],
   "source": [
    "#s4_noise_loaded = s4_noise_loaded.to(\"cpu\")"
   ]
  },
  {
   "cell_type": "code",
   "execution_count": 19,
   "id": "feb6a7af",
   "metadata": {},
   "outputs": [
    {
     "data": {
      "text/plain": [
       "device(type='cuda', index=0)"
      ]
     },
     "execution_count": 19,
     "metadata": {},
     "output_type": "execute_result"
    }
   ],
   "source": [
    "s4_noise_loaded.psf_model.device"
   ]
  },
  {
   "cell_type": "markdown",
   "id": "185e511f",
   "metadata": {},
   "source": [
    "## Test validate lambda"
   ]
  },
  {
   "cell_type": "code",
   "execution_count": 20,
   "id": "21f24b44",
   "metadata": {},
   "outputs": [],
   "source": [
    "s4_noise_loaded = s4_noise_loaded.float()"
   ]
  },
  {
   "cell_type": "code",
   "execution_count": 21,
   "id": "315747a1",
   "metadata": {},
   "outputs": [],
   "source": [
    "lambdas = np.logspace(1, 8, 200)"
   ]
  },
  {
   "cell_type": "code",
   "execution_count": 22,
   "id": "02a263f7",
   "metadata": {
    "scrolled": true
   },
   "outputs": [
    {
     "name": "stdout",
     "output_type": "stream",
     "text": [
      "Compute validation positions for separation 8.833333333333334 ...\n",
      "Setup training data for separation 8.833333333333334 ...\n",
      "Build normalization frames ... [DONE]\n",
      "Compute betas for separation 8.833333333333334 ...\n"
     ]
    },
    {
     "name": "stderr",
     "output_type": "stream",
     "text": [
      "100%|███████████████████████████████████████████████████████████████████████████████████████████████████████████████████████████████████████████████████████████████████████| 10/10 [00:50<00:00,  5.07s/it]\n"
     ]
    },
    {
     "name": "stdout",
     "output_type": "stream",
     "text": [
      "Re-mask betas for separation 8.833333333333334 ...\n",
      "Compute validation errors for separation 8.833333333333334 ...\n"
     ]
    },
    {
     "name": "stderr",
     "output_type": "stream",
     "text": [
      "100%|████████████████████████████████████████████████████████████████████████████████████████████████████████████████████████████████████████████████████████████████████| 200/200 [00:00<00:00, 434.36it/s]\n"
     ]
    },
    {
     "name": "stdout",
     "output_type": "stream",
     "text": [
      "Compute validation positions for separation 17.666666666666668 ...\n",
      "Setup training data for separation 17.666666666666668 ...\n",
      "Build normalization frames ... [DONE]\n",
      "Compute betas for separation 17.666666666666668 ...\n"
     ]
    },
    {
     "name": "stderr",
     "output_type": "stream",
     "text": [
      "100%|███████████████████████████████████████████████████████████████████████████████████████████████████████████████████████████████████████████████████████████████████████| 10/10 [00:48<00:00,  4.90s/it]\n"
     ]
    },
    {
     "name": "stdout",
     "output_type": "stream",
     "text": [
      "Re-mask betas for separation 17.666666666666668 ...\n",
      "Compute validation errors for separation 17.666666666666668 ...\n"
     ]
    },
    {
     "name": "stderr",
     "output_type": "stream",
     "text": [
      "100%|████████████████████████████████████████████████████████████████████████████████████████████████████████████████████████████████████████████████████████████████████| 200/200 [00:00<00:00, 464.16it/s]\n"
     ]
    },
    {
     "name": "stdout",
     "output_type": "stream",
     "text": [
      "Compute validation positions for separation 26.5 ...\n",
      "Setup training data for separation 26.5 ...\n",
      "Build normalization frames ... [DONE]\n",
      "Compute betas for separation 26.5 ...\n"
     ]
    },
    {
     "name": "stderr",
     "output_type": "stream",
     "text": [
      "100%|███████████████████████████████████████████████████████████████████████████████████████████████████████████████████████████████████████████████████████████████████████| 10/10 [00:48<00:00,  4.90s/it]\n"
     ]
    },
    {
     "name": "stdout",
     "output_type": "stream",
     "text": [
      "Re-mask betas for separation 26.5 ...\n",
      "Compute validation errors for separation 26.5 ...\n"
     ]
    },
    {
     "name": "stderr",
     "output_type": "stream",
     "text": [
      "100%|████████████████████████████████████████████████████████████████████████████████████████████████████████████████████████████████████████████████████████████████████| 200/200 [00:00<00:00, 463.98it/s]\n"
     ]
    },
    {
     "name": "stdout",
     "output_type": "stream",
     "text": [
      "Compute validation positions for separation 35.333333333333336 ...\n",
      "Setup training data for separation 35.333333333333336 ...\n",
      "Build normalization frames ... [DONE]\n",
      "Compute betas for separation 35.333333333333336 ...\n"
     ]
    },
    {
     "name": "stderr",
     "output_type": "stream",
     "text": [
      "100%|███████████████████████████████████████████████████████████████████████████████████████████████████████████████████████████████████████████████████████████████████████| 10/10 [00:48<00:00,  4.89s/it]\n"
     ]
    },
    {
     "name": "stdout",
     "output_type": "stream",
     "text": [
      "Re-mask betas for separation 35.333333333333336 ...\n",
      "Compute validation errors for separation 35.333333333333336 ...\n"
     ]
    },
    {
     "name": "stderr",
     "output_type": "stream",
     "text": [
      "100%|████████████████████████████████████████████████████████████████████████████████████████████████████████████████████████████████████████████████████████████████████| 200/200 [00:00<00:00, 470.96it/s]\n"
     ]
    },
    {
     "name": "stdout",
     "output_type": "stream",
     "text": [
      "Compute validation positions for separation 44.16666666666667 ...\n",
      "Setup training data for separation 44.16666666666667 ...\n",
      "Build normalization frames ... [DONE]\n",
      "Compute betas for separation 44.16666666666667 ...\n"
     ]
    },
    {
     "name": "stderr",
     "output_type": "stream",
     "text": [
      "100%|███████████████████████████████████████████████████████████████████████████████████████████████████████████████████████████████████████████████████████████████████████| 10/10 [00:48<00:00,  4.90s/it]\n"
     ]
    },
    {
     "name": "stdout",
     "output_type": "stream",
     "text": [
      "Re-mask betas for separation 44.16666666666667 ...\n",
      "Compute validation errors for separation 44.16666666666667 ...\n"
     ]
    },
    {
     "name": "stderr",
     "output_type": "stream",
     "text": [
      "100%|████████████████████████████████████████████████████████████████████████████████████████████████████████████████████████████████████████████████████████████████████| 200/200 [00:00<00:00, 450.19it/s]"
     ]
    },
    {
     "name": "stdout",
     "output_type": "stream",
     "text": [
      "Recommended Lambda = 1516.72\n",
      "Make sure to check if the tested range of lambda values is covering the global minimum!\n"
     ]
    },
    {
     "name": "stderr",
     "output_type": "stream",
     "text": [
      "\n"
     ]
    }
   ],
   "source": [
    "all_results, best_lambda = s4_noise_loaded.validate_lambdas(\n",
    "    num_separations=5,\n",
    "    lambdas=lambdas,\n",
    "    science_data_train=torch.from_numpy(X_train).to(0).float(),\n",
    "    science_data_test=torch.from_numpy(X_test).to(0).float(),\n",
    "    num_test_positions=10,\n",
    "    approx_svd=5000)"
   ]
  },
  {
   "cell_type": "code",
   "execution_count": 28,
   "id": "7731d6ca",
   "metadata": {},
   "outputs": [],
   "source": [
    "merged_results = np.array([i for i in all_results.values()])\n",
    "median_result = np.median(merged_results, axis=0)"
   ]
  },
  {
   "cell_type": "code",
   "execution_count": 29,
   "id": "061cfb8f",
   "metadata": {},
   "outputs": [
    {
     "data": {
      "image/png": "[encoded data removed]",
      "text/plain": [
       "<Figure size 640x480 with 1 Axes>"
      ]
     },
     "metadata": {},
     "output_type": "display_data"
    }
   ],
   "source": [
    "plt.plot(lambdas, median_result)\n",
    "plt.xlabel(\"Lambda\")\n",
    "plt.ylabel(\"Test Error\")\n",
    "plt.xscale(\"log\")\n",
    "plt.grid()"
   ]
  },
  {
   "cell_type": "code",
   "execution_count": 25,
   "id": "0c1b6ba5",
   "metadata": {},
   "outputs": [],
   "source": [
    "s4_noise_loaded.save(save_path)"
   ]
  },
  {
   "cell_type": "code",
   "execution_count": 30,
   "id": "76623bd6",
   "metadata": {},
   "outputs": [
    {
     "data": {
      "text/plain": [
       "1516.7168884709226"
      ]
     },
     "execution_count": 30,
     "metadata": {},
     "output_type": "execute_result"
    }
   ],
   "source": [
    "s4_noise_loaded.lambda_reg"
   ]
  },
  {
   "cell_type": "markdown",
   "id": "0536e495",
   "metadata": {},
   "source": [
    "## Test train"
   ]
  },
  {
   "cell_type": "code",
   "execution_count": null,
   "id": "c8b3902c",
   "metadata": {},
   "outputs": [
    {
     "name": "stdout",
     "output_type": "stream",
     "text": [
      "Build normalization frames ... [DONE]\n",
      "Fitting ... "
     ]
    },
    {
     "name": "stderr",
     "output_type": "stream",
     "text": [
      " 23%|█████████████████████████████████████▉                                                                                                                            | 2680/11449 [14:48<48:19,  3.02it/s]"
     ]
    }
   ],
   "source": [
    "s4_noise_loaded.fit(torch.from_numpy(X_train).to(0).float())"
   ]
  },
  {
   "cell_type": "code",
   "execution_count": null,
   "id": "334ed8e7",
   "metadata": {},
   "outputs": [],
   "source": [
    "save_path_final = Path(\"/fast/mbonse/s4/70_results/02_fine_tuning/implementation_tests/test_model_trained_fp32.pkl\")\n",
    "\n",
    "s4_noise_loaded.save(save_path_final)"
   ]
  },
  {
   "cell_type": "code",
   "execution_count": 33,
   "id": "df004d05",
   "metadata": {},
   "outputs": [],
   "source": [
    "print(\"hey\")"
   ]
  },
  {
   "cell_type": "markdown",
   "id": "0690a5b0",
   "metadata": {},
   "source": [
    "## Load the model again and test predictions"
   ]
  },
  {
   "cell_type": "code",
   "execution_count": 24,
   "id": "127354c0",
   "metadata": {},
   "outputs": [],
   "source": [
    "save_path_final = Path(\"/fast/mbonse/s4/70_results/02_fine_tuning/implementation_tests/test_model_trained_fp32.pkl\")"
   ]
  },
  {
   "cell_type": "code",
   "execution_count": 25,
   "id": "faae24ae",
   "metadata": {},
   "outputs": [
    {
     "name": "stdout",
     "output_type": "stream",
     "text": [
      "Creating right reason mask ... [DONE]\n"
     ]
    }
   ],
   "source": [
    "s4_noise_loaded = S4Noise.load(save_path_final)"
   ]
  },
  {
   "cell_type": "code",
   "execution_count": 26,
   "id": "b311b028",
   "metadata": {},
   "outputs": [],
   "source": [
    "s4_noise_loaded = s4_noise_loaded.to(0)"
   ]
  },
  {
   "cell_type": "code",
   "execution_count": 31,
   "id": "e75df84a",
   "metadata": {},
   "outputs": [],
   "source": [
    "residual, noise_estimate = s4_noise_loaded.predict(torch.from_numpy(X_train).to(0))"
   ]
  },
  {
   "cell_type": "code",
   "execution_count": 32,
   "id": "315ae684",
   "metadata": {},
   "outputs": [
    {
     "data": {
      "text/plain": [
       "<matplotlib.image.AxesImage at 0x149f167002e0>"
      ]
     },
     "execution_count": 32,
     "metadata": {},
     "output_type": "execute_result"
    },
    {
     "data": {
      "image/png": "[encoded data removed]",
      "text/plain": [
       "<Figure size 640x480 with 1 Axes>"
      ]
     },
     "metadata": {},
     "output_type": "display_data"
    }
   ],
   "source": [
    "plt.imshow(residual[66].cpu())"
   ]
  },
  {
   "cell_type": "code",
   "execution_count": null,
   "id": "58fbaac9",
   "metadata": {},
   "outputs": [],
   "source": []
  }
 ],
 "metadata": {
  "kernelspec": {
   "display_name": "Python 3 (ipykernel)",
   "language": "python",
   "name": "python3"
  },
  "language_info": {
   "codemirror_mode": {
    "name": "ipython",
    "version": 3
   },
   "file_extension": ".py",
   "mimetype": "text/x-python",
   "name": "python",
   "nbconvert_exporter": "python",
   "pygments_lexer": "ipython3",
   "version": "3.10.10"
  }
 },
 "nbformat": 4,
 "nbformat_minor": 5
}
