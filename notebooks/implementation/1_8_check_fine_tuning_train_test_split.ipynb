{
 "cells": [
  {
   "cell_type": "code",
   "execution_count": 1,
   "id": "be17322c",
   "metadata": {},
   "outputs": [],
   "source": [
    "import json\n",
    "import torch\n",
    "import sys\n",
    "import numpy as np\n",
    "from pathlib import Path\n",
    "import matplotlib.pyplot as plt\n",
    "\n",
    "from s4hci.utils.data_handling import load_adi_data, save_as_fits\n",
    "from s4hci.models.psf_subtraction import S4\n",
    "from s4hci.models.noise import S4Noise\n",
    "from s4hci.utils.logging import print_message, setup_logger"
   ]
  },
  {
   "cell_type": "markdown",
   "id": "7b60c2e5",
   "metadata": {},
   "source": [
    "# Files we need"
   ]
  },
  {
   "cell_type": "code",
   "execution_count": 2,
   "id": "bddc267a",
   "metadata": {},
   "outputs": [],
   "source": [
    "# 1.) Load the arguments\n",
    "dataset_hdf5_file = \"/fast/mbonse/s4/30_data/HD22049_304_199_C-0065_C_.hdf5\"\n",
    "reg_lambda = 1189.53\n",
    "\n",
    "saved_model_raw = \"/fast/mbonse/s4/70_results/05_understand_fine_tuning/01_train_test_split/\"\\\n",
    "    \"HD22049_304_199_C-0065_C_/models/noise_model_closed_form.pkl\"\n",
    "saved_model_fine_tuned = \"/fast/mbonse/s4/70_results/05_understand_fine_tuning/01_train_test_split/\"\\\n",
    "    \"HD22049_304_199_C-0065_C_/models/noise_model_fine_tuned.pkl\"\n",
    "\n",
    "work_dir = \"/fast/mbonse/s4/70_results/05_understand_fine_tuning/01_train_test_split/study_error\""
   ]
  },
  {
   "cell_type": "code",
   "execution_count": 31,
   "id": "79bf148c",
   "metadata": {},
   "outputs": [],
   "source": [
    "# 1.) Load the arguments\n",
    "dataset_hdf5_file = \"/fast/mbonse/s4/30_data/HD22049_303_199_C-0065_C_.hdf5\"\n",
    "reg_lambda = 573.84\n",
    "\n",
    "saved_model_raw = \"/fast/mbonse/s4/70_results/05_understand_fine_tuning/01_train_test_split/\"\\\n",
    "    \"HD22049_303_199_C-0065_C_/models/noise_model_closed_form.pkl\"\n",
    "saved_model_fine_tuned = \"/fast/mbonse/s4/70_results/05_understand_fine_tuning/01_train_test_split/\"\\\n",
    "    \"HD22049_303_199_C-0065_C_/models/noise_model_fine_tuned.pkl\"\n",
    "\n",
    "work_dir = \"/fast/mbonse/s4/70_results/05_understand_fine_tuning/01_train_test_split/study_error\""
   ]
  },
  {
   "cell_type": "code",
   "execution_count": 54,
   "id": "4c736d70",
   "metadata": {},
   "outputs": [],
   "source": [
    "# 1.) Load the arguments\n",
    "dataset_hdf5_file = \"/fast/mbonse/s4/30_data/HD22049_310_0100_C-0656_A_.hdf5\"\n",
    "reg_lambda = 793.41\n",
    "\n",
    "saved_model_raw = \"/fast/mbonse/s4/70_results/05_understand_fine_tuning/01_train_test_split/\"\\\n",
    "    \"HD22049_310_0100_C-0656_A_/models/noise_model_closed_form.pkl\"\n",
    "saved_model_fine_tuned = \"/fast/mbonse/s4/70_results/05_understand_fine_tuning/01_train_test_split/\"\\\n",
    "    \"HD22049_310_0100_C-0656_A_/models/noise_model_fine_tuned.pkl\"\n",
    "\n",
    "work_dir = \"/fast/mbonse/s4/70_results/05_understand_fine_tuning/01_train_test_split/study_error\""
   ]
  },
  {
   "cell_type": "code",
   "execution_count": 68,
   "id": "037b8d94",
   "metadata": {},
   "outputs": [],
   "source": [
    "# 1.) Load the arguments\n",
    "dataset_hdf5_file = \"/fast/mbonse/s4/30_data/HD22049_351_096_C-0679_A_.hdf5\"\n",
    "reg_lambda = 382.7\n",
    "\n",
    "saved_model_raw = \"/fast/mbonse/s4/70_results/05_understand_fine_tuning/01_train_test_split/\"\\\n",
    "    \"HD22049_351_096_C-0679_A_/models/noise_model_closed_form.pkl\"\n",
    "saved_model_fine_tuned = \"/fast/mbonse/s4/70_results/05_understand_fine_tuning/01_train_test_split/\"\\\n",
    "    \"HD22049_351_096_C-0679_A_/models/noise_model_fine_tuned.pkl\"\n",
    "\n",
    "work_dir = \"/fast/mbonse/s4/70_results/05_understand_fine_tuning/01_train_test_split/study_error\""
   ]
  },
  {
   "cell_type": "markdown",
   "id": "19c09550",
   "metadata": {},
   "source": [
    "# Load the data"
   ]
  },
  {
   "cell_type": "code",
   "execution_count": 69,
   "id": "246b387d",
   "metadata": {},
   "outputs": [],
   "source": [
    "science_data, raw_angles, raw_psf_template_data = \\\n",
    "    load_adi_data(\n",
    "        hdf5_dataset=dataset_hdf5_file,\n",
    "        data_tag=\"object\",\n",
    "        psf_template_tag=\"psf_template\",\n",
    "        para_tag=\"header_object/PARANG\")\n",
    "\n",
    "science_data = science_data[:, 17:-17, 17:-17]\n",
    "\n",
    "science_data_train = science_data[0::2]\n",
    "angles_train = raw_angles[0::2]\n",
    "\n",
    "science_data_test = science_data[1::2]\n",
    "angles_test = raw_angles[1::2]\n",
    "\n",
    "# Background subtraction of the PSF template\n",
    "psf_template_data = np.median(raw_psf_template_data, axis=0)\n",
    "psf_template_data = psf_template_data - np.min(psf_template_data)"
   ]
  },
  {
   "cell_type": "markdown",
   "id": "e1b363c1",
   "metadata": {},
   "source": [
    "# Restore the two models"
   ]
  },
  {
   "cell_type": "code",
   "execution_count": 70,
   "id": "32aa962f",
   "metadata": {},
   "outputs": [
    {
     "name": "stdout",
     "output_type": "stream",
     "text": [
      "Creating right reason mask ... [DONE]\n"
     ]
    }
   ],
   "source": [
    "s4_model_raw = S4(\n",
    "    data_cube=science_data_train,\n",
    "    parang=angles_train,\n",
    "    psf_template=psf_template_data,\n",
    "    noise_noise_cut_radius_psf=4.0,\n",
    "    noise_mask_radius=5.5,\n",
    "    device=0,\n",
    "    noise_lambda_init=reg_lambda,\n",
    "    noise_normalization=\"normal\",\n",
    "    planet_convolve_second=True,\n",
    "    planet_use_up_sample=1,\n",
    "    work_dir=work_dir,\n",
    "    verbose=True)"
   ]
  },
  {
   "cell_type": "code",
   "execution_count": 71,
   "id": "e1dd9c97",
   "metadata": {},
   "outputs": [
    {
     "name": "stdout",
     "output_type": "stream",
     "text": [
      "Creating right reason mask ... [DONE]\n"
     ]
    }
   ],
   "source": [
    "s4_noise_raw = S4Noise.load(saved_model_raw)\n",
    "s4_model_raw.noise_model = s4_noise_raw.float()"
   ]
  },
  {
   "cell_type": "code",
   "execution_count": 72,
   "id": "d8c34ab2",
   "metadata": {},
   "outputs": [
    {
     "name": "stdout",
     "output_type": "stream",
     "text": [
      "Creating right reason mask ... [DONE]\n"
     ]
    }
   ],
   "source": [
    "s4_model_fine_tuned = S4(\n",
    "    data_cube=science_data,\n",
    "    parang=raw_angles,\n",
    "    psf_template=psf_template_data,\n",
    "    noise_noise_cut_radius_psf=4.0,\n",
    "    noise_mask_radius=5.5,\n",
    "    device=0,\n",
    "    noise_lambda_init=reg_lambda,\n",
    "    noise_normalization=\"normal\",\n",
    "    planet_convolve_second=True,\n",
    "    planet_use_up_sample=1,\n",
    "    work_dir=work_dir,\n",
    "    verbose=True)"
   ]
  },
  {
   "cell_type": "code",
   "execution_count": 73,
   "id": "882006e5",
   "metadata": {},
   "outputs": [
    {
     "name": "stdout",
     "output_type": "stream",
     "text": [
      "Creating right reason mask ... [DONE]\n"
     ]
    }
   ],
   "source": [
    "s4_noise_fine_tuned = S4Noise.load(saved_model_fine_tuned)\n",
    "s4_model_fine_tuned.noise_model = s4_noise_fine_tuned.float()"
   ]
  },
  {
   "cell_type": "markdown",
   "id": "f2c5ca5f",
   "metadata": {},
   "source": [
    "# Compute the loss terms"
   ]
  },
  {
   "cell_type": "code",
   "execution_count": 74,
   "id": "fd518290",
   "metadata": {},
   "outputs": [],
   "source": [
    "def compute_noise_estimate(\n",
    "    model_in, \n",
    "    dataset_in):\n",
    "    \n",
    "    # get all the data\n",
    "    x_train = torch.from_numpy(dataset_in).float()\n",
    "    x_mu = torch.mean(x_train, axis=0)\n",
    "    x_std = torch.std(x_train, axis=0)\n",
    "    x_norm = (x_train - x_mu) / x_std\n",
    "    \n",
    "    # run the forward pass\n",
    "    science_norm_flatten = x_norm.view(x_norm.shape[0], -1)\n",
    "    model_in.noise_model.compute_betas()\n",
    "    noise_estimate = model_in.noise_model(science_norm_flatten)\n",
    "    \n",
    "    return x_norm.view(-1, 107, 107).detach().numpy(), noise_estimate.view(-1, 107, 107).detach().numpy()"
   ]
  },
  {
   "cell_type": "code",
   "execution_count": 75,
   "id": "e920a4f8",
   "metadata": {},
   "outputs": [],
   "source": [
    "data_raw_train, noise_raw_train = compute_noise_estimate(s4_model_raw, science_data_train)\n",
    "data_fine_tuned_train, noise_fine_tuned_train = compute_noise_estimate(s4_model_fine_tuned, science_data_train)"
   ]
  },
  {
   "cell_type": "code",
   "execution_count": 76,
   "id": "af64e7e7",
   "metadata": {},
   "outputs": [],
   "source": [
    "data_raw_test, noise_raw_test = compute_noise_estimate(s4_model_raw, science_data_test)\n",
    "data_fine_tuned_test, noise_fine_tuned_test = compute_noise_estimate(s4_model_fine_tuned, science_data_test)"
   ]
  },
  {
   "cell_type": "markdown",
   "id": "a13054f4",
   "metadata": {},
   "source": [
    "## The loss terms"
   ]
  },
  {
   "cell_type": "code",
   "execution_count": 77,
   "id": "edb72a76",
   "metadata": {},
   "outputs": [
    {
     "name": "stdout",
     "output_type": "stream",
     "text": [
      "Raw Train error: 114558590.0\n",
      "Fine-tuned Train error: 114407040.0\n",
      "Raw Test error: 144964980.0\n",
      "Fine-tuned Test error: 144867180.0\n"
     ]
    }
   ],
   "source": [
    "print(\"Raw Train error: \" + str(np.sum((data_raw_train - noise_raw_train)**2)))\n",
    "print(\"Fine-tuned Train error: \" + str(np.sum((data_fine_tuned_train - noise_fine_tuned_train)**2)))\n",
    "\n",
    "print(\"Raw Test error: \" + str(np.sum((data_raw_test - noise_raw_test)**2)))\n",
    "print(\"Fine-tuned Test error: \" + str(np.sum((data_fine_tuned_test - noise_fine_tuned_test)**2)))"
   ]
  },
  {
   "cell_type": "code",
   "execution_count": 78,
   "id": "b97f906e",
   "metadata": {},
   "outputs": [
    {
     "name": "stdout",
     "output_type": "stream",
     "text": [
      "Regularization loss raw: 22797.41\n",
      "Regularization loss fine-tuned: 22794.04\n"
     ]
    }
   ],
   "source": [
    "print(\"Regularization loss raw: \" +\n",
    "      str(np.sum((s4_model_raw.noise_model.betas_raw **2).detach().numpy())))\n",
    "print(\"Regularization loss fine-tuned: \" +\n",
    "      str(np.sum((s4_model_fine_tuned.noise_model.betas_raw **2).detach().numpy())))"
   ]
  },
  {
   "cell_type": "markdown",
   "id": "c0175e35",
   "metadata": {},
   "source": [
    "# Plot the difference in weights"
   ]
  },
  {
   "cell_type": "code",
   "execution_count": 79,
   "id": "854fed0b",
   "metadata": {},
   "outputs": [],
   "source": [
    "beta_difference = s4_model_fine_tuned.noise_model.betas - s4_model_raw.noise_model.betas"
   ]
  },
  {
   "cell_type": "code",
   "execution_count": 80,
   "id": "f71b3d40",
   "metadata": {},
   "outputs": [],
   "source": [
    "most_changed_region = torch.max(torch.abs(beta_difference), axis=0)[0].reshape(107, 107)"
   ]
  },
  {
   "cell_type": "code",
   "execution_count": 81,
   "id": "89df104f",
   "metadata": {},
   "outputs": [
    {
     "data": {
      "text/plain": [
       "(-0.5, 106.5, 106.5, -0.5)"
      ]
     },
     "execution_count": 81,
     "metadata": {},
     "output_type": "execute_result"
    },
    {
     "data": {
      "image/png": "[encoded data removed]",
      "text/plain": [
       "<Figure size 640x480 with 1 Axes>"
      ]
     },
     "metadata": {},
     "output_type": "display_data"
    }
   ],
   "source": [
    "plt.imshow(most_changed_region.detach().numpy())\n",
    "plt.axis(\"off\")"
   ]
  },
  {
   "cell_type": "code",
   "execution_count": null,
   "id": "c0155002",
   "metadata": {},
   "outputs": [],
   "source": []
  }
 ],
 "metadata": {
  "kernelspec": {
   "display_name": "Python 3 (ipykernel)",
   "language": "python",
   "name": "python3"
  },
  "language_info": {
   "codemirror_mode": {
    "name": "ipython",
    "version": 3
   },
   "file_extension": ".py",
   "mimetype": "text/x-python",
   "name": "python",
   "nbconvert_exporter": "python",
   "pygments_lexer": "ipython3",
   "version": "3.10.10"
  }
 },
 "nbformat": 4,
 "nbformat_minor": 5
}
