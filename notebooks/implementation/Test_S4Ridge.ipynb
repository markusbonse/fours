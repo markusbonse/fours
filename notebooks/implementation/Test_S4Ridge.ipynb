{
 "cells": [
  {
   "cell_type": "code",
   "execution_count": 1,
   "id": "36a12290",
   "metadata": {},
   "outputs": [],
   "source": [
    "import torch\n",
    "import json\n",
    "import numpy as np\n",
    "import pickle\n",
    "from tqdm import tqdm\n",
    "from pathlib import Path\n",
    "\n",
    "import matplotlib.pyplot as plt\n",
    "\n",
    "from s4hci.utils.data_handling import load_adi_data\n",
    "from s4hci.models.noise import S4Ridge\n",
    "\n",
    "import torch.nn.functional as F\n",
    "import torch.multiprocessing as mp\n",
    "\n",
    "from s4hci.utils.masks import construct_round_rfrr_template, construct_rfrr_mask"
   ]
  },
  {
   "cell_type": "markdown",
   "id": "0d0014ac",
   "metadata": {},
   "source": [
    "## Load the data"
   ]
  },
  {
   "cell_type": "code",
   "execution_count": 2,
   "id": "b014439e",
   "metadata": {},
   "outputs": [
    {
     "name": "stdout",
     "output_type": "stream",
     "text": [
      "Loading data ... [DONE]\n"
     ]
    }
   ],
   "source": [
    "print(\"Loading data ... \", end='')\n",
    "science_data, raw_angles, raw_psf_template_data = \\\n",
    "    load_adi_data(\"/fast/mbonse/s4/30_data/EpsEri_0100_C-0656-A.hdf5\",\n",
    "                  data_tag=\"13_object_final\",\n",
    "                  psf_template_tag=\"10_psf\",\n",
    "                  para_tag=\"header_13_object_final/PARANG\")\n",
    "\n",
    "psf_template_data = np.mean(raw_psf_template_data, axis=0)\n",
    "\n",
    "X_train = science_data[0::2]\n",
    "X_test = science_data[1::2]\n",
    "print(\"[DONE]\")"
   ]
  },
  {
   "cell_type": "markdown",
   "id": "9068b858",
   "metadata": {},
   "source": [
    "## Test S4 Ridge"
   ]
  },
  {
   "cell_type": "code",
   "execution_count": 3,
   "id": "a2763582",
   "metadata": {},
   "outputs": [],
   "source": [
    "s4_ridge = S4Ridge(\n",
    "    psf_template=psf_template_data,\n",
    "    lambda_reg = 100,\n",
    "    convolve=True,\n",
    "    use_normalization=True,\n",
    "    available_devices=[0],\n",
    "    half_precision=False,\n",
    "    cut_radius_psf=4,\n",
    "    mask_template_setup=(\"radius\", 6.5))"
   ]
  },
  {
   "cell_type": "markdown",
   "id": "c2d4f182",
   "metadata": {},
   "source": [
    "## run a fast test"
   ]
  },
  {
   "cell_type": "code",
   "execution_count": 4,
   "id": "3dac57db",
   "metadata": {},
   "outputs": [
    {
     "name": "stdout",
     "output_type": "stream",
     "text": [
      "Creating right reason mask ... [DONE]\n",
      "Build normalization frames ... [DONE]\n"
     ]
    }
   ],
   "source": [
    "s4_ridge._setup_training(science_data)\n",
    "s4_ridge.science_data_norm = s4_ridge.normalize_data(science_data)"
   ]
  },
  {
   "cell_type": "code",
   "execution_count": 9,
   "id": "7eef9d5d",
   "metadata": {},
   "outputs": [],
   "source": [
    "positions = [(y, x)\n",
    "             for x in range(0, s4_ridge.image_size, 10)\n",
    "             for y in range(0, s4_ridge.image_size, 10)]"
   ]
  },
  {
   "cell_type": "code",
   "execution_count": 10,
   "id": "37986845",
   "metadata": {},
   "outputs": [
    {
     "name": "stderr",
     "output_type": "stream",
     "text": [
      "100%|██████████| 121/121 [00:56<00:00,  2.13it/s]\n"
     ]
    }
   ],
   "source": [
    "s4_ridge.betas = s4_ridge._fit_mp(positions)"
   ]
  },
  {
   "cell_type": "code",
   "execution_count": 11,
   "id": "6cf1ec48",
   "metadata": {},
   "outputs": [
    {
     "data": {
      "text/plain": [
       "torch.Size([121, 11449])"
      ]
     },
     "execution_count": 11,
     "metadata": {},
     "output_type": "execute_result"
    }
   ],
   "source": [
    "s4_ridge.betas.shape"
   ]
  },
  {
   "cell_type": "markdown",
   "id": "e9b09ffb",
   "metadata": {},
   "source": [
    "## Run one full fit"
   ]
  },
  {
   "cell_type": "code",
   "execution_count": 4,
   "id": "987cafe1",
   "metadata": {},
   "outputs": [
    {
     "name": "stdout",
     "output_type": "stream",
     "text": [
      "Creating right reason mask ... [DONE]\n",
      "Build normalization frames ... [DONE]\n"
     ]
    },
    {
     "name": "stderr",
     "output_type": "stream",
     "text": [
      "100%|██████████| 11449/11449 [1:17:05<00:00,  2.48it/s]\n"
     ]
    }
   ],
   "source": [
    "s4_ridge.fit(science_data)"
   ]
  },
  {
   "cell_type": "markdown",
   "id": "f8272d35",
   "metadata": {},
   "source": [
    "## Save and restore"
   ]
  },
  {
   "cell_type": "code",
   "execution_count": 5,
   "id": "5f459dd3",
   "metadata": {},
   "outputs": [],
   "source": [
    "save_file = \"/cluster/project/quanz/mbonse/2022_S4/70_results/2023_04_13_hyperparameter_search/initial_tests/test_betas.pkl\""
   ]
  },
  {
   "cell_type": "code",
   "execution_count": 12,
   "id": "ed441817",
   "metadata": {},
   "outputs": [],
   "source": [
    "save_file = \"/fast/mbonse/s4/70_results/01_closed_form_hyperparameters/trained_models/test_betas.pkl\""
   ]
  },
  {
   "cell_type": "code",
   "execution_count": 13,
   "id": "34df1661",
   "metadata": {},
   "outputs": [],
   "source": [
    "s4_ridge.save(save_file)"
   ]
  },
  {
   "cell_type": "code",
   "execution_count": 14,
   "id": "d57bcdba",
   "metadata": {},
   "outputs": [],
   "source": [
    "s4_ridge_new = S4Ridge.restore_from_checkpoint(\n",
    "    save_file,\n",
    "    verbose=True,\n",
    "    available_devices=[0],\n",
    "    half_precision=False)"
   ]
  },
  {
   "cell_type": "code",
   "execution_count": 15,
   "id": "3323d37f",
   "metadata": {},
   "outputs": [
    {
     "data": {
      "text/plain": [
       "torch.Size([121, 11449])"
      ]
     },
     "execution_count": 15,
     "metadata": {},
     "output_type": "execute_result"
    }
   ],
   "source": [
    "s4_ridge_new.betas.shape"
   ]
  },
  {
   "cell_type": "code",
   "execution_count": null,
   "id": "36764ab8",
   "metadata": {},
   "outputs": [],
   "source": []
  }
 ],
 "metadata": {
  "kernelspec": {
   "display_name": "Python 3 (ipykernel)",
   "language": "python",
   "name": "python3"
  },
  "language_info": {
   "codemirror_mode": {
    "name": "ipython",
    "version": 3
   },
   "file_extension": ".py",
   "mimetype": "text/x-python",
   "name": "python",
   "nbconvert_exporter": "python",
   "pygments_lexer": "ipython3",
   "version": "3.10.10"
  }
 },
 "nbformat": 4,
 "nbformat_minor": 5
}
