{
 "cells": [
  {
   "cell_type": "code",
   "execution_count": 1,
   "id": "2ca501dd",
   "metadata": {},
   "outputs": [],
   "source": [
    "import json\n",
    "import sys\n",
    "import numpy as np\n",
    "from pathlib import Path\n",
    "\n",
    "from s4hci.utils.data_handling import load_adi_data, save_as_fits\n",
    "from s4hci.models.psf_subtraction import S4\n",
    "from s4hci.models.noise import S4Noise\n",
    "from s4hci.utils.logging import print_message, setup_logger\n",
    "\n",
    "from applefy.utils.fake_planets import add_fake_planets"
   ]
  },
  {
   "cell_type": "markdown",
   "id": "13d701a9",
   "metadata": {},
   "source": [
    "# All files we need"
   ]
  },
  {
   "cell_type": "code",
   "execution_count": 2,
   "id": "e1762c24",
   "metadata": {},
   "outputs": [],
   "source": [
    "# 1.) Load the arguments\n",
    "dataset_hdf5_file = \"/fast/mbonse/s4/30_data/HD22049_304_199_C-0065_C_.hdf5\"\n",
    "reg_lambda = 1934\n",
    "s4_work_dir = \"/fast/mbonse/s4/70_results/03_contrast_grid/fine_tune_very_long/\"\n",
    "saved_model = \"/fast/mbonse/s4/70_results/03_contrast_grid/finished/HD22049_304_199_C-0065_C_/results/0000/models/noise_model_closed_form.pkl\""
   ]
  },
  {
   "cell_type": "markdown",
   "id": "2f43c476",
   "metadata": {},
   "source": [
    "# Load the data"
   ]
  },
  {
   "cell_type": "code",
   "execution_count": 3,
   "id": "6d2b46aa",
   "metadata": {},
   "outputs": [],
   "source": [
    "science_data, raw_angles, raw_psf_template_data = \\\n",
    "    load_adi_data(\n",
    "        hdf5_dataset=dataset_hdf5_file,\n",
    "        data_tag=\"object\",\n",
    "        psf_template_tag=\"psf_template\",\n",
    "        para_tag=\"header_object/PARANG\")\n",
    "\n",
    "science_data = science_data[:, 12:-12, 12:-12]\n",
    "\n",
    "# Background subtraction of the PSF template\n",
    "psf_template_data = np.median(raw_psf_template_data, axis=0)\n",
    "psf_template_data = psf_template_data - np.min(psf_template_data)"
   ]
  },
  {
   "cell_type": "code",
   "execution_count": 4,
   "id": "ba8e7d9f",
   "metadata": {},
   "outputs": [],
   "source": [
    "data_with_fake_planet = science_data"
   ]
  },
  {
   "cell_type": "markdown",
   "id": "be5dca24",
   "metadata": {},
   "source": [
    "# Create and restore the model"
   ]
  },
  {
   "cell_type": "code",
   "execution_count": 5,
   "id": "73b21995",
   "metadata": {},
   "outputs": [
    {
     "name": "stdout",
     "output_type": "stream",
     "text": [
      "Creating right reason mask ... [DONE]\n"
     ]
    }
   ],
   "source": [
    "s4_model = S4(\n",
    "    data_cube=data_with_fake_planet,\n",
    "    parang=raw_angles,\n",
    "    psf_template=psf_template_data,\n",
    "    noise_noise_cut_radius_psf=4.0,\n",
    "    noise_mask_radius=5.5,\n",
    "    device=0,\n",
    "    noise_lambda_init=reg_lambda,\n",
    "    noise_normalization=\"robust\",\n",
    "    planet_convolve_second=True,\n",
    "    planet_use_up_sample=1,\n",
    "    work_dir=s4_work_dir,\n",
    "    verbose=True)"
   ]
  },
  {
   "cell_type": "code",
   "execution_count": 6,
   "id": "fdd5fa16",
   "metadata": {},
   "outputs": [
    {
     "name": "stdout",
     "output_type": "stream",
     "text": [
      "Creating right reason mask ... [DONE]\n"
     ]
    }
   ],
   "source": [
    "s4_noise = S4Noise.load(saved_model)"
   ]
  },
  {
   "cell_type": "code",
   "execution_count": 7,
   "id": "b3d79454",
   "metadata": {},
   "outputs": [],
   "source": [
    "s4_model.noise_model = s4_noise.float()"
   ]
  },
  {
   "cell_type": "markdown",
   "id": "d276424c",
   "metadata": {},
   "source": [
    "# Compute one test residual"
   ]
  },
  {
   "cell_type": "code",
   "execution_count": 8,
   "id": "5bbf2191",
   "metadata": {},
   "outputs": [],
   "source": [
    "raw_residual_file = s4_model.residuals_dir / \\\n",
    "        Path(\"01_Residual_Raw_mean.fits\")"
   ]
  },
  {
   "cell_type": "code",
   "execution_count": 9,
   "id": "99d65eee",
   "metadata": {},
   "outputs": [],
   "source": [
    "residual_before_fine_tuning = s4_model.compute_residual(\n",
    "    account_for_planet=False,\n",
    "    combine=\"mean\")\n",
    "\n",
    "save_as_fits(\n",
    "    residual_before_fine_tuning,\n",
    "    raw_residual_file,\n",
    "    overwrite=True)"
   ]
  },
  {
   "cell_type": "markdown",
   "id": "34f1047b",
   "metadata": {},
   "source": [
    "# Fine-tune the model"
   ]
  },
  {
   "cell_type": "code",
   "execution_count": 10,
   "id": "933015ab",
   "metadata": {},
   "outputs": [
    {
     "data": {
      "application/vnd.jupyter.widget-view+json": {
       "model_id": "433fdc4f714242839c86dedfb4b5c4a5",
       "version_major": 2,
       "version_minor": 0
      },
      "text/plain": [
       "  0%|          | 0/500 [00:00<?, ?it/s]"
      ]
     },
     "metadata": {},
     "output_type": "display_data"
    }
   ],
   "source": [
    "s4_model.fine_tune_model(\n",
    "    num_epochs=500,\n",
    "    learning_rate_planet=1e-3,\n",
    "    learning_rate_noise=1e-6,\n",
    "    fine_tune_noise_model=True,\n",
    "    lean_planet_model=False,\n",
    "    rotation_grid_down_sample=10,\n",
    "    upload_rotation_grid=True,\n",
    "    batch_size=10000)\n",
    "\n",
    "# Create a residual\n",
    "tmp_residual_file = s4_model.residuals_dir / \\\n",
    "    Path(\"01_Residual_Raw_mean_500.fits\")\n",
    "\n",
    "tmp_residual = s4_model.compute_residual(\n",
    "    account_for_planet=False,\n",
    "    combine=\"mean\")\n",
    "\n",
    "save_as_fits(\n",
    "    tmp_residual,\n",
    "    tmp_residual_file,\n",
    "    overwrite=True)"
   ]
  },
  {
   "cell_type": "markdown",
   "id": "75626d79",
   "metadata": {},
   "source": [
    "# Run the same but with BS -1"
   ]
  },
  {
   "cell_type": "code",
   "execution_count": 11,
   "id": "37a6b66f",
   "metadata": {},
   "outputs": [
    {
     "name": "stdout",
     "output_type": "stream",
     "text": [
      "Creating right reason mask ... [DONE]\n"
     ]
    }
   ],
   "source": [
    "s4_noise = S4Noise.load(saved_model)"
   ]
  },
  {
   "cell_type": "code",
   "execution_count": 12,
   "id": "fa43c331",
   "metadata": {},
   "outputs": [],
   "source": [
    "s4_model.noise_model = s4_noise.float()"
   ]
  },
  {
   "cell_type": "code",
   "execution_count": 8,
   "id": "9d23c5a8",
   "metadata": {},
   "outputs": [
    {
     "data": {
      "application/vnd.jupyter.widget-view+json": {
       "model_id": "",
       "version_major": 2,
       "version_minor": 0
      },
      "text/plain": [
       "  0%|          | 0/500 [00:00<?, ?it/s]"
      ]
     },
     "metadata": {},
     "output_type": "display_data"
    }
   ],
   "source": [
    "s4_model.fine_tune_model(\n",
    "    num_epochs=500,\n",
    "    learning_rate_planet=1e-3,\n",
    "    learning_rate_noise=1e-6,\n",
    "    fine_tune_noise_model=True,\n",
    "    lean_planet_model=False,\n",
    "    rotation_grid_down_sample=10,\n",
    "    upload_rotation_grid=True,\n",
    "    batch_size=-1)\n",
    "\n",
    "# Create a residual\n",
    "tmp_residual_file = s4_model.residuals_dir / \\\n",
    "    Path(\"01_Residual_Raw_mean_500_BS-1.fits\")\n",
    "\n",
    "tmp_residual = s4_model.compute_residual(\n",
    "    account_for_planet=False,\n",
    "    combine=\"mean\")\n",
    "\n",
    "save_as_fits(\n",
    "    tmp_residual,\n",
    "    tmp_residual_file,\n",
    "    overwrite=True)"
   ]
  },
  {
   "cell_type": "code",
   "execution_count": null,
   "id": "85b7df7d",
   "metadata": {},
   "outputs": [],
   "source": []
  },
  {
   "cell_type": "code",
   "execution_count": null,
   "id": "62aabcf5",
   "metadata": {},
   "outputs": [],
   "source": []
  }
 ],
 "metadata": {
  "kernelspec": {
   "display_name": "Python 3 (ipykernel)",
   "language": "python",
   "name": "python3"
  },
  "language_info": {
   "codemirror_mode": {
    "name": "ipython",
    "version": 3
   },
   "file_extension": ".py",
   "mimetype": "text/x-python",
   "name": "python",
   "nbconvert_exporter": "python",
   "pygments_lexer": "ipython3",
   "version": "3.10.10"
  }
 },
 "nbformat": 4,
 "nbformat_minor": 5
}
