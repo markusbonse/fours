{
 "cells": [
  {
   "cell_type": "code",
   "execution_count": 1,
   "id": "initial_id",
   "metadata": {
    "ExecuteTime": {
     "end_time": "2024-06-22T13:50:46.234610Z",
     "start_time": "2024-06-22T13:50:20.949221Z"
    },
    "collapsed": true
   },
   "outputs": [],
   "source": [
    "import json\n",
    "import numpy as np\n",
    "from pathlib import Path\n",
    "import matplotlib.pyplot as plt\n",
    "\n",
    "import torch\n",
    "from torch import nn\n",
    "\n",
    "# imports to load some data\n",
    "from fours.utils.data_handling import load_adi_data\n",
    "\n",
    "from applefy.utils.fake_planets import add_fake_planets\n",
    "from applefy.utils.photometry import flux_ratio2mag, mag2flux_ratio\n",
    "\n",
    "from pynpoint.util.analysis import fake_planet"
   ]
  },
  {
   "cell_type": "markdown",
   "id": "8bfe2b075c0515c1",
   "metadata": {
    "collapsed": false
   },
   "source": [
    "# Load the data"
   ]
  },
  {
   "cell_type": "code",
   "execution_count": 2,
   "id": "12ce71fe61eb91b0",
   "metadata": {
    "ExecuteTime": {
     "end_time": "2024-06-22T13:50:46.235104Z",
     "start_time": "2024-06-22T13:50:46.234154Z"
    },
    "collapsed": false
   },
   "outputs": [],
   "source": [
    "dataset_file = Path(\"/fast/mbonse/s4/30_data/HD22049_303_199_C-0065_C_.hdf5\")\n",
    "experiment_root_dir = Path(\"/fast/mbonse/s4/70_results/09_new_rotation_loss/x2_different_residual_creations/\")\n",
    "exp_id = str(\"0123a\")\n",
    "use_rotation_loss = True\n",
    "lambda_reg = float(850)"
   ]
  },
  {
   "cell_type": "code",
   "execution_count": 3,
   "id": "ce3ed0f90e5ef014",
   "metadata": {
    "ExecuteTime": {
     "end_time": "2024-06-22T13:50:48.193301Z",
     "start_time": "2024-06-22T13:50:46.234343Z"
    },
    "collapsed": false
   },
   "outputs": [],
   "source": [
    "science_data, angles, raw_psf_template_data = \\\n",
    "    load_adi_data(\n",
    "        hdf5_dataset=str(dataset_file),\n",
    "        data_tag=\"object_stacked_05\",\n",
    "        psf_template_tag=\"psf_template\",\n",
    "        para_tag=\"header_object_stacked_05/PARANG\")\n",
    "\n",
    "psf_template = np.median(raw_psf_template_data, axis=0)\n",
    "\n",
    "# other parameters\n",
    "dit_psf_template = 0.0042560\n",
    "dit_science = 0.08\n",
    "fwhm = 3.6\n",
    "pixel_scale = 0.02718\n",
    "\n",
    "# we cut the image to 91 x 91 pixel to be slightly larger than 1.2 arcsec\n",
    "cut_off = int((science_data.shape[1] - 91) / 2)\n",
    "science_data = science_data[:, cut_off:-cut_off, cut_off:-cut_off]"
   ]
  },
  {
   "cell_type": "code",
   "execution_count": 4,
   "id": "1ec3cdf8ef8ec030",
   "metadata": {
    "ExecuteTime": {
     "end_time": "2024-06-22T13:50:48.211836Z",
     "start_time": "2024-06-22T13:50:48.194502Z"
    },
    "collapsed": false
   },
   "outputs": [],
   "source": [
    "dataset_id = \"0115b\"\n",
    "\n",
    "# add the fake planet\n",
    "fake_planet_config_file = \"/fast/mbonse/s4/70_results/10_contrast_grids/HD22049_303_199_C-0065_C_/configs_cgrid/exp_ID_\" + exp_id + \".json\"\n",
    "with open(fake_planet_config_file) as json_file:\n",
    "    fake_planet_config = json.load(json_file)"
   ]
  },
  {
   "cell_type": "code",
   "execution_count": 5,
   "id": "fcbb0967e4c47223",
   "metadata": {
    "ExecuteTime": {
     "end_time": "2024-06-22T13:50:48.219133Z",
     "start_time": "2024-06-22T13:50:48.212610Z"
    },
    "collapsed": false
   },
   "outputs": [],
   "source": [
    "fake_planet_config[\"flux_ratio\"] = mag2flux_ratio(9.5)"
   ]
  },
  {
   "cell_type": "code",
   "execution_count": 6,
   "id": "4a4e30c754433fdc",
   "metadata": {
    "ExecuteTime": {
     "end_time": "2024-06-22T13:50:59.371495Z",
     "start_time": "2024-06-22T13:50:48.215825Z"
    },
    "collapsed": false
   },
   "outputs": [],
   "source": [
    "data_with_fake_planet = add_fake_planets(\n",
    "    input_stack=np.zeros_like(science_data),\n",
    "    psf_template=psf_template,\n",
    "    parang=angles - np.pi/2, # the pi/2 is to correct the parang to the north\n",
    "    dit_psf_template=dit_psf_template,\n",
    "    dit_science=dit_science,\n",
    "    experiment_config=fake_planet_config,\n",
    "    scaling_factor=1.0)"
   ]
  },
  {
   "cell_type": "markdown",
   "id": "7b1802f0f2362928",
   "metadata": {
    "collapsed": false
   },
   "source": [
    "# The new model"
   ]
  },
  {
   "cell_type": "code",
   "execution_count": 13,
   "id": "b667e83cb5c15e95",
   "metadata": {
    "ExecuteTime": {
     "end_time": "2024-06-22T13:54:27.890862Z",
     "start_time": "2024-06-22T13:54:27.846073Z"
    },
    "collapsed": false
   },
   "outputs": [],
   "source": [
    "import numpy as np\n",
    "\n",
    "import torch\n",
    "import torch.nn as nn\n",
    "import torch.nn.functional as F\n",
    "\n",
    "\n",
    "class NegFC(nn.Module):\n",
    "\n",
    "    def __init__(\n",
    "            self,\n",
    "            psf_template,\n",
    "            all_angles,\n",
    "            input_size,\n",
    "            init_separation,\n",
    "            init_pos_angle,\n",
    "            init_flux_ratio,\n",
    "            dit_science,\n",
    "            dit_psf_template,\n",
    "            nd_factor,\n",
    "            interpolation=\"bicubic\"\n",
    "    ):\n",
    "\n",
    "        super(NegFC, self).__init__()\n",
    "        self.m_input_size = input_size\n",
    "\n",
    "        # initialize the three parameters\n",
    "        self.pos_angle = nn.Parameter(torch.Tensor([init_pos_angle]))\n",
    "        self.flux_ratio = nn.Parameter(torch.Tensor([init_flux_ratio]))\n",
    "        self.separation = nn.Parameter(torch.Tensor([init_separation]))\n",
    "        self.interpolation = interpolation\n",
    "\n",
    "        # the DIT and ND factor\n",
    "        # TODO check if nd_factor is 1/nd_factor\n",
    "        self.integration_time_factor = (\n",
    "                dit_science / dit_psf_template * nd_factor)\n",
    "\n",
    "        # save the angles\n",
    "        self.register_buffer(\n",
    "            \"par_angles\",\n",
    "            torch.from_numpy(all_angles).float())\n",
    "\n",
    "        # pad the psf template\n",
    "        pad_size = (self.m_input_size - psf_template.shape[0]) // 2\n",
    "        if pad_size < 0:\n",
    "            raise ValueError(\n",
    "                \"The input size is smaller than the PSF template size\")\n",
    "\n",
    "        padded_psf = np.pad(\n",
    "            psf_template,\n",
    "            pad_width=((pad_size, pad_size), (pad_size, pad_size)),\n",
    "            mode='constant',\n",
    "            constant_values=0)\n",
    "\n",
    "        self.register_buffer(\n",
    "            \"psf_template\",\n",
    "            torch.from_numpy(padded_psf).float())\n",
    "\n",
    "    def get_forward_model(self):\n",
    "\n",
    "        # calculate the correct position angle and x/y shifts\n",
    "        ang = torch.deg2rad(self.pos_angle) + torch.pi / 2 - self.par_angles\n",
    "\n",
    "        psf_torch = (self.psf_template *\n",
    "                     self.flux_ratio *\n",
    "                     self.integration_time_factor)\n",
    "\n",
    "        x_shift = self.separation * torch.cos(ang)\n",
    "        y_shift = self.separation * torch.sin(ang)\n",
    "\n",
    "        # create the affine matrix\n",
    "        theta = torch.zeros(ang.shape[0], 2, 3, device=ang.device)\n",
    "        theta[:, 0, 0] = 1\n",
    "        theta[:, 1, 1] = 1\n",
    "\n",
    "        # the -1 is needed because the grid uses align_corners=True\n",
    "        theta[:, 0, 2] = - x_shift / (psf_torch.shape[0] - 1) * 2\n",
    "        theta[:, 1, 2] = - y_shift / (psf_torch.shape[1] - 1) * 2\n",
    "\n",
    "        # build the grid\n",
    "        grid = F.affine_grid(\n",
    "            theta,\n",
    "            torch.Size([ang.shape[0],\n",
    "                        1,\n",
    "                        self.m_input_size,\n",
    "                        self.m_input_size]),\n",
    "            align_corners=True)\n",
    "\n",
    "        # apply the grid\n",
    "        shifted_data = F.grid_sample(\n",
    "            psf_torch.unsqueeze(0).unsqueeze(0).repeat(\n",
    "                ang.shape[0], 1, 1, 1),\n",
    "            grid,\n",
    "            mode=self.interpolation,\n",
    "            align_corners=True).squeeze()\n",
    "\n",
    "        return shifted_data\n",
    "\n",
    "    def forward(self, science_sequence):\n",
    "        # get the forward model\n",
    "        forward_model = self.get_forward_model()\n",
    "\n",
    "        # apply the forward model\n",
    "        return science_sequence - forward_model"
   ]
  },
  {
   "cell_type": "markdown",
   "id": "b5de56e3f034719",
   "metadata": {
    "collapsed": false
   },
   "source": [
    "# test the new model"
   ]
  },
  {
   "cell_type": "code",
   "execution_count": 42,
   "id": "67aa426ee0df5b57",
   "metadata": {
    "ExecuteTime": {
     "end_time": "2024-06-22T14:00:57.260490Z",
     "start_time": "2024-06-22T14:00:57.250983Z"
    },
    "collapsed": false
   },
   "outputs": [],
   "source": [
    "# create the model\n",
    "model = NegFC(\n",
    "    psf_template=psf_template,\n",
    "    all_angles=angles,\n",
    "    input_size=science_data.shape[1],\n",
    "    init_separation=fake_planet_config[\"separation\"],\n",
    "    init_pos_angle=np.deg2rad(fake_planet_config[\"planet_position\"][-1]),\n",
    "    init_flux_ratio=mag2flux_ratio(9.5),\n",
    "    dit_science=dit_science,\n",
    "    dit_psf_template=dit_psf_template,\n",
    "    nd_factor=1.0)"
   ]
  },
  {
   "cell_type": "code",
   "execution_count": 43,
   "id": "6d7bf6b9e94e3d27",
   "metadata": {
    "ExecuteTime": {
     "end_time": "2024-06-22T14:00:57.534466Z",
     "start_time": "2024-06-22T14:00:57.519250Z"
    },
    "collapsed": false
   },
   "outputs": [],
   "source": [
    "model = model.to(0)"
   ]
  },
  {
   "cell_type": "code",
   "execution_count": 44,
   "id": "3be1a6b0d2a2db24",
   "metadata": {
    "ExecuteTime": {
     "end_time": "2024-06-22T14:00:57.724877Z",
     "start_time": "2024-06-22T14:00:57.715786Z"
    },
    "collapsed": false
   },
   "outputs": [],
   "source": [
    "fake_planet_sequence = model.get_forward_model()"
   ]
  },
  {
   "cell_type": "code",
   "execution_count": 45,
   "id": "c8a791c810784671",
   "metadata": {
    "ExecuteTime": {
     "end_time": "2024-06-22T14:00:58.211108Z",
     "start_time": "2024-06-22T14:00:58.113490Z"
    },
    "collapsed": false
   },
   "outputs": [
    {
     "data": {
      "image/png": "[encoded data removed]",
      "text/plain": [
       "<Figure size 1000x500 with 2 Axes>"
      ]
     },
     "metadata": {},
     "output_type": "display_data"
    }
   ],
   "source": [
    "idx = 10000\n",
    "\n",
    "# plot the fake planet next to the applfy fake planet\n",
    "fig, (ax1, ax2) = plt.subplots(1, 2, figsize=(10, 5))\n",
    "\n",
    "ax1.imshow(fake_planet_sequence[idx].detach().cpu().numpy(), vmin=0, vmax=35)\n",
    "ax1.set_title(\"Pytroch model\")\n",
    "ax1.axis(\"off\")\n",
    "\n",
    "ax2.imshow(data_with_fake_planet[idx], vmin=0, vmax=35)\n",
    "ax2.set_title(\"Applefy model\")\n",
    "ax2.axis(\"off\")\n",
    "\n",
    "plt.tight_layout()"
   ]
  },
  {
   "cell_type": "code",
   "execution_count": 33,
   "id": "700be16f68d818a6",
   "metadata": {
    "ExecuteTime": {
     "end_time": "2024-06-22T13:58:34.792551Z",
     "start_time": "2024-06-22T13:58:34.777144Z"
    },
    "collapsed": false
   },
   "outputs": [
    {
     "data": {
      "text/plain": [
       "31.231873"
      ]
     },
     "execution_count": 33,
     "metadata": {},
     "output_type": "execute_result"
    }
   ],
   "source": [
    "np.max(fake_planet_sequence[0].detach().cpu().numpy())"
   ]
  },
  {
   "cell_type": "code",
   "execution_count": 34,
   "id": "c933844027d1f37",
   "metadata": {
    "ExecuteTime": {
     "end_time": "2024-06-22T13:58:35.099500Z",
     "start_time": "2024-06-22T13:58:35.036702Z"
    },
    "collapsed": false
   },
   "outputs": [
    {
     "data": {
      "text/plain": [
       "30.79126822620271"
      ]
     },
     "execution_count": 34,
     "metadata": {},
     "output_type": "execute_result"
    }
   ],
   "source": [
    "np.max(data_with_fake_planet[0])"
   ]
  },
  {
   "cell_type": "code",
   "id": "52228cd3802d88a8",
   "metadata": {
    "collapsed": false
   },
   "outputs": [],
   "source": []
  }
 ],
 "metadata": {
  "kernelspec": {
   "display_name": "Python 3",
   "language": "python",
   "name": "python3"
  },
  "language_info": {
   "codemirror_mode": {
    "name": "ipython",
    "version": 2
   },
   "file_extension": ".py",
   "mimetype": "text/x-python",
   "name": "python",
   "nbconvert_exporter": "python",
   "pygments_lexer": "ipython2",
   "version": "2.7.6"
  }
 },
 "nbformat": 4,
 "nbformat_minor": 5
}
