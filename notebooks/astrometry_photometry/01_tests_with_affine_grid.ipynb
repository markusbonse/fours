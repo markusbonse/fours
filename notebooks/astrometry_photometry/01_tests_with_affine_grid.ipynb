{
 "cells": [
  {
   "cell_type": "code",
   "execution_count": 94,
   "id": "initial_id",
   "metadata": {
    "ExecuteTime": {
     "end_time": "2024-06-22T11:07:24.695059Z",
     "start_time": "2024-06-22T11:07:24.653085Z"
    },
    "collapsed": true
   },
   "outputs": [],
   "source": [
    "import json\n",
    "import numpy as np\n",
    "from pathlib import Path\n",
    "import matplotlib.pyplot as plt\n",
    "\n",
    "import torch\n",
    "from torch import nn\n",
    "\n",
    "# imports to load some data\n",
    "from fours.utils.data_handling import load_adi_data\n",
    "\n",
    "from applefy.utils.fake_planets import add_fake_planets\n",
    "from applefy.utils.photometry import flux_ratio2mag, mag2flux_ratio\n",
    "\n",
    "from pynpoint.util.analysis import fake_planet"
   ]
  },
  {
   "cell_type": "markdown",
   "id": "e3bca633035192d2",
   "metadata": {
    "collapsed": false
   },
   "source": [
    "# Load some data"
   ]
  },
  {
   "cell_type": "code",
   "execution_count": 8,
   "id": "9243f0231472e99f",
   "metadata": {
    "ExecuteTime": {
     "end_time": "2024-06-22T09:58:39.882644Z",
     "start_time": "2024-06-22T09:58:39.869113Z"
    },
    "collapsed": false
   },
   "outputs": [],
   "source": [
    "dataset_file = Path(\"/fast/mbonse/s4/30_data/HD22049_303_199_C-0065_C_.hdf5\")\n",
    "experiment_root_dir = Path(\"/fast/mbonse/s4/70_results/09_new_rotation_loss/x2_different_residual_creations/\")\n",
    "exp_id = str(\"0123a\")\n",
    "use_rotation_loss = True\n",
    "lambda_reg = float(850)"
   ]
  },
  {
   "cell_type": "code",
   "execution_count": 9,
   "id": "49370985cdcfc517",
   "metadata": {
    "ExecuteTime": {
     "end_time": "2024-06-22T09:58:40.871687Z",
     "start_time": "2024-06-22T09:58:40.077125Z"
    },
    "collapsed": false
   },
   "outputs": [],
   "source": [
    "science_data, angles, raw_psf_template_data = \\\n",
    "    load_adi_data(\n",
    "        hdf5_dataset=str(dataset_file),\n",
    "        data_tag=\"object_stacked_05\",\n",
    "        psf_template_tag=\"psf_template\",\n",
    "        para_tag=\"header_object_stacked_05/PARANG\")\n",
    "\n",
    "psf_template = np.median(raw_psf_template_data, axis=0)\n",
    "\n",
    "# other parameters\n",
    "dit_psf_template = 0.0042560\n",
    "dit_science = 0.08\n",
    "fwhm = 3.6\n",
    "pixel_scale = 0.02718\n",
    "\n",
    "# we cut the image to 91 x 91 pixel to be slightly larger than 1.2 arcsec\n",
    "cut_off = int((science_data.shape[1] - 91) / 2)\n",
    "science_data = science_data[:, cut_off:-cut_off, cut_off:-cut_off]"
   ]
  },
  {
   "cell_type": "code",
   "execution_count": 10,
   "id": "f1680e8651a8ef82",
   "metadata": {
    "ExecuteTime": {
     "end_time": "2024-06-22T09:58:40.872847Z",
     "start_time": "2024-06-22T09:58:40.852347Z"
    },
    "collapsed": false
   },
   "outputs": [],
   "source": [
    "dataset_id = \"0115b\"\n",
    "\n",
    "# add the fake planet\n",
    "fake_planet_config_file = \"/fast/mbonse/s4/70_results/10_contrast_grids/HD22049_303_199_C-0065_C_/configs_cgrid/exp_ID_\" + exp_id + \".json\"\n",
    "with open(fake_planet_config_file) as json_file:\n",
    "    fake_planet_config = json.load(json_file)"
   ]
  },
  {
   "cell_type": "code",
   "execution_count": 12,
   "id": "7c3852d5915acccb",
   "metadata": {
    "ExecuteTime": {
     "end_time": "2024-06-22T09:58:40.968819Z",
     "start_time": "2024-06-22T09:58:40.968010Z"
    },
    "collapsed": false
   },
   "outputs": [],
   "source": [
    "fake_planet_config[\"flux_ratio\"] = mag2flux_ratio(9.5)"
   ]
  },
  {
   "cell_type": "code",
   "execution_count": 144,
   "id": "fb39edbb66f636da",
   "metadata": {
    "ExecuteTime": {
     "end_time": "2024-06-22T11:32:52.892868Z",
     "start_time": "2024-06-22T11:32:41.747423Z"
    },
    "collapsed": false
   },
   "outputs": [],
   "source": [
    "data_with_fake_planet = add_fake_planets(\n",
    "    input_stack=np.zeros_like(science_data),\n",
    "    psf_template=psf_template,\n",
    "    parang=angles - np.pi/2, # the pi/2 is to correct the parang to the north\n",
    "    dit_psf_template=dit_psf_template,\n",
    "    dit_science=dit_science,\n",
    "    experiment_config=fake_planet_config,\n",
    "    scaling_factor=1.0)"
   ]
  },
  {
   "cell_type": "code",
   "execution_count": 145,
   "id": "b31bea5173aa6822",
   "metadata": {
    "ExecuteTime": {
     "end_time": "2024-06-22T11:32:52.974861Z",
     "start_time": "2024-06-22T11:32:52.880988Z"
    },
    "collapsed": false
   },
   "outputs": [
    {
     "data": {
      "text/plain": [
       "<matplotlib.image.AxesImage at 0x153014c0f520>"
      ]
     },
     "execution_count": 145,
     "metadata": {},
     "output_type": "execute_result"
    },
    {
     "data": {
      "image/png": "[encoded data removed]",
      "text/plain": [
       "<Figure size 640x480 with 1 Axes>"
      ]
     },
     "metadata": {},
     "output_type": "display_data"
    }
   ],
   "source": [
    "plt.imshow(data_with_fake_planet[0])"
   ]
  },
  {
   "cell_type": "code",
   "execution_count": 148,
   "id": "6bfb70391cb2954f",
   "metadata": {
    "ExecuteTime": {
     "end_time": "2024-06-22T11:33:20.066401Z",
     "start_time": "2024-06-22T11:33:20.022656Z"
    },
    "collapsed": false
   },
   "outputs": [],
   "source": [
    "# pad the psf template\n",
    "padded_psf = np.pad(\n",
    "    psf_template, \n",
    "    pad_width=((35, 35), (35, 35)), \n",
    "    mode='constant', \n",
    "    constant_values=0)"
   ]
  },
  {
   "cell_type": "code",
   "execution_count": 495,
   "id": "7df9466668c111b4",
   "metadata": {
    "ExecuteTime": {
     "end_time": "2024-06-22T12:28:50.153457Z",
     "start_time": "2024-06-22T12:28:37.266800Z"
    },
    "collapsed": false
   },
   "outputs": [],
   "source": [
    "# pynpoint fake planet routine\n",
    "fake_planet_sequence_pynpoint = fake_planet(\n",
    "    images=np.zeros_like(science_data),\n",
    "    psf=padded_psf[np.newaxis, :, :],\n",
    "    parang=np.rad2deg(angles),\n",
    "    position=tuple(fake_planet_config[\"planet_position\"][2:]),\n",
    "    magnitude=9.5,\n",
    "    psf_scaling=1.0 / (dit_psf_template / dit_science),\n",
    "    interpolation='spline')"
   ]
  },
  {
   "cell_type": "code",
   "execution_count": 479,
   "id": "c6ea35d3a3348990",
   "metadata": {
    "ExecuteTime": {
     "end_time": "2024-06-22T12:24:56.948874Z",
     "start_time": "2024-06-22T12:24:56.648961Z"
    },
    "collapsed": false
   },
   "outputs": [
    {
     "name": "stdout",
     "output_type": "stream",
     "text": [
      "28.90760380681703\n"
     ]
    },
    {
     "data": {
      "image/png": "[encoded data removed]",
      "text/plain": [
       "<Figure size 640x480 with 1 Axes>"
      ]
     },
     "metadata": {},
     "output_type": "display_data"
    }
   ],
   "source": [
    "plt.imshow(fake_planet_sequence_pynpoint[0])\n",
    "print(np.max(fake_planet_sequence_pynpoint[0]))"
   ]
  },
  {
   "cell_type": "code",
   "execution_count": 480,
   "id": "f51b3b72100ee889",
   "metadata": {
    "ExecuteTime": {
     "end_time": "2024-06-22T12:24:57.058528Z",
     "start_time": "2024-06-22T12:24:56.723403Z"
    },
    "collapsed": false
   },
   "outputs": [
    {
     "name": "stdout",
     "output_type": "stream",
     "text": [
      "30.79126822620271\n"
     ]
    },
    {
     "data": {
      "image/png": "[encoded data removed]",
      "text/plain": [
       "<Figure size 640x480 with 1 Axes>"
      ]
     },
     "metadata": {},
     "output_type": "display_data"
    }
   ],
   "source": [
    "plt.imshow(data_with_fake_planet[0])\n",
    "print(np.max(data_with_fake_planet[0]))"
   ]
  },
  {
   "cell_type": "markdown",
   "id": "a32389a4333088c",
   "metadata": {
    "collapsed": false
   },
   "source": [
    "# The shift code of pynpoint"
   ]
  },
  {
   "cell_type": "code",
   "execution_count": 306,
   "id": "9ee40256ff4c3abd",
   "metadata": {
    "ExecuteTime": {
     "end_time": "2024-06-22T12:01:09.964749Z",
     "start_time": "2024-06-22T12:01:09.921684Z"
    },
    "collapsed": false
   },
   "outputs": [],
   "source": [
    "nd_factor = 1.0\n",
    "sep = fake_planet_config[\"separation\"]\n",
    "ang = np.radians(fake_planet_config[\"planet_position\"][-1] + 90 - np.rad2deg(angles))\n",
    "flux_ratio = fake_planet_config[\"flux_ratio\"]\n",
    "\n",
    "integration_time_factor = dit_science / dit_psf_template * nd_factor\n",
    "\n",
    "psf = padded_psf * flux_ratio * integration_time_factor"
   ]
  },
  {
   "cell_type": "code",
   "execution_count": 307,
   "id": "dd659320877b51b3",
   "metadata": {
    "ExecuteTime": {
     "end_time": "2024-06-22T12:01:10.145652Z",
     "start_time": "2024-06-22T12:01:10.127070Z"
    },
    "collapsed": false
   },
   "outputs": [],
   "source": [
    "from pynpoint.util.image import shift_image"
   ]
  },
  {
   "cell_type": "code",
   "execution_count": 332,
   "id": "4286f4b51a9c955f",
   "metadata": {
    "ExecuteTime": {
     "end_time": "2024-06-22T12:02:07.867927Z",
     "start_time": "2024-06-22T12:02:07.824374Z"
    },
    "collapsed": false
   },
   "outputs": [],
   "source": [
    "x_shift = sep*np.cos(ang)\n",
    "y_shift = sep*np.sin(ang)\n",
    "idx = 0\n",
    "\n",
    "first_shifted_image = shift_image(\n",
    "    psf,\n",
    "    (float(y_shift[idx]), float(x_shift[idx])),\n",
    "    \"bilinear\",#\"spline\",\n",
    "    mode='reflect')"
   ]
  },
  {
   "cell_type": "code",
   "execution_count": 333,
   "id": "202bf462cbbaae6d",
   "metadata": {
    "ExecuteTime": {
     "end_time": "2024-06-22T12:02:08.440365Z",
     "start_time": "2024-06-22T12:02:08.356830Z"
    },
    "collapsed": false
   },
   "outputs": [
    {
     "data": {
      "text/plain": [
       "<matplotlib.image.AxesImage at 0x153041eea6e0>"
      ]
     },
     "execution_count": 333,
     "metadata": {},
     "output_type": "execute_result"
    },
    {
     "data": {
      "image/png": "[encoded data removed]",
      "text/plain": [
       "<Figure size 640x480 with 1 Axes>"
      ]
     },
     "metadata": {},
     "output_type": "display_data"
    }
   ],
   "source": [
    "plt.imshow(first_shifted_image)"
   ]
  },
  {
   "cell_type": "markdown",
   "id": "a0ffbd9826138cc5",
   "metadata": {
    "collapsed": false
   },
   "source": [
    "# the same in pytorch"
   ]
  },
  {
   "cell_type": "code",
   "execution_count": 334,
   "id": "a2cdc52d00f7a198",
   "metadata": {
    "ExecuteTime": {
     "end_time": "2024-06-22T12:02:09.620093Z",
     "start_time": "2024-06-22T12:02:09.600541Z"
    },
    "collapsed": false
   },
   "outputs": [],
   "source": [
    "import torch.nn.functional as F"
   ]
  },
  {
   "cell_type": "code",
   "execution_count": 414,
   "id": "6cff681dac42cfab",
   "metadata": {
    "ExecuteTime": {
     "end_time": "2024-06-22T12:16:22.813436Z",
     "start_time": "2024-06-22T12:16:22.790580Z"
    },
    "collapsed": false
   },
   "outputs": [],
   "source": [
    "ang = np.radians(fake_planet_config[\"planet_position\"][-1] + 90 - np.rad2deg(angles))\n",
    "ang_torch = torch.tensor(ang, dtype=torch.float32)\n",
    "\n",
    "psf_torch = torch.tensor(padded_psf * flux_ratio * integration_time_factor,\n",
    "                         dtype=torch.float32)"
   ]
  },
  {
   "cell_type": "code",
   "execution_count": 464,
   "id": "3185d4f3e1dc96bb",
   "metadata": {
    "ExecuteTime": {
     "end_time": "2024-06-22T12:18:20.564628Z",
     "start_time": "2024-06-22T12:18:20.553846Z"
    },
    "collapsed": false
   },
   "outputs": [],
   "source": [
    "sep = fake_planet_config[\"separation\"]\n",
    "x_shift = sep * torch.cos(ang_torch)[0]\n",
    "y_shift = sep * torch.sin(ang_torch)[0]\n",
    "\n",
    "theta = torch.zeros(1, 2, 3)\n",
    "theta[:, 0, 0] = 1\n",
    "theta[:, 0, 1] = -0\n",
    "theta[:, 1, 0] = 0\n",
    "theta[:, 1, 1] = 1\n",
    "theta[:, 0, 2] = - x_shift / (psf_torch.shape[0] - 1) * 2\n",
    "theta[:, 1, 2] = - y_shift / (psf_torch.shape[1] - 1) * 2\n",
    "\n",
    "grid = F.affine_grid(\n",
    "    theta,\n",
    "    torch.Size([1, 1, int(psf_torch.shape[0]), int(psf_torch.shape[1])]),\n",
    "    align_corners=True)"
   ]
  },
  {
   "cell_type": "code",
   "execution_count": 465,
   "id": "5b2a75d9b98133f9",
   "metadata": {
    "ExecuteTime": {
     "end_time": "2024-06-22T12:18:20.748762Z",
     "start_time": "2024-06-22T12:18:20.703216Z"
    },
    "collapsed": false
   },
   "outputs": [],
   "source": [
    "shifted_data = F.grid_sample(\n",
    "    psf_torch.unsqueeze(0).unsqueeze(0),\n",
    "    grid,\n",
    "    mode=\"bilinear\",\n",
    "    align_corners=True).squeeze()"
   ]
  },
  {
   "cell_type": "code",
   "execution_count": 467,
   "id": "240108a3fea23ecb",
   "metadata": {
    "ExecuteTime": {
     "end_time": "2024-06-22T12:18:21.160221Z",
     "start_time": "2024-06-22T12:18:21.044343Z"
    },
    "collapsed": false
   },
   "outputs": [
    {
     "data": {
      "text/plain": [
       "<matplotlib.image.AxesImage at 0x15304177f160>"
      ]
     },
     "execution_count": 467,
     "metadata": {},
     "output_type": "execute_result"
    },
    {
     "data": {
      "image/png": "[encoded data removed]",
      "text/plain": [
       "<Figure size 640x480 with 1 Axes>"
      ]
     },
     "metadata": {},
     "output_type": "display_data"
    }
   ],
   "source": [
    "plt.imshow(first_shifted_image - shifted_data.numpy())"
   ]
  },
  {
   "cell_type": "code",
   "execution_count": 468,
   "id": "fce46e54b3adbfe7",
   "metadata": {
    "ExecuteTime": {
     "end_time": "2024-06-22T12:18:21.613162Z",
     "start_time": "2024-06-22T12:18:21.592115Z"
    },
    "collapsed": false
   },
   "outputs": [
    {
     "data": {
      "text/plain": [
       "2.609802335484801e-05"
      ]
     },
     "execution_count": 468,
     "metadata": {},
     "output_type": "execute_result"
    }
   ],
   "source": [
    "np.max(first_shifted_image - shifted_data.numpy())"
   ]
  },
  {
   "cell_type": "code",
   "execution_count": 469,
   "id": "30192f6087688245",
   "metadata": {
    "ExecuteTime": {
     "end_time": "2024-06-22T12:18:21.919808Z",
     "start_time": "2024-06-22T12:18:21.908097Z"
    },
    "collapsed": false
   },
   "outputs": [
    {
     "data": {
      "text/plain": [
       "28.90760380681703"
      ]
     },
     "execution_count": 469,
     "metadata": {},
     "output_type": "execute_result"
    }
   ],
   "source": [
    "np.max(first_shifted_image)"
   ]
  },
  {
   "cell_type": "code",
   "execution_count": 470,
   "id": "81212945849220e5",
   "metadata": {
    "ExecuteTime": {
     "end_time": "2024-06-22T12:18:22.287945Z",
     "start_time": "2024-06-22T12:18:22.269510Z"
    },
    "collapsed": false
   },
   "outputs": [
    {
     "data": {
      "text/plain": [
       "28.907606"
      ]
     },
     "execution_count": 470,
     "metadata": {},
     "output_type": "execute_result"
    }
   ],
   "source": [
    "np.max(shifted_data.numpy())"
   ]
  },
  {
   "cell_type": "markdown",
   "id": "55644c137bf1e07c",
   "metadata": {
    "collapsed": false
   },
   "source": [
    "# Implement the same for the whole sequence"
   ]
  },
  {
   "cell_type": "code",
   "execution_count": 521,
   "id": "6dd4e7c52e79c22b",
   "metadata": {
    "ExecuteTime": {
     "end_time": "2024-06-22T12:36:44.723361Z",
     "start_time": "2024-06-22T12:36:44.653187Z"
    },
    "collapsed": false
   },
   "outputs": [],
   "source": [
    "device = \"cpu\"\n",
    "\n",
    "pos_ang = fake_planet_config[\"planet_position\"][-1]\n",
    "sep = fake_planet_config[\"separation\"]\n",
    "\n",
    "ang = np.radians(pos_ang + 90 - np.rad2deg(angles))\n",
    "ang_torch = torch.tensor(ang, dtype=torch.float32).to(device)\n",
    "\n",
    "psf_torch = torch.tensor(\n",
    "    padded_psf * flux_ratio * integration_time_factor,\n",
    "    dtype=torch.float32).to(device)\n",
    "\n",
    "x_shift = sep * torch.cos(ang_torch)\n",
    "y_shift = sep * torch.sin(ang_torch)"
   ]
  },
  {
   "cell_type": "code",
   "execution_count": 522,
   "id": "63b28f09e695b33c",
   "metadata": {
    "ExecuteTime": {
     "end_time": "2024-06-22T12:38:17.156897Z",
     "start_time": "2024-06-22T12:36:45.572732Z"
    },
    "collapsed": false
   },
   "outputs": [
    {
     "data": {
      "text/plain": [
       "tensor([[[0., 0., 0.,  ..., 0., 0., 0.],\n",
       "         [0., 0., 0.,  ..., 0., 0., 0.],\n",
       "         [0., 0., 0.,  ..., 0., 0., 0.],\n",
       "         ...,\n",
       "         [0., 0., 0.,  ..., 0., 0., 0.],\n",
       "         [0., 0., 0.,  ..., 0., 0., 0.],\n",
       "         [0., 0., 0.,  ..., 0., 0., 0.]],\n",
       "\n",
       "        [[0., 0., 0.,  ..., 0., 0., 0.],\n",
       "         [0., 0., 0.,  ..., 0., 0., 0.],\n",
       "         [0., 0., 0.,  ..., 0., 0., 0.],\n",
       "         ...,\n",
       "         [0., 0., 0.,  ..., 0., 0., 0.],\n",
       "         [0., 0., 0.,  ..., 0., 0., 0.],\n",
       "         [0., 0., 0.,  ..., 0., 0., 0.]],\n",
       "\n",
       "        [[0., 0., 0.,  ..., 0., 0., 0.],\n",
       "         [0., 0., 0.,  ..., 0., 0., 0.],\n",
       "         [0., 0., 0.,  ..., 0., 0., 0.],\n",
       "         ...,\n",
       "         [0., 0., 0.,  ..., 0., 0., 0.],\n",
       "         [0., 0., 0.,  ..., 0., 0., 0.],\n",
       "         [0., 0., 0.,  ..., 0., 0., 0.]],\n",
       "\n",
       "        ...,\n",
       "\n",
       "        [[0., 0., 0.,  ..., 0., 0., 0.],\n",
       "         [0., 0., 0.,  ..., 0., 0., 0.],\n",
       "         [0., 0., 0.,  ..., 0., 0., 0.],\n",
       "         ...,\n",
       "         [0., 0., 0.,  ..., 0., 0., 0.],\n",
       "         [0., 0., 0.,  ..., 0., 0., 0.],\n",
       "         [0., 0., 0.,  ..., 0., 0., 0.]],\n",
       "\n",
       "        [[0., 0., 0.,  ..., 0., 0., 0.],\n",
       "         [0., 0., 0.,  ..., 0., 0., 0.],\n",
       "         [0., 0., 0.,  ..., 0., 0., 0.],\n",
       "         ...,\n",
       "         [0., 0., 0.,  ..., 0., 0., 0.],\n",
       "         [0., 0., 0.,  ..., 0., 0., 0.],\n",
       "         [0., 0., 0.,  ..., 0., 0., 0.]],\n",
       "\n",
       "        [[0., 0., 0.,  ..., 0., 0., 0.],\n",
       "         [0., 0., 0.,  ..., 0., 0., 0.],\n",
       "         [0., 0., 0.,  ..., 0., 0., 0.],\n",
       "         ...,\n",
       "         [0., 0., 0.,  ..., 0., 0., 0.],\n",
       "         [0., 0., 0.,  ..., 0., 0., 0.],\n",
       "         [0., 0., 0.,  ..., 0., 0., 0.]]])"
      ]
     },
     "execution_count": 522,
     "metadata": {},
     "output_type": "execute_result"
    }
   ],
   "source": [
    "for i in range(200):\n",
    "    theta = torch.zeros(ang_torch.shape[0], 2, 3, device=device)\n",
    "    theta[:, 0, 0] = 1\n",
    "    theta[:, 1, 1] = 1\n",
    "    theta[:, 0, 2] = - x_shift / (psf_torch.shape[0] - 1) * 2\n",
    "    theta[:, 1, 2] = - y_shift / (psf_torch.shape[1] - 1) * 2\n",
    "    \n",
    "    grid = F.affine_grid(\n",
    "        theta,\n",
    "        torch.Size([ang_torch.shape[0], 1, int(psf_torch.shape[0]), int(psf_torch.shape[1])]),\n",
    "        align_corners=True)\n",
    "    \n",
    "    shifted_data = F.grid_sample(\n",
    "        psf_torch.unsqueeze(0).unsqueeze(0).repeat(ang_torch.shape[0], 1, 1, 1),\n",
    "        grid,\n",
    "        mode=\"bicubic\",\n",
    "        align_corners=True).squeeze()\n",
    "    \n",
    "shifted_data.cpu()"
   ]
  },
  {
   "cell_type": "code",
   "execution_count": 523,
   "id": "b44acbbea013600b",
   "metadata": {
    "ExecuteTime": {
     "end_time": "2024-06-22T13:44:48.794515Z",
     "start_time": "2024-06-22T13:44:48.746014Z"
    },
    "collapsed": false
   },
   "outputs": [
    {
     "data": {
      "text/plain": [
       "device(type='cpu')"
      ]
     },
     "execution_count": 523,
     "metadata": {},
     "output_type": "execute_result"
    }
   ],
   "source": [
    "shifted_data.device"
   ]
  },
  {
   "cell_type": "code",
   "id": "b9fa2f9545be3524",
   "metadata": {
    "collapsed": false
   },
   "outputs": [],
   "source": [
    "# create a torch Size object\n",
    "output_size = torch.Size([ang_torch.shape[0], 1, int(psf_torch.shape[0]), int(psf_torch.shape[1])])"
   ]
  },
  {
   "cell_type": "code",
   "execution_count": 502,
   "id": "837e5aada9e98a68",
   "metadata": {
    "ExecuteTime": {
     "end_time": "2024-06-22T12:29:42.751830Z",
     "start_time": "2024-06-22T12:29:42.514155Z"
    },
    "collapsed": false
   },
   "outputs": [],
   "source": [
    "shifted_data = F.grid_sample(\n",
    "    psf_torch.unsqueeze(0).unsqueeze(0).repeat(ang_torch.shape[0], 1, 1, 1).to(0),\n",
    "    grid,\n",
    "    mode=\"bicubic\",\n",
    "    align_corners=True).squeeze().cpu()"
   ]
  },
  {
   "cell_type": "code",
   "execution_count": 485,
   "id": "6f918e98b021d0fd",
   "metadata": {
    "ExecuteTime": {
     "end_time": "2024-06-22T12:25:50.385730Z",
     "start_time": "2024-06-22T12:25:50.265641Z"
    },
    "collapsed": false
   },
   "outputs": [
    {
     "data": {
      "text/plain": [
       "<matplotlib.image.AxesImage at 0x1530414520b0>"
      ]
     },
     "execution_count": 485,
     "metadata": {},
     "output_type": "execute_result"
    },
    {
     "data": {
      "image/png": "[encoded data removed]",
      "text/plain": [
       "<Figure size 640x480 with 1 Axes>"
      ]
     },
     "metadata": {},
     "output_type": "display_data"
    }
   ],
   "source": [
    "plt.imshow(shifted_data[-1].numpy() - fake_planet_sequence_pynpoint[-1])"
   ]
  },
  {
   "cell_type": "code",
   "id": "7ca85d1ca32c3d7",
   "metadata": {
    "collapsed": false
   },
   "outputs": [],
   "source": []
  }
 ],
 "metadata": {
  "kernelspec": {
   "display_name": "Python 3",
   "language": "python",
   "name": "python3"
  },
  "language_info": {
   "codemirror_mode": {
    "name": "ipython",
    "version": 2
   },
   "file_extension": ".py",
   "mimetype": "text/x-python",
   "name": "python",
   "nbconvert_exporter": "python",
   "pygments_lexer": "ipython2",
   "version": "2.7.6"
  }
 },
 "nbformat": 4,
 "nbformat_minor": 5
}
