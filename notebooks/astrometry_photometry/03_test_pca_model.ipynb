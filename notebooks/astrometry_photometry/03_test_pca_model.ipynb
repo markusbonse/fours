{
 "cells": [
  {
   "cell_type": "code",
   "execution_count": 1,
   "id": "initial_id",
   "metadata": {
    "ExecuteTime": {
     "end_time": "2024-06-22T14:21:39.041016Z",
     "start_time": "2024-06-22T14:21:29.062732Z"
    },
    "collapsed": true
   },
   "outputs": [],
   "source": [
    "import json\n",
    "import numpy as np\n",
    "from pathlib import Path\n",
    "import matplotlib.pyplot as plt\n",
    "\n",
    "import torch\n",
    "\n",
    "# imports to load some data\n",
    "from fours.utils.data_handling import load_adi_data\n",
    "\n",
    "from applefy.utils.fake_planets import add_fake_planets\n",
    "from applefy.utils.photometry import flux_ratio2mag, mag2flux_ratio\n",
    "\n",
    "from pynpoint.util.analysis import fake_planet"
   ]
  },
  {
   "cell_type": "code",
   "execution_count": 27,
   "id": "dfeeb994d16fca53",
   "metadata": {
    "ExecuteTime": {
     "end_time": "2024-06-22T14:29:23.608738Z",
     "start_time": "2024-06-22T14:29:23.555411Z"
    },
    "collapsed": false
   },
   "outputs": [],
   "source": [
    "import numpy as np\n",
    "\n",
    "import torch\n",
    "import torch.nn as nn\n",
    "import torch.nn.functional as F\n",
    "\n",
    "from fours.models.rotation import FieldRotationModel\n",
    "\n",
    "\n",
    "class PCANoiseModel(nn.Module):\n",
    "\n",
    "    def __init__(\n",
    "            self,\n",
    "            angles: np.ndarray,\n",
    "            image_shape: int,\n",
    "            pca_number: int,\n",
    "            approx_svd: int = -1\n",
    "    ):\n",
    "        super(PCANoiseModel, self).__init__()\n",
    "\n",
    "        # save the simple parameters\n",
    "        self.m_pca_number = pca_number\n",
    "        self.m_approx_svd = approx_svd\n",
    "        self.m_image_shape = image_shape\n",
    "\n",
    "        # create the rotation model\n",
    "        self.rotation_model = FieldRotationModel(\n",
    "            all_angles=angles,\n",
    "            input_size=self.m_image_shape,\n",
    "            subsample=1,\n",
    "            inverse=False,\n",
    "            register_grid=True)\n",
    "\n",
    "    def compute_basis(\n",
    "            self,\n",
    "            images):\n",
    "\n",
    "        if self.m_approx_svd == -1:\n",
    "            _, _, basis = torch.linalg.svd(images)\n",
    "            basis = basis.T\n",
    "        else:\n",
    "            _, _, basis = torch.svd_lowrank(\n",
    "                images, niter=1, q=self.m_approx_svd)\n",
    "\n",
    "        return basis\n",
    "\n",
    "    def forward(self, images):\n",
    "        # 1.) reshape images to fit for PCA\n",
    "        images = images.view(images.shape[0],\n",
    "                             images.shape[1] * images.shape[2])\n",
    "\n",
    "        # 2.) remove the mean as needed for PCA\n",
    "        images = images - images.mean(dim=0)\n",
    "\n",
    "        # 3.) compute PCA basis\n",
    "        basis = self.compute_basis(images)\n",
    "\n",
    "        # 4.) compute PCA residuals\n",
    "        pca_rep = torch.matmul(images, basis[:, :self.m_pca_number])\n",
    "        noise_estimate = torch.matmul(pca_rep, basis[:, :self.m_pca_number].T)\n",
    "        residual = images - noise_estimate\n",
    "        residual_sequence = residual.view(\n",
    "            images.shape[0],\n",
    "            self.m_image_shape,\n",
    "            self.m_image_shape)\n",
    "\n",
    "        # 5.) rotate the frames\n",
    "        rotated_frames = self.rotation_model(\n",
    "            residual_sequence.unsqueeze(1).float(),\n",
    "            parang_idx=torch.arange(len(residual_sequence))).squeeze(1)\n",
    "\n",
    "        # 6.) average along the time axis\n",
    "        return rotated_frames.mean(dim=0)\n"
   ]
  },
  {
   "cell_type": "markdown",
   "id": "1747f4258639b94b",
   "metadata": {
    "collapsed": false
   },
   "source": [
    "# Load the data"
   ]
  },
  {
   "cell_type": "code",
   "execution_count": 2,
   "id": "c7d6e4703b0d45eb",
   "metadata": {
    "ExecuteTime": {
     "end_time": "2024-06-22T14:21:39.049930Z",
     "start_time": "2024-06-22T14:21:39.043395Z"
    },
    "collapsed": false
   },
   "outputs": [],
   "source": [
    "dataset_file = Path(\"/fast/mbonse/s4/30_data/HD22049_303_199_C-0065_C_.hdf5\")\n",
    "experiment_root_dir = Path(\"/fast/mbonse/s4/70_results/09_new_rotation_loss/x2_different_residual_creations/\")\n",
    "exp_id = str(\"0123a\")\n",
    "use_rotation_loss = True\n",
    "lambda_reg = float(850)"
   ]
  },
  {
   "cell_type": "code",
   "execution_count": 3,
   "id": "bd70bc6d9451bd67",
   "metadata": {
    "ExecuteTime": {
     "end_time": "2024-06-22T14:21:39.911222Z",
     "start_time": "2024-06-22T14:21:39.046196Z"
    },
    "collapsed": false
   },
   "outputs": [],
   "source": [
    "science_data, angles, raw_psf_template_data = \\\n",
    "    load_adi_data(\n",
    "        hdf5_dataset=str(dataset_file),\n",
    "        data_tag=\"object_stacked_05\",\n",
    "        psf_template_tag=\"psf_template\",\n",
    "        para_tag=\"header_object_stacked_05/PARANG\")\n",
    "\n",
    "psf_template = np.median(raw_psf_template_data, axis=0)\n",
    "\n",
    "# other parameters\n",
    "dit_psf_template = 0.0042560\n",
    "dit_science = 0.08\n",
    "fwhm = 3.6\n",
    "pixel_scale = 0.02718\n",
    "\n",
    "# we cut the image to 91 x 91 pixel to be slightly larger than 1.2 arcsec\n",
    "cut_off = int((science_data.shape[1] - 91) / 2)\n",
    "science_data = science_data[:, cut_off:-cut_off, cut_off:-cut_off]"
   ]
  },
  {
   "cell_type": "code",
   "execution_count": 4,
   "id": "1345457bd7787ef4",
   "metadata": {
    "ExecuteTime": {
     "end_time": "2024-06-22T14:21:42.464944Z",
     "start_time": "2024-06-22T14:21:42.449562Z"
    },
    "collapsed": false
   },
   "outputs": [],
   "source": [
    "dataset_id = \"0115b\"\n",
    "\n",
    "# add the fake planet\n",
    "fake_planet_config_file = \"/fast/mbonse/s4/70_results/10_contrast_grids/HD22049_303_199_C-0065_C_/configs_cgrid/exp_ID_\" + exp_id + \".json\"\n",
    "with open(fake_planet_config_file) as json_file:\n",
    "    fake_planet_config = json.load(json_file)"
   ]
  },
  {
   "cell_type": "code",
   "execution_count": 5,
   "id": "dd7d09207ad2116b",
   "metadata": {
    "ExecuteTime": {
     "end_time": "2024-06-22T14:21:54.530603Z",
     "start_time": "2024-06-22T14:21:54.511093Z"
    },
    "collapsed": false
   },
   "outputs": [
    {
     "data": {
      "text/plain": [
       "{'type': 'TP estimation',\n",
       " 'flux_ratio': 0.00025118864315095795,\n",
       " 'separation': 9.0,\n",
       " 'planet_position': [54.0, 45.0, 9.0, 0.0],\n",
       " 'exp_id': '0123a'}"
      ]
     },
     "execution_count": 5,
     "metadata": {},
     "output_type": "execute_result"
    }
   ],
   "source": [
    "fake_planet_config"
   ]
  },
  {
   "cell_type": "code",
   "execution_count": 6,
   "id": "1d79c928522ee7a7",
   "metadata": {
    "ExecuteTime": {
     "end_time": "2024-06-22T14:22:57.925462Z",
     "start_time": "2024-06-22T14:22:57.911067Z"
    },
    "collapsed": false
   },
   "outputs": [],
   "source": [
    "fake_planet_config[\"flux_ratio\"] = mag2flux_ratio(9.5)\n",
    "fake_planet_config[\"separation\"] = 15\n",
    "fake_planet_config[\"planet_position\"] = [0., 0., 15., 0.]"
   ]
  },
  {
   "cell_type": "code",
   "execution_count": 7,
   "id": "f41bc1964fabeab8",
   "metadata": {
    "ExecuteTime": {
     "end_time": "2024-06-22T14:23:17.975001Z",
     "start_time": "2024-06-22T14:23:07.512224Z"
    },
    "collapsed": false
   },
   "outputs": [],
   "source": [
    "data_with_fake_planet = add_fake_planets(\n",
    "    input_stack=science_data,\n",
    "    psf_template=psf_template,\n",
    "    parang=angles - np.pi/2, # the pi/2 is to correct the parang to the north\n",
    "    dit_psf_template=dit_psf_template,\n",
    "    dit_science=dit_science,\n",
    "    experiment_config=fake_planet_config,\n",
    "    scaling_factor=1.0)"
   ]
  },
  {
   "cell_type": "markdown",
   "id": "d2ca39080c33c4c2",
   "metadata": {
    "collapsed": false
   },
   "source": [
    "# Run the PCA"
   ]
  },
  {
   "cell_type": "code",
   "execution_count": 38,
   "id": "b8a8bbc02eac80fc",
   "metadata": {
    "ExecuteTime": {
     "end_time": "2024-06-22T14:30:08.952431Z",
     "start_time": "2024-06-22T14:30:08.777426Z"
    },
    "collapsed": false
   },
   "outputs": [],
   "source": [
    "pca_model = PCANoiseModel(\n",
    "    angles=angles,\n",
    "    image_shape=science_data.shape[1],\n",
    "    pca_number=50,\n",
    "    approx_svd=5000)"
   ]
  },
  {
   "cell_type": "code",
   "execution_count": 39,
   "id": "3256803bfb465374",
   "metadata": {
    "ExecuteTime": {
     "end_time": "2024-06-22T14:30:09.028604Z",
     "start_time": "2024-06-22T14:30:09.027426Z"
    },
    "collapsed": false
   },
   "outputs": [],
   "source": [
    "science_data_torch = torch.tensor(data_with_fake_planet, dtype=torch.float32)"
   ]
  },
  {
   "cell_type": "code",
   "execution_count": 40,
   "id": "8fe55651718d7321",
   "metadata": {
    "ExecuteTime": {
     "end_time": "2024-06-22T14:30:09.263093Z",
     "start_time": "2024-06-22T14:30:09.175683Z"
    },
    "collapsed": false
   },
   "outputs": [],
   "source": [
    "# move to GPU\n",
    "if torch.cuda.is_available():\n",
    "    pca_model = pca_model.cuda()\n",
    "    science_data_torch = science_data_torch.cuda()"
   ]
  },
  {
   "cell_type": "code",
   "execution_count": 41,
   "id": "2dde2e2f8ed903f7",
   "metadata": {
    "ExecuteTime": {
     "end_time": "2024-06-22T14:30:11.786260Z",
     "start_time": "2024-06-22T14:30:09.344771Z"
    },
    "collapsed": false
   },
   "outputs": [],
   "source": [
    "residual_frame = pca_model(science_data_torch)"
   ]
  },
  {
   "cell_type": "code",
   "execution_count": 42,
   "id": "1f3fe39dbd5065f3",
   "metadata": {
    "ExecuteTime": {
     "end_time": "2024-06-22T14:30:11.880138Z",
     "start_time": "2024-06-22T14:30:11.781959Z"
    },
    "collapsed": false
   },
   "outputs": [
    {
     "data": {
      "text/plain": [
       "<matplotlib.image.AxesImage at 0x149cb2e2fe80>"
      ]
     },
     "execution_count": 42,
     "metadata": {},
     "output_type": "execute_result"
    },
    {
     "data": {
      "image/png": "[encoded data removed]",
      "text/plain": [
       "<Figure size 640x480 with 1 Axes>"
      ]
     },
     "metadata": {},
     "output_type": "display_data"
    }
   ],
   "source": [
    "plt.imshow(residual_frame.cpu().detach().numpy())"
   ]
  },
  {
   "cell_type": "code",
   "id": "4ceca61df36b36a1",
   "metadata": {
    "collapsed": false
   },
   "outputs": [],
   "source": []
  }
 ],
 "metadata": {
  "kernelspec": {
   "display_name": "Python 3",
   "language": "python",
   "name": "python3"
  },
  "language_info": {
   "codemirror_mode": {
    "name": "ipython",
    "version": 2
   },
   "file_extension": ".py",
   "mimetype": "text/x-python",
   "name": "python",
   "nbconvert_exporter": "python",
   "pygments_lexer": "ipython2",
   "version": "2.7.6"
  }
 },
 "nbformat": 4,
 "nbformat_minor": 5
}
