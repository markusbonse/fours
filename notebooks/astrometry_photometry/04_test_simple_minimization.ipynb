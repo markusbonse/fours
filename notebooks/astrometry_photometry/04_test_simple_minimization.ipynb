{
 "cells": [
  {
   "cell_type": "code",
   "execution_count": 2,
   "id": "initial_id",
   "metadata": {
    "ExecuteTime": {
     "end_time": "2024-09-14T09:39:52.752579Z",
     "start_time": "2024-09-14T09:39:52.747382Z"
    }
   },
   "outputs": [],
   "source": [
    "import json\n",
    "import numpy as np\n",
    "from pathlib import Path\n",
    "import matplotlib.pyplot as plt\n",
    "\n",
    "import torch\n",
    "\n",
    "# imports to load some data\n",
    "from fours.utils.data_handling import load_adi_data\n",
    "\n",
    "from applefy.utils.fake_planets import add_fake_planets\n",
    "from applefy.utils.photometry import flux_ratio2mag, mag2flux_ratio\n",
    "\n",
    "from pynpoint.util.analysis import fake_planet"
   ]
  },
  {
   "cell_type": "markdown",
   "id": "c9bc27aacb8a0aa2",
   "metadata": {},
   "source": [
    "# Load the data"
   ]
  },
  {
   "cell_type": "code",
   "execution_count": 5,
   "id": "a9ee27f7967b3ec1",
   "metadata": {
    "ExecuteTime": {
     "end_time": "2024-09-14T09:40:37.286395Z",
     "start_time": "2024-09-14T09:40:37.282049Z"
    }
   },
   "outputs": [],
   "source": [
    "dataset_file = Path(\"/fast/mbonse/s4/30_data/s4_datasets/HD22049_303_199_C-0065_C_.hdf5\")\n",
    "experiment_root_dir = Path(\"/fast/mbonse/s4/70_results/01_position_flux/implementation_tests/\")\n",
    "exp_id = str(\"0123a\")\n",
    "use_rotation_loss = True\n",
    "lambda_reg = float(850)"
   ]
  },
  {
   "cell_type": "code",
   "execution_count": 6,
   "id": "2a1cdcacffc12756",
   "metadata": {
    "ExecuteTime": {
     "end_time": "2024-09-14T09:40:39.896592Z",
     "start_time": "2024-09-14T09:40:38.041945Z"
    }
   },
   "outputs": [],
   "source": [
    "science_data, angles, raw_psf_template_data = \\\n",
    "    load_adi_data(\n",
    "        hdf5_dataset=str(dataset_file),\n",
    "        data_tag=\"object_stacked_05\",\n",
    "        psf_template_tag=\"psf_template\",\n",
    "        para_tag=\"header_object_stacked_05/PARANG\")\n",
    "\n",
    "psf_template = np.median(raw_psf_template_data, axis=0)\n",
    "\n",
    "# other parameters\n",
    "dit_psf_template = 0.0042560\n",
    "dit_science = 0.08\n",
    "fwhm = 3.6\n",
    "pixel_scale = 0.02718\n",
    "\n",
    "# we cut the image to 91 x 91 pixel to be slightly larger than 1.2 arcsec\n",
    "cut_off = int((science_data.shape[1] - 91) / 2)\n",
    "science_data = science_data[:, cut_off:-cut_off, cut_off:-cut_off]"
   ]
  },
  {
   "cell_type": "code",
   "execution_count": 7,
   "id": "956d0c3087b0b666",
   "metadata": {
    "ExecuteTime": {
     "end_time": "2024-09-14T09:41:34.151663Z",
     "start_time": "2024-09-14T09:41:34.137724Z"
    }
   },
   "outputs": [],
   "source": [
    "dataset_id = \"0115b\"\n",
    "\n",
    "# add the fake planet\n",
    "fake_planet_config_file = \"/fast/mbonse/s4/70_results/x1_fake_planet_experiments/HD22049_303_199_C-0065_C_/configs_cgrid/exp_ID_\" + exp_id + \".json\"\n",
    "with open(fake_planet_config_file) as json_file:\n",
    "    fake_planet_config = json.load(json_file)"
   ]
  },
  {
   "cell_type": "code",
   "execution_count": 20,
   "id": "f2cdb2625986c6ad",
   "metadata": {
    "ExecuteTime": {
     "end_time": "2024-09-14T09:45:14.401452Z",
     "start_time": "2024-09-14T09:45:14.396917Z"
    }
   },
   "outputs": [],
   "source": [
    "fake_planet_config[\"flux_ratio\"] = mag2flux_ratio(12.)\n",
    "fake_planet_config[\"separation\"] = 30\n",
    "fake_planet_config[\"planet_position\"] = [0., 0., 30, 20.]"
   ]
  },
  {
   "cell_type": "code",
   "execution_count": 21,
   "id": "eef00388545ab1e9",
   "metadata": {
    "ExecuteTime": {
     "end_time": "2024-09-14T09:45:23.696439Z",
     "start_time": "2024-09-14T09:45:14.873611Z"
    }
   },
   "outputs": [],
   "source": [
    "data_with_fake_planet = add_fake_planets(\n",
    "    input_stack=science_data,\n",
    "    psf_template=psf_template,\n",
    "    parang=angles - np.pi/2, # the pi/2 is to correct the parang to the north\n",
    "    dit_psf_template=dit_psf_template,\n",
    "    dit_science=dit_science,\n",
    "    experiment_config=fake_planet_config,\n",
    "    scaling_factor=1.0)"
   ]
  },
  {
   "cell_type": "markdown",
   "id": "8ff5baf7c4bc8d97",
   "metadata": {},
   "source": [
    "# Load the new code"
   ]
  },
  {
   "cell_type": "code",
   "execution_count": 22,
   "id": "25bc310beedb77cc",
   "metadata": {
    "ExecuteTime": {
     "end_time": "2024-09-14T09:45:23.701834Z",
     "start_time": "2024-09-14T09:45:23.698639Z"
    }
   },
   "outputs": [],
   "source": [
    "from fours.position_flux.pca import PCANoiseModel\n",
    "from fours.position_flux.negfc import NegFC"
   ]
  },
  {
   "cell_type": "code",
   "execution_count": 23,
   "id": "713c00ce",
   "metadata": {
    "ExecuteTime": {
     "end_time": "2024-09-14T09:45:23.712801Z",
     "start_time": "2024-09-14T09:45:23.702640Z"
    }
   },
   "outputs": [
    {
     "data": {
      "text/plain": [
       "[0.0, 0.0, 30, 20.0]"
      ]
     },
     "execution_count": 23,
     "metadata": {},
     "output_type": "execute_result"
    }
   ],
   "source": [
    "fake_planet_config[\"planet_position\"]"
   ]
  },
  {
   "cell_type": "code",
   "execution_count": 58,
   "id": "661a39671a25cfc7",
   "metadata": {
    "ExecuteTime": {
     "end_time": "2024-09-14T09:50:27.966143Z",
     "start_time": "2024-09-14T09:50:27.960672Z"
    }
   },
   "outputs": [],
   "source": [
    "# create the NegFC model\n",
    "negfc = NegFC(\n",
    "    psf_template=psf_template,\n",
    "    all_angles=angles,\n",
    "    input_size=science_data.shape[1],\n",
    "    init_separation=fake_planet_config[\"separation\"],\n",
    "    init_pos_angle=fake_planet_config[\"planet_position\"][-1],\n",
    "    init_magnitude=12.,\n",
    "    dit_science=dit_science,\n",
    "    dit_psf_template=dit_psf_template,\n",
    "    nd_factor=1.0,\n",
    "    interpolation=\"bicubic\",\n",
    ")"
   ]
  },
  {
   "cell_type": "code",
   "execution_count": 59,
   "id": "7b9a985c953574c2",
   "metadata": {
    "ExecuteTime": {
     "end_time": "2024-09-14T09:50:28.764793Z",
     "start_time": "2024-09-14T09:50:28.623402Z"
    }
   },
   "outputs": [],
   "source": [
    "pca_model = PCANoiseModel(\n",
    "    angles=angles,\n",
    "    image_shape=science_data.shape[1],\n",
    "    pca_number=200,\n",
    "    approx_svd=2000)"
   ]
  },
  {
   "cell_type": "code",
   "execution_count": 60,
   "id": "6c7f4820c7074920",
   "metadata": {
    "ExecuteTime": {
     "end_time": "2024-09-14T09:50:29.584181Z",
     "start_time": "2024-09-14T09:50:29.554129Z"
    }
   },
   "outputs": [],
   "source": [
    "science_data_torch_with_planet = torch.tensor(\n",
    "    data_with_fake_planet, dtype=torch.float32)\n",
    "science_data_torch = torch.tensor(\n",
    "    science_data, dtype=torch.float32)"
   ]
  },
  {
   "cell_type": "code",
   "execution_count": 61,
   "id": "163e1a34e7d7a76d",
   "metadata": {
    "ExecuteTime": {
     "end_time": "2024-09-14T09:50:29.965207Z",
     "start_time": "2024-09-14T09:50:29.819090Z"
    }
   },
   "outputs": [],
   "source": [
    "# move everything to the GPU\n",
    "negfc = negfc.to(\"cuda\")\n",
    "pca_model = pca_model.to(\"cuda\")\n",
    "science_data_torch = science_data_torch.to(\"cuda\")\n",
    "science_data_torch_with_planet = science_data_torch_with_planet.to(\"cuda\")"
   ]
  },
  {
   "cell_type": "code",
   "execution_count": 62,
   "id": "da6704d48694eb9",
   "metadata": {
    "ExecuteTime": {
     "end_time": "2024-09-14T09:50:30.476264Z",
     "start_time": "2024-09-14T09:50:30.472797Z"
    }
   },
   "outputs": [],
   "source": [
    "after_negfc = negfc(science_data_torch_with_planet)"
   ]
  },
  {
   "cell_type": "code",
   "execution_count": 63,
   "id": "9d4bfa2fd5616d5c",
   "metadata": {
    "ExecuteTime": {
     "end_time": "2024-09-14T09:50:32.084716Z",
     "start_time": "2024-09-14T09:50:30.925026Z"
    }
   },
   "outputs": [],
   "source": [
    "pca_model.update_noise_model(science_data_torch_with_planet)\n",
    "after_pca_with_planet = pca_model(science_data_torch_with_planet)\n",
    "\n",
    "pca_model.update_noise_model(after_negfc)\n",
    "after_pca_neg_fc = pca_model(after_negfc)\n",
    "\n",
    "pca_model.update_noise_model(science_data_torch)\n",
    "after_pca_without_planet = pca_model(science_data_torch)"
   ]
  },
  {
   "cell_type": "code",
   "execution_count": 64,
   "id": "ac2678cf83c03239",
   "metadata": {
    "ExecuteTime": {
     "end_time": "2024-09-14T09:50:32.616923Z",
     "start_time": "2024-09-14T09:50:32.454645Z"
    }
   },
   "outputs": [
    {
     "data": {
      "image/png": "[encoded data removed]",
      "text/plain": [
       "<Figure size 1500x500 with 3 Axes>"
      ]
     },
     "metadata": {},
     "output_type": "display_data"
    }
   ],
   "source": [
    "fig, (ax1, ax2, ax3) = plt.subplots(1, 3, figsize=(15, 5))\n",
    "\n",
    "ax1.imshow(after_pca_with_planet.cpu().detach().numpy(), cmap=\"inferno\", vmin=-1., vmax=1.)\n",
    "ax1.set_title(\"PCA with planet\")\n",
    "ax1.axis(\"off\")\n",
    "\n",
    "ax2.imshow(after_pca_without_planet.cpu().detach().numpy(), cmap=\"inferno\", vmin=-1., vmax=1.)\n",
    "ax2.set_title(\"PCA without planet\")\n",
    "ax2.axis(\"off\")\n",
    "\n",
    "ax3.imshow(after_pca_neg_fc.cpu().detach().numpy(), \n",
    "           cmap=\"inferno\", vmin=-1., vmax=1.)\n",
    "ax3.set_title(\"PCA with planet after NegFC\")\n",
    "ax3.axis(\"off\")\n",
    "\n",
    "plt.tight_layout()"
   ]
  },
  {
   "cell_type": "code",
   "execution_count": 65,
   "id": "a3cc3f06a6630318",
   "metadata": {
    "ExecuteTime": {
     "end_time": "2024-09-14T09:50:34.616087Z",
     "start_time": "2024-09-14T09:50:34.612099Z"
    }
   },
   "outputs": [],
   "source": [
    "difference = after_pca_neg_fc.cpu().detach().numpy() - after_pca_without_planet.cpu().detach().numpy()"
   ]
  },
  {
   "cell_type": "code",
   "execution_count": 66,
   "id": "f2293a871761f7fa",
   "metadata": {
    "ExecuteTime": {
     "end_time": "2024-09-14T09:50:35.985422Z",
     "start_time": "2024-09-14T09:50:35.903399Z"
    }
   },
   "outputs": [
    {
     "data": {
      "text/plain": [
       "<matplotlib.image.AxesImage at 0x15313046c910>"
      ]
     },
     "execution_count": 66,
     "metadata": {},
     "output_type": "execute_result"
    },
    {
     "data": {
      "image/png": "[encoded data removed]",
      "text/plain": [
       "<Figure size 640x480 with 1 Axes>"
      ]
     },
     "metadata": {},
     "output_type": "display_data"
    }
   ],
   "source": [
    "plt.imshow(difference, cmap=\"inferno\", vmin=-1., vmax=1.)"
   ]
  },
  {
   "cell_type": "code",
   "execution_count": 67,
   "id": "798324a863a64160",
   "metadata": {
    "ExecuteTime": {
     "end_time": "2024-09-14T09:50:37.804858Z",
     "start_time": "2024-09-14T09:50:37.799441Z"
    }
   },
   "outputs": [
    {
     "data": {
      "text/plain": [
       "0.007395543"
      ]
     },
     "execution_count": 67,
     "metadata": {},
     "output_type": "execute_result"
    }
   ],
   "source": [
    "np.max(difference)"
   ]
  },
  {
   "cell_type": "markdown",
   "id": "1c3a586cad500934",
   "metadata": {
    "collapsed": false
   },
   "source": [
    "# Code for the loss function"
   ]
  },
  {
   "cell_type": "code",
   "execution_count": 255,
   "id": "5f4e0e23d959d07",
   "metadata": {
    "ExecuteTime": {
     "end_time": "2024-09-14T11:00:44.063037Z",
     "start_time": "2024-09-14T11:00:44.051740Z"
    },
    "collapsed": false
   },
   "outputs": [],
   "source": [
    "# code for the hessian\n",
    "import torch\n",
    "import torch.nn.functional as F\n",
    "\n",
    "def gaussian_kernel1d(sigma, order, radius):\n",
    "    \"\"\"Create a 1D Gaussian kernel of a given order and sigma.\"\"\"\n",
    "    x = torch.arange(-radius, radius + 1, dtype=torch.float32)\n",
    "    if order == 0:\n",
    "        kernel = torch.exp(-0.5 * (x / sigma) ** 2)\n",
    "    elif order == 1:\n",
    "        kernel = -x / sigma ** 2 * torch.exp(-0.5 * (x / sigma) ** 2)\n",
    "    elif order == 2:\n",
    "        kernel = (x ** 2 / sigma ** 4 - 1 / sigma ** 2) * torch.exp(-0.5 * (x / sigma) ** 2)\n",
    "    else:\n",
    "        raise ValueError('Order must be 0, 1, or 2')\n",
    "    kernel /= kernel.abs().sum()\n",
    "    return kernel\n",
    "\n",
    "def gaussian_kernel2d(sigma, order_x, order_y, radius):\n",
    "    \"\"\"Create a 2D Gaussian kernel by computing the outer product of two 1D Gaussian kernels.\"\"\"\n",
    "    kernel_x = gaussian_kernel1d(sigma, order_x, radius)\n",
    "    kernel_y = gaussian_kernel1d(sigma, order_y, radius)\n",
    "    kernel_2d = torch.outer(kernel_y, kernel_x)\n",
    "    return kernel_2d\n",
    "\n",
    "def hessian_matrix(\n",
    "        image, \n",
    "        Hxx_kernel, Hxy_kernel, Hyy_kernel):\n",
    "    \n",
    "    # Reshape kernels for convolution\n",
    "    Hxx_kernel = Hxx_kernel.view(1, 1, *Hxx_kernel.shape)\n",
    "    Hxy_kernel = Hxy_kernel.view(1, 1, *Hxy_kernel.shape)\n",
    "    Hyy_kernel = Hyy_kernel.view(1, 1, *Hyy_kernel.shape)\n",
    "    \n",
    "    # Add batch and channel dimensions to the image\n",
    "    image = image.unsqueeze(0).unsqueeze(0)\n",
    "    \n",
    "    # Convolve the image with the kernels\n",
    "    padding = (Hxx_kernel.shape[-1] - 1) // 2\n",
    "    Hxx = F.conv2d(image, Hxx_kernel, padding=padding)\n",
    "    Hxy = F.conv2d(image, Hxy_kernel, padding=padding)\n",
    "    Hyy = F.conv2d(image, Hyy_kernel, padding=padding)\n",
    "    \n",
    "    # Remove the batch and channel dimensions\n",
    "    Hxx = Hxx.squeeze(0).squeeze(0)\n",
    "    Hxy = Hxy.squeeze(0).squeeze(0)\n",
    "    Hyy = Hyy.squeeze(0).squeeze(0)\n",
    "    \n",
    "    return Hxx, Hxy, Hyy"
   ]
  },
  {
   "cell_type": "code",
   "execution_count": 274,
   "id": "e9ef02f794193e52",
   "metadata": {
    "ExecuteTime": {
     "end_time": "2024-09-14T11:02:53.920842Z",
     "start_time": "2024-09-14T11:02:53.909406Z"
    },
    "collapsed": false
   },
   "outputs": [],
   "source": [
    "# write a function which creates the mask\n",
    "def create_aperture_mask(\n",
    "        image_shape, \n",
    "        separation_pixel, \n",
    "        pos_angle_deg,\n",
    "        aperture_radius):\n",
    "    \n",
    "    # calculate the x, y position of the mask\n",
    "    image_center = np.array(image_shape) / 2\n",
    "    image_center -= 0.5\n",
    "    \n",
    "    # + 90 deg for the conventions in HCI\n",
    "    y_shift = separation_pixel * np.cos(np.deg2rad(pos_angle_deg + 90))\n",
    "    x_shift = separation_pixel * np.sin(np.deg2rad(pos_angle_deg + 90))\n",
    "    \n",
    "    y_pos = image_center[0] + y_shift\n",
    "    x_pos = image_center[1] + x_shift\n",
    "    \n",
    "    # create a round mask around the (x_pos, y_pos) position with radius = aperture_radius\n",
    "    y, x = np.ogrid[\n",
    "           -x_pos:image_shape[0] - x_pos, \n",
    "           -y_pos:image_shape[1] - y_pos]\n",
    "    \n",
    "    mask = x**2 + y**2 <= aperture_radius**2\n",
    "    \n",
    "    return mask\n",
    "\n",
    "\n",
    "# write a class for the loss function\n",
    "class NegFCLoss(torch.nn.Module):\n",
    "    \n",
    "    def __init__(\n",
    "            self, \n",
    "            residual_shape,\n",
    "            separation_pixel,\n",
    "            pos_angle_deg,\n",
    "            aperture_radius,\n",
    "            metric_function=\"mse\",\n",
    "            sigma_hessian=1.8\n",
    "    ):\n",
    "        super(NegFCLoss, self).__init__()\n",
    "        \n",
    "        # Create the mask and transform it to a tensor\n",
    "        self.loss_mask = create_aperture_mask(\n",
    "            image_shape=residual_shape, \n",
    "            separation_pixel=separation_pixel, \n",
    "            pos_angle_deg=pos_angle_deg,\n",
    "            aperture_radius=aperture_radius)\n",
    "        \n",
    "        # define the metric function\n",
    "        self.metric_function = metric_function\n",
    "        \n",
    "        # if the metric function is hessian create the kernels\n",
    "        if self.metric_function == \"hessian\":\n",
    "            radius = int(3 * sigma_hessian + 0.5)\n",
    "            Hxx_kernel = gaussian_kernel2d(sigma_hessian, 2, 0, radius)\n",
    "            Hxy_kernel = gaussian_kernel2d(sigma_hessian, 1, 1, radius)\n",
    "            Hyy_kernel = gaussian_kernel2d(sigma_hessian, 0, 2, radius)\n",
    "            \n",
    "            # register the kernels\n",
    "            self.register_buffer(\"Hxx_kernel\", Hxx_kernel)\n",
    "            self.register_buffer(\"Hxy_kernel\", Hxy_kernel)\n",
    "            self.register_buffer(\"Hyy_kernel\", Hyy_kernel)\n",
    "        \n",
    "    def forward(self, residual_image):\n",
    "        if self.metric_function == \"hessian\":\n",
    "            Hxx, Hxy, Hyy = hessian_matrix(\n",
    "                residual_image, \n",
    "                self.Hxx_kernel, \n",
    "                self.Hxy_kernel, \n",
    "                self.Hyy_kernel)\n",
    "            \n",
    "            # calculate the determinant of the hessian\n",
    "            hes_det = (Hxx*Hyy) - (Hxy*Hxy)\n",
    "            \n",
    "            # apply the mask\n",
    "            selected_pixel = hes_det[self.loss_mask]\n",
    "        \n",
    "        elif self.metric_function == \"mse\":\n",
    "            # apply the mask\n",
    "            selected_pixel = residual_image[self.loss_mask]\n",
    "        \n",
    "        else:\n",
    "            raise ValueError(\"The metric function is not implemented.\")\n",
    "        \n",
    "        # calculate the loss\n",
    "        loss = torch.sum(selected_pixel**2)\n",
    "        \n",
    "        return loss"
   ]
  },
  {
   "cell_type": "markdown",
   "id": "65b3650ac5206ca5",
   "metadata": {},
   "source": [
    "# Implement a simple minimization"
   ]
  },
  {
   "cell_type": "code",
   "execution_count": 345,
   "id": "3f0447210f4a1ee5",
   "metadata": {
    "ExecuteTime": {
     "end_time": "2024-09-14T11:19:50.906130Z",
     "start_time": "2024-09-14T11:19:50.709590Z"
    }
   },
   "outputs": [],
   "source": [
    "pca_model = PCANoiseModel(\n",
    "    angles=angles,\n",
    "    image_shape=science_data.shape[1],\n",
    "    pca_number=200,\n",
    "    approx_svd=5000)"
   ]
  },
  {
   "cell_type": "code",
   "execution_count": 346,
   "id": "ade6309bb3e9a67",
   "metadata": {
    "ExecuteTime": {
     "end_time": "2024-09-14T11:19:50.910669Z",
     "start_time": "2024-09-14T11:19:50.907201Z"
    }
   },
   "outputs": [],
   "source": [
    "# create the NegFC model\n",
    "negfc = NegFC(\n",
    "    psf_template=psf_template,\n",
    "    all_angles=angles,\n",
    "    input_size=science_data.shape[1],\n",
    "    init_separation=fake_planet_config[\"separation\"] + 2,\n",
    "    init_pos_angle=fake_planet_config[\"planet_position\"][-1] - 4,\n",
    "    init_magnitude=11.5,\n",
    "    dit_science=dit_science,\n",
    "    dit_psf_template=dit_psf_template,\n",
    "    nd_factor=1.0,\n",
    "    interpolation=\"bicubic\",)"
   ]
  },
  {
   "cell_type": "code",
   "execution_count": 347,
   "id": "934c4b6868da1cb",
   "metadata": {
    "ExecuteTime": {
     "end_time": "2024-09-14T11:19:54.916783Z",
     "start_time": "2024-09-14T11:19:54.911789Z"
    },
    "collapsed": false
   },
   "outputs": [],
   "source": [
    "# create the loss function\n",
    "negfc_loss = NegFCLoss(\n",
    "    residual_shape=science_data.shape[1:],\n",
    "    separation_pixel=fake_planet_config[\"separation\"],\n",
    "    pos_angle_deg=fake_planet_config[\"planet_position\"][-1],\n",
    "    aperture_radius=5,\n",
    "    metric_function=\"mse\")"
   ]
  },
  {
   "cell_type": "code",
   "execution_count": 348,
   "id": "f8f670f2b1e1dac",
   "metadata": {
    "ExecuteTime": {
     "end_time": "2024-09-14T11:19:55.283343Z",
     "start_time": "2024-09-14T11:19:55.196408Z"
    }
   },
   "outputs": [],
   "source": [
    "# move everything to the GPU\n",
    "science_data_torch_with_planet = science_data_torch_with_planet.to(0)\n",
    "negfc = negfc.to(0)\n",
    "pca_model = pca_model.to(0)\n",
    "negfc_loss = negfc_loss.to(0)"
   ]
  },
  {
   "cell_type": "code",
   "execution_count": 349,
   "id": "c486c7ead67043a3",
   "metadata": {
    "ExecuteTime": {
     "end_time": "2024-09-14T11:19:57.916388Z",
     "start_time": "2024-09-14T11:19:55.401186Z"
    }
   },
   "outputs": [
    {
     "data": {
      "text/plain": [
       "<matplotlib.image.AxesImage at 0x152ffe5220e0>"
      ]
     },
     "execution_count": 349,
     "metadata": {},
     "output_type": "execute_result"
    },
    {
     "data": {
      "image/png": "[encoded data removed]",
      "text/plain": [
       "<Figure size 640x480 with 1 Axes>"
      ]
     },
     "metadata": {},
     "output_type": "display_data"
    }
   ],
   "source": [
    "update_basis = True\n",
    "\n",
    "after_negfc = negfc(science_data_torch_with_planet)\n",
    "\n",
    "if update_basis:\n",
    "    pca_model.update_noise_model(after_negfc)\n",
    "\n",
    "after_pca_neg_fc = pca_model(after_negfc)\n",
    "plt.imshow(after_pca_neg_fc.cpu().detach().numpy(), cmap=\"inferno\")"
   ]
  },
  {
   "cell_type": "code",
   "execution_count": 350,
   "id": "91a0d3bfaf5c1565",
   "metadata": {
    "ExecuteTime": {
     "end_time": "2024-09-14T11:19:57.919946Z",
     "start_time": "2024-09-14T11:19:57.917657Z"
    }
   },
   "outputs": [],
   "source": [
    "from torch import optim\n",
    "from tqdm import tqdm"
   ]
  },
  {
   "cell_type": "code",
   "execution_count": 351,
   "id": "5541a10c701e0314",
   "metadata": {
    "ExecuteTime": {
     "end_time": "2024-09-14T11:19:57.933144Z",
     "start_time": "2024-09-14T11:19:57.920660Z"
    }
   },
   "outputs": [],
   "source": [
    "input_data = science_data_torch_with_planet\n",
    "\n",
    "# create the optimizer\n",
    "optimizer_kwargs = {\n",
    "    \"max_iter\": 20,\n",
    "    \"history_size\": 10}\n",
    "\n",
    "optimizer = optim.LBFGS(\n",
    "    negfc.parameters(),\n",
    "    **optimizer_kwargs)"
   ]
  },
  {
   "cell_type": "code",
   "execution_count": 352,
   "id": "1b80b98f5925a586",
   "metadata": {
    "ExecuteTime": {
     "end_time": "2024-09-14T11:22:31.369266Z",
     "start_time": "2024-09-14T11:19:57.935264Z"
    }
   },
   "outputs": [
    {
     "name": "stdout",
     "output_type": "stream",
     "text": [
      "32.0 16.0 11.5\n",
      "31.4299259185791 18.09294891357422 12.049007415771484\n",
      "30.78803825378418 19.713863372802734 12.155341148376465\n",
      "30.42124366760254 20.36056900024414 12.094807624816895\n",
      "30.243276596069336 20.585966110229492 12.03698444366455\n",
      "30.15336799621582 20.664390563964844 12.000595092773438\n",
      "30.10567283630371 20.69206428527832 11.979239463806152\n",
      "30.07958221435547 20.70146942138672 11.966926574707031\n",
      "30.065093994140625 20.704143524169922 11.959832191467285\n",
      "30.056926727294922 20.704750061035156 11.955801010131836\n",
      "30.05227279663086 20.704612731933594 11.95349407196045\n",
      "30.049686431884766 20.70427703857422 11.952170372009277\n",
      "30.048168182373047 20.70410919189453 11.951398849487305\n",
      "30.047332763671875 20.703899383544922 11.950961112976074\n",
      "30.046815872192383 20.703907012939453 11.95073127746582\n",
      "30.046499252319336 20.703908920288086 11.950581550598145\n",
      "30.046369552612305 20.703784942626953 11.950499534606934\n",
      "30.046239852905273 20.70370101928711 11.950416564941406\n",
      "30.046192169189453 20.703704833984375 11.950385093688965\n",
      "30.046192169189453 20.703704833984375 11.950385093688965\n",
      "30.04619026184082 20.703617095947266 11.950374603271484\n",
      "30.046157836914062 20.703657150268555 11.9503812789917\n",
      "30.04613494873047 20.703683853149414 11.950371742248535\n",
      "30.046117782592773 20.703758239746094 11.950364112854004\n",
      "30.046152114868164 20.7036190032959 11.950377464294434\n",
      "30.046117782592773 20.703617095947266 11.950386047363281\n",
      "30.046113967895508 20.70368766784668 11.950403213500977\n",
      "30.046117782592773 20.703704833984375 11.950371742248535\n",
      "30.046146392822266 20.70372772216797 11.950349807739258\n",
      "30.046142578125 20.703704833984375 11.950385093688965\n",
      "30.0461483001709 20.703691482543945 11.950407028198242\n",
      "30.046123504638672 20.703638076782227 11.950393676757812\n",
      "30.046138763427734 20.7037296295166 11.950428009033203\n",
      "30.046125411987305 20.70362663269043 11.950400352478027\n",
      "30.04610252380371 20.703664779663086 11.950394630432129\n",
      "30.046127319335938 20.703636169433594 11.950430870056152\n",
      "30.046127319335938 20.703632354736328 11.950430870056152\n",
      "30.046138763427734 20.70364761352539 11.950401306152344\n",
      "30.046127319335938 20.70357322692871 11.950404167175293\n",
      "30.04613494873047 20.703659057617188 11.95041561126709\n"
     ]
    }
   ],
   "source": [
    "for j in range(40):\n",
    "    print(negfc.separation.item(), negfc.pos_angle.item(), negfc.magnitude.item())\n",
    "    after_negfc = negfc(science_data_torch_with_planet)\n",
    "    pca_model.update_noise_model(after_negfc)\n",
    "\n",
    "    # iterate for 100 steps\n",
    "    for i in range(20):\n",
    "        def closure():        \n",
    "            optimizer.zero_grad()\n",
    "            after_negfc = negfc(science_data_torch_with_planet)\n",
    "            after_pca_neg_fc = pca_model(after_negfc)\n",
    "            \n",
    "            # apply the loss function\n",
    "            loss = negfc_loss(after_pca_neg_fc)\n",
    "            loss.backward()\n",
    "            return loss\n",
    "\n",
    "        optimizer.step(closure)"
   ]
  },
  {
   "cell_type": "code",
   "execution_count": 360,
   "id": "d0d3aa2c34471700",
   "metadata": {
    "ExecuteTime": {
     "end_time": "2024-09-14T11:22:55.662010Z",
     "start_time": "2024-09-14T11:22:55.656215Z"
    }
   },
   "outputs": [
    {
     "name": "stdout",
     "output_type": "stream",
     "text": [
      "28.1058084999848 10.622334166902155\n"
     ]
    }
   ],
   "source": [
    "x_shift_res = negfc.separation.item() * np.cos(np.deg2rad(negfc.pos_angle.item()))\n",
    "y_shift_res = negfc.separation.item() * np.sin(np.deg2rad(negfc.pos_angle.item()))\n",
    "\n",
    "print(x_shift_res, y_shift_res)"
   ]
  },
  {
   "cell_type": "code",
   "execution_count": 361,
   "id": "ad8cbb53",
   "metadata": {
    "ExecuteTime": {
     "end_time": "2024-09-14T11:22:55.831482Z",
     "start_time": "2024-09-14T11:22:55.826322Z"
    }
   },
   "outputs": [
    {
     "name": "stdout",
     "output_type": "stream",
     "text": [
      "28.19077862357725 10.260604299770064\n"
     ]
    }
   ],
   "source": [
    "x_shift = 30 * np.cos(np.deg2rad(20))\n",
    "y_shift = 30 * np.sin(np.deg2rad(20))\n",
    "\n",
    "print(x_shift, y_shift)"
   ]
  },
  {
   "cell_type": "code",
   "execution_count": 362,
   "id": "43eb4d01",
   "metadata": {
    "ExecuteTime": {
     "end_time": "2024-09-14T11:22:55.965914Z",
     "start_time": "2024-09-14T11:22:55.960571Z"
    }
   },
   "outputs": [
    {
     "data": {
      "text/plain": [
       "0.361729867132091"
      ]
     },
     "execution_count": 362,
     "metadata": {},
     "output_type": "execute_result"
    }
   ],
   "source": [
    "np.abs(y_shift - y_shift_res)"
   ]
  },
  {
   "cell_type": "code",
   "execution_count": 363,
   "id": "384accec",
   "metadata": {
    "ExecuteTime": {
     "end_time": "2024-09-14T11:22:56.095228Z",
     "start_time": "2024-09-14T11:22:56.090157Z"
    }
   },
   "outputs": [
    {
     "data": {
      "text/plain": [
       "0.08497012359244849"
      ]
     },
     "execution_count": 363,
     "metadata": {},
     "output_type": "execute_result"
    }
   ],
   "source": [
    "np.abs(x_shift - x_shift_res)"
   ]
  },
  {
   "cell_type": "code",
   "execution_count": 364,
   "id": "78e6d941",
   "metadata": {
    "ExecuteTime": {
     "end_time": "2024-09-14T11:22:56.301999Z",
     "start_time": "2024-09-14T11:22:56.297991Z"
    }
   },
   "outputs": [],
   "source": [
    "brightness_diff = np.abs(mag2flux_ratio(12.) - mag2flux_ratio(negfc.magnitude.item()))"
   ]
  },
  {
   "cell_type": "code",
   "execution_count": 365,
   "id": "6f5c92aa",
   "metadata": {
    "ExecuteTime": {
     "end_time": "2024-09-14T11:22:56.987957Z",
     "start_time": "2024-09-14T11:22:56.981739Z"
    }
   },
   "outputs": [
    {
     "data": {
      "text/plain": [
       "0.04672871160971537"
      ]
     },
     "execution_count": 365,
     "metadata": {},
     "output_type": "execute_result"
    }
   ],
   "source": [
    "brightness_diff / mag2flux_ratio(12.)"
   ]
  },
  {
   "cell_type": "code",
   "execution_count": 367,
   "id": "ad9efe992d67e66c",
   "metadata": {
    "ExecuteTime": {
     "end_time": "2024-09-14T12:10:47.788721Z",
     "start_time": "2024-09-14T12:10:47.783898Z"
    },
    "collapsed": false
   },
   "outputs": [
    {
     "data": {
      "text/plain": [
       "0.04958534240722656"
      ]
     },
     "execution_count": 367,
     "metadata": {},
     "output_type": "execute_result"
    }
   ],
   "source": [
    "np.abs(negfc.magnitude.item() - 12)"
   ]
  },
  {
   "cell_type": "code",
   "id": "60490d96bd777a44",
   "metadata": {
    "collapsed": false
   },
   "outputs": [],
   "source": []
  }
 ],
 "metadata": {
  "kernelspec": {
   "display_name": "Python 3 (ipykernel)",
   "language": "python",
   "name": "python3"
  },
  "language_info": {
   "codemirror_mode": {
    "name": "ipython",
    "version": 3
   },
   "file_extension": ".py",
   "mimetype": "text/x-python",
   "name": "python",
   "nbconvert_exporter": "python",
   "pygments_lexer": "ipython3",
   "version": "3.10.10"
  }
 },
 "nbformat": 4,
 "nbformat_minor": 5
}
