{
 "cells": [
  {
   "cell_type": "code",
   "execution_count": 1,
   "id": "initial_id",
   "metadata": {
    "ExecuteTime": {
     "end_time": "2024-06-24T18:18:28.482458Z",
     "start_time": "2024-06-24T18:18:05.146599Z"
    }
   },
   "outputs": [],
   "source": [
    "import json\n",
    "import numpy as np\n",
    "from pathlib import Path\n",
    "import matplotlib.pyplot as plt\n",
    "\n",
    "import torch\n",
    "\n",
    "# imports to load some data\n",
    "from fours.utils.data_handling import load_adi_data\n",
    "\n",
    "from applefy.utils.fake_planets import add_fake_planets\n",
    "from applefy.utils.photometry import flux_ratio2mag, mag2flux_ratio\n",
    "\n",
    "from pynpoint.util.analysis import fake_planet"
   ]
  },
  {
   "cell_type": "markdown",
   "id": "7b1bbbccac868bb9",
   "metadata": {},
   "source": [
    "# Load the data"
   ]
  },
  {
   "cell_type": "code",
   "execution_count": 2,
   "id": "adc508182f6d7517",
   "metadata": {
    "ExecuteTime": {
     "end_time": "2024-06-24T18:18:28.483664Z",
     "start_time": "2024-06-24T18:18:28.480329Z"
    }
   },
   "outputs": [],
   "source": [
    "dataset_file = Path(\"/fast/mbonse/s4/30_data/HD22049_303_199_C-0065_C_.hdf5\")\n",
    "experiment_root_dir = Path(\"/fast/mbonse/s4/70_results/09_new_rotation_loss/x2_different_residual_creations/\")\n",
    "exp_id = str(\"0123a\")\n",
    "use_rotation_loss = True\n",
    "lambda_reg = float(850)"
   ]
  },
  {
   "cell_type": "code",
   "execution_count": 3,
   "id": "22ac161238c86727",
   "metadata": {
    "ExecuteTime": {
     "end_time": "2024-06-24T18:18:29.639956Z",
     "start_time": "2024-06-24T18:18:28.480584Z"
    }
   },
   "outputs": [],
   "source": [
    "science_data, angles, raw_psf_template_data = \\\n",
    "    load_adi_data(\n",
    "        hdf5_dataset=str(dataset_file),\n",
    "        data_tag=\"object_stacked_05\",\n",
    "        psf_template_tag=\"psf_template\",\n",
    "        para_tag=\"header_object_stacked_05/PARANG\")\n",
    "\n",
    "psf_template = np.median(raw_psf_template_data, axis=0)\n",
    "\n",
    "# other parameters\n",
    "dit_psf_template = 0.0042560\n",
    "dit_science = 0.08\n",
    "fwhm = 3.6\n",
    "pixel_scale = 0.02718\n",
    "\n",
    "# we cut the image to 91 x 91 pixel to be slightly larger than 1.2 arcsec\n",
    "cut_off = int((science_data.shape[1] - 91) / 2)\n",
    "science_data = science_data[:, cut_off:-cut_off, cut_off:-cut_off]"
   ]
  },
  {
   "cell_type": "code",
   "execution_count": 4,
   "id": "517f2e89a4372319",
   "metadata": {
    "ExecuteTime": {
     "end_time": "2024-06-24T18:18:29.640752Z",
     "start_time": "2024-06-24T18:18:29.639862Z"
    }
   },
   "outputs": [],
   "source": [
    "dataset_id = \"0115b\"\n",
    "\n",
    "# add the fake planet\n",
    "fake_planet_config_file = \"/fast/mbonse/s4/70_results/10_contrast_grids/HD22049_303_199_C-0065_C_/configs_cgrid/exp_ID_\" + exp_id + \".json\"\n",
    "with open(fake_planet_config_file) as json_file:\n",
    "    fake_planet_config = json.load(json_file)"
   ]
  },
  {
   "cell_type": "code",
   "execution_count": 5,
   "id": "24c83552417ea17c",
   "metadata": {
    "ExecuteTime": {
     "end_time": "2024-06-24T18:18:30.825215Z",
     "start_time": "2024-06-24T18:18:30.814015Z"
    }
   },
   "outputs": [],
   "source": [
    "fake_planet_config[\"flux_ratio\"] = mag2flux_ratio(12.)\n",
    "fake_planet_config[\"separation\"] = 30\n",
    "fake_planet_config[\"planet_position\"] = [0., 0., 30, 80.]"
   ]
  },
  {
   "cell_type": "code",
   "execution_count": 6,
   "id": "451814b10a21255e",
   "metadata": {
    "ExecuteTime": {
     "end_time": "2024-06-24T18:18:39.973793Z",
     "start_time": "2024-06-24T18:18:31.109470Z"
    }
   },
   "outputs": [],
   "source": [
    "data_with_fake_planet = add_fake_planets(\n",
    "    input_stack=science_data,\n",
    "    psf_template=psf_template,\n",
    "    parang=angles - np.pi/2, # the pi/2 is to correct the parang to the north\n",
    "    dit_psf_template=dit_psf_template,\n",
    "    dit_science=dit_science,\n",
    "    experiment_config=fake_planet_config,\n",
    "    scaling_factor=1.0)"
   ]
  },
  {
   "cell_type": "code",
   "execution_count": 7,
   "id": "5bc07480c80abca9",
   "metadata": {
    "ExecuteTime": {
     "end_time": "2024-06-24T18:18:39.977446Z",
     "start_time": "2024-06-24T18:18:39.973520Z"
    }
   },
   "outputs": [],
   "source": [
    "science_data_torch_with_planet = torch.from_numpy(data_with_fake_planet).float()"
   ]
  },
  {
   "cell_type": "markdown",
   "id": "715b6b0b40587c2d",
   "metadata": {},
   "source": [
    "# Import the noise models"
   ]
  },
  {
   "cell_type": "code",
   "execution_count": 8,
   "id": "724dba9b29d29f69",
   "metadata": {
    "ExecuteTime": {
     "end_time": "2024-06-24T18:18:40.669587Z",
     "start_time": "2024-06-24T18:18:39.976619Z"
    }
   },
   "outputs": [],
   "source": [
    "from fours.position_flux.pca import PCANoiseModel\n",
    "from fours.position_flux.negfc import NegFC\n",
    "from fours.models.psf_subtraction import FourS\n",
    "\n",
    "from tqdm import tqdm\n",
    "from torch import optim"
   ]
  },
  {
   "cell_type": "markdown",
   "id": "93ab19ad10431d64",
   "metadata": {},
   "source": [
    "# run a test with PCA"
   ]
  },
  {
   "cell_type": "code",
   "execution_count": 9,
   "id": "33df3c6a6db573ac",
   "metadata": {
    "ExecuteTime": {
     "end_time": "2024-06-24T18:18:40.996325Z",
     "start_time": "2024-06-24T18:18:40.671169Z"
    }
   },
   "outputs": [],
   "source": [
    "pca_model = PCANoiseModel(\n",
    "    angles=angles,\n",
    "    image_shape=science_data.shape[1],\n",
    "    pca_number=300,\n",
    "    approx_svd=5000)"
   ]
  },
  {
   "cell_type": "code",
   "execution_count": 10,
   "id": "c79216dc5c9ddca5",
   "metadata": {
    "ExecuteTime": {
     "end_time": "2024-06-24T18:18:47.615865Z",
     "start_time": "2024-06-24T18:18:47.588760Z"
    }
   },
   "outputs": [],
   "source": [
    "# create the NegFC model\n",
    "negfc = NegFC(\n",
    "    psf_template=psf_template,\n",
    "    all_angles=angles,\n",
    "    input_size=science_data.shape[1],\n",
    "    init_separation=fake_planet_config[\"separation\"] + 2,\n",
    "    init_pos_angle=fake_planet_config[\"planet_position\"][-1] - 4,\n",
    "    init_magnitude=11.5,\n",
    "    dit_science=dit_science,\n",
    "    dit_psf_template=dit_psf_template,\n",
    "    nd_factor=1.0,\n",
    "    interpolation=\"bicubic\",)"
   ]
  },
  {
   "cell_type": "code",
   "execution_count": 11,
   "id": "cc3a6a314dd99c42",
   "metadata": {
    "ExecuteTime": {
     "end_time": "2024-06-24T18:18:50.300457Z",
     "start_time": "2024-06-24T18:18:49.524702Z"
    }
   },
   "outputs": [],
   "source": [
    "# move everything to the GPU\n",
    "science_data_torch_with_planet = science_data_torch_with_planet.to(0)\n",
    "negfc = negfc.to(0)\n",
    "pca_model = pca_model.to(0)"
   ]
  },
  {
   "cell_type": "code",
   "execution_count": 12,
   "id": "b30d528743322f4a",
   "metadata": {
    "ExecuteTime": {
     "end_time": "2024-06-24T18:18:51.043938Z",
     "start_time": "2024-06-24T18:18:50.301343Z"
    }
   },
   "outputs": [],
   "source": [
    "input_data = science_data_torch_with_planet\n",
    "\n",
    "# create the optimizer\n",
    "optimizer_kwargs = {\n",
    "    \"max_iter\": 20,\n",
    "    \"history_size\": 10}\n",
    "\n",
    "optimizer = optim.LBFGS(\n",
    "    negfc.parameters(),\n",
    "    **optimizer_kwargs)"
   ]
  },
  {
   "cell_type": "code",
   "execution_count": 13,
   "id": "9987741afcc439e1",
   "metadata": {
    "ExecuteTime": {
     "end_time": "2024-06-24T18:20:13.269904Z",
     "start_time": "2024-06-24T18:18:51.033275Z"
    }
   },
   "outputs": [
    {
     "name": "stdout",
     "output_type": "stream",
     "text": [
      "32.0 76.0 11.5\n",
      "31.774494171142578 76.8847427368164 12.087950706481934\n",
      "31.18558692932129 78.20600128173828 12.492368698120117\n",
      "31.18558692932129 78.20600128173828 12.492368698120117\n",
      "30.54210662841797 79.17823791503906 12.560996055603027\n",
      "30.154605865478516 79.59913635253906 12.487272262573242\n",
      "29.95743751525879 79.76332092285156 12.415915489196777\n",
      "29.850990295410156 79.82984161376953 12.36722183227539\n",
      "29.850984573364258 79.82984161376953 12.367225646972656\n",
      "29.790964126586914 79.85637664794922 12.335657119750977\n",
      "29.756181716918945 79.86685180664062 12.315750122070312\n",
      "29.735742568969727 79.8707046508789 12.303496360778809\n",
      "29.723459243774414 79.87174987792969 12.295546531677246\n",
      "29.716073989868164 79.87174224853516 12.290711402893066\n",
      "29.71162986755371 79.87145233154297 12.287809371948242\n",
      "29.708938598632812 79.87129974365234 12.285933494567871\n",
      "29.707292556762695 79.87104797363281 12.284758567810059\n",
      "29.706289291381836 79.8708724975586 12.284015655517578\n",
      "29.706287384033203 79.87085723876953 12.284017562866211\n",
      "29.70563316345215 79.87075805664062 12.283588409423828\n"
     ]
    }
   ],
   "source": [
    "for j in range(20):\n",
    "    print(negfc.separation.item(), negfc.pos_angle.item(), negfc.magnitude.item())\n",
    "    after_negfc = negfc(science_data_torch_with_planet)\n",
    "    pca_model.update_noise_model(after_negfc)\n",
    "\n",
    "    # iterate for 100 steps\n",
    "    for i in range(20):\n",
    "        def closure():        \n",
    "            optimizer.zero_grad()\n",
    "            after_negfc = negfc(science_data_torch_with_planet)\n",
    "            \n",
    "            #pca_model.update_noise_model(after_negfc)\n",
    "            after_pca_neg_fc = pca_model(after_negfc)\n",
    "            loss = torch.sum(after_pca_neg_fc**2)\n",
    "            loss.backward()\n",
    "            \n",
    "            return loss\n",
    "\n",
    "        optimizer.step(closure)"
   ]
  },
  {
   "cell_type": "code",
   "execution_count": 18,
   "id": "94862739f62bd280",
   "metadata": {
    "ExecuteTime": {
     "end_time": "2024-06-24T18:20:36.955244Z",
     "start_time": "2024-06-24T18:20:36.623920Z"
    }
   },
   "outputs": [
    {
     "data": {
      "image/png": "[encoded data removed]",
      "text/plain": [
       "<Figure size 640x480 with 1 Axes>"
      ]
     },
     "metadata": {},
     "output_type": "display_data"
    },
    {
     "data": {
      "text/plain": [
       "<matplotlib.image.AxesImage at 0x14e1e42ca950>"
      ]
     },
     "execution_count": 18,
     "metadata": {},
     "output_type": "execute_result"
    },
    {
     "data": {
      "image/png": "[encoded data removed]",
      "text/plain": [
       "<Figure size 640x480 with 1 Axes>"
      ]
     },
     "metadata": {},
     "output_type": "display_data"
    }
   ],
   "source": [
    "after_negfc = negfc(science_data_torch_with_planet)\n",
    "after_pca_neg_fc = pca_model(after_negfc)\n",
    "plt.imshow(after_pca_neg_fc.cpu().detach().numpy(), cmap=\"inferno\")\n",
    "plt.show()\n",
    "\n",
    "pca_model.update_noise_model(science_data_torch_with_planet)\n",
    "after_pca_neg_fc = pca_model(science_data_torch_with_planet)\n",
    "plt.imshow(after_pca_neg_fc.cpu().detach().numpy(), cmap=\"inferno\")"
   ]
  },
  {
   "cell_type": "markdown",
   "id": "f388d775effd01e0",
   "metadata": {},
   "source": [
    "# Run the same for the FourS model"
   ]
  },
  {
   "cell_type": "code",
   "execution_count": 19,
   "id": "5c6b95e6fde4015f",
   "metadata": {
    "ExecuteTime": {
     "end_time": "2024-06-24T18:20:40.553298Z",
     "start_time": "2024-06-24T18:20:40.533777Z"
    }
   },
   "outputs": [],
   "source": [
    "experiment_root_dir = Path(\"/fast/mbonse/s4/70_results/new_implementation_test/02_negfc\")\n",
    "experiment_root_dir.mkdir(exist_ok=True)"
   ]
  },
  {
   "cell_type": "code",
   "execution_count": 20,
   "id": "99221a6a1c9e31b1",
   "metadata": {
    "ExecuteTime": {
     "end_time": "2024-06-24T18:20:44.284830Z",
     "start_time": "2024-06-24T18:20:42.097806Z"
    }
   },
   "outputs": [],
   "source": [
    "fours_model = FourS(\n",
    "    science_cube=data_with_fake_planet,\n",
    "    adi_angles=angles,\n",
    "    psf_template=psf_template,\n",
    "    noise_model_lambda=100,\n",
    "    normalization_type=\"dynamic\",\n",
    "    psf_fwhm=3.6,\n",
    "    right_reason_mask_factor=1.5,\n",
    "    rotation_grid_subsample=1,\n",
    "    device=0,\n",
    "    work_dir=experiment_root_dir,\n",
    "    verbose=True)"
   ]
  },
  {
   "cell_type": "code",
   "execution_count": 21,
   "id": "68f021c361f04bd3",
   "metadata": {
    "ExecuteTime": {
     "end_time": "2024-06-24T18:26:04.507444Z",
     "start_time": "2024-06-24T18:20:54.576627Z"
    }
   },
   "outputs": [
    {
     "name": "stdout",
     "output_type": "stream",
     "text": [
      "S4 model: Fit noise model ... "
     ]
    },
    {
     "data": {
      "application/vnd.jupyter.widget-view+json": {
       "model_id": "8a375286c5a6486bbd0bba8da4815711",
       "version_major": 2,
       "version_minor": 0
      },
      "text/plain": [
       "  0%|          | 0/100 [00:00<?, ?it/s]"
      ]
     },
     "metadata": {},
     "output_type": "display_data"
    },
    {
     "name": "stdout",
     "output_type": "stream",
     "text": [
      "[DONE]\n"
     ]
    }
   ],
   "source": [
    "fours_model.fit_noise_model(\n",
    "        num_epochs=100,\n",
    "        training_name=\"First_training\",\n",
    "        logging_interval=10)"
   ]
  },
  {
   "cell_type": "code",
   "execution_count": 22,
   "id": "9a60e467305eba03",
   "metadata": {
    "ExecuteTime": {
     "end_time": "2024-06-24T18:27:09.171226Z",
     "start_time": "2024-06-24T18:27:09.117434Z"
    }
   },
   "outputs": [],
   "source": [
    "# create the NegFC model\n",
    "negfc = NegFC(\n",
    "    psf_template=psf_template,\n",
    "    all_angles=angles,\n",
    "    input_size=science_data.shape[1],\n",
    "    init_separation=fake_planet_config[\"separation\"] + 2,\n",
    "    init_pos_angle=fake_planet_config[\"planet_position\"][-1] - 2,\n",
    "    init_magnitude=11.5,\n",
    "    dit_science=dit_science,\n",
    "    dit_psf_template=dit_psf_template,\n",
    "    nd_factor=1.0,\n",
    "    interpolation=\"bicubic\",)"
   ]
  },
  {
   "cell_type": "code",
   "execution_count": 23,
   "id": "2e814ced4cdc7daa",
   "metadata": {
    "ExecuteTime": {
     "end_time": "2024-06-24T18:27:09.936441Z",
     "start_time": "2024-06-24T18:27:09.929200Z"
    }
   },
   "outputs": [],
   "source": [
    "negfc = negfc.to(0)\n",
    "science_data_torch_with_planet = science_data_torch_with_planet.to(0)\n",
    "\n",
    "# create the optimizer\n",
    "optimizer_kwargs = {\n",
    "    \"max_iter\": 20,\n",
    "    \"history_size\": 10}\n",
    "\n",
    "optimizer = optim.LBFGS(\n",
    "    negfc.parameters(),\n",
    "    **optimizer_kwargs)"
   ]
  },
  {
   "cell_type": "code",
   "execution_count": 24,
   "id": "1da530009a7981",
   "metadata": {
    "ExecuteTime": {
     "end_time": "2024-06-24T18:34:15.071228Z",
     "start_time": "2024-06-24T18:27:10.334957Z"
    }
   },
   "outputs": [
    {
     "name": "stdout",
     "output_type": "stream",
     "text": [
      "32.0 78.0 11.5\n"
     ]
    },
    {
     "name": "stderr",
     "output_type": "stream",
     "text": [
      "100%|███████████████████████████████████████████████████████████████████████████████████████████████████████████████████████████████████████████████| 200/200 [00:26<00:00,  7.54it/s]"
     ]
    },
    {
     "name": "stdout",
     "output_type": "stream",
     "text": [
      "29.672779083251953 79.96238708496094 12.23140811920166\n",
      "S4 model: Fit noise model ... "
     ]
    },
    {
     "name": "stderr",
     "output_type": "stream",
     "text": [
      "\n"
     ]
    },
    {
     "data": {
      "application/vnd.jupyter.widget-view+json": {
       "model_id": "f03b5756ce484e40b4f161d16f47b61b",
       "version_major": 2,
       "version_minor": 0
      },
      "text/plain": [
       "  0%|          | 0/50 [00:00<?, ?it/s]"
      ]
     },
     "metadata": {},
     "output_type": "display_data"
    },
    {
     "name": "stdout",
     "output_type": "stream",
     "text": [
      "[DONE]\n"
     ]
    },
    {
     "name": "stderr",
     "output_type": "stream",
     "text": [
      "100%|███████████████████████████████████████████████████████████████████████████████████████████████████████████████████████████████████████████████| 200/200 [00:24<00:00,  8.09it/s]"
     ]
    },
    {
     "name": "stdout",
     "output_type": "stream",
     "text": [
      "29.62006950378418 80.06543731689453 12.165699005126953\n",
      "S4 model: Fit noise model ... "
     ]
    },
    {
     "name": "stderr",
     "output_type": "stream",
     "text": [
      "\n"
     ]
    },
    {
     "data": {
      "application/vnd.jupyter.widget-view+json": {
       "model_id": "cc9a24975f7d4fde80dd192455a86a49",
       "version_major": 2,
       "version_minor": 0
      },
      "text/plain": [
       "  0%|          | 0/50 [00:00<?, ?it/s]"
      ]
     },
     "metadata": {},
     "output_type": "display_data"
    },
    {
     "name": "stdout",
     "output_type": "stream",
     "text": [
      "[DONE]\n"
     ]
    },
    {
     "name": "stderr",
     "output_type": "stream",
     "text": [
      "100%|███████████████████████████████████████████████████████████████████████████████████████████████████████████████████████████████████████████████| 200/200 [00:25<00:00,  7.71it/s]"
     ]
    },
    {
     "name": "stdout",
     "output_type": "stream",
     "text": [
      "29.65021514892578 80.02201080322266 12.124567985534668\n",
      "S4 model: Fit noise model ... "
     ]
    },
    {
     "name": "stderr",
     "output_type": "stream",
     "text": [
      "\n"
     ]
    },
    {
     "data": {
      "application/vnd.jupyter.widget-view+json": {
       "model_id": "864587f783a64e23a34d8475c713872b",
       "version_major": 2,
       "version_minor": 0
      },
      "text/plain": [
       "  0%|          | 0/50 [00:00<?, ?it/s]"
      ]
     },
     "metadata": {},
     "output_type": "display_data"
    },
    {
     "name": "stdout",
     "output_type": "stream",
     "text": [
      "[DONE]\n"
     ]
    },
    {
     "name": "stderr",
     "output_type": "stream",
     "text": [
      "100%|███████████████████████████████████████████████████████████████████████████████████████████████████████████████████████████████████████████████| 200/200 [00:24<00:00,  8.09it/s]"
     ]
    },
    {
     "name": "stdout",
     "output_type": "stream",
     "text": [
      "29.658292770385742 80.09593963623047 12.167905807495117\n",
      "S4 model: Fit noise model ... "
     ]
    },
    {
     "name": "stderr",
     "output_type": "stream",
     "text": [
      "\n"
     ]
    },
    {
     "data": {
      "application/vnd.jupyter.widget-view+json": {
       "model_id": "130c049294ed4c03b653f6e57866a9fe",
       "version_major": 2,
       "version_minor": 0
      },
      "text/plain": [
       "  0%|          | 0/50 [00:00<?, ?it/s]"
      ]
     },
     "metadata": {},
     "output_type": "display_data"
    },
    {
     "name": "stdout",
     "output_type": "stream",
     "text": [
      "[DONE]\n"
     ]
    },
    {
     "name": "stderr",
     "output_type": "stream",
     "text": [
      "100%|███████████████████████████████████████████████████████████████████████████████████████████████████████████████████████████████████████████████| 200/200 [01:07<00:00,  2.97it/s]"
     ]
    },
    {
     "name": "stdout",
     "output_type": "stream",
     "text": [
      "29.65799903869629 80.08731842041016 12.162522315979004\n",
      "S4 model: Fit noise model ... "
     ]
    },
    {
     "name": "stderr",
     "output_type": "stream",
     "text": [
      "\n"
     ]
    },
    {
     "data": {
      "application/vnd.jupyter.widget-view+json": {
       "model_id": "93dc680cd9414260b24267bf9bbe6dcc",
       "version_major": 2,
       "version_minor": 0
      },
      "text/plain": [
       "  0%|          | 0/50 [00:00<?, ?it/s]"
      ]
     },
     "metadata": {},
     "output_type": "display_data"
    },
    {
     "ename": "KeyboardInterrupt",
     "evalue": "",
     "output_type": "error",
     "traceback": [
      "\u001b[0;31m---------------------------------------------------------------------------\u001b[0m",
      "\u001b[0;31mKeyboardInterrupt\u001b[0m                         Traceback (most recent call last)",
      "Cell \u001b[0;32mIn[24], line 30\u001b[0m\n\u001b[1;32m     27\u001b[0m \u001b[38;5;28mprint\u001b[39m(negfc\u001b[38;5;241m.\u001b[39mseparation\u001b[38;5;241m.\u001b[39mitem(), negfc\u001b[38;5;241m.\u001b[39mpos_angle\u001b[38;5;241m.\u001b[39mitem(), negfc\u001b[38;5;241m.\u001b[39mmagnitude\u001b[38;5;241m.\u001b[39mitem())\n\u001b[1;32m     28\u001b[0m after_negfc \u001b[38;5;241m=\u001b[39m negfc(science_data_torch_with_planet)    \n\u001b[0;32m---> 30\u001b[0m \u001b[43mfours_model\u001b[49m\u001b[38;5;241;43m.\u001b[39;49m\u001b[43mupdate_noise_model\u001b[49m\u001b[43m(\u001b[49m\n\u001b[1;32m     31\u001b[0m \u001b[43m    \u001b[49m\u001b[43mimages\u001b[49m\u001b[38;5;241;43m=\u001b[39;49m\u001b[43mafter_negfc\u001b[49m\u001b[38;5;241;43m.\u001b[39;49m\u001b[43mdetach\u001b[49m\u001b[43m(\u001b[49m\u001b[43m)\u001b[49m\u001b[43m,\u001b[49m\n\u001b[1;32m     32\u001b[0m \u001b[43m    \u001b[49m\u001b[43mnum_epochs\u001b[49m\u001b[38;5;241;43m=\u001b[39;49m\u001b[38;5;241;43m50\u001b[39;49m\u001b[43m,\u001b[49m\n\u001b[1;32m     33\u001b[0m \u001b[43m    \u001b[49m\u001b[43mtraining_name\u001b[49m\u001b[38;5;241;43m=\u001b[39;49m\u001b[38;5;124;43m\"\u001b[39;49m\u001b[38;5;124;43mupdate_\u001b[39;49m\u001b[38;5;124;43m\"\u001b[39;49m\u001b[43m \u001b[49m\u001b[38;5;241;43m+\u001b[39;49m\u001b[43m \u001b[49m\u001b[38;5;28;43mstr\u001b[39;49m\u001b[43m(\u001b[49m\u001b[43mj\u001b[49m\u001b[38;5;241;43m+\u001b[39;49m\u001b[38;5;241;43m1\u001b[39;49m\u001b[43m)\u001b[49m\u001b[43m,\u001b[49m\n\u001b[1;32m     34\u001b[0m \u001b[43m    \u001b[49m\u001b[43mlogging_interval\u001b[49m\u001b[38;5;241;43m=\u001b[39;49m\u001b[38;5;241;43m10\u001b[39;49m\u001b[43m)\u001b[49m\n",
      "File \u001b[0;32m/lustre/home/mbonse/2023_s4/50_code/fours/fours/models/psf_subtraction.py:440\u001b[0m, in \u001b[0;36mFourS.update_noise_model\u001b[0;34m(self, images, num_epochs, training_name, logging_interval)\u001b[0m\n\u001b[1;32m    437\u001b[0m \u001b[38;5;28mself\u001b[39m\u001b[38;5;241m.\u001b[39mnormalization_model \u001b[38;5;241m=\u001b[39m \u001b[38;5;28mself\u001b[39m\u001b[38;5;241m.\u001b[39mnormalization_model\u001b[38;5;241m.\u001b[39mto(\u001b[38;5;28mself\u001b[39m\u001b[38;5;241m.\u001b[39mdevice)\n\u001b[1;32m    439\u001b[0m \u001b[38;5;66;03m# 3.) Run the optimization\u001b[39;00m\n\u001b[0;32m--> 440\u001b[0m \u001b[38;5;28;43mself\u001b[39;49m\u001b[38;5;241;43m.\u001b[39;49m\u001b[43mfit_noise_model\u001b[49m\u001b[43m(\u001b[49m\n\u001b[1;32m    441\u001b[0m \u001b[43m    \u001b[49m\u001b[43mnum_epochs\u001b[49m\u001b[38;5;241;43m=\u001b[39;49m\u001b[43mnum_epochs\u001b[49m\u001b[43m,\u001b[49m\n\u001b[1;32m    442\u001b[0m \u001b[43m    \u001b[49m\u001b[43mtraining_name\u001b[49m\u001b[38;5;241;43m=\u001b[39;49m\u001b[43mtraining_name\u001b[49m\u001b[43m,\u001b[49m\n\u001b[1;32m    443\u001b[0m \u001b[43m    \u001b[49m\u001b[43mlogging_interval\u001b[49m\u001b[38;5;241;43m=\u001b[39;49m\u001b[43mlogging_interval\u001b[49m\u001b[43m,\u001b[49m\n\u001b[1;32m    444\u001b[0m \u001b[43m    \u001b[49m\u001b[43mfit_intercept\u001b[49m\u001b[38;5;241;43m=\u001b[39;49m\u001b[38;5;28;43;01mFalse\u001b[39;49;00m\u001b[43m,\u001b[49m\n\u001b[1;32m    445\u001b[0m \u001b[43m    \u001b[49m\u001b[43moptimizer\u001b[49m\u001b[38;5;241;43m=\u001b[39;49m\u001b[38;5;28;43;01mNone\u001b[39;49;00m\u001b[43m,\u001b[49m\n\u001b[1;32m    446\u001b[0m \u001b[43m    \u001b[49m\u001b[43moptimizer_kwargs\u001b[49m\u001b[38;5;241;43m=\u001b[39;49m\u001b[38;5;28;43;01mNone\u001b[39;49;00m\u001b[43m)\u001b[49m\n\u001b[1;32m    448\u001b[0m \u001b[38;5;66;03m# 4.) Clean up GPU\u001b[39;00m\n\u001b[1;32m    449\u001b[0m \u001b[38;5;28mself\u001b[39m\u001b[38;5;241m.\u001b[39mnoise_model \u001b[38;5;241m=\u001b[39m \u001b[38;5;28mself\u001b[39m\u001b[38;5;241m.\u001b[39mnoise_model\u001b[38;5;241m.\u001b[39mcpu()\n",
      "File \u001b[0;32m/lustre/home/mbonse/2023_s4/50_code/fours/fours/models/psf_subtraction.py:127\u001b[0m, in \u001b[0;36mFourS._print_progress.<locals>.decorator.<locals>.wrapper\u001b[0;34m(self, *args, **kwargs)\u001b[0m\n\u001b[1;32m    125\u001b[0m \u001b[38;5;28;01mif\u001b[39;00m \u001b[38;5;28mself\u001b[39m\u001b[38;5;241m.\u001b[39mverbose:\n\u001b[1;32m    126\u001b[0m     \u001b[38;5;28mprint\u001b[39m(msg \u001b[38;5;241m+\u001b[39m \u001b[38;5;124m\"\u001b[39m\u001b[38;5;124m ... \u001b[39m\u001b[38;5;124m\"\u001b[39m, end\u001b[38;5;241m=\u001b[39m\u001b[38;5;124m'\u001b[39m\u001b[38;5;124m'\u001b[39m)\n\u001b[0;32m--> 127\u001b[0m     result \u001b[38;5;241m=\u001b[39m \u001b[43mfunction\u001b[49m\u001b[43m(\u001b[49m\u001b[38;5;28;43mself\u001b[39;49m\u001b[43m,\u001b[49m\u001b[43m \u001b[49m\u001b[38;5;241;43m*\u001b[39;49m\u001b[43margs\u001b[49m\u001b[43m,\u001b[49m\u001b[43m \u001b[49m\u001b[38;5;241;43m*\u001b[39;49m\u001b[38;5;241;43m*\u001b[39;49m\u001b[43mkwargs\u001b[49m\u001b[43m)\u001b[49m\n\u001b[1;32m    128\u001b[0m     \u001b[38;5;28mprint\u001b[39m(\u001b[38;5;124m\"\u001b[39m\u001b[38;5;124m[DONE]\u001b[39m\u001b[38;5;124m\"\u001b[39m)\n\u001b[1;32m    129\u001b[0m \u001b[38;5;28;01melse\u001b[39;00m:\n",
      "File \u001b[0;32m/lustre/home/mbonse/2023_s4/50_code/fours/fours/models/psf_subtraction.py:349\u001b[0m, in \u001b[0;36mFourS.fit_noise_model\u001b[0;34m(self, num_epochs, training_name, logging_interval, fit_intercept, optimizer, optimizer_kwargs)\u001b[0m\n\u001b[1;32m    346\u001b[0m \u001b[38;5;28;01mdef\u001b[39;00m \u001b[38;5;21mloss_closure\u001b[39m():\n\u001b[1;32m    347\u001b[0m     \u001b[38;5;28;01mreturn\u001b[39;00m full_closure(\u001b[38;5;28;01mFalse\u001b[39;00m)[\u001b[38;5;241m0\u001b[39m]\n\u001b[0;32m--> 349\u001b[0m \u001b[43moptimizer\u001b[49m\u001b[38;5;241;43m.\u001b[39;49m\u001b[43mstep\u001b[49m\u001b[43m(\u001b[49m\u001b[43mloss_closure\u001b[49m\u001b[43m)\u001b[49m\n\u001b[1;32m    351\u001b[0m \u001b[38;5;66;03m# 5.) Logg the information\u001b[39;00m\n\u001b[1;32m    352\u001b[0m \u001b[38;5;28;01mif\u001b[39;00m epoch \u001b[38;5;241m%\u001b[39m logging_interval \u001b[38;5;241m==\u001b[39m \u001b[38;5;241m0\u001b[39m:\n\u001b[1;32m    353\u001b[0m     \u001b[38;5;66;03m# Logg the full information with residuals\u001b[39;00m\n\u001b[1;32m    354\u001b[0m     \u001b[38;5;66;03m# x.) get current residuals\u001b[39;00m\n",
      "File \u001b[0;32m/lustre/home/mbonse/2023_s4/50_code/venv_s4/lib/python3.10/site-packages/torch/optim/optimizer.py:373\u001b[0m, in \u001b[0;36mOptimizer.profile_hook_step.<locals>.wrapper\u001b[0;34m(*args, **kwargs)\u001b[0m\n\u001b[1;32m    368\u001b[0m         \u001b[38;5;28;01melse\u001b[39;00m:\n\u001b[1;32m    369\u001b[0m             \u001b[38;5;28;01mraise\u001b[39;00m \u001b[38;5;167;01mRuntimeError\u001b[39;00m(\n\u001b[1;32m    370\u001b[0m                 \u001b[38;5;124mf\u001b[39m\u001b[38;5;124m\"\u001b[39m\u001b[38;5;132;01m{\u001b[39;00mfunc\u001b[38;5;132;01m}\u001b[39;00m\u001b[38;5;124m must return None or a tuple of (new_args, new_kwargs), but got \u001b[39m\u001b[38;5;132;01m{\u001b[39;00mresult\u001b[38;5;132;01m}\u001b[39;00m\u001b[38;5;124m.\u001b[39m\u001b[38;5;124m\"\u001b[39m\n\u001b[1;32m    371\u001b[0m             )\n\u001b[0;32m--> 373\u001b[0m out \u001b[38;5;241m=\u001b[39m \u001b[43mfunc\u001b[49m\u001b[43m(\u001b[49m\u001b[38;5;241;43m*\u001b[39;49m\u001b[43margs\u001b[49m\u001b[43m,\u001b[49m\u001b[43m \u001b[49m\u001b[38;5;241;43m*\u001b[39;49m\u001b[38;5;241;43m*\u001b[39;49m\u001b[43mkwargs\u001b[49m\u001b[43m)\u001b[49m\n\u001b[1;32m    374\u001b[0m \u001b[38;5;28mself\u001b[39m\u001b[38;5;241m.\u001b[39m_optimizer_step_code()\n\u001b[1;32m    376\u001b[0m \u001b[38;5;66;03m# call optimizer step post hooks\u001b[39;00m\n",
      "File \u001b[0;32m/lustre/home/mbonse/2023_s4/50_code/venv_s4/lib/python3.10/site-packages/torch/utils/_contextlib.py:115\u001b[0m, in \u001b[0;36mcontext_decorator.<locals>.decorate_context\u001b[0;34m(*args, **kwargs)\u001b[0m\n\u001b[1;32m    112\u001b[0m \u001b[38;5;129m@functools\u001b[39m\u001b[38;5;241m.\u001b[39mwraps(func)\n\u001b[1;32m    113\u001b[0m \u001b[38;5;28;01mdef\u001b[39;00m \u001b[38;5;21mdecorate_context\u001b[39m(\u001b[38;5;241m*\u001b[39margs, \u001b[38;5;241m*\u001b[39m\u001b[38;5;241m*\u001b[39mkwargs):\n\u001b[1;32m    114\u001b[0m     \u001b[38;5;28;01mwith\u001b[39;00m ctx_factory():\n\u001b[0;32m--> 115\u001b[0m         \u001b[38;5;28;01mreturn\u001b[39;00m \u001b[43mfunc\u001b[49m\u001b[43m(\u001b[49m\u001b[38;5;241;43m*\u001b[39;49m\u001b[43margs\u001b[49m\u001b[43m,\u001b[49m\u001b[43m \u001b[49m\u001b[38;5;241;43m*\u001b[39;49m\u001b[38;5;241;43m*\u001b[39;49m\u001b[43mkwargs\u001b[49m\u001b[43m)\u001b[49m\n",
      "File \u001b[0;32m/lustre/home/mbonse/2023_s4/50_code/venv_s4/lib/python3.10/site-packages/torch/optim/lbfgs.py:438\u001b[0m, in \u001b[0;36mLBFGS.step\u001b[0;34m(self, closure)\u001b[0m\n\u001b[1;32m    433\u001b[0m \u001b[38;5;28;01mif\u001b[39;00m n_iter \u001b[38;5;241m!=\u001b[39m max_iter:\n\u001b[1;32m    434\u001b[0m     \u001b[38;5;66;03m# re-evaluate function only if not in last iteration\u001b[39;00m\n\u001b[1;32m    435\u001b[0m     \u001b[38;5;66;03m# the reason we do this: in a stochastic setting,\u001b[39;00m\n\u001b[1;32m    436\u001b[0m     \u001b[38;5;66;03m# no use to re-evaluate that function here\u001b[39;00m\n\u001b[1;32m    437\u001b[0m     \u001b[38;5;28;01mwith\u001b[39;00m torch\u001b[38;5;241m.\u001b[39menable_grad():\n\u001b[0;32m--> 438\u001b[0m         loss \u001b[38;5;241m=\u001b[39m \u001b[38;5;28mfloat\u001b[39m(\u001b[43mclosure\u001b[49m\u001b[43m(\u001b[49m\u001b[43m)\u001b[49m)\n\u001b[1;32m    439\u001b[0m     flat_grad \u001b[38;5;241m=\u001b[39m \u001b[38;5;28mself\u001b[39m\u001b[38;5;241m.\u001b[39m_gather_flat_grad()\n\u001b[1;32m    440\u001b[0m     opt_cond \u001b[38;5;241m=\u001b[39m flat_grad\u001b[38;5;241m.\u001b[39mabs()\u001b[38;5;241m.\u001b[39mmax() \u001b[38;5;241m<\u001b[39m\u001b[38;5;241m=\u001b[39m tolerance_grad\n",
      "File \u001b[0;32m/lustre/home/mbonse/2023_s4/50_code/venv_s4/lib/python3.10/site-packages/torch/utils/_contextlib.py:115\u001b[0m, in \u001b[0;36mcontext_decorator.<locals>.decorate_context\u001b[0;34m(*args, **kwargs)\u001b[0m\n\u001b[1;32m    112\u001b[0m \u001b[38;5;129m@functools\u001b[39m\u001b[38;5;241m.\u001b[39mwraps(func)\n\u001b[1;32m    113\u001b[0m \u001b[38;5;28;01mdef\u001b[39;00m \u001b[38;5;21mdecorate_context\u001b[39m(\u001b[38;5;241m*\u001b[39margs, \u001b[38;5;241m*\u001b[39m\u001b[38;5;241m*\u001b[39mkwargs):\n\u001b[1;32m    114\u001b[0m     \u001b[38;5;28;01mwith\u001b[39;00m ctx_factory():\n\u001b[0;32m--> 115\u001b[0m         \u001b[38;5;28;01mreturn\u001b[39;00m \u001b[43mfunc\u001b[49m\u001b[43m(\u001b[49m\u001b[38;5;241;43m*\u001b[39;49m\u001b[43margs\u001b[49m\u001b[43m,\u001b[49m\u001b[43m \u001b[49m\u001b[38;5;241;43m*\u001b[39;49m\u001b[38;5;241;43m*\u001b[39;49m\u001b[43mkwargs\u001b[49m\u001b[43m)\u001b[49m\n",
      "File \u001b[0;32m/lustre/home/mbonse/2023_s4/50_code/fours/fours/models/psf_subtraction.py:347\u001b[0m, in \u001b[0;36mFourS.fit_noise_model.<locals>.loss_closure\u001b[0;34m()\u001b[0m\n\u001b[1;32m    346\u001b[0m \u001b[38;5;28;01mdef\u001b[39;00m \u001b[38;5;21mloss_closure\u001b[39m():\n\u001b[0;32m--> 347\u001b[0m     \u001b[38;5;28;01mreturn\u001b[39;00m \u001b[43mfull_closure\u001b[49m\u001b[43m(\u001b[49m\u001b[38;5;28;43;01mFalse\u001b[39;49;00m\u001b[43m)\u001b[49m[\u001b[38;5;241m0\u001b[39m]\n",
      "File \u001b[0;32m/lustre/home/mbonse/2023_s4/50_code/fours/fours/models/psf_subtraction.py:321\u001b[0m, in \u001b[0;36mFourS.fit_noise_model.<locals>.full_closure\u001b[0;34m(compute_residuals)\u001b[0m\n\u001b[1;32m    317\u001b[0m optimizer\u001b[38;5;241m.\u001b[39mzero_grad()\n\u001b[1;32m    319\u001b[0m \u001b[38;5;66;03m# 4.1) Get the residual sequence\u001b[39;00m\n\u001b[1;32m    320\u001b[0m rotated_residual_sequence, residual_sequence \u001b[38;5;241m=\u001b[39m (\n\u001b[0;32m--> 321\u001b[0m     \u001b[38;5;28;43mself\u001b[39;49m\u001b[38;5;241;43m.\u001b[39;49m\u001b[43m_get_residual_sequence\u001b[49m\u001b[43m(\u001b[49m\u001b[43m)\u001b[49m)\n\u001b[1;32m    323\u001b[0m \u001b[38;5;66;03m# 4.2) Compute the loss\u001b[39;00m\n\u001b[1;32m    324\u001b[0m loss_recon \u001b[38;5;241m=\u001b[39m torch\u001b[38;5;241m.\u001b[39mvar(rotated_residual_sequence, axis\u001b[38;5;241m=\u001b[39m\u001b[38;5;241m0\u001b[39m)\u001b[38;5;241m.\u001b[39msum()\n",
      "File \u001b[0;32m/lustre/home/mbonse/2023_s4/50_code/fours/fours/models/psf_subtraction.py:268\u001b[0m, in \u001b[0;36mFourS._get_residual_sequence\u001b[0;34m(self)\u001b[0m\n\u001b[1;32m    261\u001b[0m residual_sequence \u001b[38;5;241m=\u001b[39m science_norm_flatten \u001b[38;5;241m-\u001b[39m noise_estimate\n\u001b[1;32m    262\u001b[0m residual_sequence \u001b[38;5;241m=\u001b[39m residual_sequence\u001b[38;5;241m.\u001b[39mview(\n\u001b[1;32m    263\u001b[0m     residual_sequence\u001b[38;5;241m.\u001b[39mshape[\u001b[38;5;241m0\u001b[39m],\n\u001b[1;32m    264\u001b[0m     \u001b[38;5;241m1\u001b[39m,\n\u001b[1;32m    265\u001b[0m     \u001b[38;5;28mself\u001b[39m\u001b[38;5;241m.\u001b[39mdata_image_size,\n\u001b[1;32m    266\u001b[0m     \u001b[38;5;28mself\u001b[39m\u001b[38;5;241m.\u001b[39mdata_image_size)\n\u001b[0;32m--> 268\u001b[0m rotated_residual_sequence \u001b[38;5;241m=\u001b[39m \u001b[38;5;28;43mself\u001b[39;49m\u001b[38;5;241;43m.\u001b[39;49m\u001b[43mrotation_model\u001b[49m\u001b[43m(\u001b[49m\n\u001b[1;32m    269\u001b[0m \u001b[43m    \u001b[49m\u001b[43mresidual_sequence\u001b[49m\u001b[43m,\u001b[49m\n\u001b[1;32m    270\u001b[0m \u001b[43m    \u001b[49m\u001b[43mparang_idx\u001b[49m\u001b[38;5;241;43m=\u001b[39;49m\u001b[43mtorch\u001b[49m\u001b[38;5;241;43m.\u001b[39;49m\u001b[43marange\u001b[49m\u001b[43m(\u001b[49m\u001b[38;5;28;43mlen\u001b[39;49m\u001b[43m(\u001b[49m\u001b[43mresidual_sequence\u001b[49m\u001b[43m)\u001b[49m\u001b[43m)\u001b[49m\u001b[43m)\u001b[49m\n\u001b[1;32m    272\u001b[0m \u001b[38;5;28;01mreturn\u001b[39;00m rotated_residual_sequence, residual_sequence\n",
      "File \u001b[0;32m/lustre/home/mbonse/2023_s4/50_code/venv_s4/lib/python3.10/site-packages/torch/nn/modules/module.py:1518\u001b[0m, in \u001b[0;36mModule._wrapped_call_impl\u001b[0;34m(self, *args, **kwargs)\u001b[0m\n\u001b[1;32m   1516\u001b[0m     \u001b[38;5;28;01mreturn\u001b[39;00m \u001b[38;5;28mself\u001b[39m\u001b[38;5;241m.\u001b[39m_compiled_call_impl(\u001b[38;5;241m*\u001b[39margs, \u001b[38;5;241m*\u001b[39m\u001b[38;5;241m*\u001b[39mkwargs)  \u001b[38;5;66;03m# type: ignore[misc]\u001b[39;00m\n\u001b[1;32m   1517\u001b[0m \u001b[38;5;28;01melse\u001b[39;00m:\n\u001b[0;32m-> 1518\u001b[0m     \u001b[38;5;28;01mreturn\u001b[39;00m \u001b[38;5;28;43mself\u001b[39;49m\u001b[38;5;241;43m.\u001b[39;49m\u001b[43m_call_impl\u001b[49m\u001b[43m(\u001b[49m\u001b[38;5;241;43m*\u001b[39;49m\u001b[43margs\u001b[49m\u001b[43m,\u001b[49m\u001b[43m \u001b[49m\u001b[38;5;241;43m*\u001b[39;49m\u001b[38;5;241;43m*\u001b[39;49m\u001b[43mkwargs\u001b[49m\u001b[43m)\u001b[49m\n",
      "File \u001b[0;32m/lustre/home/mbonse/2023_s4/50_code/venv_s4/lib/python3.10/site-packages/torch/nn/modules/module.py:1527\u001b[0m, in \u001b[0;36mModule._call_impl\u001b[0;34m(self, *args, **kwargs)\u001b[0m\n\u001b[1;32m   1522\u001b[0m \u001b[38;5;66;03m# If we don't have any hooks, we want to skip the rest of the logic in\u001b[39;00m\n\u001b[1;32m   1523\u001b[0m \u001b[38;5;66;03m# this function, and just call forward.\u001b[39;00m\n\u001b[1;32m   1524\u001b[0m \u001b[38;5;28;01mif\u001b[39;00m \u001b[38;5;129;01mnot\u001b[39;00m (\u001b[38;5;28mself\u001b[39m\u001b[38;5;241m.\u001b[39m_backward_hooks \u001b[38;5;129;01mor\u001b[39;00m \u001b[38;5;28mself\u001b[39m\u001b[38;5;241m.\u001b[39m_backward_pre_hooks \u001b[38;5;129;01mor\u001b[39;00m \u001b[38;5;28mself\u001b[39m\u001b[38;5;241m.\u001b[39m_forward_hooks \u001b[38;5;129;01mor\u001b[39;00m \u001b[38;5;28mself\u001b[39m\u001b[38;5;241m.\u001b[39m_forward_pre_hooks\n\u001b[1;32m   1525\u001b[0m         \u001b[38;5;129;01mor\u001b[39;00m _global_backward_pre_hooks \u001b[38;5;129;01mor\u001b[39;00m _global_backward_hooks\n\u001b[1;32m   1526\u001b[0m         \u001b[38;5;129;01mor\u001b[39;00m _global_forward_hooks \u001b[38;5;129;01mor\u001b[39;00m _global_forward_pre_hooks):\n\u001b[0;32m-> 1527\u001b[0m     \u001b[38;5;28;01mreturn\u001b[39;00m \u001b[43mforward_call\u001b[49m\u001b[43m(\u001b[49m\u001b[38;5;241;43m*\u001b[39;49m\u001b[43margs\u001b[49m\u001b[43m,\u001b[49m\u001b[43m \u001b[49m\u001b[38;5;241;43m*\u001b[39;49m\u001b[38;5;241;43m*\u001b[39;49m\u001b[43mkwargs\u001b[49m\u001b[43m)\u001b[49m\n\u001b[1;32m   1529\u001b[0m \u001b[38;5;28;01mtry\u001b[39;00m:\n\u001b[1;32m   1530\u001b[0m     result \u001b[38;5;241m=\u001b[39m \u001b[38;5;28;01mNone\u001b[39;00m\n",
      "File \u001b[0;32m/lustre/home/mbonse/2023_s4/50_code/fours/fours/models/rotation.py:88\u001b[0m, in \u001b[0;36mFieldRotationModel.forward\u001b[0;34m(self, frame_stack, parang_idx, new_angles, output_dimensions)\u001b[0m\n\u001b[1;32m     83\u001b[0m \u001b[38;5;28;01melse\u001b[39;00m:\n\u001b[1;32m     84\u001b[0m     \u001b[38;5;66;03m# In case new angles are given we need to build a new sampler grid\u001b[39;00m\n\u001b[1;32m     85\u001b[0m     \u001b[38;5;66;03m# This is expensive and should only be used for test data\u001b[39;00m\n\u001b[1;32m     86\u001b[0m     tmp_grid \u001b[38;5;241m=\u001b[39m \u001b[38;5;28mself\u001b[39m\u001b[38;5;241m.\u001b[39m_build_grid_from_angles(new_angles, subsample\u001b[38;5;241m=\u001b[39m\u001b[38;5;241m1\u001b[39m)\n\u001b[0;32m---> 88\u001b[0m \u001b[38;5;28;01mif\u001b[39;00m \u001b[38;5;129;01mnot\u001b[39;00m \u001b[38;5;28mself\u001b[39m\u001b[38;5;241m.\u001b[39mm_register_grid \u001b[38;5;129;01mor\u001b[39;00m new_angles \u001b[38;5;129;01mis\u001b[39;00m \u001b[38;5;129;01mnot\u001b[39;00m \u001b[38;5;28;01mNone\u001b[39;00m:\n\u001b[1;32m     89\u001b[0m     tmp_grid \u001b[38;5;241m=\u001b[39m tmp_grid\u001b[38;5;241m.\u001b[39mto(frame_stack\u001b[38;5;241m.\u001b[39mdevice)\n\u001b[1;32m     91\u001b[0m \u001b[38;5;28;01mwith\u001b[39;00m torch\u001b[38;5;241m.\u001b[39mbackends\u001b[38;5;241m.\u001b[39mcudnn\u001b[38;5;241m.\u001b[39mflags(enabled\u001b[38;5;241m=\u001b[39m\u001b[38;5;28;01mFalse\u001b[39;00m):\n",
      "\u001b[0;31mKeyboardInterrupt\u001b[0m: "
     ]
    }
   ],
   "source": [
    "print(negfc.separation.item(), negfc.pos_angle.item(), negfc.magnitude.item())\n",
    "\n",
    "for j in range(20):    \n",
    "    # move everything to the GPU\n",
    "    fours_model.noise_model = fours_model.noise_model.to(0)\n",
    "    fours_model.rotation_model = fours_model.rotation_model.to(0)\n",
    "    fours_model.normalization_model = fours_model.normalization_model.to(0)\n",
    "    fours_model.noise_model.betas_raw.requires_grad = False\n",
    "    fours_model.noise_model.intercept.requires_grad = False\n",
    "    fours_model.noise_model.compute_betas()\n",
    "\n",
    "    # iterate for 200 steps\n",
    "    for i in tqdm(range(200)):\n",
    "        def closure():        \n",
    "            optimizer.zero_grad()\n",
    "            after_negfc = negfc(science_data_torch_with_planet)\n",
    "            after_pca_neg_fc = fours_model.forward(after_negfc)\n",
    "            loss = torch.sum(after_pca_neg_fc**2)\n",
    "            loss.backward()\n",
    "\n",
    "            return loss\n",
    "\n",
    "        optimizer.step(closure)\n",
    "        \n",
    "    fours_model.noise_model.betas_raw.requires_grad = True\n",
    "    fours_model.noise_model.intercept.requires_grad = True\n",
    "    print(negfc.separation.item(), negfc.pos_angle.item(), negfc.magnitude.item())\n",
    "    after_negfc = negfc(science_data_torch_with_planet)    \n",
    "    \n",
    "    fours_model.update_noise_model(\n",
    "        images=after_negfc.detach(),\n",
    "        num_epochs=50,\n",
    "        training_name=\"update_\" + str(j+1),\n",
    "        logging_interval=10)"
   ]
  },
  {
   "cell_type": "code",
   "execution_count": null,
   "id": "dd2475a59d3fa87c",
   "metadata": {},
   "outputs": [],
   "source": [
    "print(negfc.separation.item(), negfc.pos_angle.item(), negfc.magnitude.item())"
   ]
  },
  {
   "cell_type": "code",
   "execution_count": null,
   "id": "e7b30272ca8b167e",
   "metadata": {},
   "outputs": [],
   "source": []
  }
 ],
 "metadata": {
  "kernelspec": {
   "display_name": "Python 3 (ipykernel)",
   "language": "python",
   "name": "python3"
  },
  "language_info": {
   "codemirror_mode": {
    "name": "ipython",
    "version": 3
   },
   "file_extension": ".py",
   "mimetype": "text/x-python",
   "name": "python",
   "nbconvert_exporter": "python",
   "pygments_lexer": "ipython3",
   "version": "3.10.10"
  }
 },
 "nbformat": 4,
 "nbformat_minor": 5
}
