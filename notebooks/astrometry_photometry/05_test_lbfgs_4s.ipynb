{
 "cells": [
  {
   "cell_type": "code",
   "execution_count": 1,
   "id": "initial_id",
   "metadata": {
    "ExecuteTime": {
     "end_time": "2024-09-14T17:27:15.461835Z",
     "start_time": "2024-09-14T17:27:09.264770Z"
    }
   },
   "outputs": [],
   "source": [
    "import json\n",
    "import numpy as np\n",
    "from pathlib import Path\n",
    "import matplotlib.pyplot as plt\n",
    "\n",
    "import torch\n",
    "\n",
    "# imports to load some data\n",
    "from fours.utils.data_handling import load_adi_data\n",
    "\n",
    "from applefy.utils.fake_planets import add_fake_planets\n",
    "from applefy.utils.photometry import flux_ratio2mag, mag2flux_ratio\n",
    "\n",
    "from pynpoint.util.analysis import fake_planet"
   ]
  },
  {
   "cell_type": "markdown",
   "id": "7b1bbbccac868bb9",
   "metadata": {},
   "source": [
    "# Load the data"
   ]
  },
  {
   "cell_type": "code",
   "execution_count": 2,
   "id": "adc508182f6d7517",
   "metadata": {
    "ExecuteTime": {
     "end_time": "2024-09-14T17:27:15.466488Z",
     "start_time": "2024-09-14T17:27:15.463442Z"
    }
   },
   "outputs": [],
   "source": [
    "dataset_file = Path(\"/fast/mbonse/s4/30_data/s4_datasets/HD22049_303_199_C-0065_C_.hdf5\")\n",
    "experiment_root_dir = Path(\"/fast/mbonse/s4/70_results/01_position_flux/implementation_tests/\")\n",
    "exp_id = str(\"0123a\")\n",
    "use_rotation_loss = True\n",
    "lambda_reg = float(850)"
   ]
  },
  {
   "cell_type": "code",
   "execution_count": 3,
   "id": "22ac161238c86727",
   "metadata": {
    "ExecuteTime": {
     "end_time": "2024-09-14T17:27:16.413970Z",
     "start_time": "2024-09-14T17:27:15.467228Z"
    }
   },
   "outputs": [],
   "source": [
    "science_data, angles, raw_psf_template_data = \\\n",
    "    load_adi_data(\n",
    "        hdf5_dataset=str(dataset_file),\n",
    "        data_tag=\"object_stacked_05\",\n",
    "        psf_template_tag=\"psf_template\",\n",
    "        para_tag=\"header_object_stacked_05/PARANG\")\n",
    "\n",
    "psf_template = np.median(raw_psf_template_data, axis=0)\n",
    "\n",
    "# other parameters\n",
    "dit_psf_template = 0.0042560\n",
    "dit_science = 0.08\n",
    "fwhm = 3.6\n",
    "pixel_scale = 0.02718\n",
    "\n",
    "# we cut the image to 91 x 91 pixel to be slightly larger than 1.2 arcsec\n",
    "cut_off = int((science_data.shape[1] - 91) / 2)\n",
    "science_data = science_data[:, cut_off:-cut_off, cut_off:-cut_off]"
   ]
  },
  {
   "cell_type": "code",
   "execution_count": 4,
   "id": "517f2e89a4372319",
   "metadata": {
    "ExecuteTime": {
     "end_time": "2024-09-14T17:27:16.419317Z",
     "start_time": "2024-09-14T17:27:16.415575Z"
    }
   },
   "outputs": [],
   "source": [
    "dataset_id = \"0115b\"\n",
    "\n",
    "# add the fake planet\n",
    "fake_planet_config_file = \"/fast/mbonse/s4/70_results/x1_fake_planet_experiments/HD22049_303_199_C-0065_C_/configs_cgrid/exp_ID_\" + exp_id + \".json\"\n",
    "with open(fake_planet_config_file) as json_file:\n",
    "    fake_planet_config = json.load(json_file)"
   ]
  },
  {
   "cell_type": "code",
   "execution_count": 5,
   "id": "24c83552417ea17c",
   "metadata": {
    "ExecuteTime": {
     "end_time": "2024-09-14T17:27:16.428482Z",
     "start_time": "2024-09-14T17:27:16.420038Z"
    }
   },
   "outputs": [],
   "source": [
    "fake_planet_config[\"flux_ratio\"] = mag2flux_ratio(12.)\n",
    "fake_planet_config[\"separation\"] = 30\n",
    "fake_planet_config[\"planet_position\"] = [0., 0., 30, 20.]"
   ]
  },
  {
   "cell_type": "code",
   "execution_count": 6,
   "id": "451814b10a21255e",
   "metadata": {
    "ExecuteTime": {
     "end_time": "2024-09-14T17:27:25.113512Z",
     "start_time": "2024-09-14T17:27:16.429216Z"
    }
   },
   "outputs": [],
   "source": [
    "data_with_fake_planet = add_fake_planets(\n",
    "    input_stack=science_data,\n",
    "    psf_template=psf_template,\n",
    "    parang=angles - np.pi/2, # the pi/2 is to correct the parang to the north\n",
    "    dit_psf_template=dit_psf_template,\n",
    "    dit_science=dit_science,\n",
    "    experiment_config=fake_planet_config,\n",
    "    scaling_factor=1.0)"
   ]
  },
  {
   "cell_type": "code",
   "execution_count": 7,
   "id": "5bc07480c80abca9",
   "metadata": {
    "ExecuteTime": {
     "end_time": "2024-09-14T17:27:25.243918Z",
     "start_time": "2024-09-14T17:27:25.114861Z"
    }
   },
   "outputs": [],
   "source": [
    "science_data_torch_with_planet = torch.from_numpy(data_with_fake_planet).float()"
   ]
  },
  {
   "cell_type": "markdown",
   "id": "715b6b0b40587c2d",
   "metadata": {},
   "source": [
    "# Import the noise models"
   ]
  },
  {
   "cell_type": "code",
   "execution_count": 8,
   "id": "724dba9b29d29f69",
   "metadata": {
    "ExecuteTime": {
     "end_time": "2024-09-14T17:27:25.433890Z",
     "start_time": "2024-09-14T17:27:25.245156Z"
    }
   },
   "outputs": [],
   "source": [
    "from fours.position_flux.pca import PCANoiseModel\n",
    "from fours.position_flux.negfc import NegFC\n",
    "from fours.models.psf_subtraction import FourS\n",
    "from fours.position_flux.loss_functions import NegFCLoss\n",
    "\n",
    "from tqdm import tqdm\n",
    "from torch import optim"
   ]
  },
  {
   "cell_type": "markdown",
   "id": "93ab19ad10431d64",
   "metadata": {},
   "source": [
    "# run a test with PCA"
   ]
  },
  {
   "cell_type": "code",
   "execution_count": 9,
   "id": "33df3c6a6db573ac",
   "metadata": {
    "ExecuteTime": {
     "end_time": "2024-09-14T13:34:33.612434Z",
     "start_time": "2024-09-14T13:34:33.394601Z"
    }
   },
   "outputs": [],
   "source": [
    "pca_model = PCANoiseModel(\n",
    "    angles=angles,\n",
    "    image_shape=science_data.shape[1],\n",
    "    pca_number=200,\n",
    "    approx_svd=5000)"
   ]
  },
  {
   "cell_type": "code",
   "execution_count": 10,
   "id": "c79216dc5c9ddca5",
   "metadata": {
    "ExecuteTime": {
     "end_time": "2024-09-14T13:34:33.616765Z",
     "start_time": "2024-09-14T13:34:33.614018Z"
    }
   },
   "outputs": [],
   "source": [
    "# create the NegFC model\n",
    "negfc = NegFC(\n",
    "    psf_template=psf_template,\n",
    "    all_angles=angles,\n",
    "    input_size=science_data.shape[1],\n",
    "    init_separation=fake_planet_config[\"separation\"] + 2,\n",
    "    init_pos_angle=fake_planet_config[\"planet_position\"][-1] - 2,\n",
    "    init_magnitude=11.5,\n",
    "    dit_science=dit_science,\n",
    "    dit_psf_template=dit_psf_template,\n",
    "    nd_factor=1.0,\n",
    "    interpolation=\"bicubic\",)"
   ]
  },
  {
   "cell_type": "code",
   "execution_count": 11,
   "id": "27c68bd53fab66cf",
   "metadata": {
    "ExecuteTime": {
     "end_time": "2024-09-14T13:34:33.627537Z",
     "start_time": "2024-09-14T13:34:33.617546Z"
    },
    "collapsed": false
   },
   "outputs": [],
   "source": [
    "# create the loss function\n",
    "negfc_loss = NegFCLoss(\n",
    "    residual_shape=science_data.shape[1:],\n",
    "    separation_pixel=fake_planet_config[\"separation\"],\n",
    "    pos_angle_deg=fake_planet_config[\"planet_position\"][-1],\n",
    "    aperture_radius=10,\n",
    "    metric_function=\"hessian\")"
   ]
  },
  {
   "cell_type": "code",
   "execution_count": 12,
   "id": "cc3a6a314dd99c42",
   "metadata": {
    "ExecuteTime": {
     "end_time": "2024-09-14T13:34:34.555720Z",
     "start_time": "2024-09-14T13:34:33.628512Z"
    }
   },
   "outputs": [],
   "source": [
    "# move everything to the GPU\n",
    "science_data_torch_with_planet = science_data_torch_with_planet.to(0)\n",
    "negfc = negfc.to(0)\n",
    "pca_model = pca_model.to(0)\n",
    "negfc_loss = negfc_loss.to(0)"
   ]
  },
  {
   "cell_type": "code",
   "execution_count": 36,
   "id": "b30d528743322f4a",
   "metadata": {
    "ExecuteTime": {
     "end_time": "2024-09-14T15:17:15.019325Z",
     "start_time": "2024-09-14T15:17:15.012943Z"
    }
   },
   "outputs": [],
   "source": [
    "input_data = science_data_torch_with_planet\n",
    "\n",
    "# create the optimizer\n",
    "optimizer_kwargs = {\n",
    "    \"max_iter\": 20,\n",
    "    \"history_size\": 10}\n",
    "\n",
    "optimizer = optim.LBFGS(\n",
    "    negfc.parameters(),\n",
    "    **optimizer_kwargs)"
   ]
  },
  {
   "cell_type": "code",
   "execution_count": 37,
   "id": "9987741afcc439e1",
   "metadata": {
    "ExecuteTime": {
     "end_time": "2024-09-14T15:17:28.601762Z",
     "start_time": "2024-09-14T15:17:15.594005Z"
    }
   },
   "outputs": [
    {
     "name": "stdout",
     "output_type": "stream",
     "text": [
      "31.97163200378418 18.002296447753906 11.571259498596191\n",
      "31.327606201171875 19.144691467285156 11.924256324768066\n",
      "30.768407821655273 19.97575569152832 12.091241836547852\n"
     ]
    },
    {
     "ename": "KeyboardInterrupt",
     "evalue": "",
     "output_type": "error",
     "traceback": [
      "\u001b[0;31m---------------------------------------------------------------------------\u001b[0m",
      "\u001b[0;31mKeyboardInterrupt\u001b[0m                         Traceback (most recent call last)",
      "Cell \u001b[0;32mIn[37], line 18\u001b[0m\n\u001b[1;32m     15\u001b[0m     loss\u001b[38;5;241m.\u001b[39mbackward()\n\u001b[1;32m     16\u001b[0m     \u001b[38;5;28;01mreturn\u001b[39;00m loss\n\u001b[0;32m---> 18\u001b[0m \u001b[43moptimizer\u001b[49m\u001b[38;5;241;43m.\u001b[39;49m\u001b[43mstep\u001b[49m\u001b[43m(\u001b[49m\u001b[43mclosure\u001b[49m\u001b[43m)\u001b[49m\n",
      "File \u001b[0;32m/lustre/home/mbonse/2023_s4/50_code/venv_s4/lib/python3.10/site-packages/torch/optim/optimizer.py:373\u001b[0m, in \u001b[0;36mOptimizer.profile_hook_step.<locals>.wrapper\u001b[0;34m(*args, **kwargs)\u001b[0m\n\u001b[1;32m    368\u001b[0m         \u001b[38;5;28;01melse\u001b[39;00m:\n\u001b[1;32m    369\u001b[0m             \u001b[38;5;28;01mraise\u001b[39;00m \u001b[38;5;167;01mRuntimeError\u001b[39;00m(\n\u001b[1;32m    370\u001b[0m                 \u001b[38;5;124mf\u001b[39m\u001b[38;5;124m\"\u001b[39m\u001b[38;5;132;01m{\u001b[39;00mfunc\u001b[38;5;132;01m}\u001b[39;00m\u001b[38;5;124m must return None or a tuple of (new_args, new_kwargs), but got \u001b[39m\u001b[38;5;132;01m{\u001b[39;00mresult\u001b[38;5;132;01m}\u001b[39;00m\u001b[38;5;124m.\u001b[39m\u001b[38;5;124m\"\u001b[39m\n\u001b[1;32m    371\u001b[0m             )\n\u001b[0;32m--> 373\u001b[0m out \u001b[38;5;241m=\u001b[39m \u001b[43mfunc\u001b[49m\u001b[43m(\u001b[49m\u001b[38;5;241;43m*\u001b[39;49m\u001b[43margs\u001b[49m\u001b[43m,\u001b[49m\u001b[43m \u001b[49m\u001b[38;5;241;43m*\u001b[39;49m\u001b[38;5;241;43m*\u001b[39;49m\u001b[43mkwargs\u001b[49m\u001b[43m)\u001b[49m\n\u001b[1;32m    374\u001b[0m \u001b[38;5;28mself\u001b[39m\u001b[38;5;241m.\u001b[39m_optimizer_step_code()\n\u001b[1;32m    376\u001b[0m \u001b[38;5;66;03m# call optimizer step post hooks\u001b[39;00m\n",
      "File \u001b[0;32m/lustre/home/mbonse/2023_s4/50_code/venv_s4/lib/python3.10/site-packages/torch/utils/_contextlib.py:115\u001b[0m, in \u001b[0;36mcontext_decorator.<locals>.decorate_context\u001b[0;34m(*args, **kwargs)\u001b[0m\n\u001b[1;32m    112\u001b[0m \u001b[38;5;129m@functools\u001b[39m\u001b[38;5;241m.\u001b[39mwraps(func)\n\u001b[1;32m    113\u001b[0m \u001b[38;5;28;01mdef\u001b[39;00m \u001b[38;5;21mdecorate_context\u001b[39m(\u001b[38;5;241m*\u001b[39margs, \u001b[38;5;241m*\u001b[39m\u001b[38;5;241m*\u001b[39mkwargs):\n\u001b[1;32m    114\u001b[0m     \u001b[38;5;28;01mwith\u001b[39;00m ctx_factory():\n\u001b[0;32m--> 115\u001b[0m         \u001b[38;5;28;01mreturn\u001b[39;00m \u001b[43mfunc\u001b[49m\u001b[43m(\u001b[49m\u001b[38;5;241;43m*\u001b[39;49m\u001b[43margs\u001b[49m\u001b[43m,\u001b[49m\u001b[43m \u001b[49m\u001b[38;5;241;43m*\u001b[39;49m\u001b[38;5;241;43m*\u001b[39;49m\u001b[43mkwargs\u001b[49m\u001b[43m)\u001b[49m\n",
      "File \u001b[0;32m/lustre/home/mbonse/2023_s4/50_code/venv_s4/lib/python3.10/site-packages/torch/optim/lbfgs.py:312\u001b[0m, in \u001b[0;36mLBFGS.step\u001b[0;34m(self, closure)\u001b[0m\n\u001b[1;32m    309\u001b[0m state\u001b[38;5;241m.\u001b[39msetdefault(\u001b[38;5;124m'\u001b[39m\u001b[38;5;124mn_iter\u001b[39m\u001b[38;5;124m'\u001b[39m, \u001b[38;5;241m0\u001b[39m)\n\u001b[1;32m    311\u001b[0m \u001b[38;5;66;03m# evaluate initial f(x) and df/dx\u001b[39;00m\n\u001b[0;32m--> 312\u001b[0m orig_loss \u001b[38;5;241m=\u001b[39m \u001b[43mclosure\u001b[49m\u001b[43m(\u001b[49m\u001b[43m)\u001b[49m\n\u001b[1;32m    313\u001b[0m loss \u001b[38;5;241m=\u001b[39m \u001b[38;5;28mfloat\u001b[39m(orig_loss)\n\u001b[1;32m    314\u001b[0m current_evals \u001b[38;5;241m=\u001b[39m \u001b[38;5;241m1\u001b[39m\n",
      "File \u001b[0;32m/lustre/home/mbonse/2023_s4/50_code/venv_s4/lib/python3.10/site-packages/torch/utils/_contextlib.py:115\u001b[0m, in \u001b[0;36mcontext_decorator.<locals>.decorate_context\u001b[0;34m(*args, **kwargs)\u001b[0m\n\u001b[1;32m    112\u001b[0m \u001b[38;5;129m@functools\u001b[39m\u001b[38;5;241m.\u001b[39mwraps(func)\n\u001b[1;32m    113\u001b[0m \u001b[38;5;28;01mdef\u001b[39;00m \u001b[38;5;21mdecorate_context\u001b[39m(\u001b[38;5;241m*\u001b[39margs, \u001b[38;5;241m*\u001b[39m\u001b[38;5;241m*\u001b[39mkwargs):\n\u001b[1;32m    114\u001b[0m     \u001b[38;5;28;01mwith\u001b[39;00m ctx_factory():\n\u001b[0;32m--> 115\u001b[0m         \u001b[38;5;28;01mreturn\u001b[39;00m \u001b[43mfunc\u001b[49m\u001b[43m(\u001b[49m\u001b[38;5;241;43m*\u001b[39;49m\u001b[43margs\u001b[49m\u001b[43m,\u001b[49m\u001b[43m \u001b[49m\u001b[38;5;241;43m*\u001b[39;49m\u001b[38;5;241;43m*\u001b[39;49m\u001b[43mkwargs\u001b[49m\u001b[43m)\u001b[49m\n",
      "Cell \u001b[0;32mIn[37], line 11\u001b[0m, in \u001b[0;36mclosure\u001b[0;34m()\u001b[0m\n\u001b[1;32m      9\u001b[0m optimizer\u001b[38;5;241m.\u001b[39mzero_grad()\n\u001b[1;32m     10\u001b[0m after_negfc \u001b[38;5;241m=\u001b[39m negfc(science_data_torch_with_planet)\n\u001b[0;32m---> 11\u001b[0m after_pca_neg_fc \u001b[38;5;241m=\u001b[39m \u001b[43mpca_model\u001b[49m\u001b[43m(\u001b[49m\u001b[43mafter_negfc\u001b[49m\u001b[43m)\u001b[49m\n\u001b[1;32m     13\u001b[0m \u001b[38;5;66;03m# apply the loss function\u001b[39;00m\n\u001b[1;32m     14\u001b[0m loss \u001b[38;5;241m=\u001b[39m negfc_loss(after_pca_neg_fc)\n",
      "File \u001b[0;32m/lustre/home/mbonse/2023_s4/50_code/venv_s4/lib/python3.10/site-packages/torch/nn/modules/module.py:1518\u001b[0m, in \u001b[0;36mModule._wrapped_call_impl\u001b[0;34m(self, *args, **kwargs)\u001b[0m\n\u001b[1;32m   1516\u001b[0m     \u001b[38;5;28;01mreturn\u001b[39;00m \u001b[38;5;28mself\u001b[39m\u001b[38;5;241m.\u001b[39m_compiled_call_impl(\u001b[38;5;241m*\u001b[39margs, \u001b[38;5;241m*\u001b[39m\u001b[38;5;241m*\u001b[39mkwargs)  \u001b[38;5;66;03m# type: ignore[misc]\u001b[39;00m\n\u001b[1;32m   1517\u001b[0m \u001b[38;5;28;01melse\u001b[39;00m:\n\u001b[0;32m-> 1518\u001b[0m     \u001b[38;5;28;01mreturn\u001b[39;00m \u001b[38;5;28;43mself\u001b[39;49m\u001b[38;5;241;43m.\u001b[39;49m\u001b[43m_call_impl\u001b[49m\u001b[43m(\u001b[49m\u001b[38;5;241;43m*\u001b[39;49m\u001b[43margs\u001b[49m\u001b[43m,\u001b[49m\u001b[43m \u001b[49m\u001b[38;5;241;43m*\u001b[39;49m\u001b[38;5;241;43m*\u001b[39;49m\u001b[43mkwargs\u001b[49m\u001b[43m)\u001b[49m\n",
      "File \u001b[0;32m/lustre/home/mbonse/2023_s4/50_code/venv_s4/lib/python3.10/site-packages/torch/nn/modules/module.py:1527\u001b[0m, in \u001b[0;36mModule._call_impl\u001b[0;34m(self, *args, **kwargs)\u001b[0m\n\u001b[1;32m   1522\u001b[0m \u001b[38;5;66;03m# If we don't have any hooks, we want to skip the rest of the logic in\u001b[39;00m\n\u001b[1;32m   1523\u001b[0m \u001b[38;5;66;03m# this function, and just call forward.\u001b[39;00m\n\u001b[1;32m   1524\u001b[0m \u001b[38;5;28;01mif\u001b[39;00m \u001b[38;5;129;01mnot\u001b[39;00m (\u001b[38;5;28mself\u001b[39m\u001b[38;5;241m.\u001b[39m_backward_hooks \u001b[38;5;129;01mor\u001b[39;00m \u001b[38;5;28mself\u001b[39m\u001b[38;5;241m.\u001b[39m_backward_pre_hooks \u001b[38;5;129;01mor\u001b[39;00m \u001b[38;5;28mself\u001b[39m\u001b[38;5;241m.\u001b[39m_forward_hooks \u001b[38;5;129;01mor\u001b[39;00m \u001b[38;5;28mself\u001b[39m\u001b[38;5;241m.\u001b[39m_forward_pre_hooks\n\u001b[1;32m   1525\u001b[0m         \u001b[38;5;129;01mor\u001b[39;00m _global_backward_pre_hooks \u001b[38;5;129;01mor\u001b[39;00m _global_backward_hooks\n\u001b[1;32m   1526\u001b[0m         \u001b[38;5;129;01mor\u001b[39;00m _global_forward_hooks \u001b[38;5;129;01mor\u001b[39;00m _global_forward_pre_hooks):\n\u001b[0;32m-> 1527\u001b[0m     \u001b[38;5;28;01mreturn\u001b[39;00m \u001b[43mforward_call\u001b[49m\u001b[43m(\u001b[49m\u001b[38;5;241;43m*\u001b[39;49m\u001b[43margs\u001b[49m\u001b[43m,\u001b[49m\u001b[43m \u001b[49m\u001b[38;5;241;43m*\u001b[39;49m\u001b[38;5;241;43m*\u001b[39;49m\u001b[43mkwargs\u001b[49m\u001b[43m)\u001b[49m\n\u001b[1;32m   1529\u001b[0m \u001b[38;5;28;01mtry\u001b[39;00m:\n\u001b[1;32m   1530\u001b[0m     result \u001b[38;5;241m=\u001b[39m \u001b[38;5;28;01mNone\u001b[39;00m\n",
      "File \u001b[0;32m/lustre/home/mbonse/2023_s4/50_code/fours/fours/position_flux/pca.py:82\u001b[0m, in \u001b[0;36mPCANoiseModel.forward\u001b[0;34m(self, images)\u001b[0m\n\u001b[1;32m     76\u001b[0m residual_sequence \u001b[38;5;241m=\u001b[39m residual\u001b[38;5;241m.\u001b[39mview(\n\u001b[1;32m     77\u001b[0m     images\u001b[38;5;241m.\u001b[39mshape[\u001b[38;5;241m0\u001b[39m],\n\u001b[1;32m     78\u001b[0m     \u001b[38;5;28mself\u001b[39m\u001b[38;5;241m.\u001b[39mm_image_shape,\n\u001b[1;32m     79\u001b[0m     \u001b[38;5;28mself\u001b[39m\u001b[38;5;241m.\u001b[39mm_image_shape)\n\u001b[1;32m     81\u001b[0m \u001b[38;5;66;03m# 3.) rotate the frames\u001b[39;00m\n\u001b[0;32m---> 82\u001b[0m rotated_frames \u001b[38;5;241m=\u001b[39m \u001b[38;5;28;43mself\u001b[39;49m\u001b[38;5;241;43m.\u001b[39;49m\u001b[43mrotation_model\u001b[49m\u001b[43m(\u001b[49m\n\u001b[1;32m     83\u001b[0m \u001b[43m    \u001b[49m\u001b[43mresidual_sequence\u001b[49m\u001b[38;5;241;43m.\u001b[39;49m\u001b[43munsqueeze\u001b[49m\u001b[43m(\u001b[49m\u001b[38;5;241;43m1\u001b[39;49m\u001b[43m)\u001b[49m\u001b[38;5;241;43m.\u001b[39;49m\u001b[43mfloat\u001b[49m\u001b[43m(\u001b[49m\u001b[43m)\u001b[49m\u001b[43m,\u001b[49m\n\u001b[1;32m     84\u001b[0m \u001b[43m    \u001b[49m\u001b[43mparang_idx\u001b[49m\u001b[38;5;241;43m=\u001b[39;49m\u001b[43mtorch\u001b[49m\u001b[38;5;241;43m.\u001b[39;49m\u001b[43marange\u001b[49m\u001b[43m(\u001b[49m\u001b[38;5;28;43mlen\u001b[39;49m\u001b[43m(\u001b[49m\u001b[43mresidual_sequence\u001b[49m\u001b[43m)\u001b[49m\u001b[43m)\u001b[49m\u001b[43m)\u001b[49m\u001b[38;5;241m.\u001b[39msqueeze(\u001b[38;5;241m1\u001b[39m)\n\u001b[1;32m     86\u001b[0m \u001b[38;5;66;03m# 4.) average along the time axis\u001b[39;00m\n\u001b[1;32m     87\u001b[0m \u001b[38;5;28;01mreturn\u001b[39;00m rotated_frames\u001b[38;5;241m.\u001b[39mmean(dim\u001b[38;5;241m=\u001b[39m\u001b[38;5;241m0\u001b[39m)\n",
      "File \u001b[0;32m/lustre/home/mbonse/2023_s4/50_code/venv_s4/lib/python3.10/site-packages/torch/nn/modules/module.py:1518\u001b[0m, in \u001b[0;36mModule._wrapped_call_impl\u001b[0;34m(self, *args, **kwargs)\u001b[0m\n\u001b[1;32m   1516\u001b[0m     \u001b[38;5;28;01mreturn\u001b[39;00m \u001b[38;5;28mself\u001b[39m\u001b[38;5;241m.\u001b[39m_compiled_call_impl(\u001b[38;5;241m*\u001b[39margs, \u001b[38;5;241m*\u001b[39m\u001b[38;5;241m*\u001b[39mkwargs)  \u001b[38;5;66;03m# type: ignore[misc]\u001b[39;00m\n\u001b[1;32m   1517\u001b[0m \u001b[38;5;28;01melse\u001b[39;00m:\n\u001b[0;32m-> 1518\u001b[0m     \u001b[38;5;28;01mreturn\u001b[39;00m \u001b[38;5;28;43mself\u001b[39;49m\u001b[38;5;241;43m.\u001b[39;49m\u001b[43m_call_impl\u001b[49m\u001b[43m(\u001b[49m\u001b[38;5;241;43m*\u001b[39;49m\u001b[43margs\u001b[49m\u001b[43m,\u001b[49m\u001b[43m \u001b[49m\u001b[38;5;241;43m*\u001b[39;49m\u001b[38;5;241;43m*\u001b[39;49m\u001b[43mkwargs\u001b[49m\u001b[43m)\u001b[49m\n",
      "File \u001b[0;32m/lustre/home/mbonse/2023_s4/50_code/venv_s4/lib/python3.10/site-packages/torch/nn/modules/module.py:1527\u001b[0m, in \u001b[0;36mModule._call_impl\u001b[0;34m(self, *args, **kwargs)\u001b[0m\n\u001b[1;32m   1522\u001b[0m \u001b[38;5;66;03m# If we don't have any hooks, we want to skip the rest of the logic in\u001b[39;00m\n\u001b[1;32m   1523\u001b[0m \u001b[38;5;66;03m# this function, and just call forward.\u001b[39;00m\n\u001b[1;32m   1524\u001b[0m \u001b[38;5;28;01mif\u001b[39;00m \u001b[38;5;129;01mnot\u001b[39;00m (\u001b[38;5;28mself\u001b[39m\u001b[38;5;241m.\u001b[39m_backward_hooks \u001b[38;5;129;01mor\u001b[39;00m \u001b[38;5;28mself\u001b[39m\u001b[38;5;241m.\u001b[39m_backward_pre_hooks \u001b[38;5;129;01mor\u001b[39;00m \u001b[38;5;28mself\u001b[39m\u001b[38;5;241m.\u001b[39m_forward_hooks \u001b[38;5;129;01mor\u001b[39;00m \u001b[38;5;28mself\u001b[39m\u001b[38;5;241m.\u001b[39m_forward_pre_hooks\n\u001b[1;32m   1525\u001b[0m         \u001b[38;5;129;01mor\u001b[39;00m _global_backward_pre_hooks \u001b[38;5;129;01mor\u001b[39;00m _global_backward_hooks\n\u001b[1;32m   1526\u001b[0m         \u001b[38;5;129;01mor\u001b[39;00m _global_forward_hooks \u001b[38;5;129;01mor\u001b[39;00m _global_forward_pre_hooks):\n\u001b[0;32m-> 1527\u001b[0m     \u001b[38;5;28;01mreturn\u001b[39;00m \u001b[43mforward_call\u001b[49m\u001b[43m(\u001b[49m\u001b[38;5;241;43m*\u001b[39;49m\u001b[43margs\u001b[49m\u001b[43m,\u001b[49m\u001b[43m \u001b[49m\u001b[38;5;241;43m*\u001b[39;49m\u001b[38;5;241;43m*\u001b[39;49m\u001b[43mkwargs\u001b[49m\u001b[43m)\u001b[49m\n\u001b[1;32m   1529\u001b[0m \u001b[38;5;28;01mtry\u001b[39;00m:\n\u001b[1;32m   1530\u001b[0m     result \u001b[38;5;241m=\u001b[39m \u001b[38;5;28;01mNone\u001b[39;00m\n",
      "File \u001b[0;32m/lustre/home/mbonse/2023_s4/50_code/fours/fours/models/rotation.py:88\u001b[0m, in \u001b[0;36mFieldRotationModel.forward\u001b[0;34m(self, frame_stack, parang_idx, new_angles, output_dimensions)\u001b[0m\n\u001b[1;32m     83\u001b[0m \u001b[38;5;28;01melse\u001b[39;00m:\n\u001b[1;32m     84\u001b[0m     \u001b[38;5;66;03m# In case new angles are given we need to build a new sampler grid\u001b[39;00m\n\u001b[1;32m     85\u001b[0m     \u001b[38;5;66;03m# This is expensive and should only be used for test data\u001b[39;00m\n\u001b[1;32m     86\u001b[0m     tmp_grid \u001b[38;5;241m=\u001b[39m \u001b[38;5;28mself\u001b[39m\u001b[38;5;241m.\u001b[39m_build_grid_from_angles(new_angles, subsample\u001b[38;5;241m=\u001b[39m\u001b[38;5;241m1\u001b[39m)\n\u001b[0;32m---> 88\u001b[0m \u001b[38;5;28;01mif\u001b[39;00m \u001b[38;5;129;01mnot\u001b[39;00m \u001b[38;5;28mself\u001b[39m\u001b[38;5;241m.\u001b[39mm_register_grid \u001b[38;5;129;01mor\u001b[39;00m new_angles \u001b[38;5;129;01mis\u001b[39;00m \u001b[38;5;129;01mnot\u001b[39;00m \u001b[38;5;28;01mNone\u001b[39;00m:\n\u001b[1;32m     89\u001b[0m     tmp_grid \u001b[38;5;241m=\u001b[39m tmp_grid\u001b[38;5;241m.\u001b[39mto(frame_stack\u001b[38;5;241m.\u001b[39mdevice)\n\u001b[1;32m     91\u001b[0m \u001b[38;5;28;01mwith\u001b[39;00m torch\u001b[38;5;241m.\u001b[39mbackends\u001b[38;5;241m.\u001b[39mcudnn\u001b[38;5;241m.\u001b[39mflags(enabled\u001b[38;5;241m=\u001b[39m\u001b[38;5;28;01mFalse\u001b[39;00m):\n",
      "\u001b[0;31mKeyboardInterrupt\u001b[0m: "
     ]
    }
   ],
   "source": [
    "for j in range(30):\n",
    "    print(negfc.separation.item(), negfc.pos_angle.item(), negfc.magnitude.item())\n",
    "    after_negfc = negfc(science_data_torch_with_planet)\n",
    "    pca_model.update_noise_model(after_negfc)\n",
    "\n",
    "    # iterate for 100 steps\n",
    "    for i in range(20):\n",
    "        def closure():        \n",
    "            optimizer.zero_grad()\n",
    "            after_negfc = negfc(science_data_torch_with_planet)\n",
    "            after_pca_neg_fc = pca_model(after_negfc)\n",
    "            \n",
    "            # apply the loss function\n",
    "            loss = negfc_loss(after_pca_neg_fc)\n",
    "            loss.backward()\n",
    "            return loss\n",
    "\n",
    "        optimizer.step(closure)"
   ]
  },
  {
   "cell_type": "code",
   "execution_count": 15,
   "id": "94862739f62bd280",
   "metadata": {
    "ExecuteTime": {
     "end_time": "2024-09-14T13:36:42.664795Z",
     "start_time": "2024-09-14T13:36:42.660142Z"
    }
   },
   "outputs": [
    {
     "name": "stdout",
     "output_type": "stream",
     "text": [
      "0.0932798870667213\n",
      "0.04365737891630772\n",
      "0.020438194274902344\n"
     ]
    }
   ],
   "source": [
    "x_shift_res = negfc.separation.item() * np.cos(np.deg2rad(negfc.pos_angle.item()))\n",
    "y_shift_res = negfc.separation.item() * np.sin(np.deg2rad(negfc.pos_angle.item()))\n",
    "\n",
    "x_shift = 30 * np.cos(np.deg2rad(20))\n",
    "y_shift = 30 * np.sin(np.deg2rad(20))\n",
    "\n",
    "print(np.abs(y_shift - y_shift_res))\n",
    "print(np.abs(x_shift - x_shift_res))\n",
    "print(np.abs(negfc.magnitude.item() - 12))"
   ]
  },
  {
   "cell_type": "code",
   "execution_count": 39,
   "id": "f339b3db4d12e19d",
   "metadata": {
    "ExecuteTime": {
     "end_time": "2024-09-14T17:58:11.582703Z",
     "start_time": "2024-09-14T17:58:11.567335Z"
    },
    "collapsed": false
   },
   "outputs": [],
   "source": [
    "import torch\n",
    "import torch.nn.functional as F\n",
    "\n",
    "\n",
    "from fours.utils.masks import create_aperture_mask\n",
    "\n",
    "\n",
    "# code needed for the calculation of the hessian\n",
    "def gaussian_kernel1d(sigma, order, radius):\n",
    "    \"\"\"Create a 1D Gaussian kernel of a given order and sigma.\"\"\"\n",
    "    x = torch.arange(-radius, radius + 1, dtype=torch.float32)\n",
    "    if order == 0:\n",
    "        kernel = torch.exp(-0.5 * (x / sigma) ** 2)\n",
    "    elif order == 1:\n",
    "        kernel = -x / sigma ** 2 * torch.exp(-0.5 * (x / sigma) ** 2)\n",
    "    elif order == 2:\n",
    "        kernel = (x ** 2 / sigma ** 4 - 1 / sigma ** 2) * torch.exp(\n",
    "            -0.5 * (x / sigma) ** 2)\n",
    "    else:\n",
    "        raise ValueError('Order must be 0, 1, or 2')\n",
    "    kernel /= kernel.abs().sum()\n",
    "    return kernel\n",
    "\n",
    "\n",
    "def gaussian_kernel2d(sigma, order_x, order_y, radius):\n",
    "    \"\"\"Create a 2D Gaussian kernel by computing the outer product of two 1D Gaussian kernels.\"\"\"\n",
    "    kernel_x = gaussian_kernel1d(sigma, order_x, radius)\n",
    "    kernel_y = gaussian_kernel1d(sigma, order_y, radius)\n",
    "    kernel_2d = torch.outer(kernel_y, kernel_x)\n",
    "    return kernel_2d\n",
    "\n",
    "\n",
    "def hessian_matrix(\n",
    "        image,\n",
    "        hxx_kernel,\n",
    "        hxy_kernel,\n",
    "        hyy_kernel):\n",
    "\n",
    "    # Reshape kernels for convolution\n",
    "    hxx_kernel = hxx_kernel.view(1, 1, *hxx_kernel.shape)\n",
    "    hxy_kernel = hxy_kernel.view(1, 1, *hxy_kernel.shape)\n",
    "    hyy_kernel = hyy_kernel.view(1, 1, *hyy_kernel.shape)\n",
    "\n",
    "    # Add batch and channel dimensions to the image\n",
    "    image = image.unsqueeze(0).unsqueeze(0)\n",
    "\n",
    "    # Convolve the image with the kernels\n",
    "    padding = (hxx_kernel.shape[-1] - 1) // 2\n",
    "    hxx = F.conv2d(image, hxx_kernel, padding=padding)\n",
    "    hxy = F.conv2d(image, hxy_kernel, padding=padding)\n",
    "    hyy = F.conv2d(image, hyy_kernel, padding=padding)\n",
    "\n",
    "    # Remove the batch and channel dimensions\n",
    "    hxx = hxx.squeeze(0).squeeze(0)\n",
    "    hxy = hxy.squeeze(0).squeeze(0)\n",
    "    hyy = hyy.squeeze(0).squeeze(0)\n",
    "\n",
    "    return hxx, hxy, hyy\n",
    "\n",
    "\n",
    "class NegFCLoss(torch.nn.Module):\n",
    "\n",
    "    def __init__(\n",
    "            self,\n",
    "            residual_shape,\n",
    "            separation_pixel,\n",
    "            pos_angle_deg,\n",
    "            aperture_radius,\n",
    "            metric_function=\"mse\",\n",
    "            sigma_hessian=1.8\n",
    "    ):\n",
    "        super(NegFCLoss, self).__init__()\n",
    "\n",
    "        # Create the mask and transform it to a tensor\n",
    "        self.loss_mask = create_aperture_mask(\n",
    "            image_shape=residual_shape,\n",
    "            separation_pixel=separation_pixel,\n",
    "            pos_angle_deg=pos_angle_deg,\n",
    "            aperture_radius=aperture_radius)\n",
    "\n",
    "        # define the metric function\n",
    "        self.metric_function = metric_function\n",
    "\n",
    "        # if the metric function is hessian create the kernels\n",
    "        if self.metric_function == \"hessian\":\n",
    "            radius = int(3 * sigma_hessian + 0.5)\n",
    "            hxx_kernel = gaussian_kernel2d(\n",
    "                sigma_hessian, 2, 0, radius)\n",
    "            hxy_kernel = gaussian_kernel2d(\n",
    "                sigma_hessian, 1, 1, radius)\n",
    "            hyy_kernel = gaussian_kernel2d(\n",
    "                sigma_hessian, 0, 2, radius)\n",
    "\n",
    "            # register the kernels\n",
    "            self.register_buffer(\"hxx_kernel\", hxx_kernel)\n",
    "            self.register_buffer(\"hxy_kernel\", hxy_kernel)\n",
    "            self.register_buffer(\"hyy_kernel\", hyy_kernel)\n",
    "\n",
    "    def forward(self, residual_image):\n",
    "        if self.metric_function == \"hessian\":\n",
    "            hxx, hxy, hyy = hessian_matrix(\n",
    "                residual_image,\n",
    "                self.hxx_kernel,\n",
    "                self.hxy_kernel,\n",
    "                self.hyy_kernel)\n",
    "\n",
    "            # calculate the determinant of the hessian\n",
    "            hes_det = (hxx * hyy) - (hxy * hxy)\n",
    "\n",
    "            # apply the mask\n",
    "            selected_pixel = hes_det[self.loss_mask]\n",
    "\n",
    "        elif self.metric_function == \"mse\":\n",
    "            # apply the mask\n",
    "            selected_pixel = residual_image[self.loss_mask]\n",
    "\n",
    "        else:\n",
    "            raise ValueError(\"The metric function is not implemented.\")\n",
    "\n",
    "        # calculate the loss\n",
    "        loss = torch.sum(selected_pixel ** 2)\n",
    "        print(loss)\n",
    "\n",
    "        return loss\n"
   ]
  },
  {
   "cell_type": "markdown",
   "id": "f388d775effd01e0",
   "metadata": {},
   "source": [
    "# Run the same for the FourS model"
   ]
  },
  {
   "cell_type": "code",
   "execution_count": 10,
   "id": "5c6b95e6fde4015f",
   "metadata": {
    "ExecuteTime": {
     "end_time": "2024-09-14T17:27:26.272046Z",
     "start_time": "2024-09-14T17:27:26.267842Z"
    }
   },
   "outputs": [],
   "source": [
    "experiment_root_dir = Path(\"/fast/mbonse/s4/70_results/01_position_flux/implementation_tests/4s_test_dir\")\n",
    "experiment_root_dir.mkdir(exist_ok=True)"
   ]
  },
  {
   "cell_type": "code",
   "execution_count": 48,
   "id": "99221a6a1c9e31b1",
   "metadata": {
    "ExecuteTime": {
     "end_time": "2024-09-14T18:04:56.884132Z",
     "start_time": "2024-09-14T18:04:54.806182Z"
    }
   },
   "outputs": [],
   "source": [
    "fours_model = FourS(\n",
    "    science_cube=data_with_fake_planet,\n",
    "    adi_angles=angles,\n",
    "    psf_template=psf_template,\n",
    "    noise_model_lambda=100,\n",
    "    normalization_type=\"dynamic\",\n",
    "    psf_fwhm=3.6,\n",
    "    right_reason_mask_factor=1.5,\n",
    "    rotation_grid_subsample=1,\n",
    "    device=0,\n",
    "    work_dir=experiment_root_dir,\n",
    "    verbose=True)"
   ]
  },
  {
   "cell_type": "code",
   "execution_count": 49,
   "id": "68f021c361f04bd3",
   "metadata": {
    "ExecuteTime": {
     "end_time": "2024-09-14T18:07:31.382356Z",
     "start_time": "2024-09-14T18:04:56.885581Z"
    }
   },
   "outputs": [
    {
     "name": "stdout",
     "output_type": "stream",
     "text": [
      "S4 model: Fit noise model ... "
     ]
    },
    {
     "data": {
      "application/vnd.jupyter.widget-view+json": {
       "model_id": "a7ef8968a28c4044b531ee5219930980",
       "version_major": 2,
       "version_minor": 0
      },
      "text/plain": [
       "  0%|          | 0/50 [00:00<?, ?it/s]"
      ]
     },
     "metadata": {},
     "output_type": "display_data"
    },
    {
     "name": "stdout",
     "output_type": "stream",
     "text": [
      "[DONE]\n"
     ]
    }
   ],
   "source": [
    "fours_model.fit_noise_model(\n",
    "        num_epochs=50,\n",
    "        training_name=\"First_training\",\n",
    "        logging_interval=10)"
   ]
  },
  {
   "cell_type": "code",
   "execution_count": 50,
   "id": "9a60e467305eba03",
   "metadata": {
    "ExecuteTime": {
     "end_time": "2024-09-14T18:07:31.388116Z",
     "start_time": "2024-09-14T18:07:31.383804Z"
    }
   },
   "outputs": [],
   "source": [
    "# create the NegFC model\n",
    "negfc = NegFC(\n",
    "    psf_template=psf_template,\n",
    "    all_angles=angles,\n",
    "    input_size=science_data.shape[1],\n",
    "    init_separation=fake_planet_config[\"separation\"] + 2,\n",
    "    init_pos_angle=fake_planet_config[\"planet_position\"][-1] - 2,\n",
    "    init_magnitude=11.5,\n",
    "    dit_science=dit_science,\n",
    "    dit_psf_template=dit_psf_template,\n",
    "    nd_factor=1.0,\n",
    "    interpolation=\"bicubic\",)"
   ]
  },
  {
   "cell_type": "code",
   "execution_count": 51,
   "id": "897649b5d95c6680",
   "metadata": {
    "ExecuteTime": {
     "end_time": "2024-09-14T18:07:31.399949Z",
     "start_time": "2024-09-14T18:07:31.389611Z"
    },
    "collapsed": false
   },
   "outputs": [],
   "source": [
    "# create the loss function\n",
    "negfc_loss = NegFCLoss(\n",
    "    residual_shape=science_data.shape[1:],\n",
    "    separation_pixel=fake_planet_config[\"separation\"],\n",
    "    pos_angle_deg=fake_planet_config[\"planet_position\"][-1],\n",
    "    aperture_radius=15,\n",
    "    metric_function=\"hessian\")\n",
    "negfc_loss = negfc_loss.to(0)"
   ]
  },
  {
   "cell_type": "code",
   "execution_count": 52,
   "id": "2e814ced4cdc7daa",
   "metadata": {
    "ExecuteTime": {
     "end_time": "2024-09-14T18:07:31.409691Z",
     "start_time": "2024-09-14T18:07:31.401141Z"
    }
   },
   "outputs": [],
   "source": [
    "negfc = negfc.to(0)\n",
    "science_data_torch_with_planet = science_data_torch_with_planet.to(0)\n",
    "\n",
    "# create the optimizer\n",
    "optimizer_kwargs = {\n",
    "    \"max_iter\": 20,\n",
    "    \"history_size\": 10}\n",
    "\n",
    "optimizer = optim.LBFGS(\n",
    "    negfc.parameters(),\n",
    "    **optimizer_kwargs)"
   ]
  },
  {
   "cell_type": "code",
   "execution_count": 53,
   "id": "818114206e9b569e",
   "metadata": {
    "ExecuteTime": {
     "end_time": "2024-09-14T18:07:31.419368Z",
     "start_time": "2024-09-14T18:07:31.410556Z"
    },
    "collapsed": false
   },
   "outputs": [],
   "source": [
    "fours_model.noise_model = fours_model.noise_model.cpu()\n",
    "fours_model.rotation_model = fours_model.rotation_model.cpu()\n",
    "fours_model.normalization_model = fours_model.normalization_model.cpu()"
   ]
  },
  {
   "cell_type": "code",
   "execution_count": null,
   "id": "1da530009a7981",
   "metadata": {
    "ExecuteTime": {
     "start_time": "2024-09-14T18:15:20.881432Z"
    },
    "is_executing": true
   },
   "outputs": [
    {
     "name": "stdout",
     "output_type": "stream",
     "text": [
      "29.994550704956055 19.821147918701172 11.972750663757324\n"
     ]
    },
    {
     "name": "stderr",
     "output_type": "stream",
     "text": [
      " 40%|██████████████████████████▊                                        | 2/5 [00:00<00:00,  7.79it/s]"
     ]
    },
    {
     "name": "stdout",
     "output_type": "stream",
     "text": [
      "tensor(2.9743e-06, device='cuda:0', grad_fn=<SumBackward0>)\n",
      "tensor(2.9743e-06, device='cuda:0', grad_fn=<SumBackward0>)\n"
     ]
    },
    {
     "name": "stderr",
     "output_type": "stream",
     "text": [
      " 80%|█████████████████████████████████████████████████████▌             | 4/5 [00:00<00:00,  8.03it/s]"
     ]
    },
    {
     "name": "stdout",
     "output_type": "stream",
     "text": [
      "tensor(2.9743e-06, device='cuda:0', grad_fn=<SumBackward0>)\n",
      "tensor(2.9743e-06, device='cuda:0', grad_fn=<SumBackward0>)\n"
     ]
    },
    {
     "name": "stderr",
     "output_type": "stream",
     "text": [
      "100%|███████████████████████████████████████████████████████████████████| 5/5 [00:00<00:00,  7.96it/s]"
     ]
    },
    {
     "name": "stdout",
     "output_type": "stream",
     "text": [
      "tensor(2.9743e-06, device='cuda:0', grad_fn=<SumBackward0>)\n",
      "29.994550704956055 19.821147918701172 11.972750663757324\n",
      "S4 model: Fit noise model ... "
     ]
    },
    {
     "name": "stderr",
     "output_type": "stream",
     "text": [
      "\n"
     ]
    },
    {
     "data": {
      "application/vnd.jupyter.widget-view+json": {
       "model_id": "7c3cbbcdfb5e43f7a171469888bd7253",
       "version_major": 2,
       "version_minor": 0
      },
      "text/plain": [
       "  0%|          | 0/20 [00:00<?, ?it/s]"
      ]
     },
     "metadata": {},
     "output_type": "display_data"
    },
    {
     "name": "stdout",
     "output_type": "stream",
     "text": [
      "[DONE]\n"
     ]
    },
    {
     "name": "stderr",
     "output_type": "stream",
     "text": [
      " 40%|██████████████████████████▊                                        | 2/5 [00:00<00:00,  8.13it/s]"
     ]
    },
    {
     "name": "stdout",
     "output_type": "stream",
     "text": [
      "tensor(2.7367e-06, device='cuda:0', grad_fn=<SumBackward0>)\n",
      "tensor(2.7367e-06, device='cuda:0', grad_fn=<SumBackward0>)\n"
     ]
    },
    {
     "name": "stderr",
     "output_type": "stream",
     "text": [
      " 80%|█████████████████████████████████████████████████████▌             | 4/5 [00:00<00:00,  8.16it/s]"
     ]
    },
    {
     "name": "stdout",
     "output_type": "stream",
     "text": [
      "tensor(2.7367e-06, device='cuda:0', grad_fn=<SumBackward0>)\n",
      "tensor(2.7367e-06, device='cuda:0', grad_fn=<SumBackward0>)\n"
     ]
    },
    {
     "name": "stderr",
     "output_type": "stream",
     "text": [
      "100%|███████████████████████████████████████████████████████████████████| 5/5 [00:00<00:00,  8.15it/s]"
     ]
    },
    {
     "name": "stdout",
     "output_type": "stream",
     "text": [
      "tensor(2.7367e-06, device='cuda:0', grad_fn=<SumBackward0>)\n",
      "29.994550704956055 19.821147918701172 11.972750663757324\n",
      "S4 model: Fit noise model ... "
     ]
    },
    {
     "name": "stderr",
     "output_type": "stream",
     "text": [
      "\n"
     ]
    },
    {
     "data": {
      "application/vnd.jupyter.widget-view+json": {
       "model_id": "a283fceb8af54026b9588ae51f0da5ba",
       "version_major": 2,
       "version_minor": 0
      },
      "text/plain": [
       "  0%|          | 0/20 [00:00<?, ?it/s]"
      ]
     },
     "metadata": {},
     "output_type": "display_data"
    }
   ],
   "source": [
    "print(negfc.separation.item(), negfc.pos_angle.item(), negfc.magnitude.item())\n",
    "\n",
    "for j in range(5):    \n",
    "    # move everything to the GPU\n",
    "    fours_model.noise_model = fours_model.noise_model.to(0)\n",
    "    fours_model.rotation_model = fours_model.rotation_model.to(0)\n",
    "    fours_model.normalization_model = fours_model.normalization_model.to(0)\n",
    "    fours_model.noise_model.betas_raw.requires_grad = False\n",
    "    fours_model.noise_model.intercept.requires_grad = False\n",
    "    fours_model.noise_model.compute_betas()\n",
    "\n",
    "    # iterate for 200 steps\n",
    "    negfc = negfc.to(0)\n",
    "    # create the loss function\n",
    "    negfc_loss = NegFCLoss(\n",
    "        residual_shape=science_data.shape[1:],\n",
    "        separation_pixel=fake_planet_config[\"separation\"],\n",
    "        pos_angle_deg=fake_planet_config[\"planet_position\"][-1],\n",
    "        aperture_radius=500,\n",
    "        metric_function=\"hessian\")\n",
    "    \n",
    "    negfc_loss = negfc_loss.to(0)\n",
    "    \n",
    "    for i in tqdm(range(5)):\n",
    "        def closure():        \n",
    "            optimizer.zero_grad()\n",
    "            after_negfc = negfc(science_data_torch_with_planet)\n",
    "            after_4s_neg_fc = fours_model.forward(after_negfc)[0]\n",
    "\n",
    "            # apply the loss function\n",
    "            loss = negfc_loss(after_4s_neg_fc)\n",
    "            loss.backward()\n",
    "            return loss\n",
    "\n",
    "        optimizer.step(closure)\n",
    "    \n",
    "    print(negfc.separation.item(), negfc.pos_angle.item(), negfc.magnitude.item())\n",
    "    with torch.no_grad():\n",
    "        after_negfc_for_train = negfc(science_data_torch_with_planet).detach()\n",
    "        \n",
    "    fours_model.noise_model.betas_raw.requires_grad = True\n",
    "    fours_model.noise_model.intercept.requires_grad = True\n",
    "\n",
    "    fours_model.update_noise_model(\n",
    "        images=after_negfc_for_train,\n",
    "        num_epochs=20,\n",
    "        training_name=\"update_\" + str(j+1),\n",
    "        logging_interval=10)"
   ]
  },
  {
   "cell_type": "code",
   "execution_count": null,
   "id": "e7b30272ca8b167e",
   "metadata": {
    "is_executing": true
   },
   "outputs": [],
   "source": [
    "x_shift_res = negfc.separation.item() * np.cos(np.deg2rad(negfc.pos_angle.item()))\n",
    "y_shift_res = negfc.separation.item() * np.sin(np.deg2rad(negfc.pos_angle.item()))\n",
    "\n",
    "x_shift = 30 * np.cos(np.deg2rad(20))\n",
    "y_shift = 30 * np.sin(np.deg2rad(20))\n",
    "\n",
    "print(np.abs(y_shift - y_shift_res))\n",
    "print(np.abs(x_shift - x_shift_res))\n",
    "print(np.abs(negfc.magnitude.item() - 12))"
   ]
  },
  {
   "cell_type": "code",
   "id": "949d2c43864fd0a0",
   "metadata": {
    "collapsed": false
   },
   "outputs": [],
   "source": [
    " "
   ]
  }
 ],
 "metadata": {
  "kernelspec": {
   "display_name": "Python 3 (ipykernel)",
   "language": "python",
   "name": "python3"
  },
  "language_info": {
   "codemirror_mode": {
    "name": "ipython",
    "version": 3
   },
   "file_extension": ".py",
   "mimetype": "text/x-python",
   "name": "python",
   "nbconvert_exporter": "python",
   "pygments_lexer": "ipython3",
   "version": "3.10.10"
  }
 },
 "nbformat": 4,
 "nbformat_minor": 5
}
