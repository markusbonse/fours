{
 "cells": [
  {
   "cell_type": "markdown",
   "id": "4c0315a1",
   "metadata": {},
   "source": [
    "# 1. Imports"
   ]
  },
  {
   "cell_type": "code",
   "execution_count": 1,
   "id": "b1356459",
   "metadata": {},
   "outputs": [],
   "source": [
    "from pathlib import Path\n",
    "from tqdm import tqdm\n",
    "\n",
    "import numpy as np\n",
    "\n",
    "# Plotting\n",
    "import cmocean\n",
    "import matplotlib.pylab as plt\n",
    "import matplotlib.gridspec as gridspec\n",
    "color_map = cmocean.cm.ice\n",
    "import seaborn as sns\n",
    "from matplotlib.patches import Patch\n",
    "from matplotlib.lines import Line2D\n",
    "\n",
    "# Methods\n",
    "import pynpoint as pp\n",
    "from pynpoint.core.dataio import OutputPort, InputPort\n",
    "from pynpoint.readwrite.hdf5reading import Hdf5ReadingModule\n",
    "from pynpoint.processing.stacksubset import StackAndSubsetModule\n",
    "\n",
    "from s4hci.utils.pca import pca_psf_subtraction_gpu\n",
    "from s4hci.utils.data_handling import save_as_fits\n",
    "from s4hci.utils.data_handling import read_s4hci_root_dir\n",
    "\n",
    "# Evaluation\n",
    "from applefy.detections.uncertainty import compute_detection_uncertainty\n",
    "from applefy.utils.photometry import AperturePhotometryMode\n",
    "from applefy.statistics import TTest, fpf_2_gaussian_sigma, gaussian_sigma_2_fpf"
   ]
  },
  {
   "cell_type": "markdown",
   "id": "7ec2ea03",
   "metadata": {},
   "source": [
    "# 2. All directories needed"
   ]
  },
  {
   "cell_type": "code",
   "execution_count": 2,
   "id": "8b17f3e9",
   "metadata": {},
   "outputs": [
    {
     "name": "stdout",
     "output_type": "stream",
     "text": [
      "Data in the S4HCI_ROOT_DIR found. Location: /fast/mbonse/s4\n"
     ]
    }
   ],
   "source": [
    "root_dir = Path(read_s4hci_root_dir())"
   ]
  },
  {
   "cell_type": "code",
   "execution_count": 3,
   "id": "23c7c2fa",
   "metadata": {},
   "outputs": [],
   "source": [
    "experiment_root_dir = root_dir / Path(\"70_results/x2_af_lep/MCMC/\")"
   ]
  },
  {
   "cell_type": "code",
   "execution_count": 4,
   "id": "5d3a6ff7",
   "metadata": {},
   "outputs": [],
   "source": [
    "fwhm = 3.6"
   ]
  },
  {
   "cell_type": "markdown",
   "id": "586df8d7",
   "metadata": {},
   "source": [
    "# 3. Estimate the Photometry and astrometry with PynPoint"
   ]
  },
  {
   "cell_type": "markdown",
   "id": "cc089a7b",
   "metadata": {},
   "source": [
    "## 3.1 Create the PynPoint database"
   ]
  },
  {
   "cell_type": "code",
   "execution_count": 5,
   "id": "f72d0382",
   "metadata": {},
   "outputs": [
    {
     "name": "stdout",
     "output_type": "stream",
     "text": [
      "================\n",
      "PynPoint v0.11.0\n",
      "================\n",
      "\n",
      "Working place: /fast/mbonse/s4/70_results/x2_af_lep/MCMC\n",
      "Input place: /fast/mbonse/s4/70_results/x2_af_lep/MCMC\n",
      "Output place: /fast/mbonse/s4/70_results/x2_af_lep/MCMC\n",
      "\n",
      "Database: /fast/mbonse/s4/70_results/x2_af_lep/MCMC/PynPoint_database.hdf5\n",
      "Configuration: /fast/mbonse/s4/70_results/x2_af_lep/MCMC/PynPoint_config.ini\n",
      "\n",
      "Number of CPUs: 128\n",
      "Number of threads: 128\n"
     ]
    }
   ],
   "source": [
    "pipeline = pp.Pypeline(\n",
    "    working_place_in=str(experiment_root_dir),\n",
    "    input_place_in=str(experiment_root_dir),\n",
    "    output_place_in=str(experiment_root_dir))"
   ]
  },
  {
   "cell_type": "markdown",
   "id": "60f63ce4",
   "metadata": {},
   "source": [
    "## 3.2 Read in the HDF5 file"
   ]
  },
  {
   "cell_type": "code",
   "execution_count": 6,
   "id": "13de905e",
   "metadata": {},
   "outputs": [],
   "source": [
    "read_data_module = Hdf5ReadingModule(\n",
    "    name_in=\"01_read_data\",\n",
    "    input_filename=\"HD35850_294_088_C-0085_A_.hdf5\",\n",
    "    input_dir=str(root_dir / Path(\"30_data\")),\n",
    "    tag_dictionary={\"object_selected\" : \"object_selected\",\n",
    "                    \"psf_selected\" : \"psf_selected\"})"
   ]
  },
  {
   "cell_type": "code",
   "execution_count": 7,
   "id": "634b99b7",
   "metadata": {},
   "outputs": [],
   "source": [
    "pipeline.add_module(read_data_module)"
   ]
  },
  {
   "cell_type": "code",
   "execution_count": 8,
   "id": "081ce6b5",
   "metadata": {},
   "outputs": [
    {
     "name": "stdout",
     "output_type": "stream",
     "text": [
      "\n",
      "-----------------\n",
      "Hdf5ReadingModule\n",
      "-----------------\n",
      "\n",
      "Module name: 01_read_data\n",
      "Reading HDF5 file... [DONE]                      \n",
      "Output ports: object_selected (13809, 165, 165), psf_selected (1526, 23, 23)\n"
     ]
    }
   ],
   "source": [
    "pipeline.run_module(\"01_read_data\")"
   ]
  },
  {
   "cell_type": "markdown",
   "id": "5a3ee62b",
   "metadata": {},
   "source": [
    "## 3.3 Cut and stack the science data for faster PCA iterations"
   ]
  },
  {
   "cell_type": "code",
   "execution_count": 9,
   "id": "b44d45d1",
   "metadata": {},
   "outputs": [
    {
     "name": "stdout",
     "output_type": "stream",
     "text": [
      "(13809, 165, 165)\n",
      "(13809,)\n"
     ]
    }
   ],
   "source": [
    "science_data = pipeline.get_data(\"object_selected\")\n",
    "angles = pipeline.get_attribute(\"object_selected\", \"PARANG\", static=False)\n",
    "\n",
    "print(science_data.shape)\n",
    "print(angles.shape)"
   ]
  },
  {
   "cell_type": "code",
   "execution_count": 10,
   "id": "aecb08e5",
   "metadata": {},
   "outputs": [],
   "source": [
    "science_data_cut = science_data[:, 25:-25, 25:-25]"
   ]
  },
  {
   "cell_type": "code",
   "execution_count": 11,
   "id": "6ae7b7a8",
   "metadata": {},
   "outputs": [],
   "source": [
    "binning = 5  # stack every 5 frames\n",
    "angles_stacked = np.array([\n",
    "    np.mean(i) \n",
    "    for i in np.array_split(angles, int(len(angles) / binning))])\n",
    "science_stacked = np.array([\n",
    "    np.mean(i, axis=0) \n",
    "    for i in np.array_split(science_data_cut, int(len(angles) / binning))])"
   ]
  },
  {
   "cell_type": "code",
   "execution_count": 12,
   "id": "e44dd5e4",
   "metadata": {},
   "outputs": [],
   "source": [
    "obj_port = OutputPort(\n",
    "    \"01_science_prep\",\n",
    "    pipeline.m_data_storage)\n",
    "obj_port.set_all(science_stacked)"
   ]
  },
  {
   "cell_type": "code",
   "execution_count": 13,
   "id": "c072b880",
   "metadata": {},
   "outputs": [],
   "source": [
    "input_port = InputPort(\n",
    "    \"object_selected\",\n",
    "    pipeline.m_data_storage)\n",
    "obj_port.copy_attributes(input_port)"
   ]
  },
  {
   "cell_type": "code",
   "execution_count": 14,
   "id": "171d3d35",
   "metadata": {},
   "outputs": [],
   "source": [
    "pipeline.set_attribute(\"01_science_prep\", \"PARANG\", angles_stacked, False)"
   ]
  },
  {
   "cell_type": "markdown",
   "id": "0b9a0caf",
   "metadata": {},
   "source": [
    "## 3.4 Find the best number of PCA components"
   ]
  },
  {
   "cell_type": "code",
   "execution_count": 15,
   "id": "017e9b4a",
   "metadata": {},
   "outputs": [],
   "source": [
    "science_data_prep = pipeline.get_data(\"01_science_prep\")\n",
    "angles_prep = pipeline.get_attribute(\"01_science_prep\", \"PARANG\", static=False)\n",
    "angles_prep = np.deg2rad(angles_prep)"
   ]
  },
  {
   "cell_type": "code",
   "execution_count": 16,
   "id": "f05d3a59",
   "metadata": {},
   "outputs": [
    {
     "name": "stdout",
     "output_type": "stream",
     "text": [
      "(2761, 115, 115)\n",
      "(2761,)\n"
     ]
    }
   ],
   "source": [
    "print(science_data_prep.shape)\n",
    "print(angles_prep.shape)"
   ]
  },
  {
   "cell_type": "code",
   "execution_count": 17,
   "id": "94cbe5cc",
   "metadata": {},
   "outputs": [],
   "source": [
    "num_components = np.arange(5, 200, 10)"
   ]
  },
  {
   "cell_type": "code",
   "execution_count": 18,
   "id": "2632a06b",
   "metadata": {},
   "outputs": [
    {
     "name": "stdout",
     "output_type": "stream",
     "text": [
      "Compute PCA basis ...[DONE]\n",
      "Compute PCA residuals ..."
     ]
    },
    {
     "name": "stderr",
     "output_type": "stream",
     "text": [
      "100%|███████████████████████████████████████████████████████████████████████████████████████████████████████████████████████████████████████████████████████████████████████| 20/20 [00:04<00:00,  4.46it/s]"
     ]
    },
    {
     "name": "stdout",
     "output_type": "stream",
     "text": [
      "[DONE]\n"
     ]
    },
    {
     "name": "stderr",
     "output_type": "stream",
     "text": [
      "\n"
     ]
    }
   ],
   "source": [
    "pca_residuals = pca_psf_subtraction_gpu(\n",
    "    images=science_data_prep,\n",
    "    angles=angles_prep,\n",
    "    pca_numbers=num_components,\n",
    "    device=\"cpu\",\n",
    "    approx_svd=2000,\n",
    "    verbose = True)"
   ]
  },
  {
   "cell_type": "code",
   "execution_count": 19,
   "id": "90d6c826",
   "metadata": {},
   "outputs": [],
   "source": [
    "init_planet_position  = np.array((68.55, 54.78)) # Result from previous mcmc\n",
    "# Use pixel values spaced by the FWHM\n",
    "photometry_mode_planet = AperturePhotometryMode(\"AS\", search_area=0.5, psf_fwhm_radius=fwhm/2)\n",
    "photometry_mode_noise = AperturePhotometryMode(\"AS\", psf_fwhm_radius=fwhm/2)"
   ]
  },
  {
   "cell_type": "code",
   "execution_count": 20,
   "id": "62eb5a2d",
   "metadata": {},
   "outputs": [
    {
     "name": "stderr",
     "output_type": "stream",
     "text": [
      "100%|███████████████████████████████████████████████████████████████████████████████████████████████████████████████████████████████████████████████████████████████████████| 20/20 [00:05<00:00,  3.86it/s]\n"
     ]
    }
   ],
   "source": [
    "all_snr_pca = []\n",
    "for i in tqdm(range(len(num_components))):\n",
    "    _, _, snr_mean = compute_detection_uncertainty(\n",
    "        frame=pca_residuals[i],\n",
    "        planet_position=init_planet_position, \n",
    "        statistical_test=TTest(),\n",
    "        psf_fwhm_radius=fwhm,\n",
    "        photometry_mode_planet=photometry_mode_planet,\n",
    "        photometry_mode_noise=photometry_mode_noise,\n",
    "        safety_margin=1.,\n",
    "        num_rot_iter=50)\n",
    "    \n",
    "    all_snr_pca.append(np.round(np.mean(snr_mean), 1))"
   ]
  },
  {
   "cell_type": "code",
   "execution_count": 21,
   "id": "35ec8a68",
   "metadata": {},
   "outputs": [
    {
     "data": {
      "image/png": "[encoded data removed]",
      "text/plain": [
       "<Figure size 640x480 with 1 Axes>"
      ]
     },
     "metadata": {},
     "output_type": "display_data"
    }
   ],
   "source": [
    "plt.plot(num_components, all_snr_pca)\n",
    "plt.ylabel(\"S/N\", fontsize=12)\n",
    "plt.xlabel(\"PCA components\", fontsize=12)\n",
    "plt.title(\"Find the best S/N of PCA\", fontsize=14)\n",
    "\n",
    "plt.xlim(0, 200)\n",
    "plt.ylim(2, 5)\n",
    "plt.grid()"
   ]
  },
  {
   "cell_type": "code",
   "execution_count": 22,
   "id": "fbaac9f4",
   "metadata": {},
   "outputs": [
    {
     "name": "stdout",
     "output_type": "stream",
     "text": [
      "The best number of components is: 65\n",
      "The peak S/N is : 4.7\n"
     ]
    }
   ],
   "source": [
    "best_num_pca = num_components[np.argmax(all_snr_pca)]\n",
    "print(\"The best number of components is: \" + str(best_num_pca))\n",
    "print(\"The peak S/N is : \" + str(np.max(all_snr_pca)))"
   ]
  },
  {
   "cell_type": "code",
   "execution_count": 23,
   "id": "434c07a6",
   "metadata": {},
   "outputs": [
    {
     "data": {
      "text/plain": [
       "Text(0.5, 1.01, 'Optimal PCA (65 components)')"
      ]
     },
     "execution_count": 23,
     "metadata": {},
     "output_type": "execute_result"
    },
    {
     "data": {
      "image/png": "[encoded data removed]",
      "text/plain": [
       "<Figure size 640x480 with 1 Axes>"
      ]
     },
     "metadata": {},
     "output_type": "display_data"
    }
   ],
   "source": [
    "pca_residual_frame = pca_residuals[np.argmax(all_snr_pca)]\n",
    "median= np.median(pca_residual_frame)\n",
    "scale = np.max(np.abs(pca_residual_frame))\n",
    "zoom = 15\n",
    "\n",
    "plt.imshow(\n",
    "    pca_residual_frame[zoom:-zoom, zoom:-zoom],\n",
    "    cmap=color_map,\n",
    "    vmin=median - scale*0.5, vmax=median + scale*0.8,\n",
    "    origin=\"lower\")\n",
    "plt.axis(\"off\")\n",
    "plt.title(\"Optimal PCA (65 components)\", fontsize=14,y=1.01)"
   ]
  },
  {
   "cell_type": "markdown",
   "id": "77b3aad0",
   "metadata": {},
   "source": [
    "## 3.5 Create a Master Template for the PSF"
   ]
  },
  {
   "cell_type": "code",
   "execution_count": 24,
   "id": "1b2390cf",
   "metadata": {},
   "outputs": [],
   "source": [
    "psf_frames = pipeline.get_data(\"psf_selected\")"
   ]
  },
  {
   "cell_type": "code",
   "execution_count": 25,
   "id": "13310c3f",
   "metadata": {},
   "outputs": [],
   "source": [
    "psf_template = np.median(psf_frames, axis=0)"
   ]
  },
  {
   "cell_type": "code",
   "execution_count": 26,
   "id": "3ec9e9f5",
   "metadata": {},
   "outputs": [
    {
     "data": {
      "text/plain": [
       "(-0.5, 114.5, 114.5, -0.5)"
      ]
     },
     "execution_count": 26,
     "metadata": {},
     "output_type": "execute_result"
    },
    {
     "data": {
      "image/png": "[encoded data removed]",
      "text/plain": [
       "<Figure size 640x480 with 1 Axes>"
      ]
     },
     "metadata": {},
     "output_type": "display_data"
    }
   ],
   "source": [
    "# pad the psf template\n",
    "padded_psf = np.pad(psf_template, \n",
    "                  pad_width=((46, 46), (46, 46)), \n",
    "                  mode='constant', \n",
    "                  constant_values=0)\n",
    "\n",
    "plt.imshow(padded_psf)\n",
    "plt.axis(\"off\")"
   ]
  },
  {
   "cell_type": "code",
   "execution_count": 27,
   "id": "2c996080",
   "metadata": {},
   "outputs": [],
   "source": [
    "psf_port = OutputPort(\"01_psf_padded\",\n",
    "                      pipeline.m_data_storage)\n",
    "psf_port.set_all(np.expand_dims(padded_psf, axis=0))"
   ]
  },
  {
   "cell_type": "markdown",
   "id": "f5c4aa4c",
   "metadata": {},
   "source": [
    "## 3.6 Simplex minimization, used as initialization for MCMC"
   ]
  },
  {
   "cell_type": "code",
   "execution_count": 28,
   "id": "5631c4b3",
   "metadata": {},
   "outputs": [],
   "source": [
    "simplex_module = pp.SimplexMinimizationModule(\n",
    "    name_in='03_simplex', \n",
    "    image_in_tag='01_science_prep', \n",
    "    psf_in_tag='01_psf_padded', \n",
    "    res_out_tag='03_simplex_residual', \n",
    "    flux_position_tag='03_simplex_result',\n",
    "    position=(init_planet_position[0], init_planet_position[1]), \n",
    "    magnitude=9.5, \n",
    "    psf_scaling=-1/0.0179,  # The data is taken with an ND filter\n",
    "    merit='hessian', \n",
    "    tolerance=0.1, \n",
    "    pca_number=int(best_num_pca), \n",
    "    residuals='mean', \n",
    "    offset=2) "
   ]
  },
  {
   "cell_type": "code",
   "execution_count": null,
   "id": "f564fb9b",
   "metadata": {},
   "outputs": [
    {
     "name": "stdout",
     "output_type": "stream",
     "text": [
      "\n",
      "-------------------------\n",
      "SimplexMinimizationModule\n",
      "-------------------------\n",
      "\n",
      "Module name: 03_simplex\n",
      "Input ports: 01_science_prep (2761, 115, 115), 01_psf_padded (1, 115, 115)\n",
      "Input parameters:\n",
      "   - Number of principal components = [65]\n",
      "   - Figure of merit = hessian\n",
      "   - Residuals type = mean\n",
      "   - Absolute tolerance (pixels/mag) = 0.1\n",
      "   - Maximum offset = 2\n",
      "   - Guessed position (x, y) = (68.55, 54.78)\n",
      "   - Aperture position (x, y) = (69, 55)\n",
      "   - Aperture radius (pixels) = 3\n",
      "Image center (y, x) = (57.0, 57.0)\n",
      "Simplex minimization... 65 PC - chi^2 = 2.03e+02"
     ]
    }
   ],
   "source": [
    "pipeline.add_module(simplex_module) \n",
    "pipeline.run_module('03_simplex')"
   ]
  },
  {
   "cell_type": "code",
   "execution_count": null,
   "id": "d1189829",
   "metadata": {},
   "outputs": [],
   "source": [
    "simplex_results = pipeline.get_data('03_simplex_result')"
   ]
  },
  {
   "cell_type": "code",
   "execution_count": null,
   "id": "230735d1",
   "metadata": {},
   "outputs": [],
   "source": [
    "# Simplex Error\n",
    "plt.plot(simplex_results[:, -1])\n",
    "plt.yscale(\"log\")\n",
    "plt.xlabel(\"Iterations\", fontsize=12)\n",
    "plt.ylabel(\"Hessian Error\", fontsize=12)\n",
    "plt.title(\"Simplex minimization\", fontsize=14)\n",
    "plt.xlim(0, 40)\n",
    "plt.grid()"
   ]
  },
  {
   "cell_type": "code",
   "execution_count": null,
   "id": "928c6e7a",
   "metadata": {},
   "outputs": [],
   "source": [
    "best_idx = np.argmin(simplex_results[:, -1])\n",
    "best_idx"
   ]
  },
  {
   "cell_type": "code",
   "execution_count": null,
   "id": "c24c5e9b",
   "metadata": {},
   "outputs": [],
   "source": [
    "simplex_best_result = simplex_results[best_idx, :]\n",
    "simplex_best_result"
   ]
  },
  {
   "cell_type": "code",
   "execution_count": null,
   "id": "45a06b96",
   "metadata": {},
   "outputs": [],
   "source": [
    "residual_no_planet = pipeline.get_data('03_simplex_residual')[best_idx]"
   ]
  },
  {
   "cell_type": "code",
   "execution_count": null,
   "id": "cd2b8e6d",
   "metadata": {},
   "outputs": [],
   "source": [
    "fig, (ax1, ax2) = plt.subplots(1, 2, figsize=(8, 5))\n",
    "\n",
    "# Plot the original residual\n",
    "median= np.median(pca_residual_frame)\n",
    "scale = np.max(np.abs(pca_residual_frame))\n",
    "zoom = 15\n",
    "\n",
    "ax1.imshow(\n",
    "    pca_residual_frame[zoom:-zoom, zoom:-zoom],\n",
    "    cmap=color_map,\n",
    "    vmin=median - scale*0.5, vmax=median + scale*0.8,\n",
    "    origin=\"lower\")\n",
    "\n",
    "ax1.axis(\"off\")\n",
    "ax1.set_title(\"Optimal PCA (65 components)\", fontsize=14,y=1.01)\n",
    "\n",
    "# Plot the residual without the planet\n",
    "ax2.imshow(\n",
    "    residual_no_planet[zoom:-zoom, zoom:-zoom],\n",
    "    cmap=color_map,\n",
    "    vmin=median - scale*0.5, vmax=median + scale*0.8,\n",
    "    origin=\"lower\")\n",
    "\n",
    "ax2.axis(\"off\")\n",
    "ax2.set_title(\"Optimal PCA - After subtraction\", fontsize=14,y=1.01)\n",
    "\n",
    "plt.tight_layout()"
   ]
  },
  {
   "cell_type": "markdown",
   "id": "c8ca68f2",
   "metadata": {},
   "source": [
    "## 3.7 Run MCMC to get an estimate of the Error"
   ]
  },
  {
   "cell_type": "code",
   "execution_count": null,
   "id": "3bd80048",
   "metadata": {},
   "outputs": [],
   "source": [
    "# Bounds for the MCMC \n",
    "# Separations +- 100 mas\n",
    "# Angle +- 10 deg\n",
    "# Contrast +- 1 mag\n",
    "\n",
    "dsep, dphi, dcontrast = 0.1, 10, 1.0\n",
    "\n",
    "mcmc_module = pp.MCMCsamplingModule(\n",
    "    name_in='04_MCMC_planet', \n",
    "    image_in_tag='01_science_prep', \n",
    "    psf_in_tag='01_psf_padded', \n",
    "    chain_out_tag='04_MCMC_chain', \n",
    "    param=tuple(simplex_best_result[2:5]), \n",
    "    bounds=((simplex_best_result[2]-dsep, simplex_best_result[2]+dsep),\n",
    "            (simplex_best_result[3]-dphi, simplex_best_result[3]+dphi),\n",
    "            (simplex_best_result[4]-dcontrast, simplex_best_result[4]+dcontrast)), \n",
    "    nwalkers=100,\n",
    "    nsteps=100,\n",
    "    psf_scaling=-1/0.0179, # ND filter\n",
    "    pca_number=int(best_num_pca), \n",
    "    mask=None, \n",
    "    extra_rot=0.0, \n",
    "    merit='hessian', \n",
    "    residuals='mean', \n",
    "    resume=False)"
   ]
  },
  {
   "cell_type": "code",
   "execution_count": null,
   "id": "234b23f7",
   "metadata": {},
   "outputs": [],
   "source": [
    "pipeline.add_module(mcmc_module)\n",
    "pipeline.run_module('04_MCMC_planet')"
   ]
  },
  {
   "cell_type": "markdown",
   "id": "7ffb90b7",
   "metadata": {},
   "source": [
    "## 3.8 Plot the result"
   ]
  },
  {
   "cell_type": "code",
   "execution_count": 71,
   "id": "a8945d41",
   "metadata": {},
   "outputs": [],
   "source": [
    "mcmc_results = pipeline.get_data('04_MCMC_chain')"
   ]
  },
  {
   "cell_type": "code",
   "execution_count": 85,
   "id": "70f23b5d",
   "metadata": {},
   "outputs": [],
   "source": [
    "mcmc_mean = np.median(mcmc_results[-1:,:, :], axis=0)\n",
    "\n",
    "\n",
    "mcmc_sigma = np.std(mcmc_results[-1,:, :], axis=0)"
   ]
  },
  {
   "cell_type": "code",
   "execution_count": 86,
   "id": "d6ade6a1",
   "metadata": {},
   "outputs": [
    {
     "data": {
      "text/plain": [
       "array([[  0.32382887, 259.18440775,   9.97735706],\n",
       "       [  0.32397759, 259.13672948,   9.95582177],\n",
       "       [  0.32398811, 259.1750059 ,   9.98762161],\n",
       "       [  0.32378003, 259.20124072,   9.97266189],\n",
       "       [  0.32363003, 259.1839558 ,   9.97233878],\n",
       "       [  0.32358091, 259.19015944,   9.98774498],\n",
       "       [  0.32358615, 259.19609243,   9.98619624],\n",
       "       [  0.32366719, 259.19974482,   9.97959369],\n",
       "       [  0.32368606, 259.19228272,   9.98803894],\n",
       "       [  0.32378371, 259.20844586,   9.98191604],\n",
       "       [  0.32357686, 259.187886  ,   9.98535459],\n",
       "       [  0.32378428, 259.18024877,   9.97552839],\n",
       "       [  0.32374198, 259.18237669,   9.97745616],\n",
       "       [  0.3236615 , 259.15910483,   9.95721203],\n",
       "       [  0.32368497, 259.18926562,   9.9825182 ],\n",
       "       [  0.32371789, 259.20724063,   9.97111307],\n",
       "       [  0.32359026, 259.20793103,   9.9966166 ],\n",
       "       [  0.32349767, 259.18868773,   9.96754288],\n",
       "       [  0.32356045, 259.17818827,  10.0052319 ],\n",
       "       [  0.32365155, 259.19504352,   9.97548531]])"
      ]
     },
     "execution_count": 86,
     "metadata": {},
     "output_type": "execute_result"
    }
   ],
   "source": [
    "mcmc_mean"
   ]
  },
  {
   "cell_type": "code",
   "execution_count": 87,
   "id": "a3e21f39",
   "metadata": {},
   "outputs": [
    {
     "data": {
      "text/plain": [
       "(array([2., 0., 1., 5., 3., 3., 4., 0., 1., 1.]),\n",
       " array([ 9.95582177,  9.96076279,  9.9657038 ,  9.97064481,  9.97558582,\n",
       "         9.98052684,  9.98546785,  9.99040886,  9.99534987, 10.00029089,\n",
       "        10.0052319 ]),\n",
       " <BarContainer object of 10 artists>)"
      ]
     },
     "execution_count": 87,
     "metadata": {},
     "output_type": "execute_result"
    },
    {
     "data": {
      "image/png": "[encoded data removed]",
      "text/plain": [
       "<Figure size 640x480 with 1 Axes>"
      ]
     },
     "metadata": {},
     "output_type": "display_data"
    }
   ],
   "source": [
    "plt.hist(mcmc_results[-1,:, 2])"
   ]
  },
  {
   "cell_type": "code",
   "execution_count": 88,
   "id": "26bf8334",
   "metadata": {},
   "outputs": [
    {
     "data": {
      "image/png": "[encoded data removed]",
      "text/plain": [
       "<Figure size 600x600 with 1 Axes>"
      ]
     },
     "metadata": {},
     "output_type": "display_data"
    }
   ],
   "source": [
    "x = mcmc_results[-1, :, 0]\n",
    "y = mcmc_results[-1, :, 1]\n",
    "\n",
    "# Draw a combo histogram and scatterplot with density contours\n",
    "f, ax = plt.subplots(figsize=(6, 6))\n",
    "sns.scatterplot(\n",
    "    x=x,\n",
    "    y=y, \n",
    "    s=100, \n",
    "    color=\".15\", \n",
    "    alpha=0.2, \n",
    "    label='MCMC planet position sample')\n",
    "\n",
    "ax.errorbar(\n",
    "    x=mcmc_mean[0],\n",
    "    xerr=mcmc_sigma[0],\n",
    "    y=mcmc_mean[1],\n",
    "    yerr=mcmc_sigma[1],\n",
    "    c='k',\n",
    "    capsize=5)\n",
    "\n",
    "legend_elements = [Line2D([0], [0], marker='o', color='w', label='MCMC Planet Position Sample',\n",
    "                          markerfacecolor='k', markersize=10, alpha=0.2),\n",
    "                   Line2D([0], [0], color='k', lw=1, label='Standard Deviation')]\n",
    "\n",
    "ax.legend(handles=legend_elements, loc='best')\n",
    "\n",
    "ax.ticklabel_format(useOffset=False)\n",
    "ax.set_xlabel('Separation (arcsec)')\n",
    "ax.set_ylabel(r'Position angle ($^\\circ$)')\n",
    "ax.set_title('AF Lep - NACO position estimate 13.11.2011')\n",
    "#f.savefig('AF_Lep_NACO_position_estimate.pdf', bbox_inches='tight')\n",
    "plt.show()"
   ]
  },
  {
   "cell_type": "code",
   "execution_count": null,
   "id": "e5bb04af",
   "metadata": {},
   "outputs": [],
   "source": []
  }
 ],
 "metadata": {
  "kernelspec": {
   "display_name": "Python 3 (ipykernel)",
   "language": "python",
   "name": "python3"
  },
  "language_info": {
   "codemirror_mode": {
    "name": "ipython",
    "version": 3
   },
   "file_extension": ".py",
   "mimetype": "text/x-python",
   "name": "python",
   "nbconvert_exporter": "python",
   "pygments_lexer": "ipython3",
   "version": "3.10.10"
  }
 },
 "nbformat": 4,
 "nbformat_minor": 5
}
