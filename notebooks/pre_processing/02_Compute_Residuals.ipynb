{
 "cells": [
  {
   "cell_type": "code",
   "execution_count": 1,
   "id": "f218e8b4",
   "metadata": {},
   "outputs": [],
   "source": [
    "import json\n",
    "import os\n",
    "\n",
    "import numpy as np\n",
    "from pathlib import Path\n",
    "import matplotlib.pyplot as plt\n",
    "import seaborn_image as isns"
   ]
  },
  {
   "cell_type": "code",
   "execution_count": 2,
   "id": "3bedb630",
   "metadata": {},
   "outputs": [],
   "source": [
    "from pynpoint import Pypeline\n",
    "from pynpoint.processing.psfsubtraction import PcaPsfSubtractionModule\n",
    "from pynpoint.readwrite.fitswriting import FitsWritingModule"
   ]
  },
  {
   "cell_type": "markdown",
   "id": "24d05256",
   "metadata": {},
   "source": [
    "# Create the Pypeline"
   ]
  },
  {
   "cell_type": "code",
   "execution_count": 3,
   "id": "45c071f8",
   "metadata": {},
   "outputs": [],
   "source": [
    "root_dir = Path(\"/home/ipa/quanz/user_accounts/mbonse/2023_S4/30_data/\")"
   ]
  },
  {
   "cell_type": "code",
   "execution_count": 4,
   "id": "d3303aca",
   "metadata": {},
   "outputs": [
    {
     "data": {
      "text/plain": [
       "[PosixPath('/home/ipa/quanz/user_accounts/mbonse/2023_S4/30_data/HD22049_244_199_C-0065_B_'),\n",
       " PosixPath('/home/ipa/quanz/user_accounts/mbonse/2023_S4/30_data/HD22049_303_199_C-0065_C_'),\n",
       " PosixPath('/home/ipa/quanz/user_accounts/mbonse/2023_S4/30_data/HD22049_304_199_C-0065_C_'),\n",
       " PosixPath('/home/ipa/quanz/user_accounts/mbonse/2023_S4/30_data/HD22049_310_0100_C-0656_A_'),\n",
       " PosixPath('/home/ipa/quanz/user_accounts/mbonse/2023_S4/30_data/HD22049_351_096_C-0679_A_')]"
      ]
     },
     "execution_count": 4,
     "metadata": {},
     "output_type": "execute_result"
    }
   ],
   "source": [
    "subfolder = [i  for i in root_dir.iterdir()]\n",
    "subfolder"
   ]
  },
  {
   "cell_type": "code",
   "execution_count": 5,
   "id": "d92b3edd",
   "metadata": {},
   "outputs": [
    {
     "data": {
      "text/plain": [
       "True"
      ]
     },
     "execution_count": 5,
     "metadata": {},
     "output_type": "execute_result"
    }
   ],
   "source": [
    "tmp_database = subfolder[0]\n",
    "(tmp_database / \"PynPoint_database.hdf5\").is_file()"
   ]
  },
  {
   "cell_type": "code",
   "execution_count": 6,
   "id": "925d3464",
   "metadata": {},
   "outputs": [
    {
     "name": "stdout",
     "output_type": "stream",
     "text": [
      "================\n",
      "PynPoint v0.10.1\n",
      "================\n",
      "\n",
      "A new version (0.10.0) is available!\n",
      "\n",
      "Want to stay informed about updates, bug fixes, and new features?\n",
      "Please consider using the 'Watch' button on the Github page:\n",
      "https://github.com/PynPoint/PynPoint\n",
      "\n",
      "Working place: /home/ipa/quanz/user_accounts/mbonse/2023_S4/30_data/HD22049_244_199_C-0065_B_\n",
      "Input place: /home/ipa/quanz/user_accounts/mbonse/2023_S4/30_data/HD22049_244_199_C-0065_B_\n",
      "Output place: /home/ipa/quanz/user_accounts/mbonse/2023_S4/30_data/HD22049_244_199_C-0065_B_\n",
      "\n",
      "Database: /home/ipa/quanz/user_accounts/mbonse/2023_S4/30_data/HD22049_244_199_C-0065_B_/PynPoint_database.hdf5\n",
      "Configuration: /home/ipa/quanz/user_accounts/mbonse/2023_S4/30_data/HD22049_244_199_C-0065_B_/PynPoint_config.ini\n",
      "\n",
      "Number of CPUs: 20\n",
      "Number of threads: not set\n"
     ]
    }
   ],
   "source": [
    "pipeline = Pypeline(\n",
    "    working_place_in=str(tmp_database),\n",
    "    input_place_in=str(tmp_database),\n",
    "    output_place_in=str(tmp_database))"
   ]
  },
  {
   "cell_type": "markdown",
   "id": "64cec711",
   "metadata": {},
   "source": [
    "# Run the PCA"
   ]
  },
  {
   "cell_type": "code",
   "execution_count": 7,
   "id": "68bea2cc",
   "metadata": {},
   "outputs": [],
   "source": [
    "pca_subtraction_s5 = PcaPsfSubtractionModule(\n",
    "    name_in=\"pca_subtraction_s5\",\n",
    "    images_in_tag=\"object_low_res_s5\",\n",
    "    reference_in_tag=\"object_low_res_s5\",\n",
    "    res_mean_tag=\"residual_mean_stacked_5\",\n",
    "    pca_numbers=np.arange(1, 500, 1),\n",
    "    processing_type=\"ADI\")\n",
    "\n",
    "pca_subtraction_s2 = PcaPsfSubtractionModule(\n",
    "    name_in=\"pca_subtraction_s2\",\n",
    "    images_in_tag=\"object_low_res_s2\",\n",
    "    reference_in_tag=\"object_low_res_s2\",\n",
    "    res_mean_tag=\"residual_mean_stacked_2\",\n",
    "    pca_numbers=np.arange(1, 500, 1),\n",
    "    processing_type=\"ADI\")\n",
    "\n",
    "pca_subtraction_s1 = PcaPsfSubtractionModule(\n",
    "    name_in=\"pca_subtraction_s1\",\n",
    "    images_in_tag=\"object_low_res\",\n",
    "    reference_in_tag=\"object_low_res\",\n",
    "    res_mean_tag=\"residual_mean\",\n",
    "    pca_numbers=np.arange(1, 500, 1),\n",
    "    processing_type=\"ADI\")"
   ]
  },
  {
   "cell_type": "code",
   "execution_count": null,
   "id": "65fc556a",
   "metadata": {},
   "outputs": [],
   "source": [
    "pipeline.add_module(pca_subtraction_s5)\n",
    "pipeline.run_module(\"pca_subtraction_s5\")\n",
    "\n",
    "pipeline.add_module(pca_subtraction_s2)\n",
    "pipeline.run_module(\"pca_subtraction_s2\")\n",
    "\n",
    "pipeline.add_module(pca_subtraction_s1)\n",
    "pipeline.run_module(\"pca_subtraction_s1\")"
   ]
  },
  {
   "cell_type": "code",
   "execution_count": null,
   "id": "27f0d20a",
   "metadata": {},
   "outputs": [
    {
     "name": "stdout",
     "output_type": "stream",
     "text": [
      "\n",
      "-----------------------\n",
      "PcaPsfSubtractionModule\n",
      "-----------------------\n",
      "\n",
      "Module name: pca_subtraction_s1\n",
      "Input port: object_low_res (60004, 141, 141)\n",
      "Deleting data and attributes: residual_mean\n",
      "Input parameters:\n",
      "   - Post-processing type: ADI\n",
      "   - Number of principal components: [  1   2   3   4   5   6   7   8   9  10  11  12  13  14  15  16  17  18\n",
      "  19  20  21  22  23  24  25  26  27  28  29  30  31  32  33  34  35  36\n",
      "  37  38  39  40  41  42  43  44  45  46  47  48  49  50  51  52  53  54\n",
      "  55  56  57  58  59  60  61  62  63  64  65  66  67  68  69  70  71  72\n",
      "  73  74  75  76  77  78  79  80  81  82  83  84  85  86  87  88  89  90\n",
      "  91  92  93  94  95  96  97  98  99 100 101 102 103 104 105 106 107 108\n",
      " 109 110 111 112 113 114 115 116 117 118 119 120 121 122 123 124 125 126\n",
      " 127 128 129 130 131 132 133 134 135 136 137 138 139 140 141 142 143 144\n",
      " 145 146 147 148 149 150 151 152 153 154 155 156 157 158 159 160 161 162\n",
      " 163 164 165 166 167 168 169 170 171 172 173 174 175 176 177 178 179 180\n",
      " 181 182 183 184 185 186 187 188 189 190 191 192 193 194 195 196 197 198\n",
      " 199 200 201 202 203 204 205 206 207 208 209 210 211 212 213 214 215 216\n",
      " 217 218 219 220 221 222 223 224 225 226 227 228 229 230 231 232 233 234\n",
      " 235 236 237 238 239 240 241 242 243 244 245 246 247 248 249 250 251 252\n",
      " 253 254 255 256 257 258 259 260 261 262 263 264 265 266 267 268 269 270\n",
      " 271 272 273 274 275 276 277 278 279 280 281 282 283 284 285 286 287 288\n",
      " 289 290 291 292 293 294 295 296 297 298 299 300 301 302 303 304 305 306\n",
      " 307 308 309 310 311 312 313 314 315 316 317 318 319 320 321 322 323 324\n",
      " 325 326 327 328 329 330 331 332 333 334 335 336 337 338 339 340 341 342\n",
      " 343 344 345 346 347 348 349 350 351 352 353 354 355 356 357 358 359 360\n",
      " 361 362 363 364 365 366 367 368 369 370 371 372 373 374 375 376 377 378\n",
      " 379 380 381 382 383 384 385 386 387 388 389 390 391 392 393 394 395 396\n",
      " 397 398 399 400 401 402 403 404 405 406 407 408 409 410 411 412 413 414\n",
      " 415 416 417 418 419 420 421 422 423 424 425 426 427 428 429 430 431 432\n",
      " 433 434 435 436 437 438 439 440 441 442 443 444 445 446 447 448 449 450\n",
      " 451 452 453 454 455 456 457 458 459 460 461 462 463 464 465 466 467 468\n",
      " 469 470 471 472 473 474 475 476 477 478 479 480 481 482 483 484 485 486\n",
      " 487 488 489 490 491 492 493 494 495 496 497 498 499]\n",
      "   - Subtract mean: True\n",
      "   - Extra rotation (deg): 0.0\n",
      "Constructing PSF model... [DONE]\n",
      "Creating residuals..........................................................................................................................................................................................................................................................................................................................................................................................."
     ]
    }
   ],
   "source": [
    "pipeline.add_module(pca_subtraction_s1)\n",
    "pipeline.run_module(\"pca_subtraction_s1\")"
   ]
  },
  {
   "cell_type": "markdown",
   "id": "e5ab19a7",
   "metadata": {},
   "source": [
    "# Save the results as FITS"
   ]
  },
  {
   "cell_type": "code",
   "execution_count": null,
   "id": "85227507",
   "metadata": {},
   "outputs": [],
   "source": [
    "write_residuals_m5 = FitsWritingModule(\n",
    "    name_in=\"write_residuals_m5\",\n",
    "    data_tag=\"residual_mean_stacked_5\",\n",
    "    file_name=\"residual_mean_stacked_5.fits\",\n",
    "    output_dir=\"/home/ipa/quanz/user_accounts/mbonse/2023_S4/\"\n",
    "        \"70_results/pca_baseline/residuals/\" + tmp_database.name + \"/\")\n",
    "\n",
    "write_residuals_m2 = FitsWritingModule(\n",
    "    name_in=\"write_residuals_m2\",\n",
    "    data_tag=\"residual_mean_stacked_2\",\n",
    "    file_name=\"residual_mean_stacked_2.fits\",\n",
    "    output_dir=\"/home/ipa/quanz/user_accounts/mbonse/2023_S4/\"\n",
    "        \"70_results/pca_baseline/residuals/\" + tmp_database.name + \"/\")\n",
    "\n",
    "write_residuals_m1 = FitsWritingModule(\n",
    "    name_in=\"write_residuals_m1\",\n",
    "    data_tag=\"residual_mean\",\n",
    "    file_name=\"residual_mean.fits\",\n",
    "    output_dir=\"/home/ipa/quanz/user_accounts/mbonse/2023_S4/\"\n",
    "        \"70_results/pca_baseline/residuals/\" + tmp_database.name + \"/\")\n"
   ]
  },
  {
   "cell_type": "code",
   "execution_count": null,
   "id": "40fb6386",
   "metadata": {},
   "outputs": [],
   "source": [
    "pipeline.add_module(write_residuals_m5)\n",
    "pipeline.run_module(\"write_residuals_m5\")\n",
    "\n",
    "pipeline.add_module(write_residuals_m2)\n",
    "pipeline.run_module(\"write_residuals_m2\")\n",
    "\n",
    "pipeline.add_module(write_residuals_m1)\n",
    "pipeline.run_module(\"write_residuals_m1\")"
   ]
  },
  {
   "cell_type": "markdown",
   "id": "530fc307",
   "metadata": {},
   "source": [
    "# Everything in one loop"
   ]
  },
  {
   "cell_type": "code",
   "execution_count": null,
   "id": "ee705ed3",
   "metadata": {},
   "outputs": [],
   "source": [
    "for tmp_database in subfolder[1:]:  \n",
    "    pipeline = Pypeline(\n",
    "        working_place_in=str(tmp_database),\n",
    "        input_place_in=str(tmp_database),\n",
    "        output_place_in=str(tmp_database))\n",
    "    \n",
    "    pca_subtraction_s5 = PcaPsfSubtractionModule(\n",
    "        name_in=\"pca_subtraction_s5\",\n",
    "        images_in_tag=\"object_low_res_s5\",\n",
    "        reference_in_tag=\"object_low_res_s5\",\n",
    "        res_mean_tag=\"residual_mean_stacked_5\",\n",
    "        pca_numbers=np.arange(1, 500, 1),\n",
    "        processing_type=\"ADI\")\n",
    "\n",
    "    pca_subtraction_s2 = PcaPsfSubtractionModule(\n",
    "        name_in=\"pca_subtraction_s2\",\n",
    "        images_in_tag=\"object_low_res_s2\",\n",
    "        reference_in_tag=\"object_low_res_s2\",\n",
    "        res_mean_tag=\"residual_mean_stacked_2\",\n",
    "        pca_numbers=np.arange(1, 500, 1),\n",
    "        processing_type=\"ADI\")\n",
    "\n",
    "    pca_subtraction_s1 = PcaPsfSubtractionModule(\n",
    "        name_in=\"pca_subtraction_s1\",\n",
    "        images_in_tag=\"object_low_res\",\n",
    "        reference_in_tag=\"object_low_res\",\n",
    "        res_mean_tag=\"residual_mean\",\n",
    "        pca_numbers=np.arange(1, 500, 1),\n",
    "        processing_type=\"ADI\")\n",
    "    \n",
    "    pipeline.add_module(pca_subtraction_s5)\n",
    "    pipeline.run_module(\"pca_subtraction_s5\")\n",
    "\n",
    "    pipeline.add_module(pca_subtraction_s2)\n",
    "    pipeline.run_module(\"pca_subtraction_s2\")\n",
    "\n",
    "    pipeline.add_module(pca_subtraction_s1)\n",
    "    pipeline.run_module(\"pca_subtraction_s1\")\n",
    "    \n",
    "    write_residuals_m5 = FitsWritingModule(\n",
    "        name_in=\"write_residuals_m5\",\n",
    "        data_tag=\"residual_mean_stacked_5\",\n",
    "        file_name=\"residual_mean_stacked_5.fits\",\n",
    "        output_dir=\"/home/ipa/quanz/user_accounts/mbonse/2023_S4/\"\n",
    "            \"70_results/pca_baseline/residuals/\" + tmp_database.name + \"/\")\n",
    "\n",
    "    write_residuals_m2 = FitsWritingModule(\n",
    "        name_in=\"write_residuals_m2\",\n",
    "        data_tag=\"residual_mean_stacked_2\",\n",
    "        file_name=\"residual_mean_stacked_2.fits\",\n",
    "        output_dir=\"/home/ipa/quanz/user_accounts/mbonse/2023_S4/\"\n",
    "            \"70_results/pca_baseline/residuals/\" + tmp_database.name + \"/\")\n",
    "\n",
    "    write_residuals_m1 = FitsWritingModule(\n",
    "        name_in=\"write_residuals_m1\",\n",
    "        data_tag=\"residual_mean\",\n",
    "        file_name=\"residual_mean.fits\",\n",
    "        output_dir=\"/home/ipa/quanz/user_accounts/mbonse/2023_S4/\"\n",
    "            \"70_results/pca_baseline/residuals/\" + tmp_database.name + \"/\")\n",
    "\n",
    "    pipeline.add_module(write_residuals_m5)\n",
    "    pipeline.run_module(\"write_residuals_m5\")\n",
    "\n",
    "    pipeline.add_module(write_residuals_m2)\n",
    "    pipeline.run_module(\"write_residuals_m2\")\n",
    "\n",
    "    pipeline.add_module(write_residuals_m1)\n",
    "    pipeline.run_module(\"write_residuals_m1\")"
   ]
  },
  {
   "cell_type": "code",
   "execution_count": null,
   "id": "3bef948f",
   "metadata": {},
   "outputs": [],
   "source": []
  }
 ],
 "metadata": {
  "kernelspec": {
   "display_name": "Python 3 (ipykernel)",
   "language": "python",
   "name": "python3"
  },
  "language_info": {
   "codemirror_mode": {
    "name": "ipython",
    "version": 3
   },
   "file_extension": ".py",
   "mimetype": "text/x-python",
   "name": "python",
   "nbconvert_exporter": "python",
   "pygments_lexer": "ipython3",
   "version": "3.10.6"
  }
 },
 "nbformat": 4,
 "nbformat_minor": 5
}
