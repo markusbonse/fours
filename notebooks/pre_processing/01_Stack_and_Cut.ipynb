{
 "cells": [
  {
   "cell_type": "code",
   "execution_count": 1,
   "id": "a64a99b2",
   "metadata": {},
   "outputs": [],
   "source": [
    "import json\n",
    "import os\n",
    "\n",
    "import numpy as np\n",
    "from pathlib import Path\n",
    "import matplotlib.pyplot as plt\n",
    "import seaborn_image as isns"
   ]
  },
  {
   "cell_type": "code",
   "execution_count": 2,
   "id": "13b0ddfb",
   "metadata": {},
   "outputs": [],
   "source": [
    "from pynpoint import Pypeline\n",
    "from pynpoint.processing.stacksubset import StackAndSubsetModule\n",
    "from pynpoint.processing.resizing import RemoveLinesModule\n",
    "from pynpoint.processing.psfsubtraction import PcaPsfSubtractionModule\n",
    "from pynpoint.readwrite.hdf5writing import Hdf5WritingModule\n",
    "from pynpoint.readwrite.fitswriting import FitsWritingModule"
   ]
  },
  {
   "cell_type": "markdown",
   "id": "c14f7cb8",
   "metadata": {},
   "source": [
    "## Create the Pypeline"
   ]
  },
  {
   "cell_type": "code",
   "execution_count": 3,
   "id": "a408f3cf",
   "metadata": {},
   "outputs": [],
   "source": [
    "root_dir = Path(\"/home/ipa/quanz/user_accounts/mbonse/2023_S4/30_data/\")"
   ]
  },
  {
   "cell_type": "code",
   "execution_count": 4,
   "id": "e69aec1d",
   "metadata": {},
   "outputs": [
    {
     "data": {
      "text/plain": [
       "[PosixPath('/home/ipa/quanz/user_accounts/mbonse/2023_S4/30_data/HD22049_244_199_C-0065_B_'),\n",
       " PosixPath('/home/ipa/quanz/user_accounts/mbonse/2023_S4/30_data/HD22049_303_199_C-0065_C_'),\n",
       " PosixPath('/home/ipa/quanz/user_accounts/mbonse/2023_S4/30_data/HD22049_304_199_C-0065_C_'),\n",
       " PosixPath('/home/ipa/quanz/user_accounts/mbonse/2023_S4/30_data/HD22049_310_0100_C-0656_A_'),\n",
       " PosixPath('/home/ipa/quanz/user_accounts/mbonse/2023_S4/30_data/HD22049_351_096_C-0679_A_')]"
      ]
     },
     "execution_count": 4,
     "metadata": {},
     "output_type": "execute_result"
    }
   ],
   "source": [
    "subfolder = [i  for i in root_dir.iterdir()]\n",
    "subfolder"
   ]
  },
  {
   "cell_type": "code",
   "execution_count": 5,
   "id": "dc8d8d9c",
   "metadata": {},
   "outputs": [
    {
     "data": {
      "text/plain": [
       "True"
      ]
     },
     "execution_count": 5,
     "metadata": {},
     "output_type": "execute_result"
    }
   ],
   "source": [
    "tmp_database = subfolder[0]\n",
    "(tmp_database / \"PynPoint_database.hdf5\").is_file()"
   ]
  },
  {
   "cell_type": "code",
   "execution_count": 6,
   "id": "ee5db695",
   "metadata": {},
   "outputs": [
    {
     "name": "stdout",
     "output_type": "stream",
     "text": [
      "================\n",
      "PynPoint v0.10.1\n",
      "================\n",
      "\n",
      "A new version (0.10.0) is available!\n",
      "\n",
      "Want to stay informed about updates, bug fixes, and new features?\n",
      "Please consider using the 'Watch' button on the Github page:\n",
      "https://github.com/PynPoint/PynPoint\n",
      "\n",
      "Working place: /home/ipa/quanz/user_accounts/mbonse/2023_S4/30_data/HD22049_244_199_C-0065_B_\n",
      "Input place: /home/ipa/quanz/user_accounts/mbonse/2023_S4/30_data/HD22049_244_199_C-0065_B_\n",
      "Output place: /home/ipa/quanz/user_accounts/mbonse/2023_S4/30_data/HD22049_244_199_C-0065_B_\n",
      "\n",
      "Database: /home/ipa/quanz/user_accounts/mbonse/2023_S4/30_data/HD22049_244_199_C-0065_B_/PynPoint_database.hdf5\n",
      "Configuration: /home/ipa/quanz/user_accounts/mbonse/2023_S4/30_data/HD22049_244_199_C-0065_B_/PynPoint_config.ini\n",
      "\n",
      "Number of CPUs: 20\n",
      "Number of threads: not set\n"
     ]
    }
   ],
   "source": [
    "pipeline = Pypeline(\n",
    "    working_place_in=str(tmp_database),\n",
    "    input_place_in=str(tmp_database),\n",
    "    output_place_in=str(tmp_database))"
   ]
  },
  {
   "cell_type": "markdown",
   "id": "1acb3913",
   "metadata": {},
   "source": [
    "## Reduce the resolution"
   ]
  },
  {
   "cell_type": "code",
   "execution_count": 7,
   "id": "17831c6f",
   "metadata": {},
   "outputs": [
    {
     "data": {
      "text/plain": [
       "['object_low_res',\n",
       " 'object_low_res_s2',\n",
       " 'object_low_res_s5',\n",
       " 'object_selected',\n",
       " 'psf_selected',\n",
       " 'residual_mean',\n",
       " 'residual_mean_stacked_2',\n",
       " 'residual_mean_stacked_5',\n",
       " 'residual_median',\n",
       " 'residual_median_stacked_2',\n",
       " 'residual_median_stacked_5']"
      ]
     },
     "execution_count": 7,
     "metadata": {},
     "output_type": "execute_result"
    }
   ],
   "source": [
    "pipeline.get_tags()"
   ]
  },
  {
   "cell_type": "code",
   "execution_count": 8,
   "id": "95a6d054",
   "metadata": {},
   "outputs": [
    {
     "data": {
      "text/plain": [
       "(60004, 259, 259)"
      ]
     },
     "execution_count": 8,
     "metadata": {},
     "output_type": "execute_result"
    }
   ],
   "source": [
    "pipeline.get_shape('object_selected')"
   ]
  },
  {
   "cell_type": "code",
   "execution_count": 9,
   "id": "1a052da8",
   "metadata": {},
   "outputs": [],
   "source": [
    "remove_lines = RemoveLinesModule(\n",
    "    name_in=\"Reduce_resolution\",\n",
    "    image_in_tag=\"object_selected\",\n",
    "    image_out_tag=\"object_low_res\",\n",
    "    lines=(59, 59, 59, 59),\n",
    ")"
   ]
  },
  {
   "cell_type": "code",
   "execution_count": 10,
   "id": "2a620cd1",
   "metadata": {},
   "outputs": [],
   "source": [
    "pipeline.add_module(remove_lines)"
   ]
  },
  {
   "cell_type": "code",
   "execution_count": null,
   "id": "dade003d",
   "metadata": {},
   "outputs": [
    {
     "name": "stdout",
     "output_type": "stream",
     "text": [
      "\n",
      "-----------------\n",
      "RemoveLinesModule\n",
      "-----------------\n",
      "\n",
      "Module name: Reduce_resolution\n",
      "Input port: object_selected (60004, 259, 259)\n",
      "Deleting data and attributes: object_low_res\n",
      "Removing lines...  1.6% - ETA: 01:09:09\r"
     ]
    }
   ],
   "source": [
    "pipeline.run_module(\"Reduce_resolution\")"
   ]
  },
  {
   "cell_type": "markdown",
   "id": "6eb2de44",
   "metadata": {},
   "source": [
    "## Stack the frames for PCA"
   ]
  },
  {
   "cell_type": "code",
   "execution_count": null,
   "id": "99277bf9",
   "metadata": {},
   "outputs": [],
   "source": [
    "stacking_2 = StackAndSubsetModule(\n",
    "    name_in=\"stacking_2\",\n",
    "    image_in_tag=\"object_low_res\",\n",
    "    image_out_tag=\"object_low_res_s2\",\n",
    "    stacking=2,\n",
    "    combine=\"mean\")\n",
    "\n",
    "stacking_5 = StackAndSubsetModule(\n",
    "    name_in=\"stacking_5\",\n",
    "    image_in_tag=\"object_low_res\",\n",
    "    image_out_tag=\"object_low_res_s5\",\n",
    "    stacking=5,\n",
    "    combine=\"mean\")"
   ]
  },
  {
   "cell_type": "code",
   "execution_count": null,
   "id": "40dd938d",
   "metadata": {},
   "outputs": [],
   "source": [
    "pipeline.add_module(stacking_2)\n",
    "pipeline.add_module(stacking_5)"
   ]
  },
  {
   "cell_type": "code",
   "execution_count": null,
   "id": "7b80202f",
   "metadata": {},
   "outputs": [],
   "source": [
    "pipeline.run_module(\"stacking_2\")\n",
    "pipeline.run_module(\"stacking_5\")"
   ]
  },
  {
   "cell_type": "markdown",
   "id": "b56293ed",
   "metadata": {},
   "source": [
    "## Export as HDF5 for applefy"
   ]
  },
  {
   "cell_type": "code",
   "execution_count": null,
   "id": "a7e380d2",
   "metadata": {},
   "outputs": [],
   "source": [
    "write_hdf5 = Hdf5WritingModule(\n",
    "    name_in=\"Write_Hdf5\",\n",
    "    file_name=tmp_database.name + \".hdf5\",\n",
    "    output_dir=str(tmp_database),\n",
    "    tag_dictionary = {\n",
    "        \"object_low_res_s5\": \"object_stacked_05\",\n",
    "        \"object_low_res_s2\": \"object_stacked_02\",\n",
    "        \"object_low_res\": \"object\",\n",
    "        \"psf_selected\": \"psf_template\"},\n",
    "    keep_attributes=True,\n",
    "    overwrite=True)"
   ]
  },
  {
   "cell_type": "code",
   "execution_count": null,
   "id": "2815c044",
   "metadata": {},
   "outputs": [],
   "source": [
    "pipeline.add_module(write_hdf5)\n",
    "pipeline.run_module(\"Write_Hdf5\")"
   ]
  },
  {
   "cell_type": "code",
   "execution_count": null,
   "id": "44779834",
   "metadata": {},
   "outputs": [],
   "source": []
  }
 ],
 "metadata": {
  "kernelspec": {
   "display_name": "Python 3 (ipykernel)",
   "language": "python",
   "name": "python3"
  },
  "language_info": {
   "codemirror_mode": {
    "name": "ipython",
    "version": 3
   },
   "file_extension": ".py",
   "mimetype": "text/x-python",
   "name": "python",
   "nbconvert_exporter": "python",
   "pygments_lexer": "ipython3",
   "version": "3.10.6"
  }
 },
 "nbformat": 4,
 "nbformat_minor": 5
}
