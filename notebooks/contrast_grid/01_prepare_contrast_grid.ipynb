{
 "cells": [
  {
   "cell_type": "markdown",
   "id": "3ee8c9ed",
   "metadata": {},
   "source": [
    "# Imports"
   ]
  },
  {
   "cell_type": "code",
   "execution_count": 1,
   "id": "732061c8",
   "metadata": {},
   "outputs": [],
   "source": [
    "from pathlib import Path\n",
    "import pandas as pd\n",
    "import numpy as np\n",
    "import matplotlib.pyplot as plt\n",
    "\n",
    "from applefy.detections.contrast import Contrast\n",
    "from applefy.utils.positions import center_subpixel\n",
    "from applefy.utils.file_handling import load_adi_data\n",
    "from applefy.utils import flux_ratio2mag, mag2flux_ratio\n",
    "\n",
    "from s4hci.utils.setups import contrast_grid_setup_1"
   ]
  },
  {
   "cell_type": "markdown",
   "id": "94a2a1b4",
   "metadata": {},
   "source": [
    "# Load the data"
   ]
  },
  {
   "cell_type": "code",
   "execution_count": 18,
   "id": "aeea3195",
   "metadata": {},
   "outputs": [],
   "source": [
    "datasets = [\n",
    "    \"HD22049_303_199_C-0065_C_\",\n",
    "    \"HD22049_310_0100_C-0656_A_\"\n",
    "]\n",
    "\n",
    "dataset_name = datasets[1]"
   ]
  },
  {
   "cell_type": "code",
   "execution_count": 19,
   "id": "134db2ff",
   "metadata": {},
   "outputs": [],
   "source": [
    "dataset_file = Path(\"/fast/mbonse/s4/30_data/\" + dataset_name + \".hdf5\")\n",
    "experiment_root_dir = Path(\"/fast/mbonse/s4/70_results/10_contrast_grids/\" + dataset_name)"
   ]
  },
  {
   "cell_type": "code",
   "execution_count": 20,
   "id": "75c3c8a0",
   "metadata": {},
   "outputs": [],
   "source": [
    "# we need the psf template for contrast calculation\n",
    "science_data, angles, raw_psf_template_data = load_adi_data(\n",
    "    dataset_file,\n",
    "    data_tag=\"object_stacked_05\",\n",
    "    psf_template_tag=\"psf_template\",\n",
    "    para_tag=\"header_object_stacked_05/PARANG\")\n",
    "\n",
    "psf_template = np.median(raw_psf_template_data, axis=0)\n",
    "\n",
    "dit_psf_template = 0.0042560\n",
    "dit_science = 0.08\n",
    "fwhm = 3.6\n",
    "pixel_scale=0.02718"
   ]
  },
  {
   "cell_type": "code",
   "execution_count": 21,
   "id": "be791de6",
   "metadata": {},
   "outputs": [
    {
     "name": "stdout",
     "output_type": "stream",
     "text": [
      "88.30022075055187\n"
     ]
    }
   ],
   "source": [
    "# we want toe image to show the innermost 1.2 arcsec\n",
    "print(1.2 / pixel_scale * 2)"
   ]
  },
  {
   "cell_type": "code",
   "execution_count": 22,
   "id": "cb43f9b4",
   "metadata": {},
   "outputs": [],
   "source": [
    "# we cut the image to 91 x 91 pixel to be slightly larger than 1.2 arcsec\n",
    "cut_off = int((science_data.shape[1] - 91) / 2)\n",
    "science_data = science_data[:, cut_off:-cut_off, cut_off:-cut_off]"
   ]
  },
  {
   "cell_type": "markdown",
   "id": "2a18457e",
   "metadata": {},
   "source": [
    "# Design the full contrast grid"
   ]
  },
  {
   "cell_type": "code",
   "execution_count": 23,
   "id": "208c5e79",
   "metadata": {},
   "outputs": [],
   "source": [
    "contrast_instance = Contrast(\n",
    "    science_sequence=science_data,\n",
    "    psf_template=psf_template,\n",
    "    parang_rad=angles,\n",
    "    psf_fwhm_radius=fwhm / 2,\n",
    "    dit_psf_template=dit_psf_template,\n",
    "    dit_science=dit_science,\n",
    "    scaling_factor=1., # A factor to account e.g. for ND filters\n",
    "    checkpoint_dir=experiment_root_dir)"
   ]
  },
  {
   "cell_type": "code",
   "execution_count": 24,
   "id": "dca06228",
   "metadata": {},
   "outputs": [
    {
     "data": {
      "text/plain": [
       "PosixPath('/fast/mbonse/s4/70_results/10_contrast_grids/HD22049_310_0100_C-0656_A_')"
      ]
     },
     "execution_count": 24,
     "metadata": {},
     "output_type": "execute_result"
    }
   ],
   "source": [
    "experiment_root_dir"
   ]
  },
  {
   "cell_type": "markdown",
   "id": "55882d65",
   "metadata": {},
   "source": [
    "## Design fake planet experiments"
   ]
  },
  {
   "cell_type": "code",
   "execution_count": 25,
   "id": "ce9e80f8",
   "metadata": {},
   "outputs": [
    {
     "name": "stdout",
     "output_type": "stream",
     "text": [
      "Brightness of fake planets in mag: [ 5.   5.5  6.   6.5  7.   7.5  8.   8.5  9.   9.5 10.  10.5 11.  11.5\n",
      " 12.  12.5 13.  13.5 14.  14.5 15. ]\n",
      "Separations of interest in lambda /D: [ 1.5  2.   2.5  3.   3.5  4.   4.5  5.   6.   7.   8.   9.  10.  11.\n",
      " 12. ]\n"
     ]
    }
   ],
   "source": [
    "# get fake planet setup\n",
    "flux_ratios, separations, num_fake_planets = contrast_grid_setup_1(fwhm)\n",
    "print(\"Brightness of fake planets in mag: \" + str(flux_ratio2mag(flux_ratios)))\n",
    "print(\"Separations of interest in lambda /D: \" + str(separations / fwhm))"
   ]
  },
  {
   "cell_type": "code",
   "execution_count": 26,
   "id": "6697de36",
   "metadata": {},
   "outputs": [
    {
     "name": "stdout",
     "output_type": "stream",
     "text": [
      "# Grid experiments: 945\n"
     ]
    }
   ],
   "source": [
    "print(\"# Grid experiments: \" + str(len(separations) * len(flux_ratios) * num_fake_planets))"
   ]
  },
  {
   "cell_type": "code",
   "execution_count": 27,
   "id": "26ba369e",
   "metadata": {},
   "outputs": [],
   "source": [
    "contrast_instance.design_fake_planet_experiments(\n",
    "    flux_ratios=flux_ratios,\n",
    "    num_planets=num_fake_planets,\n",
    "    separations=separations,\n",
    "    overwrite=True)"
   ]
  },
  {
   "cell_type": "markdown",
   "id": "63b9cf94",
   "metadata": {},
   "source": [
    "# Write out the job lists - 01 small selection with stacking"
   ]
  },
  {
   "cell_type": "code",
   "execution_count": 28,
   "id": "ef03e944",
   "metadata": {},
   "outputs": [
    {
     "data": {
      "text/plain": [
       "PosixPath('/fast/mbonse/s4/70_results/10_contrast_grids/01_pca.txt')"
      ]
     },
     "execution_count": 28,
     "metadata": {},
     "output_type": "execute_result"
    }
   ],
   "source": [
    "selection_file = experiment_root_dir.parent / Path(\"01_pca.txt\")\n",
    "selection_file"
   ]
  },
  {
   "cell_type": "code",
   "execution_count": 29,
   "id": "bb2ebe6c",
   "metadata": {},
   "outputs": [],
   "source": [
    "with open(selection_file, \"w\") as text_file:\n",
    "    for dataset_name in datasets:\n",
    "        num_exp = 0\n",
    "\n",
    "        for tmp_key, values in contrast_instance.experimental_setups.items():\n",
    "\n",
    "            text_file.write(dataset_name + \" \" + tmp_key + \" 1\\n\")\n",
    "            num_exp += 1\n",
    "            if num_exp >5:\n",
    "                break"
   ]
  },
  {
   "cell_type": "markdown",
   "id": "44a096e9",
   "metadata": {},
   "source": [
    "# Write out the job lists - 02 all with stacking"
   ]
  },
  {
   "cell_type": "code",
   "execution_count": 30,
   "id": "1e2d0b6f",
   "metadata": {},
   "outputs": [],
   "source": [
    "for dataset_name in datasets:\n",
    "    selection_file = experiment_root_dir.parent / Path(\"02_pca_\" + dataset_name + \".txt\")\n",
    "\n",
    "    with open(selection_file, \"w\") as text_file:   \n",
    "\n",
    "            for tmp_key, values in contrast_instance.experimental_setups.items():\n",
    "                text_file.write(dataset_name + \" \" + tmp_key + \" 1\\n\")"
   ]
  },
  {
   "cell_type": "markdown",
   "id": "8b964ba0",
   "metadata": {},
   "source": [
    "# Write out the job lists - 03 small selection without stacking"
   ]
  },
  {
   "cell_type": "code",
   "execution_count": 31,
   "id": "74dc2e09",
   "metadata": {},
   "outputs": [
    {
     "data": {
      "text/plain": [
       "PosixPath('/fast/mbonse/s4/70_results/10_contrast_grids/03_pca.txt')"
      ]
     },
     "execution_count": 31,
     "metadata": {},
     "output_type": "execute_result"
    }
   ],
   "source": [
    "selection_file = experiment_root_dir.parent / Path(\"03_pca.txt\")\n",
    "selection_file"
   ]
  },
  {
   "cell_type": "code",
   "execution_count": 32,
   "id": "2f45c29b",
   "metadata": {},
   "outputs": [],
   "source": [
    "with open(selection_file, \"w\") as text_file:\n",
    "    for dataset_name in datasets:\n",
    "        num_exp = 0\n",
    "\n",
    "        for tmp_key, values in contrast_instance.experimental_setups.items():\n",
    "            text_file.write(dataset_name + \" \" + tmp_key + \" 0\\n\")\n",
    "            num_exp += 1\n",
    "            if num_exp >5:\n",
    "                break"
   ]
  },
  {
   "cell_type": "markdown",
   "id": "3869d5e4",
   "metadata": {},
   "source": [
    "# Write out the job lists - 04 all without stacking"
   ]
  },
  {
   "cell_type": "code",
   "execution_count": 33,
   "id": "222dd585",
   "metadata": {},
   "outputs": [],
   "source": [
    "for dataset_name in datasets:\n",
    "    selection_file = experiment_root_dir.parent / Path(\"04_pca_\" + dataset_name + \".txt\")\n",
    "\n",
    "    with open(selection_file, \"w\") as text_file:   \n",
    "\n",
    "            for tmp_key, values in contrast_instance.experimental_setups.items():\n",
    "                text_file.write(dataset_name + \" \" + tmp_key + \" 0\\n\")"
   ]
  },
  {
   "cell_type": "code",
   "execution_count": null,
   "id": "1e438160",
   "metadata": {},
   "outputs": [],
   "source": []
  }
 ],
 "metadata": {
  "kernelspec": {
   "display_name": "Python 3 (ipykernel)",
   "language": "python",
   "name": "python3"
  },
  "language_info": {
   "codemirror_mode": {
    "name": "ipython",
    "version": 3
   },
   "file_extension": ".py",
   "mimetype": "text/x-python",
   "name": "python",
   "nbconvert_exporter": "python",
   "pygments_lexer": "ipython3",
   "version": "3.10.10"
  }
 },
 "nbformat": 4,
 "nbformat_minor": 5
}
