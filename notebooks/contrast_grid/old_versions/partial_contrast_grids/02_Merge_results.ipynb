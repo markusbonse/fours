{
 "cells": [
  {
   "cell_type": "markdown",
   "id": "c54e8e5d",
   "metadata": {},
   "source": [
    "# Imports"
   ]
  },
  {
   "cell_type": "code",
   "execution_count": 1,
   "id": "80f240dd",
   "metadata": {},
   "outputs": [],
   "source": [
    "from pathlib import Path\n",
    "import pickle\n",
    "import pandas as pd\n",
    "\n",
    "import seaborn as sns\n",
    "from scipy import interpolate\n",
    "import numpy as np\n",
    "import matplotlib.pyplot as plt\n",
    "import matplotlib.gridspec as gridspec\n",
    "\n",
    "from applefy.detections.contrast import Contrast\n",
    "from applefy.utils.positions import center_subpixel\n",
    "\n",
    "from applefy.utils.file_handling import load_adi_data\n",
    "from applefy.utils import flux_ratio2mag, mag2flux_ratio\n",
    "\n",
    "from applefy.utils.photometry import AperturePhotometryMode\n",
    "from applefy.statistics import TTest, gaussian_sigma_2_fpf, \\\n",
    "    fpf_2_gaussian_sigma"
   ]
  },
  {
   "cell_type": "markdown",
   "id": "cca7c1e7",
   "metadata": {},
   "source": [
    "# Load the data"
   ]
  },
  {
   "cell_type": "code",
   "execution_count": 2,
   "id": "af983550",
   "metadata": {},
   "outputs": [],
   "source": [
    "dataset_name = \"HD22049_303_199_C-0065_C_\""
   ]
  },
  {
   "cell_type": "code",
   "execution_count": 3,
   "id": "99a3aed0",
   "metadata": {},
   "outputs": [],
   "source": [
    "dataset_file = Path(\"/fast/mbonse/s4/30_data/\" + dataset_name + \".hdf5\")\n",
    "experiment_root_dir = Path(\"/fast/mbonse/s4/70_results/07_partial_contrast_grid/\")"
   ]
  },
  {
   "cell_type": "code",
   "execution_count": 4,
   "id": "047a96a5",
   "metadata": {},
   "outputs": [],
   "source": [
    "# we need the psf template for contrast calculation\n",
    "science_data, angles, raw_psf_template_data = load_adi_data(\n",
    "    dataset_file,\n",
    "    data_tag=\"object\",\n",
    "    psf_template_tag=\"psf_template\",\n",
    "    para_tag=\"header_object/PARANG\")\n",
    "\n",
    "dit_psf_template = 0.0042560\n",
    "dit_science = 0.08\n",
    "fwhm = 3.6\n",
    "\n",
    "science_data = science_data[:, 12:-12, 12:-12]\n",
    "\n",
    "psf_template = np.median(raw_psf_template_data, axis=0)\n",
    "psf_template = psf_template - np.min(psf_template)"
   ]
  },
  {
   "cell_type": "markdown",
   "id": "077e4774",
   "metadata": {},
   "source": [
    "# Create the full contrast grid config files"
   ]
  },
  {
   "cell_type": "code",
   "execution_count": 5,
   "id": "3d0eba80",
   "metadata": {},
   "outputs": [],
   "source": [
    "tmp_exp_root = experiment_root_dir / dataset_file.name[:-5]\n",
    "tmp_exp_root.mkdir(exist_ok=True)"
   ]
  },
  {
   "cell_type": "code",
   "execution_count": 6,
   "id": "3e69c1f5",
   "metadata": {},
   "outputs": [],
   "source": [
    "contrast_instance = Contrast(\n",
    "    science_sequence=science_data,\n",
    "    psf_template=psf_template,\n",
    "    parang_rad=angles,\n",
    "    psf_fwhm_radius=fwhm / 2,\n",
    "    dit_psf_template=dit_psf_template,\n",
    "    dit_science=dit_science,\n",
    "    scaling_factor=1., # A factor to account e.g. for ND filters\n",
    "    checkpoint_dir=tmp_exp_root)"
   ]
  },
  {
   "cell_type": "markdown",
   "id": "556af3a7",
   "metadata": {},
   "source": [
    "## Design fake planet experiments"
   ]
  },
  {
   "cell_type": "code",
   "execution_count": 7,
   "id": "acb73b41",
   "metadata": {},
   "outputs": [
    {
     "name": "stdout",
     "output_type": "stream",
     "text": [
      "Brightness of fake planets in mag: [ 5.   5.5  6.   6.5  7.   7.5  8.   8.5  9.   9.5 10.  10.5 11.  11.5\n",
      " 12.  12.5 13. ]\n",
      "Planet-to-star flux ratio: [1.00000000e-02 6.30957344e-03 3.98107171e-03 2.51188643e-03\n",
      " 1.58489319e-03 1.00000000e-03 6.30957344e-04 3.98107171e-04\n",
      " 2.51188643e-04 1.58489319e-04 1.00000000e-04 6.30957344e-05\n",
      " 3.98107171e-05 2.51188643e-05 1.58489319e-05 1.00000000e-05\n",
      " 6.30957344e-06]\n"
     ]
    }
   ],
   "source": [
    "# fake planet brightness\n",
    "flux_ratios_mag = np.linspace(5., 13, 17)\n",
    "flux_ratios = mag2flux_ratio(flux_ratios_mag)\n",
    "\n",
    "print(\"Brightness of fake planets in mag: \" + str(flux_ratios_mag))\n",
    "print(\"Planet-to-star flux ratio: \" + str(flux_ratios))"
   ]
  },
  {
   "cell_type": "code",
   "execution_count": 8,
   "id": "a94c0458",
   "metadata": {},
   "outputs": [
    {
     "data": {
      "text/plain": [
       "array([1.5, 2. , 2.5, 3. , 3.5, 4. , 4.5, 5. , 5.5, 6. ])"
      ]
     },
     "execution_count": 8,
     "metadata": {},
     "output_type": "execute_result"
    }
   ],
   "source": [
    "center = center_subpixel(science_data[0])\n",
    "separations = np.arange(fwhm, fwhm*6.5, fwhm / 2)[1:]\n",
    "separations/3.6"
   ]
  },
  {
   "cell_type": "code",
   "execution_count": 9,
   "id": "0707b210",
   "metadata": {},
   "outputs": [
    {
     "name": "stdout",
     "output_type": "stream",
     "text": [
      "Overwriting existing config files.\n"
     ]
    }
   ],
   "source": [
    "num_fake_planets = 3\n",
    "\n",
    "contrast_instance.design_fake_planet_experiments(\n",
    "    flux_ratios=flux_ratios,\n",
    "    num_planets=num_fake_planets,\n",
    "    separations=separations,\n",
    "    overwrite=True)"
   ]
  },
  {
   "cell_type": "markdown",
   "id": "e8159804",
   "metadata": {},
   "source": [
    "# 4. Restore results"
   ]
  },
  {
   "cell_type": "markdown",
   "id": "ecbfdc04",
   "metadata": {},
   "source": [
    "## 4.1 cADI"
   ]
  },
  {
   "cell_type": "code",
   "execution_count": 10,
   "id": "eb458efe",
   "metadata": {},
   "outputs": [],
   "source": [
    "from applefy.utils.file_handling import save_as_fits\n",
    "from s4hci.detection_limits.applefy_wrapper import PCADataReductionGPU, cADIDataReduction, S4DataReduction"
   ]
  },
  {
   "cell_type": "code",
   "execution_count": 11,
   "id": "6d3f0920",
   "metadata": {},
   "outputs": [],
   "source": [
    "cadi_model = cADIDataReduction()"
   ]
  },
  {
   "cell_type": "code",
   "execution_count": 12,
   "id": "5988f74e",
   "metadata": {},
   "outputs": [
    {
     "name": "stdout",
     "output_type": "stream",
     "text": [
      "Running fake planet experiments..."
     ]
    },
    {
     "name": "stderr",
     "output_type": "stream",
     "text": [
      "100%|████████████████████████████████████████████████████████████████████████████████████████████████████████████████████████████████████████████████████████████████████| 511/511 [00:02<00:00, 201.20it/s]"
     ]
    },
    {
     "name": "stdout",
     "output_type": "stream",
     "text": [
      "[DONE]\n"
     ]
    },
    {
     "name": "stderr",
     "output_type": "stream",
     "text": [
      "\n"
     ]
    }
   ],
   "source": [
    "contrast_instance.run_fake_planet_experiments(\n",
    "    algorithm_function=cadi_model,\n",
    "    num_parallel=1)"
   ]
  },
  {
   "cell_type": "markdown",
   "id": "434b4cf9",
   "metadata": {},
   "source": [
    "## PCA"
   ]
  },
  {
   "cell_type": "code",
   "execution_count": 13,
   "id": "9d33cb22",
   "metadata": {},
   "outputs": [],
   "source": [
    "pca_numbers = np.concatenate(\n",
    "        [np.arange(0, 20, 2)[1:],\n",
    "         np.arange(20, 50, 5),\n",
    "         np.arange(50, 100, 10),\n",
    "         np.arange(100, 200, 20),\n",
    "         np.arange(200, 550, 50)])\n",
    "\n",
    "pca_model = PCADataReductionGPU(\n",
    "    approx_svd=10000,\n",
    "    pca_numbers=pca_numbers,\n",
    "    device=\"cpu\",\n",
    "    verbose=True)"
   ]
  },
  {
   "cell_type": "code",
   "execution_count": 14,
   "id": "dc9aa5fd",
   "metadata": {},
   "outputs": [
    {
     "name": "stdout",
     "output_type": "stream",
     "text": [
      "Running fake planet experiments..."
     ]
    },
    {
     "name": "stderr",
     "output_type": "stream",
     "text": [
      "100%|█████████████████████████████████████████████████████████████████████████████████████████████████████████████████████████████████████████████████████████████████████| 511/511 [01:15<00:00,  6.75it/s]"
     ]
    },
    {
     "name": "stdout",
     "output_type": "stream",
     "text": [
      "[DONE]\n"
     ]
    },
    {
     "name": "stderr",
     "output_type": "stream",
     "text": [
      "\n"
     ]
    }
   ],
   "source": [
    "old_results = contrast_instance.results_dict\n",
    "contrast_instance.run_fake_planet_experiments(\n",
    "    algorithm_function=pca_model,\n",
    "    num_parallel=1)\n",
    "contrast_instance.results_dict.update(old_results)"
   ]
  },
  {
   "cell_type": "markdown",
   "id": "8e63ef41",
   "metadata": {},
   "source": [
    "## S4"
   ]
  },
  {
   "cell_type": "code",
   "execution_count": 15,
   "id": "b86aa34a",
   "metadata": {},
   "outputs": [],
   "source": [
    "pre_trained_noise_model = \"/fast/mbonse/s4/70_results/06_contrast_curves/01_train_each_model_once/\" + dataset_name + \"/models/noise_model_fine_tuned.pkl\"\n",
    "pre_trained_normalization = \"/fast/mbonse/s4/70_results/06_contrast_curves/01_train_each_model_once/\" + dataset_name + \"/models/normalization_model.pkl\""
   ]
  },
  {
   "cell_type": "code",
   "execution_count": 16,
   "id": "bc38aa30",
   "metadata": {
    "scrolled": true
   },
   "outputs": [
    {
     "name": "stdout",
     "output_type": "stream",
     "text": [
      "Running fake planet experiments..."
     ]
    },
    {
     "name": "stderr",
     "output_type": "stream",
     "text": [
      "100%|████████████████████████████████████████████████████████████████████████████████████████████████████████████████████████████████████████████████████████████████████| 511/511 [00:05<00:00, 101.99it/s]\n"
     ]
    },
    {
     "name": "stdout",
     "output_type": "stream",
     "text": [
      "[DONE]\n",
      "Running fake planet experiments..."
     ]
    },
    {
     "name": "stderr",
     "output_type": "stream",
     "text": [
      "100%|████████████████████████████████████████████████████████████████████████████████████████████████████████████████████████████████████████████████████████████████████| 511/511 [00:04<00:00, 102.56it/s]\n"
     ]
    },
    {
     "name": "stdout",
     "output_type": "stream",
     "text": [
      "[DONE]\n",
      "Running fake planet experiments..."
     ]
    },
    {
     "name": "stderr",
     "output_type": "stream",
     "text": [
      "100%|█████████████████████████████████████████████████████████████████████████████████████████████████████████████████████████████████████████████████████████████████████| 511/511 [00:05<00:00, 99.71it/s]"
     ]
    },
    {
     "name": "stdout",
     "output_type": "stream",
     "text": [
      "[DONE]\n"
     ]
    },
    {
     "name": "stderr",
     "output_type": "stream",
     "text": [
      "\n"
     ]
    }
   ],
   "source": [
    "special_names = [\"raw_model\", \"planet_learned\", \"planet_learned_fine_tune\"]\n",
    "\n",
    "for special_name in special_names:\n",
    "    s4_model = S4DataReduction(\n",
    "        special_name=special_name,\n",
    "        noise_model_file=pre_trained_noise_model,\n",
    "        normalization_model_file=pre_trained_normalization,\n",
    "        device=\"cpu\",\n",
    "        work_dir=None,\n",
    "        verbose=True)\n",
    "    \n",
    "    old_results = contrast_instance.results_dict\n",
    "    contrast_instance.run_fake_planet_experiments(\n",
    "        algorithm_function=s4_model,\n",
    "        num_parallel=1)\n",
    "    contrast_instance.results_dict.update(old_results)"
   ]
  },
  {
   "cell_type": "code",
   "execution_count": 17,
   "id": "f4f8018d",
   "metadata": {},
   "outputs": [
    {
     "data": {
      "text/plain": [
       "dict_keys(['s4_mean_planet_learned_fine_tune', 's4_median_planet_learned_fine_tune', 's4_mean_planet_learned', 's4_median_planet_learned', 's4_mean_raw_model', 's4_median_raw_model', 'PCA_002_components', 'PCA_004_components', 'PCA_006_components', 'PCA_008_components', 'PCA_010_components', 'PCA_012_components', 'PCA_014_components', 'PCA_016_components', 'PCA_018_components', 'PCA_020_components', 'PCA_025_components', 'PCA_030_components', 'PCA_035_components', 'PCA_040_components', 'PCA_045_components', 'PCA_050_components', 'PCA_060_components', 'PCA_070_components', 'PCA_080_components', 'PCA_090_components', 'PCA_100_components', 'PCA_120_components', 'PCA_140_components', 'PCA_160_components', 'PCA_180_components', 'PCA_200_components', 'PCA_250_components', 'PCA_300_components', 'PCA_350_components', 'PCA_400_components', 'PCA_450_components', 'PCA_500_components', 'cADI'])"
      ]
     },
     "execution_count": 17,
     "metadata": {},
     "output_type": "execute_result"
    }
   ],
   "source": [
    "contrast_instance.results_dict.keys()"
   ]
  },
  {
   "cell_type": "markdown",
   "id": "7ea3011e",
   "metadata": {},
   "source": [
    "# Compute the contrast grid"
   ]
  },
  {
   "cell_type": "code",
   "execution_count": 18,
   "id": "798b7bac",
   "metadata": {},
   "outputs": [],
   "source": [
    "# Use apertures pixel values\n",
    "photometry_mode_planet = AperturePhotometryMode(\n",
    "    \"AS\", # or \"ASS\"\n",
    "    psf_fwhm_radius=fwhm/2,\n",
    "    search_area=0.5)\n",
    "\n",
    "photometry_mode_noise = AperturePhotometryMode(\n",
    "    \"AS\",\n",
    "    psf_fwhm_radius=fwhm/2)"
   ]
  },
  {
   "cell_type": "markdown",
   "id": "6744c5b3",
   "metadata": {},
   "source": [
    "# Use spaced pixel values\n",
    "photometry_mode_planet = AperturePhotometryMode(\n",
    "    \"FS\", # or \"P\"\n",
    "    psf_fwhm_radius=fwhm/2,\n",
    "    search_area=0.5)\n",
    "photometry_mode_noise = AperturePhotometryMode(\n",
    "    \"P\",\n",
    "    psf_fwhm_radius=fwhm/2)"
   ]
  },
  {
   "cell_type": "code",
   "execution_count": 19,
   "id": "e4ba3ece",
   "metadata": {},
   "outputs": [],
   "source": [
    "contrast_instance.prepare_contrast_results(\n",
    "    photometry_mode_planet=photometry_mode_planet,\n",
    "    photometry_mode_noise=photometry_mode_noise)"
   ]
  },
  {
   "cell_type": "code",
   "execution_count": 20,
   "id": "22863218",
   "metadata": {},
   "outputs": [],
   "source": [
    "statistical_test = TTest()"
   ]
  },
  {
   "cell_type": "code",
   "execution_count": 21,
   "id": "38d9761e",
   "metadata": {
    "scrolled": true
   },
   "outputs": [
    {
     "name": "stdout",
     "output_type": "stream",
     "text": [
      "Computing contrast grid for s4_mean_planet_learned_fine_tune\n",
      "Computing contrast grid with multiprocessing:\n",
      ".................................................................................................."
     ]
    },
    {
     "name": "stderr",
     "output_type": "stream",
     "text": [
      "/lustre/home/mbonse/2023_s4/50_code/venv_s4/lib/python3.10/site-packages/applefy/statistics/parametric.py:110: RuntimeWarning: divide by zero encountered in scalar divide\n",
      "  statistic_t = (y_bar_planet - x_bar_noise) / noise\n",
      "/lustre/home/mbonse/2023_s4/50_code/venv_s4/lib/python3.10/site-packages/applefy/statistics/parametric.py:110: RuntimeWarning: divide by zero encountered in scalar divide\n",
      "  statistic_t = (y_bar_planet - x_bar_noise) / noise\n",
      "/lustre/home/mbonse/2023_s4/50_code/venv_s4/lib/python3.10/site-packages/applefy/statistics/parametric.py:110: RuntimeWarning: divide by zero encountered in scalar divide\n",
      "  statistic_t = (y_bar_planet - x_bar_noise) / noise\n"
     ]
    },
    {
     "name": "stdout",
     "output_type": "stream",
     "text": [
      "......................"
     ]
    },
    {
     "name": "stderr",
     "output_type": "stream",
     "text": [
      "/lustre/home/mbonse/2023_s4/50_code/venv_s4/lib/python3.10/site-packages/applefy/statistics/parametric.py:110: RuntimeWarning: divide by zero encountered in scalar divide\n",
      "  statistic_t = (y_bar_planet - x_bar_noise) / noise\n",
      "/lustre/home/mbonse/2023_s4/50_code/venv_s4/lib/python3.10/site-packages/applefy/statistics/parametric.py:110: RuntimeWarning: divide by zero encountered in scalar divide\n",
      "  statistic_t = (y_bar_planet - x_bar_noise) / noise\n",
      "/lustre/home/mbonse/2023_s4/50_code/venv_s4/lib/python3.10/site-packages/applefy/statistics/parametric.py:110: RuntimeWarning: divide by zero encountered in scalar divide\n",
      "  statistic_t = (y_bar_planet - x_bar_noise) / noise\n"
     ]
    },
    {
     "name": "stdout",
     "output_type": "stream",
     "text": [
      "........"
     ]
    },
    {
     "name": "stderr",
     "output_type": "stream",
     "text": [
      "/lustre/home/mbonse/2023_s4/50_code/venv_s4/lib/python3.10/site-packages/applefy/statistics/parametric.py:110: RuntimeWarning: divide by zero encountered in scalar divide\n",
      "  statistic_t = (y_bar_planet - x_bar_noise) / noise\n",
      "/lustre/home/mbonse/2023_s4/50_code/venv_s4/lib/python3.10/site-packages/applefy/statistics/parametric.py:110: RuntimeWarning: divide by zero encountered in scalar divide\n",
      "  statistic_t = (y_bar_planet - x_bar_noise) / noise\n",
      "/lustre/home/mbonse/2023_s4/50_code/venv_s4/lib/python3.10/site-packages/applefy/statistics/parametric.py:110: RuntimeWarning: divide by zero encountered in scalar divide\n",
      "  statistic_t = (y_bar_planet - x_bar_noise) / noise\n"
     ]
    },
    {
     "name": "stdout",
     "output_type": "stream",
     "text": [
      "............."
     ]
    },
    {
     "name": "stderr",
     "output_type": "stream",
     "text": [
      "/lustre/home/mbonse/2023_s4/50_code/venv_s4/lib/python3.10/site-packages/applefy/statistics/parametric.py:110: RuntimeWarning: divide by zero encountered in scalar divide\n",
      "  statistic_t = (y_bar_planet - x_bar_noise) / noise\n",
      "/lustre/home/mbonse/2023_s4/50_code/venv_s4/lib/python3.10/site-packages/applefy/statistics/parametric.py:110: RuntimeWarning: divide by zero encountered in scalar divide\n",
      "  statistic_t = (y_bar_planet - x_bar_noise) / noise\n"
     ]
    },
    {
     "name": "stdout",
     "output_type": "stream",
     "text": [
      "."
     ]
    },
    {
     "name": "stderr",
     "output_type": "stream",
     "text": [
      "/lustre/home/mbonse/2023_s4/50_code/venv_s4/lib/python3.10/site-packages/applefy/statistics/parametric.py:110: RuntimeWarning: divide by zero encountered in scalar divide\n",
      "  statistic_t = (y_bar_planet - x_bar_noise) / noise\n",
      "/lustre/home/mbonse/2023_s4/50_code/venv_s4/lib/python3.10/site-packages/applefy/statistics/parametric.py:110: RuntimeWarning: divide by zero encountered in scalar divide\n",
      "  statistic_t = (y_bar_planet - x_bar_noise) / noise\n"
     ]
    },
    {
     "name": "stdout",
     "output_type": "stream",
     "text": [
      "."
     ]
    },
    {
     "name": "stderr",
     "output_type": "stream",
     "text": [
      "/lustre/home/mbonse/2023_s4/50_code/venv_s4/lib/python3.10/site-packages/applefy/statistics/parametric.py:110: RuntimeWarning: divide by zero encountered in scalar divide\n",
      "  statistic_t = (y_bar_planet - x_bar_noise) / noise\n"
     ]
    },
    {
     "name": "stdout",
     "output_type": "stream",
     "text": [
      "."
     ]
    },
    {
     "name": "stderr",
     "output_type": "stream",
     "text": [
      "/lustre/home/mbonse/2023_s4/50_code/venv_s4/lib/python3.10/site-packages/applefy/statistics/parametric.py:110: RuntimeWarning: divide by zero encountered in scalar divide\n",
      "  statistic_t = (y_bar_planet - x_bar_noise) / noise\n"
     ]
    },
    {
     "name": "stdout",
     "output_type": "stream",
     "text": [
      "......................"
     ]
    },
    {
     "name": "stderr",
     "output_type": "stream",
     "text": [
      "/lustre/home/mbonse/2023_s4/50_code/venv_s4/lib/python3.10/site-packages/applefy/statistics/parametric.py:110: RuntimeWarning: divide by zero encountered in scalar divide\n",
      "  statistic_t = (y_bar_planet - x_bar_noise) / noise\n",
      "/lustre/home/mbonse/2023_s4/50_code/venv_s4/lib/python3.10/site-packages/applefy/statistics/parametric.py:110: RuntimeWarning: divide by zero encountered in scalar divide\n",
      "  statistic_t = (y_bar_planet - x_bar_noise) / noise\n",
      "/lustre/home/mbonse/2023_s4/50_code/venv_s4/lib/python3.10/site-packages/applefy/statistics/parametric.py:110: RuntimeWarning: divide by zero encountered in scalar divide\n",
      "  statistic_t = (y_bar_planet - x_bar_noise) / noise\n"
     ]
    },
    {
     "name": "stdout",
     "output_type": "stream",
     "text": [
      "....[DONE]\n",
      "Computing contrast grid for s4_median_planet_learned_fine_tune\n",
      "Computing contrast grid with multiprocessing:\n",
      "................................................................................................."
     ]
    },
    {
     "name": "stderr",
     "output_type": "stream",
     "text": [
      "/lustre/home/mbonse/2023_s4/50_code/venv_s4/lib/python3.10/site-packages/applefy/statistics/parametric.py:110: RuntimeWarning: divide by zero encountered in scalar divide\n",
      "  statistic_t = (y_bar_planet - x_bar_noise) / noise\n",
      "/lustre/home/mbonse/2023_s4/50_code/venv_s4/lib/python3.10/site-packages/applefy/statistics/parametric.py:110: RuntimeWarning: divide by zero encountered in scalar divide\n",
      "  statistic_t = (y_bar_planet - x_bar_noise) / noise\n",
      "/lustre/home/mbonse/2023_s4/50_code/venv_s4/lib/python3.10/site-packages/applefy/statistics/parametric.py:110: RuntimeWarning: divide by zero encountered in scalar divide\n",
      "  statistic_t = (y_bar_planet - x_bar_noise) / noise\n"
     ]
    },
    {
     "name": "stdout",
     "output_type": "stream",
     "text": [
      "......................."
     ]
    },
    {
     "name": "stderr",
     "output_type": "stream",
     "text": [
      "/lustre/home/mbonse/2023_s4/50_code/venv_s4/lib/python3.10/site-packages/applefy/statistics/parametric.py:110: RuntimeWarning: divide by zero encountered in scalar divide\n",
      "  statistic_t = (y_bar_planet - x_bar_noise) / noise\n",
      "/lustre/home/mbonse/2023_s4/50_code/venv_s4/lib/python3.10/site-packages/applefy/statistics/parametric.py:110: RuntimeWarning: divide by zero encountered in scalar divide\n",
      "  statistic_t = (y_bar_planet - x_bar_noise) / noise\n",
      "/lustre/home/mbonse/2023_s4/50_code/venv_s4/lib/python3.10/site-packages/applefy/statistics/parametric.py:110: RuntimeWarning: divide by zero encountered in scalar divide\n",
      "  statistic_t = (y_bar_planet - x_bar_noise) / noise\n"
     ]
    },
    {
     "name": "stdout",
     "output_type": "stream",
     "text": [
      "........"
     ]
    },
    {
     "name": "stderr",
     "output_type": "stream",
     "text": [
      "/lustre/home/mbonse/2023_s4/50_code/venv_s4/lib/python3.10/site-packages/applefy/statistics/parametric.py:110: RuntimeWarning: divide by zero encountered in scalar divide\n",
      "  statistic_t = (y_bar_planet - x_bar_noise) / noise\n",
      "/lustre/home/mbonse/2023_s4/50_code/venv_s4/lib/python3.10/site-packages/applefy/statistics/parametric.py:110: RuntimeWarning: divide by zero encountered in scalar divide\n",
      "  statistic_t = (y_bar_planet - x_bar_noise) / noise\n",
      "/lustre/home/mbonse/2023_s4/50_code/venv_s4/lib/python3.10/site-packages/applefy/statistics/parametric.py:110: RuntimeWarning: divide by zero encountered in scalar divide\n",
      "  statistic_t = (y_bar_planet - x_bar_noise) / noise\n"
     ]
    },
    {
     "name": "stdout",
     "output_type": "stream",
     "text": [
      ".............."
     ]
    },
    {
     "name": "stderr",
     "output_type": "stream",
     "text": [
      "/lustre/home/mbonse/2023_s4/50_code/venv_s4/lib/python3.10/site-packages/applefy/statistics/parametric.py:110: RuntimeWarning: divide by zero encountered in scalar divide\n",
      "  statistic_t = (y_bar_planet - x_bar_noise) / noise\n",
      "/lustre/home/mbonse/2023_s4/50_code/venv_s4/lib/python3.10/site-packages/applefy/statistics/parametric.py:110: RuntimeWarning: divide by zero encountered in scalar divide\n",
      "  statistic_t = (y_bar_planet - x_bar_noise) / noise\n",
      "/lustre/home/mbonse/2023_s4/50_code/venv_s4/lib/python3.10/site-packages/applefy/statistics/parametric.py:110: RuntimeWarning: divide by zero encountered in scalar divide\n",
      "  statistic_t = (y_bar_planet - x_bar_noise) / noise\n",
      "/lustre/home/mbonse/2023_s4/50_code/venv_s4/lib/python3.10/site-packages/applefy/statistics/parametric.py:110: RuntimeWarning: divide by zero encountered in scalar divide\n",
      "  statistic_t = (y_bar_planet - x_bar_noise) / noise\n",
      "/lustre/home/mbonse/2023_s4/50_code/venv_s4/lib/python3.10/site-packages/applefy/statistics/parametric.py:110: RuntimeWarning: divide by zero encountered in scalar divide\n",
      "  statistic_t = (y_bar_planet - x_bar_noise) / noise\n",
      "/lustre/home/mbonse/2023_s4/50_code/venv_s4/lib/python3.10/site-packages/applefy/statistics/parametric.py:110: RuntimeWarning: divide by zero encountered in scalar divide\n",
      "  statistic_t = (y_bar_planet - x_bar_noise) / noise\n"
     ]
    },
    {
     "name": "stdout",
     "output_type": "stream",
     "text": [
      "........................"
     ]
    },
    {
     "name": "stderr",
     "output_type": "stream",
     "text": [
      "/lustre/home/mbonse/2023_s4/50_code/venv_s4/lib/python3.10/site-packages/applefy/statistics/parametric.py:110: RuntimeWarning: divide by zero encountered in scalar divide\n",
      "  statistic_t = (y_bar_planet - x_bar_noise) / noise\n",
      "/lustre/home/mbonse/2023_s4/50_code/venv_s4/lib/python3.10/site-packages/applefy/statistics/parametric.py:110: RuntimeWarning: divide by zero encountered in scalar divide\n",
      "  statistic_t = (y_bar_planet - x_bar_noise) / noise\n",
      "/lustre/home/mbonse/2023_s4/50_code/venv_s4/lib/python3.10/site-packages/applefy/statistics/parametric.py:110: RuntimeWarning: divide by zero encountered in scalar divide\n",
      "  statistic_t = (y_bar_planet - x_bar_noise) / noise\n"
     ]
    },
    {
     "name": "stdout",
     "output_type": "stream",
     "text": [
      "....[DONE]\n",
      "Computing contrast grid for s4_mean_planet_learned\n",
      "Computing contrast grid with multiprocessing:\n",
      ".................................................................................................."
     ]
    },
    {
     "name": "stderr",
     "output_type": "stream",
     "text": [
      "/lustre/home/mbonse/2023_s4/50_code/venv_s4/lib/python3.10/site-packages/applefy/statistics/parametric.py:110: RuntimeWarning: divide by zero encountered in scalar divide\n",
      "  statistic_t = (y_bar_planet - x_bar_noise) / noise\n",
      "/lustre/home/mbonse/2023_s4/50_code/venv_s4/lib/python3.10/site-packages/applefy/statistics/parametric.py:110: RuntimeWarning: divide by zero encountered in scalar divide\n",
      "  statistic_t = (y_bar_planet - x_bar_noise) / noise\n",
      "/lustre/home/mbonse/2023_s4/50_code/venv_s4/lib/python3.10/site-packages/applefy/statistics/parametric.py:110: RuntimeWarning: divide by zero encountered in scalar divide\n",
      "  statistic_t = (y_bar_planet - x_bar_noise) / noise\n"
     ]
    },
    {
     "name": "stdout",
     "output_type": "stream",
     "text": [
      "....................."
     ]
    },
    {
     "name": "stderr",
     "output_type": "stream",
     "text": [
      "/lustre/home/mbonse/2023_s4/50_code/venv_s4/lib/python3.10/site-packages/applefy/statistics/parametric.py:110: RuntimeWarning: divide by zero encountered in scalar divide\n",
      "  statistic_t = (y_bar_planet - x_bar_noise) / noise\n",
      "/lustre/home/mbonse/2023_s4/50_code/venv_s4/lib/python3.10/site-packages/applefy/statistics/parametric.py:110: RuntimeWarning: divide by zero encountered in scalar divide\n",
      "  statistic_t = (y_bar_planet - x_bar_noise) / noise\n"
     ]
    },
    {
     "name": "stdout",
     "output_type": "stream",
     "text": [
      "."
     ]
    },
    {
     "name": "stderr",
     "output_type": "stream",
     "text": [
      "/lustre/home/mbonse/2023_s4/50_code/venv_s4/lib/python3.10/site-packages/applefy/statistics/parametric.py:110: RuntimeWarning: divide by zero encountered in scalar divide\n",
      "  statistic_t = (y_bar_planet - x_bar_noise) / noise\n"
     ]
    },
    {
     "name": "stdout",
     "output_type": "stream",
     "text": [
      "........"
     ]
    },
    {
     "name": "stderr",
     "output_type": "stream",
     "text": [
      "/lustre/home/mbonse/2023_s4/50_code/venv_s4/lib/python3.10/site-packages/applefy/statistics/parametric.py:110: RuntimeWarning: divide by zero encountered in scalar divide\n",
      "  statistic_t = (y_bar_planet - x_bar_noise) / noise\n",
      "/lustre/home/mbonse/2023_s4/50_code/venv_s4/lib/python3.10/site-packages/applefy/statistics/parametric.py:110: RuntimeWarning: divide by zero encountered in scalar divide\n",
      "  statistic_t = (y_bar_planet - x_bar_noise) / noise\n",
      "/lustre/home/mbonse/2023_s4/50_code/venv_s4/lib/python3.10/site-packages/applefy/statistics/parametric.py:110: RuntimeWarning: divide by zero encountered in scalar divide\n",
      "  statistic_t = (y_bar_planet - x_bar_noise) / noise\n"
     ]
    },
    {
     "name": "stdout",
     "output_type": "stream",
     "text": [
      "............."
     ]
    },
    {
     "name": "stderr",
     "output_type": "stream",
     "text": [
      "/lustre/home/mbonse/2023_s4/50_code/venv_s4/lib/python3.10/site-packages/applefy/statistics/parametric.py:110: RuntimeWarning: divide by zero encountered in scalar divide\n",
      "  statistic_t = (y_bar_planet - x_bar_noise) / noise\n",
      "/lustre/home/mbonse/2023_s4/50_code/venv_s4/lib/python3.10/site-packages/applefy/statistics/parametric.py:110: RuntimeWarning: divide by zero encountered in scalar divide\n",
      "  statistic_t = (y_bar_planet - x_bar_noise) / noise\n"
     ]
    },
    {
     "name": "stdout",
     "output_type": "stream",
     "text": [
      "."
     ]
    },
    {
     "name": "stderr",
     "output_type": "stream",
     "text": [
      "/lustre/home/mbonse/2023_s4/50_code/venv_s4/lib/python3.10/site-packages/applefy/statistics/parametric.py:110: RuntimeWarning: divide by zero encountered in scalar divide\n",
      "  statistic_t = (y_bar_planet - x_bar_noise) / noise\n",
      "/lustre/home/mbonse/2023_s4/50_code/venv_s4/lib/python3.10/site-packages/applefy/statistics/parametric.py:110: RuntimeWarning: divide by zero encountered in scalar divide\n",
      "  statistic_t = (y_bar_planet - x_bar_noise) / noise\n",
      "/lustre/home/mbonse/2023_s4/50_code/venv_s4/lib/python3.10/site-packages/applefy/statistics/parametric.py:110: RuntimeWarning: divide by zero encountered in scalar divide\n",
      "  statistic_t = (y_bar_planet - x_bar_noise) / noise\n"
     ]
    },
    {
     "name": "stdout",
     "output_type": "stream",
     "text": [
      "."
     ]
    },
    {
     "name": "stderr",
     "output_type": "stream",
     "text": [
      "/lustre/home/mbonse/2023_s4/50_code/venv_s4/lib/python3.10/site-packages/applefy/statistics/parametric.py:110: RuntimeWarning: divide by zero encountered in scalar divide\n",
      "  statistic_t = (y_bar_planet - x_bar_noise) / noise\n"
     ]
    },
    {
     "name": "stdout",
     "output_type": "stream",
     "text": [
      "......................."
     ]
    },
    {
     "name": "stderr",
     "output_type": "stream",
     "text": [
      "/lustre/home/mbonse/2023_s4/50_code/venv_s4/lib/python3.10/site-packages/applefy/statistics/parametric.py:110: RuntimeWarning: divide by zero encountered in scalar divide\n",
      "  statistic_t = (y_bar_planet - x_bar_noise) / noise\n",
      "/lustre/home/mbonse/2023_s4/50_code/venv_s4/lib/python3.10/site-packages/applefy/statistics/parametric.py:110: RuntimeWarning: divide by zero encountered in scalar divide\n",
      "  statistic_t = (y_bar_planet - x_bar_noise) / noise\n",
      "/lustre/home/mbonse/2023_s4/50_code/venv_s4/lib/python3.10/site-packages/applefy/statistics/parametric.py:110: RuntimeWarning: divide by zero encountered in scalar divide\n",
      "  statistic_t = (y_bar_planet - x_bar_noise) / noise\n"
     ]
    },
    {
     "name": "stdout",
     "output_type": "stream",
     "text": [
      "....[DONE]\n",
      "Computing contrast grid for s4_median_planet_learned\n",
      "Computing contrast grid with multiprocessing:\n",
      ".................................................................................................."
     ]
    },
    {
     "name": "stderr",
     "output_type": "stream",
     "text": [
      "/lustre/home/mbonse/2023_s4/50_code/venv_s4/lib/python3.10/site-packages/applefy/statistics/parametric.py:110: RuntimeWarning: divide by zero encountered in scalar divide\n",
      "  statistic_t = (y_bar_planet - x_bar_noise) / noise\n",
      "/lustre/home/mbonse/2023_s4/50_code/venv_s4/lib/python3.10/site-packages/applefy/statistics/parametric.py:110: RuntimeWarning: divide by zero encountered in scalar divide\n",
      "  statistic_t = (y_bar_planet - x_bar_noise) / noise\n",
      "/lustre/home/mbonse/2023_s4/50_code/venv_s4/lib/python3.10/site-packages/applefy/statistics/parametric.py:110: RuntimeWarning: divide by zero encountered in scalar divide\n",
      "  statistic_t = (y_bar_planet - x_bar_noise) / noise\n"
     ]
    },
    {
     "name": "stdout",
     "output_type": "stream",
     "text": [
      "......................"
     ]
    },
    {
     "name": "stderr",
     "output_type": "stream",
     "text": [
      "/lustre/home/mbonse/2023_s4/50_code/venv_s4/lib/python3.10/site-packages/applefy/statistics/parametric.py:110: RuntimeWarning: divide by zero encountered in scalar divide\n",
      "  statistic_t = (y_bar_planet - x_bar_noise) / noise\n",
      "/lustre/home/mbonse/2023_s4/50_code/venv_s4/lib/python3.10/site-packages/applefy/statistics/parametric.py:110: RuntimeWarning: divide by zero encountered in scalar divide\n",
      "  statistic_t = (y_bar_planet - x_bar_noise) / noise\n",
      "/lustre/home/mbonse/2023_s4/50_code/venv_s4/lib/python3.10/site-packages/applefy/statistics/parametric.py:110: RuntimeWarning: divide by zero encountered in scalar divide\n",
      "  statistic_t = (y_bar_planet - x_bar_noise) / noise\n"
     ]
    },
    {
     "name": "stdout",
     "output_type": "stream",
     "text": [
      "......."
     ]
    },
    {
     "name": "stderr",
     "output_type": "stream",
     "text": [
      "/lustre/home/mbonse/2023_s4/50_code/venv_s4/lib/python3.10/site-packages/applefy/statistics/parametric.py:110: RuntimeWarning: divide by zero encountered in scalar divide\n",
      "  statistic_t = (y_bar_planet - x_bar_noise) / noise\n",
      "/lustre/home/mbonse/2023_s4/50_code/venv_s4/lib/python3.10/site-packages/applefy/statistics/parametric.py:110: RuntimeWarning: divide by zero encountered in scalar divide\n",
      "  statistic_t = (y_bar_planet - x_bar_noise) / noise\n",
      "/lustre/home/mbonse/2023_s4/50_code/venv_s4/lib/python3.10/site-packages/applefy/statistics/parametric.py:110: RuntimeWarning: divide by zero encountered in scalar divide\n",
      "  statistic_t = (y_bar_planet - x_bar_noise) / noise\n"
     ]
    },
    {
     "name": "stdout",
     "output_type": "stream",
     "text": [
      ".............."
     ]
    },
    {
     "name": "stderr",
     "output_type": "stream",
     "text": [
      "/lustre/home/mbonse/2023_s4/50_code/venv_s4/lib/python3.10/site-packages/applefy/statistics/parametric.py:110: RuntimeWarning: divide by zero encountered in scalar divide\n",
      "  statistic_t = (y_bar_planet - x_bar_noise) / noise\n",
      "/lustre/home/mbonse/2023_s4/50_code/venv_s4/lib/python3.10/site-packages/applefy/statistics/parametric.py:110: RuntimeWarning: divide by zero encountered in scalar divide\n",
      "  statistic_t = (y_bar_planet - x_bar_noise) / noise\n",
      "/lustre/home/mbonse/2023_s4/50_code/venv_s4/lib/python3.10/site-packages/applefy/statistics/parametric.py:110: RuntimeWarning: divide by zero encountered in scalar divide\n",
      "  statistic_t = (y_bar_planet - x_bar_noise) / noise\n"
     ]
    },
    {
     "name": "stdout",
     "output_type": "stream",
     "text": [
      ".."
     ]
    },
    {
     "name": "stderr",
     "output_type": "stream",
     "text": [
      "/lustre/home/mbonse/2023_s4/50_code/venv_s4/lib/python3.10/site-packages/applefy/statistics/parametric.py:110: RuntimeWarning: divide by zero encountered in scalar divide\n",
      "  statistic_t = (y_bar_planet - x_bar_noise) / noise\n",
      "/lustre/home/mbonse/2023_s4/50_code/venv_s4/lib/python3.10/site-packages/applefy/statistics/parametric.py:110: RuntimeWarning: divide by zero encountered in scalar divide\n",
      "  statistic_t = (y_bar_planet - x_bar_noise) / noise\n"
     ]
    },
    {
     "name": "stdout",
     "output_type": "stream",
     "text": [
      "."
     ]
    },
    {
     "name": "stderr",
     "output_type": "stream",
     "text": [
      "/lustre/home/mbonse/2023_s4/50_code/venv_s4/lib/python3.10/site-packages/applefy/statistics/parametric.py:110: RuntimeWarning: divide by zero encountered in scalar divide\n",
      "  statistic_t = (y_bar_planet - x_bar_noise) / noise\n"
     ]
    },
    {
     "name": "stdout",
     "output_type": "stream",
     "text": [
      "......................"
     ]
    },
    {
     "name": "stderr",
     "output_type": "stream",
     "text": [
      "/lustre/home/mbonse/2023_s4/50_code/venv_s4/lib/python3.10/site-packages/applefy/statistics/parametric.py:110: RuntimeWarning: divide by zero encountered in scalar divide\n",
      "  statistic_t = (y_bar_planet - x_bar_noise) / noise\n",
      "/lustre/home/mbonse/2023_s4/50_code/venv_s4/lib/python3.10/site-packages/applefy/statistics/parametric.py:110: RuntimeWarning: divide by zero encountered in scalar divide\n",
      "  statistic_t = (y_bar_planet - x_bar_noise) / noise\n",
      "/lustre/home/mbonse/2023_s4/50_code/venv_s4/lib/python3.10/site-packages/applefy/statistics/parametric.py:110: RuntimeWarning: divide by zero encountered in scalar divide\n",
      "  statistic_t = (y_bar_planet - x_bar_noise) / noise\n"
     ]
    },
    {
     "name": "stdout",
     "output_type": "stream",
     "text": [
      "....[DONE]\n",
      "Computing contrast grid for s4_mean_raw_model\n",
      "Computing contrast grid with multiprocessing:\n",
      ".................................................................................................."
     ]
    },
    {
     "name": "stderr",
     "output_type": "stream",
     "text": [
      "/lustre/home/mbonse/2023_s4/50_code/venv_s4/lib/python3.10/site-packages/applefy/statistics/parametric.py:110: RuntimeWarning: divide by zero encountered in scalar divide\n",
      "  statistic_t = (y_bar_planet - x_bar_noise) / noise\n",
      "/lustre/home/mbonse/2023_s4/50_code/venv_s4/lib/python3.10/site-packages/applefy/statistics/parametric.py:110: RuntimeWarning: divide by zero encountered in scalar divide\n",
      "  statistic_t = (y_bar_planet - x_bar_noise) / noise\n",
      "/lustre/home/mbonse/2023_s4/50_code/venv_s4/lib/python3.10/site-packages/applefy/statistics/parametric.py:110: RuntimeWarning: divide by zero encountered in scalar divide\n",
      "  statistic_t = (y_bar_planet - x_bar_noise) / noise\n"
     ]
    },
    {
     "name": "stdout",
     "output_type": "stream",
     "text": [
      "....................."
     ]
    },
    {
     "name": "stderr",
     "output_type": "stream",
     "text": [
      "/lustre/home/mbonse/2023_s4/50_code/venv_s4/lib/python3.10/site-packages/applefy/statistics/parametric.py:110: RuntimeWarning: divide by zero encountered in scalar divide\n",
      "  statistic_t = (y_bar_planet - x_bar_noise) / noise\n"
     ]
    },
    {
     "name": "stdout",
     "output_type": "stream",
     "text": [
      "."
     ]
    },
    {
     "name": "stderr",
     "output_type": "stream",
     "text": [
      "/lustre/home/mbonse/2023_s4/50_code/venv_s4/lib/python3.10/site-packages/applefy/statistics/parametric.py:110: RuntimeWarning: divide by zero encountered in scalar divide\n",
      "  statistic_t = (y_bar_planet - x_bar_noise) / noise\n",
      "/lustre/home/mbonse/2023_s4/50_code/venv_s4/lib/python3.10/site-packages/applefy/statistics/parametric.py:110: RuntimeWarning: divide by zero encountered in scalar divide\n",
      "  statistic_t = (y_bar_planet - x_bar_noise) / noise\n"
     ]
    },
    {
     "name": "stdout",
     "output_type": "stream",
     "text": [
      "......."
     ]
    },
    {
     "name": "stderr",
     "output_type": "stream",
     "text": [
      "/lustre/home/mbonse/2023_s4/50_code/venv_s4/lib/python3.10/site-packages/applefy/statistics/parametric.py:110: RuntimeWarning: divide by zero encountered in scalar divide\n",
      "  statistic_t = (y_bar_planet - x_bar_noise) / noise\n"
     ]
    },
    {
     "name": "stdout",
     "output_type": "stream",
     "text": [
      "."
     ]
    },
    {
     "name": "stderr",
     "output_type": "stream",
     "text": [
      "/lustre/home/mbonse/2023_s4/50_code/venv_s4/lib/python3.10/site-packages/applefy/statistics/parametric.py:110: RuntimeWarning: divide by zero encountered in scalar divide\n",
      "  statistic_t = (y_bar_planet - x_bar_noise) / noise\n",
      "/lustre/home/mbonse/2023_s4/50_code/venv_s4/lib/python3.10/site-packages/applefy/statistics/parametric.py:110: RuntimeWarning: divide by zero encountered in scalar divide\n",
      "  statistic_t = (y_bar_planet - x_bar_noise) / noise\n"
     ]
    },
    {
     "name": "stdout",
     "output_type": "stream",
     "text": [
      ".............."
     ]
    },
    {
     "name": "stderr",
     "output_type": "stream",
     "text": [
      "/lustre/home/mbonse/2023_s4/50_code/venv_s4/lib/python3.10/site-packages/applefy/statistics/parametric.py:110: RuntimeWarning: divide by zero encountered in scalar divide\n",
      "  statistic_t = (y_bar_planet - x_bar_noise) / noise\n",
      "/lustre/home/mbonse/2023_s4/50_code/venv_s4/lib/python3.10/site-packages/applefy/statistics/parametric.py:110: RuntimeWarning: divide by zero encountered in scalar divide\n",
      "  statistic_t = (y_bar_planet - x_bar_noise) / noise\n",
      "/lustre/home/mbonse/2023_s4/50_code/venv_s4/lib/python3.10/site-packages/applefy/statistics/parametric.py:110: RuntimeWarning: divide by zero encountered in scalar divide\n",
      "  statistic_t = (y_bar_planet - x_bar_noise) / noise\n",
      "/lustre/home/mbonse/2023_s4/50_code/venv_s4/lib/python3.10/site-packages/applefy/statistics/parametric.py:110: RuntimeWarning: divide by zero encountered in scalar divide\n",
      "  statistic_t = (y_bar_planet - x_bar_noise) / noise\n"
     ]
    },
    {
     "name": "stdout",
     "output_type": "stream",
     "text": [
      "."
     ]
    },
    {
     "name": "stderr",
     "output_type": "stream",
     "text": [
      "/lustre/home/mbonse/2023_s4/50_code/venv_s4/lib/python3.10/site-packages/applefy/statistics/parametric.py:110: RuntimeWarning: divide by zero encountered in scalar divide\n",
      "  statistic_t = (y_bar_planet - x_bar_noise) / noise\n"
     ]
    },
    {
     "name": "stdout",
     "output_type": "stream",
     "text": [
      ".."
     ]
    },
    {
     "name": "stderr",
     "output_type": "stream",
     "text": [
      "/lustre/home/mbonse/2023_s4/50_code/venv_s4/lib/python3.10/site-packages/applefy/statistics/parametric.py:110: RuntimeWarning: divide by zero encountered in scalar divide\n",
      "  statistic_t = (y_bar_planet - x_bar_noise) / noise\n"
     ]
    },
    {
     "name": "stdout",
     "output_type": "stream",
     "text": [
      "....................."
     ]
    },
    {
     "name": "stderr",
     "output_type": "stream",
     "text": [
      "/lustre/home/mbonse/2023_s4/50_code/venv_s4/lib/python3.10/site-packages/applefy/statistics/parametric.py:110: RuntimeWarning: divide by zero encountered in scalar divide\n",
      "  statistic_t = (y_bar_planet - x_bar_noise) / noise\n",
      "/lustre/home/mbonse/2023_s4/50_code/venv_s4/lib/python3.10/site-packages/applefy/statistics/parametric.py:110: RuntimeWarning: divide by zero encountered in scalar divide\n",
      "  statistic_t = (y_bar_planet - x_bar_noise) / noise\n",
      "/lustre/home/mbonse/2023_s4/50_code/venv_s4/lib/python3.10/site-packages/applefy/statistics/parametric.py:110: RuntimeWarning: divide by zero encountered in scalar divide\n",
      "  statistic_t = (y_bar_planet - x_bar_noise) / noise\n"
     ]
    },
    {
     "name": "stdout",
     "output_type": "stream",
     "text": [
      "....[DONE]\n",
      "Computing contrast grid for s4_median_raw_model\n",
      "Computing contrast grid with multiprocessing:\n",
      ".................................................................................................."
     ]
    },
    {
     "name": "stderr",
     "output_type": "stream",
     "text": [
      "/lustre/home/mbonse/2023_s4/50_code/venv_s4/lib/python3.10/site-packages/applefy/statistics/parametric.py:110: RuntimeWarning: divide by zero encountered in scalar divide\n",
      "  statistic_t = (y_bar_planet - x_bar_noise) / noise\n",
      "/lustre/home/mbonse/2023_s4/50_code/venv_s4/lib/python3.10/site-packages/applefy/statistics/parametric.py:110: RuntimeWarning: divide by zero encountered in scalar divide\n",
      "  statistic_t = (y_bar_planet - x_bar_noise) / noise\n",
      "/lustre/home/mbonse/2023_s4/50_code/venv_s4/lib/python3.10/site-packages/applefy/statistics/parametric.py:110: RuntimeWarning: divide by zero encountered in scalar divide\n",
      "  statistic_t = (y_bar_planet - x_bar_noise) / noise\n"
     ]
    },
    {
     "name": "stdout",
     "output_type": "stream",
     "text": [
      "...................."
     ]
    },
    {
     "name": "stderr",
     "output_type": "stream",
     "text": [
      "/lustre/home/mbonse/2023_s4/50_code/venv_s4/lib/python3.10/site-packages/applefy/statistics/parametric.py:110: RuntimeWarning: divide by zero encountered in scalar divide\n",
      "  statistic_t = (y_bar_planet - x_bar_noise) / noise\n"
     ]
    },
    {
     "name": "stdout",
     "output_type": "stream",
     "text": [
      ".."
     ]
    },
    {
     "name": "stderr",
     "output_type": "stream",
     "text": [
      "/lustre/home/mbonse/2023_s4/50_code/venv_s4/lib/python3.10/site-packages/applefy/statistics/parametric.py:110: RuntimeWarning: divide by zero encountered in scalar divide\n",
      "  statistic_t = (y_bar_planet - x_bar_noise) / noise\n",
      "/lustre/home/mbonse/2023_s4/50_code/venv_s4/lib/python3.10/site-packages/applefy/statistics/parametric.py:110: RuntimeWarning: divide by zero encountered in scalar divide\n",
      "  statistic_t = (y_bar_planet - x_bar_noise) / noise\n"
     ]
    },
    {
     "name": "stdout",
     "output_type": "stream",
     "text": [
      "......"
     ]
    },
    {
     "name": "stderr",
     "output_type": "stream",
     "text": [
      "/lustre/home/mbonse/2023_s4/50_code/venv_s4/lib/python3.10/site-packages/applefy/statistics/parametric.py:110: RuntimeWarning: divide by zero encountered in scalar divide\n",
      "  statistic_t = (y_bar_planet - x_bar_noise) / noise\n"
     ]
    },
    {
     "name": "stdout",
     "output_type": "stream",
     "text": [
      "."
     ]
    },
    {
     "name": "stderr",
     "output_type": "stream",
     "text": [
      "/lustre/home/mbonse/2023_s4/50_code/venv_s4/lib/python3.10/site-packages/applefy/statistics/parametric.py:110: RuntimeWarning: divide by zero encountered in scalar divide\n",
      "  statistic_t = (y_bar_planet - x_bar_noise) / noise\n"
     ]
    },
    {
     "name": "stdout",
     "output_type": "stream",
     "text": [
      "."
     ]
    },
    {
     "name": "stderr",
     "output_type": "stream",
     "text": [
      "/lustre/home/mbonse/2023_s4/50_code/venv_s4/lib/python3.10/site-packages/applefy/statistics/parametric.py:110: RuntimeWarning: divide by zero encountered in scalar divide\n",
      "  statistic_t = (y_bar_planet - x_bar_noise) / noise\n"
     ]
    },
    {
     "name": "stdout",
     "output_type": "stream",
     "text": [
      "............."
     ]
    },
    {
     "name": "stderr",
     "output_type": "stream",
     "text": [
      "/lustre/home/mbonse/2023_s4/50_code/venv_s4/lib/python3.10/site-packages/applefy/statistics/parametric.py:110: RuntimeWarning: divide by zero encountered in scalar divide\n",
      "  statistic_t = (y_bar_planet - x_bar_noise) / noise\n",
      "/lustre/home/mbonse/2023_s4/50_code/venv_s4/lib/python3.10/site-packages/applefy/statistics/parametric.py:110: RuntimeWarning: divide by zero encountered in scalar divide\n",
      "  statistic_t = (y_bar_planet - x_bar_noise) / noise\n",
      "/lustre/home/mbonse/2023_s4/50_code/venv_s4/lib/python3.10/site-packages/applefy/statistics/parametric.py:110: RuntimeWarning: divide by zero encountered in scalar divide\n",
      "  statistic_t = (y_bar_planet - x_bar_noise) / noise\n"
     ]
    },
    {
     "name": "stdout",
     "output_type": "stream",
     "text": [
      "..."
     ]
    },
    {
     "name": "stderr",
     "output_type": "stream",
     "text": [
      "/lustre/home/mbonse/2023_s4/50_code/venv_s4/lib/python3.10/site-packages/applefy/statistics/parametric.py:110: RuntimeWarning: divide by zero encountered in scalar divide\n",
      "  statistic_t = (y_bar_planet - x_bar_noise) / noise\n"
     ]
    },
    {
     "name": "stdout",
     "output_type": "stream",
     "text": [
      "."
     ]
    },
    {
     "name": "stderr",
     "output_type": "stream",
     "text": [
      "/lustre/home/mbonse/2023_s4/50_code/venv_s4/lib/python3.10/site-packages/applefy/statistics/parametric.py:110: RuntimeWarning: divide by zero encountered in scalar divide\n",
      "  statistic_t = (y_bar_planet - x_bar_noise) / noise\n",
      "/lustre/home/mbonse/2023_s4/50_code/venv_s4/lib/python3.10/site-packages/applefy/statistics/parametric.py:110: RuntimeWarning: divide by zero encountered in scalar divide\n",
      "  statistic_t = (y_bar_planet - x_bar_noise) / noise\n"
     ]
    },
    {
     "name": "stdout",
     "output_type": "stream",
     "text": [
      "....................."
     ]
    },
    {
     "name": "stderr",
     "output_type": "stream",
     "text": [
      "/lustre/home/mbonse/2023_s4/50_code/venv_s4/lib/python3.10/site-packages/applefy/statistics/parametric.py:110: RuntimeWarning: divide by zero encountered in scalar divide\n",
      "  statistic_t = (y_bar_planet - x_bar_noise) / noise\n",
      "/lustre/home/mbonse/2023_s4/50_code/venv_s4/lib/python3.10/site-packages/applefy/statistics/parametric.py:110: RuntimeWarning: divide by zero encountered in scalar divide\n",
      "  statistic_t = (y_bar_planet - x_bar_noise) / noise\n",
      "/lustre/home/mbonse/2023_s4/50_code/venv_s4/lib/python3.10/site-packages/applefy/statistics/parametric.py:110: RuntimeWarning: divide by zero encountered in scalar divide\n",
      "  statistic_t = (y_bar_planet - x_bar_noise) / noise\n"
     ]
    },
    {
     "name": "stdout",
     "output_type": "stream",
     "text": [
      "....[DONE]\n",
      "Computing contrast grid for PCA_002_components\n",
      "Computing contrast grid with multiprocessing:\n",
      "................................................................................................."
     ]
    },
    {
     "name": "stderr",
     "output_type": "stream",
     "text": [
      "/lustre/home/mbonse/2023_s4/50_code/venv_s4/lib/python3.10/site-packages/applefy/statistics/parametric.py:110: RuntimeWarning: divide by zero encountered in scalar divide\n",
      "  statistic_t = (y_bar_planet - x_bar_noise) / noise\n",
      "/lustre/home/mbonse/2023_s4/50_code/venv_s4/lib/python3.10/site-packages/applefy/statistics/parametric.py:110: RuntimeWarning: divide by zero encountered in scalar divide\n",
      "  statistic_t = (y_bar_planet - x_bar_noise) / noise\n",
      "/lustre/home/mbonse/2023_s4/50_code/venv_s4/lib/python3.10/site-packages/applefy/statistics/parametric.py:110: RuntimeWarning: divide by zero encountered in scalar divide\n",
      "  statistic_t = (y_bar_planet - x_bar_noise) / noise\n"
     ]
    },
    {
     "name": "stdout",
     "output_type": "stream",
     "text": [
      "......................."
     ]
    },
    {
     "name": "stderr",
     "output_type": "stream",
     "text": [
      "/lustre/home/mbonse/2023_s4/50_code/venv_s4/lib/python3.10/site-packages/applefy/statistics/parametric.py:110: RuntimeWarning: divide by zero encountered in scalar divide\n",
      "  statistic_t = (y_bar_planet - x_bar_noise) / noise\n",
      "/lustre/home/mbonse/2023_s4/50_code/venv_s4/lib/python3.10/site-packages/applefy/statistics/parametric.py:110: RuntimeWarning: divide by zero encountered in scalar divide\n",
      "  statistic_t = (y_bar_planet - x_bar_noise) / noise\n"
     ]
    },
    {
     "name": "stdout",
     "output_type": "stream",
     "text": [
      "."
     ]
    },
    {
     "name": "stderr",
     "output_type": "stream",
     "text": [
      "/lustre/home/mbonse/2023_s4/50_code/venv_s4/lib/python3.10/site-packages/applefy/statistics/parametric.py:110: RuntimeWarning: divide by zero encountered in scalar divide\n",
      "  statistic_t = (y_bar_planet - x_bar_noise) / noise\n"
     ]
    },
    {
     "name": "stdout",
     "output_type": "stream",
     "text": [
      "......."
     ]
    },
    {
     "name": "stderr",
     "output_type": "stream",
     "text": [
      "/lustre/home/mbonse/2023_s4/50_code/venv_s4/lib/python3.10/site-packages/applefy/statistics/parametric.py:110: RuntimeWarning: divide by zero encountered in scalar divide\n",
      "  statistic_t = (y_bar_planet - x_bar_noise) / noise\n",
      "/lustre/home/mbonse/2023_s4/50_code/venv_s4/lib/python3.10/site-packages/applefy/statistics/parametric.py:110: RuntimeWarning: divide by zero encountered in scalar divide\n",
      "  statistic_t = (y_bar_planet - x_bar_noise) / noise\n"
     ]
    },
    {
     "name": "stdout",
     "output_type": "stream",
     "text": [
      "."
     ]
    },
    {
     "name": "stderr",
     "output_type": "stream",
     "text": [
      "/lustre/home/mbonse/2023_s4/50_code/venv_s4/lib/python3.10/site-packages/applefy/statistics/parametric.py:110: RuntimeWarning: divide by zero encountered in scalar divide\n",
      "  statistic_t = (y_bar_planet - x_bar_noise) / noise\n"
     ]
    },
    {
     "name": "stdout",
     "output_type": "stream",
     "text": [
      "..........."
     ]
    },
    {
     "name": "stderr",
     "output_type": "stream",
     "text": [
      "/lustre/home/mbonse/2023_s4/50_code/venv_s4/lib/python3.10/site-packages/applefy/statistics/parametric.py:110: RuntimeWarning: divide by zero encountered in scalar divide\n",
      "  statistic_t = (y_bar_planet - x_bar_noise) / noise\n",
      "/lustre/home/mbonse/2023_s4/50_code/venv_s4/lib/python3.10/site-packages/applefy/statistics/parametric.py:110: RuntimeWarning: divide by zero encountered in scalar divide\n",
      "  statistic_t = (y_bar_planet - x_bar_noise) / noise\n"
     ]
    },
    {
     "name": "stdout",
     "output_type": "stream",
     "text": [
      "."
     ]
    },
    {
     "name": "stderr",
     "output_type": "stream",
     "text": [
      "/lustre/home/mbonse/2023_s4/50_code/venv_s4/lib/python3.10/site-packages/applefy/statistics/parametric.py:110: RuntimeWarning: divide by zero encountered in scalar divide\n",
      "  statistic_t = (y_bar_planet - x_bar_noise) / noise\n"
     ]
    },
    {
     "name": "stdout",
     "output_type": "stream",
     "text": [
      "."
     ]
    },
    {
     "name": "stderr",
     "output_type": "stream",
     "text": [
      "/lustre/home/mbonse/2023_s4/50_code/venv_s4/lib/python3.10/site-packages/applefy/statistics/parametric.py:110: RuntimeWarning: divide by zero encountered in scalar divide\n",
      "  statistic_t = (y_bar_planet - x_bar_noise) / noise\n",
      "/lustre/home/mbonse/2023_s4/50_code/venv_s4/lib/python3.10/site-packages/applefy/statistics/parametric.py:110: RuntimeWarning: divide by zero encountered in scalar divide\n",
      "  statistic_t = (y_bar_planet - x_bar_noise) / noise\n"
     ]
    },
    {
     "name": "stdout",
     "output_type": "stream",
     "text": [
      "."
     ]
    },
    {
     "name": "stderr",
     "output_type": "stream",
     "text": [
      "/lustre/home/mbonse/2023_s4/50_code/venv_s4/lib/python3.10/site-packages/applefy/statistics/parametric.py:110: RuntimeWarning: divide by zero encountered in scalar divide\n",
      "  statistic_t = (y_bar_planet - x_bar_noise) / noise\n"
     ]
    },
    {
     "name": "stdout",
     "output_type": "stream",
     "text": [
      "......................."
     ]
    },
    {
     "name": "stderr",
     "output_type": "stream",
     "text": [
      "/lustre/home/mbonse/2023_s4/50_code/venv_s4/lib/python3.10/site-packages/applefy/statistics/parametric.py:110: RuntimeWarning: divide by zero encountered in scalar divide\n",
      "  statistic_t = (y_bar_planet - x_bar_noise) / noise\n",
      "/lustre/home/mbonse/2023_s4/50_code/venv_s4/lib/python3.10/site-packages/applefy/statistics/parametric.py:110: RuntimeWarning: divide by zero encountered in scalar divide\n",
      "  statistic_t = (y_bar_planet - x_bar_noise) / noise\n",
      "/lustre/home/mbonse/2023_s4/50_code/venv_s4/lib/python3.10/site-packages/applefy/statistics/parametric.py:110: RuntimeWarning: divide by zero encountered in scalar divide\n",
      "  statistic_t = (y_bar_planet - x_bar_noise) / noise\n"
     ]
    },
    {
     "name": "stdout",
     "output_type": "stream",
     "text": [
      "....[DONE]\n",
      "Computing contrast grid for PCA_004_components\n",
      "Computing contrast grid with multiprocessing:\n",
      "................................................................................................"
     ]
    },
    {
     "name": "stderr",
     "output_type": "stream",
     "text": [
      "/lustre/home/mbonse/2023_s4/50_code/venv_s4/lib/python3.10/site-packages/applefy/statistics/parametric.py:110: RuntimeWarning: divide by zero encountered in scalar divide\n",
      "  statistic_t = (y_bar_planet - x_bar_noise) / noise\n",
      "/lustre/home/mbonse/2023_s4/50_code/venv_s4/lib/python3.10/site-packages/applefy/statistics/parametric.py:110: RuntimeWarning: divide by zero encountered in scalar divide\n",
      "  statistic_t = (y_bar_planet - x_bar_noise) / noise\n"
     ]
    },
    {
     "name": "stdout",
     "output_type": "stream",
     "text": [
      ".."
     ]
    },
    {
     "name": "stderr",
     "output_type": "stream",
     "text": [
      "/lustre/home/mbonse/2023_s4/50_code/venv_s4/lib/python3.10/site-packages/applefy/statistics/parametric.py:110: RuntimeWarning: divide by zero encountered in scalar divide\n",
      "  statistic_t = (y_bar_planet - x_bar_noise) / noise\n"
     ]
    },
    {
     "name": "stdout",
     "output_type": "stream",
     "text": [
      "....................."
     ]
    },
    {
     "name": "stderr",
     "output_type": "stream",
     "text": [
      "/lustre/home/mbonse/2023_s4/50_code/venv_s4/lib/python3.10/site-packages/applefy/statistics/parametric.py:110: RuntimeWarning: divide by zero encountered in scalar divide\n",
      "  statistic_t = (y_bar_planet - x_bar_noise) / noise\n"
     ]
    },
    {
     "name": "stdout",
     "output_type": "stream",
     "text": [
      "."
     ]
    },
    {
     "name": "stderr",
     "output_type": "stream",
     "text": [
      "/lustre/home/mbonse/2023_s4/50_code/venv_s4/lib/python3.10/site-packages/applefy/statistics/parametric.py:110: RuntimeWarning: divide by zero encountered in scalar divide\n",
      "  statistic_t = (y_bar_planet - x_bar_noise) / noise\n",
      "/lustre/home/mbonse/2023_s4/50_code/venv_s4/lib/python3.10/site-packages/applefy/statistics/parametric.py:110: RuntimeWarning: divide by zero encountered in scalar divide\n",
      "  statistic_t = (y_bar_planet - x_bar_noise) / noise\n"
     ]
    },
    {
     "name": "stdout",
     "output_type": "stream",
     "text": [
      "........"
     ]
    },
    {
     "name": "stderr",
     "output_type": "stream",
     "text": [
      "/lustre/home/mbonse/2023_s4/50_code/venv_s4/lib/python3.10/site-packages/applefy/statistics/parametric.py:110: RuntimeWarning: divide by zero encountered in scalar divide\n",
      "  statistic_t = (y_bar_planet - x_bar_noise) / noise\n",
      "/lustre/home/mbonse/2023_s4/50_code/venv_s4/lib/python3.10/site-packages/applefy/statistics/parametric.py:110: RuntimeWarning: divide by zero encountered in scalar divide\n",
      "  statistic_t = (y_bar_planet - x_bar_noise) / noise\n",
      "/lustre/home/mbonse/2023_s4/50_code/venv_s4/lib/python3.10/site-packages/applefy/statistics/parametric.py:110: RuntimeWarning: divide by zero encountered in scalar divide\n",
      "  statistic_t = (y_bar_planet - x_bar_noise) / noise\n"
     ]
    },
    {
     "name": "stdout",
     "output_type": "stream",
     "text": [
      "............."
     ]
    },
    {
     "name": "stderr",
     "output_type": "stream",
     "text": [
      "/lustre/home/mbonse/2023_s4/50_code/venv_s4/lib/python3.10/site-packages/applefy/statistics/parametric.py:110: RuntimeWarning: divide by zero encountered in scalar divide\n",
      "  statistic_t = (y_bar_planet - x_bar_noise) / noise\n",
      "/lustre/home/mbonse/2023_s4/50_code/venv_s4/lib/python3.10/site-packages/applefy/statistics/parametric.py:110: RuntimeWarning: divide by zero encountered in scalar divide\n",
      "  statistic_t = (y_bar_planet - x_bar_noise) / noise\n",
      "/lustre/home/mbonse/2023_s4/50_code/venv_s4/lib/python3.10/site-packages/applefy/statistics/parametric.py:110: RuntimeWarning: divide by zero encountered in scalar divide\n",
      "  statistic_t = (y_bar_planet - x_bar_noise) / noise\n"
     ]
    },
    {
     "name": "stdout",
     "output_type": "stream",
     "text": [
      "...."
     ]
    },
    {
     "name": "stderr",
     "output_type": "stream",
     "text": [
      "/lustre/home/mbonse/2023_s4/50_code/venv_s4/lib/python3.10/site-packages/applefy/statistics/parametric.py:110: RuntimeWarning: divide by zero encountered in scalar divide\n",
      "  statistic_t = (y_bar_planet - x_bar_noise) / noise\n",
      "/lustre/home/mbonse/2023_s4/50_code/venv_s4/lib/python3.10/site-packages/applefy/statistics/parametric.py:110: RuntimeWarning: divide by zero encountered in scalar divide\n",
      "  statistic_t = (y_bar_planet - x_bar_noise) / noise\n",
      "/lustre/home/mbonse/2023_s4/50_code/venv_s4/lib/python3.10/site-packages/applefy/statistics/parametric.py:110: RuntimeWarning: divide by zero encountered in scalar divide\n",
      "  statistic_t = (y_bar_planet - x_bar_noise) / noise\n"
     ]
    },
    {
     "name": "stdout",
     "output_type": "stream",
     "text": [
      "....................."
     ]
    },
    {
     "name": "stderr",
     "output_type": "stream",
     "text": [
      "/lustre/home/mbonse/2023_s4/50_code/venv_s4/lib/python3.10/site-packages/applefy/statistics/parametric.py:110: RuntimeWarning: divide by zero encountered in scalar divide\n",
      "  statistic_t = (y_bar_planet - x_bar_noise) / noise\n",
      "/lustre/home/mbonse/2023_s4/50_code/venv_s4/lib/python3.10/site-packages/applefy/statistics/parametric.py:110: RuntimeWarning: divide by zero encountered in scalar divide\n",
      "  statistic_t = (y_bar_planet - x_bar_noise) / noise\n",
      "/lustre/home/mbonse/2023_s4/50_code/venv_s4/lib/python3.10/site-packages/applefy/statistics/parametric.py:110: RuntimeWarning: divide by zero encountered in scalar divide\n",
      "  statistic_t = (y_bar_planet - x_bar_noise) / noise\n"
     ]
    },
    {
     "name": "stdout",
     "output_type": "stream",
     "text": [
      "....[DONE]\n",
      "Computing contrast grid for PCA_006_components\n",
      "Computing contrast grid with multiprocessing:\n",
      "................................................................................................."
     ]
    },
    {
     "name": "stderr",
     "output_type": "stream",
     "text": [
      "/lustre/home/mbonse/2023_s4/50_code/venv_s4/lib/python3.10/site-packages/applefy/statistics/parametric.py:110: RuntimeWarning: divide by zero encountered in scalar divide\n",
      "  statistic_t = (y_bar_planet - x_bar_noise) / noise\n",
      "/lustre/home/mbonse/2023_s4/50_code/venv_s4/lib/python3.10/site-packages/applefy/statistics/parametric.py:110: RuntimeWarning: divide by zero encountered in scalar divide\n",
      "  statistic_t = (y_bar_planet - x_bar_noise) / noise\n",
      "/lustre/home/mbonse/2023_s4/50_code/venv_s4/lib/python3.10/site-packages/applefy/statistics/parametric.py:110: RuntimeWarning: divide by zero encountered in scalar divide\n",
      "  statistic_t = (y_bar_planet - x_bar_noise) / noise\n"
     ]
    },
    {
     "name": "stdout",
     "output_type": "stream",
     "text": [
      "......................"
     ]
    },
    {
     "name": "stderr",
     "output_type": "stream",
     "text": [
      "/lustre/home/mbonse/2023_s4/50_code/venv_s4/lib/python3.10/site-packages/applefy/statistics/parametric.py:110: RuntimeWarning: divide by zero encountered in scalar divide\n",
      "  statistic_t = (y_bar_planet - x_bar_noise) / noise\n",
      "/lustre/home/mbonse/2023_s4/50_code/venv_s4/lib/python3.10/site-packages/applefy/statistics/parametric.py:110: RuntimeWarning: divide by zero encountered in scalar divide\n",
      "  statistic_t = (y_bar_planet - x_bar_noise) / noise\n",
      "/lustre/home/mbonse/2023_s4/50_code/venv_s4/lib/python3.10/site-packages/applefy/statistics/parametric.py:110: RuntimeWarning: divide by zero encountered in scalar divide\n",
      "  statistic_t = (y_bar_planet - x_bar_noise) / noise\n"
     ]
    },
    {
     "name": "stdout",
     "output_type": "stream",
     "text": [
      ".........."
     ]
    },
    {
     "name": "stderr",
     "output_type": "stream",
     "text": [
      "/lustre/home/mbonse/2023_s4/50_code/venv_s4/lib/python3.10/site-packages/applefy/statistics/parametric.py:110: RuntimeWarning: divide by zero encountered in scalar divide\n",
      "  statistic_t = (y_bar_planet - x_bar_noise) / noise\n",
      "/lustre/home/mbonse/2023_s4/50_code/venv_s4/lib/python3.10/site-packages/applefy/statistics/parametric.py:110: RuntimeWarning: divide by zero encountered in scalar divide\n",
      "  statistic_t = (y_bar_planet - x_bar_noise) / noise\n",
      "/lustre/home/mbonse/2023_s4/50_code/venv_s4/lib/python3.10/site-packages/applefy/statistics/parametric.py:110: RuntimeWarning: divide by zero encountered in scalar divide\n",
      "  statistic_t = (y_bar_planet - x_bar_noise) / noise\n"
     ]
    },
    {
     "name": "stdout",
     "output_type": "stream",
     "text": [
      "..........."
     ]
    },
    {
     "name": "stderr",
     "output_type": "stream",
     "text": [
      "/lustre/home/mbonse/2023_s4/50_code/venv_s4/lib/python3.10/site-packages/applefy/statistics/parametric.py:110: RuntimeWarning: divide by zero encountered in scalar divide\n",
      "  statistic_t = (y_bar_planet - x_bar_noise) / noise\n"
     ]
    },
    {
     "name": "stdout",
     "output_type": "stream",
     "text": [
      "."
     ]
    },
    {
     "name": "stderr",
     "output_type": "stream",
     "text": [
      "/lustre/home/mbonse/2023_s4/50_code/venv_s4/lib/python3.10/site-packages/applefy/statistics/parametric.py:110: RuntimeWarning: divide by zero encountered in scalar divide\n",
      "  statistic_t = (y_bar_planet - x_bar_noise) / noise\n"
     ]
    },
    {
     "name": "stdout",
     "output_type": "stream",
     "text": [
      "."
     ]
    },
    {
     "name": "stderr",
     "output_type": "stream",
     "text": [
      "/lustre/home/mbonse/2023_s4/50_code/venv_s4/lib/python3.10/site-packages/applefy/statistics/parametric.py:110: RuntimeWarning: divide by zero encountered in scalar divide\n",
      "  statistic_t = (y_bar_planet - x_bar_noise) / noise\n",
      "/lustre/home/mbonse/2023_s4/50_code/venv_s4/lib/python3.10/site-packages/applefy/statistics/parametric.py:110: RuntimeWarning: divide by zero encountered in scalar divide\n",
      "  statistic_t = (y_bar_planet - x_bar_noise) / noise\n",
      "/lustre/home/mbonse/2023_s4/50_code/venv_s4/lib/python3.10/site-packages/applefy/statistics/parametric.py:110: RuntimeWarning: divide by zero encountered in scalar divide\n",
      "  statistic_t = (y_bar_planet - x_bar_noise) / noise\n"
     ]
    },
    {
     "name": "stdout",
     "output_type": "stream",
     "text": [
      "."
     ]
    },
    {
     "name": "stderr",
     "output_type": "stream",
     "text": [
      "/lustre/home/mbonse/2023_s4/50_code/venv_s4/lib/python3.10/site-packages/applefy/statistics/parametric.py:110: RuntimeWarning: divide by zero encountered in scalar divide\n",
      "  statistic_t = (y_bar_planet - x_bar_noise) / noise\n"
     ]
    },
    {
     "name": "stdout",
     "output_type": "stream",
     "text": [
      "......................."
     ]
    },
    {
     "name": "stderr",
     "output_type": "stream",
     "text": [
      "/lustre/home/mbonse/2023_s4/50_code/venv_s4/lib/python3.10/site-packages/applefy/statistics/parametric.py:110: RuntimeWarning: divide by zero encountered in scalar divide\n",
      "  statistic_t = (y_bar_planet - x_bar_noise) / noise\n",
      "/lustre/home/mbonse/2023_s4/50_code/venv_s4/lib/python3.10/site-packages/applefy/statistics/parametric.py:110: RuntimeWarning: divide by zero encountered in scalar divide\n",
      "  statistic_t = (y_bar_planet - x_bar_noise) / noise\n",
      "/lustre/home/mbonse/2023_s4/50_code/venv_s4/lib/python3.10/site-packages/applefy/statistics/parametric.py:110: RuntimeWarning: divide by zero encountered in scalar divide\n",
      "  statistic_t = (y_bar_planet - x_bar_noise) / noise\n"
     ]
    },
    {
     "name": "stdout",
     "output_type": "stream",
     "text": [
      "....[DONE]\n",
      "Computing contrast grid for PCA_008_components\n",
      "Computing contrast grid with multiprocessing:\n",
      "................................................................................................."
     ]
    },
    {
     "name": "stderr",
     "output_type": "stream",
     "text": [
      "/lustre/home/mbonse/2023_s4/50_code/venv_s4/lib/python3.10/site-packages/applefy/statistics/parametric.py:110: RuntimeWarning: divide by zero encountered in scalar divide\n",
      "  statistic_t = (y_bar_planet - x_bar_noise) / noise\n",
      "/lustre/home/mbonse/2023_s4/50_code/venv_s4/lib/python3.10/site-packages/applefy/statistics/parametric.py:110: RuntimeWarning: divide by zero encountered in scalar divide\n",
      "  statistic_t = (y_bar_planet - x_bar_noise) / noise\n",
      "/lustre/home/mbonse/2023_s4/50_code/venv_s4/lib/python3.10/site-packages/applefy/statistics/parametric.py:110: RuntimeWarning: divide by zero encountered in scalar divide\n",
      "  statistic_t = (y_bar_planet - x_bar_noise) / noise\n"
     ]
    },
    {
     "name": "stdout",
     "output_type": "stream",
     "text": [
      "......................"
     ]
    },
    {
     "name": "stderr",
     "output_type": "stream",
     "text": [
      "/lustre/home/mbonse/2023_s4/50_code/venv_s4/lib/python3.10/site-packages/applefy/statistics/parametric.py:110: RuntimeWarning: divide by zero encountered in scalar divide\n",
      "  statistic_t = (y_bar_planet - x_bar_noise) / noise\n",
      "/lustre/home/mbonse/2023_s4/50_code/venv_s4/lib/python3.10/site-packages/applefy/statistics/parametric.py:110: RuntimeWarning: divide by zero encountered in scalar divide\n",
      "  statistic_t = (y_bar_planet - x_bar_noise) / noise\n"
     ]
    },
    {
     "name": "stdout",
     "output_type": "stream",
     "text": [
      "."
     ]
    },
    {
     "name": "stderr",
     "output_type": "stream",
     "text": [
      "/lustre/home/mbonse/2023_s4/50_code/venv_s4/lib/python3.10/site-packages/applefy/statistics/parametric.py:110: RuntimeWarning: divide by zero encountered in scalar divide\n",
      "  statistic_t = (y_bar_planet - x_bar_noise) / noise\n"
     ]
    },
    {
     "name": "stdout",
     "output_type": "stream",
     "text": [
      "........"
     ]
    },
    {
     "name": "stderr",
     "output_type": "stream",
     "text": [
      "/lustre/home/mbonse/2023_s4/50_code/venv_s4/lib/python3.10/site-packages/applefy/statistics/parametric.py:110: RuntimeWarning: divide by zero encountered in scalar divide\n",
      "  statistic_t = (y_bar_planet - x_bar_noise) / noise\n"
     ]
    },
    {
     "name": "stdout",
     "output_type": "stream",
     "text": [
      "."
     ]
    },
    {
     "name": "stderr",
     "output_type": "stream",
     "text": [
      "/lustre/home/mbonse/2023_s4/50_code/venv_s4/lib/python3.10/site-packages/applefy/statistics/parametric.py:110: RuntimeWarning: divide by zero encountered in scalar divide\n",
      "  statistic_t = (y_bar_planet - x_bar_noise) / noise\n",
      "/lustre/home/mbonse/2023_s4/50_code/venv_s4/lib/python3.10/site-packages/applefy/statistics/parametric.py:110: RuntimeWarning: divide by zero encountered in scalar divide\n",
      "  statistic_t = (y_bar_planet - x_bar_noise) / noise\n"
     ]
    },
    {
     "name": "stdout",
     "output_type": "stream",
     "text": [
      "............."
     ]
    },
    {
     "name": "stderr",
     "output_type": "stream",
     "text": [
      "/lustre/home/mbonse/2023_s4/50_code/venv_s4/lib/python3.10/site-packages/applefy/statistics/parametric.py:110: RuntimeWarning: divide by zero encountered in scalar divide\n",
      "  statistic_t = (y_bar_planet - x_bar_noise) / noise\n",
      "/lustre/home/mbonse/2023_s4/50_code/venv_s4/lib/python3.10/site-packages/applefy/statistics/parametric.py:110: RuntimeWarning: divide by zero encountered in scalar divide\n",
      "  statistic_t = (y_bar_planet - x_bar_noise) / noise\n",
      "/lustre/home/mbonse/2023_s4/50_code/venv_s4/lib/python3.10/site-packages/applefy/statistics/parametric.py:110: RuntimeWarning: divide by zero encountered in scalar divide\n",
      "  statistic_t = (y_bar_planet - x_bar_noise) / noise\n",
      "/lustre/home/mbonse/2023_s4/50_code/venv_s4/lib/python3.10/site-packages/applefy/statistics/parametric.py:110: RuntimeWarning: divide by zero encountered in scalar divide\n",
      "  statistic_t = (y_bar_planet - x_bar_noise) / noise\n",
      "/lustre/home/mbonse/2023_s4/50_code/venv_s4/lib/python3.10/site-packages/applefy/statistics/parametric.py:110: RuntimeWarning: divide by zero encountered in scalar divide\n",
      "  statistic_t = (y_bar_planet - x_bar_noise) / noise\n"
     ]
    },
    {
     "name": "stdout",
     "output_type": "stream",
     "text": [
      "."
     ]
    },
    {
     "name": "stderr",
     "output_type": "stream",
     "text": [
      "/lustre/home/mbonse/2023_s4/50_code/venv_s4/lib/python3.10/site-packages/applefy/statistics/parametric.py:110: RuntimeWarning: divide by zero encountered in scalar divide\n",
      "  statistic_t = (y_bar_planet - x_bar_noise) / noise\n"
     ]
    },
    {
     "name": "stdout",
     "output_type": "stream",
     "text": [
      "......................."
     ]
    },
    {
     "name": "stderr",
     "output_type": "stream",
     "text": [
      "/lustre/home/mbonse/2023_s4/50_code/venv_s4/lib/python3.10/site-packages/applefy/statistics/parametric.py:110: RuntimeWarning: divide by zero encountered in scalar divide\n",
      "  statistic_t = (y_bar_planet - x_bar_noise) / noise\n",
      "/lustre/home/mbonse/2023_s4/50_code/venv_s4/lib/python3.10/site-packages/applefy/statistics/parametric.py:110: RuntimeWarning: divide by zero encountered in scalar divide\n",
      "  statistic_t = (y_bar_planet - x_bar_noise) / noise\n",
      "/lustre/home/mbonse/2023_s4/50_code/venv_s4/lib/python3.10/site-packages/applefy/statistics/parametric.py:110: RuntimeWarning: divide by zero encountered in scalar divide\n",
      "  statistic_t = (y_bar_planet - x_bar_noise) / noise\n"
     ]
    },
    {
     "name": "stdout",
     "output_type": "stream",
     "text": [
      "....[DONE]\n",
      "Computing contrast grid for PCA_010_components\n",
      "Computing contrast grid with multiprocessing:\n",
      ".................................................................................................."
     ]
    },
    {
     "name": "stderr",
     "output_type": "stream",
     "text": [
      "/lustre/home/mbonse/2023_s4/50_code/venv_s4/lib/python3.10/site-packages/applefy/statistics/parametric.py:110: RuntimeWarning: divide by zero encountered in scalar divide\n",
      "  statistic_t = (y_bar_planet - x_bar_noise) / noise\n",
      "/lustre/home/mbonse/2023_s4/50_code/venv_s4/lib/python3.10/site-packages/applefy/statistics/parametric.py:110: RuntimeWarning: divide by zero encountered in scalar divide\n",
      "  statistic_t = (y_bar_planet - x_bar_noise) / noise\n",
      "/lustre/home/mbonse/2023_s4/50_code/venv_s4/lib/python3.10/site-packages/applefy/statistics/parametric.py:110: RuntimeWarning: divide by zero encountered in scalar divide\n",
      "  statistic_t = (y_bar_planet - x_bar_noise) / noise\n"
     ]
    },
    {
     "name": "stdout",
     "output_type": "stream",
     "text": [
      "......................"
     ]
    },
    {
     "name": "stderr",
     "output_type": "stream",
     "text": [
      "/lustre/home/mbonse/2023_s4/50_code/venv_s4/lib/python3.10/site-packages/applefy/statistics/parametric.py:110: RuntimeWarning: divide by zero encountered in scalar divide\n",
      "  statistic_t = (y_bar_planet - x_bar_noise) / noise\n",
      "/lustre/home/mbonse/2023_s4/50_code/venv_s4/lib/python3.10/site-packages/applefy/statistics/parametric.py:110: RuntimeWarning: divide by zero encountered in scalar divide\n",
      "  statistic_t = (y_bar_planet - x_bar_noise) / noise\n",
      "/lustre/home/mbonse/2023_s4/50_code/venv_s4/lib/python3.10/site-packages/applefy/statistics/parametric.py:110: RuntimeWarning: divide by zero encountered in scalar divide\n",
      "  statistic_t = (y_bar_planet - x_bar_noise) / noise\n"
     ]
    },
    {
     "name": "stdout",
     "output_type": "stream",
     "text": [
      "........"
     ]
    },
    {
     "name": "stderr",
     "output_type": "stream",
     "text": [
      "/lustre/home/mbonse/2023_s4/50_code/venv_s4/lib/python3.10/site-packages/applefy/statistics/parametric.py:110: RuntimeWarning: divide by zero encountered in scalar divide\n",
      "  statistic_t = (y_bar_planet - x_bar_noise) / noise\n",
      "/lustre/home/mbonse/2023_s4/50_code/venv_s4/lib/python3.10/site-packages/applefy/statistics/parametric.py:110: RuntimeWarning: divide by zero encountered in scalar divide\n",
      "  statistic_t = (y_bar_planet - x_bar_noise) / noise\n",
      "/lustre/home/mbonse/2023_s4/50_code/venv_s4/lib/python3.10/site-packages/applefy/statistics/parametric.py:110: RuntimeWarning: divide by zero encountered in scalar divide\n",
      "  statistic_t = (y_bar_planet - x_bar_noise) / noise\n"
     ]
    },
    {
     "name": "stdout",
     "output_type": "stream",
     "text": [
      ".............."
     ]
    },
    {
     "name": "stderr",
     "output_type": "stream",
     "text": [
      "/lustre/home/mbonse/2023_s4/50_code/venv_s4/lib/python3.10/site-packages/applefy/statistics/parametric.py:110: RuntimeWarning: divide by zero encountered in scalar divide\n",
      "  statistic_t = (y_bar_planet - x_bar_noise) / noise\n",
      "/lustre/home/mbonse/2023_s4/50_code/venv_s4/lib/python3.10/site-packages/applefy/statistics/parametric.py:110: RuntimeWarning: divide by zero encountered in scalar divide\n",
      "  statistic_t = (y_bar_planet - x_bar_noise) / noise\n",
      "/lustre/home/mbonse/2023_s4/50_code/venv_s4/lib/python3.10/site-packages/applefy/statistics/parametric.py:110: RuntimeWarning: divide by zero encountered in scalar divide\n",
      "  statistic_t = (y_bar_planet - x_bar_noise) / noise\n",
      "/lustre/home/mbonse/2023_s4/50_code/venv_s4/lib/python3.10/site-packages/applefy/statistics/parametric.py:110: RuntimeWarning: divide by zero encountered in scalar divide\n",
      "  statistic_t = (y_bar_planet - x_bar_noise) / noise\n",
      "/lustre/home/mbonse/2023_s4/50_code/venv_s4/lib/python3.10/site-packages/applefy/statistics/parametric.py:110: RuntimeWarning: divide by zero encountered in scalar divide\n",
      "  statistic_t = (y_bar_planet - x_bar_noise) / noise\n",
      "/lustre/home/mbonse/2023_s4/50_code/venv_s4/lib/python3.10/site-packages/applefy/statistics/parametric.py:110: RuntimeWarning: divide by zero encountered in scalar divide\n",
      "  statistic_t = (y_bar_planet - x_bar_noise) / noise\n"
     ]
    },
    {
     "name": "stdout",
     "output_type": "stream",
     "text": [
      "........................"
     ]
    },
    {
     "name": "stderr",
     "output_type": "stream",
     "text": [
      "/lustre/home/mbonse/2023_s4/50_code/venv_s4/lib/python3.10/site-packages/applefy/statistics/parametric.py:110: RuntimeWarning: divide by zero encountered in scalar divide\n",
      "  statistic_t = (y_bar_planet - x_bar_noise) / noise\n",
      "/lustre/home/mbonse/2023_s4/50_code/venv_s4/lib/python3.10/site-packages/applefy/statistics/parametric.py:110: RuntimeWarning: divide by zero encountered in scalar divide\n",
      "  statistic_t = (y_bar_planet - x_bar_noise) / noise\n",
      "/lustre/home/mbonse/2023_s4/50_code/venv_s4/lib/python3.10/site-packages/applefy/statistics/parametric.py:110: RuntimeWarning: divide by zero encountered in scalar divide\n",
      "  statistic_t = (y_bar_planet - x_bar_noise) / noise\n"
     ]
    },
    {
     "name": "stdout",
     "output_type": "stream",
     "text": [
      "....[DONE]\n",
      "Computing contrast grid for PCA_012_components\n",
      "Computing contrast grid with multiprocessing:\n",
      "................................................................................................."
     ]
    },
    {
     "name": "stderr",
     "output_type": "stream",
     "text": [
      "/lustre/home/mbonse/2023_s4/50_code/venv_s4/lib/python3.10/site-packages/applefy/statistics/parametric.py:110: RuntimeWarning: divide by zero encountered in scalar divide\n",
      "  statistic_t = (y_bar_planet - x_bar_noise) / noise\n"
     ]
    },
    {
     "name": "stdout",
     "output_type": "stream",
     "text": [
      "."
     ]
    },
    {
     "name": "stderr",
     "output_type": "stream",
     "text": [
      "/lustre/home/mbonse/2023_s4/50_code/venv_s4/lib/python3.10/site-packages/applefy/statistics/parametric.py:110: RuntimeWarning: divide by zero encountered in scalar divide\n",
      "  statistic_t = (y_bar_planet - x_bar_noise) / noise\n",
      "/lustre/home/mbonse/2023_s4/50_code/venv_s4/lib/python3.10/site-packages/applefy/statistics/parametric.py:110: RuntimeWarning: divide by zero encountered in scalar divide\n",
      "  statistic_t = (y_bar_planet - x_bar_noise) / noise\n"
     ]
    },
    {
     "name": "stdout",
     "output_type": "stream",
     "text": [
      "....................."
     ]
    },
    {
     "name": "stderr",
     "output_type": "stream",
     "text": [
      "/lustre/home/mbonse/2023_s4/50_code/venv_s4/lib/python3.10/site-packages/applefy/statistics/parametric.py:110: RuntimeWarning: divide by zero encountered in scalar divide\n",
      "  statistic_t = (y_bar_planet - x_bar_noise) / noise\n",
      "/lustre/home/mbonse/2023_s4/50_code/venv_s4/lib/python3.10/site-packages/applefy/statistics/parametric.py:110: RuntimeWarning: divide by zero encountered in scalar divide\n",
      "  statistic_t = (y_bar_planet - x_bar_noise) / noise\n"
     ]
    },
    {
     "name": "stdout",
     "output_type": "stream",
     "text": [
      "."
     ]
    },
    {
     "name": "stderr",
     "output_type": "stream",
     "text": [
      "/lustre/home/mbonse/2023_s4/50_code/venv_s4/lib/python3.10/site-packages/applefy/statistics/parametric.py:110: RuntimeWarning: divide by zero encountered in scalar divide\n",
      "  statistic_t = (y_bar_planet - x_bar_noise) / noise\n"
     ]
    },
    {
     "name": "stdout",
     "output_type": "stream",
     "text": [
      "........"
     ]
    },
    {
     "name": "stderr",
     "output_type": "stream",
     "text": [
      "/lustre/home/mbonse/2023_s4/50_code/venv_s4/lib/python3.10/site-packages/applefy/statistics/parametric.py:110: RuntimeWarning: divide by zero encountered in scalar divide\n",
      "  statistic_t = (y_bar_planet - x_bar_noise) / noise\n",
      "/lustre/home/mbonse/2023_s4/50_code/venv_s4/lib/python3.10/site-packages/applefy/statistics/parametric.py:110: RuntimeWarning: divide by zero encountered in scalar divide\n",
      "  statistic_t = (y_bar_planet - x_bar_noise) / noise\n",
      "/lustre/home/mbonse/2023_s4/50_code/venv_s4/lib/python3.10/site-packages/applefy/statistics/parametric.py:110: RuntimeWarning: divide by zero encountered in scalar divide\n",
      "  statistic_t = (y_bar_planet - x_bar_noise) / noise\n"
     ]
    },
    {
     "name": "stdout",
     "output_type": "stream",
     "text": [
      "............."
     ]
    },
    {
     "name": "stderr",
     "output_type": "stream",
     "text": [
      "/lustre/home/mbonse/2023_s4/50_code/venv_s4/lib/python3.10/site-packages/applefy/statistics/parametric.py:110: RuntimeWarning: divide by zero encountered in scalar divide\n",
      "  statistic_t = (y_bar_planet - x_bar_noise) / noise\n"
     ]
    },
    {
     "name": "stdout",
     "output_type": "stream",
     "text": [
      "."
     ]
    },
    {
     "name": "stderr",
     "output_type": "stream",
     "text": [
      "/lustre/home/mbonse/2023_s4/50_code/venv_s4/lib/python3.10/site-packages/applefy/statistics/parametric.py:110: RuntimeWarning: divide by zero encountered in scalar divide\n",
      "  statistic_t = (y_bar_planet - x_bar_noise) / noise\n",
      "/lustre/home/mbonse/2023_s4/50_code/venv_s4/lib/python3.10/site-packages/applefy/statistics/parametric.py:110: RuntimeWarning: divide by zero encountered in scalar divide\n",
      "  statistic_t = (y_bar_planet - x_bar_noise) / noise\n",
      "/lustre/home/mbonse/2023_s4/50_code/venv_s4/lib/python3.10/site-packages/applefy/statistics/parametric.py:110: RuntimeWarning: divide by zero encountered in scalar divide\n",
      "  statistic_t = (y_bar_planet - x_bar_noise) / noise\n"
     ]
    },
    {
     "name": "stdout",
     "output_type": "stream",
     "text": [
      "."
     ]
    },
    {
     "name": "stderr",
     "output_type": "stream",
     "text": [
      "/lustre/home/mbonse/2023_s4/50_code/venv_s4/lib/python3.10/site-packages/applefy/statistics/parametric.py:110: RuntimeWarning: divide by zero encountered in scalar divide\n",
      "  statistic_t = (y_bar_planet - x_bar_noise) / noise\n"
     ]
    },
    {
     "name": "stdout",
     "output_type": "stream",
     "text": [
      ".."
     ]
    },
    {
     "name": "stderr",
     "output_type": "stream",
     "text": [
      "/lustre/home/mbonse/2023_s4/50_code/venv_s4/lib/python3.10/site-packages/applefy/statistics/parametric.py:110: RuntimeWarning: divide by zero encountered in scalar divide\n",
      "  statistic_t = (y_bar_planet - x_bar_noise) / noise\n"
     ]
    },
    {
     "name": "stdout",
     "output_type": "stream",
     "text": [
      "....................."
     ]
    },
    {
     "name": "stderr",
     "output_type": "stream",
     "text": [
      "/lustre/home/mbonse/2023_s4/50_code/venv_s4/lib/python3.10/site-packages/applefy/statistics/parametric.py:110: RuntimeWarning: divide by zero encountered in scalar divide\n",
      "  statistic_t = (y_bar_planet - x_bar_noise) / noise\n",
      "/lustre/home/mbonse/2023_s4/50_code/venv_s4/lib/python3.10/site-packages/applefy/statistics/parametric.py:110: RuntimeWarning: divide by zero encountered in scalar divide\n",
      "  statistic_t = (y_bar_planet - x_bar_noise) / noise\n",
      "/lustre/home/mbonse/2023_s4/50_code/venv_s4/lib/python3.10/site-packages/applefy/statistics/parametric.py:110: RuntimeWarning: divide by zero encountered in scalar divide\n",
      "  statistic_t = (y_bar_planet - x_bar_noise) / noise\n"
     ]
    },
    {
     "name": "stdout",
     "output_type": "stream",
     "text": [
      "....[DONE]\n",
      "Computing contrast grid for PCA_014_components\n",
      "Computing contrast grid with multiprocessing:\n",
      ".................................................................................................."
     ]
    },
    {
     "name": "stderr",
     "output_type": "stream",
     "text": [
      "/lustre/home/mbonse/2023_s4/50_code/venv_s4/lib/python3.10/site-packages/applefy/statistics/parametric.py:110: RuntimeWarning: divide by zero encountered in scalar divide\n",
      "  statistic_t = (y_bar_planet - x_bar_noise) / noise\n",
      "/lustre/home/mbonse/2023_s4/50_code/venv_s4/lib/python3.10/site-packages/applefy/statistics/parametric.py:110: RuntimeWarning: divide by zero encountered in scalar divide\n",
      "  statistic_t = (y_bar_planet - x_bar_noise) / noise\n",
      "/lustre/home/mbonse/2023_s4/50_code/venv_s4/lib/python3.10/site-packages/applefy/statistics/parametric.py:110: RuntimeWarning: divide by zero encountered in scalar divide\n",
      "  statistic_t = (y_bar_planet - x_bar_noise) / noise\n"
     ]
    },
    {
     "name": "stdout",
     "output_type": "stream",
     "text": [
      "......................"
     ]
    },
    {
     "name": "stderr",
     "output_type": "stream",
     "text": [
      "/lustre/home/mbonse/2023_s4/50_code/venv_s4/lib/python3.10/site-packages/applefy/statistics/parametric.py:110: RuntimeWarning: divide by zero encountered in scalar divide\n",
      "  statistic_t = (y_bar_planet - x_bar_noise) / noise\n",
      "/lustre/home/mbonse/2023_s4/50_code/venv_s4/lib/python3.10/site-packages/applefy/statistics/parametric.py:110: RuntimeWarning: divide by zero encountered in scalar divide\n",
      "  statistic_t = (y_bar_planet - x_bar_noise) / noise\n",
      "/lustre/home/mbonse/2023_s4/50_code/venv_s4/lib/python3.10/site-packages/applefy/statistics/parametric.py:110: RuntimeWarning: divide by zero encountered in scalar divide\n",
      "  statistic_t = (y_bar_planet - x_bar_noise) / noise\n"
     ]
    },
    {
     "name": "stdout",
     "output_type": "stream",
     "text": [
      "......."
     ]
    },
    {
     "name": "stderr",
     "output_type": "stream",
     "text": [
      "/lustre/home/mbonse/2023_s4/50_code/venv_s4/lib/python3.10/site-packages/applefy/statistics/parametric.py:110: RuntimeWarning: divide by zero encountered in scalar divide\n",
      "  statistic_t = (y_bar_planet - x_bar_noise) / noise\n",
      "/lustre/home/mbonse/2023_s4/50_code/venv_s4/lib/python3.10/site-packages/applefy/statistics/parametric.py:110: RuntimeWarning: divide by zero encountered in scalar divide\n",
      "  statistic_t = (y_bar_planet - x_bar_noise) / noise\n"
     ]
    },
    {
     "name": "stdout",
     "output_type": "stream",
     "text": [
      "."
     ]
    },
    {
     "name": "stderr",
     "output_type": "stream",
     "text": [
      "/lustre/home/mbonse/2023_s4/50_code/venv_s4/lib/python3.10/site-packages/applefy/statistics/parametric.py:110: RuntimeWarning: divide by zero encountered in scalar divide\n",
      "  statistic_t = (y_bar_planet - x_bar_noise) / noise\n"
     ]
    },
    {
     "name": "stdout",
     "output_type": "stream",
     "text": [
      ".............."
     ]
    },
    {
     "name": "stderr",
     "output_type": "stream",
     "text": [
      "/lustre/home/mbonse/2023_s4/50_code/venv_s4/lib/python3.10/site-packages/applefy/statistics/parametric.py:110: RuntimeWarning: divide by zero encountered in scalar divide\n",
      "  statistic_t = (y_bar_planet - x_bar_noise) / noise\n",
      "/lustre/home/mbonse/2023_s4/50_code/venv_s4/lib/python3.10/site-packages/applefy/statistics/parametric.py:110: RuntimeWarning: divide by zero encountered in scalar divide\n",
      "  statistic_t = (y_bar_planet - x_bar_noise) / noise\n",
      "/lustre/home/mbonse/2023_s4/50_code/venv_s4/lib/python3.10/site-packages/applefy/statistics/parametric.py:110: RuntimeWarning: divide by zero encountered in scalar divide\n",
      "  statistic_t = (y_bar_planet - x_bar_noise) / noise\n",
      "/lustre/home/mbonse/2023_s4/50_code/venv_s4/lib/python3.10/site-packages/applefy/statistics/parametric.py:110: RuntimeWarning: divide by zero encountered in scalar divide\n",
      "  statistic_t = (y_bar_planet - x_bar_noise) / noise\n",
      "/lustre/home/mbonse/2023_s4/50_code/venv_s4/lib/python3.10/site-packages/applefy/statistics/parametric.py:110: RuntimeWarning: divide by zero encountered in scalar divide\n",
      "  statistic_t = (y_bar_planet - x_bar_noise) / noise\n"
     ]
    },
    {
     "name": "stdout",
     "output_type": "stream",
     "text": [
      ".."
     ]
    },
    {
     "name": "stderr",
     "output_type": "stream",
     "text": [
      "/lustre/home/mbonse/2023_s4/50_code/venv_s4/lib/python3.10/site-packages/applefy/statistics/parametric.py:110: RuntimeWarning: divide by zero encountered in scalar divide\n",
      "  statistic_t = (y_bar_planet - x_bar_noise) / noise\n"
     ]
    },
    {
     "name": "stdout",
     "output_type": "stream",
     "text": [
      "......................"
     ]
    },
    {
     "name": "stderr",
     "output_type": "stream",
     "text": [
      "/lustre/home/mbonse/2023_s4/50_code/venv_s4/lib/python3.10/site-packages/applefy/statistics/parametric.py:110: RuntimeWarning: divide by zero encountered in scalar divide\n",
      "  statistic_t = (y_bar_planet - x_bar_noise) / noise\n",
      "/lustre/home/mbonse/2023_s4/50_code/venv_s4/lib/python3.10/site-packages/applefy/statistics/parametric.py:110: RuntimeWarning: divide by zero encountered in scalar divide\n",
      "  statistic_t = (y_bar_planet - x_bar_noise) / noise\n",
      "/lustre/home/mbonse/2023_s4/50_code/venv_s4/lib/python3.10/site-packages/applefy/statistics/parametric.py:110: RuntimeWarning: divide by zero encountered in scalar divide\n",
      "  statistic_t = (y_bar_planet - x_bar_noise) / noise\n"
     ]
    },
    {
     "name": "stdout",
     "output_type": "stream",
     "text": [
      "....[DONE]\n",
      "Computing contrast grid for PCA_016_components\n",
      "Computing contrast grid with multiprocessing:\n",
      "................................................................................................."
     ]
    },
    {
     "name": "stderr",
     "output_type": "stream",
     "text": [
      "/lustre/home/mbonse/2023_s4/50_code/venv_s4/lib/python3.10/site-packages/applefy/statistics/parametric.py:110: RuntimeWarning: divide by zero encountered in scalar divide\n",
      "  statistic_t = (y_bar_planet - x_bar_noise) / noise\n",
      "/lustre/home/mbonse/2023_s4/50_code/venv_s4/lib/python3.10/site-packages/applefy/statistics/parametric.py:110: RuntimeWarning: divide by zero encountered in scalar divide\n",
      "  statistic_t = (y_bar_planet - x_bar_noise) / noise\n",
      "/lustre/home/mbonse/2023_s4/50_code/venv_s4/lib/python3.10/site-packages/applefy/statistics/parametric.py:110: RuntimeWarning: divide by zero encountered in scalar divide\n",
      "  statistic_t = (y_bar_planet - x_bar_noise) / noise\n"
     ]
    },
    {
     "name": "stdout",
     "output_type": "stream",
     "text": [
      "......................."
     ]
    },
    {
     "name": "stderr",
     "output_type": "stream",
     "text": [
      "/lustre/home/mbonse/2023_s4/50_code/venv_s4/lib/python3.10/site-packages/applefy/statistics/parametric.py:110: RuntimeWarning: divide by zero encountered in scalar divide\n",
      "  statistic_t = (y_bar_planet - x_bar_noise) / noise\n",
      "/lustre/home/mbonse/2023_s4/50_code/venv_s4/lib/python3.10/site-packages/applefy/statistics/parametric.py:110: RuntimeWarning: divide by zero encountered in scalar divide\n",
      "  statistic_t = (y_bar_planet - x_bar_noise) / noise\n",
      "/lustre/home/mbonse/2023_s4/50_code/venv_s4/lib/python3.10/site-packages/applefy/statistics/parametric.py:110: RuntimeWarning: divide by zero encountered in scalar divide\n",
      "  statistic_t = (y_bar_planet - x_bar_noise) / noise\n"
     ]
    },
    {
     "name": "stdout",
     "output_type": "stream",
     "text": [
      "......."
     ]
    },
    {
     "name": "stderr",
     "output_type": "stream",
     "text": [
      "/lustre/home/mbonse/2023_s4/50_code/venv_s4/lib/python3.10/site-packages/applefy/statistics/parametric.py:110: RuntimeWarning: divide by zero encountered in scalar divide\n",
      "  statistic_t = (y_bar_planet - x_bar_noise) / noise\n"
     ]
    },
    {
     "name": "stdout",
     "output_type": "stream",
     "text": [
      "."
     ]
    },
    {
     "name": "stderr",
     "output_type": "stream",
     "text": [
      "/lustre/home/mbonse/2023_s4/50_code/venv_s4/lib/python3.10/site-packages/applefy/statistics/parametric.py:110: RuntimeWarning: divide by zero encountered in scalar divide\n",
      "  statistic_t = (y_bar_planet - x_bar_noise) / noise\n",
      "/lustre/home/mbonse/2023_s4/50_code/venv_s4/lib/python3.10/site-packages/applefy/statistics/parametric.py:110: RuntimeWarning: divide by zero encountered in scalar divide\n",
      "  statistic_t = (y_bar_planet - x_bar_noise) / noise\n"
     ]
    },
    {
     "name": "stdout",
     "output_type": "stream",
     "text": [
      "............."
     ]
    },
    {
     "name": "stderr",
     "output_type": "stream",
     "text": [
      "/lustre/home/mbonse/2023_s4/50_code/venv_s4/lib/python3.10/site-packages/applefy/statistics/parametric.py:110: RuntimeWarning: divide by zero encountered in scalar divide\n",
      "  statistic_t = (y_bar_planet - x_bar_noise) / noise\n",
      "/lustre/home/mbonse/2023_s4/50_code/venv_s4/lib/python3.10/site-packages/applefy/statistics/parametric.py:110: RuntimeWarning: divide by zero encountered in scalar divide\n",
      "  statistic_t = (y_bar_planet - x_bar_noise) / noise\n",
      "/lustre/home/mbonse/2023_s4/50_code/venv_s4/lib/python3.10/site-packages/applefy/statistics/parametric.py:110: RuntimeWarning: divide by zero encountered in scalar divide\n",
      "  statistic_t = (y_bar_planet - x_bar_noise) / noise\n"
     ]
    },
    {
     "name": "stdout",
     "output_type": "stream",
     "text": [
      "..."
     ]
    },
    {
     "name": "stderr",
     "output_type": "stream",
     "text": [
      "/lustre/home/mbonse/2023_s4/50_code/venv_s4/lib/python3.10/site-packages/applefy/statistics/parametric.py:110: RuntimeWarning: divide by zero encountered in scalar divide\n",
      "  statistic_t = (y_bar_planet - x_bar_noise) / noise\n",
      "/lustre/home/mbonse/2023_s4/50_code/venv_s4/lib/python3.10/site-packages/applefy/statistics/parametric.py:110: RuntimeWarning: divide by zero encountered in scalar divide\n",
      "  statistic_t = (y_bar_planet - x_bar_noise) / noise\n"
     ]
    },
    {
     "name": "stdout",
     "output_type": "stream",
     "text": [
      "."
     ]
    },
    {
     "name": "stderr",
     "output_type": "stream",
     "text": [
      "/lustre/home/mbonse/2023_s4/50_code/venv_s4/lib/python3.10/site-packages/applefy/statistics/parametric.py:110: RuntimeWarning: divide by zero encountered in scalar divide\n",
      "  statistic_t = (y_bar_planet - x_bar_noise) / noise\n"
     ]
    },
    {
     "name": "stdout",
     "output_type": "stream",
     "text": [
      "....................."
     ]
    },
    {
     "name": "stderr",
     "output_type": "stream",
     "text": [
      "/lustre/home/mbonse/2023_s4/50_code/venv_s4/lib/python3.10/site-packages/applefy/statistics/parametric.py:110: RuntimeWarning: divide by zero encountered in scalar divide\n",
      "  statistic_t = (y_bar_planet - x_bar_noise) / noise\n",
      "/lustre/home/mbonse/2023_s4/50_code/venv_s4/lib/python3.10/site-packages/applefy/statistics/parametric.py:110: RuntimeWarning: divide by zero encountered in scalar divide\n",
      "  statistic_t = (y_bar_planet - x_bar_noise) / noise\n",
      "/lustre/home/mbonse/2023_s4/50_code/venv_s4/lib/python3.10/site-packages/applefy/statistics/parametric.py:110: RuntimeWarning: divide by zero encountered in scalar divide\n",
      "  statistic_t = (y_bar_planet - x_bar_noise) / noise\n"
     ]
    },
    {
     "name": "stdout",
     "output_type": "stream",
     "text": [
      "....[DONE]\n",
      "Computing contrast grid for PCA_018_components\n",
      "Computing contrast grid with multiprocessing:\n",
      ".................................................................................................."
     ]
    },
    {
     "name": "stderr",
     "output_type": "stream",
     "text": [
      "/lustre/home/mbonse/2023_s4/50_code/venv_s4/lib/python3.10/site-packages/applefy/statistics/parametric.py:110: RuntimeWarning: divide by zero encountered in scalar divide\n",
      "  statistic_t = (y_bar_planet - x_bar_noise) / noise\n",
      "/lustre/home/mbonse/2023_s4/50_code/venv_s4/lib/python3.10/site-packages/applefy/statistics/parametric.py:110: RuntimeWarning: divide by zero encountered in scalar divide\n",
      "  statistic_t = (y_bar_planet - x_bar_noise) / noise\n",
      "/lustre/home/mbonse/2023_s4/50_code/venv_s4/lib/python3.10/site-packages/applefy/statistics/parametric.py:110: RuntimeWarning: divide by zero encountered in scalar divide\n",
      "  statistic_t = (y_bar_planet - x_bar_noise) / noise\n"
     ]
    },
    {
     "name": "stdout",
     "output_type": "stream",
     "text": [
      "....................."
     ]
    },
    {
     "name": "stderr",
     "output_type": "stream",
     "text": [
      "/lustre/home/mbonse/2023_s4/50_code/venv_s4/lib/python3.10/site-packages/applefy/statistics/parametric.py:110: RuntimeWarning: divide by zero encountered in scalar divide\n",
      "  statistic_t = (y_bar_planet - x_bar_noise) / noise\n",
      "/lustre/home/mbonse/2023_s4/50_code/venv_s4/lib/python3.10/site-packages/applefy/statistics/parametric.py:110: RuntimeWarning: divide by zero encountered in scalar divide\n",
      "  statistic_t = (y_bar_planet - x_bar_noise) / noise\n",
      "/lustre/home/mbonse/2023_s4/50_code/venv_s4/lib/python3.10/site-packages/applefy/statistics/parametric.py:110: RuntimeWarning: divide by zero encountered in scalar divide\n",
      "  statistic_t = (y_bar_planet - x_bar_noise) / noise\n"
     ]
    },
    {
     "name": "stdout",
     "output_type": "stream",
     "text": [
      ".........."
     ]
    },
    {
     "name": "stderr",
     "output_type": "stream",
     "text": [
      "/lustre/home/mbonse/2023_s4/50_code/venv_s4/lib/python3.10/site-packages/applefy/statistics/parametric.py:110: RuntimeWarning: divide by zero encountered in scalar divide\n",
      "  statistic_t = (y_bar_planet - x_bar_noise) / noise\n",
      "/lustre/home/mbonse/2023_s4/50_code/venv_s4/lib/python3.10/site-packages/applefy/statistics/parametric.py:110: RuntimeWarning: divide by zero encountered in scalar divide\n",
      "  statistic_t = (y_bar_planet - x_bar_noise) / noise\n",
      "/lustre/home/mbonse/2023_s4/50_code/venv_s4/lib/python3.10/site-packages/applefy/statistics/parametric.py:110: RuntimeWarning: divide by zero encountered in scalar divide\n",
      "  statistic_t = (y_bar_planet - x_bar_noise) / noise\n"
     ]
    },
    {
     "name": "stdout",
     "output_type": "stream",
     "text": [
      "............."
     ]
    },
    {
     "name": "stderr",
     "output_type": "stream",
     "text": [
      "/lustre/home/mbonse/2023_s4/50_code/venv_s4/lib/python3.10/site-packages/applefy/statistics/parametric.py:110: RuntimeWarning: divide by zero encountered in scalar divide\n",
      "  statistic_t = (y_bar_planet - x_bar_noise) / noise\n",
      "/lustre/home/mbonse/2023_s4/50_code/venv_s4/lib/python3.10/site-packages/applefy/statistics/parametric.py:110: RuntimeWarning: divide by zero encountered in scalar divide\n",
      "  statistic_t = (y_bar_planet - x_bar_noise) / noise\n",
      "/lustre/home/mbonse/2023_s4/50_code/venv_s4/lib/python3.10/site-packages/applefy/statistics/parametric.py:110: RuntimeWarning: divide by zero encountered in scalar divide\n",
      "  statistic_t = (y_bar_planet - x_bar_noise) / noise\n",
      "/lustre/home/mbonse/2023_s4/50_code/venv_s4/lib/python3.10/site-packages/applefy/statistics/parametric.py:110: RuntimeWarning: divide by zero encountered in scalar divide\n",
      "  statistic_t = (y_bar_planet - x_bar_noise) / noise\n"
     ]
    },
    {
     "name": "stdout",
     "output_type": "stream",
     "text": [
      "."
     ]
    },
    {
     "name": "stderr",
     "output_type": "stream",
     "text": [
      "/lustre/home/mbonse/2023_s4/50_code/venv_s4/lib/python3.10/site-packages/applefy/statistics/parametric.py:110: RuntimeWarning: divide by zero encountered in scalar divide\n",
      "  statistic_t = (y_bar_planet - x_bar_noise) / noise\n",
      "/lustre/home/mbonse/2023_s4/50_code/venv_s4/lib/python3.10/site-packages/applefy/statistics/parametric.py:110: RuntimeWarning: divide by zero encountered in scalar divide\n",
      "  statistic_t = (y_bar_planet - x_bar_noise) / noise\n"
     ]
    },
    {
     "name": "stdout",
     "output_type": "stream",
     "text": [
      "......................."
     ]
    },
    {
     "name": "stderr",
     "output_type": "stream",
     "text": [
      "/lustre/home/mbonse/2023_s4/50_code/venv_s4/lib/python3.10/site-packages/applefy/statistics/parametric.py:110: RuntimeWarning: divide by zero encountered in scalar divide\n",
      "  statistic_t = (y_bar_planet - x_bar_noise) / noise\n",
      "/lustre/home/mbonse/2023_s4/50_code/venv_s4/lib/python3.10/site-packages/applefy/statistics/parametric.py:110: RuntimeWarning: divide by zero encountered in scalar divide\n",
      "  statistic_t = (y_bar_planet - x_bar_noise) / noise\n",
      "/lustre/home/mbonse/2023_s4/50_code/venv_s4/lib/python3.10/site-packages/applefy/statistics/parametric.py:110: RuntimeWarning: divide by zero encountered in scalar divide\n",
      "  statistic_t = (y_bar_planet - x_bar_noise) / noise\n"
     ]
    },
    {
     "name": "stdout",
     "output_type": "stream",
     "text": [
      "....[DONE]\n",
      "Computing contrast grid for PCA_020_components\n",
      "Computing contrast grid with multiprocessing:\n",
      ".................................................................................................."
     ]
    },
    {
     "name": "stderr",
     "output_type": "stream",
     "text": [
      "/lustre/home/mbonse/2023_s4/50_code/venv_s4/lib/python3.10/site-packages/applefy/statistics/parametric.py:110: RuntimeWarning: divide by zero encountered in scalar divide\n",
      "  statistic_t = (y_bar_planet - x_bar_noise) / noise\n",
      "/lustre/home/mbonse/2023_s4/50_code/venv_s4/lib/python3.10/site-packages/applefy/statistics/parametric.py:110: RuntimeWarning: divide by zero encountered in scalar divide\n",
      "  statistic_t = (y_bar_planet - x_bar_noise) / noise\n",
      "/lustre/home/mbonse/2023_s4/50_code/venv_s4/lib/python3.10/site-packages/applefy/statistics/parametric.py:110: RuntimeWarning: divide by zero encountered in scalar divide\n",
      "  statistic_t = (y_bar_planet - x_bar_noise) / noise\n"
     ]
    },
    {
     "name": "stdout",
     "output_type": "stream",
     "text": [
      "....................."
     ]
    },
    {
     "name": "stderr",
     "output_type": "stream",
     "text": [
      "/lustre/home/mbonse/2023_s4/50_code/venv_s4/lib/python3.10/site-packages/applefy/statistics/parametric.py:110: RuntimeWarning: divide by zero encountered in scalar divide\n",
      "  statistic_t = (y_bar_planet - x_bar_noise) / noise\n",
      "/lustre/home/mbonse/2023_s4/50_code/venv_s4/lib/python3.10/site-packages/applefy/statistics/parametric.py:110: RuntimeWarning: divide by zero encountered in scalar divide\n",
      "  statistic_t = (y_bar_planet - x_bar_noise) / noise\n"
     ]
    },
    {
     "name": "stdout",
     "output_type": "stream",
     "text": [
      "."
     ]
    },
    {
     "name": "stderr",
     "output_type": "stream",
     "text": [
      "/lustre/home/mbonse/2023_s4/50_code/venv_s4/lib/python3.10/site-packages/applefy/statistics/parametric.py:110: RuntimeWarning: divide by zero encountered in scalar divide\n",
      "  statistic_t = (y_bar_planet - x_bar_noise) / noise\n"
     ]
    },
    {
     "name": "stdout",
     "output_type": "stream",
     "text": [
      "........"
     ]
    },
    {
     "name": "stderr",
     "output_type": "stream",
     "text": [
      "/lustre/home/mbonse/2023_s4/50_code/venv_s4/lib/python3.10/site-packages/applefy/statistics/parametric.py:110: RuntimeWarning: divide by zero encountered in scalar divide\n",
      "  statistic_t = (y_bar_planet - x_bar_noise) / noise\n",
      "/lustre/home/mbonse/2023_s4/50_code/venv_s4/lib/python3.10/site-packages/applefy/statistics/parametric.py:110: RuntimeWarning: divide by zero encountered in scalar divide\n",
      "  statistic_t = (y_bar_planet - x_bar_noise) / noise\n",
      "/lustre/home/mbonse/2023_s4/50_code/venv_s4/lib/python3.10/site-packages/applefy/statistics/parametric.py:110: RuntimeWarning: divide by zero encountered in scalar divide\n",
      "  statistic_t = (y_bar_planet - x_bar_noise) / noise\n"
     ]
    },
    {
     "name": "stdout",
     "output_type": "stream",
     "text": [
      "............"
     ]
    },
    {
     "name": "stderr",
     "output_type": "stream",
     "text": [
      "/lustre/home/mbonse/2023_s4/50_code/venv_s4/lib/python3.10/site-packages/applefy/statistics/parametric.py:110: RuntimeWarning: divide by zero encountered in scalar divide\n",
      "  statistic_t = (y_bar_planet - x_bar_noise) / noise\n",
      "/lustre/home/mbonse/2023_s4/50_code/venv_s4/lib/python3.10/site-packages/applefy/statistics/parametric.py:110: RuntimeWarning: divide by zero encountered in scalar divide\n",
      "  statistic_t = (y_bar_planet - x_bar_noise) / noise\n"
     ]
    },
    {
     "name": "stdout",
     "output_type": "stream",
     "text": [
      "."
     ]
    },
    {
     "name": "stderr",
     "output_type": "stream",
     "text": [
      "/lustre/home/mbonse/2023_s4/50_code/venv_s4/lib/python3.10/site-packages/applefy/statistics/parametric.py:110: RuntimeWarning: divide by zero encountered in scalar divide\n",
      "  statistic_t = (y_bar_planet - x_bar_noise) / noise\n"
     ]
    },
    {
     "name": "stdout",
     "output_type": "stream",
     "text": [
      "..."
     ]
    },
    {
     "name": "stderr",
     "output_type": "stream",
     "text": [
      "/lustre/home/mbonse/2023_s4/50_code/venv_s4/lib/python3.10/site-packages/applefy/statistics/parametric.py:110: RuntimeWarning: divide by zero encountered in scalar divide\n",
      "  statistic_t = (y_bar_planet - x_bar_noise) / noise\n",
      "/lustre/home/mbonse/2023_s4/50_code/venv_s4/lib/python3.10/site-packages/applefy/statistics/parametric.py:110: RuntimeWarning: divide by zero encountered in scalar divide\n",
      "  statistic_t = (y_bar_planet - x_bar_noise) / noise\n"
     ]
    },
    {
     "name": "stdout",
     "output_type": "stream",
     "text": [
      "."
     ]
    },
    {
     "name": "stderr",
     "output_type": "stream",
     "text": [
      "/lustre/home/mbonse/2023_s4/50_code/venv_s4/lib/python3.10/site-packages/applefy/statistics/parametric.py:110: RuntimeWarning: divide by zero encountered in scalar divide\n",
      "  statistic_t = (y_bar_planet - x_bar_noise) / noise\n"
     ]
    },
    {
     "name": "stdout",
     "output_type": "stream",
     "text": [
      "....................."
     ]
    },
    {
     "name": "stderr",
     "output_type": "stream",
     "text": [
      "/lustre/home/mbonse/2023_s4/50_code/venv_s4/lib/python3.10/site-packages/applefy/statistics/parametric.py:110: RuntimeWarning: divide by zero encountered in scalar divide\n",
      "  statistic_t = (y_bar_planet - x_bar_noise) / noise\n",
      "/lustre/home/mbonse/2023_s4/50_code/venv_s4/lib/python3.10/site-packages/applefy/statistics/parametric.py:110: RuntimeWarning: divide by zero encountered in scalar divide\n",
      "  statistic_t = (y_bar_planet - x_bar_noise) / noise\n",
      "/lustre/home/mbonse/2023_s4/50_code/venv_s4/lib/python3.10/site-packages/applefy/statistics/parametric.py:110: RuntimeWarning: divide by zero encountered in scalar divide\n",
      "  statistic_t = (y_bar_planet - x_bar_noise) / noise\n"
     ]
    },
    {
     "name": "stdout",
     "output_type": "stream",
     "text": [
      "....[DONE]\n",
      "Computing contrast grid for PCA_025_components\n",
      "Computing contrast grid with multiprocessing:\n",
      ".................................................................................................."
     ]
    },
    {
     "name": "stderr",
     "output_type": "stream",
     "text": [
      "/lustre/home/mbonse/2023_s4/50_code/venv_s4/lib/python3.10/site-packages/applefy/statistics/parametric.py:110: RuntimeWarning: divide by zero encountered in scalar divide\n",
      "  statistic_t = (y_bar_planet - x_bar_noise) / noise\n",
      "/lustre/home/mbonse/2023_s4/50_code/venv_s4/lib/python3.10/site-packages/applefy/statistics/parametric.py:110: RuntimeWarning: divide by zero encountered in scalar divide\n",
      "  statistic_t = (y_bar_planet - x_bar_noise) / noise\n",
      "/lustre/home/mbonse/2023_s4/50_code/venv_s4/lib/python3.10/site-packages/applefy/statistics/parametric.py:110: RuntimeWarning: divide by zero encountered in scalar divide\n",
      "  statistic_t = (y_bar_planet - x_bar_noise) / noise\n"
     ]
    },
    {
     "name": "stdout",
     "output_type": "stream",
     "text": [
      "......................"
     ]
    },
    {
     "name": "stderr",
     "output_type": "stream",
     "text": [
      "/lustre/home/mbonse/2023_s4/50_code/venv_s4/lib/python3.10/site-packages/applefy/statistics/parametric.py:110: RuntimeWarning: divide by zero encountered in scalar divide\n",
      "  statistic_t = (y_bar_planet - x_bar_noise) / noise\n",
      "/lustre/home/mbonse/2023_s4/50_code/venv_s4/lib/python3.10/site-packages/applefy/statistics/parametric.py:110: RuntimeWarning: divide by zero encountered in scalar divide\n",
      "  statistic_t = (y_bar_planet - x_bar_noise) / noise\n"
     ]
    },
    {
     "name": "stdout",
     "output_type": "stream",
     "text": [
      "."
     ]
    },
    {
     "name": "stderr",
     "output_type": "stream",
     "text": [
      "/lustre/home/mbonse/2023_s4/50_code/venv_s4/lib/python3.10/site-packages/applefy/statistics/parametric.py:110: RuntimeWarning: divide by zero encountered in scalar divide\n",
      "  statistic_t = (y_bar_planet - x_bar_noise) / noise\n"
     ]
    },
    {
     "name": "stdout",
     "output_type": "stream",
     "text": [
      "......"
     ]
    },
    {
     "name": "stderr",
     "output_type": "stream",
     "text": [
      "/lustre/home/mbonse/2023_s4/50_code/venv_s4/lib/python3.10/site-packages/applefy/statistics/parametric.py:110: RuntimeWarning: divide by zero encountered in scalar divide\n",
      "  statistic_t = (y_bar_planet - x_bar_noise) / noise\n"
     ]
    },
    {
     "name": "stdout",
     "output_type": "stream",
     "text": [
      "."
     ]
    },
    {
     "name": "stderr",
     "output_type": "stream",
     "text": [
      "/lustre/home/mbonse/2023_s4/50_code/venv_s4/lib/python3.10/site-packages/applefy/statistics/parametric.py:110: RuntimeWarning: divide by zero encountered in scalar divide\n",
      "  statistic_t = (y_bar_planet - x_bar_noise) / noise\n",
      "/lustre/home/mbonse/2023_s4/50_code/venv_s4/lib/python3.10/site-packages/applefy/statistics/parametric.py:110: RuntimeWarning: divide by zero encountered in scalar divide\n",
      "  statistic_t = (y_bar_planet - x_bar_noise) / noise\n"
     ]
    },
    {
     "name": "stdout",
     "output_type": "stream",
     "text": [
      "............"
     ]
    },
    {
     "name": "stderr",
     "output_type": "stream",
     "text": [
      "/lustre/home/mbonse/2023_s4/50_code/venv_s4/lib/python3.10/site-packages/applefy/statistics/parametric.py:110: RuntimeWarning: divide by zero encountered in scalar divide\n",
      "  statistic_t = (y_bar_planet - x_bar_noise) / noise\n"
     ]
    },
    {
     "name": "stdout",
     "output_type": "stream",
     "text": [
      "."
     ]
    },
    {
     "name": "stderr",
     "output_type": "stream",
     "text": [
      "/lustre/home/mbonse/2023_s4/50_code/venv_s4/lib/python3.10/site-packages/applefy/statistics/parametric.py:110: RuntimeWarning: divide by zero encountered in scalar divide\n",
      "  statistic_t = (y_bar_planet - x_bar_noise) / noise\n",
      "/lustre/home/mbonse/2023_s4/50_code/venv_s4/lib/python3.10/site-packages/applefy/statistics/parametric.py:110: RuntimeWarning: divide by zero encountered in scalar divide\n",
      "  statistic_t = (y_bar_planet - x_bar_noise) / noise\n"
     ]
    },
    {
     "name": "stdout",
     "output_type": "stream",
     "text": [
      ".."
     ]
    },
    {
     "name": "stderr",
     "output_type": "stream",
     "text": [
      "/lustre/home/mbonse/2023_s4/50_code/venv_s4/lib/python3.10/site-packages/applefy/statistics/parametric.py:110: RuntimeWarning: divide by zero encountered in scalar divide\n",
      "  statistic_t = (y_bar_planet - x_bar_noise) / noise\n"
     ]
    },
    {
     "name": "stdout",
     "output_type": "stream",
     "text": [
      "."
     ]
    },
    {
     "name": "stderr",
     "output_type": "stream",
     "text": [
      "/lustre/home/mbonse/2023_s4/50_code/venv_s4/lib/python3.10/site-packages/applefy/statistics/parametric.py:110: RuntimeWarning: divide by zero encountered in scalar divide\n",
      "  statistic_t = (y_bar_planet - x_bar_noise) / noise\n",
      "/lustre/home/mbonse/2023_s4/50_code/venv_s4/lib/python3.10/site-packages/applefy/statistics/parametric.py:110: RuntimeWarning: divide by zero encountered in scalar divide\n",
      "  statistic_t = (y_bar_planet - x_bar_noise) / noise\n"
     ]
    },
    {
     "name": "stdout",
     "output_type": "stream",
     "text": [
      "......................"
     ]
    },
    {
     "name": "stderr",
     "output_type": "stream",
     "text": [
      "/lustre/home/mbonse/2023_s4/50_code/venv_s4/lib/python3.10/site-packages/applefy/statistics/parametric.py:110: RuntimeWarning: divide by zero encountered in scalar divide\n",
      "  statistic_t = (y_bar_planet - x_bar_noise) / noise\n",
      "/lustre/home/mbonse/2023_s4/50_code/venv_s4/lib/python3.10/site-packages/applefy/statistics/parametric.py:110: RuntimeWarning: divide by zero encountered in scalar divide\n",
      "  statistic_t = (y_bar_planet - x_bar_noise) / noise\n",
      "/lustre/home/mbonse/2023_s4/50_code/venv_s4/lib/python3.10/site-packages/applefy/statistics/parametric.py:110: RuntimeWarning: divide by zero encountered in scalar divide\n",
      "  statistic_t = (y_bar_planet - x_bar_noise) / noise\n"
     ]
    },
    {
     "name": "stdout",
     "output_type": "stream",
     "text": [
      "....[DONE]\n",
      "Computing contrast grid for PCA_030_components\n",
      "Computing contrast grid with multiprocessing:\n",
      ".................................................................................................."
     ]
    },
    {
     "name": "stderr",
     "output_type": "stream",
     "text": [
      "/lustre/home/mbonse/2023_s4/50_code/venv_s4/lib/python3.10/site-packages/applefy/statistics/parametric.py:110: RuntimeWarning: divide by zero encountered in scalar divide\n",
      "  statistic_t = (y_bar_planet - x_bar_noise) / noise\n",
      "/lustre/home/mbonse/2023_s4/50_code/venv_s4/lib/python3.10/site-packages/applefy/statistics/parametric.py:110: RuntimeWarning: divide by zero encountered in scalar divide\n",
      "  statistic_t = (y_bar_planet - x_bar_noise) / noise\n",
      "/lustre/home/mbonse/2023_s4/50_code/venv_s4/lib/python3.10/site-packages/applefy/statistics/parametric.py:110: RuntimeWarning: divide by zero encountered in scalar divide\n",
      "  statistic_t = (y_bar_planet - x_bar_noise) / noise\n"
     ]
    },
    {
     "name": "stdout",
     "output_type": "stream",
     "text": [
      "....................."
     ]
    },
    {
     "name": "stderr",
     "output_type": "stream",
     "text": [
      "/lustre/home/mbonse/2023_s4/50_code/venv_s4/lib/python3.10/site-packages/applefy/statistics/parametric.py:110: RuntimeWarning: divide by zero encountered in scalar divide\n",
      "  statistic_t = (y_bar_planet - x_bar_noise) / noise\n"
     ]
    },
    {
     "name": "stdout",
     "output_type": "stream",
     "text": [
      "."
     ]
    },
    {
     "name": "stderr",
     "output_type": "stream",
     "text": [
      "/lustre/home/mbonse/2023_s4/50_code/venv_s4/lib/python3.10/site-packages/applefy/statistics/parametric.py:110: RuntimeWarning: divide by zero encountered in scalar divide\n",
      "  statistic_t = (y_bar_planet - x_bar_noise) / noise\n",
      "/lustre/home/mbonse/2023_s4/50_code/venv_s4/lib/python3.10/site-packages/applefy/statistics/parametric.py:110: RuntimeWarning: divide by zero encountered in scalar divide\n",
      "  statistic_t = (y_bar_planet - x_bar_noise) / noise\n"
     ]
    },
    {
     "name": "stdout",
     "output_type": "stream",
     "text": [
      "........"
     ]
    },
    {
     "name": "stderr",
     "output_type": "stream",
     "text": [
      "/lustre/home/mbonse/2023_s4/50_code/venv_s4/lib/python3.10/site-packages/applefy/statistics/parametric.py:110: RuntimeWarning: divide by zero encountered in scalar divide\n",
      "  statistic_t = (y_bar_planet - x_bar_noise) / noise\n",
      "/lustre/home/mbonse/2023_s4/50_code/venv_s4/lib/python3.10/site-packages/applefy/statistics/parametric.py:110: RuntimeWarning: divide by zero encountered in scalar divide\n",
      "  statistic_t = (y_bar_planet - x_bar_noise) / noise\n",
      "/lustre/home/mbonse/2023_s4/50_code/venv_s4/lib/python3.10/site-packages/applefy/statistics/parametric.py:110: RuntimeWarning: divide by zero encountered in scalar divide\n",
      "  statistic_t = (y_bar_planet - x_bar_noise) / noise\n"
     ]
    },
    {
     "name": "stdout",
     "output_type": "stream",
     "text": [
      "............."
     ]
    },
    {
     "name": "stderr",
     "output_type": "stream",
     "text": [
      "/lustre/home/mbonse/2023_s4/50_code/venv_s4/lib/python3.10/site-packages/applefy/statistics/parametric.py:110: RuntimeWarning: divide by zero encountered in scalar divide\n",
      "  statistic_t = (y_bar_planet - x_bar_noise) / noise\n",
      "/lustre/home/mbonse/2023_s4/50_code/venv_s4/lib/python3.10/site-packages/applefy/statistics/parametric.py:110: RuntimeWarning: divide by zero encountered in scalar divide\n",
      "  statistic_t = (y_bar_planet - x_bar_noise) / noise\n"
     ]
    },
    {
     "name": "stdout",
     "output_type": "stream",
     "text": [
      "."
     ]
    },
    {
     "name": "stderr",
     "output_type": "stream",
     "text": [
      "/lustre/home/mbonse/2023_s4/50_code/venv_s4/lib/python3.10/site-packages/applefy/statistics/parametric.py:110: RuntimeWarning: divide by zero encountered in scalar divide\n",
      "  statistic_t = (y_bar_planet - x_bar_noise) / noise\n",
      "/lustre/home/mbonse/2023_s4/50_code/venv_s4/lib/python3.10/site-packages/applefy/statistics/parametric.py:110: RuntimeWarning: divide by zero encountered in scalar divide\n",
      "  statistic_t = (y_bar_planet - x_bar_noise) / noise\n",
      "/lustre/home/mbonse/2023_s4/50_code/venv_s4/lib/python3.10/site-packages/applefy/statistics/parametric.py:110: RuntimeWarning: divide by zero encountered in scalar divide\n",
      "  statistic_t = (y_bar_planet - x_bar_noise) / noise\n"
     ]
    },
    {
     "name": "stdout",
     "output_type": "stream",
     "text": [
      "."
     ]
    },
    {
     "name": "stderr",
     "output_type": "stream",
     "text": [
      "/lustre/home/mbonse/2023_s4/50_code/venv_s4/lib/python3.10/site-packages/applefy/statistics/parametric.py:110: RuntimeWarning: divide by zero encountered in scalar divide\n",
      "  statistic_t = (y_bar_planet - x_bar_noise) / noise\n"
     ]
    },
    {
     "name": "stdout",
     "output_type": "stream",
     "text": [
      "......................."
     ]
    },
    {
     "name": "stderr",
     "output_type": "stream",
     "text": [
      "/lustre/home/mbonse/2023_s4/50_code/venv_s4/lib/python3.10/site-packages/applefy/statistics/parametric.py:110: RuntimeWarning: divide by zero encountered in scalar divide\n",
      "  statistic_t = (y_bar_planet - x_bar_noise) / noise\n",
      "/lustre/home/mbonse/2023_s4/50_code/venv_s4/lib/python3.10/site-packages/applefy/statistics/parametric.py:110: RuntimeWarning: divide by zero encountered in scalar divide\n",
      "  statistic_t = (y_bar_planet - x_bar_noise) / noise\n",
      "/lustre/home/mbonse/2023_s4/50_code/venv_s4/lib/python3.10/site-packages/applefy/statistics/parametric.py:110: RuntimeWarning: divide by zero encountered in scalar divide\n",
      "  statistic_t = (y_bar_planet - x_bar_noise) / noise\n"
     ]
    },
    {
     "name": "stdout",
     "output_type": "stream",
     "text": [
      "....[DONE]\n",
      "Computing contrast grid for PCA_035_components\n",
      "Computing contrast grid with multiprocessing:\n",
      ".................................................................................................."
     ]
    },
    {
     "name": "stderr",
     "output_type": "stream",
     "text": [
      "/lustre/home/mbonse/2023_s4/50_code/venv_s4/lib/python3.10/site-packages/applefy/statistics/parametric.py:110: RuntimeWarning: divide by zero encountered in scalar divide\n",
      "  statistic_t = (y_bar_planet - x_bar_noise) / noise\n",
      "/lustre/home/mbonse/2023_s4/50_code/venv_s4/lib/python3.10/site-packages/applefy/statistics/parametric.py:110: RuntimeWarning: divide by zero encountered in scalar divide\n",
      "  statistic_t = (y_bar_planet - x_bar_noise) / noise\n",
      "/lustre/home/mbonse/2023_s4/50_code/venv_s4/lib/python3.10/site-packages/applefy/statistics/parametric.py:110: RuntimeWarning: divide by zero encountered in scalar divide\n",
      "  statistic_t = (y_bar_planet - x_bar_noise) / noise\n"
     ]
    },
    {
     "name": "stdout",
     "output_type": "stream",
     "text": [
      "......................"
     ]
    },
    {
     "name": "stderr",
     "output_type": "stream",
     "text": [
      "/lustre/home/mbonse/2023_s4/50_code/venv_s4/lib/python3.10/site-packages/applefy/statistics/parametric.py:110: RuntimeWarning: divide by zero encountered in scalar divide\n",
      "  statistic_t = (y_bar_planet - x_bar_noise) / noise\n"
     ]
    },
    {
     "name": "stdout",
     "output_type": "stream",
     "text": [
      "."
     ]
    },
    {
     "name": "stderr",
     "output_type": "stream",
     "text": [
      "/lustre/home/mbonse/2023_s4/50_code/venv_s4/lib/python3.10/site-packages/applefy/statistics/parametric.py:110: RuntimeWarning: divide by zero encountered in scalar divide\n",
      "  statistic_t = (y_bar_planet - x_bar_noise) / noise\n",
      "/lustre/home/mbonse/2023_s4/50_code/venv_s4/lib/python3.10/site-packages/applefy/statistics/parametric.py:110: RuntimeWarning: divide by zero encountered in scalar divide\n",
      "  statistic_t = (y_bar_planet - x_bar_noise) / noise\n"
     ]
    },
    {
     "name": "stdout",
     "output_type": "stream",
     "text": [
      "....."
     ]
    },
    {
     "name": "stderr",
     "output_type": "stream",
     "text": [
      "/lustre/home/mbonse/2023_s4/50_code/venv_s4/lib/python3.10/site-packages/applefy/statistics/parametric.py:110: RuntimeWarning: divide by zero encountered in scalar divide\n",
      "  statistic_t = (y_bar_planet - x_bar_noise) / noise\n"
     ]
    },
    {
     "name": "stdout",
     "output_type": "stream",
     "text": [
      "."
     ]
    },
    {
     "name": "stderr",
     "output_type": "stream",
     "text": [
      "/lustre/home/mbonse/2023_s4/50_code/venv_s4/lib/python3.10/site-packages/applefy/statistics/parametric.py:110: RuntimeWarning: divide by zero encountered in scalar divide\n",
      "  statistic_t = (y_bar_planet - x_bar_noise) / noise\n",
      "/lustre/home/mbonse/2023_s4/50_code/venv_s4/lib/python3.10/site-packages/applefy/statistics/parametric.py:110: RuntimeWarning: divide by zero encountered in scalar divide\n",
      "  statistic_t = (y_bar_planet - x_bar_noise) / noise\n"
     ]
    },
    {
     "name": "stdout",
     "output_type": "stream",
     "text": [
      "..............."
     ]
    },
    {
     "name": "stderr",
     "output_type": "stream",
     "text": [
      "/lustre/home/mbonse/2023_s4/50_code/venv_s4/lib/python3.10/site-packages/applefy/statistics/parametric.py:110: RuntimeWarning: divide by zero encountered in scalar divide\n",
      "  statistic_t = (y_bar_planet - x_bar_noise) / noise\n",
      "/lustre/home/mbonse/2023_s4/50_code/venv_s4/lib/python3.10/site-packages/applefy/statistics/parametric.py:110: RuntimeWarning: divide by zero encountered in scalar divide\n",
      "  statistic_t = (y_bar_planet - x_bar_noise) / noise\n",
      "/lustre/home/mbonse/2023_s4/50_code/venv_s4/lib/python3.10/site-packages/applefy/statistics/parametric.py:110: RuntimeWarning: divide by zero encountered in scalar divide\n",
      "  statistic_t = (y_bar_planet - x_bar_noise) / noise\n",
      "/lustre/home/mbonse/2023_s4/50_code/venv_s4/lib/python3.10/site-packages/applefy/statistics/parametric.py:110: RuntimeWarning: divide by zero encountered in scalar divide\n",
      "  statistic_t = (y_bar_planet - x_bar_noise) / noise\n",
      "/lustre/home/mbonse/2023_s4/50_code/venv_s4/lib/python3.10/site-packages/applefy/statistics/parametric.py:110: RuntimeWarning: divide by zero encountered in scalar divide\n",
      "  statistic_t = (y_bar_planet - x_bar_noise) / noise\n"
     ]
    },
    {
     "name": "stdout",
     "output_type": "stream",
     "text": [
      "."
     ]
    },
    {
     "name": "stderr",
     "output_type": "stream",
     "text": [
      "/lustre/home/mbonse/2023_s4/50_code/venv_s4/lib/python3.10/site-packages/applefy/statistics/parametric.py:110: RuntimeWarning: divide by zero encountered in scalar divide\n",
      "  statistic_t = (y_bar_planet - x_bar_noise) / noise\n"
     ]
    },
    {
     "name": "stdout",
     "output_type": "stream",
     "text": [
      "......................."
     ]
    },
    {
     "name": "stderr",
     "output_type": "stream",
     "text": [
      "/lustre/home/mbonse/2023_s4/50_code/venv_s4/lib/python3.10/site-packages/applefy/statistics/parametric.py:110: RuntimeWarning: divide by zero encountered in scalar divide\n",
      "  statistic_t = (y_bar_planet - x_bar_noise) / noise\n",
      "/lustre/home/mbonse/2023_s4/50_code/venv_s4/lib/python3.10/site-packages/applefy/statistics/parametric.py:110: RuntimeWarning: divide by zero encountered in scalar divide\n",
      "  statistic_t = (y_bar_planet - x_bar_noise) / noise\n",
      "/lustre/home/mbonse/2023_s4/50_code/venv_s4/lib/python3.10/site-packages/applefy/statistics/parametric.py:110: RuntimeWarning: divide by zero encountered in scalar divide\n",
      "  statistic_t = (y_bar_planet - x_bar_noise) / noise\n"
     ]
    },
    {
     "name": "stdout",
     "output_type": "stream",
     "text": [
      "....[DONE]\n",
      "Computing contrast grid for PCA_040_components\n",
      "Computing contrast grid with multiprocessing:\n",
      ".................................................................................................."
     ]
    },
    {
     "name": "stderr",
     "output_type": "stream",
     "text": [
      "/lustre/home/mbonse/2023_s4/50_code/venv_s4/lib/python3.10/site-packages/applefy/statistics/parametric.py:110: RuntimeWarning: divide by zero encountered in scalar divide\n",
      "  statistic_t = (y_bar_planet - x_bar_noise) / noise\n",
      "/lustre/home/mbonse/2023_s4/50_code/venv_s4/lib/python3.10/site-packages/applefy/statistics/parametric.py:110: RuntimeWarning: divide by zero encountered in scalar divide\n",
      "  statistic_t = (y_bar_planet - x_bar_noise) / noise\n",
      "/lustre/home/mbonse/2023_s4/50_code/venv_s4/lib/python3.10/site-packages/applefy/statistics/parametric.py:110: RuntimeWarning: divide by zero encountered in scalar divide\n",
      "  statistic_t = (y_bar_planet - x_bar_noise) / noise\n"
     ]
    },
    {
     "name": "stdout",
     "output_type": "stream",
     "text": [
      "......................"
     ]
    },
    {
     "name": "stderr",
     "output_type": "stream",
     "text": [
      "/lustre/home/mbonse/2023_s4/50_code/venv_s4/lib/python3.10/site-packages/applefy/statistics/parametric.py:110: RuntimeWarning: divide by zero encountered in scalar divide\n",
      "  statistic_t = (y_bar_planet - x_bar_noise) / noise\n",
      "/lustre/home/mbonse/2023_s4/50_code/venv_s4/lib/python3.10/site-packages/applefy/statistics/parametric.py:110: RuntimeWarning: divide by zero encountered in scalar divide\n",
      "  statistic_t = (y_bar_planet - x_bar_noise) / noise\n",
      "/lustre/home/mbonse/2023_s4/50_code/venv_s4/lib/python3.10/site-packages/applefy/statistics/parametric.py:110: RuntimeWarning: divide by zero encountered in scalar divide\n",
      "  statistic_t = (y_bar_planet - x_bar_noise) / noise\n"
     ]
    },
    {
     "name": "stdout",
     "output_type": "stream",
     "text": [
      "......."
     ]
    },
    {
     "name": "stderr",
     "output_type": "stream",
     "text": [
      "/lustre/home/mbonse/2023_s4/50_code/venv_s4/lib/python3.10/site-packages/applefy/statistics/parametric.py:110: RuntimeWarning: divide by zero encountered in scalar divide\n",
      "  statistic_t = (y_bar_planet - x_bar_noise) / noise\n",
      "/lustre/home/mbonse/2023_s4/50_code/venv_s4/lib/python3.10/site-packages/applefy/statistics/parametric.py:110: RuntimeWarning: divide by zero encountered in scalar divide\n",
      "  statistic_t = (y_bar_planet - x_bar_noise) / noise\n",
      "/lustre/home/mbonse/2023_s4/50_code/venv_s4/lib/python3.10/site-packages/applefy/statistics/parametric.py:110: RuntimeWarning: divide by zero encountered in scalar divide\n",
      "  statistic_t = (y_bar_planet - x_bar_noise) / noise\n"
     ]
    },
    {
     "name": "stdout",
     "output_type": "stream",
     "text": [
      "..............."
     ]
    },
    {
     "name": "stderr",
     "output_type": "stream",
     "text": [
      "/lustre/home/mbonse/2023_s4/50_code/venv_s4/lib/python3.10/site-packages/applefy/statistics/parametric.py:110: RuntimeWarning: divide by zero encountered in scalar divide\n",
      "  statistic_t = (y_bar_planet - x_bar_noise) / noise\n"
     ]
    },
    {
     "name": "stdout",
     "output_type": "stream",
     "text": [
      "."
     ]
    },
    {
     "name": "stderr",
     "output_type": "stream",
     "text": [
      "/lustre/home/mbonse/2023_s4/50_code/venv_s4/lib/python3.10/site-packages/applefy/statistics/parametric.py:110: RuntimeWarning: divide by zero encountered in scalar divide\n",
      "  statistic_t = (y_bar_planet - x_bar_noise) / noise\n",
      "/lustre/home/mbonse/2023_s4/50_code/venv_s4/lib/python3.10/site-packages/applefy/statistics/parametric.py:110: RuntimeWarning: divide by zero encountered in scalar divide\n",
      "  statistic_t = (y_bar_planet - x_bar_noise) / noise\n",
      "/lustre/home/mbonse/2023_s4/50_code/venv_s4/lib/python3.10/site-packages/applefy/statistics/parametric.py:110: RuntimeWarning: divide by zero encountered in scalar divide\n",
      "  statistic_t = (y_bar_planet - x_bar_noise) / noise\n",
      "/lustre/home/mbonse/2023_s4/50_code/venv_s4/lib/python3.10/site-packages/applefy/statistics/parametric.py:110: RuntimeWarning: divide by zero encountered in scalar divide\n",
      "  statistic_t = (y_bar_planet - x_bar_noise) / noise\n",
      "/lustre/home/mbonse/2023_s4/50_code/venv_s4/lib/python3.10/site-packages/applefy/statistics/parametric.py:110: RuntimeWarning: divide by zero encountered in scalar divide\n",
      "  statistic_t = (y_bar_planet - x_bar_noise) / noise\n"
     ]
    },
    {
     "name": "stdout",
     "output_type": "stream",
     "text": [
      "......................."
     ]
    },
    {
     "name": "stderr",
     "output_type": "stream",
     "text": [
      "/lustre/home/mbonse/2023_s4/50_code/venv_s4/lib/python3.10/site-packages/applefy/statistics/parametric.py:110: RuntimeWarning: divide by zero encountered in scalar divide\n",
      "  statistic_t = (y_bar_planet - x_bar_noise) / noise\n",
      "/lustre/home/mbonse/2023_s4/50_code/venv_s4/lib/python3.10/site-packages/applefy/statistics/parametric.py:110: RuntimeWarning: divide by zero encountered in scalar divide\n",
      "  statistic_t = (y_bar_planet - x_bar_noise) / noise\n",
      "/lustre/home/mbonse/2023_s4/50_code/venv_s4/lib/python3.10/site-packages/applefy/statistics/parametric.py:110: RuntimeWarning: divide by zero encountered in scalar divide\n",
      "  statistic_t = (y_bar_planet - x_bar_noise) / noise\n"
     ]
    },
    {
     "name": "stdout",
     "output_type": "stream",
     "text": [
      "....[DONE]\n",
      "Computing contrast grid for PCA_045_components\n",
      "Computing contrast grid with multiprocessing:\n",
      "................................................................................................"
     ]
    },
    {
     "name": "stderr",
     "output_type": "stream",
     "text": [
      "/lustre/home/mbonse/2023_s4/50_code/venv_s4/lib/python3.10/site-packages/applefy/statistics/parametric.py:110: RuntimeWarning: divide by zero encountered in scalar divide\n",
      "  statistic_t = (y_bar_planet - x_bar_noise) / noise\n",
      "/lustre/home/mbonse/2023_s4/50_code/venv_s4/lib/python3.10/site-packages/applefy/statistics/parametric.py:110: RuntimeWarning: divide by zero encountered in scalar divide\n",
      "  statistic_t = (y_bar_planet - x_bar_noise) / noise\n",
      "/lustre/home/mbonse/2023_s4/50_code/venv_s4/lib/python3.10/site-packages/applefy/statistics/parametric.py:110: RuntimeWarning: divide by zero encountered in scalar divide\n",
      "  statistic_t = (y_bar_planet - x_bar_noise) / noise\n"
     ]
    },
    {
     "name": "stdout",
     "output_type": "stream",
     "text": [
      "........................"
     ]
    },
    {
     "name": "stderr",
     "output_type": "stream",
     "text": [
      "/lustre/home/mbonse/2023_s4/50_code/venv_s4/lib/python3.10/site-packages/applefy/statistics/parametric.py:110: RuntimeWarning: divide by zero encountered in scalar divide\n",
      "  statistic_t = (y_bar_planet - x_bar_noise) / noise\n",
      "/lustre/home/mbonse/2023_s4/50_code/venv_s4/lib/python3.10/site-packages/applefy/statistics/parametric.py:110: RuntimeWarning: divide by zero encountered in scalar divide\n",
      "  statistic_t = (y_bar_planet - x_bar_noise) / noise\n",
      "/lustre/home/mbonse/2023_s4/50_code/venv_s4/lib/python3.10/site-packages/applefy/statistics/parametric.py:110: RuntimeWarning: divide by zero encountered in scalar divide\n",
      "  statistic_t = (y_bar_planet - x_bar_noise) / noise\n"
     ]
    },
    {
     "name": "stdout",
     "output_type": "stream",
     "text": [
      "........"
     ]
    },
    {
     "name": "stderr",
     "output_type": "stream",
     "text": [
      "/lustre/home/mbonse/2023_s4/50_code/venv_s4/lib/python3.10/site-packages/applefy/statistics/parametric.py:110: RuntimeWarning: divide by zero encountered in scalar divide\n",
      "  statistic_t = (y_bar_planet - x_bar_noise) / noise\n",
      "/lustre/home/mbonse/2023_s4/50_code/venv_s4/lib/python3.10/site-packages/applefy/statistics/parametric.py:110: RuntimeWarning: divide by zero encountered in scalar divide\n",
      "  statistic_t = (y_bar_planet - x_bar_noise) / noise\n",
      "/lustre/home/mbonse/2023_s4/50_code/venv_s4/lib/python3.10/site-packages/applefy/statistics/parametric.py:110: RuntimeWarning: divide by zero encountered in scalar divide\n",
      "  statistic_t = (y_bar_planet - x_bar_noise) / noise\n"
     ]
    },
    {
     "name": "stdout",
     "output_type": "stream",
     "text": [
      "............."
     ]
    },
    {
     "name": "stderr",
     "output_type": "stream",
     "text": [
      "/lustre/home/mbonse/2023_s4/50_code/venv_s4/lib/python3.10/site-packages/applefy/statistics/parametric.py:110: RuntimeWarning: divide by zero encountered in scalar divide\n",
      "  statistic_t = (y_bar_planet - x_bar_noise) / noise\n",
      "/lustre/home/mbonse/2023_s4/50_code/venv_s4/lib/python3.10/site-packages/applefy/statistics/parametric.py:110: RuntimeWarning: divide by zero encountered in scalar divide\n",
      "  statistic_t = (y_bar_planet - x_bar_noise) / noise\n",
      "/lustre/home/mbonse/2023_s4/50_code/venv_s4/lib/python3.10/site-packages/applefy/statistics/parametric.py:110: RuntimeWarning: divide by zero encountered in scalar divide\n",
      "  statistic_t = (y_bar_planet - x_bar_noise) / noise\n"
     ]
    },
    {
     "name": "stdout",
     "output_type": "stream",
     "text": [
      "...."
     ]
    },
    {
     "name": "stderr",
     "output_type": "stream",
     "text": [
      "/lustre/home/mbonse/2023_s4/50_code/venv_s4/lib/python3.10/site-packages/applefy/statistics/parametric.py:110: RuntimeWarning: divide by zero encountered in scalar divide\n",
      "  statistic_t = (y_bar_planet - x_bar_noise) / noise\n",
      "/lustre/home/mbonse/2023_s4/50_code/venv_s4/lib/python3.10/site-packages/applefy/statistics/parametric.py:110: RuntimeWarning: divide by zero encountered in scalar divide\n",
      "  statistic_t = (y_bar_planet - x_bar_noise) / noise\n",
      "/lustre/home/mbonse/2023_s4/50_code/venv_s4/lib/python3.10/site-packages/applefy/statistics/parametric.py:110: RuntimeWarning: divide by zero encountered in scalar divide\n",
      "  statistic_t = (y_bar_planet - x_bar_noise) / noise\n"
     ]
    },
    {
     "name": "stdout",
     "output_type": "stream",
     "text": [
      "....................."
     ]
    },
    {
     "name": "stderr",
     "output_type": "stream",
     "text": [
      "/lustre/home/mbonse/2023_s4/50_code/venv_s4/lib/python3.10/site-packages/applefy/statistics/parametric.py:110: RuntimeWarning: divide by zero encountered in scalar divide\n",
      "  statistic_t = (y_bar_planet - x_bar_noise) / noise\n",
      "/lustre/home/mbonse/2023_s4/50_code/venv_s4/lib/python3.10/site-packages/applefy/statistics/parametric.py:110: RuntimeWarning: divide by zero encountered in scalar divide\n",
      "  statistic_t = (y_bar_planet - x_bar_noise) / noise\n",
      "/lustre/home/mbonse/2023_s4/50_code/venv_s4/lib/python3.10/site-packages/applefy/statistics/parametric.py:110: RuntimeWarning: divide by zero encountered in scalar divide\n",
      "  statistic_t = (y_bar_planet - x_bar_noise) / noise\n"
     ]
    },
    {
     "name": "stdout",
     "output_type": "stream",
     "text": [
      "....[DONE]\n",
      "Computing contrast grid for PCA_050_components\n",
      "Computing contrast grid with multiprocessing:\n",
      "................................................................................................."
     ]
    },
    {
     "name": "stderr",
     "output_type": "stream",
     "text": [
      "/lustre/home/mbonse/2023_s4/50_code/venv_s4/lib/python3.10/site-packages/applefy/statistics/parametric.py:110: RuntimeWarning: divide by zero encountered in scalar divide\n",
      "  statistic_t = (y_bar_planet - x_bar_noise) / noise\n",
      "/lustre/home/mbonse/2023_s4/50_code/venv_s4/lib/python3.10/site-packages/applefy/statistics/parametric.py:110: RuntimeWarning: divide by zero encountered in scalar divide\n",
      "  statistic_t = (y_bar_planet - x_bar_noise) / noise\n",
      "/lustre/home/mbonse/2023_s4/50_code/venv_s4/lib/python3.10/site-packages/applefy/statistics/parametric.py:110: RuntimeWarning: divide by zero encountered in scalar divide\n",
      "  statistic_t = (y_bar_planet - x_bar_noise) / noise\n"
     ]
    },
    {
     "name": "stdout",
     "output_type": "stream",
     "text": [
      "......................."
     ]
    },
    {
     "name": "stderr",
     "output_type": "stream",
     "text": [
      "/lustre/home/mbonse/2023_s4/50_code/venv_s4/lib/python3.10/site-packages/applefy/statistics/parametric.py:110: RuntimeWarning: divide by zero encountered in scalar divide\n",
      "  statistic_t = (y_bar_planet - x_bar_noise) / noise\n",
      "/lustre/home/mbonse/2023_s4/50_code/venv_s4/lib/python3.10/site-packages/applefy/statistics/parametric.py:110: RuntimeWarning: divide by zero encountered in scalar divide\n",
      "  statistic_t = (y_bar_planet - x_bar_noise) / noise\n",
      "/lustre/home/mbonse/2023_s4/50_code/venv_s4/lib/python3.10/site-packages/applefy/statistics/parametric.py:110: RuntimeWarning: divide by zero encountered in scalar divide\n",
      "  statistic_t = (y_bar_planet - x_bar_noise) / noise\n"
     ]
    },
    {
     "name": "stdout",
     "output_type": "stream",
     "text": [
      "......."
     ]
    },
    {
     "name": "stderr",
     "output_type": "stream",
     "text": [
      "/lustre/home/mbonse/2023_s4/50_code/venv_s4/lib/python3.10/site-packages/applefy/statistics/parametric.py:110: RuntimeWarning: divide by zero encountered in scalar divide\n",
      "  statistic_t = (y_bar_planet - x_bar_noise) / noise\n",
      "/lustre/home/mbonse/2023_s4/50_code/venv_s4/lib/python3.10/site-packages/applefy/statistics/parametric.py:110: RuntimeWarning: divide by zero encountered in scalar divide\n",
      "  statistic_t = (y_bar_planet - x_bar_noise) / noise\n",
      "/lustre/home/mbonse/2023_s4/50_code/venv_s4/lib/python3.10/site-packages/applefy/statistics/parametric.py:110: RuntimeWarning: divide by zero encountered in scalar divide\n",
      "  statistic_t = (y_bar_planet - x_bar_noise) / noise\n"
     ]
    },
    {
     "name": "stdout",
     "output_type": "stream",
     "text": [
      ".............."
     ]
    },
    {
     "name": "stderr",
     "output_type": "stream",
     "text": [
      "/lustre/home/mbonse/2023_s4/50_code/venv_s4/lib/python3.10/site-packages/applefy/statistics/parametric.py:110: RuntimeWarning: divide by zero encountered in scalar divide\n",
      "  statistic_t = (y_bar_planet - x_bar_noise) / noise\n",
      "/lustre/home/mbonse/2023_s4/50_code/venv_s4/lib/python3.10/site-packages/applefy/statistics/parametric.py:110: RuntimeWarning: divide by zero encountered in scalar divide\n",
      "  statistic_t = (y_bar_planet - x_bar_noise) / noise\n",
      "/lustre/home/mbonse/2023_s4/50_code/venv_s4/lib/python3.10/site-packages/applefy/statistics/parametric.py:110: RuntimeWarning: divide by zero encountered in scalar divide\n",
      "  statistic_t = (y_bar_planet - x_bar_noise) / noise\n"
     ]
    },
    {
     "name": "stdout",
     "output_type": "stream",
     "text": [
      "...."
     ]
    },
    {
     "name": "stderr",
     "output_type": "stream",
     "text": [
      "/lustre/home/mbonse/2023_s4/50_code/venv_s4/lib/python3.10/site-packages/applefy/statistics/parametric.py:110: RuntimeWarning: divide by zero encountered in scalar divide\n",
      "  statistic_t = (y_bar_planet - x_bar_noise) / noise\n",
      "/lustre/home/mbonse/2023_s4/50_code/venv_s4/lib/python3.10/site-packages/applefy/statistics/parametric.py:110: RuntimeWarning: divide by zero encountered in scalar divide\n",
      "  statistic_t = (y_bar_planet - x_bar_noise) / noise\n",
      "/lustre/home/mbonse/2023_s4/50_code/venv_s4/lib/python3.10/site-packages/applefy/statistics/parametric.py:110: RuntimeWarning: divide by zero encountered in scalar divide\n",
      "  statistic_t = (y_bar_planet - x_bar_noise) / noise\n"
     ]
    },
    {
     "name": "stdout",
     "output_type": "stream",
     "text": [
      "....................."
     ]
    },
    {
     "name": "stderr",
     "output_type": "stream",
     "text": [
      "/lustre/home/mbonse/2023_s4/50_code/venv_s4/lib/python3.10/site-packages/applefy/statistics/parametric.py:110: RuntimeWarning: divide by zero encountered in scalar divide\n",
      "  statistic_t = (y_bar_planet - x_bar_noise) / noise\n",
      "/lustre/home/mbonse/2023_s4/50_code/venv_s4/lib/python3.10/site-packages/applefy/statistics/parametric.py:110: RuntimeWarning: divide by zero encountered in scalar divide\n",
      "  statistic_t = (y_bar_planet - x_bar_noise) / noise\n",
      "/lustre/home/mbonse/2023_s4/50_code/venv_s4/lib/python3.10/site-packages/applefy/statistics/parametric.py:110: RuntimeWarning: divide by zero encountered in scalar divide\n",
      "  statistic_t = (y_bar_planet - x_bar_noise) / noise\n"
     ]
    },
    {
     "name": "stdout",
     "output_type": "stream",
     "text": [
      "....[DONE]\n",
      "Computing contrast grid for PCA_060_components\n",
      "Computing contrast grid with multiprocessing:\n",
      "................................................................................................."
     ]
    },
    {
     "name": "stderr",
     "output_type": "stream",
     "text": [
      "/lustre/home/mbonse/2023_s4/50_code/venv_s4/lib/python3.10/site-packages/applefy/statistics/parametric.py:110: RuntimeWarning: divide by zero encountered in scalar divide\n",
      "  statistic_t = (y_bar_planet - x_bar_noise) / noise\n",
      "/lustre/home/mbonse/2023_s4/50_code/venv_s4/lib/python3.10/site-packages/applefy/statistics/parametric.py:110: RuntimeWarning: divide by zero encountered in scalar divide\n",
      "  statistic_t = (y_bar_planet - x_bar_noise) / noise\n",
      "/lustre/home/mbonse/2023_s4/50_code/venv_s4/lib/python3.10/site-packages/applefy/statistics/parametric.py:110: RuntimeWarning: divide by zero encountered in scalar divide\n",
      "  statistic_t = (y_bar_planet - x_bar_noise) / noise\n"
     ]
    },
    {
     "name": "stdout",
     "output_type": "stream",
     "text": [
      "......................."
     ]
    },
    {
     "name": "stderr",
     "output_type": "stream",
     "text": [
      "/lustre/home/mbonse/2023_s4/50_code/venv_s4/lib/python3.10/site-packages/applefy/statistics/parametric.py:110: RuntimeWarning: divide by zero encountered in scalar divide\n",
      "  statistic_t = (y_bar_planet - x_bar_noise) / noise\n",
      "/lustre/home/mbonse/2023_s4/50_code/venv_s4/lib/python3.10/site-packages/applefy/statistics/parametric.py:110: RuntimeWarning: divide by zero encountered in scalar divide\n",
      "  statistic_t = (y_bar_planet - x_bar_noise) / noise\n"
     ]
    },
    {
     "name": "stdout",
     "output_type": "stream",
     "text": [
      "."
     ]
    },
    {
     "name": "stderr",
     "output_type": "stream",
     "text": [
      "/lustre/home/mbonse/2023_s4/50_code/venv_s4/lib/python3.10/site-packages/applefy/statistics/parametric.py:110: RuntimeWarning: divide by zero encountered in scalar divide\n",
      "  statistic_t = (y_bar_planet - x_bar_noise) / noise\n"
     ]
    },
    {
     "name": "stdout",
     "output_type": "stream",
     "text": [
      "....."
     ]
    },
    {
     "name": "stderr",
     "output_type": "stream",
     "text": [
      "/lustre/home/mbonse/2023_s4/50_code/venv_s4/lib/python3.10/site-packages/applefy/statistics/parametric.py:110: RuntimeWarning: divide by zero encountered in scalar divide\n",
      "  statistic_t = (y_bar_planet - x_bar_noise) / noise\n"
     ]
    },
    {
     "name": "stdout",
     "output_type": "stream",
     "text": [
      "."
     ]
    },
    {
     "name": "stderr",
     "output_type": "stream",
     "text": [
      "/lustre/home/mbonse/2023_s4/50_code/venv_s4/lib/python3.10/site-packages/applefy/statistics/parametric.py:110: RuntimeWarning: divide by zero encountered in scalar divide\n",
      "  statistic_t = (y_bar_planet - x_bar_noise) / noise\n",
      "/lustre/home/mbonse/2023_s4/50_code/venv_s4/lib/python3.10/site-packages/applefy/statistics/parametric.py:110: RuntimeWarning: divide by zero encountered in scalar divide\n",
      "  statistic_t = (y_bar_planet - x_bar_noise) / noise\n"
     ]
    },
    {
     "name": "stdout",
     "output_type": "stream",
     "text": [
      ".............."
     ]
    },
    {
     "name": "stderr",
     "output_type": "stream",
     "text": [
      "/lustre/home/mbonse/2023_s4/50_code/venv_s4/lib/python3.10/site-packages/applefy/statistics/parametric.py:110: RuntimeWarning: divide by zero encountered in scalar divide\n",
      "  statistic_t = (y_bar_planet - x_bar_noise) / noise\n",
      "/lustre/home/mbonse/2023_s4/50_code/venv_s4/lib/python3.10/site-packages/applefy/statistics/parametric.py:110: RuntimeWarning: divide by zero encountered in scalar divide\n",
      "  statistic_t = (y_bar_planet - x_bar_noise) / noise\n"
     ]
    },
    {
     "name": "stdout",
     "output_type": "stream",
     "text": [
      "."
     ]
    },
    {
     "name": "stderr",
     "output_type": "stream",
     "text": [
      "/lustre/home/mbonse/2023_s4/50_code/venv_s4/lib/python3.10/site-packages/applefy/statistics/parametric.py:110: RuntimeWarning: divide by zero encountered in scalar divide\n",
      "  statistic_t = (y_bar_planet - x_bar_noise) / noise\n"
     ]
    },
    {
     "name": "stdout",
     "output_type": "stream",
     "text": [
      "."
     ]
    },
    {
     "name": "stderr",
     "output_type": "stream",
     "text": [
      "/lustre/home/mbonse/2023_s4/50_code/venv_s4/lib/python3.10/site-packages/applefy/statistics/parametric.py:110: RuntimeWarning: divide by zero encountered in scalar divide\n",
      "  statistic_t = (y_bar_planet - x_bar_noise) / noise\n"
     ]
    },
    {
     "name": "stdout",
     "output_type": "stream",
     "text": [
      ".."
     ]
    },
    {
     "name": "stderr",
     "output_type": "stream",
     "text": [
      "/lustre/home/mbonse/2023_s4/50_code/venv_s4/lib/python3.10/site-packages/applefy/statistics/parametric.py:110: RuntimeWarning: divide by zero encountered in scalar divide\n",
      "  statistic_t = (y_bar_planet - x_bar_noise) / noise\n",
      "/lustre/home/mbonse/2023_s4/50_code/venv_s4/lib/python3.10/site-packages/applefy/statistics/parametric.py:110: RuntimeWarning: divide by zero encountered in scalar divide\n",
      "  statistic_t = (y_bar_planet - x_bar_noise) / noise\n"
     ]
    },
    {
     "name": "stdout",
     "output_type": "stream",
     "text": [
      "....................."
     ]
    },
    {
     "name": "stderr",
     "output_type": "stream",
     "text": [
      "/lustre/home/mbonse/2023_s4/50_code/venv_s4/lib/python3.10/site-packages/applefy/statistics/parametric.py:110: RuntimeWarning: divide by zero encountered in scalar divide\n",
      "  statistic_t = (y_bar_planet - x_bar_noise) / noise\n",
      "/lustre/home/mbonse/2023_s4/50_code/venv_s4/lib/python3.10/site-packages/applefy/statistics/parametric.py:110: RuntimeWarning: divide by zero encountered in scalar divide\n",
      "  statistic_t = (y_bar_planet - x_bar_noise) / noise\n",
      "/lustre/home/mbonse/2023_s4/50_code/venv_s4/lib/python3.10/site-packages/applefy/statistics/parametric.py:110: RuntimeWarning: divide by zero encountered in scalar divide\n",
      "  statistic_t = (y_bar_planet - x_bar_noise) / noise\n"
     ]
    },
    {
     "name": "stdout",
     "output_type": "stream",
     "text": [
      "....[DONE]\n",
      "Computing contrast grid for PCA_070_components\n",
      "Computing contrast grid with multiprocessing:\n",
      "................................................................................................."
     ]
    },
    {
     "name": "stderr",
     "output_type": "stream",
     "text": [
      "/lustre/home/mbonse/2023_s4/50_code/venv_s4/lib/python3.10/site-packages/applefy/statistics/parametric.py:110: RuntimeWarning: divide by zero encountered in scalar divide\n",
      "  statistic_t = (y_bar_planet - x_bar_noise) / noise\n",
      "/lustre/home/mbonse/2023_s4/50_code/venv_s4/lib/python3.10/site-packages/applefy/statistics/parametric.py:110: RuntimeWarning: divide by zero encountered in scalar divide\n",
      "  statistic_t = (y_bar_planet - x_bar_noise) / noise\n",
      "/lustre/home/mbonse/2023_s4/50_code/venv_s4/lib/python3.10/site-packages/applefy/statistics/parametric.py:110: RuntimeWarning: divide by zero encountered in scalar divide\n",
      "  statistic_t = (y_bar_planet - x_bar_noise) / noise\n"
     ]
    },
    {
     "name": "stdout",
     "output_type": "stream",
     "text": [
      "......................"
     ]
    },
    {
     "name": "stderr",
     "output_type": "stream",
     "text": [
      "/lustre/home/mbonse/2023_s4/50_code/venv_s4/lib/python3.10/site-packages/applefy/statistics/parametric.py:110: RuntimeWarning: divide by zero encountered in scalar divide\n",
      "  statistic_t = (y_bar_planet - x_bar_noise) / noise\n",
      "/lustre/home/mbonse/2023_s4/50_code/venv_s4/lib/python3.10/site-packages/applefy/statistics/parametric.py:110: RuntimeWarning: divide by zero encountered in scalar divide\n",
      "  statistic_t = (y_bar_planet - x_bar_noise) / noise\n",
      "/lustre/home/mbonse/2023_s4/50_code/venv_s4/lib/python3.10/site-packages/applefy/statistics/parametric.py:110: RuntimeWarning: divide by zero encountered in scalar divide\n",
      "  statistic_t = (y_bar_planet - x_bar_noise) / noise\n"
     ]
    },
    {
     "name": "stdout",
     "output_type": "stream",
     "text": [
      ".........."
     ]
    },
    {
     "name": "stderr",
     "output_type": "stream",
     "text": [
      "/lustre/home/mbonse/2023_s4/50_code/venv_s4/lib/python3.10/site-packages/applefy/statistics/parametric.py:110: RuntimeWarning: divide by zero encountered in scalar divide\n",
      "  statistic_t = (y_bar_planet - x_bar_noise) / noise\n",
      "/lustre/home/mbonse/2023_s4/50_code/venv_s4/lib/python3.10/site-packages/applefy/statistics/parametric.py:110: RuntimeWarning: divide by zero encountered in scalar divide\n",
      "  statistic_t = (y_bar_planet - x_bar_noise) / noise\n",
      "/lustre/home/mbonse/2023_s4/50_code/venv_s4/lib/python3.10/site-packages/applefy/statistics/parametric.py:110: RuntimeWarning: divide by zero encountered in scalar divide\n",
      "  statistic_t = (y_bar_planet - x_bar_noise) / noise\n"
     ]
    },
    {
     "name": "stdout",
     "output_type": "stream",
     "text": [
      "..........."
     ]
    },
    {
     "name": "stderr",
     "output_type": "stream",
     "text": [
      "/lustre/home/mbonse/2023_s4/50_code/venv_s4/lib/python3.10/site-packages/applefy/statistics/parametric.py:110: RuntimeWarning: divide by zero encountered in scalar divide\n",
      "  statistic_t = (y_bar_planet - x_bar_noise) / noise\n"
     ]
    },
    {
     "name": "stdout",
     "output_type": "stream",
     "text": [
      "."
     ]
    },
    {
     "name": "stderr",
     "output_type": "stream",
     "text": [
      "/lustre/home/mbonse/2023_s4/50_code/venv_s4/lib/python3.10/site-packages/applefy/statistics/parametric.py:110: RuntimeWarning: divide by zero encountered in scalar divide\n",
      "  statistic_t = (y_bar_planet - x_bar_noise) / noise\n",
      "/lustre/home/mbonse/2023_s4/50_code/venv_s4/lib/python3.10/site-packages/applefy/statistics/parametric.py:110: RuntimeWarning: divide by zero encountered in scalar divide\n",
      "  statistic_t = (y_bar_planet - x_bar_noise) / noise\n"
     ]
    },
    {
     "name": "stdout",
     "output_type": "stream",
     "text": [
      ".."
     ]
    },
    {
     "name": "stderr",
     "output_type": "stream",
     "text": [
      "/lustre/home/mbonse/2023_s4/50_code/venv_s4/lib/python3.10/site-packages/applefy/statistics/parametric.py:110: RuntimeWarning: divide by zero encountered in scalar divide\n",
      "  statistic_t = (y_bar_planet - x_bar_noise) / noise\n",
      "/lustre/home/mbonse/2023_s4/50_code/venv_s4/lib/python3.10/site-packages/applefy/statistics/parametric.py:110: RuntimeWarning: divide by zero encountered in scalar divide\n",
      "  statistic_t = (y_bar_planet - x_bar_noise) / noise\n"
     ]
    },
    {
     "name": "stdout",
     "output_type": "stream",
     "text": [
      "."
     ]
    },
    {
     "name": "stderr",
     "output_type": "stream",
     "text": [
      "/lustre/home/mbonse/2023_s4/50_code/venv_s4/lib/python3.10/site-packages/applefy/statistics/parametric.py:110: RuntimeWarning: divide by zero encountered in scalar divide\n",
      "  statistic_t = (y_bar_planet - x_bar_noise) / noise\n"
     ]
    },
    {
     "name": "stdout",
     "output_type": "stream",
     "text": [
      "......................"
     ]
    },
    {
     "name": "stderr",
     "output_type": "stream",
     "text": [
      "/lustre/home/mbonse/2023_s4/50_code/venv_s4/lib/python3.10/site-packages/applefy/statistics/parametric.py:110: RuntimeWarning: divide by zero encountered in scalar divide\n",
      "  statistic_t = (y_bar_planet - x_bar_noise) / noise\n",
      "/lustre/home/mbonse/2023_s4/50_code/venv_s4/lib/python3.10/site-packages/applefy/statistics/parametric.py:110: RuntimeWarning: divide by zero encountered in scalar divide\n",
      "  statistic_t = (y_bar_planet - x_bar_noise) / noise\n",
      "/lustre/home/mbonse/2023_s4/50_code/venv_s4/lib/python3.10/site-packages/applefy/statistics/parametric.py:110: RuntimeWarning: divide by zero encountered in scalar divide\n",
      "  statistic_t = (y_bar_planet - x_bar_noise) / noise\n"
     ]
    },
    {
     "name": "stdout",
     "output_type": "stream",
     "text": [
      "....[DONE]\n",
      "Computing contrast grid for PCA_080_components\n",
      "Computing contrast grid with multiprocessing:\n",
      "................................................................................................."
     ]
    },
    {
     "name": "stderr",
     "output_type": "stream",
     "text": [
      "/lustre/home/mbonse/2023_s4/50_code/venv_s4/lib/python3.10/site-packages/applefy/statistics/parametric.py:110: RuntimeWarning: divide by zero encountered in scalar divide\n",
      "  statistic_t = (y_bar_planet - x_bar_noise) / noise\n",
      "/lustre/home/mbonse/2023_s4/50_code/venv_s4/lib/python3.10/site-packages/applefy/statistics/parametric.py:110: RuntimeWarning: divide by zero encountered in scalar divide\n",
      "  statistic_t = (y_bar_planet - x_bar_noise) / noise\n"
     ]
    },
    {
     "name": "stdout",
     "output_type": "stream",
     "text": [
      "."
     ]
    },
    {
     "name": "stderr",
     "output_type": "stream",
     "text": [
      "/lustre/home/mbonse/2023_s4/50_code/venv_s4/lib/python3.10/site-packages/applefy/statistics/parametric.py:110: RuntimeWarning: divide by zero encountered in scalar divide\n",
      "  statistic_t = (y_bar_planet - x_bar_noise) / noise\n"
     ]
    },
    {
     "name": "stdout",
     "output_type": "stream",
     "text": [
      "......................"
     ]
    },
    {
     "name": "stderr",
     "output_type": "stream",
     "text": [
      "/lustre/home/mbonse/2023_s4/50_code/venv_s4/lib/python3.10/site-packages/applefy/statistics/parametric.py:110: RuntimeWarning: divide by zero encountered in scalar divide\n",
      "  statistic_t = (y_bar_planet - x_bar_noise) / noise\n",
      "/lustre/home/mbonse/2023_s4/50_code/venv_s4/lib/python3.10/site-packages/applefy/statistics/parametric.py:110: RuntimeWarning: divide by zero encountered in scalar divide\n",
      "  statistic_t = (y_bar_planet - x_bar_noise) / noise\n",
      "/lustre/home/mbonse/2023_s4/50_code/venv_s4/lib/python3.10/site-packages/applefy/statistics/parametric.py:110: RuntimeWarning: divide by zero encountered in scalar divide\n",
      "  statistic_t = (y_bar_planet - x_bar_noise) / noise\n"
     ]
    },
    {
     "name": "stdout",
     "output_type": "stream",
     "text": [
      "......"
     ]
    },
    {
     "name": "stderr",
     "output_type": "stream",
     "text": [
      "/lustre/home/mbonse/2023_s4/50_code/venv_s4/lib/python3.10/site-packages/applefy/statistics/parametric.py:110: RuntimeWarning: divide by zero encountered in scalar divide\n",
      "  statistic_t = (y_bar_planet - x_bar_noise) / noise\n"
     ]
    },
    {
     "name": "stdout",
     "output_type": "stream",
     "text": [
      "."
     ]
    },
    {
     "name": "stderr",
     "output_type": "stream",
     "text": [
      "/lustre/home/mbonse/2023_s4/50_code/venv_s4/lib/python3.10/site-packages/applefy/statistics/parametric.py:110: RuntimeWarning: divide by zero encountered in scalar divide\n",
      "  statistic_t = (y_bar_planet - x_bar_noise) / noise\n",
      "/lustre/home/mbonse/2023_s4/50_code/venv_s4/lib/python3.10/site-packages/applefy/statistics/parametric.py:110: RuntimeWarning: divide by zero encountered in scalar divide\n",
      "  statistic_t = (y_bar_planet - x_bar_noise) / noise\n"
     ]
    },
    {
     "name": "stdout",
     "output_type": "stream",
     "text": [
      "................"
     ]
    },
    {
     "name": "stderr",
     "output_type": "stream",
     "text": [
      "/lustre/home/mbonse/2023_s4/50_code/venv_s4/lib/python3.10/site-packages/applefy/statistics/parametric.py:110: RuntimeWarning: divide by zero encountered in scalar divide\n",
      "  statistic_t = (y_bar_planet - x_bar_noise) / noise\n",
      "/lustre/home/mbonse/2023_s4/50_code/venv_s4/lib/python3.10/site-packages/applefy/statistics/parametric.py:110: RuntimeWarning: divide by zero encountered in scalar divide\n",
      "  statistic_t = (y_bar_planet - x_bar_noise) / noise\n",
      "/lustre/home/mbonse/2023_s4/50_code/venv_s4/lib/python3.10/site-packages/applefy/statistics/parametric.py:110: RuntimeWarning: divide by zero encountered in scalar divide\n",
      "  statistic_t = (y_bar_planet - x_bar_noise) / noise\n",
      "/lustre/home/mbonse/2023_s4/50_code/venv_s4/lib/python3.10/site-packages/applefy/statistics/parametric.py:110: RuntimeWarning: divide by zero encountered in scalar divide\n",
      "  statistic_t = (y_bar_planet - x_bar_noise) / noise\n",
      "/lustre/home/mbonse/2023_s4/50_code/venv_s4/lib/python3.10/site-packages/applefy/statistics/parametric.py:110: RuntimeWarning: divide by zero encountered in scalar divide\n",
      "  statistic_t = (y_bar_planet - x_bar_noise) / noise\n",
      "/lustre/home/mbonse/2023_s4/50_code/venv_s4/lib/python3.10/site-packages/applefy/statistics/parametric.py:110: RuntimeWarning: divide by zero encountered in scalar divide\n",
      "  statistic_t = (y_bar_planet - x_bar_noise) / noise\n"
     ]
    },
    {
     "name": "stdout",
     "output_type": "stream",
     "text": [
      "......................."
     ]
    },
    {
     "name": "stderr",
     "output_type": "stream",
     "text": [
      "/lustre/home/mbonse/2023_s4/50_code/venv_s4/lib/python3.10/site-packages/applefy/statistics/parametric.py:110: RuntimeWarning: divide by zero encountered in scalar divide\n",
      "  statistic_t = (y_bar_planet - x_bar_noise) / noise\n",
      "/lustre/home/mbonse/2023_s4/50_code/venv_s4/lib/python3.10/site-packages/applefy/statistics/parametric.py:110: RuntimeWarning: divide by zero encountered in scalar divide\n",
      "  statistic_t = (y_bar_planet - x_bar_noise) / noise\n",
      "/lustre/home/mbonse/2023_s4/50_code/venv_s4/lib/python3.10/site-packages/applefy/statistics/parametric.py:110: RuntimeWarning: divide by zero encountered in scalar divide\n",
      "  statistic_t = (y_bar_planet - x_bar_noise) / noise\n"
     ]
    },
    {
     "name": "stdout",
     "output_type": "stream",
     "text": [
      "....[DONE]\n",
      "Computing contrast grid for PCA_090_components\n",
      "Computing contrast grid with multiprocessing:\n",
      ".................................................................................................."
     ]
    },
    {
     "name": "stderr",
     "output_type": "stream",
     "text": [
      "/lustre/home/mbonse/2023_s4/50_code/venv_s4/lib/python3.10/site-packages/applefy/statistics/parametric.py:110: RuntimeWarning: divide by zero encountered in scalar divide\n",
      "  statistic_t = (y_bar_planet - x_bar_noise) / noise\n",
      "/lustre/home/mbonse/2023_s4/50_code/venv_s4/lib/python3.10/site-packages/applefy/statistics/parametric.py:110: RuntimeWarning: divide by zero encountered in scalar divide\n",
      "  statistic_t = (y_bar_planet - x_bar_noise) / noise\n",
      "/lustre/home/mbonse/2023_s4/50_code/venv_s4/lib/python3.10/site-packages/applefy/statistics/parametric.py:110: RuntimeWarning: divide by zero encountered in scalar divide\n",
      "  statistic_t = (y_bar_planet - x_bar_noise) / noise\n"
     ]
    },
    {
     "name": "stdout",
     "output_type": "stream",
     "text": [
      "......................"
     ]
    },
    {
     "name": "stderr",
     "output_type": "stream",
     "text": [
      "/lustre/home/mbonse/2023_s4/50_code/venv_s4/lib/python3.10/site-packages/applefy/statistics/parametric.py:110: RuntimeWarning: divide by zero encountered in scalar divide\n",
      "  statistic_t = (y_bar_planet - x_bar_noise) / noise\n",
      "/lustre/home/mbonse/2023_s4/50_code/venv_s4/lib/python3.10/site-packages/applefy/statistics/parametric.py:110: RuntimeWarning: divide by zero encountered in scalar divide\n",
      "  statistic_t = (y_bar_planet - x_bar_noise) / noise\n",
      "/lustre/home/mbonse/2023_s4/50_code/venv_s4/lib/python3.10/site-packages/applefy/statistics/parametric.py:110: RuntimeWarning: divide by zero encountered in scalar divide\n",
      "  statistic_t = (y_bar_planet - x_bar_noise) / noise\n"
     ]
    },
    {
     "name": "stdout",
     "output_type": "stream",
     "text": [
      "........"
     ]
    },
    {
     "name": "stderr",
     "output_type": "stream",
     "text": [
      "/lustre/home/mbonse/2023_s4/50_code/venv_s4/lib/python3.10/site-packages/applefy/statistics/parametric.py:110: RuntimeWarning: divide by zero encountered in scalar divide\n",
      "  statistic_t = (y_bar_planet - x_bar_noise) / noise\n",
      "/lustre/home/mbonse/2023_s4/50_code/venv_s4/lib/python3.10/site-packages/applefy/statistics/parametric.py:110: RuntimeWarning: divide by zero encountered in scalar divide\n",
      "  statistic_t = (y_bar_planet - x_bar_noise) / noise\n",
      "/lustre/home/mbonse/2023_s4/50_code/venv_s4/lib/python3.10/site-packages/applefy/statistics/parametric.py:110: RuntimeWarning: divide by zero encountered in scalar divide\n",
      "  statistic_t = (y_bar_planet - x_bar_noise) / noise\n"
     ]
    },
    {
     "name": "stdout",
     "output_type": "stream",
     "text": [
      "............"
     ]
    },
    {
     "name": "stderr",
     "output_type": "stream",
     "text": [
      "/lustre/home/mbonse/2023_s4/50_code/venv_s4/lib/python3.10/site-packages/applefy/statistics/parametric.py:110: RuntimeWarning: divide by zero encountered in scalar divide\n",
      "  statistic_t = (y_bar_planet - x_bar_noise) / noise\n",
      "/lustre/home/mbonse/2023_s4/50_code/venv_s4/lib/python3.10/site-packages/applefy/statistics/parametric.py:110: RuntimeWarning: divide by zero encountered in scalar divide\n",
      "  statistic_t = (y_bar_planet - x_bar_noise) / noise\n"
     ]
    },
    {
     "name": "stdout",
     "output_type": "stream",
     "text": [
      "."
     ]
    },
    {
     "name": "stderr",
     "output_type": "stream",
     "text": [
      "/lustre/home/mbonse/2023_s4/50_code/venv_s4/lib/python3.10/site-packages/applefy/statistics/parametric.py:110: RuntimeWarning: divide by zero encountered in scalar divide\n",
      "  statistic_t = (y_bar_planet - x_bar_noise) / noise\n"
     ]
    },
    {
     "name": "stdout",
     "output_type": "stream",
     "text": [
      ".."
     ]
    },
    {
     "name": "stderr",
     "output_type": "stream",
     "text": [
      "/lustre/home/mbonse/2023_s4/50_code/venv_s4/lib/python3.10/site-packages/applefy/statistics/parametric.py:110: RuntimeWarning: divide by zero encountered in scalar divide\n",
      "  statistic_t = (y_bar_planet - x_bar_noise) / noise\n",
      "/lustre/home/mbonse/2023_s4/50_code/venv_s4/lib/python3.10/site-packages/applefy/statistics/parametric.py:110: RuntimeWarning: divide by zero encountered in scalar divide\n",
      "  statistic_t = (y_bar_planet - x_bar_noise) / noise\n"
     ]
    },
    {
     "name": "stdout",
     "output_type": "stream",
     "text": [
      ".."
     ]
    },
    {
     "name": "stderr",
     "output_type": "stream",
     "text": [
      "/lustre/home/mbonse/2023_s4/50_code/venv_s4/lib/python3.10/site-packages/applefy/statistics/parametric.py:110: RuntimeWarning: divide by zero encountered in scalar divide\n",
      "  statistic_t = (y_bar_planet - x_bar_noise) / noise\n"
     ]
    },
    {
     "name": "stdout",
     "output_type": "stream",
     "text": [
      "....................."
     ]
    },
    {
     "name": "stderr",
     "output_type": "stream",
     "text": [
      "/lustre/home/mbonse/2023_s4/50_code/venv_s4/lib/python3.10/site-packages/applefy/statistics/parametric.py:110: RuntimeWarning: divide by zero encountered in scalar divide\n",
      "  statistic_t = (y_bar_planet - x_bar_noise) / noise\n",
      "/lustre/home/mbonse/2023_s4/50_code/venv_s4/lib/python3.10/site-packages/applefy/statistics/parametric.py:110: RuntimeWarning: divide by zero encountered in scalar divide\n",
      "  statistic_t = (y_bar_planet - x_bar_noise) / noise\n",
      "/lustre/home/mbonse/2023_s4/50_code/venv_s4/lib/python3.10/site-packages/applefy/statistics/parametric.py:110: RuntimeWarning: divide by zero encountered in scalar divide\n",
      "  statistic_t = (y_bar_planet - x_bar_noise) / noise\n"
     ]
    },
    {
     "name": "stdout",
     "output_type": "stream",
     "text": [
      "....[DONE]\n",
      "Computing contrast grid for PCA_100_components\n",
      "Computing contrast grid with multiprocessing:\n",
      ".................................................................................................."
     ]
    },
    {
     "name": "stderr",
     "output_type": "stream",
     "text": [
      "/lustre/home/mbonse/2023_s4/50_code/venv_s4/lib/python3.10/site-packages/applefy/statistics/parametric.py:110: RuntimeWarning: divide by zero encountered in scalar divide\n",
      "  statistic_t = (y_bar_planet - x_bar_noise) / noise\n",
      "/lustre/home/mbonse/2023_s4/50_code/venv_s4/lib/python3.10/site-packages/applefy/statistics/parametric.py:110: RuntimeWarning: divide by zero encountered in scalar divide\n",
      "  statistic_t = (y_bar_planet - x_bar_noise) / noise\n",
      "/lustre/home/mbonse/2023_s4/50_code/venv_s4/lib/python3.10/site-packages/applefy/statistics/parametric.py:110: RuntimeWarning: divide by zero encountered in scalar divide\n",
      "  statistic_t = (y_bar_planet - x_bar_noise) / noise\n"
     ]
    },
    {
     "name": "stdout",
     "output_type": "stream",
     "text": [
      "....................."
     ]
    },
    {
     "name": "stderr",
     "output_type": "stream",
     "text": [
      "/lustre/home/mbonse/2023_s4/50_code/venv_s4/lib/python3.10/site-packages/applefy/statistics/parametric.py:110: RuntimeWarning: divide by zero encountered in scalar divide\n",
      "  statistic_t = (y_bar_planet - x_bar_noise) / noise\n",
      "/lustre/home/mbonse/2023_s4/50_code/venv_s4/lib/python3.10/site-packages/applefy/statistics/parametric.py:110: RuntimeWarning: divide by zero encountered in scalar divide\n",
      "  statistic_t = (y_bar_planet - x_bar_noise) / noise\n",
      "/lustre/home/mbonse/2023_s4/50_code/venv_s4/lib/python3.10/site-packages/applefy/statistics/parametric.py:110: RuntimeWarning: divide by zero encountered in scalar divide\n",
      "  statistic_t = (y_bar_planet - x_bar_noise) / noise\n"
     ]
    },
    {
     "name": "stdout",
     "output_type": "stream",
     "text": [
      "........."
     ]
    },
    {
     "name": "stderr",
     "output_type": "stream",
     "text": [
      "/lustre/home/mbonse/2023_s4/50_code/venv_s4/lib/python3.10/site-packages/applefy/statistics/parametric.py:110: RuntimeWarning: divide by zero encountered in scalar divide\n",
      "  statistic_t = (y_bar_planet - x_bar_noise) / noise\n"
     ]
    },
    {
     "name": "stdout",
     "output_type": "stream",
     "text": [
      "."
     ]
    },
    {
     "name": "stderr",
     "output_type": "stream",
     "text": [
      "/lustre/home/mbonse/2023_s4/50_code/venv_s4/lib/python3.10/site-packages/applefy/statistics/parametric.py:110: RuntimeWarning: divide by zero encountered in scalar divide\n",
      "  statistic_t = (y_bar_planet - x_bar_noise) / noise\n",
      "/lustre/home/mbonse/2023_s4/50_code/venv_s4/lib/python3.10/site-packages/applefy/statistics/parametric.py:110: RuntimeWarning: divide by zero encountered in scalar divide\n",
      "  statistic_t = (y_bar_planet - x_bar_noise) / noise\n"
     ]
    },
    {
     "name": "stdout",
     "output_type": "stream",
     "text": [
      "..........."
     ]
    },
    {
     "name": "stderr",
     "output_type": "stream",
     "text": [
      "/lustre/home/mbonse/2023_s4/50_code/venv_s4/lib/python3.10/site-packages/applefy/statistics/parametric.py:110: RuntimeWarning: divide by zero encountered in scalar divide\n",
      "  statistic_t = (y_bar_planet - x_bar_noise) / noise\n"
     ]
    },
    {
     "name": "stdout",
     "output_type": "stream",
     "text": [
      "."
     ]
    },
    {
     "name": "stderr",
     "output_type": "stream",
     "text": [
      "/lustre/home/mbonse/2023_s4/50_code/venv_s4/lib/python3.10/site-packages/applefy/statistics/parametric.py:110: RuntimeWarning: divide by zero encountered in scalar divide\n",
      "  statistic_t = (y_bar_planet - x_bar_noise) / noise\n",
      "/lustre/home/mbonse/2023_s4/50_code/venv_s4/lib/python3.10/site-packages/applefy/statistics/parametric.py:110: RuntimeWarning: divide by zero encountered in scalar divide\n",
      "  statistic_t = (y_bar_planet - x_bar_noise) / noise\n"
     ]
    },
    {
     "name": "stdout",
     "output_type": "stream",
     "text": [
      "..."
     ]
    },
    {
     "name": "stderr",
     "output_type": "stream",
     "text": [
      "/lustre/home/mbonse/2023_s4/50_code/venv_s4/lib/python3.10/site-packages/applefy/statistics/parametric.py:110: RuntimeWarning: divide by zero encountered in scalar divide\n",
      "  statistic_t = (y_bar_planet - x_bar_noise) / noise\n",
      "/lustre/home/mbonse/2023_s4/50_code/venv_s4/lib/python3.10/site-packages/applefy/statistics/parametric.py:110: RuntimeWarning: divide by zero encountered in scalar divide\n",
      "  statistic_t = (y_bar_planet - x_bar_noise) / noise\n",
      "/lustre/home/mbonse/2023_s4/50_code/venv_s4/lib/python3.10/site-packages/applefy/statistics/parametric.py:110: RuntimeWarning: divide by zero encountered in scalar divide\n",
      "  statistic_t = (y_bar_planet - x_bar_noise) / noise\n"
     ]
    },
    {
     "name": "stdout",
     "output_type": "stream",
     "text": [
      "......................"
     ]
    },
    {
     "name": "stderr",
     "output_type": "stream",
     "text": [
      "/lustre/home/mbonse/2023_s4/50_code/venv_s4/lib/python3.10/site-packages/applefy/statistics/parametric.py:110: RuntimeWarning: divide by zero encountered in scalar divide\n",
      "  statistic_t = (y_bar_planet - x_bar_noise) / noise\n",
      "/lustre/home/mbonse/2023_s4/50_code/venv_s4/lib/python3.10/site-packages/applefy/statistics/parametric.py:110: RuntimeWarning: divide by zero encountered in scalar divide\n",
      "  statistic_t = (y_bar_planet - x_bar_noise) / noise\n",
      "/lustre/home/mbonse/2023_s4/50_code/venv_s4/lib/python3.10/site-packages/applefy/statistics/parametric.py:110: RuntimeWarning: divide by zero encountered in scalar divide\n",
      "  statistic_t = (y_bar_planet - x_bar_noise) / noise\n"
     ]
    },
    {
     "name": "stdout",
     "output_type": "stream",
     "text": [
      "....[DONE]\n",
      "Computing contrast grid for PCA_120_components\n",
      "Computing contrast grid with multiprocessing:\n",
      ".................................................................................................."
     ]
    },
    {
     "name": "stderr",
     "output_type": "stream",
     "text": [
      "/lustre/home/mbonse/2023_s4/50_code/venv_s4/lib/python3.10/site-packages/applefy/statistics/parametric.py:110: RuntimeWarning: divide by zero encountered in scalar divide\n",
      "  statistic_t = (y_bar_planet - x_bar_noise) / noise\n",
      "/lustre/home/mbonse/2023_s4/50_code/venv_s4/lib/python3.10/site-packages/applefy/statistics/parametric.py:110: RuntimeWarning: divide by zero encountered in scalar divide\n",
      "  statistic_t = (y_bar_planet - x_bar_noise) / noise\n",
      "/lustre/home/mbonse/2023_s4/50_code/venv_s4/lib/python3.10/site-packages/applefy/statistics/parametric.py:110: RuntimeWarning: divide by zero encountered in scalar divide\n",
      "  statistic_t = (y_bar_planet - x_bar_noise) / noise\n"
     ]
    },
    {
     "name": "stdout",
     "output_type": "stream",
     "text": [
      "......................"
     ]
    },
    {
     "name": "stderr",
     "output_type": "stream",
     "text": [
      "/lustre/home/mbonse/2023_s4/50_code/venv_s4/lib/python3.10/site-packages/applefy/statistics/parametric.py:110: RuntimeWarning: divide by zero encountered in scalar divide\n",
      "  statistic_t = (y_bar_planet - x_bar_noise) / noise\n",
      "/lustre/home/mbonse/2023_s4/50_code/venv_s4/lib/python3.10/site-packages/applefy/statistics/parametric.py:110: RuntimeWarning: divide by zero encountered in scalar divide\n",
      "  statistic_t = (y_bar_planet - x_bar_noise) / noise\n",
      "/lustre/home/mbonse/2023_s4/50_code/venv_s4/lib/python3.10/site-packages/applefy/statistics/parametric.py:110: RuntimeWarning: divide by zero encountered in scalar divide\n",
      "  statistic_t = (y_bar_planet - x_bar_noise) / noise\n"
     ]
    },
    {
     "name": "stdout",
     "output_type": "stream",
     "text": [
      "......"
     ]
    },
    {
     "name": "stderr",
     "output_type": "stream",
     "text": [
      "/lustre/home/mbonse/2023_s4/50_code/venv_s4/lib/python3.10/site-packages/applefy/statistics/parametric.py:110: RuntimeWarning: divide by zero encountered in scalar divide\n",
      "  statistic_t = (y_bar_planet - x_bar_noise) / noise\n"
     ]
    },
    {
     "name": "stdout",
     "output_type": "stream",
     "text": [
      "."
     ]
    },
    {
     "name": "stderr",
     "output_type": "stream",
     "text": [
      "/lustre/home/mbonse/2023_s4/50_code/venv_s4/lib/python3.10/site-packages/applefy/statistics/parametric.py:110: RuntimeWarning: divide by zero encountered in scalar divide\n",
      "  statistic_t = (y_bar_planet - x_bar_noise) / noise\n",
      "/lustre/home/mbonse/2023_s4/50_code/venv_s4/lib/python3.10/site-packages/applefy/statistics/parametric.py:110: RuntimeWarning: divide by zero encountered in scalar divide\n",
      "  statistic_t = (y_bar_planet - x_bar_noise) / noise\n"
     ]
    },
    {
     "name": "stdout",
     "output_type": "stream",
     "text": [
      ".............."
     ]
    },
    {
     "name": "stderr",
     "output_type": "stream",
     "text": [
      "/lustre/home/mbonse/2023_s4/50_code/venv_s4/lib/python3.10/site-packages/applefy/statistics/parametric.py:110: RuntimeWarning: divide by zero encountered in scalar divide\n",
      "  statistic_t = (y_bar_planet - x_bar_noise) / noise\n",
      "/lustre/home/mbonse/2023_s4/50_code/venv_s4/lib/python3.10/site-packages/applefy/statistics/parametric.py:110: RuntimeWarning: divide by zero encountered in scalar divide\n",
      "  statistic_t = (y_bar_planet - x_bar_noise) / noise\n",
      "/lustre/home/mbonse/2023_s4/50_code/venv_s4/lib/python3.10/site-packages/applefy/statistics/parametric.py:110: RuntimeWarning: divide by zero encountered in scalar divide\n",
      "  statistic_t = (y_bar_planet - x_bar_noise) / noise\n"
     ]
    },
    {
     "name": "stdout",
     "output_type": "stream",
     "text": [
      "..."
     ]
    },
    {
     "name": "stderr",
     "output_type": "stream",
     "text": [
      "/lustre/home/mbonse/2023_s4/50_code/venv_s4/lib/python3.10/site-packages/applefy/statistics/parametric.py:110: RuntimeWarning: divide by zero encountered in scalar divide\n",
      "  statistic_t = (y_bar_planet - x_bar_noise) / noise\n",
      "/lustre/home/mbonse/2023_s4/50_code/venv_s4/lib/python3.10/site-packages/applefy/statistics/parametric.py:110: RuntimeWarning: divide by zero encountered in scalar divide\n",
      "  statistic_t = (y_bar_planet - x_bar_noise) / noise\n"
     ]
    },
    {
     "name": "stdout",
     "output_type": "stream",
     "text": [
      "."
     ]
    },
    {
     "name": "stderr",
     "output_type": "stream",
     "text": [
      "/lustre/home/mbonse/2023_s4/50_code/venv_s4/lib/python3.10/site-packages/applefy/statistics/parametric.py:110: RuntimeWarning: divide by zero encountered in scalar divide\n",
      "  statistic_t = (y_bar_planet - x_bar_noise) / noise\n"
     ]
    },
    {
     "name": "stdout",
     "output_type": "stream",
     "text": [
      "....................."
     ]
    },
    {
     "name": "stderr",
     "output_type": "stream",
     "text": [
      "/lustre/home/mbonse/2023_s4/50_code/venv_s4/lib/python3.10/site-packages/applefy/statistics/parametric.py:110: RuntimeWarning: divide by zero encountered in scalar divide\n",
      "  statistic_t = (y_bar_planet - x_bar_noise) / noise\n",
      "/lustre/home/mbonse/2023_s4/50_code/venv_s4/lib/python3.10/site-packages/applefy/statistics/parametric.py:110: RuntimeWarning: divide by zero encountered in scalar divide\n",
      "  statistic_t = (y_bar_planet - x_bar_noise) / noise\n",
      "/lustre/home/mbonse/2023_s4/50_code/venv_s4/lib/python3.10/site-packages/applefy/statistics/parametric.py:110: RuntimeWarning: divide by zero encountered in scalar divide\n",
      "  statistic_t = (y_bar_planet - x_bar_noise) / noise\n"
     ]
    },
    {
     "name": "stdout",
     "output_type": "stream",
     "text": [
      "....[DONE]\n",
      "Computing contrast grid for PCA_140_components\n",
      "Computing contrast grid with multiprocessing:\n",
      ".................................................................................................."
     ]
    },
    {
     "name": "stderr",
     "output_type": "stream",
     "text": [
      "/lustre/home/mbonse/2023_s4/50_code/venv_s4/lib/python3.10/site-packages/applefy/statistics/parametric.py:110: RuntimeWarning: divide by zero encountered in scalar divide\n",
      "  statistic_t = (y_bar_planet - x_bar_noise) / noise\n",
      "/lustre/home/mbonse/2023_s4/50_code/venv_s4/lib/python3.10/site-packages/applefy/statistics/parametric.py:110: RuntimeWarning: divide by zero encountered in scalar divide\n",
      "  statistic_t = (y_bar_planet - x_bar_noise) / noise\n",
      "/lustre/home/mbonse/2023_s4/50_code/venv_s4/lib/python3.10/site-packages/applefy/statistics/parametric.py:110: RuntimeWarning: divide by zero encountered in scalar divide\n",
      "  statistic_t = (y_bar_planet - x_bar_noise) / noise\n"
     ]
    },
    {
     "name": "stdout",
     "output_type": "stream",
     "text": [
      "......................"
     ]
    },
    {
     "name": "stderr",
     "output_type": "stream",
     "text": [
      "/lustre/home/mbonse/2023_s4/50_code/venv_s4/lib/python3.10/site-packages/applefy/statistics/parametric.py:110: RuntimeWarning: divide by zero encountered in scalar divide\n",
      "  statistic_t = (y_bar_planet - x_bar_noise) / noise\n",
      "/lustre/home/mbonse/2023_s4/50_code/venv_s4/lib/python3.10/site-packages/applefy/statistics/parametric.py:110: RuntimeWarning: divide by zero encountered in scalar divide\n",
      "  statistic_t = (y_bar_planet - x_bar_noise) / noise\n",
      "/lustre/home/mbonse/2023_s4/50_code/venv_s4/lib/python3.10/site-packages/applefy/statistics/parametric.py:110: RuntimeWarning: divide by zero encountered in scalar divide\n",
      "  statistic_t = (y_bar_planet - x_bar_noise) / noise\n"
     ]
    },
    {
     "name": "stdout",
     "output_type": "stream",
     "text": [
      "......"
     ]
    },
    {
     "name": "stderr",
     "output_type": "stream",
     "text": [
      "/lustre/home/mbonse/2023_s4/50_code/venv_s4/lib/python3.10/site-packages/applefy/statistics/parametric.py:110: RuntimeWarning: divide by zero encountered in scalar divide\n",
      "  statistic_t = (y_bar_planet - x_bar_noise) / noise\n",
      "/lustre/home/mbonse/2023_s4/50_code/venv_s4/lib/python3.10/site-packages/applefy/statistics/parametric.py:110: RuntimeWarning: divide by zero encountered in scalar divide\n",
      "  statistic_t = (y_bar_planet - x_bar_noise) / noise\n",
      "/lustre/home/mbonse/2023_s4/50_code/venv_s4/lib/python3.10/site-packages/applefy/statistics/parametric.py:110: RuntimeWarning: divide by zero encountered in scalar divide\n",
      "  statistic_t = (y_bar_planet - x_bar_noise) / noise\n"
     ]
    },
    {
     "name": "stdout",
     "output_type": "stream",
     "text": [
      "..............."
     ]
    },
    {
     "name": "stderr",
     "output_type": "stream",
     "text": [
      "/lustre/home/mbonse/2023_s4/50_code/venv_s4/lib/python3.10/site-packages/applefy/statistics/parametric.py:110: RuntimeWarning: divide by zero encountered in scalar divide\n",
      "  statistic_t = (y_bar_planet - x_bar_noise) / noise\n",
      "/lustre/home/mbonse/2023_s4/50_code/venv_s4/lib/python3.10/site-packages/applefy/statistics/parametric.py:110: RuntimeWarning: divide by zero encountered in scalar divide\n",
      "  statistic_t = (y_bar_planet - x_bar_noise) / noise\n"
     ]
    },
    {
     "name": "stdout",
     "output_type": "stream",
     "text": [
      "."
     ]
    },
    {
     "name": "stderr",
     "output_type": "stream",
     "text": [
      "/lustre/home/mbonse/2023_s4/50_code/venv_s4/lib/python3.10/site-packages/applefy/statistics/parametric.py:110: RuntimeWarning: divide by zero encountered in scalar divide\n",
      "  statistic_t = (y_bar_planet - x_bar_noise) / noise\n"
     ]
    },
    {
     "name": "stdout",
     "output_type": "stream",
     "text": [
      "."
     ]
    },
    {
     "name": "stderr",
     "output_type": "stream",
     "text": [
      "/lustre/home/mbonse/2023_s4/50_code/venv_s4/lib/python3.10/site-packages/applefy/statistics/parametric.py:110: RuntimeWarning: divide by zero encountered in scalar divide\n",
      "  statistic_t = (y_bar_planet - x_bar_noise) / noise\n",
      "/lustre/home/mbonse/2023_s4/50_code/venv_s4/lib/python3.10/site-packages/applefy/statistics/parametric.py:110: RuntimeWarning: divide by zero encountered in scalar divide\n",
      "  statistic_t = (y_bar_planet - x_bar_noise) / noise\n"
     ]
    },
    {
     "name": "stdout",
     "output_type": "stream",
     "text": [
      "."
     ]
    },
    {
     "name": "stderr",
     "output_type": "stream",
     "text": [
      "/lustre/home/mbonse/2023_s4/50_code/venv_s4/lib/python3.10/site-packages/applefy/statistics/parametric.py:110: RuntimeWarning: divide by zero encountered in scalar divide\n",
      "  statistic_t = (y_bar_planet - x_bar_noise) / noise\n"
     ]
    },
    {
     "name": "stdout",
     "output_type": "stream",
     "text": [
      "......................"
     ]
    },
    {
     "name": "stderr",
     "output_type": "stream",
     "text": [
      "/lustre/home/mbonse/2023_s4/50_code/venv_s4/lib/python3.10/site-packages/applefy/statistics/parametric.py:110: RuntimeWarning: divide by zero encountered in scalar divide\n",
      "  statistic_t = (y_bar_planet - x_bar_noise) / noise\n",
      "/lustre/home/mbonse/2023_s4/50_code/venv_s4/lib/python3.10/site-packages/applefy/statistics/parametric.py:110: RuntimeWarning: divide by zero encountered in scalar divide\n",
      "  statistic_t = (y_bar_planet - x_bar_noise) / noise\n",
      "/lustre/home/mbonse/2023_s4/50_code/venv_s4/lib/python3.10/site-packages/applefy/statistics/parametric.py:110: RuntimeWarning: divide by zero encountered in scalar divide\n",
      "  statistic_t = (y_bar_planet - x_bar_noise) / noise\n"
     ]
    },
    {
     "name": "stdout",
     "output_type": "stream",
     "text": [
      "....[DONE]\n",
      "Computing contrast grid for PCA_160_components\n",
      "Computing contrast grid with multiprocessing:\n",
      "................................................................................................."
     ]
    },
    {
     "name": "stderr",
     "output_type": "stream",
     "text": [
      "/lustre/home/mbonse/2023_s4/50_code/venv_s4/lib/python3.10/site-packages/applefy/statistics/parametric.py:110: RuntimeWarning: divide by zero encountered in scalar divide\n",
      "  statistic_t = (y_bar_planet - x_bar_noise) / noise\n",
      "/lustre/home/mbonse/2023_s4/50_code/venv_s4/lib/python3.10/site-packages/applefy/statistics/parametric.py:110: RuntimeWarning: divide by zero encountered in scalar divide\n",
      "  statistic_t = (y_bar_planet - x_bar_noise) / noise\n",
      "/lustre/home/mbonse/2023_s4/50_code/venv_s4/lib/python3.10/site-packages/applefy/statistics/parametric.py:110: RuntimeWarning: divide by zero encountered in scalar divide\n",
      "  statistic_t = (y_bar_planet - x_bar_noise) / noise\n"
     ]
    },
    {
     "name": "stdout",
     "output_type": "stream",
     "text": [
      "......................"
     ]
    },
    {
     "name": "stderr",
     "output_type": "stream",
     "text": [
      "/lustre/home/mbonse/2023_s4/50_code/venv_s4/lib/python3.10/site-packages/applefy/statistics/parametric.py:110: RuntimeWarning: divide by zero encountered in scalar divide\n",
      "  statistic_t = (y_bar_planet - x_bar_noise) / noise\n",
      "/lustre/home/mbonse/2023_s4/50_code/venv_s4/lib/python3.10/site-packages/applefy/statistics/parametric.py:110: RuntimeWarning: divide by zero encountered in scalar divide\n",
      "  statistic_t = (y_bar_planet - x_bar_noise) / noise\n",
      "/lustre/home/mbonse/2023_s4/50_code/venv_s4/lib/python3.10/site-packages/applefy/statistics/parametric.py:110: RuntimeWarning: divide by zero encountered in scalar divide\n",
      "  statistic_t = (y_bar_planet - x_bar_noise) / noise\n"
     ]
    },
    {
     "name": "stdout",
     "output_type": "stream",
     "text": [
      "........"
     ]
    },
    {
     "name": "stderr",
     "output_type": "stream",
     "text": [
      "/lustre/home/mbonse/2023_s4/50_code/venv_s4/lib/python3.10/site-packages/applefy/statistics/parametric.py:110: RuntimeWarning: divide by zero encountered in scalar divide\n",
      "  statistic_t = (y_bar_planet - x_bar_noise) / noise\n"
     ]
    },
    {
     "name": "stdout",
     "output_type": "stream",
     "text": [
      "."
     ]
    },
    {
     "name": "stderr",
     "output_type": "stream",
     "text": [
      "/lustre/home/mbonse/2023_s4/50_code/venv_s4/lib/python3.10/site-packages/applefy/statistics/parametric.py:110: RuntimeWarning: divide by zero encountered in scalar divide\n",
      "  statistic_t = (y_bar_planet - x_bar_noise) / noise\n",
      "/lustre/home/mbonse/2023_s4/50_code/venv_s4/lib/python3.10/site-packages/applefy/statistics/parametric.py:110: RuntimeWarning: divide by zero encountered in scalar divide\n",
      "  statistic_t = (y_bar_planet - x_bar_noise) / noise\n"
     ]
    },
    {
     "name": "stdout",
     "output_type": "stream",
     "text": [
      ".............."
     ]
    },
    {
     "name": "stderr",
     "output_type": "stream",
     "text": [
      "/lustre/home/mbonse/2023_s4/50_code/venv_s4/lib/python3.10/site-packages/applefy/statistics/parametric.py:110: RuntimeWarning: divide by zero encountered in scalar divide\n",
      "  statistic_t = (y_bar_planet - x_bar_noise) / noise\n",
      "/lustre/home/mbonse/2023_s4/50_code/venv_s4/lib/python3.10/site-packages/applefy/statistics/parametric.py:110: RuntimeWarning: divide by zero encountered in scalar divide\n",
      "  statistic_t = (y_bar_planet - x_bar_noise) / noise\n"
     ]
    },
    {
     "name": "stdout",
     "output_type": "stream",
     "text": [
      "."
     ]
    },
    {
     "name": "stderr",
     "output_type": "stream",
     "text": [
      "/lustre/home/mbonse/2023_s4/50_code/venv_s4/lib/python3.10/site-packages/applefy/statistics/parametric.py:110: RuntimeWarning: divide by zero encountered in scalar divide\n",
      "  statistic_t = (y_bar_planet - x_bar_noise) / noise\n",
      "/lustre/home/mbonse/2023_s4/50_code/venv_s4/lib/python3.10/site-packages/applefy/statistics/parametric.py:110: RuntimeWarning: divide by zero encountered in scalar divide\n",
      "  statistic_t = (y_bar_planet - x_bar_noise) / noise\n"
     ]
    },
    {
     "name": "stdout",
     "output_type": "stream",
     "text": [
      "."
     ]
    },
    {
     "name": "stderr",
     "output_type": "stream",
     "text": [
      "/lustre/home/mbonse/2023_s4/50_code/venv_s4/lib/python3.10/site-packages/applefy/statistics/parametric.py:110: RuntimeWarning: divide by zero encountered in scalar divide\n",
      "  statistic_t = (y_bar_planet - x_bar_noise) / noise\n"
     ]
    },
    {
     "name": "stdout",
     "output_type": "stream",
     "text": [
      "."
     ]
    },
    {
     "name": "stderr",
     "output_type": "stream",
     "text": [
      "/lustre/home/mbonse/2023_s4/50_code/venv_s4/lib/python3.10/site-packages/applefy/statistics/parametric.py:110: RuntimeWarning: divide by zero encountered in scalar divide\n",
      "  statistic_t = (y_bar_planet - x_bar_noise) / noise\n"
     ]
    },
    {
     "name": "stdout",
     "output_type": "stream",
     "text": [
      "....................."
     ]
    },
    {
     "name": "stderr",
     "output_type": "stream",
     "text": [
      "/lustre/home/mbonse/2023_s4/50_code/venv_s4/lib/python3.10/site-packages/applefy/statistics/parametric.py:110: RuntimeWarning: divide by zero encountered in scalar divide\n",
      "  statistic_t = (y_bar_planet - x_bar_noise) / noise\n",
      "/lustre/home/mbonse/2023_s4/50_code/venv_s4/lib/python3.10/site-packages/applefy/statistics/parametric.py:110: RuntimeWarning: divide by zero encountered in scalar divide\n",
      "  statistic_t = (y_bar_planet - x_bar_noise) / noise\n",
      "/lustre/home/mbonse/2023_s4/50_code/venv_s4/lib/python3.10/site-packages/applefy/statistics/parametric.py:110: RuntimeWarning: divide by zero encountered in scalar divide\n",
      "  statistic_t = (y_bar_planet - x_bar_noise) / noise\n"
     ]
    },
    {
     "name": "stdout",
     "output_type": "stream",
     "text": [
      "....[DONE]\n",
      "Computing contrast grid for PCA_180_components\n",
      "Computing contrast grid with multiprocessing:\n",
      ".................................................................................................."
     ]
    },
    {
     "name": "stderr",
     "output_type": "stream",
     "text": [
      "/lustre/home/mbonse/2023_s4/50_code/venv_s4/lib/python3.10/site-packages/applefy/statistics/parametric.py:110: RuntimeWarning: divide by zero encountered in scalar divide\n",
      "  statistic_t = (y_bar_planet - x_bar_noise) / noise\n",
      "/lustre/home/mbonse/2023_s4/50_code/venv_s4/lib/python3.10/site-packages/applefy/statistics/parametric.py:110: RuntimeWarning: divide by zero encountered in scalar divide\n",
      "  statistic_t = (y_bar_planet - x_bar_noise) / noise\n",
      "/lustre/home/mbonse/2023_s4/50_code/venv_s4/lib/python3.10/site-packages/applefy/statistics/parametric.py:110: RuntimeWarning: divide by zero encountered in scalar divide\n",
      "  statistic_t = (y_bar_planet - x_bar_noise) / noise\n"
     ]
    },
    {
     "name": "stdout",
     "output_type": "stream",
     "text": [
      "....................."
     ]
    },
    {
     "name": "stderr",
     "output_type": "stream",
     "text": [
      "/lustre/home/mbonse/2023_s4/50_code/venv_s4/lib/python3.10/site-packages/applefy/statistics/parametric.py:110: RuntimeWarning: divide by zero encountered in scalar divide\n",
      "  statistic_t = (y_bar_planet - x_bar_noise) / noise\n",
      "/lustre/home/mbonse/2023_s4/50_code/venv_s4/lib/python3.10/site-packages/applefy/statistics/parametric.py:110: RuntimeWarning: divide by zero encountered in scalar divide\n",
      "  statistic_t = (y_bar_planet - x_bar_noise) / noise\n"
     ]
    },
    {
     "name": "stdout",
     "output_type": "stream",
     "text": [
      "."
     ]
    },
    {
     "name": "stderr",
     "output_type": "stream",
     "text": [
      "/lustre/home/mbonse/2023_s4/50_code/venv_s4/lib/python3.10/site-packages/applefy/statistics/parametric.py:110: RuntimeWarning: divide by zero encountered in scalar divide\n",
      "  statistic_t = (y_bar_planet - x_bar_noise) / noise\n"
     ]
    },
    {
     "name": "stdout",
     "output_type": "stream",
     "text": [
      "........."
     ]
    },
    {
     "name": "stderr",
     "output_type": "stream",
     "text": [
      "/lustre/home/mbonse/2023_s4/50_code/venv_s4/lib/python3.10/site-packages/applefy/statistics/parametric.py:110: RuntimeWarning: divide by zero encountered in scalar divide\n",
      "  statistic_t = (y_bar_planet - x_bar_noise) / noise\n",
      "/lustre/home/mbonse/2023_s4/50_code/venv_s4/lib/python3.10/site-packages/applefy/statistics/parametric.py:110: RuntimeWarning: divide by zero encountered in scalar divide\n",
      "  statistic_t = (y_bar_planet - x_bar_noise) / noise\n",
      "/lustre/home/mbonse/2023_s4/50_code/venv_s4/lib/python3.10/site-packages/applefy/statistics/parametric.py:110: RuntimeWarning: divide by zero encountered in scalar divide\n",
      "  statistic_t = (y_bar_planet - x_bar_noise) / noise\n"
     ]
    },
    {
     "name": "stdout",
     "output_type": "stream",
     "text": [
      "............."
     ]
    },
    {
     "name": "stderr",
     "output_type": "stream",
     "text": [
      "/lustre/home/mbonse/2023_s4/50_code/venv_s4/lib/python3.10/site-packages/applefy/statistics/parametric.py:110: RuntimeWarning: divide by zero encountered in scalar divide\n",
      "  statistic_t = (y_bar_planet - x_bar_noise) / noise\n",
      "/lustre/home/mbonse/2023_s4/50_code/venv_s4/lib/python3.10/site-packages/applefy/statistics/parametric.py:110: RuntimeWarning: divide by zero encountered in scalar divide\n",
      "  statistic_t = (y_bar_planet - x_bar_noise) / noise\n",
      "/lustre/home/mbonse/2023_s4/50_code/venv_s4/lib/python3.10/site-packages/applefy/statistics/parametric.py:110: RuntimeWarning: divide by zero encountered in scalar divide\n",
      "  statistic_t = (y_bar_planet - x_bar_noise) / noise\n",
      "/lustre/home/mbonse/2023_s4/50_code/venv_s4/lib/python3.10/site-packages/applefy/statistics/parametric.py:110: RuntimeWarning: divide by zero encountered in scalar divide\n",
      "  statistic_t = (y_bar_planet - x_bar_noise) / noise\n",
      "/lustre/home/mbonse/2023_s4/50_code/venv_s4/lib/python3.10/site-packages/applefy/statistics/parametric.py:110: RuntimeWarning: divide by zero encountered in scalar divide\n",
      "  statistic_t = (y_bar_planet - x_bar_noise) / noise\n",
      "/lustre/home/mbonse/2023_s4/50_code/venv_s4/lib/python3.10/site-packages/applefy/statistics/parametric.py:110: RuntimeWarning: divide by zero encountered in scalar divide\n",
      "  statistic_t = (y_bar_planet - x_bar_noise) / noise\n"
     ]
    },
    {
     "name": "stdout",
     "output_type": "stream",
     "text": [
      "........................"
     ]
    },
    {
     "name": "stderr",
     "output_type": "stream",
     "text": [
      "/lustre/home/mbonse/2023_s4/50_code/venv_s4/lib/python3.10/site-packages/applefy/statistics/parametric.py:110: RuntimeWarning: divide by zero encountered in scalar divide\n",
      "  statistic_t = (y_bar_planet - x_bar_noise) / noise\n",
      "/lustre/home/mbonse/2023_s4/50_code/venv_s4/lib/python3.10/site-packages/applefy/statistics/parametric.py:110: RuntimeWarning: divide by zero encountered in scalar divide\n",
      "  statistic_t = (y_bar_planet - x_bar_noise) / noise\n",
      "/lustre/home/mbonse/2023_s4/50_code/venv_s4/lib/python3.10/site-packages/applefy/statistics/parametric.py:110: RuntimeWarning: divide by zero encountered in scalar divide\n",
      "  statistic_t = (y_bar_planet - x_bar_noise) / noise\n"
     ]
    },
    {
     "name": "stdout",
     "output_type": "stream",
     "text": [
      "....[DONE]\n",
      "Computing contrast grid for PCA_200_components\n",
      "Computing contrast grid with multiprocessing:\n",
      "................................................................................................."
     ]
    },
    {
     "name": "stderr",
     "output_type": "stream",
     "text": [
      "/lustre/home/mbonse/2023_s4/50_code/venv_s4/lib/python3.10/site-packages/applefy/statistics/parametric.py:110: RuntimeWarning: divide by zero encountered in scalar divide\n",
      "  statistic_t = (y_bar_planet - x_bar_noise) / noise\n",
      "/lustre/home/mbonse/2023_s4/50_code/venv_s4/lib/python3.10/site-packages/applefy/statistics/parametric.py:110: RuntimeWarning: divide by zero encountered in scalar divide\n",
      "  statistic_t = (y_bar_planet - x_bar_noise) / noise\n",
      "/lustre/home/mbonse/2023_s4/50_code/venv_s4/lib/python3.10/site-packages/applefy/statistics/parametric.py:110: RuntimeWarning: divide by zero encountered in scalar divide\n",
      "  statistic_t = (y_bar_planet - x_bar_noise) / noise\n"
     ]
    },
    {
     "name": "stdout",
     "output_type": "stream",
     "text": [
      "......................."
     ]
    },
    {
     "name": "stderr",
     "output_type": "stream",
     "text": [
      "/lustre/home/mbonse/2023_s4/50_code/venv_s4/lib/python3.10/site-packages/applefy/statistics/parametric.py:110: RuntimeWarning: divide by zero encountered in scalar divide\n",
      "  statistic_t = (y_bar_planet - x_bar_noise) / noise\n",
      "/lustre/home/mbonse/2023_s4/50_code/venv_s4/lib/python3.10/site-packages/applefy/statistics/parametric.py:110: RuntimeWarning: divide by zero encountered in scalar divide\n",
      "  statistic_t = (y_bar_planet - x_bar_noise) / noise\n",
      "/lustre/home/mbonse/2023_s4/50_code/venv_s4/lib/python3.10/site-packages/applefy/statistics/parametric.py:110: RuntimeWarning: divide by zero encountered in scalar divide\n",
      "  statistic_t = (y_bar_planet - x_bar_noise) / noise\n"
     ]
    },
    {
     "name": "stdout",
     "output_type": "stream",
     "text": [
      "........"
     ]
    },
    {
     "name": "stderr",
     "output_type": "stream",
     "text": [
      "/lustre/home/mbonse/2023_s4/50_code/venv_s4/lib/python3.10/site-packages/applefy/statistics/parametric.py:110: RuntimeWarning: divide by zero encountered in scalar divide\n",
      "  statistic_t = (y_bar_planet - x_bar_noise) / noise\n",
      "/lustre/home/mbonse/2023_s4/50_code/venv_s4/lib/python3.10/site-packages/applefy/statistics/parametric.py:110: RuntimeWarning: divide by zero encountered in scalar divide\n",
      "  statistic_t = (y_bar_planet - x_bar_noise) / noise\n",
      "/lustre/home/mbonse/2023_s4/50_code/venv_s4/lib/python3.10/site-packages/applefy/statistics/parametric.py:110: RuntimeWarning: divide by zero encountered in scalar divide\n",
      "  statistic_t = (y_bar_planet - x_bar_noise) / noise\n"
     ]
    },
    {
     "name": "stdout",
     "output_type": "stream",
     "text": [
      "............"
     ]
    },
    {
     "name": "stderr",
     "output_type": "stream",
     "text": [
      "/lustre/home/mbonse/2023_s4/50_code/venv_s4/lib/python3.10/site-packages/applefy/statistics/parametric.py:110: RuntimeWarning: divide by zero encountered in scalar divide\n",
      "  statistic_t = (y_bar_planet - x_bar_noise) / noise\n",
      "/lustre/home/mbonse/2023_s4/50_code/venv_s4/lib/python3.10/site-packages/applefy/statistics/parametric.py:110: RuntimeWarning: divide by zero encountered in scalar divide\n",
      "  statistic_t = (y_bar_planet - x_bar_noise) / noise\n",
      "/lustre/home/mbonse/2023_s4/50_code/venv_s4/lib/python3.10/site-packages/applefy/statistics/parametric.py:110: RuntimeWarning: divide by zero encountered in scalar divide\n",
      "  statistic_t = (y_bar_planet - x_bar_noise) / noise\n"
     ]
    },
    {
     "name": "stdout",
     "output_type": "stream",
     "text": [
      "..."
     ]
    },
    {
     "name": "stderr",
     "output_type": "stream",
     "text": [
      "/lustre/home/mbonse/2023_s4/50_code/venv_s4/lib/python3.10/site-packages/applefy/statistics/parametric.py:110: RuntimeWarning: divide by zero encountered in scalar divide\n",
      "  statistic_t = (y_bar_planet - x_bar_noise) / noise\n"
     ]
    },
    {
     "name": "stdout",
     "output_type": "stream",
     "text": [
      "."
     ]
    },
    {
     "name": "stderr",
     "output_type": "stream",
     "text": [
      "/lustre/home/mbonse/2023_s4/50_code/venv_s4/lib/python3.10/site-packages/applefy/statistics/parametric.py:110: RuntimeWarning: divide by zero encountered in scalar divide\n",
      "  statistic_t = (y_bar_planet - x_bar_noise) / noise\n",
      "/lustre/home/mbonse/2023_s4/50_code/venv_s4/lib/python3.10/site-packages/applefy/statistics/parametric.py:110: RuntimeWarning: divide by zero encountered in scalar divide\n",
      "  statistic_t = (y_bar_planet - x_bar_noise) / noise\n"
     ]
    },
    {
     "name": "stdout",
     "output_type": "stream",
     "text": [
      "......................"
     ]
    },
    {
     "name": "stderr",
     "output_type": "stream",
     "text": [
      "/lustre/home/mbonse/2023_s4/50_code/venv_s4/lib/python3.10/site-packages/applefy/statistics/parametric.py:110: RuntimeWarning: divide by zero encountered in scalar divide\n",
      "  statistic_t = (y_bar_planet - x_bar_noise) / noise\n",
      "/lustre/home/mbonse/2023_s4/50_code/venv_s4/lib/python3.10/site-packages/applefy/statistics/parametric.py:110: RuntimeWarning: divide by zero encountered in scalar divide\n",
      "  statistic_t = (y_bar_planet - x_bar_noise) / noise\n",
      "/lustre/home/mbonse/2023_s4/50_code/venv_s4/lib/python3.10/site-packages/applefy/statistics/parametric.py:110: RuntimeWarning: divide by zero encountered in scalar divide\n",
      "  statistic_t = (y_bar_planet - x_bar_noise) / noise\n"
     ]
    },
    {
     "name": "stdout",
     "output_type": "stream",
     "text": [
      "....[DONE]\n",
      "Computing contrast grid for PCA_250_components\n",
      "Computing contrast grid with multiprocessing:\n",
      "................................................................................................."
     ]
    },
    {
     "name": "stderr",
     "output_type": "stream",
     "text": [
      "/lustre/home/mbonse/2023_s4/50_code/venv_s4/lib/python3.10/site-packages/applefy/statistics/parametric.py:110: RuntimeWarning: divide by zero encountered in scalar divide\n",
      "  statistic_t = (y_bar_planet - x_bar_noise) / noise\n",
      "/lustre/home/mbonse/2023_s4/50_code/venv_s4/lib/python3.10/site-packages/applefy/statistics/parametric.py:110: RuntimeWarning: divide by zero encountered in scalar divide\n",
      "  statistic_t = (y_bar_planet - x_bar_noise) / noise\n"
     ]
    },
    {
     "name": "stdout",
     "output_type": "stream",
     "text": [
      "."
     ]
    },
    {
     "name": "stderr",
     "output_type": "stream",
     "text": [
      "/lustre/home/mbonse/2023_s4/50_code/venv_s4/lib/python3.10/site-packages/applefy/statistics/parametric.py:110: RuntimeWarning: divide by zero encountered in scalar divide\n",
      "  statistic_t = (y_bar_planet - x_bar_noise) / noise\n"
     ]
    },
    {
     "name": "stdout",
     "output_type": "stream",
     "text": [
      "....................."
     ]
    },
    {
     "name": "stderr",
     "output_type": "stream",
     "text": [
      "/lustre/home/mbonse/2023_s4/50_code/venv_s4/lib/python3.10/site-packages/applefy/statistics/parametric.py:110: RuntimeWarning: divide by zero encountered in scalar divide\n",
      "  statistic_t = (y_bar_planet - x_bar_noise) / noise\n",
      "/lustre/home/mbonse/2023_s4/50_code/venv_s4/lib/python3.10/site-packages/applefy/statistics/parametric.py:110: RuntimeWarning: divide by zero encountered in scalar divide\n",
      "  statistic_t = (y_bar_planet - x_bar_noise) / noise\n",
      "/lustre/home/mbonse/2023_s4/50_code/venv_s4/lib/python3.10/site-packages/applefy/statistics/parametric.py:110: RuntimeWarning: divide by zero encountered in scalar divide\n",
      "  statistic_t = (y_bar_planet - x_bar_noise) / noise\n"
     ]
    },
    {
     "name": "stdout",
     "output_type": "stream",
     "text": [
      "........."
     ]
    },
    {
     "name": "stderr",
     "output_type": "stream",
     "text": [
      "/lustre/home/mbonse/2023_s4/50_code/venv_s4/lib/python3.10/site-packages/applefy/statistics/parametric.py:110: RuntimeWarning: divide by zero encountered in scalar divide\n",
      "  statistic_t = (y_bar_planet - x_bar_noise) / noise\n",
      "/lustre/home/mbonse/2023_s4/50_code/venv_s4/lib/python3.10/site-packages/applefy/statistics/parametric.py:110: RuntimeWarning: divide by zero encountered in scalar divide\n",
      "  statistic_t = (y_bar_planet - x_bar_noise) / noise\n"
     ]
    },
    {
     "name": "stdout",
     "output_type": "stream",
     "text": [
      "."
     ]
    },
    {
     "name": "stderr",
     "output_type": "stream",
     "text": [
      "/lustre/home/mbonse/2023_s4/50_code/venv_s4/lib/python3.10/site-packages/applefy/statistics/parametric.py:110: RuntimeWarning: divide by zero encountered in scalar divide\n",
      "  statistic_t = (y_bar_planet - x_bar_noise) / noise\n"
     ]
    },
    {
     "name": "stdout",
     "output_type": "stream",
     "text": [
      "..........."
     ]
    },
    {
     "name": "stderr",
     "output_type": "stream",
     "text": [
      "/lustre/home/mbonse/2023_s4/50_code/venv_s4/lib/python3.10/site-packages/applefy/statistics/parametric.py:110: RuntimeWarning: divide by zero encountered in scalar divide\n",
      "  statistic_t = (y_bar_planet - x_bar_noise) / noise\n",
      "/lustre/home/mbonse/2023_s4/50_code/venv_s4/lib/python3.10/site-packages/applefy/statistics/parametric.py:110: RuntimeWarning: divide by zero encountered in scalar divide\n",
      "  statistic_t = (y_bar_planet - x_bar_noise) / noise\n",
      "/lustre/home/mbonse/2023_s4/50_code/venv_s4/lib/python3.10/site-packages/applefy/statistics/parametric.py:110: RuntimeWarning: divide by zero encountered in scalar divide\n",
      "  statistic_t = (y_bar_planet - x_bar_noise) / noise\n"
     ]
    },
    {
     "name": "stdout",
     "output_type": "stream",
     "text": [
      "..."
     ]
    },
    {
     "name": "stderr",
     "output_type": "stream",
     "text": [
      "/lustre/home/mbonse/2023_s4/50_code/venv_s4/lib/python3.10/site-packages/applefy/statistics/parametric.py:110: RuntimeWarning: divide by zero encountered in scalar divide\n",
      "  statistic_t = (y_bar_planet - x_bar_noise) / noise\n"
     ]
    },
    {
     "name": "stdout",
     "output_type": "stream",
     "text": [
      "."
     ]
    },
    {
     "name": "stderr",
     "output_type": "stream",
     "text": [
      "/lustre/home/mbonse/2023_s4/50_code/venv_s4/lib/python3.10/site-packages/applefy/statistics/parametric.py:110: RuntimeWarning: divide by zero encountered in scalar divide\n",
      "  statistic_t = (y_bar_planet - x_bar_noise) / noise\n",
      "/lustre/home/mbonse/2023_s4/50_code/venv_s4/lib/python3.10/site-packages/applefy/statistics/parametric.py:110: RuntimeWarning: divide by zero encountered in scalar divide\n",
      "  statistic_t = (y_bar_planet - x_bar_noise) / noise\n"
     ]
    },
    {
     "name": "stdout",
     "output_type": "stream",
     "text": [
      "......................"
     ]
    },
    {
     "name": "stderr",
     "output_type": "stream",
     "text": [
      "/lustre/home/mbonse/2023_s4/50_code/venv_s4/lib/python3.10/site-packages/applefy/statistics/parametric.py:110: RuntimeWarning: divide by zero encountered in scalar divide\n",
      "  statistic_t = (y_bar_planet - x_bar_noise) / noise\n",
      "/lustre/home/mbonse/2023_s4/50_code/venv_s4/lib/python3.10/site-packages/applefy/statistics/parametric.py:110: RuntimeWarning: divide by zero encountered in scalar divide\n",
      "  statistic_t = (y_bar_planet - x_bar_noise) / noise\n",
      "/lustre/home/mbonse/2023_s4/50_code/venv_s4/lib/python3.10/site-packages/applefy/statistics/parametric.py:110: RuntimeWarning: divide by zero encountered in scalar divide\n",
      "  statistic_t = (y_bar_planet - x_bar_noise) / noise\n"
     ]
    },
    {
     "name": "stdout",
     "output_type": "stream",
     "text": [
      "....[DONE]\n",
      "Computing contrast grid for PCA_300_components\n",
      "Computing contrast grid with multiprocessing:\n",
      ".................................................................................................."
     ]
    },
    {
     "name": "stderr",
     "output_type": "stream",
     "text": [
      "/lustre/home/mbonse/2023_s4/50_code/venv_s4/lib/python3.10/site-packages/applefy/statistics/parametric.py:110: RuntimeWarning: divide by zero encountered in scalar divide\n",
      "  statistic_t = (y_bar_planet - x_bar_noise) / noise\n",
      "/lustre/home/mbonse/2023_s4/50_code/venv_s4/lib/python3.10/site-packages/applefy/statistics/parametric.py:110: RuntimeWarning: divide by zero encountered in scalar divide\n",
      "  statistic_t = (y_bar_planet - x_bar_noise) / noise\n",
      "/lustre/home/mbonse/2023_s4/50_code/venv_s4/lib/python3.10/site-packages/applefy/statistics/parametric.py:110: RuntimeWarning: divide by zero encountered in scalar divide\n",
      "  statistic_t = (y_bar_planet - x_bar_noise) / noise\n"
     ]
    },
    {
     "name": "stdout",
     "output_type": "stream",
     "text": [
      "......................."
     ]
    },
    {
     "name": "stderr",
     "output_type": "stream",
     "text": [
      "/lustre/home/mbonse/2023_s4/50_code/venv_s4/lib/python3.10/site-packages/applefy/statistics/parametric.py:110: RuntimeWarning: divide by zero encountered in scalar divide\n",
      "  statistic_t = (y_bar_planet - x_bar_noise) / noise\n",
      "/lustre/home/mbonse/2023_s4/50_code/venv_s4/lib/python3.10/site-packages/applefy/statistics/parametric.py:110: RuntimeWarning: divide by zero encountered in scalar divide\n",
      "  statistic_t = (y_bar_planet - x_bar_noise) / noise\n",
      "/lustre/home/mbonse/2023_s4/50_code/venv_s4/lib/python3.10/site-packages/applefy/statistics/parametric.py:110: RuntimeWarning: divide by zero encountered in scalar divide\n",
      "  statistic_t = (y_bar_planet - x_bar_noise) / noise\n"
     ]
    },
    {
     "name": "stdout",
     "output_type": "stream",
     "text": [
      "......."
     ]
    },
    {
     "name": "stderr",
     "output_type": "stream",
     "text": [
      "/lustre/home/mbonse/2023_s4/50_code/venv_s4/lib/python3.10/site-packages/applefy/statistics/parametric.py:110: RuntimeWarning: divide by zero encountered in scalar divide\n",
      "  statistic_t = (y_bar_planet - x_bar_noise) / noise\n",
      "/lustre/home/mbonse/2023_s4/50_code/venv_s4/lib/python3.10/site-packages/applefy/statistics/parametric.py:110: RuntimeWarning: divide by zero encountered in scalar divide\n",
      "  statistic_t = (y_bar_planet - x_bar_noise) / noise\n",
      "/lustre/home/mbonse/2023_s4/50_code/venv_s4/lib/python3.10/site-packages/applefy/statistics/parametric.py:110: RuntimeWarning: divide by zero encountered in scalar divide\n",
      "  statistic_t = (y_bar_planet - x_bar_noise) / noise\n"
     ]
    },
    {
     "name": "stdout",
     "output_type": "stream",
     "text": [
      "............"
     ]
    },
    {
     "name": "stderr",
     "output_type": "stream",
     "text": [
      "/lustre/home/mbonse/2023_s4/50_code/venv_s4/lib/python3.10/site-packages/applefy/statistics/parametric.py:110: RuntimeWarning: divide by zero encountered in scalar divide\n",
      "  statistic_t = (y_bar_planet - x_bar_noise) / noise\n",
      "/lustre/home/mbonse/2023_s4/50_code/venv_s4/lib/python3.10/site-packages/applefy/statistics/parametric.py:110: RuntimeWarning: divide by zero encountered in scalar divide\n",
      "  statistic_t = (y_bar_planet - x_bar_noise) / noise\n",
      "/lustre/home/mbonse/2023_s4/50_code/venv_s4/lib/python3.10/site-packages/applefy/statistics/parametric.py:110: RuntimeWarning: divide by zero encountered in scalar divide\n",
      "  statistic_t = (y_bar_planet - x_bar_noise) / noise\n"
     ]
    },
    {
     "name": "stdout",
     "output_type": "stream",
     "text": [
      "...."
     ]
    },
    {
     "name": "stderr",
     "output_type": "stream",
     "text": [
      "/lustre/home/mbonse/2023_s4/50_code/venv_s4/lib/python3.10/site-packages/applefy/statistics/parametric.py:110: RuntimeWarning: divide by zero encountered in scalar divide\n",
      "  statistic_t = (y_bar_planet - x_bar_noise) / noise\n",
      "/lustre/home/mbonse/2023_s4/50_code/venv_s4/lib/python3.10/site-packages/applefy/statistics/parametric.py:110: RuntimeWarning: divide by zero encountered in scalar divide\n",
      "  statistic_t = (y_bar_planet - x_bar_noise) / noise\n",
      "/lustre/home/mbonse/2023_s4/50_code/venv_s4/lib/python3.10/site-packages/applefy/statistics/parametric.py:110: RuntimeWarning: divide by zero encountered in scalar divide\n",
      "  statistic_t = (y_bar_planet - x_bar_noise) / noise\n"
     ]
    },
    {
     "name": "stdout",
     "output_type": "stream",
     "text": [
      "......................"
     ]
    },
    {
     "name": "stderr",
     "output_type": "stream",
     "text": [
      "/lustre/home/mbonse/2023_s4/50_code/venv_s4/lib/python3.10/site-packages/applefy/statistics/parametric.py:110: RuntimeWarning: divide by zero encountered in scalar divide\n",
      "  statistic_t = (y_bar_planet - x_bar_noise) / noise\n",
      "/lustre/home/mbonse/2023_s4/50_code/venv_s4/lib/python3.10/site-packages/applefy/statistics/parametric.py:110: RuntimeWarning: divide by zero encountered in scalar divide\n",
      "  statistic_t = (y_bar_planet - x_bar_noise) / noise\n",
      "/lustre/home/mbonse/2023_s4/50_code/venv_s4/lib/python3.10/site-packages/applefy/statistics/parametric.py:110: RuntimeWarning: divide by zero encountered in scalar divide\n",
      "  statistic_t = (y_bar_planet - x_bar_noise) / noise\n"
     ]
    },
    {
     "name": "stdout",
     "output_type": "stream",
     "text": [
      "....[DONE]\n",
      "Computing contrast grid for PCA_350_components\n",
      "Computing contrast grid with multiprocessing:\n",
      ".................................................................................................."
     ]
    },
    {
     "name": "stderr",
     "output_type": "stream",
     "text": [
      "/lustre/home/mbonse/2023_s4/50_code/venv_s4/lib/python3.10/site-packages/applefy/statistics/parametric.py:110: RuntimeWarning: divide by zero encountered in scalar divide\n",
      "  statistic_t = (y_bar_planet - x_bar_noise) / noise\n",
      "/lustre/home/mbonse/2023_s4/50_code/venv_s4/lib/python3.10/site-packages/applefy/statistics/parametric.py:110: RuntimeWarning: divide by zero encountered in scalar divide\n",
      "  statistic_t = (y_bar_planet - x_bar_noise) / noise\n",
      "/lustre/home/mbonse/2023_s4/50_code/venv_s4/lib/python3.10/site-packages/applefy/statistics/parametric.py:110: RuntimeWarning: divide by zero encountered in scalar divide\n",
      "  statistic_t = (y_bar_planet - x_bar_noise) / noise\n"
     ]
    },
    {
     "name": "stdout",
     "output_type": "stream",
     "text": [
      "...................."
     ]
    },
    {
     "name": "stderr",
     "output_type": "stream",
     "text": [
      "/lustre/home/mbonse/2023_s4/50_code/venv_s4/lib/python3.10/site-packages/applefy/statistics/parametric.py:110: RuntimeWarning: divide by zero encountered in scalar divide\n",
      "  statistic_t = (y_bar_planet - x_bar_noise) / noise\n",
      "/lustre/home/mbonse/2023_s4/50_code/venv_s4/lib/python3.10/site-packages/applefy/statistics/parametric.py:110: RuntimeWarning: divide by zero encountered in scalar divide\n",
      "  statistic_t = (y_bar_planet - x_bar_noise) / noise\n"
     ]
    },
    {
     "name": "stdout",
     "output_type": "stream",
     "text": [
      ".."
     ]
    },
    {
     "name": "stderr",
     "output_type": "stream",
     "text": [
      "/lustre/home/mbonse/2023_s4/50_code/venv_s4/lib/python3.10/site-packages/applefy/statistics/parametric.py:110: RuntimeWarning: divide by zero encountered in scalar divide\n",
      "  statistic_t = (y_bar_planet - x_bar_noise) / noise\n"
     ]
    },
    {
     "name": "stdout",
     "output_type": "stream",
     "text": [
      "......"
     ]
    },
    {
     "name": "stderr",
     "output_type": "stream",
     "text": [
      "/lustre/home/mbonse/2023_s4/50_code/venv_s4/lib/python3.10/site-packages/applefy/statistics/parametric.py:110: RuntimeWarning: divide by zero encountered in scalar divide\n",
      "  statistic_t = (y_bar_planet - x_bar_noise) / noise\n",
      "/lustre/home/mbonse/2023_s4/50_code/venv_s4/lib/python3.10/site-packages/applefy/statistics/parametric.py:110: RuntimeWarning: divide by zero encountered in scalar divide\n",
      "  statistic_t = (y_bar_planet - x_bar_noise) / noise\n"
     ]
    },
    {
     "name": "stdout",
     "output_type": "stream",
     "text": [
      "."
     ]
    },
    {
     "name": "stderr",
     "output_type": "stream",
     "text": [
      "/lustre/home/mbonse/2023_s4/50_code/venv_s4/lib/python3.10/site-packages/applefy/statistics/parametric.py:110: RuntimeWarning: divide by zero encountered in scalar divide\n",
      "  statistic_t = (y_bar_planet - x_bar_noise) / noise\n"
     ]
    },
    {
     "name": "stdout",
     "output_type": "stream",
     "text": [
      "..............."
     ]
    },
    {
     "name": "stderr",
     "output_type": "stream",
     "text": [
      "/lustre/home/mbonse/2023_s4/50_code/venv_s4/lib/python3.10/site-packages/applefy/statistics/parametric.py:110: RuntimeWarning: divide by zero encountered in scalar divide\n",
      "  statistic_t = (y_bar_planet - x_bar_noise) / noise\n",
      "/lustre/home/mbonse/2023_s4/50_code/venv_s4/lib/python3.10/site-packages/applefy/statistics/parametric.py:110: RuntimeWarning: divide by zero encountered in scalar divide\n",
      "  statistic_t = (y_bar_planet - x_bar_noise) / noise\n",
      "/lustre/home/mbonse/2023_s4/50_code/venv_s4/lib/python3.10/site-packages/applefy/statistics/parametric.py:110: RuntimeWarning: divide by zero encountered in scalar divide\n",
      "  statistic_t = (y_bar_planet - x_bar_noise) / noise\n",
      "/lustre/home/mbonse/2023_s4/50_code/venv_s4/lib/python3.10/site-packages/applefy/statistics/parametric.py:110: RuntimeWarning: divide by zero encountered in scalar divide\n",
      "  statistic_t = (y_bar_planet - x_bar_noise) / noise\n"
     ]
    },
    {
     "name": "stdout",
     "output_type": "stream",
     "text": [
      "."
     ]
    },
    {
     "name": "stderr",
     "output_type": "stream",
     "text": [
      "/lustre/home/mbonse/2023_s4/50_code/venv_s4/lib/python3.10/site-packages/applefy/statistics/parametric.py:110: RuntimeWarning: divide by zero encountered in scalar divide\n",
      "  statistic_t = (y_bar_planet - x_bar_noise) / noise\n",
      "/lustre/home/mbonse/2023_s4/50_code/venv_s4/lib/python3.10/site-packages/applefy/statistics/parametric.py:110: RuntimeWarning: divide by zero encountered in scalar divide\n",
      "  statistic_t = (y_bar_planet - x_bar_noise) / noise\n"
     ]
    },
    {
     "name": "stdout",
     "output_type": "stream",
     "text": [
      "......................."
     ]
    },
    {
     "name": "stderr",
     "output_type": "stream",
     "text": [
      "/lustre/home/mbonse/2023_s4/50_code/venv_s4/lib/python3.10/site-packages/applefy/statistics/parametric.py:110: RuntimeWarning: divide by zero encountered in scalar divide\n",
      "  statistic_t = (y_bar_planet - x_bar_noise) / noise\n",
      "/lustre/home/mbonse/2023_s4/50_code/venv_s4/lib/python3.10/site-packages/applefy/statistics/parametric.py:110: RuntimeWarning: divide by zero encountered in scalar divide\n",
      "  statistic_t = (y_bar_planet - x_bar_noise) / noise\n",
      "/lustre/home/mbonse/2023_s4/50_code/venv_s4/lib/python3.10/site-packages/applefy/statistics/parametric.py:110: RuntimeWarning: divide by zero encountered in scalar divide\n",
      "  statistic_t = (y_bar_planet - x_bar_noise) / noise\n"
     ]
    },
    {
     "name": "stdout",
     "output_type": "stream",
     "text": [
      "....[DONE]\n",
      "Computing contrast grid for PCA_400_components\n",
      "Computing contrast grid with multiprocessing:\n",
      "................................................................................................"
     ]
    },
    {
     "name": "stderr",
     "output_type": "stream",
     "text": [
      "/lustre/home/mbonse/2023_s4/50_code/venv_s4/lib/python3.10/site-packages/applefy/statistics/parametric.py:110: RuntimeWarning: divide by zero encountered in scalar divide\n",
      "  statistic_t = (y_bar_planet - x_bar_noise) / noise\n"
     ]
    },
    {
     "name": "stdout",
     "output_type": "stream",
     "text": [
      "."
     ]
    },
    {
     "name": "stderr",
     "output_type": "stream",
     "text": [
      "/lustre/home/mbonse/2023_s4/50_code/venv_s4/lib/python3.10/site-packages/applefy/statistics/parametric.py:110: RuntimeWarning: divide by zero encountered in scalar divide\n",
      "  statistic_t = (y_bar_planet - x_bar_noise) / noise\n",
      "/lustre/home/mbonse/2023_s4/50_code/venv_s4/lib/python3.10/site-packages/applefy/statistics/parametric.py:110: RuntimeWarning: divide by zero encountered in scalar divide\n",
      "  statistic_t = (y_bar_planet - x_bar_noise) / noise\n"
     ]
    },
    {
     "name": "stdout",
     "output_type": "stream",
     "text": [
      "......................"
     ]
    },
    {
     "name": "stderr",
     "output_type": "stream",
     "text": [
      "/lustre/home/mbonse/2023_s4/50_code/venv_s4/lib/python3.10/site-packages/applefy/statistics/parametric.py:110: RuntimeWarning: divide by zero encountered in scalar divide\n",
      "  statistic_t = (y_bar_planet - x_bar_noise) / noise\n"
     ]
    },
    {
     "name": "stdout",
     "output_type": "stream",
     "text": [
      "."
     ]
    },
    {
     "name": "stderr",
     "output_type": "stream",
     "text": [
      "/lustre/home/mbonse/2023_s4/50_code/venv_s4/lib/python3.10/site-packages/applefy/statistics/parametric.py:110: RuntimeWarning: divide by zero encountered in scalar divide\n",
      "  statistic_t = (y_bar_planet - x_bar_noise) / noise\n",
      "/lustre/home/mbonse/2023_s4/50_code/venv_s4/lib/python3.10/site-packages/applefy/statistics/parametric.py:110: RuntimeWarning: divide by zero encountered in scalar divide\n",
      "  statistic_t = (y_bar_planet - x_bar_noise) / noise\n"
     ]
    },
    {
     "name": "stdout",
     "output_type": "stream",
     "text": [
      "........"
     ]
    },
    {
     "name": "stderr",
     "output_type": "stream",
     "text": [
      "/lustre/home/mbonse/2023_s4/50_code/venv_s4/lib/python3.10/site-packages/applefy/statistics/parametric.py:110: RuntimeWarning: divide by zero encountered in scalar divide\n",
      "  statistic_t = (y_bar_planet - x_bar_noise) / noise\n",
      "/lustre/home/mbonse/2023_s4/50_code/venv_s4/lib/python3.10/site-packages/applefy/statistics/parametric.py:110: RuntimeWarning: divide by zero encountered in scalar divide\n",
      "  statistic_t = (y_bar_planet - x_bar_noise) / noise\n",
      "/lustre/home/mbonse/2023_s4/50_code/venv_s4/lib/python3.10/site-packages/applefy/statistics/parametric.py:110: RuntimeWarning: divide by zero encountered in scalar divide\n",
      "  statistic_t = (y_bar_planet - x_bar_noise) / noise\n"
     ]
    },
    {
     "name": "stdout",
     "output_type": "stream",
     "text": [
      "............"
     ]
    },
    {
     "name": "stderr",
     "output_type": "stream",
     "text": [
      "/lustre/home/mbonse/2023_s4/50_code/venv_s4/lib/python3.10/site-packages/applefy/statistics/parametric.py:110: RuntimeWarning: divide by zero encountered in scalar divide\n",
      "  statistic_t = (y_bar_planet - x_bar_noise) / noise\n"
     ]
    },
    {
     "name": "stdout",
     "output_type": "stream",
     "text": [
      "."
     ]
    },
    {
     "name": "stderr",
     "output_type": "stream",
     "text": [
      "/lustre/home/mbonse/2023_s4/50_code/venv_s4/lib/python3.10/site-packages/applefy/statistics/parametric.py:110: RuntimeWarning: divide by zero encountered in scalar divide\n",
      "  statistic_t = (y_bar_planet - x_bar_noise) / noise\n",
      "/lustre/home/mbonse/2023_s4/50_code/venv_s4/lib/python3.10/site-packages/applefy/statistics/parametric.py:110: RuntimeWarning: divide by zero encountered in scalar divide\n",
      "  statistic_t = (y_bar_planet - x_bar_noise) / noise\n"
     ]
    },
    {
     "name": "stdout",
     "output_type": "stream",
     "text": [
      "...."
     ]
    },
    {
     "name": "stderr",
     "output_type": "stream",
     "text": [
      "/lustre/home/mbonse/2023_s4/50_code/venv_s4/lib/python3.10/site-packages/applefy/statistics/parametric.py:110: RuntimeWarning: divide by zero encountered in scalar divide\n",
      "  statistic_t = (y_bar_planet - x_bar_noise) / noise\n",
      "/lustre/home/mbonse/2023_s4/50_code/venv_s4/lib/python3.10/site-packages/applefy/statistics/parametric.py:110: RuntimeWarning: divide by zero encountered in scalar divide\n",
      "  statistic_t = (y_bar_planet - x_bar_noise) / noise\n",
      "/lustre/home/mbonse/2023_s4/50_code/venv_s4/lib/python3.10/site-packages/applefy/statistics/parametric.py:110: RuntimeWarning: divide by zero encountered in scalar divide\n",
      "  statistic_t = (y_bar_planet - x_bar_noise) / noise\n"
     ]
    },
    {
     "name": "stdout",
     "output_type": "stream",
     "text": [
      "....................."
     ]
    },
    {
     "name": "stderr",
     "output_type": "stream",
     "text": [
      "/lustre/home/mbonse/2023_s4/50_code/venv_s4/lib/python3.10/site-packages/applefy/statistics/parametric.py:110: RuntimeWarning: divide by zero encountered in scalar divide\n",
      "  statistic_t = (y_bar_planet - x_bar_noise) / noise\n",
      "/lustre/home/mbonse/2023_s4/50_code/venv_s4/lib/python3.10/site-packages/applefy/statistics/parametric.py:110: RuntimeWarning: divide by zero encountered in scalar divide\n",
      "  statistic_t = (y_bar_planet - x_bar_noise) / noise\n",
      "/lustre/home/mbonse/2023_s4/50_code/venv_s4/lib/python3.10/site-packages/applefy/statistics/parametric.py:110: RuntimeWarning: divide by zero encountered in scalar divide\n",
      "  statistic_t = (y_bar_planet - x_bar_noise) / noise\n"
     ]
    },
    {
     "name": "stdout",
     "output_type": "stream",
     "text": [
      "....[DONE]\n",
      "Computing contrast grid for PCA_450_components\n",
      "Computing contrast grid with multiprocessing:\n",
      "................................................................................................."
     ]
    },
    {
     "name": "stderr",
     "output_type": "stream",
     "text": [
      "/lustre/home/mbonse/2023_s4/50_code/venv_s4/lib/python3.10/site-packages/applefy/statistics/parametric.py:110: RuntimeWarning: divide by zero encountered in scalar divide\n",
      "  statistic_t = (y_bar_planet - x_bar_noise) / noise\n",
      "/lustre/home/mbonse/2023_s4/50_code/venv_s4/lib/python3.10/site-packages/applefy/statistics/parametric.py:110: RuntimeWarning: divide by zero encountered in scalar divide\n",
      "  statistic_t = (y_bar_planet - x_bar_noise) / noise\n",
      "/lustre/home/mbonse/2023_s4/50_code/venv_s4/lib/python3.10/site-packages/applefy/statistics/parametric.py:110: RuntimeWarning: divide by zero encountered in scalar divide\n",
      "  statistic_t = (y_bar_planet - x_bar_noise) / noise\n"
     ]
    },
    {
     "name": "stdout",
     "output_type": "stream",
     "text": [
      "....................."
     ]
    },
    {
     "name": "stderr",
     "output_type": "stream",
     "text": [
      "/lustre/home/mbonse/2023_s4/50_code/venv_s4/lib/python3.10/site-packages/applefy/statistics/parametric.py:110: RuntimeWarning: divide by zero encountered in scalar divide\n",
      "  statistic_t = (y_bar_planet - x_bar_noise) / noise\n",
      "/lustre/home/mbonse/2023_s4/50_code/venv_s4/lib/python3.10/site-packages/applefy/statistics/parametric.py:110: RuntimeWarning: divide by zero encountered in scalar divide\n",
      "  statistic_t = (y_bar_planet - x_bar_noise) / noise\n"
     ]
    },
    {
     "name": "stdout",
     "output_type": "stream",
     "text": [
      "."
     ]
    },
    {
     "name": "stderr",
     "output_type": "stream",
     "text": [
      "/lustre/home/mbonse/2023_s4/50_code/venv_s4/lib/python3.10/site-packages/applefy/statistics/parametric.py:110: RuntimeWarning: divide by zero encountered in scalar divide\n",
      "  statistic_t = (y_bar_planet - x_bar_noise) / noise\n"
     ]
    },
    {
     "name": "stdout",
     "output_type": "stream",
     "text": [
      "........"
     ]
    },
    {
     "name": "stderr",
     "output_type": "stream",
     "text": [
      "/lustre/home/mbonse/2023_s4/50_code/venv_s4/lib/python3.10/site-packages/applefy/statistics/parametric.py:110: RuntimeWarning: divide by zero encountered in scalar divide\n",
      "  statistic_t = (y_bar_planet - x_bar_noise) / noise\n",
      "/lustre/home/mbonse/2023_s4/50_code/venv_s4/lib/python3.10/site-packages/applefy/statistics/parametric.py:110: RuntimeWarning: divide by zero encountered in scalar divide\n",
      "  statistic_t = (y_bar_planet - x_bar_noise) / noise\n",
      "/lustre/home/mbonse/2023_s4/50_code/venv_s4/lib/python3.10/site-packages/applefy/statistics/parametric.py:110: RuntimeWarning: divide by zero encountered in scalar divide\n",
      "  statistic_t = (y_bar_planet - x_bar_noise) / noise\n"
     ]
    },
    {
     "name": "stdout",
     "output_type": "stream",
     "text": [
      "..............."
     ]
    },
    {
     "name": "stderr",
     "output_type": "stream",
     "text": [
      "/lustre/home/mbonse/2023_s4/50_code/venv_s4/lib/python3.10/site-packages/applefy/statistics/parametric.py:110: RuntimeWarning: divide by zero encountered in scalar divide\n",
      "  statistic_t = (y_bar_planet - x_bar_noise) / noise\n",
      "/lustre/home/mbonse/2023_s4/50_code/venv_s4/lib/python3.10/site-packages/applefy/statistics/parametric.py:110: RuntimeWarning: divide by zero encountered in scalar divide\n",
      "  statistic_t = (y_bar_planet - x_bar_noise) / noise\n",
      "/lustre/home/mbonse/2023_s4/50_code/venv_s4/lib/python3.10/site-packages/applefy/statistics/parametric.py:110: RuntimeWarning: divide by zero encountered in scalar divide\n",
      "  statistic_t = (y_bar_planet - x_bar_noise) / noise\n",
      "/lustre/home/mbonse/2023_s4/50_code/venv_s4/lib/python3.10/site-packages/applefy/statistics/parametric.py:110: RuntimeWarning: divide by zero encountered in scalar divide\n",
      "  statistic_t = (y_bar_planet - x_bar_noise) / noise\n",
      "/lustre/home/mbonse/2023_s4/50_code/venv_s4/lib/python3.10/site-packages/applefy/statistics/parametric.py:110: RuntimeWarning: divide by zero encountered in scalar divide\n",
      "  statistic_t = (y_bar_planet - x_bar_noise) / noise\n",
      "/lustre/home/mbonse/2023_s4/50_code/venv_s4/lib/python3.10/site-packages/applefy/statistics/parametric.py:110: RuntimeWarning: divide by zero encountered in scalar divide\n",
      "  statistic_t = (y_bar_planet - x_bar_noise) / noise\n"
     ]
    },
    {
     "name": "stdout",
     "output_type": "stream",
     "text": [
      "........................"
     ]
    },
    {
     "name": "stderr",
     "output_type": "stream",
     "text": [
      "/lustre/home/mbonse/2023_s4/50_code/venv_s4/lib/python3.10/site-packages/applefy/statistics/parametric.py:110: RuntimeWarning: divide by zero encountered in scalar divide\n",
      "  statistic_t = (y_bar_planet - x_bar_noise) / noise\n",
      "/lustre/home/mbonse/2023_s4/50_code/venv_s4/lib/python3.10/site-packages/applefy/statistics/parametric.py:110: RuntimeWarning: divide by zero encountered in scalar divide\n",
      "  statistic_t = (y_bar_planet - x_bar_noise) / noise\n",
      "/lustre/home/mbonse/2023_s4/50_code/venv_s4/lib/python3.10/site-packages/applefy/statistics/parametric.py:110: RuntimeWarning: divide by zero encountered in scalar divide\n",
      "  statistic_t = (y_bar_planet - x_bar_noise) / noise\n"
     ]
    },
    {
     "name": "stdout",
     "output_type": "stream",
     "text": [
      "....[DONE]\n",
      "Computing contrast grid for PCA_500_components\n",
      "Computing contrast grid with multiprocessing:\n",
      "................................................................................................"
     ]
    },
    {
     "name": "stderr",
     "output_type": "stream",
     "text": [
      "/lustre/home/mbonse/2023_s4/50_code/venv_s4/lib/python3.10/site-packages/applefy/statistics/parametric.py:110: RuntimeWarning: divide by zero encountered in scalar divide\n",
      "  statistic_t = (y_bar_planet - x_bar_noise) / noise\n",
      "/lustre/home/mbonse/2023_s4/50_code/venv_s4/lib/python3.10/site-packages/applefy/statistics/parametric.py:110: RuntimeWarning: divide by zero encountered in scalar divide\n",
      "  statistic_t = (y_bar_planet - x_bar_noise) / noise\n"
     ]
    },
    {
     "name": "stdout",
     "output_type": "stream",
     "text": [
      "."
     ]
    },
    {
     "name": "stderr",
     "output_type": "stream",
     "text": [
      "/lustre/home/mbonse/2023_s4/50_code/venv_s4/lib/python3.10/site-packages/applefy/statistics/parametric.py:110: RuntimeWarning: divide by zero encountered in scalar divide\n",
      "  statistic_t = (y_bar_planet - x_bar_noise) / noise\n"
     ]
    },
    {
     "name": "stdout",
     "output_type": "stream",
     "text": [
      "......................"
     ]
    },
    {
     "name": "stderr",
     "output_type": "stream",
     "text": [
      "/lustre/home/mbonse/2023_s4/50_code/venv_s4/lib/python3.10/site-packages/applefy/statistics/parametric.py:110: RuntimeWarning: divide by zero encountered in scalar divide\n",
      "  statistic_t = (y_bar_planet - x_bar_noise) / noise\n",
      "/lustre/home/mbonse/2023_s4/50_code/venv_s4/lib/python3.10/site-packages/applefy/statistics/parametric.py:110: RuntimeWarning: divide by zero encountered in scalar divide\n",
      "  statistic_t = (y_bar_planet - x_bar_noise) / noise\n"
     ]
    },
    {
     "name": "stdout",
     "output_type": "stream",
     "text": [
      "."
     ]
    },
    {
     "name": "stderr",
     "output_type": "stream",
     "text": [
      "/lustre/home/mbonse/2023_s4/50_code/venv_s4/lib/python3.10/site-packages/applefy/statistics/parametric.py:110: RuntimeWarning: divide by zero encountered in scalar divide\n",
      "  statistic_t = (y_bar_planet - x_bar_noise) / noise\n"
     ]
    },
    {
     "name": "stdout",
     "output_type": "stream",
     "text": [
      "......."
     ]
    },
    {
     "name": "stderr",
     "output_type": "stream",
     "text": [
      "/lustre/home/mbonse/2023_s4/50_code/venv_s4/lib/python3.10/site-packages/applefy/statistics/parametric.py:110: RuntimeWarning: divide by zero encountered in scalar divide\n",
      "  statistic_t = (y_bar_planet - x_bar_noise) / noise\n",
      "/lustre/home/mbonse/2023_s4/50_code/venv_s4/lib/python3.10/site-packages/applefy/statistics/parametric.py:110: RuntimeWarning: divide by zero encountered in scalar divide\n",
      "  statistic_t = (y_bar_planet - x_bar_noise) / noise\n"
     ]
    },
    {
     "name": "stdout",
     "output_type": "stream",
     "text": [
      "."
     ]
    },
    {
     "name": "stderr",
     "output_type": "stream",
     "text": [
      "/lustre/home/mbonse/2023_s4/50_code/venv_s4/lib/python3.10/site-packages/applefy/statistics/parametric.py:110: RuntimeWarning: divide by zero encountered in scalar divide\n",
      "  statistic_t = (y_bar_planet - x_bar_noise) / noise\n"
     ]
    },
    {
     "name": "stdout",
     "output_type": "stream",
     "text": [
      ".............."
     ]
    },
    {
     "name": "stderr",
     "output_type": "stream",
     "text": [
      "/lustre/home/mbonse/2023_s4/50_code/venv_s4/lib/python3.10/site-packages/applefy/statistics/parametric.py:110: RuntimeWarning: divide by zero encountered in scalar divide\n",
      "  statistic_t = (y_bar_planet - x_bar_noise) / noise\n",
      "/lustre/home/mbonse/2023_s4/50_code/venv_s4/lib/python3.10/site-packages/applefy/statistics/parametric.py:110: RuntimeWarning: divide by zero encountered in scalar divide\n",
      "  statistic_t = (y_bar_planet - x_bar_noise) / noise\n",
      "/lustre/home/mbonse/2023_s4/50_code/venv_s4/lib/python3.10/site-packages/applefy/statistics/parametric.py:110: RuntimeWarning: divide by zero encountered in scalar divide\n",
      "  statistic_t = (y_bar_planet - x_bar_noise) / noise\n"
     ]
    },
    {
     "name": "stdout",
     "output_type": "stream",
     "text": [
      "..."
     ]
    },
    {
     "name": "stderr",
     "output_type": "stream",
     "text": [
      "/lustre/home/mbonse/2023_s4/50_code/venv_s4/lib/python3.10/site-packages/applefy/statistics/parametric.py:110: RuntimeWarning: divide by zero encountered in scalar divide\n",
      "  statistic_t = (y_bar_planet - x_bar_noise) / noise\n",
      "/lustre/home/mbonse/2023_s4/50_code/venv_s4/lib/python3.10/site-packages/applefy/statistics/parametric.py:110: RuntimeWarning: divide by zero encountered in scalar divide\n",
      "  statistic_t = (y_bar_planet - x_bar_noise) / noise\n",
      "/lustre/home/mbonse/2023_s4/50_code/venv_s4/lib/python3.10/site-packages/applefy/statistics/parametric.py:110: RuntimeWarning: divide by zero encountered in scalar divide\n",
      "  statistic_t = (y_bar_planet - x_bar_noise) / noise\n"
     ]
    },
    {
     "name": "stdout",
     "output_type": "stream",
     "text": [
      "....................."
     ]
    },
    {
     "name": "stderr",
     "output_type": "stream",
     "text": [
      "/lustre/home/mbonse/2023_s4/50_code/venv_s4/lib/python3.10/site-packages/applefy/statistics/parametric.py:110: RuntimeWarning: divide by zero encountered in scalar divide\n",
      "  statistic_t = (y_bar_planet - x_bar_noise) / noise\n",
      "/lustre/home/mbonse/2023_s4/50_code/venv_s4/lib/python3.10/site-packages/applefy/statistics/parametric.py:110: RuntimeWarning: divide by zero encountered in scalar divide\n",
      "  statistic_t = (y_bar_planet - x_bar_noise) / noise\n",
      "/lustre/home/mbonse/2023_s4/50_code/venv_s4/lib/python3.10/site-packages/applefy/statistics/parametric.py:110: RuntimeWarning: divide by zero encountered in scalar divide\n",
      "  statistic_t = (y_bar_planet - x_bar_noise) / noise\n"
     ]
    },
    {
     "name": "stdout",
     "output_type": "stream",
     "text": [
      "....[DONE]\n",
      "Computing contrast grid for cADI\n",
      "Computing contrast grid with multiprocessing:\n",
      ".................................................................................................."
     ]
    },
    {
     "name": "stderr",
     "output_type": "stream",
     "text": [
      "/lustre/home/mbonse/2023_s4/50_code/venv_s4/lib/python3.10/site-packages/applefy/statistics/parametric.py:110: RuntimeWarning: divide by zero encountered in scalar divide\n",
      "  statistic_t = (y_bar_planet - x_bar_noise) / noise\n",
      "/lustre/home/mbonse/2023_s4/50_code/venv_s4/lib/python3.10/site-packages/applefy/statistics/parametric.py:110: RuntimeWarning: divide by zero encountered in scalar divide\n",
      "  statistic_t = (y_bar_planet - x_bar_noise) / noise\n",
      "/lustre/home/mbonse/2023_s4/50_code/venv_s4/lib/python3.10/site-packages/applefy/statistics/parametric.py:110: RuntimeWarning: divide by zero encountered in scalar divide\n",
      "  statistic_t = (y_bar_planet - x_bar_noise) / noise\n"
     ]
    },
    {
     "name": "stdout",
     "output_type": "stream",
     "text": [
      "....................."
     ]
    },
    {
     "name": "stderr",
     "output_type": "stream",
     "text": [
      "/lustre/home/mbonse/2023_s4/50_code/venv_s4/lib/python3.10/site-packages/applefy/statistics/parametric.py:110: RuntimeWarning: divide by zero encountered in scalar divide\n",
      "  statistic_t = (y_bar_planet - x_bar_noise) / noise\n",
      "/lustre/home/mbonse/2023_s4/50_code/venv_s4/lib/python3.10/site-packages/applefy/statistics/parametric.py:110: RuntimeWarning: divide by zero encountered in scalar divide\n",
      "  statistic_t = (y_bar_planet - x_bar_noise) / noise\n"
     ]
    },
    {
     "name": "stdout",
     "output_type": "stream",
     "text": [
      "."
     ]
    },
    {
     "name": "stderr",
     "output_type": "stream",
     "text": [
      "/lustre/home/mbonse/2023_s4/50_code/venv_s4/lib/python3.10/site-packages/applefy/statistics/parametric.py:110: RuntimeWarning: divide by zero encountered in scalar divide\n",
      "  statistic_t = (y_bar_planet - x_bar_noise) / noise\n"
     ]
    },
    {
     "name": "stdout",
     "output_type": "stream",
     "text": [
      "......."
     ]
    },
    {
     "name": "stderr",
     "output_type": "stream",
     "text": [
      "/lustre/home/mbonse/2023_s4/50_code/venv_s4/lib/python3.10/site-packages/applefy/statistics/parametric.py:110: RuntimeWarning: divide by zero encountered in scalar divide\n",
      "  statistic_t = (y_bar_planet - x_bar_noise) / noise\n",
      "/lustre/home/mbonse/2023_s4/50_code/venv_s4/lib/python3.10/site-packages/applefy/statistics/parametric.py:110: RuntimeWarning: divide by zero encountered in scalar divide\n",
      "  statistic_t = (y_bar_planet - x_bar_noise) / noise\n",
      "/lustre/home/mbonse/2023_s4/50_code/venv_s4/lib/python3.10/site-packages/applefy/statistics/parametric.py:110: RuntimeWarning: divide by zero encountered in scalar divide\n",
      "  statistic_t = (y_bar_planet - x_bar_noise) / noise\n"
     ]
    },
    {
     "name": "stdout",
     "output_type": "stream",
     "text": [
      ".............."
     ]
    },
    {
     "name": "stderr",
     "output_type": "stream",
     "text": [
      "/lustre/home/mbonse/2023_s4/50_code/venv_s4/lib/python3.10/site-packages/applefy/statistics/parametric.py:110: RuntimeWarning: divide by zero encountered in scalar divide\n",
      "  statistic_t = (y_bar_planet - x_bar_noise) / noise\n",
      "/lustre/home/mbonse/2023_s4/50_code/venv_s4/lib/python3.10/site-packages/applefy/statistics/parametric.py:110: RuntimeWarning: divide by zero encountered in scalar divide\n",
      "  statistic_t = (y_bar_planet - x_bar_noise) / noise\n",
      "/lustre/home/mbonse/2023_s4/50_code/venv_s4/lib/python3.10/site-packages/applefy/statistics/parametric.py:110: RuntimeWarning: divide by zero encountered in scalar divide\n",
      "  statistic_t = (y_bar_planet - x_bar_noise) / noise\n"
     ]
    },
    {
     "name": "stdout",
     "output_type": "stream",
     "text": [
      "..."
     ]
    },
    {
     "name": "stderr",
     "output_type": "stream",
     "text": [
      "/lustre/home/mbonse/2023_s4/50_code/venv_s4/lib/python3.10/site-packages/applefy/statistics/parametric.py:110: RuntimeWarning: divide by zero encountered in scalar divide\n",
      "  statistic_t = (y_bar_planet - x_bar_noise) / noise\n"
     ]
    },
    {
     "name": "stdout",
     "output_type": "stream",
     "text": [
      "."
     ]
    },
    {
     "name": "stderr",
     "output_type": "stream",
     "text": [
      "/lustre/home/mbonse/2023_s4/50_code/venv_s4/lib/python3.10/site-packages/applefy/statistics/parametric.py:110: RuntimeWarning: divide by zero encountered in scalar divide\n",
      "  statistic_t = (y_bar_planet - x_bar_noise) / noise\n",
      "/lustre/home/mbonse/2023_s4/50_code/venv_s4/lib/python3.10/site-packages/applefy/statistics/parametric.py:110: RuntimeWarning: divide by zero encountered in scalar divide\n",
      "  statistic_t = (y_bar_planet - x_bar_noise) / noise\n"
     ]
    },
    {
     "name": "stdout",
     "output_type": "stream",
     "text": [
      "....................."
     ]
    },
    {
     "name": "stderr",
     "output_type": "stream",
     "text": [
      "/lustre/home/mbonse/2023_s4/50_code/venv_s4/lib/python3.10/site-packages/applefy/statistics/parametric.py:110: RuntimeWarning: divide by zero encountered in scalar divide\n",
      "  statistic_t = (y_bar_planet - x_bar_noise) / noise\n",
      "/lustre/home/mbonse/2023_s4/50_code/venv_s4/lib/python3.10/site-packages/applefy/statistics/parametric.py:110: RuntimeWarning: divide by zero encountered in scalar divide\n",
      "  statistic_t = (y_bar_planet - x_bar_noise) / noise\n",
      "/lustre/home/mbonse/2023_s4/50_code/venv_s4/lib/python3.10/site-packages/applefy/statistics/parametric.py:110: RuntimeWarning: divide by zero encountered in scalar divide\n",
      "  statistic_t = (y_bar_planet - x_bar_noise) / noise\n"
     ]
    },
    {
     "name": "stdout",
     "output_type": "stream",
     "text": [
      "....[DONE]\n"
     ]
    }
   ],
   "source": [
    "contrast_curves_grid, contrast_grids = contrast_instance.compute_contrast_grids(\n",
    "    statistical_test=statistical_test,\n",
    "    num_cores=8,\n",
    "    confidence_level_fpf=gaussian_sigma_2_fpf(5),\n",
    "    num_rot_iter=10,\n",
    "    safety_margin=2.5,\n",
    "    pixel_scale=0.02718)"
   ]
  },
  {
   "cell_type": "markdown",
   "id": "f28202a3",
   "metadata": {},
   "source": [
    "# Plot the grid"
   ]
  },
  {
   "cell_type": "code",
   "execution_count": 22,
   "id": "a68b8033",
   "metadata": {},
   "outputs": [],
   "source": [
    "from copy import deepcopy"
   ]
  },
  {
   "cell_type": "code",
   "execution_count": 23,
   "id": "a6c01b09",
   "metadata": {},
   "outputs": [
    {
     "data": {
      "text/plain": [
       "dict_keys(['PCA_002_components', 'PCA_004_components', 'PCA_006_components', 'PCA_008_components', 'PCA_010_components', 'PCA_012_components', 'PCA_014_components', 'PCA_016_components', 'PCA_018_components', 'PCA_020_components', 'PCA_025_components', 'PCA_030_components', 'PCA_035_components', 'PCA_040_components', 'PCA_045_components', 'PCA_050_components', 'PCA_060_components', 'PCA_070_components', 'PCA_080_components', 'PCA_090_components', 'PCA_100_components', 'PCA_120_components', 'PCA_140_components', 'PCA_160_components', 'PCA_180_components', 'PCA_200_components', 'PCA_250_components', 'PCA_300_components', 'PCA_350_components', 'PCA_400_components', 'PCA_450_components', 'PCA_500_components', 'cADI'])"
      ]
     },
     "execution_count": 23,
     "metadata": {},
     "output_type": "execute_result"
    }
   ],
   "source": [
    "baseline_grids = deepcopy(contrast_grids)\n",
    "\n",
    "special_names = [\"raw_model\", \"planet_learned\", \"planet_learned_fine_tune\"]\n",
    "for special_name in special_names:\n",
    "    del baseline_grids[\"s4_mean_\" + special_name]\n",
    "    del baseline_grids[\"s4_median_\" + special_name]\n",
    "    \n",
    "baseline_grids.keys()"
   ]
  },
  {
   "cell_type": "code",
   "execution_count": 24,
   "id": "84ba02c5",
   "metadata": {},
   "outputs": [],
   "source": [
    "all_grids = np.array([tmp_grid.applymap(fpf_2_gaussian_sigma).values for tmp_grid in baseline_grids.values()])"
   ]
  },
  {
   "cell_type": "code",
   "execution_count": 25,
   "id": "4877cf4d",
   "metadata": {},
   "outputs": [],
   "source": [
    "over_all_best = deepcopy(contrast_grids[\"cADI\"])\n",
    "over_all_best.iloc[:, :] = np.max(all_grids, axis=0)\n",
    "over_all_best.index = flux_ratio2mag(over_all_best.index)"
   ]
  },
  {
   "cell_type": "code",
   "execution_count": 26,
   "id": "31c60207",
   "metadata": {},
   "outputs": [],
   "source": [
    "def plot_contrast_grid(\n",
    "    contrast_grid_axis,\n",
    "    colorbar_axis,\n",
    "    contrast_grid):\n",
    "\n",
    "    c_bar_kargs = dict(\n",
    "        orientation = \"vertical\",\n",
    "        label = r\"Confidence [$\\sigma_{\\mathcal{N}}$]\")\n",
    "\n",
    "    heat = sns.heatmap(\n",
    "        contrast_grid,\n",
    "        vmax=2, vmin=7,\n",
    "        annot=True,\n",
    "        cmap=\"YlGnBu\",\n",
    "        ax=contrast_grid_axis,\n",
    "        cbar_ax=colorbar_axis,\n",
    "        cbar_kws=c_bar_kargs)\n",
    "\n",
    "    ylabels = ['{:.1f}'.format(float(x.get_text()))\n",
    "               for x in heat.get_yticklabels()]\n",
    "    _=heat.set_yticklabels(ylabels)\n",
    "    xlabels = ['{:.1f}'.format(float(x.get_text()))\n",
    "               for x in heat.get_xticklabels()]\n",
    "    _=heat.set_xticklabels(xlabels)"
   ]
  },
  {
   "cell_type": "code",
   "execution_count": 27,
   "id": "a5a814f0",
   "metadata": {},
   "outputs": [
    {
     "data": {
      "image/png": "[encoded data removed]",
      "text/plain": [
       "<Figure size 800x400 with 2 Axes>"
      ]
     },
     "metadata": {},
     "output_type": "display_data"
    }
   ],
   "source": [
    "fig = plt.figure(figsize=(8, 4))\n",
    "\n",
    "gs0 = fig.add_gridspec(1, 1)\n",
    "gs0.update(wspace=0.0, hspace=0.2)\n",
    "gs1 = gridspec.GridSpecFromSubplotSpec(\n",
    "    1, 2, subplot_spec = gs0[0],\n",
    "    wspace=0.05, width_ratios=[1, 0.03])\n",
    "\n",
    "# All axis we need\n",
    "contrast_ax = fig.add_subplot(gs1[0])\n",
    "colorbar_ax = fig.add_subplot(gs1[1])\n",
    "\n",
    "# Plot the contrast grid\n",
    "plot_contrast_grid(\n",
    "    contrast_grid_axis=contrast_ax,\n",
    "    colorbar_axis=colorbar_ax,\n",
    "    contrast_grid=over_all_best)\n",
    "\n",
    "colorbar_ax.yaxis.label.set_size(14)\n",
    "\n",
    "contrast_ax.set_ylabel(\n",
    "    \"Contrast - $c = f_p / f_*$ - [mag]\", size=14)\n",
    "contrast_ax.set_xlabel(\n",
    "    r\"Separation [FWHM]\", size=14)\n",
    "contrast_ax.set_title(\n",
    "    \"Contrast Grid best of PCA\",\n",
    "    fontsize=16,\n",
    "    fontweight=\"bold\",\n",
    "    y=1.03)\n",
    "\n",
    "contrast_ax.tick_params(\n",
    "    axis='both',\n",
    "    which='major',\n",
    "    labelsize=12)\n",
    "\n",
    "# Save the figure\n",
    "fig.patch.set_facecolor('white')\n",
    "plt.savefig(\"contrast_grid_pca_best_off.pdf\", bbox_inches='tight')"
   ]
  },
  {
   "cell_type": "code",
   "execution_count": 28,
   "id": "db3d8438",
   "metadata": {},
   "outputs": [
    {
     "data": {
      "text/html": [
       "<div>\n",
       "<style scoped>\n",
       "    .dataframe tbody tr th:only-of-type {\n",
       "        vertical-align: middle;\n",
       "    }\n",
       "\n",
       "    .dataframe tbody tr th {\n",
       "        vertical-align: top;\n",
       "    }\n",
       "\n",
       "    .dataframe thead th {\n",
       "        text-align: right;\n",
       "    }\n",
       "</style>\n",
       "<table border=\"1\" class=\"dataframe\">\n",
       "  <thead>\n",
       "    <tr style=\"text-align: right;\">\n",
       "      <th>flux_ratio</th>\n",
       "      <th>5.0</th>\n",
       "      <th>5.5</th>\n",
       "      <th>6.0</th>\n",
       "      <th>6.5</th>\n",
       "      <th>7.0</th>\n",
       "      <th>7.5</th>\n",
       "      <th>8.0</th>\n",
       "      <th>8.5</th>\n",
       "      <th>9.0</th>\n",
       "      <th>9.5</th>\n",
       "      <th>10.0</th>\n",
       "      <th>10.5</th>\n",
       "      <th>11.0</th>\n",
       "      <th>11.5</th>\n",
       "      <th>12.0</th>\n",
       "      <th>12.5</th>\n",
       "      <th>13.0</th>\n",
       "    </tr>\n",
       "    <tr>\n",
       "      <th>separation</th>\n",
       "      <th></th>\n",
       "      <th></th>\n",
       "      <th></th>\n",
       "      <th></th>\n",
       "      <th></th>\n",
       "      <th></th>\n",
       "      <th></th>\n",
       "      <th></th>\n",
       "      <th></th>\n",
       "      <th></th>\n",
       "      <th></th>\n",
       "      <th></th>\n",
       "      <th></th>\n",
       "      <th></th>\n",
       "      <th></th>\n",
       "      <th></th>\n",
       "      <th></th>\n",
       "    </tr>\n",
       "  </thead>\n",
       "  <tbody>\n",
       "    <tr>\n",
       "      <th>1.5</th>\n",
       "      <td>1</td>\n",
       "      <td>11</td>\n",
       "      <td>21</td>\n",
       "      <td>31</td>\n",
       "      <td>41</td>\n",
       "      <td>51</td>\n",
       "      <td>61</td>\n",
       "      <td>71</td>\n",
       "      <td>81</td>\n",
       "      <td>91</td>\n",
       "      <td>101</td>\n",
       "      <td>111</td>\n",
       "      <td>121</td>\n",
       "      <td>131</td>\n",
       "      <td>141</td>\n",
       "      <td>151</td>\n",
       "      <td>161</td>\n",
       "    </tr>\n",
       "    <tr>\n",
       "      <th>2.0</th>\n",
       "      <td>2</td>\n",
       "      <td>12</td>\n",
       "      <td>22</td>\n",
       "      <td>32</td>\n",
       "      <td>42</td>\n",
       "      <td>52</td>\n",
       "      <td>62</td>\n",
       "      <td>72</td>\n",
       "      <td>82</td>\n",
       "      <td>92</td>\n",
       "      <td>102</td>\n",
       "      <td>112</td>\n",
       "      <td>122</td>\n",
       "      <td>132</td>\n",
       "      <td>142</td>\n",
       "      <td>152</td>\n",
       "      <td>162</td>\n",
       "    </tr>\n",
       "    <tr>\n",
       "      <th>2.5</th>\n",
       "      <td>3</td>\n",
       "      <td>13</td>\n",
       "      <td>23</td>\n",
       "      <td>33</td>\n",
       "      <td>43</td>\n",
       "      <td>53</td>\n",
       "      <td>63</td>\n",
       "      <td>73</td>\n",
       "      <td>83</td>\n",
       "      <td>93</td>\n",
       "      <td>103</td>\n",
       "      <td>113</td>\n",
       "      <td>123</td>\n",
       "      <td>133</td>\n",
       "      <td>143</td>\n",
       "      <td>153</td>\n",
       "      <td>163</td>\n",
       "    </tr>\n",
       "    <tr>\n",
       "      <th>3.0</th>\n",
       "      <td>4</td>\n",
       "      <td>14</td>\n",
       "      <td>24</td>\n",
       "      <td>34</td>\n",
       "      <td>44</td>\n",
       "      <td>54</td>\n",
       "      <td>64</td>\n",
       "      <td>74</td>\n",
       "      <td>84</td>\n",
       "      <td>94</td>\n",
       "      <td>104</td>\n",
       "      <td>114</td>\n",
       "      <td>124</td>\n",
       "      <td>134</td>\n",
       "      <td>144</td>\n",
       "      <td>154</td>\n",
       "      <td>164</td>\n",
       "    </tr>\n",
       "    <tr>\n",
       "      <th>3.5</th>\n",
       "      <td>5</td>\n",
       "      <td>15</td>\n",
       "      <td>25</td>\n",
       "      <td>35</td>\n",
       "      <td>45</td>\n",
       "      <td>55</td>\n",
       "      <td>65</td>\n",
       "      <td>75</td>\n",
       "      <td>85</td>\n",
       "      <td>95</td>\n",
       "      <td>105</td>\n",
       "      <td>115</td>\n",
       "      <td>125</td>\n",
       "      <td>135</td>\n",
       "      <td>145</td>\n",
       "      <td>155</td>\n",
       "      <td>165</td>\n",
       "    </tr>\n",
       "    <tr>\n",
       "      <th>4.0</th>\n",
       "      <td>6</td>\n",
       "      <td>16</td>\n",
       "      <td>26</td>\n",
       "      <td>36</td>\n",
       "      <td>46</td>\n",
       "      <td>56</td>\n",
       "      <td>66</td>\n",
       "      <td>76</td>\n",
       "      <td>86</td>\n",
       "      <td>96</td>\n",
       "      <td>106</td>\n",
       "      <td>116</td>\n",
       "      <td>126</td>\n",
       "      <td>136</td>\n",
       "      <td>146</td>\n",
       "      <td>156</td>\n",
       "      <td>166</td>\n",
       "    </tr>\n",
       "    <tr>\n",
       "      <th>4.5</th>\n",
       "      <td>7</td>\n",
       "      <td>17</td>\n",
       "      <td>27</td>\n",
       "      <td>37</td>\n",
       "      <td>47</td>\n",
       "      <td>57</td>\n",
       "      <td>67</td>\n",
       "      <td>77</td>\n",
       "      <td>87</td>\n",
       "      <td>97</td>\n",
       "      <td>107</td>\n",
       "      <td>117</td>\n",
       "      <td>127</td>\n",
       "      <td>137</td>\n",
       "      <td>147</td>\n",
       "      <td>157</td>\n",
       "      <td>167</td>\n",
       "    </tr>\n",
       "    <tr>\n",
       "      <th>5.0</th>\n",
       "      <td>8</td>\n",
       "      <td>18</td>\n",
       "      <td>28</td>\n",
       "      <td>38</td>\n",
       "      <td>48</td>\n",
       "      <td>58</td>\n",
       "      <td>68</td>\n",
       "      <td>78</td>\n",
       "      <td>88</td>\n",
       "      <td>98</td>\n",
       "      <td>108</td>\n",
       "      <td>118</td>\n",
       "      <td>128</td>\n",
       "      <td>138</td>\n",
       "      <td>148</td>\n",
       "      <td>158</td>\n",
       "      <td>168</td>\n",
       "    </tr>\n",
       "    <tr>\n",
       "      <th>5.5</th>\n",
       "      <td>9</td>\n",
       "      <td>19</td>\n",
       "      <td>29</td>\n",
       "      <td>39</td>\n",
       "      <td>49</td>\n",
       "      <td>59</td>\n",
       "      <td>69</td>\n",
       "      <td>79</td>\n",
       "      <td>89</td>\n",
       "      <td>99</td>\n",
       "      <td>109</td>\n",
       "      <td>119</td>\n",
       "      <td>129</td>\n",
       "      <td>139</td>\n",
       "      <td>149</td>\n",
       "      <td>159</td>\n",
       "      <td>169</td>\n",
       "    </tr>\n",
       "    <tr>\n",
       "      <th>6.0</th>\n",
       "      <td>10</td>\n",
       "      <td>20</td>\n",
       "      <td>30</td>\n",
       "      <td>40</td>\n",
       "      <td>50</td>\n",
       "      <td>60</td>\n",
       "      <td>70</td>\n",
       "      <td>80</td>\n",
       "      <td>90</td>\n",
       "      <td>100</td>\n",
       "      <td>110</td>\n",
       "      <td>120</td>\n",
       "      <td>130</td>\n",
       "      <td>140</td>\n",
       "      <td>150</td>\n",
       "      <td>160</td>\n",
       "      <td>170</td>\n",
       "    </tr>\n",
       "  </tbody>\n",
       "</table>\n",
       "</div>"
      ],
      "text/plain": [
       "flux_ratio  5.0   5.5   6.0   6.5   7.0   7.5   8.0   8.5   9.0   9.5   10.0   \n",
       "separation                                                                     \n",
       "1.5            1    11    21    31    41    51    61    71    81    91   101  \\\n",
       "2.0            2    12    22    32    42    52    62    72    82    92   102   \n",
       "2.5            3    13    23    33    43    53    63    73    83    93   103   \n",
       "3.0            4    14    24    34    44    54    64    74    84    94   104   \n",
       "3.5            5    15    25    35    45    55    65    75    85    95   105   \n",
       "4.0            6    16    26    36    46    56    66    76    86    96   106   \n",
       "4.5            7    17    27    37    47    57    67    77    87    97   107   \n",
       "5.0            8    18    28    38    48    58    68    78    88    98   108   \n",
       "5.5            9    19    29    39    49    59    69    79    89    99   109   \n",
       "6.0           10    20    30    40    50    60    70    80    90   100   110   \n",
       "\n",
       "flux_ratio  10.5  11.0  11.5  12.0  12.5  13.0  \n",
       "separation                                      \n",
       "1.5          111   121   131   141   151   161  \n",
       "2.0          112   122   132   142   152   162  \n",
       "2.5          113   123   133   143   153   163  \n",
       "3.0          114   124   134   144   154   164  \n",
       "3.5          115   125   135   145   155   165  \n",
       "4.0          116   126   136   146   156   166  \n",
       "4.5          117   127   137   147   157   167  \n",
       "5.0          118   128   138   148   158   168  \n",
       "5.5          119   129   139   149   159   169  \n",
       "6.0          120   130   140   150   160   170  "
      ]
     },
     "execution_count": 28,
     "metadata": {},
     "output_type": "execute_result"
    }
   ],
   "source": [
    "lookup_table = deepcopy(contrast_instance.contrast_results[\"PCA_002_components\"].idx_table)\n",
    "lookup_table.columns = flux_ratio2mag(lookup_table.columns)\n",
    "lookup_table.index = lookup_table.index / 3.6\n",
    "lookup_table"
   ]
  },
  {
   "cell_type": "code",
   "execution_count": 29,
   "id": "d0c0fd4f",
   "metadata": {},
   "outputs": [
    {
     "name": "stdout",
     "output_type": "stream",
     "text": [
      "9.5\n",
      "4.0\n"
     ]
    }
   ],
   "source": [
    "test_setup = contrast_instance.experimental_setups[\"0096c\"]\n",
    "print(flux_ratio2mag(test_setup[\"flux_ratio\"]))\n",
    "print(test_setup[\"separation\"] / 3.6)"
   ]
  },
  {
   "cell_type": "markdown",
   "id": "49f405d2",
   "metadata": {},
   "source": [
    "# Plot the S4 Contrast Grids"
   ]
  },
  {
   "cell_type": "code",
   "execution_count": 30,
   "id": "f17a825e",
   "metadata": {},
   "outputs": [
    {
     "data": {
      "image/png": "[encoded data removed]",
      "text/plain": [
       "<Figure size 800x400 with 2 Axes>"
      ]
     },
     "metadata": {},
     "output_type": "display_data"
    },
    {
     "data": {
      "image/png": "[encoded data removed]",
      "text/plain": [
       "<Figure size 800x400 with 2 Axes>"
      ]
     },
     "metadata": {},
     "output_type": "display_data"
    },
    {
     "data": {
      "image/png": "[encoded data removed]",
      "text/plain": [
       "<Figure size 800x400 with 2 Axes>"
      ]
     },
     "metadata": {},
     "output_type": "display_data"
    }
   ],
   "source": [
    "for tmp_model, model_name in [\n",
    "    (\"s4_mean_raw_model\", \"(raw model)\"),\n",
    "    (\"s4_mean_planet_learned\", \"(with planet model)\"),\n",
    "    (\"s4_mean_planet_learned_fine_tune\", \"(with full-fine tuning)\")]:\n",
    "\n",
    "    s4_contrast_grid = deepcopy(contrast_grids[tmp_model])\n",
    "    s4_contrast_grid.index = flux_ratio2mag(s4_contrast_grid.index)\n",
    "    s4_contrast_grid = s4_contrast_grid.applymap(fpf_2_gaussian_sigma)\n",
    "\n",
    "    fig = plt.figure(figsize=(8, 4))\n",
    "\n",
    "    gs0 = fig.add_gridspec(1, 1)\n",
    "    gs0.update(wspace=0.0, hspace=0.2)\n",
    "    gs1 = gridspec.GridSpecFromSubplotSpec(\n",
    "        1, 2, subplot_spec = gs0[0],\n",
    "        wspace=0.05, width_ratios=[1, 0.03])\n",
    "\n",
    "    # All axis we need\n",
    "    contrast_ax = fig.add_subplot(gs1[0])\n",
    "    colorbar_ax = fig.add_subplot(gs1[1])\n",
    "\n",
    "    # Plot the contrast grid\n",
    "    plot_contrast_grid(\n",
    "        contrast_grid_axis=contrast_ax,\n",
    "        colorbar_axis=colorbar_ax,\n",
    "        contrast_grid=s4_contrast_grid)\n",
    "\n",
    "    colorbar_ax.yaxis.label.set_size(14)\n",
    "\n",
    "    contrast_ax.set_ylabel(\n",
    "        \"Contrast - $c = f_p / f_*$ - [mag]\", size=14)\n",
    "    contrast_ax.set_xlabel(\n",
    "        r\"Separation [FWHM]\", size=14)\n",
    "    contrast_ax.set_title(\n",
    "        \"Contrast Grid S4 mean \" + model_name,\n",
    "        fontsize=16,\n",
    "        fontweight=\"bold\",\n",
    "        y=1.03)\n",
    "\n",
    "    contrast_ax.tick_params(\n",
    "        axis='both',\n",
    "        which='major',\n",
    "        labelsize=12)\n",
    "\n",
    "    # Save the figure\n",
    "    fig.patch.set_facecolor('white')\n",
    "    plt.savefig(\"contrast_grid_\" + tmp_model + \".pdf\", bbox_inches='tight')"
   ]
  },
  {
   "cell_type": "markdown",
   "id": "da58a043",
   "metadata": {},
   "source": [
    "# Merge the big residual"
   ]
  },
  {
   "cell_type": "code",
   "execution_count": 31,
   "id": "f2df9445",
   "metadata": {},
   "outputs": [
    {
     "name": "stdout",
     "output_type": "stream",
     "text": [
      "s4_mean_planet_learned_fine_tune\n",
      "s4_median_planet_learned_fine_tune\n",
      "s4_mean_planet_learned\n",
      "s4_median_planet_learned\n",
      "s4_mean_raw_model\n",
      "s4_median_raw_model\n",
      "PCA_002_components\n",
      "PCA_004_components\n",
      "PCA_006_components\n",
      "PCA_008_components\n",
      "PCA_010_components\n",
      "PCA_012_components\n",
      "PCA_014_components\n",
      "PCA_016_components\n",
      "PCA_018_components\n",
      "PCA_020_components\n",
      "PCA_025_components\n",
      "PCA_030_components\n",
      "PCA_035_components\n",
      "PCA_040_components\n",
      "PCA_045_components\n",
      "PCA_050_components\n",
      "PCA_060_components\n",
      "PCA_070_components\n",
      "PCA_080_components\n",
      "PCA_090_components\n",
      "PCA_100_components\n",
      "PCA_120_components\n",
      "PCA_140_components\n",
      "PCA_160_components\n",
      "PCA_180_components\n",
      "PCA_200_components\n",
      "PCA_250_components\n",
      "PCA_300_components\n",
      "PCA_350_components\n",
      "PCA_400_components\n",
      "PCA_450_components\n",
      "PCA_500_components\n",
      "cADI\n"
     ]
    }
   ],
   "source": [
    "all_residuals = []\n",
    "\n",
    "for tmp_method_name, tmp_result in contrast_instance.contrast_results.items():\n",
    "    \n",
    "    all_residuals.append(tmp_result.residuals)\n",
    "    print(tmp_method_name)"
   ]
  },
  {
   "cell_type": "code",
   "execution_count": 32,
   "id": "6a059fe2",
   "metadata": {},
   "outputs": [],
   "source": [
    "all_residuals = np.array(all_residuals)"
   ]
  },
  {
   "cell_type": "code",
   "execution_count": 33,
   "id": "0ba93429",
   "metadata": {},
   "outputs": [],
   "source": [
    "save_as_fits(all_residuals, experiment_root_dir / Path(\"merged_residuals_pca_HD22049_303_199_C-0065_C.fits\"))"
   ]
  },
  {
   "cell_type": "markdown",
   "id": "5834190c",
   "metadata": {},
   "source": [
    "# Save the S4 results"
   ]
  },
  {
   "cell_type": "code",
   "execution_count": 34,
   "id": "170e75d0",
   "metadata": {},
   "outputs": [],
   "source": [
    "s4_residuals_with_planet = contrast_instance.contrast_results[\"s4_mean_planet_learned\"].residuals\n",
    "s4_residuals_raw = contrast_instance.contrast_results[\"s4_mean_raw_model\"].residuals"
   ]
  },
  {
   "cell_type": "code",
   "execution_count": 35,
   "id": "ec440bd7",
   "metadata": {},
   "outputs": [],
   "source": [
    "save_as_fits(s4_residuals_with_planet, experiment_root_dir / \n",
    "             Path(\"merged_residuals_s4_planet_HD22049_303_199_C-0065_C.fits\"))\n",
    "\n",
    "save_as_fits(s4_residuals_raw, experiment_root_dir / \n",
    "             Path(\"merged_residuals_s4_raw_HD22049_303_199_C-0065_C.fits\"))"
   ]
  },
  {
   "cell_type": "code",
   "execution_count": null,
   "id": "992e9440",
   "metadata": {},
   "outputs": [],
   "source": []
  }
 ],
 "metadata": {
  "kernelspec": {
   "display_name": "Python 3 (ipykernel)",
   "language": "python",
   "name": "python3"
  },
  "language_info": {
   "codemirror_mode": {
    "name": "ipython",
    "version": 3
   },
   "file_extension": ".py",
   "mimetype": "text/x-python",
   "name": "python",
   "nbconvert_exporter": "python",
   "pygments_lexer": "ipython3",
   "version": "3.10.10"
  }
 },
 "nbformat": 4,
 "nbformat_minor": 5
}
