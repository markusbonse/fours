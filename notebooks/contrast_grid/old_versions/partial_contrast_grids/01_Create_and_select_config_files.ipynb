{
 "cells": [
  {
   "cell_type": "markdown",
   "id": "c54e8e5d",
   "metadata": {},
   "source": [
    "# Imports"
   ]
  },
  {
   "cell_type": "code",
   "execution_count": 1,
   "id": "80f240dd",
   "metadata": {},
   "outputs": [],
   "source": [
    "from pathlib import Path\n",
    "import pickle\n",
    "import pandas as pd\n",
    "\n",
    "import numpy as np\n",
    "import matplotlib.pyplot as plt\n",
    "\n",
    "from applefy.detections.contrast import Contrast\n",
    "from applefy.utils.positions import center_subpixel\n",
    "\n",
    "from applefy.utils.file_handling import load_adi_data\n",
    "from applefy.utils import flux_ratio2mag, mag2flux_ratio"
   ]
  },
  {
   "cell_type": "markdown",
   "id": "cca7c1e7",
   "metadata": {},
   "source": [
    "# Load the data"
   ]
  },
  {
   "cell_type": "code",
   "execution_count": 2,
   "id": "af983550",
   "metadata": {},
   "outputs": [],
   "source": [
    "dataset_name = \"HD22049_303_199_C-0065_C_\""
   ]
  },
  {
   "cell_type": "code",
   "execution_count": 3,
   "id": "99a3aed0",
   "metadata": {},
   "outputs": [],
   "source": [
    "dataset_file = Path(\"/fast/mbonse/s4/30_data/\" + dataset_name + \".hdf5\")\n",
    "experiment_root_dir = Path(\"/fast/mbonse/s4/70_results/07_partial_contrast_grid/\")"
   ]
  },
  {
   "cell_type": "code",
   "execution_count": 4,
   "id": "047a96a5",
   "metadata": {},
   "outputs": [],
   "source": [
    "# we need the psf template for contrast calculation\n",
    "science_data, angles, raw_psf_template_data = load_adi_data(\n",
    "    dataset_file,\n",
    "    data_tag=\"object\",\n",
    "    psf_template_tag=\"psf_template\",\n",
    "    para_tag=\"header_object/PARANG\")\n",
    "\n",
    "dit_psf_template = 0.0042560\n",
    "dit_science = 0.08\n",
    "fwhm = 3.6\n",
    "\n",
    "science_data = science_data[:, 12:-12, 12:-12]\n",
    "\n",
    "psf_template = np.median(raw_psf_template_data, axis=0)\n",
    "psf_template = psf_template - np.min(psf_template)"
   ]
  },
  {
   "cell_type": "markdown",
   "id": "077e4774",
   "metadata": {},
   "source": [
    "# Create the full contrast grid config files"
   ]
  },
  {
   "cell_type": "code",
   "execution_count": 5,
   "id": "3d0eba80",
   "metadata": {},
   "outputs": [],
   "source": [
    "tmp_exp_root = experiment_root_dir / dataset_file.name[:-5]\n",
    "tmp_exp_root.mkdir(exist_ok=True)"
   ]
  },
  {
   "cell_type": "code",
   "execution_count": 6,
   "id": "3e69c1f5",
   "metadata": {},
   "outputs": [],
   "source": [
    "contrast_instance = Contrast(\n",
    "    science_sequence=science_data,\n",
    "    psf_template=psf_template,\n",
    "    parang_rad=angles,\n",
    "    psf_fwhm_radius=fwhm / 2,\n",
    "    dit_psf_template=dit_psf_template,\n",
    "    dit_science=dit_science,\n",
    "    scaling_factor=1., # A factor to account e.g. for ND filters\n",
    "    checkpoint_dir=tmp_exp_root)"
   ]
  },
  {
   "cell_type": "markdown",
   "id": "556af3a7",
   "metadata": {},
   "source": [
    "## Design fake planet experiments"
   ]
  },
  {
   "cell_type": "code",
   "execution_count": 7,
   "id": "acb73b41",
   "metadata": {},
   "outputs": [
    {
     "name": "stdout",
     "output_type": "stream",
     "text": [
      "Brightness of fake planets in mag: [ 5.   5.5  6.   6.5  7.   7.5  8.   8.5  9.   9.5 10.  10.5 11.  11.5\n",
      " 12.  12.5 13. ]\n",
      "Planet-to-star flux ratio: [1.00000000e-02 6.30957344e-03 3.98107171e-03 2.51188643e-03\n",
      " 1.58489319e-03 1.00000000e-03 6.30957344e-04 3.98107171e-04\n",
      " 2.51188643e-04 1.58489319e-04 1.00000000e-04 6.30957344e-05\n",
      " 3.98107171e-05 2.51188643e-05 1.58489319e-05 1.00000000e-05\n",
      " 6.30957344e-06]\n"
     ]
    }
   ],
   "source": [
    "# fake planet brightness\n",
    "flux_ratios_mag = np.linspace(5., 13, 17)\n",
    "flux_ratios = mag2flux_ratio(flux_ratios_mag)\n",
    "\n",
    "print(\"Brightness of fake planets in mag: \" + str(flux_ratios_mag))\n",
    "print(\"Planet-to-star flux ratio: \" + str(flux_ratios))"
   ]
  },
  {
   "cell_type": "code",
   "execution_count": 8,
   "id": "a94c0458",
   "metadata": {},
   "outputs": [
    {
     "data": {
      "text/plain": [
       "array([1.5, 2. , 2.5, 3. , 3.5, 4. , 4.5, 5. , 5.5, 6. ])"
      ]
     },
     "execution_count": 8,
     "metadata": {},
     "output_type": "execute_result"
    }
   ],
   "source": [
    "center = center_subpixel(science_data[0])\n",
    "separations = np.arange(fwhm, fwhm*6.5, fwhm / 2)[1:]\n",
    "separations/3.6"
   ]
  },
  {
   "cell_type": "code",
   "execution_count": 9,
   "id": "0707b210",
   "metadata": {},
   "outputs": [
    {
     "name": "stdout",
     "output_type": "stream",
     "text": [
      "Overwriting existing config files.\n"
     ]
    }
   ],
   "source": [
    "num_fake_planets = 3\n",
    "\n",
    "contrast_instance.design_fake_planet_experiments(\n",
    "    flux_ratios=flux_ratios,\n",
    "    num_planets=num_fake_planets,\n",
    "    separations=separations,\n",
    "    overwrite=True)"
   ]
  },
  {
   "cell_type": "markdown",
   "id": "e8159804",
   "metadata": {},
   "source": [
    "# Load results of analytical contrast curve and select"
   ]
  },
  {
   "cell_type": "code",
   "execution_count": 10,
   "id": "445c0550",
   "metadata": {},
   "outputs": [],
   "source": [
    "contrast_curves = pd.read_pickle(\"../../contrast_curves/HD22049_303_199_C-0065_C__cc.pkl\")"
   ]
  },
  {
   "cell_type": "code",
   "execution_count": 11,
   "id": "e23f1531",
   "metadata": {},
   "outputs": [],
   "source": [
    "pca_contrast_curves = contrast_curves.drop([\"cADI\", \"s4_mean\", \"s4_median\"], axis=1)\n",
    "s4_contrast_curve = contrast_curves[\"s4_mean\"]\n",
    "s4_contrast_curve = flux_ratio2mag(s4_contrast_curve.droplevel(1).iloc[1:11])\n",
    "\n",
    "# compute the overall best contrast curve\n",
    "overall_best_pca = np.min(pca_contrast_curves, axis=1)\n",
    "overall_best_pca = flux_ratio2mag(overall_best_pca.droplevel(1).iloc[1:11])"
   ]
  },
  {
   "cell_type": "markdown",
   "id": "bc6ef916",
   "metadata": {},
   "source": [
    "# Filter for experiments in the range of interest"
   ]
  },
  {
   "cell_type": "code",
   "execution_count": 62,
   "id": "f37c3ec8",
   "metadata": {},
   "outputs": [
    {
     "data": {
      "text/plain": [
       "separation [$FWHM$]\n",
       "1.5     4.5\n",
       "2.0     5.5\n",
       "2.5     6.0\n",
       "3.0     7.5\n",
       "3.5     8.5\n",
       "4.0     9.0\n",
       "4.5     9.5\n",
       "5.0     9.5\n",
       "5.5    10.0\n",
       "6.0    10.5\n",
       "dtype: float64"
      ]
     },
     "execution_count": 62,
     "metadata": {},
     "output_type": "execute_result"
    }
   ],
   "source": [
    "upper_limits = np.floor(overall_best_pca * 2) / 2 - 0.5\n",
    "upper_limits[[1.5, 2.0, 2.5]] -= 1.0\n",
    "upper_limits"
   ]
  },
  {
   "cell_type": "code",
   "execution_count": 63,
   "id": "7c865932",
   "metadata": {},
   "outputs": [],
   "source": [
    "# used to calculate more missing residuals\n",
    "#upper_limits = np.ceil(s4_contrast_curve * 2) / 2 + 1.0\n",
    "#upper_limits"
   ]
  },
  {
   "cell_type": "code",
   "execution_count": 64,
   "id": "e612bbe7",
   "metadata": {},
   "outputs": [
    {
     "data": {
      "text/plain": [
       "separation [$FWHM$]\n",
       "1.5    10.0\n",
       "2.0    11.0\n",
       "2.5    11.5\n",
       "3.0    12.0\n",
       "3.5    12.0\n",
       "4.0    12.5\n",
       "4.5    13.0\n",
       "5.0    13.0\n",
       "5.5    13.5\n",
       "6.0    13.5\n",
       "Name: s4_mean, dtype: float64"
      ]
     },
     "execution_count": 64,
     "metadata": {},
     "output_type": "execute_result"
    }
   ],
   "source": [
    "lower_limits = np.ceil(s4_contrast_curve * 2) / 2 + 1.0\n",
    "lower_limits[[1.5, 2.0, 2.5, 3.0]] += 0.5\n",
    "lower_limits[[1.5, 2.0]] += 0.5\n",
    "lower_limits"
   ]
  },
  {
   "cell_type": "code",
   "execution_count": 65,
   "id": "6bed3f3c",
   "metadata": {},
   "outputs": [],
   "source": [
    "selection_file = \"/fast/mbonse/s4/70_results/07_partial_contrast_grid/01_selection_HD22049_303_199_C-0065_C.txt\"\n",
    "#selection_file = \"/fast/mbonse/s4/70_results/07_partial_contrast_grid/02_selection_HD22049_303_199_C-0065_C.txt\"\n",
    "don_t_use = []\n",
    "do_use = []\n",
    "\n",
    "with open(selection_file, \"w\") as text_file:\n",
    "    num_exp = 0\n",
    "    for tmp_key, values in contrast_instance.experimental_setups.items():\n",
    "\n",
    "        if tmp_key == \"0000\":\n",
    "            text_file.write(dataset_name + \" \" + tmp_key + \"\\n\")\n",
    "            num_exp+=1\n",
    "            do_use.append(tmp_key)\n",
    "            continue\n",
    "\n",
    "        tmp_separation = np.round(values[\"separation\"] / 3.6, 1)\n",
    "        tmp_flux_ratio = np.round(flux_ratio2mag(values[\"flux_ratio\"]), 1)\n",
    "\n",
    "        within_upper_limit = upper_limits[tmp_separation] <= tmp_flux_ratio\n",
    "        within_lower_limit = lower_limits[tmp_separation] >= tmp_flux_ratio\n",
    "\n",
    "        if within_upper_limit and within_lower_limit:\n",
    "            text_file.write(dataset_name + \" \" + tmp_key + \"\\n\")\n",
    "            num_exp+=1\n",
    "            do_use.append(tmp_key)\n",
    "            continue\n",
    "            \n",
    "        don_t_use.append(tmp_key)"
   ]
  },
  {
   "cell_type": "markdown",
   "id": "df72464a",
   "metadata": {},
   "source": [
    "# For S4"
   ]
  },
  {
   "cell_type": "code",
   "execution_count": 66,
   "id": "505f4d83",
   "metadata": {},
   "outputs": [],
   "source": [
    "selection_file = \"/fast/mbonse/s4/70_results/07_partial_contrast_grid/01_s4_HD22049_303_199_C-0065_C.txt\"\n",
    "#selection_file = \"/fast/mbonse/s4/70_results/07_partial_contrast_grid/02_s4_HD22049_303_199_C-0065_C.txt\"\n",
    "\n",
    "\n",
    "with open(selection_file, \"w\") as text_file:\n",
    "    num_exp = 0\n",
    "    for tmp_key, values in contrast_instance.experimental_setups.items():\n",
    "        for setup in [0, 1, 2]:\n",
    "\n",
    "            if tmp_key == \"0000\":\n",
    "                text_file.write(dataset_name + \" \" + tmp_key + \" \" + str(setup) + \"\\n\")\n",
    "                num_exp+=1\n",
    "                continue\n",
    "\n",
    "            tmp_separation = np.round(values[\"separation\"] / 3.6, 1)\n",
    "            tmp_flux_ratio = np.round(flux_ratio2mag(values[\"flux_ratio\"]), 1)\n",
    "\n",
    "            within_upper_limit = upper_limits[tmp_separation] <= tmp_flux_ratio\n",
    "            within_lower_limit = lower_limits[tmp_separation] >= tmp_flux_ratio\n",
    "\n",
    "            if within_upper_limit and within_lower_limit:\n",
    "                text_file.write(dataset_name + \" \" + tmp_key + \" \" + str(setup) + \"\\n\")\n",
    "                num_exp+=1\n",
    "                continue"
   ]
  },
  {
   "cell_type": "code",
   "execution_count": 68,
   "id": "4467e9e6",
   "metadata": {},
   "outputs": [
    {
     "data": {
      "text/plain": [
       "813"
      ]
     },
     "execution_count": 68,
     "metadata": {},
     "output_type": "execute_result"
    }
   ],
   "source": [
    "num_exp"
   ]
  },
  {
   "cell_type": "code",
   "execution_count": 39,
   "id": "dc2f8e3a",
   "metadata": {},
   "outputs": [],
   "source": [
    "with open(\"/fast/mbonse/s4/70_results/07_partial_contrast_grid/01_first_test_s4_HD22049_303_199_C-0065_C.txt\", \"w\") as text_file:\n",
    "    num_exp = 0\n",
    "    for tmp_key, values in contrast_instance.experimental_setups.items():\n",
    "        for setup in [0, 1, 2]:\n",
    "            if tmp_key not in [\"0083a\", \"0105c\", \"0149b\", \"0041b\", \"0096c\"]:\n",
    "                continue\n",
    "\n",
    "            tmp_separation = np.round(values[\"separation\"] / 3.6, 1)\n",
    "            tmp_flux_ratio = np.round(flux_ratio2mag(values[\"flux_ratio\"]), 1)\n",
    "\n",
    "            within_upper_limit = upper_limits[tmp_separation] <= tmp_flux_ratio\n",
    "            within_lower_limit = lower_limits[tmp_separation] >= tmp_flux_ratio\n",
    "\n",
    "            if within_upper_limit and within_lower_limit:\n",
    "                text_file.write(dataset_name + \" \" + tmp_key + \" \" + str(setup) + \"\\n\")\n",
    "                continue"
   ]
  },
  {
   "cell_type": "code",
   "execution_count": 77,
   "id": "df01813c",
   "metadata": {},
   "outputs": [],
   "source": [
    "with open(\"/fast/mbonse/s4/70_results/07_partial_contrast_grid/02_first_test_s4_HD22049_303_199_C-0065_C.txt\", \"w\") as text_file:\n",
    "    num_exp = 0\n",
    "    for tmp_key, values in contrast_instance.experimental_setups.items():\n",
    "        if tmp_key not in [\"0083a\", \"0105c\", \"0149b\", \"0041b\", \"0096c\"]:\n",
    "            continue\n",
    "\n",
    "        tmp_separation = np.round(values[\"separation\"] / 3.6, 1)\n",
    "        tmp_flux_ratio = np.round(flux_ratio2mag(values[\"flux_ratio\"]), 1)\n",
    "\n",
    "        within_upper_limit = upper_limits[tmp_separation] <= tmp_flux_ratio\n",
    "        within_lower_limit = lower_limits[tmp_separation] >= tmp_flux_ratio\n",
    "\n",
    "        if within_upper_limit and within_lower_limit:\n",
    "            text_file.write(dataset_name + \" \" + tmp_key + \"\\n\")\n",
    "            continue"
   ]
  },
  {
   "cell_type": "markdown",
   "id": "ac6b5df3",
   "metadata": {},
   "source": [
    "## Create empty residuals for do not compute residuals"
   ]
  },
  {
   "cell_type": "code",
   "execution_count": 69,
   "id": "a27ad126",
   "metadata": {},
   "outputs": [
    {
     "data": {
      "text/plain": [
       "240"
      ]
     },
     "execution_count": 69,
     "metadata": {},
     "output_type": "execute_result"
    }
   ],
   "source": [
    "len(don_t_use)"
   ]
  },
  {
   "cell_type": "code",
   "execution_count": 70,
   "id": "eb458efe",
   "metadata": {},
   "outputs": [],
   "source": [
    "from applefy.utils.file_handling import save_as_fits\n",
    "from s4hci.detection_limits.applefy_wrapper import PCADataReductionGPU"
   ]
  },
  {
   "cell_type": "code",
   "execution_count": 71,
   "id": "9d33cb22",
   "metadata": {},
   "outputs": [],
   "source": [
    "pca_numbers = np.concatenate(\n",
    "        [np.arange(0, 20, 2)[1:],\n",
    "         np.arange(20, 50, 5),\n",
    "         np.arange(50, 100, 10),\n",
    "         np.arange(100, 200, 20),\n",
    "         np.arange(200, 550, 50)])\n",
    "\n",
    "pca_model = PCADataReductionGPU(\n",
    "    approx_svd=10000,\n",
    "    pca_numbers=pca_numbers,\n",
    "    device=0,\n",
    "    verbose=True)"
   ]
  },
  {
   "cell_type": "code",
   "execution_count": 72,
   "id": "86953ee8",
   "metadata": {},
   "outputs": [],
   "source": [
    "dummy_image = np.ones_like(science_data[0])"
   ]
  },
  {
   "cell_type": "code",
   "execution_count": 73,
   "id": "8d8cd9dd",
   "metadata": {},
   "outputs": [],
   "source": [
    "method_names = pca_model.get_method_keys()\n",
    "method_names.append(\"cADI\")"
   ]
  },
  {
   "cell_type": "code",
   "execution_count": 75,
   "id": "41895765",
   "metadata": {},
   "outputs": [],
   "source": [
    "method_names = [\"s4_mean_raw_model\", \"s4_mean_planet_learned\", \"s4_mean_planet_learned_fine_tune\", \n",
    "                \"s4_median_raw_model\", \"s4_median_planet_learned\", \"s4_median_planet_learned_fine_tune\"]"
   ]
  },
  {
   "cell_type": "code",
   "execution_count": 76,
   "id": "c6ac1814",
   "metadata": {},
   "outputs": [
    {
     "name": "stdout",
     "output_type": "stream",
     "text": [
      "s4_mean_raw_model\n",
      "s4_mean_planet_learned\n",
      "s4_mean_planet_learned_fine_tune\n",
      "s4_median_raw_model\n",
      "s4_median_planet_learned\n",
      "s4_median_planet_learned_fine_tune\n"
     ]
    }
   ],
   "source": [
    "for tmp_method_name in method_names:\n",
    "    print(tmp_method_name)\n",
    "    for tmp_exp_id in don_t_use:\n",
    "        tmp_file = tmp_exp_root / Path(\"residuals\") \\\n",
    "            / Path(tmp_method_name) / Path(\"residual_ID_\" + tmp_exp_id + \".fits\")\n",
    "        \n",
    "        if not tmp_file.is_file():            \n",
    "            save_as_fits(dummy_image, str(tmp_file))"
   ]
  },
  {
   "cell_type": "markdown",
   "id": "0a73224e",
   "metadata": {},
   "source": [
    "# DELETE ALL FILES\n",
    "for tmp_method_name in method_names:\n",
    "    print(tmp_method_name)\n",
    "    for tmp_exp_id in don_t_use:\n",
    "        tmp_file = tmp_exp_root / Path(\"residuals\") \\\n",
    "            / Path(tmp_method_name) / Path(\"residual_ID_\" + tmp_exp_id + \".fits\")\n",
    "        \n",
    "        if tmp_file.is_file():            \n",
    "            tmp_file.unlink()"
   ]
  },
  {
   "cell_type": "code",
   "execution_count": null,
   "id": "6cfaf2e7",
   "metadata": {},
   "outputs": [],
   "source": []
  }
 ],
 "metadata": {
  "kernelspec": {
   "display_name": "Python 3 (ipykernel)",
   "language": "python",
   "name": "python3"
  },
  "language_info": {
   "codemirror_mode": {
    "name": "ipython",
    "version": 3
   },
   "file_extension": ".py",
   "mimetype": "text/x-python",
   "name": "python",
   "nbconvert_exporter": "python",
   "pygments_lexer": "ipython3",
   "version": "3.10.10"
  }
 },
 "nbformat": 4,
 "nbformat_minor": 5
}
