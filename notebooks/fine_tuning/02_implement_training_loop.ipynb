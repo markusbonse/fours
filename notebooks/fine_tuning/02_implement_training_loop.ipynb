{
 "cells": [
  {
   "cell_type": "code",
   "execution_count": 1,
   "id": "2b5498c4",
   "metadata": {},
   "outputs": [],
   "source": [
    "from tqdm import tqdm\n",
    "import numpy as np\n",
    "from pathlib import Path\n",
    "import matplotlib.pyplot as plt\n",
    "\n",
    "import torch\n",
    "import torch.nn as nn\n",
    "import torch.nn.functional as F\n",
    "import torch.multiprocessing as mp\n",
    "\n",
    "from s4hci.utils.data_handling import load_adi_data\n",
    "from s4hci.utils.masks import construct_round_rfrr_template, construct_rfrr_mask\n",
    "from s4hci.utils.s4_rigde import compute_betas_least_square, compute_betas_svd\n",
    "from s4hci.utils.positions import get_validation_positions"
   ]
  },
  {
   "cell_type": "markdown",
   "id": "8f009c26",
   "metadata": {},
   "source": [
    "## Load the data"
   ]
  },
  {
   "cell_type": "code",
   "execution_count": 2,
   "id": "92a9102d",
   "metadata": {},
   "outputs": [
    {
     "name": "stdout",
     "output_type": "stream",
     "text": [
      "Loading data ... [DONE]\n"
     ]
    }
   ],
   "source": [
    "print(\"Loading data ... \", end='')\n",
    "science_data, raw_angles, raw_psf_template_data = \\\n",
    "    load_adi_data(\"/fast/mbonse/s4/30_data/EpsEri_0100_C-0656-A.hdf5\",\n",
    "                  data_tag=\"13_object_final\",\n",
    "                  psf_template_tag=\"10_psf\",\n",
    "                  para_tag=\"header_13_object_final/PARANG\")\n",
    "\n",
    "psf_template_data = np.mean(raw_psf_template_data, axis=0)\n",
    "print(\"[DONE]\")"
   ]
  },
  {
   "cell_type": "code",
   "execution_count": 3,
   "id": "a0bfcc0a",
   "metadata": {},
   "outputs": [],
   "source": [
    "X_train = science_data[0::2]\n",
    "X_test = science_data[1::2]\n",
    "angles_train = raw_angles[0::2]\n",
    "angles_test = raw_angles[1::2]"
   ]
  },
  {
   "cell_type": "code",
   "execution_count": 4,
   "id": "a311fa1e",
   "metadata": {},
   "outputs": [],
   "source": [
    "del science_data\n",
    "del raw_angles\n",
    "del raw_psf_template_data"
   ]
  },
  {
   "cell_type": "markdown",
   "id": "5c059983",
   "metadata": {},
   "source": [
    "## Load the code"
   ]
  },
  {
   "cell_type": "code",
   "execution_count": 5,
   "id": "507f789f",
   "metadata": {},
   "outputs": [],
   "source": [
    "from tqdm import tqdm\n",
    "import numpy as np\n",
    "\n",
    "import torch\n",
    "import torch.nn as nn\n",
    "import torch.nn.functional as F\n",
    "\n",
    "from s4hci.utils.masks import construct_round_rfrr_template, construct_rfrr_mask\n",
    "from s4hci.utils.s4_rigde import compute_betas_least_square, compute_betas_svd\n",
    "from s4hci.utils.positions import get_validation_positions\n",
    "\n",
    "\n",
    "class S4Noise(nn.Module):\n",
    "\n",
    "    def __init__(\n",
    "            self,\n",
    "            data_image_size,\n",
    "            psf_template,\n",
    "            lambda_reg,\n",
    "            cut_radius_psf,\n",
    "            mask_template_setup,\n",
    "            convolve=True,\n",
    "            re_mask=False,\n",
    "            verbose=True,\n",
    "            available_device=\"cpu\"):\n",
    "\n",
    "        super(S4Noise, self).__init__()\n",
    "\n",
    "        # 1.) save the non-model related parameters\n",
    "        self.available_device = available_device\n",
    "        self.verbose = verbose\n",
    "\n",
    "        # 2.) save the simple information\n",
    "        self.image_size = data_image_size\n",
    "        self.lambda_reg = lambda_reg\n",
    "        self.convolve = convolve\n",
    "        self.cut_radius_psf = cut_radius_psf\n",
    "        self.mask_template_setup = mask_template_setup\n",
    "        self.re_mask = re_mask\n",
    "\n",
    "        # 3.) prepare the psf_template\n",
    "        template_cut, _ = construct_round_rfrr_template(\n",
    "            radius=self.cut_radius_psf,\n",
    "            psf_template_in=psf_template)\n",
    "\n",
    "        template_norm = template_cut / np.max(np.abs(template_cut))\n",
    "\n",
    "        self.register_buffer(\n",
    "            \"psf_model\",\n",
    "            torch.from_numpy(template_norm).unsqueeze(0).unsqueeze(0))\n",
    "\n",
    "        # 4.) Initialize the raw beta values\n",
    "        self.betas_raw = nn.Parameter(torch.zeros(\n",
    "            self.image_size ** 2, self.image_size ** 2,\n",
    "            dtype=torch.double))\n",
    "\n",
    "        self.prev_betas = None\n",
    "\n",
    "        # 5.) Set up the buffers for the two masks\n",
    "        if self.verbose:\n",
    "            print(\"Creating right reason mask ... \", end='')\n",
    "\n",
    "        right_reason_mask = construct_rfrr_mask(\n",
    "            template_setup=self.mask_template_setup,\n",
    "            psf_template_in=template_norm,\n",
    "            mask_size_in=self.image_size)\n",
    "\n",
    "        self.register_buffer(\n",
    "            \"right_reason_mask\",\n",
    "            torch.from_numpy(right_reason_mask))\n",
    "\n",
    "        second_mask = construct_rfrr_mask(\n",
    "            template_setup=self.mask_template_setup,\n",
    "            psf_template_in=template_norm,\n",
    "            mask_size_in=self.image_size,\n",
    "            use_template=True)\n",
    "\n",
    "        self.register_buffer(\n",
    "            \"second_mask\",\n",
    "            torch.from_numpy(second_mask))\n",
    "\n",
    "        if self.verbose:\n",
    "            print(\"[DONE]\")\n",
    "\n",
    "        # 6.) Set up the buffers for the normalization\n",
    "        self.register_buffer(\n",
    "            \"mean_frame\",\n",
    "            torch.zeros(\n",
    "                self.image_size,\n",
    "                self.image_size,\n",
    "                dtype=torch.double))\n",
    "\n",
    "        self.register_buffer(\n",
    "            \"std_frame\",\n",
    "            torch.zeros(\n",
    "                self.image_size,\n",
    "                self.image_size,\n",
    "                dtype=torch.double))\n",
    "\n",
    "    def save(self, file_path):\n",
    "        state_dict = self.state_dict()\n",
    "\n",
    "        # add the other information we want to keep\n",
    "        state_dict[\"image_size\"] = self.image_size\n",
    "        state_dict[\"lambda_reg\"] = self.lambda_reg\n",
    "        state_dict[\"convolve\"] = self.convolve\n",
    "        state_dict[\"cut_radius_psf\"] = self.cut_radius_psf\n",
    "        state_dict[\"mask_template_setup\"] = self.mask_template_setup\n",
    "        state_dict[\"re_mask\"] = self.re_mask\n",
    "        torch.save(state_dict, file_path)\n",
    "\n",
    "    @classmethod\n",
    "    def load(\n",
    "            cls,\n",
    "            file_path,\n",
    "            verbose=True,\n",
    "            available_device=\"cpu\"):\n",
    "\n",
    "        state_dict = torch.load(file_path)\n",
    "\n",
    "        # create a dummy psf template\n",
    "        psf_size = state_dict[\"psf_model\"].shape[-1]\n",
    "        dummy_template = np.ones((psf_size, psf_size))\n",
    "\n",
    "        obj = cls(\n",
    "            data_image_size=state_dict.pop('image_size'),\n",
    "            psf_template=dummy_template,\n",
    "            lambda_reg=state_dict.pop('lambda_reg'),\n",
    "            cut_radius_psf=state_dict.pop('cut_radius_psf'),\n",
    "            mask_template_setup=state_dict.pop('mask_template_setup'),\n",
    "            convolve=state_dict.pop('convolve'),\n",
    "            re_mask=state_dict.pop('re_mask'),\n",
    "            verbose=verbose,\n",
    "            available_device=available_device)\n",
    "\n",
    "        obj.load_state_dict(state_dict)\n",
    "        return obj\n",
    "\n",
    "    def _prepare_normalization(\n",
    "            self,\n",
    "            science_data):\n",
    "\n",
    "        if self.verbose:\n",
    "            print(\"Build normalization frames ... \", end='')\n",
    "\n",
    "        self.mean_frame = torch.mean(science_data, axis=0)\n",
    "        self.std_frame = torch.std(science_data, axis=0)\n",
    "\n",
    "        if self.verbose:\n",
    "            print(\"[DONE]\")\n",
    "\n",
    "    def normalize_data(self, science_data):\n",
    "        science_data_mean_shift = science_data - self.mean_frame\n",
    "        return science_data_mean_shift / self.std_frame\n",
    "\n",
    "    def fit(\n",
    "            self,\n",
    "            science_data):\n",
    "\n",
    "        self._prepare_normalization(science_data)\n",
    "        science_data_norm = self.normalize_data(science_data)\n",
    "\n",
    "        positions = [(x, y)\n",
    "                     for x in range(self.image_size)\n",
    "                     for y in range(self.image_size)]\n",
    "\n",
    "        if self.verbose:\n",
    "            print(\"Fitting ... \", end='')\n",
    "\n",
    "        # 2.) Fit all positions\n",
    "        if self.convolve:\n",
    "            p_torch = self.psf_model\n",
    "        else:\n",
    "            p_torch = None\n",
    "\n",
    "        self.betas_raw.data = compute_betas_least_square(\n",
    "            X_torch=science_data_norm,\n",
    "            p_torch=p_torch,\n",
    "            M_torch=self.right_reason_mask,\n",
    "            lambda_reg=self.lambda_reg,\n",
    "            positions=positions,\n",
    "            verbose=self.verbose)\n",
    "\n",
    "        if self.verbose:\n",
    "            print(\"[DONE]\")\n",
    "\n",
    "    def _validate_lambdas_separation(\n",
    "            self,\n",
    "            separation,\n",
    "            lambdas,\n",
    "            science_data_train,\n",
    "            science_data_test,\n",
    "            num_test_positions,\n",
    "            approx_svd=-1\n",
    "    ):\n",
    "\n",
    "        # 1.) get the positions where we evaluate the residual error\n",
    "        if self.verbose:\n",
    "            print(\"Compute validation positions for \"\n",
    "                  \"separation \" + str(separation) + \" ...\")\n",
    "\n",
    "        positions = get_validation_positions(\n",
    "            num_positions=num_test_positions,\n",
    "            separation=separation,\n",
    "            test_image=science_data_train[0].cpu().numpy())\n",
    "\n",
    "        # 2.) Set up the training data\n",
    "        if self.verbose:\n",
    "            print(\"Setup training data for \"\n",
    "                  \"separation \" + str(separation) + \" ...\")\n",
    "\n",
    "        self._prepare_normalization(science_data_train)\n",
    "        science_data_norm = self.normalize_data(science_data_train)\n",
    "\n",
    "        # 3.) Compute the betas\n",
    "        # collect all parameters for the SVD\n",
    "        if self.verbose:\n",
    "            print(\"Compute betas for \"\n",
    "                  \"separation \" + str(separation) + \" ...\")\n",
    "\n",
    "        if self.convolve:\n",
    "            p_torch = self.psf_model\n",
    "        else:\n",
    "            p_torch = None\n",
    "\n",
    "        betas_conv = compute_betas_svd(\n",
    "            X_torch=science_data_norm,\n",
    "            M_torch=self.right_reason_mask,\n",
    "            lambda_regs=lambdas,\n",
    "            positions=positions,\n",
    "            p_torch=p_torch,\n",
    "            approx_svd=approx_svd,\n",
    "            verbose=self.verbose)\n",
    "\n",
    "        # 4.) Re-mask with self.second_mask.\n",
    "        # This step is needed to cut off overflow towards the identity in case\n",
    "        # of small mask sizes\n",
    "        if self.verbose:\n",
    "            print(\"Re-mask betas for \"\n",
    "                  \"separation \" + str(separation) + \" ...\")\n",
    "\n",
    "        re_masked = torch.zeros_like(betas_conv)\n",
    "        all_idx = []\n",
    "        for i, tmp_position in enumerate(positions):\n",
    "            x, y = tmp_position\n",
    "            tmp_idx = x * self.image_size + y\n",
    "            all_idx.append(tmp_idx)\n",
    "\n",
    "            re_masked[i] = betas_conv[i] * self.second_mask[tmp_idx]\n",
    "\n",
    "        # 5.) Predict\n",
    "        if self.verbose:\n",
    "            print(\"Compute validation errors for \"\n",
    "                  \"separation \" + str(separation) + \" ...\")\n",
    "\n",
    "        science_test = science_data_test\n",
    "        science_test = self.normalize_data(science_test)\n",
    "\n",
    "        science_test = science_test.view(science_test.shape[0], -1)\n",
    "        gt_values = science_test[:, all_idx]\n",
    "\n",
    "        median_errors = []\n",
    "\n",
    "        for tmp_lambda_idx in tqdm(range(re_masked.shape[1])):\n",
    "            tmp_beta = re_masked[:, tmp_lambda_idx]\n",
    "            tmp_beta = tmp_beta.view(tmp_beta.shape[0], -1)\n",
    "\n",
    "            tmp_prediction = science_test @ tmp_beta.T\n",
    "            tmp_residual = torch.abs(gt_values - tmp_prediction)\n",
    "\n",
    "            tmp_median_error = torch.median(tmp_residual)\n",
    "            median_errors.append(tmp_median_error.cpu())\n",
    "\n",
    "        # normalize\n",
    "        median_errors = np.array(median_errors)\n",
    "        median_errors -= np.mean(median_errors)\n",
    "        median_errors /= np.std(median_errors)\n",
    "\n",
    "        return median_errors\n",
    "\n",
    "    def validate_lambdas(\n",
    "            self,\n",
    "            num_separations,\n",
    "            lambdas,\n",
    "            science_data_train,\n",
    "            science_data_test,\n",
    "            num_test_positions,\n",
    "            approx_svd=-1\n",
    "    ):\n",
    "        test_image = science_data_train[0]\n",
    "        image_size_radius = int((test_image.shape[0] - 1) / 2)\n",
    "\n",
    "        separations = np.linspace(0, image_size_radius, num_separations + 1,\n",
    "                                  endpoint=False)[1:]\n",
    "\n",
    "        all_results = dict()\n",
    "        for tmp_separation in separations:\n",
    "            tmp_errors = self._validate_lambdas_separation(\n",
    "                separation=tmp_separation,\n",
    "                lambdas=lambdas,\n",
    "                science_data_train=science_data_train,\n",
    "                science_data_test=science_data_test,\n",
    "                num_test_positions=num_test_positions,\n",
    "                approx_svd=approx_svd\n",
    "            )\n",
    "            all_results[tmp_separation] = tmp_errors\n",
    "\n",
    "        # find the best lambda\n",
    "        merged_results = np.array([i for i in all_results.values()])\n",
    "        median_result = np.median(merged_results, axis=0)\n",
    "\n",
    "        best_lambda_idx = np.argmin(median_result)\n",
    "        best_lambda = lambdas[best_lambda_idx]\n",
    "\n",
    "        if self.verbose:\n",
    "            print(\"Recommended Lambda = {:.2f}\".format(best_lambda))\n",
    "            print(\"Make sure to check if the tested range of lambda values is \"\n",
    "                  \"covering the global minimum!\")\n",
    "\n",
    "        self.lambda_reg = best_lambda\n",
    "\n",
    "        return all_results, best_lambda\n",
    "\n",
    "    @property\n",
    "    def betas(self):\n",
    "        if self.prev_betas is None:\n",
    "            self.compute_betas()\n",
    "\n",
    "        return self.prev_betas\n",
    "\n",
    "    def compute_betas(self):\n",
    "        # reshape the raw betas\n",
    "        raw_betas = self.betas_raw.view(\n",
    "            -1,\n",
    "            self.image_size,\n",
    "            self.image_size)\n",
    "\n",
    "        # set regularization_mask values to zero\n",
    "        tmp_weights = raw_betas * self.right_reason_mask\n",
    "\n",
    "        # convolve the weights\n",
    "        tmp_weights = F.conv2d(\n",
    "            tmp_weights.unsqueeze(1),\n",
    "            self.psf_model,\n",
    "            padding=\"same\").view(\n",
    "            self.image_size ** 2,\n",
    "            self.image_size ** 2)\n",
    "\n",
    "        if self.re_mask:\n",
    "            tmp_weights = tmp_weights * self.second_mask.flatten(start_dim=1)\n",
    "\n",
    "        self.prev_betas = tmp_weights\n",
    "\n",
    "    def predict(\n",
    "            self,\n",
    "            science_data\n",
    "    ):\n",
    "        \"\"\"\n",
    "        science_data: shape: (time, x, y), not normalized raw data\n",
    "        \"\"\"\n",
    "\n",
    "        # 1.) normalize the science_data\n",
    "        science_norm = self.normalize_data(science_data)\n",
    "\n",
    "        # 2.) predict the noise\n",
    "        with torch.no_grad():\n",
    "            science_norm_flatten = science_norm.view(\n",
    "                science_norm.shape[0], -1)\n",
    "\n",
    "            noise_estimate = self.forward(science_norm_flatten)\n",
    "\n",
    "        # 3.) compute the residual\n",
    "        residual = science_norm_flatten - noise_estimate\n",
    "\n",
    "        residual = residual.view(\n",
    "            science_norm.shape[0],\n",
    "            self.image_size,\n",
    "            self.image_size)\n",
    "\n",
    "        noise_estimate = noise_estimate.view(\n",
    "            science_norm.shape[0],\n",
    "            self.image_size,\n",
    "            self.image_size)\n",
    "\n",
    "        return residual, noise_estimate\n",
    "\n",
    "    def forward(\n",
    "            self,\n",
    "            science_norm_flatten: torch.Tensor\n",
    "    ) -> torch.Tensor:\n",
    "        \"\"\"\n",
    "        science_norm_flatten: shape: (time, x*y) already normalized\n",
    "        \"\"\"\n",
    "\n",
    "        noise_estimate = science_norm_flatten @ self.betas.T\n",
    "\n",
    "        return noise_estimate\n"
   ]
  },
  {
   "cell_type": "markdown",
   "id": "734b330b",
   "metadata": {},
   "source": [
    "## Load the pre-trained model"
   ]
  },
  {
   "cell_type": "code",
   "execution_count": 6,
   "id": "f7f54c59",
   "metadata": {},
   "outputs": [
    {
     "name": "stdout",
     "output_type": "stream",
     "text": [
      "Creating right reason mask ... [DONE]\n"
     ]
    }
   ],
   "source": [
    "save_path_final = Path(\"/fast/mbonse/s4/70_results/02_fine_tuning/implementation_tests/test_model_trained_2.pkl\")\n",
    "\n",
    "s4_noise_loaded = S4Noise.load(save_path_final)"
   ]
  },
  {
   "cell_type": "markdown",
   "id": "41696bc5",
   "metadata": {},
   "source": [
    "## Run some simple training"
   ]
  },
  {
   "cell_type": "code",
   "execution_count": 7,
   "id": "8ab2aac6",
   "metadata": {},
   "outputs": [],
   "source": [
    "import torch\n",
    "from torch import nn\n",
    "from torch import optim"
   ]
  },
  {
   "cell_type": "code",
   "execution_count": 8,
   "id": "5a4fdb02",
   "metadata": {},
   "outputs": [],
   "source": [
    "X_train_torch = torch.from_numpy(X_train)#.float()\n",
    "s4_noise_loaded = s4_noise_loaded#.float()"
   ]
  },
  {
   "cell_type": "code",
   "execution_count": 9,
   "id": "20794f58",
   "metadata": {},
   "outputs": [],
   "source": [
    "s4_noise_loaded = s4_noise_loaded.to(0)\n",
    "X_train_torch = X_train_torch.to(0)"
   ]
  },
  {
   "cell_type": "code",
   "execution_count": 10,
   "id": "8fe7f6bd",
   "metadata": {},
   "outputs": [],
   "source": [
    "torch.set_float32_matmul_precision(\"high\")"
   ]
  },
  {
   "cell_type": "code",
   "execution_count": 11,
   "id": "9fe64ee5",
   "metadata": {},
   "outputs": [],
   "source": [
    "# Normalize the data\n",
    "science_norm = s4_noise_loaded.normalize_data(X_train_torch)\n",
    "\n",
    "# reshape the science data\n",
    "science_norm_flatten = science_norm.view(\n",
    "    science_norm.shape[0], -1)"
   ]
  },
  {
   "cell_type": "code",
   "execution_count": 12,
   "id": "d7d5a9b2",
   "metadata": {},
   "outputs": [],
   "source": [
    "optimizer = optim.SGD(\n",
    "    [s4_noise_loaded.betas_raw,],\n",
    "    lr=1e-3,\n",
    "    momentum=0.9)"
   ]
  },
  {
   "cell_type": "code",
   "execution_count": 61,
   "id": "27846806",
   "metadata": {
    "scrolled": true
   },
   "outputs": [
    {
     "name": "stderr",
     "output_type": "stream",
     "text": [
      "\r",
      "  0%|                                                                                                                                                                               | 0/500 [00:00<?, ?it/s]"
     ]
    },
    {
     "name": "stdout",
     "output_type": "stream",
     "text": [
      "1.160670280456543\n",
      "60.2990608215332\n",
      "---\n"
     ]
    },
    {
     "data": {
      "image/png": "[encoded data removed]",
      "text/plain": [
       "<Figure size 640x480 with 1 Axes>"
      ]
     },
     "metadata": {},
     "output_type": "display_data"
    },
    {
     "name": "stderr",
     "output_type": "stream",
     "text": [
      "  0%|▋                                                                                                                                                                      | 2/500 [00:00<03:36,  2.30it/s]"
     ]
    },
    {
     "name": "stdout",
     "output_type": "stream",
     "text": [
      "1.1203566789627075\n",
      "60.29669952392578\n",
      "---\n"
     ]
    },
    {
     "name": "stderr",
     "output_type": "stream",
     "text": [
      "\r",
      "  1%|█                                                                                                                                                                      | 3/500 [00:01<03:26,  2.41it/s]"
     ]
    },
    {
     "name": "stdout",
     "output_type": "stream",
     "text": [
      "1.118394136428833\n",
      "60.29220962524414\n",
      "---\n"
     ]
    },
    {
     "name": "stderr",
     "output_type": "stream",
     "text": [
      "\r",
      "  1%|█▎                                                                                                                                                                     | 4/500 [00:01<03:21,  2.46it/s]"
     ]
    },
    {
     "name": "stdout",
     "output_type": "stream",
     "text": [
      "1.1454628705978394\n",
      "60.28580093383789\n",
      "---\n"
     ]
    },
    {
     "name": "stderr",
     "output_type": "stream",
     "text": [
      "\r",
      "  1%|█▋                                                                                                                                                                     | 5/500 [00:02<03:18,  2.49it/s]"
     ]
    },
    {
     "name": "stdout",
     "output_type": "stream",
     "text": [
      "1.1389344930648804\n",
      "60.27766036987305\n",
      "---\n"
     ]
    },
    {
     "name": "stderr",
     "output_type": "stream",
     "text": [
      "\r",
      "  1%|██                                                                                                                                                                     | 6/500 [00:02<03:16,  2.51it/s]"
     ]
    },
    {
     "name": "stdout",
     "output_type": "stream",
     "text": [
      "1.1124013662338257\n",
      "60.26795959472656\n",
      "---\n"
     ]
    },
    {
     "name": "stderr",
     "output_type": "stream",
     "text": [
      "\r",
      "  1%|██▎                                                                                                                                                                    | 7/500 [00:02<03:15,  2.53it/s]"
     ]
    },
    {
     "name": "stdout",
     "output_type": "stream",
     "text": [
      "1.1154245138168335\n",
      "60.25685119628906\n",
      "---\n"
     ]
    },
    {
     "name": "stderr",
     "output_type": "stream",
     "text": [
      "\r",
      "  2%|██▋                                                                                                                                                                    | 8/500 [00:03<03:14,  2.53it/s]"
     ]
    },
    {
     "name": "stdout",
     "output_type": "stream",
     "text": [
      "1.1324028968811035\n",
      "60.2445068359375\n",
      "---\n"
     ]
    },
    {
     "name": "stderr",
     "output_type": "stream",
     "text": [
      "\r",
      "  2%|███                                                                                                                                                                    | 9/500 [00:03<03:13,  2.54it/s]"
     ]
    },
    {
     "name": "stdout",
     "output_type": "stream",
     "text": [
      "1.124632477760315\n",
      "60.23103332519531\n",
      "---\n"
     ]
    },
    {
     "name": "stderr",
     "output_type": "stream",
     "text": [
      "\r",
      "  2%|███▎                                                                                                                                                                  | 10/500 [00:04<03:12,  2.54it/s]"
     ]
    },
    {
     "name": "stdout",
     "output_type": "stream",
     "text": [
      "1.1083855628967285\n",
      "60.21654510498047\n",
      "---\n"
     ]
    },
    {
     "name": "stderr",
     "output_type": "stream",
     "text": [
      "\r",
      "  2%|███▋                                                                                                                                                                  | 11/500 [00:04<03:12,  2.54it/s]"
     ]
    },
    {
     "name": "stdout",
     "output_type": "stream",
     "text": [
      "1.1134079694747925\n",
      "60.20114517211914\n",
      "---\n"
     ]
    },
    {
     "name": "stderr",
     "output_type": "stream",
     "text": [
      "\r",
      "  2%|███▉                                                                                                                                                                  | 12/500 [00:04<03:11,  2.54it/s]"
     ]
    },
    {
     "name": "stdout",
     "output_type": "stream",
     "text": [
      "1.1236056089401245\n",
      "60.18492126464844\n",
      "---\n"
     ]
    },
    {
     "name": "stderr",
     "output_type": "stream",
     "text": [
      "\r",
      "  3%|████▎                                                                                                                                                                 | 13/500 [00:05<03:11,  2.55it/s]"
     ]
    },
    {
     "name": "stdout",
     "output_type": "stream",
     "text": [
      "1.116308331489563\n",
      "60.167945861816406\n",
      "---\n"
     ]
    },
    {
     "name": "stderr",
     "output_type": "stream",
     "text": [
      "\r",
      "  3%|████▋                                                                                                                                                                 | 14/500 [00:05<03:10,  2.55it/s]"
     ]
    },
    {
     "name": "stdout",
     "output_type": "stream",
     "text": [
      "1.106667160987854\n",
      "60.150306701660156\n",
      "---\n"
     ]
    },
    {
     "name": "stderr",
     "output_type": "stream",
     "text": [
      "\r",
      "  3%|████▉                                                                                                                                                                 | 15/500 [00:05<03:10,  2.55it/s]"
     ]
    },
    {
     "name": "stdout",
     "output_type": "stream",
     "text": [
      "1.1115083694458008\n",
      "60.13207244873047\n",
      "---\n"
     ]
    },
    {
     "name": "stderr",
     "output_type": "stream",
     "text": [
      "\r",
      "  3%|█████▎                                                                                                                                                                | 16/500 [00:06<03:10,  2.55it/s]"
     ]
    },
    {
     "name": "stdout",
     "output_type": "stream",
     "text": [
      "1.1169623136520386\n",
      "60.11330032348633\n",
      "---\n"
     ]
    },
    {
     "name": "stderr",
     "output_type": "stream",
     "text": [
      "\r",
      "  3%|█████▋                                                                                                                                                                | 17/500 [00:06<03:09,  2.55it/s]"
     ]
    },
    {
     "name": "stdout",
     "output_type": "stream",
     "text": [
      "1.110722541809082\n",
      "60.094058990478516\n",
      "---\n"
     ]
    },
    {
     "name": "stderr",
     "output_type": "stream",
     "text": [
      "\r",
      "  4%|█████▉                                                                                                                                                                | 18/500 [00:07<03:09,  2.55it/s]"
     ]
    },
    {
     "name": "stdout",
     "output_type": "stream",
     "text": [
      "1.105165958404541\n",
      "60.07438278198242\n",
      "---\n"
     ]
    },
    {
     "name": "stderr",
     "output_type": "stream",
     "text": [
      "\r",
      "  4%|██████▎                                                                                                                                                               | 19/500 [00:07<03:08,  2.55it/s]"
     ]
    },
    {
     "name": "stdout",
     "output_type": "stream",
     "text": [
      "1.1091532707214355\n",
      "60.05431365966797\n",
      "---\n"
     ]
    },
    {
     "name": "stderr",
     "output_type": "stream",
     "text": [
      "\r",
      "  4%|██████▋                                                                                                                                                               | 20/500 [00:07<03:08,  2.55it/s]"
     ]
    },
    {
     "name": "stdout",
     "output_type": "stream",
     "text": [
      "1.1118190288543701\n",
      "60.03389358520508\n",
      "---\n"
     ]
    },
    {
     "name": "stderr",
     "output_type": "stream",
     "text": [
      "\r",
      "  4%|██████▉                                                                                                                                                               | 21/500 [00:08<03:07,  2.55it/s]"
     ]
    },
    {
     "name": "stdout",
     "output_type": "stream",
     "text": [
      "1.107047200202942\n",
      "60.01316452026367\n",
      "---\n"
     ]
    },
    {
     "name": "stderr",
     "output_type": "stream",
     "text": [
      "\r",
      "  4%|███████▎                                                                                                                                                              | 22/500 [00:08<03:07,  2.55it/s]"
     ]
    },
    {
     "name": "stdout",
     "output_type": "stream",
     "text": [
      "1.1042231321334839\n",
      "59.99214172363281\n",
      "---\n"
     ]
    },
    {
     "name": "stderr",
     "output_type": "stream",
     "text": [
      "\r",
      "  5%|███████▋                                                                                                                                                              | 23/500 [00:09<03:07,  2.55it/s]"
     ]
    },
    {
     "name": "stdout",
     "output_type": "stream",
     "text": [
      "1.1073845624923706\n",
      "59.97087860107422\n",
      "---\n"
     ]
    },
    {
     "name": "stderr",
     "output_type": "stream",
     "text": [
      "\r",
      "  5%|███████▉                                                                                                                                                              | 24/500 [00:09<03:06,  2.55it/s]"
     ]
    },
    {
     "name": "stdout",
     "output_type": "stream",
     "text": [
      "1.108550786972046\n",
      "59.94938659667969\n",
      "---\n"
     ]
    },
    {
     "name": "stderr",
     "output_type": "stream",
     "text": [
      "\r",
      "  5%|████████▎                                                                                                                                                             | 25/500 [00:09<03:06,  2.55it/s]"
     ]
    },
    {
     "name": "stdout",
     "output_type": "stream",
     "text": [
      "1.1051719188690186\n",
      "59.927696228027344\n",
      "---\n"
     ]
    },
    {
     "name": "stderr",
     "output_type": "stream",
     "text": [
      "\r",
      "  5%|████████▋                                                                                                                                                             | 26/500 [00:10<03:06,  2.55it/s]"
     ]
    },
    {
     "name": "stdout",
     "output_type": "stream",
     "text": [
      "1.103901743888855\n",
      "59.90582275390625\n",
      "---\n"
     ]
    },
    {
     "name": "stderr",
     "output_type": "stream",
     "text": [
      "\r",
      "  5%|████████▉                                                                                                                                                             | 27/500 [00:10<03:05,  2.55it/s]"
     ]
    },
    {
     "name": "stdout",
     "output_type": "stream",
     "text": [
      "1.1061924695968628\n",
      "59.883792877197266\n",
      "---\n"
     ]
    },
    {
     "name": "stderr",
     "output_type": "stream",
     "text": [
      "\r",
      "  6%|█████████▎                                                                                                                                                            | 28/500 [00:11<03:05,  2.55it/s]"
     ]
    },
    {
     "name": "stdout",
     "output_type": "stream",
     "text": [
      "1.1064603328704834\n",
      "59.861610412597656\n",
      "---\n"
     ]
    },
    {
     "name": "stderr",
     "output_type": "stream",
     "text": [
      "\r",
      "  6%|█████████▋                                                                                                                                                            | 29/500 [00:11<03:04,  2.55it/s]"
     ]
    },
    {
     "name": "stdout",
     "output_type": "stream",
     "text": [
      "1.1040536165237427\n",
      "59.83929443359375\n",
      "---\n"
     ]
    },
    {
     "name": "stderr",
     "output_type": "stream",
     "text": [
      "\r",
      "  6%|█████████▉                                                                                                                                                            | 30/500 [00:11<03:04,  2.54it/s]"
     ]
    },
    {
     "name": "stdout",
     "output_type": "stream",
     "text": [
      "1.1035751104354858\n",
      "59.81686782836914\n",
      "---\n"
     ]
    },
    {
     "name": "stderr",
     "output_type": "stream",
     "text": [
      "\r",
      "  6%|██████████▎                                                                                                                                                           | 31/500 [00:12<03:04,  2.55it/s]"
     ]
    },
    {
     "name": "stdout",
     "output_type": "stream",
     "text": [
      "1.1050758361816406\n",
      "59.794334411621094\n",
      "---\n"
     ]
    },
    {
     "name": "stderr",
     "output_type": "stream",
     "text": [
      "\r",
      "  6%|██████████▌                                                                                                                                                           | 32/500 [00:12<03:03,  2.55it/s]"
     ]
    },
    {
     "name": "stdout",
     "output_type": "stream",
     "text": [
      "1.1048592329025269\n",
      "59.77171325683594\n",
      "---\n"
     ]
    },
    {
     "name": "stderr",
     "output_type": "stream",
     "text": [
      "\r",
      "  7%|██████████▉                                                                                                                                                           | 33/500 [00:13<03:03,  2.55it/s]"
     ]
    },
    {
     "name": "stdout",
     "output_type": "stream",
     "text": [
      "1.1032272577285767\n",
      "59.7490119934082\n",
      "---\n"
     ]
    },
    {
     "name": "stderr",
     "output_type": "stream",
     "text": [
      "\r",
      "  7%|███████████▎                                                                                                                                                          | 34/500 [00:13<03:03,  2.55it/s]"
     ]
    },
    {
     "name": "stdout",
     "output_type": "stream",
     "text": [
      "1.1031465530395508\n",
      "59.726234436035156\n",
      "---\n"
     ]
    },
    {
     "name": "stderr",
     "output_type": "stream",
     "text": [
      "\r",
      "  7%|███████████▌                                                                                                                                                          | 35/500 [00:13<03:02,  2.55it/s]"
     ]
    },
    {
     "name": "stdout",
     "output_type": "stream",
     "text": [
      "1.104107141494751\n",
      "59.703392028808594\n",
      "---\n"
     ]
    },
    {
     "name": "stderr",
     "output_type": "stream",
     "text": [
      "\r",
      "  7%|███████████▉                                                                                                                                                          | 36/500 [00:14<03:02,  2.55it/s]"
     ]
    },
    {
     "name": "stdout",
     "output_type": "stream",
     "text": [
      "1.103756070137024\n",
      "59.68050003051758\n",
      "---\n"
     ]
    },
    {
     "name": "stderr",
     "output_type": "stream",
     "text": [
      "\r",
      "  7%|████████████▎                                                                                                                                                         | 37/500 [00:14<03:01,  2.55it/s]"
     ]
    },
    {
     "name": "stdout",
     "output_type": "stream",
     "text": [
      "1.1027181148529053\n",
      "59.65754318237305\n",
      "---\n"
     ]
    },
    {
     "name": "stderr",
     "output_type": "stream",
     "text": [
      "\r",
      "  8%|████████████▌                                                                                                                                                         | 38/500 [00:15<03:01,  2.55it/s]"
     ]
    },
    {
     "name": "stdout",
     "output_type": "stream",
     "text": [
      "1.102849006652832\n",
      "59.63454818725586\n",
      "---\n"
     ]
    },
    {
     "name": "stderr",
     "output_type": "stream",
     "text": [
      "\r",
      "  8%|████████████▉                                                                                                                                                         | 39/500 [00:15<03:00,  2.55it/s]"
     ]
    },
    {
     "name": "stdout",
     "output_type": "stream",
     "text": [
      "1.1034538745880127\n",
      "59.61152267456055\n",
      "---\n"
     ]
    },
    {
     "name": "stderr",
     "output_type": "stream",
     "text": [
      "\r",
      "  8%|█████████████▎                                                                                                                                                        | 40/500 [00:15<03:00,  2.55it/s]"
     ]
    },
    {
     "name": "stdout",
     "output_type": "stream",
     "text": [
      "1.1030809879302979\n",
      "59.58844757080078\n",
      "---\n"
     ]
    },
    {
     "name": "stderr",
     "output_type": "stream",
     "text": [
      "\r",
      "  8%|█████████████▌                                                                                                                                                        | 41/500 [00:16<03:00,  2.55it/s]"
     ]
    },
    {
     "name": "stdout",
     "output_type": "stream",
     "text": [
      "1.1024380922317505\n",
      "59.56534957885742\n",
      "---\n"
     ]
    },
    {
     "name": "stderr",
     "output_type": "stream",
     "text": [
      "\r",
      "  8%|█████████████▉                                                                                                                                                        | 42/500 [00:16<02:59,  2.55it/s]"
     ]
    },
    {
     "name": "stdout",
     "output_type": "stream",
     "text": [
      "1.1026203632354736\n",
      "59.54222106933594\n",
      "---\n"
     ]
    },
    {
     "name": "stderr",
     "output_type": "stream",
     "text": [
      "\r",
      "  9%|██████████████▎                                                                                                                                                       | 43/500 [00:16<02:59,  2.55it/s]"
     ]
    },
    {
     "name": "stdout",
     "output_type": "stream",
     "text": [
      "1.102952003479004\n",
      "59.51908874511719\n",
      "---\n"
     ]
    },
    {
     "name": "stderr",
     "output_type": "stream",
     "text": [
      "\r",
      "  9%|██████████████▌                                                                                                                                                       | 44/500 [00:17<02:58,  2.55it/s]"
     ]
    },
    {
     "name": "stdout",
     "output_type": "stream",
     "text": [
      "1.1026155948638916\n",
      "59.49591827392578\n",
      "---\n"
     ]
    },
    {
     "name": "stderr",
     "output_type": "stream",
     "text": [
      "\r",
      "  9%|██████████████▉                                                                                                                                                       | 45/500 [00:17<02:58,  2.55it/s]"
     ]
    },
    {
     "name": "stdout",
     "output_type": "stream",
     "text": [
      "1.102226734161377\n",
      "59.47272872924805\n",
      "---\n"
     ]
    },
    {
     "name": "stderr",
     "output_type": "stream",
     "text": [
      "\r",
      "  9%|███████████████▎                                                                                                                                                      | 46/500 [00:18<02:58,  2.55it/s]"
     ]
    },
    {
     "name": "stdout",
     "output_type": "stream",
     "text": [
      "1.1023963689804077\n",
      "59.44953155517578\n",
      "---\n"
     ]
    },
    {
     "name": "stderr",
     "output_type": "stream",
     "text": [
      "\r",
      "  9%|███████████████▌                                                                                                                                                      | 47/500 [00:18<02:57,  2.55it/s]"
     ]
    },
    {
     "name": "stdout",
     "output_type": "stream",
     "text": [
      "1.1025676727294922\n",
      "59.426326751708984\n",
      "---\n"
     ]
    },
    {
     "name": "stderr",
     "output_type": "stream",
     "text": [
      "\r",
      " 10%|███████████████▉                                                                                                                                                      | 48/500 [00:18<02:57,  2.54it/s]"
     ]
    },
    {
     "name": "stdout",
     "output_type": "stream",
     "text": [
      "1.102295994758606\n",
      "59.40310287475586\n",
      "---\n"
     ]
    },
    {
     "name": "stderr",
     "output_type": "stream",
     "text": [
      "\r",
      " 10%|████████████████▎                                                                                                                                                     | 49/500 [00:19<02:57,  2.54it/s]"
     ]
    },
    {
     "name": "stdout",
     "output_type": "stream",
     "text": [
      "1.1020758152008057\n",
      "59.379886627197266\n",
      "---\n",
      "1.1022205352783203\n",
      "59.356651306152344\n",
      "---\n"
     ]
    },
    {
     "data": {
      "image/png": "[encoded data removed]",
      "text/plain": [
       "<Figure size 640x480 with 1 Axes>"
      ]
     },
     "metadata": {},
     "output_type": "display_data"
    },
    {
     "name": "stderr",
     "output_type": "stream",
     "text": [
      " 10%|████████████████▉                                                                                                                                                     | 51/500 [00:20<03:06,  2.41it/s]"
     ]
    },
    {
     "name": "stdout",
     "output_type": "stream",
     "text": [
      "1.1022987365722656\n",
      "59.333412170410156\n",
      "---\n"
     ]
    },
    {
     "name": "stderr",
     "output_type": "stream",
     "text": [
      "\r",
      " 10%|█████████████████▎                                                                                                                                                    | 52/500 [00:20<03:02,  2.45it/s]"
     ]
    },
    {
     "name": "stdout",
     "output_type": "stream",
     "text": [
      "1.1021007299423218\n",
      "59.310176849365234\n",
      "---\n"
     ]
    },
    {
     "name": "stderr",
     "output_type": "stream",
     "text": [
      "\r",
      " 11%|█████████████████▌                                                                                                                                                    | 53/500 [00:21<03:00,  2.48it/s]"
     ]
    },
    {
     "name": "stdout",
     "output_type": "stream",
     "text": [
      "1.101988673210144\n",
      "59.286930084228516\n",
      "---\n"
     ]
    },
    {
     "name": "stderr",
     "output_type": "stream",
     "text": [
      "\r",
      " 11%|█████████████████▉                                                                                                                                                    | 54/500 [00:21<02:58,  2.49it/s]"
     ]
    },
    {
     "name": "stdout",
     "output_type": "stream",
     "text": [
      "1.102101445198059\n",
      "59.26368713378906\n",
      "---\n"
     ]
    },
    {
     "name": "stderr",
     "output_type": "stream",
     "text": [
      "\r",
      " 11%|██████████████████▎                                                                                                                                                   | 55/500 [00:21<02:57,  2.51it/s]"
     ]
    },
    {
     "name": "stdout",
     "output_type": "stream",
     "text": [
      "1.102124810218811\n",
      "59.24044418334961\n",
      "---\n"
     ]
    },
    {
     "name": "stderr",
     "output_type": "stream",
     "text": [
      "\r",
      " 11%|██████████████████▌                                                                                                                                                   | 56/500 [00:22<02:56,  2.52it/s]"
     ]
    },
    {
     "name": "stdout",
     "output_type": "stream",
     "text": [
      "1.1019830703735352\n",
      "59.217201232910156\n",
      "---\n"
     ]
    },
    {
     "name": "stderr",
     "output_type": "stream",
     "text": [
      "\r",
      " 11%|██████████████████▉                                                                                                                                                   | 57/500 [00:22<02:55,  2.52it/s]"
     ]
    },
    {
     "name": "stdout",
     "output_type": "stream",
     "text": [
      "1.1019271612167358\n",
      "59.19396209716797\n",
      "---\n"
     ]
    },
    {
     "name": "stderr",
     "output_type": "stream",
     "text": [
      "\r",
      " 12%|███████████████████▎                                                                                                                                                  | 58/500 [00:22<02:54,  2.53it/s]"
     ]
    },
    {
     "name": "stdout",
     "output_type": "stream",
     "text": [
      "1.1020020246505737\n",
      "59.17072677612305\n",
      "---\n"
     ]
    },
    {
     "name": "stderr",
     "output_type": "stream",
     "text": [
      "\r",
      " 12%|███████████████████▌                                                                                                                                                  | 59/500 [00:23<02:54,  2.53it/s]"
     ]
    },
    {
     "name": "stdout",
     "output_type": "stream",
     "text": [
      "1.10199773311615\n",
      "59.147491455078125\n",
      "---\n"
     ]
    },
    {
     "name": "stderr",
     "output_type": "stream",
     "text": [
      "\r",
      " 12%|███████████████████▉                                                                                                                                                  | 60/500 [00:23<02:53,  2.53it/s]"
     ]
    },
    {
     "name": "stdout",
     "output_type": "stream",
     "text": [
      "1.101897120475769\n",
      "59.124263763427734\n",
      "---\n"
     ]
    },
    {
     "name": "stderr",
     "output_type": "stream",
     "text": [
      "\r",
      " 12%|████████████████████▎                                                                                                                                                 | 61/500 [00:24<02:53,  2.53it/s]"
     ]
    },
    {
     "name": "stdout",
     "output_type": "stream",
     "text": [
      "1.1018749475479126\n",
      "59.101036071777344\n",
      "---\n"
     ]
    },
    {
     "name": "stderr",
     "output_type": "stream",
     "text": [
      "\r",
      " 12%|████████████████████▌                                                                                                                                                 | 62/500 [00:24<02:52,  2.54it/s]"
     ]
    },
    {
     "name": "stdout",
     "output_type": "stream",
     "text": [
      "1.1019282341003418\n",
      "59.07781982421875\n",
      "---\n"
     ]
    },
    {
     "name": "stderr",
     "output_type": "stream",
     "text": [
      "\r",
      " 13%|████████████████████▉                                                                                                                                                 | 63/500 [00:24<02:52,  2.54it/s]"
     ]
    },
    {
     "name": "stdout",
     "output_type": "stream",
     "text": [
      "1.1019108295440674\n",
      "59.054603576660156\n",
      "---\n"
     ]
    },
    {
     "name": "stderr",
     "output_type": "stream",
     "text": [
      "\r",
      " 13%|█████████████████████▏                                                                                                                                                | 64/500 [00:25<02:51,  2.54it/s]"
     ]
    },
    {
     "name": "stdout",
     "output_type": "stream",
     "text": [
      "1.101845622062683\n",
      "59.03139114379883\n",
      "---\n"
     ]
    },
    {
     "name": "stderr",
     "output_type": "stream",
     "text": [
      "\r",
      " 13%|█████████████████████▌                                                                                                                                                | 65/500 [00:25<02:51,  2.54it/s]"
     ]
    },
    {
     "name": "stdout",
     "output_type": "stream",
     "text": [
      "1.1018415689468384\n",
      "59.0081901550293\n",
      "---\n"
     ]
    },
    {
     "name": "stderr",
     "output_type": "stream",
     "text": [
      "\r",
      " 13%|█████████████████████▉                                                                                                                                                | 66/500 [00:26<02:50,  2.54it/s]"
     ]
    },
    {
     "name": "stdout",
     "output_type": "stream",
     "text": [
      "1.10187566280365\n",
      "58.98499298095703\n",
      "---\n"
     ]
    },
    {
     "name": "stderr",
     "output_type": "stream",
     "text": [
      "\r",
      " 13%|██████████████████████▏                                                                                                                                               | 67/500 [00:26<02:50,  2.54it/s]"
     ]
    },
    {
     "name": "stdout",
     "output_type": "stream",
     "text": [
      "1.1018587350845337\n",
      "58.96179962158203\n",
      "---\n"
     ]
    },
    {
     "name": "stderr",
     "output_type": "stream",
     "text": [
      "\r",
      " 14%|██████████████████████▌                                                                                                                                               | 68/500 [00:26<02:50,  2.54it/s]"
     ]
    },
    {
     "name": "stdout",
     "output_type": "stream",
     "text": [
      "1.1018197536468506\n",
      "58.938621520996094\n",
      "---\n"
     ]
    },
    {
     "name": "stderr",
     "output_type": "stream",
     "text": [
      "\r",
      " 14%|██████████████████████▉                                                                                                                                               | 69/500 [00:27<02:49,  2.54it/s]"
     ]
    },
    {
     "name": "stdout",
     "output_type": "stream",
     "text": [
      "1.101826548576355\n",
      "58.915443420410156\n",
      "---\n"
     ]
    },
    {
     "name": "stderr",
     "output_type": "stream",
     "text": [
      "\r",
      " 14%|███████████████████████▏                                                                                                                                              | 70/500 [00:27<02:49,  2.54it/s]"
     ]
    },
    {
     "name": "stdout",
     "output_type": "stream",
     "text": [
      "1.1018478870391846\n",
      "58.89227294921875\n",
      "---\n"
     ]
    },
    {
     "name": "stderr",
     "output_type": "stream",
     "text": [
      "\r",
      " 14%|███████████████████████▌                                                                                                                                              | 71/500 [00:28<02:48,  2.54it/s]"
     ]
    },
    {
     "name": "stdout",
     "output_type": "stream",
     "text": [
      "1.1018319129943848\n",
      "58.86910629272461\n",
      "---\n"
     ]
    },
    {
     "name": "stderr",
     "output_type": "stream",
     "text": [
      "\r",
      " 14%|███████████████████████▉                                                                                                                                              | 72/500 [00:28<02:48,  2.54it/s]"
     ]
    },
    {
     "name": "stdout",
     "output_type": "stream",
     "text": [
      "1.1018097400665283\n",
      "58.84595489501953\n",
      "---\n"
     ]
    },
    {
     "name": "stderr",
     "output_type": "stream",
     "text": [
      "\r",
      " 15%|████████████████████████▏                                                                                                                                             | 73/500 [00:28<02:48,  2.54it/s]"
     ]
    },
    {
     "name": "stdout",
     "output_type": "stream",
     "text": [
      "1.1018201112747192\n",
      "58.82280349731445\n",
      "---\n"
     ]
    },
    {
     "name": "stderr",
     "output_type": "stream",
     "text": [
      "\r",
      " 15%|████████████████████████▌                                                                                                                                             | 74/500 [00:29<02:47,  2.54it/s]"
     ]
    },
    {
     "name": "stdout",
     "output_type": "stream",
     "text": [
      "1.1018331050872803\n",
      "58.7996711730957\n",
      "---\n"
     ]
    },
    {
     "name": "stderr",
     "output_type": "stream",
     "text": [
      "\r",
      " 15%|████████████████████████▉                                                                                                                                             | 75/500 [00:29<02:47,  2.54it/s]"
     ]
    },
    {
     "name": "stdout",
     "output_type": "stream",
     "text": [
      "1.101823091506958\n",
      "58.77653503417969\n",
      "---\n"
     ]
    },
    {
     "name": "stderr",
     "output_type": "stream",
     "text": [
      "\r",
      " 15%|█████████████████████████▏                                                                                                                                            | 76/500 [00:30<02:47,  2.54it/s]"
     ]
    },
    {
     "name": "stdout",
     "output_type": "stream",
     "text": [
      "1.1018130779266357\n",
      "58.753414154052734\n",
      "---\n"
     ]
    },
    {
     "name": "stderr",
     "output_type": "stream",
     "text": [
      "\r",
      " 15%|█████████████████████████▌                                                                                                                                            | 77/500 [00:30<02:46,  2.54it/s]"
     ]
    },
    {
     "name": "stdout",
     "output_type": "stream",
     "text": [
      "1.1018248796463013\n",
      "58.73029708862305\n",
      "---\n"
     ]
    },
    {
     "name": "stderr",
     "output_type": "stream",
     "text": [
      "\r",
      " 16%|█████████████████████████▉                                                                                                                                            | 78/500 [00:30<02:46,  2.54it/s]"
     ]
    },
    {
     "name": "stdout",
     "output_type": "stream",
     "text": [
      "1.1018363237380981\n",
      "58.70718765258789\n",
      "---\n"
     ]
    },
    {
     "name": "stderr",
     "output_type": "stream",
     "text": [
      "\r",
      " 16%|██████████████████████████▏                                                                                                                                           | 79/500 [00:31<02:45,  2.54it/s]"
     ]
    },
    {
     "name": "stdout",
     "output_type": "stream",
     "text": [
      "1.1018314361572266\n",
      "58.6840934753418\n",
      "---\n"
     ]
    },
    {
     "name": "stderr",
     "output_type": "stream",
     "text": [
      "\r",
      " 16%|██████████████████████████▌                                                                                                                                           | 80/500 [00:31<02:45,  2.54it/s]"
     ]
    },
    {
     "name": "stdout",
     "output_type": "stream",
     "text": [
      "1.1018279790878296\n",
      "58.6609992980957\n",
      "---\n"
     ]
    },
    {
     "name": "stderr",
     "output_type": "stream",
     "text": [
      "\r",
      " 16%|██████████████████████████▉                                                                                                                                           | 81/500 [00:32<02:45,  2.54it/s]"
     ]
    },
    {
     "name": "stdout",
     "output_type": "stream",
     "text": [
      "1.1018404960632324\n",
      "58.63792037963867\n",
      "---\n"
     ]
    },
    {
     "name": "stderr",
     "output_type": "stream",
     "text": [
      "\r",
      " 16%|███████████████████████████▏                                                                                                                                          | 82/500 [00:32<02:44,  2.54it/s]"
     ]
    },
    {
     "name": "stdout",
     "output_type": "stream",
     "text": [
      "1.1018503904342651\n",
      "58.614845275878906\n",
      "---\n"
     ]
    },
    {
     "name": "stderr",
     "output_type": "stream",
     "text": [
      "\r",
      " 17%|███████████████████████████▌                                                                                                                                          | 83/500 [00:32<02:44,  2.54it/s]"
     ]
    },
    {
     "name": "stdout",
     "output_type": "stream",
     "text": [
      "1.1018489599227905\n",
      "58.59177780151367\n",
      "---\n"
     ]
    },
    {
     "name": "stderr",
     "output_type": "stream",
     "text": [
      "\r",
      " 17%|███████████████████████████▉                                                                                                                                          | 84/500 [00:33<02:44,  2.54it/s]"
     ]
    },
    {
     "name": "stdout",
     "output_type": "stream",
     "text": [
      "1.101852297782898\n",
      "58.568729400634766\n",
      "---\n"
     ]
    },
    {
     "name": "stderr",
     "output_type": "stream",
     "text": [
      "\r",
      " 17%|████████████████████████████▏                                                                                                                                         | 85/500 [00:33<02:43,  2.54it/s]"
     ]
    },
    {
     "name": "stdout",
     "output_type": "stream",
     "text": [
      "1.1018643379211426\n",
      "58.545677185058594\n",
      "---\n"
     ]
    },
    {
     "name": "stderr",
     "output_type": "stream",
     "text": [
      "\r",
      " 17%|████████████████████████████▌                                                                                                                                         | 86/500 [00:34<02:43,  2.54it/s]"
     ]
    },
    {
     "name": "stdout",
     "output_type": "stream",
     "text": [
      "1.1018749475479126\n",
      "58.522640228271484\n",
      "---\n"
     ]
    },
    {
     "name": "stderr",
     "output_type": "stream",
     "text": [
      "\r",
      " 17%|████████████████████████████▉                                                                                                                                         | 87/500 [00:34<02:42,  2.54it/s]"
     ]
    },
    {
     "name": "stdout",
     "output_type": "stream",
     "text": [
      "1.1018774509429932\n",
      "58.49961471557617\n",
      "---\n"
     ]
    },
    {
     "name": "stderr",
     "output_type": "stream",
     "text": [
      "\r",
      " 18%|█████████████████████████████▏                                                                                                                                        | 88/500 [00:34<02:42,  2.54it/s]"
     ]
    },
    {
     "name": "stdout",
     "output_type": "stream",
     "text": [
      "1.1018840074539185\n",
      "58.47659683227539\n",
      "---\n"
     ]
    },
    {
     "name": "stderr",
     "output_type": "stream",
     "text": [
      "\r",
      " 18%|█████████████████████████████▌                                                                                                                                        | 89/500 [00:35<02:41,  2.54it/s]"
     ]
    },
    {
     "name": "stdout",
     "output_type": "stream",
     "text": [
      "1.1018961668014526\n",
      "58.45357894897461\n",
      "---\n"
     ]
    },
    {
     "name": "stderr",
     "output_type": "stream",
     "text": [
      "\r",
      " 18%|█████████████████████████████▉                                                                                                                                        | 90/500 [00:35<02:41,  2.54it/s]"
     ]
    },
    {
     "name": "stdout",
     "output_type": "stream",
     "text": [
      "1.1019058227539062\n",
      "58.43057632446289\n",
      "---\n"
     ]
    },
    {
     "name": "stderr",
     "output_type": "stream",
     "text": [
      "\r",
      " 18%|██████████████████████████████▏                                                                                                                                       | 91/500 [00:35<02:41,  2.54it/s]"
     ]
    },
    {
     "name": "stdout",
     "output_type": "stream",
     "text": [
      "1.1019119024276733\n",
      "58.407588958740234\n",
      "---\n"
     ]
    },
    {
     "name": "stderr",
     "output_type": "stream",
     "text": [
      "\r",
      " 18%|██████████████████████████████▌                                                                                                                                       | 92/500 [00:36<02:40,  2.54it/s]"
     ]
    },
    {
     "name": "stdout",
     "output_type": "stream",
     "text": [
      "1.1019223928451538\n",
      "58.38459396362305\n",
      "---\n"
     ]
    },
    {
     "name": "stderr",
     "output_type": "stream",
     "text": [
      "\r",
      " 19%|██████████████████████████████▉                                                                                                                                       | 93/500 [00:36<02:40,  2.54it/s]"
     ]
    },
    {
     "name": "stdout",
     "output_type": "stream",
     "text": [
      "1.101935863494873\n",
      "58.36161804199219\n",
      "---\n"
     ]
    },
    {
     "name": "stderr",
     "output_type": "stream",
     "text": [
      "\r",
      " 19%|███████████████████████████████▏                                                                                                                                      | 94/500 [00:37<02:40,  2.54it/s]"
     ]
    },
    {
     "name": "stdout",
     "output_type": "stream",
     "text": [
      "1.1019445657730103\n",
      "58.338661193847656\n",
      "---\n"
     ]
    },
    {
     "name": "stderr",
     "output_type": "stream",
     "text": [
      "\r",
      " 19%|███████████████████████████████▌                                                                                                                                      | 95/500 [00:37<02:39,  2.54it/s]"
     ]
    },
    {
     "name": "stdout",
     "output_type": "stream",
     "text": [
      "1.1019543409347534\n",
      "58.315696716308594\n",
      "---\n"
     ]
    },
    {
     "name": "stderr",
     "output_type": "stream",
     "text": [
      "\r",
      " 19%|███████████████████████████████▊                                                                                                                                      | 96/500 [00:37<02:39,  2.54it/s]"
     ]
    },
    {
     "name": "stdout",
     "output_type": "stream",
     "text": [
      "1.101966142654419\n",
      "58.292747497558594\n",
      "---\n"
     ]
    },
    {
     "name": "stderr",
     "output_type": "stream",
     "text": [
      "\r",
      " 19%|████████████████████████████████▏                                                                                                                                     | 97/500 [00:38<02:38,  2.54it/s]"
     ]
    },
    {
     "name": "stdout",
     "output_type": "stream",
     "text": [
      "1.1019788980484009\n",
      "58.269805908203125\n",
      "---\n"
     ]
    },
    {
     "name": "stderr",
     "output_type": "stream",
     "text": [
      "\r",
      " 20%|████████████████████████████████▌                                                                                                                                     | 98/500 [00:38<02:38,  2.54it/s]"
     ]
    },
    {
     "name": "stdout",
     "output_type": "stream",
     "text": [
      "1.1019905805587769\n",
      "58.24687194824219\n",
      "---\n",
      "1.1020021438598633\n",
      "58.22394561767578\n",
      "---\n"
     ]
    },
    {
     "data": {
      "image/png": "[encoded data removed]",
      "text/plain": [
       "<Figure size 640x480 with 1 Axes>"
      ]
     },
     "metadata": {},
     "output_type": "display_data"
    },
    {
     "name": "stderr",
     "output_type": "stream",
     "text": [
      " 20%|█████████████████████████████████                                                                                                                                    | 100/500 [00:39<02:46,  2.41it/s]"
     ]
    },
    {
     "name": "stdout",
     "output_type": "stream",
     "text": [
      "1.1020152568817139\n",
      "58.20103454589844\n",
      "---\n"
     ]
    },
    {
     "name": "stderr",
     "output_type": "stream",
     "text": [
      "\r",
      " 20%|█████████████████████████████████▎                                                                                                                                   | 101/500 [00:40<02:43,  2.44it/s]"
     ]
    },
    {
     "name": "stdout",
     "output_type": "stream",
     "text": [
      "1.1020301580429077\n",
      "58.17813491821289\n",
      "---\n"
     ]
    },
    {
     "name": "stderr",
     "output_type": "stream",
     "text": [
      "\r",
      " 20%|█████████████████████████████████▋                                                                                                                                   | 102/500 [00:40<02:41,  2.47it/s]"
     ]
    },
    {
     "name": "stdout",
     "output_type": "stream",
     "text": [
      "1.102042317390442\n",
      "58.15523147583008\n",
      "---\n"
     ]
    },
    {
     "name": "stderr",
     "output_type": "stream",
     "text": [
      "\r",
      " 21%|█████████████████████████████████▉                                                                                                                                   | 103/500 [00:40<02:39,  2.49it/s]"
     ]
    },
    {
     "name": "stdout",
     "output_type": "stream",
     "text": [
      "1.1020543575286865\n",
      "58.132347106933594\n",
      "---\n"
     ]
    },
    {
     "name": "stderr",
     "output_type": "stream",
     "text": [
      "\r",
      " 21%|██████████████████████████████████▎                                                                                                                                  | 104/500 [00:41<02:38,  2.50it/s]"
     ]
    },
    {
     "name": "stdout",
     "output_type": "stream",
     "text": [
      "1.1020692586898804\n",
      "58.10947036743164\n",
      "---\n"
     ]
    },
    {
     "name": "stderr",
     "output_type": "stream",
     "text": [
      "\r",
      " 21%|██████████████████████████████████▋                                                                                                                                  | 105/500 [00:41<02:37,  2.51it/s]"
     ]
    },
    {
     "name": "stdout",
     "output_type": "stream",
     "text": [
      "1.1020854711532593\n",
      "58.08659744262695\n",
      "---\n"
     ]
    },
    {
     "name": "stderr",
     "output_type": "stream",
     "text": [
      "\r",
      " 21%|██████████████████████████████████▉                                                                                                                                  | 106/500 [00:42<02:36,  2.52it/s]"
     ]
    },
    {
     "name": "stdout",
     "output_type": "stream",
     "text": [
      "1.1020982265472412\n",
      "58.06373977661133\n",
      "---\n"
     ]
    },
    {
     "name": "stderr",
     "output_type": "stream",
     "text": [
      "\r",
      " 21%|███████████████████████████████████▎                                                                                                                                 | 107/500 [00:42<02:35,  2.53it/s]"
     ]
    },
    {
     "name": "stdout",
     "output_type": "stream",
     "text": [
      "1.1021124124526978\n",
      "58.0408821105957\n",
      "---\n"
     ]
    },
    {
     "name": "stderr",
     "output_type": "stream",
     "text": [
      "\r",
      " 22%|███████████████████████████████████▋                                                                                                                                 | 108/500 [00:42<02:35,  2.53it/s]"
     ]
    },
    {
     "name": "stdout",
     "output_type": "stream",
     "text": [
      "1.1021281480789185\n",
      "58.01803970336914\n",
      "---\n"
     ]
    },
    {
     "name": "stderr",
     "output_type": "stream",
     "text": [
      "\r",
      " 22%|███████████████████████████████████▉                                                                                                                                 | 109/500 [00:43<02:34,  2.53it/s]"
     ]
    },
    {
     "name": "stdout",
     "output_type": "stream",
     "text": [
      "1.1021445989608765\n",
      "57.995208740234375\n",
      "---\n"
     ]
    },
    {
     "name": "stderr",
     "output_type": "stream",
     "text": [
      "\r",
      " 22%|████████████████████████████████████▎                                                                                                                                | 110/500 [00:43<02:34,  2.53it/s]"
     ]
    },
    {
     "name": "stdout",
     "output_type": "stream",
     "text": [
      "1.1021592617034912\n",
      "57.97238540649414\n",
      "---\n"
     ]
    },
    {
     "name": "stderr",
     "output_type": "stream",
     "text": [
      " 22%|████████████████████████████████████▎                                                                                                                                | 110/500 [00:43<02:35,  2.50it/s]\n"
     ]
    },
    {
     "ename": "KeyboardInterrupt",
     "evalue": "",
     "output_type": "error",
     "traceback": [
      "\u001b[0;31m---------------------------------------------------------------------------\u001b[0m",
      "\u001b[0;31mKeyboardInterrupt\u001b[0m                         Traceback (most recent call last)",
      "Cell \u001b[0;32mIn[61], line 27\u001b[0m\n\u001b[1;32m     24\u001b[0m optimizer\u001b[38;5;241m.\u001b[39mstep()\n\u001b[1;32m     26\u001b[0m \u001b[38;5;66;03m# 6.) Print the loss terms\u001b[39;00m\n\u001b[0;32m---> 27\u001b[0m \u001b[38;5;28mprint\u001b[39m(\u001b[43mloss_recon\u001b[49m\u001b[38;5;241;43m.\u001b[39;49m\u001b[43mitem\u001b[49m\u001b[43m(\u001b[49m\u001b[43m)\u001b[49m)\n\u001b[1;32m     28\u001b[0m \u001b[38;5;28mprint\u001b[39m(loss_reg\u001b[38;5;241m.\u001b[39mitem())\n\u001b[1;32m     29\u001b[0m \u001b[38;5;28mprint\u001b[39m(\u001b[38;5;124m\"\u001b[39m\u001b[38;5;124m---\u001b[39m\u001b[38;5;124m\"\u001b[39m)\n",
      "\u001b[0;31mKeyboardInterrupt\u001b[0m: "
     ]
    }
   ],
   "source": [
    "for epoch in tqdm(range(500)):\n",
    "    optimizer.zero_grad(set_to_none=True)\n",
    "    \n",
    "    # 1.) Compute Beta\n",
    "    s4_noise_loaded.compute_betas()\n",
    "    \n",
    "    # 2.) run forward\n",
    "    noise_estimate = s4_noise_loaded(science_norm_flatten)\n",
    "     \n",
    "    # 3.) Compute the loss       \n",
    "    loss_recon = ((noise_estimate - science_norm_flatten)**2).sum()\n",
    "    loss_reg = (s4_noise_loaded.betas_raw**2).sum()\n",
    "    \n",
    "    # 4.) Normalize the loss\n",
    "    loss_normalization = s4_noise_loaded.image_size ** 4\n",
    "    loss_recon /= loss_normalization\n",
    "    loss_reg /= loss_normalization\n",
    "    \n",
    "    \n",
    "    # 5.) Backward \n",
    "    loss = (loss_reg + loss_recon)\n",
    "    loss.backward()\n",
    "    \n",
    "    optimizer.step()\n",
    "    \n",
    "    # 6.) Print the loss terms\n",
    "    print(loss_recon.item())\n",
    "    print(loss_reg.item())\n",
    "    print(\"---\")\n",
    "    \n",
    "    if epoch%49 == 0:\n",
    "        \n",
    "        tmp_weights = s4_noise_loaded.betas\n",
    "        plt.imshow(torch.abs(tmp_weights[4001].view(107, 107).cpu().detach()))\n",
    "        plt.show()"
   ]
  },
  {
   "cell_type": "code",
   "execution_count": 25,
   "id": "3b4f102b",
   "metadata": {},
   "outputs": [
    {
     "data": {
      "text/plain": [
       "0.02389824390411377"
      ]
     },
     "execution_count": 25,
     "metadata": {},
     "output_type": "execute_result"
    }
   ],
   "source": [
    "1.120345950126648 - 1.0964477062225342"
   ]
  },
  {
   "cell_type": "code",
   "execution_count": 26,
   "id": "14e903fa",
   "metadata": {},
   "outputs": [
    {
     "data": {
      "text/plain": [
       "-4.198402166366577e-06"
      ]
     },
     "execution_count": 26,
     "metadata": {},
     "output_type": "execute_result"
    }
   ],
   "source": [
    "0.060299068689346313 - 0.06030326709151268"
   ]
  },
  {
   "cell_type": "markdown",
   "id": "211fbf04",
   "metadata": {},
   "source": [
    "## Show how the loss changes if we adapt lambda"
   ]
  },
  {
   "cell_type": "code",
   "execution_count": 13,
   "id": "d6851e5f",
   "metadata": {},
   "outputs": [],
   "source": [
    "def fine_tune_model(\n",
    "    model_in,\n",
    "    training_data,\n",
    "    lambda_factor=1,\n",
    "    num_epochs=50):\n",
    "    \n",
    "    # Normalize the data\n",
    "    science_norm = s4_noise_loaded.normalize_data(training_data)\n",
    "\n",
    "    # reshape the science data\n",
    "    science_norm_flatten = science_norm.view(\n",
    "        science_norm.shape[0], -1)\n",
    "    \n",
    "    optimizer = optim.SGD(\n",
    "        [model_in.betas_raw,],\n",
    "        lr=1e-3,\n",
    "        momentum=0.9)\n",
    "    \n",
    "    losses_recon = []\n",
    "    losses_reg = []\n",
    "    \n",
    "    for epoch in tqdm(range(num_epochs)):\n",
    "        optimizer.zero_grad(set_to_none=True)\n",
    "\n",
    "        # 1.) Compute Beta\n",
    "        model_in.compute_betas()\n",
    "\n",
    "        # 2.) run forward\n",
    "        noise_estimate = model_in(science_norm_flatten)\n",
    "\n",
    "        # 3.) Compute the loss       \n",
    "        loss_recon = ((noise_estimate - science_norm_flatten)**2).mean()#.sum()\n",
    "        loss_reg = (model_in.betas_raw**2).mean()#.sum()\n",
    "\n",
    "        # 4.) Normalize the loss\n",
    "        loss_normalization = 1. #model_in.image_size ** 4\n",
    "        loss_recon /= loss_normalization\n",
    "        loss_reg /= loss_normalization\n",
    "\n",
    "\n",
    "        # 5.) Backward \n",
    "        loss = (loss_recon + loss_reg * model_in.lambda_reg * lambda_factor)\n",
    "        loss.backward()\n",
    "\n",
    "        optimizer.step()\n",
    "\n",
    "        # 6.) Print the loss terms\n",
    "        losses_recon.append(loss_recon.item())\n",
    "        losses_reg.append(loss_reg.item())\n",
    "        \n",
    "    return losses_recon, losses_reg"
   ]
  },
  {
   "cell_type": "code",
   "execution_count": 17,
   "id": "a1e21f86",
   "metadata": {},
   "outputs": [
    {
     "name": "stdout",
     "output_type": "stream",
     "text": [
      "Creating right reason mask ... [DONE]\n"
     ]
    }
   ],
   "source": [
    "save_path_final = Path(\"/fast/mbonse/s4/70_results/02_fine_tuning/implementation_tests/test_model_trained_2.pkl\")\n",
    "\n",
    "s4_noise_loaded = S4Noise.load(save_path_final)\n",
    "\n",
    "X_train_torch = torch.from_numpy(X_train)#.float()\n",
    "s4_noise_loaded = s4_noise_loaded#.float()\n",
    "\n",
    "s4_noise_loaded = s4_noise_loaded.to(0)\n",
    "X_train_torch = X_train_torch.to(0)"
   ]
  },
  {
   "cell_type": "code",
   "execution_count": 18,
   "id": "cd8ac0f7",
   "metadata": {},
   "outputs": [],
   "source": [
    "torch.set_float32_matmul_precision(\"high\")"
   ]
  },
  {
   "cell_type": "code",
   "execution_count": 19,
   "id": "64632cd8",
   "metadata": {},
   "outputs": [
    {
     "name": "stderr",
     "output_type": "stream",
     "text": [
      "100%|█████████████████████████████████████████████████████████████████████████████████████████████████████████████████████████████████████████████████████████████████████| 100/100 [33:35<00:00, 20.16s/it]\n"
     ]
    }
   ],
   "source": [
    "# RE_LOAD THE MODEL!\n",
    "losses_recon_higher, losses_reg_higher = fine_tune_model(s4_noise_loaded, \n",
    "                                                         X_train_torch,\n",
    "                                                         lambda_factor=1e4,\n",
    "                                                         num_epochs=100)"
   ]
  },
  {
   "cell_type": "code",
   "execution_count": 20,
   "id": "4d26435b",
   "metadata": {
    "collapsed": true
   },
   "outputs": [
    {
     "name": "stdout",
     "output_type": "stream",
     "text": [
      "Creating right reason mask ... "
     ]
    },
    {
     "ename": "KeyboardInterrupt",
     "evalue": "",
     "output_type": "error",
     "traceback": [
      "\u001b[0;31m---------------------------------------------------------------------------\u001b[0m",
      "\u001b[0;31mKeyboardInterrupt\u001b[0m                         Traceback (most recent call last)",
      "Cell \u001b[0;32mIn[20], line 3\u001b[0m\n\u001b[1;32m      1\u001b[0m save_path_final \u001b[38;5;241m=\u001b[39m Path(\u001b[38;5;124m\"\u001b[39m\u001b[38;5;124m/fast/mbonse/s4/70_results/02_fine_tuning/implementation_tests/test_model_trained_2.pkl\u001b[39m\u001b[38;5;124m\"\u001b[39m)\n\u001b[0;32m----> 3\u001b[0m s4_noise_loaded \u001b[38;5;241m=\u001b[39m \u001b[43mS4Noise\u001b[49m\u001b[38;5;241;43m.\u001b[39;49m\u001b[43mload\u001b[49m\u001b[43m(\u001b[49m\u001b[43msave_path_final\u001b[49m\u001b[43m)\u001b[49m\n\u001b[1;32m      5\u001b[0m X_train_torch \u001b[38;5;241m=\u001b[39m torch\u001b[38;5;241m.\u001b[39mfrom_numpy(X_train)\u001b[38;5;66;03m#.float()\u001b[39;00m\n\u001b[1;32m      6\u001b[0m s4_noise_loaded \u001b[38;5;241m=\u001b[39m s4_noise_loaded\u001b[38;5;66;03m#.float()\u001b[39;00m\n",
      "Cell \u001b[0;32mIn[5], line 125\u001b[0m, in \u001b[0;36mS4Noise.load\u001b[0;34m(cls, file_path, verbose, available_device)\u001b[0m\n\u001b[1;32m    122\u001b[0m psf_size \u001b[38;5;241m=\u001b[39m state_dict[\u001b[38;5;124m\"\u001b[39m\u001b[38;5;124mpsf_model\u001b[39m\u001b[38;5;124m\"\u001b[39m]\u001b[38;5;241m.\u001b[39mshape[\u001b[38;5;241m-\u001b[39m\u001b[38;5;241m1\u001b[39m]\n\u001b[1;32m    123\u001b[0m dummy_template \u001b[38;5;241m=\u001b[39m np\u001b[38;5;241m.\u001b[39mones((psf_size, psf_size))\n\u001b[0;32m--> 125\u001b[0m obj \u001b[38;5;241m=\u001b[39m \u001b[38;5;28;43mcls\u001b[39;49m\u001b[43m(\u001b[49m\n\u001b[1;32m    126\u001b[0m \u001b[43m    \u001b[49m\u001b[43mdata_image_size\u001b[49m\u001b[38;5;241;43m=\u001b[39;49m\u001b[43mstate_dict\u001b[49m\u001b[38;5;241;43m.\u001b[39;49m\u001b[43mpop\u001b[49m\u001b[43m(\u001b[49m\u001b[38;5;124;43m'\u001b[39;49m\u001b[38;5;124;43mimage_size\u001b[39;49m\u001b[38;5;124;43m'\u001b[39;49m\u001b[43m)\u001b[49m\u001b[43m,\u001b[49m\n\u001b[1;32m    127\u001b[0m \u001b[43m    \u001b[49m\u001b[43mpsf_template\u001b[49m\u001b[38;5;241;43m=\u001b[39;49m\u001b[43mdummy_template\u001b[49m\u001b[43m,\u001b[49m\n\u001b[1;32m    128\u001b[0m \u001b[43m    \u001b[49m\u001b[43mlambda_reg\u001b[49m\u001b[38;5;241;43m=\u001b[39;49m\u001b[43mstate_dict\u001b[49m\u001b[38;5;241;43m.\u001b[39;49m\u001b[43mpop\u001b[49m\u001b[43m(\u001b[49m\u001b[38;5;124;43m'\u001b[39;49m\u001b[38;5;124;43mlambda_reg\u001b[39;49m\u001b[38;5;124;43m'\u001b[39;49m\u001b[43m)\u001b[49m\u001b[43m,\u001b[49m\n\u001b[1;32m    129\u001b[0m \u001b[43m    \u001b[49m\u001b[43mcut_radius_psf\u001b[49m\u001b[38;5;241;43m=\u001b[39;49m\u001b[43mstate_dict\u001b[49m\u001b[38;5;241;43m.\u001b[39;49m\u001b[43mpop\u001b[49m\u001b[43m(\u001b[49m\u001b[38;5;124;43m'\u001b[39;49m\u001b[38;5;124;43mcut_radius_psf\u001b[39;49m\u001b[38;5;124;43m'\u001b[39;49m\u001b[43m)\u001b[49m\u001b[43m,\u001b[49m\n\u001b[1;32m    130\u001b[0m \u001b[43m    \u001b[49m\u001b[43mmask_template_setup\u001b[49m\u001b[38;5;241;43m=\u001b[39;49m\u001b[43mstate_dict\u001b[49m\u001b[38;5;241;43m.\u001b[39;49m\u001b[43mpop\u001b[49m\u001b[43m(\u001b[49m\u001b[38;5;124;43m'\u001b[39;49m\u001b[38;5;124;43mmask_template_setup\u001b[39;49m\u001b[38;5;124;43m'\u001b[39;49m\u001b[43m)\u001b[49m\u001b[43m,\u001b[49m\n\u001b[1;32m    131\u001b[0m \u001b[43m    \u001b[49m\u001b[43mconvolve\u001b[49m\u001b[38;5;241;43m=\u001b[39;49m\u001b[43mstate_dict\u001b[49m\u001b[38;5;241;43m.\u001b[39;49m\u001b[43mpop\u001b[49m\u001b[43m(\u001b[49m\u001b[38;5;124;43m'\u001b[39;49m\u001b[38;5;124;43mconvolve\u001b[39;49m\u001b[38;5;124;43m'\u001b[39;49m\u001b[43m)\u001b[49m\u001b[43m,\u001b[49m\n\u001b[1;32m    132\u001b[0m \u001b[43m    \u001b[49m\u001b[43mre_mask\u001b[49m\u001b[38;5;241;43m=\u001b[39;49m\u001b[43mstate_dict\u001b[49m\u001b[38;5;241;43m.\u001b[39;49m\u001b[43mpop\u001b[49m\u001b[43m(\u001b[49m\u001b[38;5;124;43m'\u001b[39;49m\u001b[38;5;124;43mre_mask\u001b[39;49m\u001b[38;5;124;43m'\u001b[39;49m\u001b[43m)\u001b[49m\u001b[43m,\u001b[49m\n\u001b[1;32m    133\u001b[0m \u001b[43m    \u001b[49m\u001b[43mverbose\u001b[49m\u001b[38;5;241;43m=\u001b[39;49m\u001b[43mverbose\u001b[49m\u001b[43m,\u001b[49m\n\u001b[1;32m    134\u001b[0m \u001b[43m    \u001b[49m\u001b[43mavailable_device\u001b[49m\u001b[38;5;241;43m=\u001b[39;49m\u001b[43mavailable_device\u001b[49m\u001b[43m)\u001b[49m\n\u001b[1;32m    136\u001b[0m obj\u001b[38;5;241m.\u001b[39mload_state_dict(state_dict)\n\u001b[1;32m    137\u001b[0m \u001b[38;5;28;01mreturn\u001b[39;00m obj\n",
      "Cell \u001b[0;32mIn[5], line 63\u001b[0m, in \u001b[0;36mS4Noise.__init__\u001b[0;34m(self, data_image_size, psf_template, lambda_reg, cut_radius_psf, mask_template_setup, convolve, re_mask, verbose, available_device)\u001b[0m\n\u001b[1;32m     60\u001b[0m \u001b[38;5;28;01mif\u001b[39;00m \u001b[38;5;28mself\u001b[39m\u001b[38;5;241m.\u001b[39mverbose:\n\u001b[1;32m     61\u001b[0m     \u001b[38;5;28mprint\u001b[39m(\u001b[38;5;124m\"\u001b[39m\u001b[38;5;124mCreating right reason mask ... \u001b[39m\u001b[38;5;124m\"\u001b[39m, end\u001b[38;5;241m=\u001b[39m\u001b[38;5;124m'\u001b[39m\u001b[38;5;124m'\u001b[39m)\n\u001b[0;32m---> 63\u001b[0m right_reason_mask \u001b[38;5;241m=\u001b[39m \u001b[43mconstruct_rfrr_mask\u001b[49m\u001b[43m(\u001b[49m\n\u001b[1;32m     64\u001b[0m \u001b[43m    \u001b[49m\u001b[43mtemplate_setup\u001b[49m\u001b[38;5;241;43m=\u001b[39;49m\u001b[38;5;28;43mself\u001b[39;49m\u001b[38;5;241;43m.\u001b[39;49m\u001b[43mmask_template_setup\u001b[49m\u001b[43m,\u001b[49m\n\u001b[1;32m     65\u001b[0m \u001b[43m    \u001b[49m\u001b[43mpsf_template_in\u001b[49m\u001b[38;5;241;43m=\u001b[39;49m\u001b[43mtemplate_norm\u001b[49m\u001b[43m,\u001b[49m\n\u001b[1;32m     66\u001b[0m \u001b[43m    \u001b[49m\u001b[43mmask_size_in\u001b[49m\u001b[38;5;241;43m=\u001b[39;49m\u001b[38;5;28;43mself\u001b[39;49m\u001b[38;5;241;43m.\u001b[39;49m\u001b[43mimage_size\u001b[49m\u001b[43m)\u001b[49m\n\u001b[1;32m     68\u001b[0m \u001b[38;5;28mself\u001b[39m\u001b[38;5;241m.\u001b[39mregister_buffer(\n\u001b[1;32m     69\u001b[0m     \u001b[38;5;124m\"\u001b[39m\u001b[38;5;124mright_reason_mask\u001b[39m\u001b[38;5;124m\"\u001b[39m,\n\u001b[1;32m     70\u001b[0m     torch\u001b[38;5;241m.\u001b[39mfrom_numpy(right_reason_mask))\n\u001b[1;32m     72\u001b[0m second_mask \u001b[38;5;241m=\u001b[39m construct_rfrr_mask(\n\u001b[1;32m     73\u001b[0m     template_setup\u001b[38;5;241m=\u001b[39m\u001b[38;5;28mself\u001b[39m\u001b[38;5;241m.\u001b[39mmask_template_setup,\n\u001b[1;32m     74\u001b[0m     psf_template_in\u001b[38;5;241m=\u001b[39mtemplate_norm,\n\u001b[1;32m     75\u001b[0m     mask_size_in\u001b[38;5;241m=\u001b[39m\u001b[38;5;28mself\u001b[39m\u001b[38;5;241m.\u001b[39mimage_size,\n\u001b[1;32m     76\u001b[0m     use_template\u001b[38;5;241m=\u001b[39m\u001b[38;5;28;01mTrue\u001b[39;00m)\n",
      "File \u001b[0;32m/lustre/home/mbonse/2023_s4/50_code/s4hci/s4hci/utils/masks.py:92\u001b[0m, in \u001b[0;36mconstruct_rfrr_mask\u001b[0;34m(template_setup, psf_template_in, mask_size_in, use_template)\u001b[0m\n\u001b[1;32m     90\u001b[0m \u001b[38;5;28;01mfor\u001b[39;00m i \u001b[38;5;129;01min\u001b[39;00m \u001b[38;5;28mrange\u001b[39m(mask_size_in):\n\u001b[1;32m     91\u001b[0m     \u001b[38;5;28;01mfor\u001b[39;00m j \u001b[38;5;129;01min\u001b[39;00m \u001b[38;5;28mrange\u001b[39m(mask_size_in):\n\u001b[0;32m---> 92\u001b[0m         shifted_image \u001b[38;5;241m=\u001b[39m \u001b[43mshift\u001b[49m\u001b[43m(\u001b[49m\u001b[43mpadded_template\u001b[49m\u001b[43m,\u001b[49m\n\u001b[1;32m     93\u001b[0m \u001b[43m                              \u001b[49m\u001b[43m(\u001b[49m\u001b[38;5;28;43mfloat\u001b[39;49m\u001b[43m(\u001b[49m\u001b[43mi\u001b[49m\u001b[43m)\u001b[49m\u001b[43m \u001b[49m\u001b[38;5;241;43m-\u001b[39;49m\u001b[43m \u001b[49m\u001b[43mcenter_offset\u001b[49m\u001b[43m,\u001b[49m\n\u001b[1;32m     94\u001b[0m \u001b[43m                               \u001b[49m\u001b[38;5;28;43mfloat\u001b[39;49m\u001b[43m(\u001b[49m\u001b[43mj\u001b[49m\u001b[43m)\u001b[49m\u001b[43m \u001b[49m\u001b[38;5;241;43m-\u001b[39;49m\u001b[43m \u001b[49m\u001b[43mcenter_offset\u001b[49m\u001b[43m)\u001b[49m\u001b[43m,\u001b[49m\n\u001b[1;32m     95\u001b[0m \u001b[43m                              \u001b[49m\u001b[43morder\u001b[49m\u001b[38;5;241;43m=\u001b[39;49m\u001b[38;5;241;43m1\u001b[39;49m\u001b[43m,\u001b[49m\u001b[43m \u001b[49m\u001b[43mmode\u001b[49m\u001b[38;5;241;43m=\u001b[39;49m\u001b[38;5;124;43m\"\u001b[39;49m\u001b[38;5;124;43mnearest\u001b[39;49m\u001b[38;5;124;43m\"\u001b[39;49m\u001b[43m)\u001b[49m\n\u001b[1;32m     97\u001b[0m         \u001b[38;5;28;01mif\u001b[39;00m template_mask\u001b[38;5;241m.\u001b[39mshape[\u001b[38;5;241m0\u001b[39m] \u001b[38;5;241m<\u001b[39m mask_size_in:\n\u001b[1;32m     98\u001b[0m             regularization_mask[i, j] \u001b[38;5;241m=\u001b[39m shifted_image\n",
      "File \u001b[0;32m/lustre/home/mbonse/2023_s4/50_code/venv_s4/lib/python3.10/site-packages/scipy/ndimage/_interpolation.py:689\u001b[0m, in \u001b[0;36mshift\u001b[0;34m(input, shift, output, order, mode, cval, prefilter)\u001b[0m\n\u001b[1;32m    687\u001b[0m \u001b[38;5;28;01mif\u001b[39;00m \u001b[38;5;129;01mnot\u001b[39;00m shift\u001b[38;5;241m.\u001b[39mflags\u001b[38;5;241m.\u001b[39mcontiguous:\n\u001b[1;32m    688\u001b[0m     shift \u001b[38;5;241m=\u001b[39m shift\u001b[38;5;241m.\u001b[39mcopy()\n\u001b[0;32m--> 689\u001b[0m \u001b[43m_nd_image\u001b[49m\u001b[38;5;241;43m.\u001b[39;49m\u001b[43mzoom_shift\u001b[49m\u001b[43m(\u001b[49m\u001b[43mfiltered\u001b[49m\u001b[43m,\u001b[49m\u001b[43m \u001b[49m\u001b[38;5;28;43;01mNone\u001b[39;49;00m\u001b[43m,\u001b[49m\u001b[43m \u001b[49m\u001b[43mshift\u001b[49m\u001b[43m,\u001b[49m\u001b[43m \u001b[49m\u001b[43moutput\u001b[49m\u001b[43m,\u001b[49m\u001b[43m \u001b[49m\u001b[43morder\u001b[49m\u001b[43m,\u001b[49m\u001b[43m \u001b[49m\u001b[43mmode\u001b[49m\u001b[43m,\u001b[49m\u001b[43m \u001b[49m\u001b[43mcval\u001b[49m\u001b[43m,\u001b[49m\n\u001b[1;32m    690\u001b[0m \u001b[43m                     \u001b[49m\u001b[43mnpad\u001b[49m\u001b[43m,\u001b[49m\u001b[43m \u001b[49m\u001b[38;5;28;43;01mFalse\u001b[39;49;00m\u001b[43m)\u001b[49m\n\u001b[1;32m    691\u001b[0m \u001b[38;5;28;01mreturn\u001b[39;00m output\n",
      "\u001b[0;31mKeyboardInterrupt\u001b[0m: "
     ]
    }
   ],
   "source": [
    "save_path_final = Path(\"/fast/mbonse/s4/70_results/02_fine_tuning/implementation_tests/test_model_trained_2.pkl\")\n",
    "\n",
    "s4_noise_loaded = S4Noise.load(save_path_final)\n",
    "\n",
    "X_train_torch = torch.from_numpy(X_train)#.float()\n",
    "s4_noise_loaded = s4_noise_loaded#.float()\n",
    "\n",
    "s4_noise_loaded = s4_noise_loaded.to(0)\n",
    "X_train_torch = X_train_torch.to(0)"
   ]
  },
  {
   "cell_type": "code",
   "execution_count": null,
   "id": "b8665fa4",
   "metadata": {},
   "outputs": [],
   "source": [
    "# RE_LOAD THE MODEL!\n",
    "losses_recon_equal, losses_reg_equal = fine_tune_model(s4_noise_loaded, \n",
    "                                                       X_train_torch,\n",
    "                                                       lambda_factor=1,\n",
    "                                                       num_epochs=100)"
   ]
  },
  {
   "cell_type": "code",
   "execution_count": null,
   "id": "aed2f0f0",
   "metadata": {},
   "outputs": [],
   "source": [
    "save_path_final = Path(\"/fast/mbonse/s4/70_results/02_fine_tuning/implementation_tests/test_model_trained_2.pkl\")\n",
    "\n",
    "s4_noise_loaded = S4Noise.load(save_path_final)\n",
    "\n",
    "X_train_torch = torch.from_numpy(X_train)#.float()\n",
    "s4_noise_loaded = s4_noise_loaded#.float()\n",
    "\n",
    "s4_noise_loaded = s4_noise_loaded.to(0)\n",
    "X_train_torch = X_train_torch.to(0)"
   ]
  },
  {
   "cell_type": "code",
   "execution_count": null,
   "id": "39304902",
   "metadata": {},
   "outputs": [],
   "source": [
    "# RE_LOAD THE MODEL!\n",
    "losses_recon_lower, losses_reg_lower = fine_tune_model(s4_noise_loaded, \n",
    "                                                       X_train_torch,\n",
    "                                                       lambda_factor=1e-2,\n",
    "                                                       num_epochs=100)"
   ]
  },
  {
   "cell_type": "markdown",
   "id": "4cbaea2a",
   "metadata": {},
   "source": [
    "## Create some plots"
   ]
  },
  {
   "cell_type": "code",
   "execution_count": 21,
   "id": "3ea7ca10",
   "metadata": {},
   "outputs": [
    {
     "data": {
      "image/png": "[encoded data removed]",
      "text/plain": [
       "<Figure size 1000x400 with 2 Axes>"
      ]
     },
     "metadata": {},
     "output_type": "display_data"
    }
   ],
   "source": [
    "fig, (ax1, ax2) = plt.subplots(1, 2, figsize=(10, 4))\n",
    "\n",
    "ax1.plot(losses_recon_higher)\n",
    "ax1.grid()\n",
    "ax1.set_xlabel(\"Training iteration\", size=12)\n",
    "ax1.set_ylabel(\"Loss\", size=12)\n",
    "ax1.set_title(\"Reconstruction loss\", size=12)\n",
    "\n",
    "ax2.plot(losses_reg_higher)\n",
    "ax2.grid()\n",
    "ax2.set_xlabel(\"Training iteration\", size=12)\n",
    "ax2.set_title(\"Regularization loss\", size=12)\n",
    "\n",
    "fig.suptitle('Continue training with stronger regularization', size=14, y=0.94)\n",
    "plt.tight_layout()\n",
    "plt.savefig(\"fine_tuning_stronger_reg.pdf\")"
   ]
  },
  {
   "cell_type": "code",
   "execution_count": 73,
   "id": "c1000c34",
   "metadata": {},
   "outputs": [
    {
     "data": {
      "image/png": "[encoded data removed]",
      "text/plain": [
       "<Figure size 1000x400 with 2 Axes>"
      ]
     },
     "metadata": {},
     "output_type": "display_data"
    }
   ],
   "source": [
    "fig, (ax1, ax2) = plt.subplots(1, 2, figsize=(10, 4))\n",
    "\n",
    "ax1.plot(losses_recon_equal)\n",
    "ax1.grid()\n",
    "ax1.set_xlabel(\"Training iteration\", size=12)\n",
    "ax1.set_ylabel(\"Loss\", size=12)\n",
    "ax1.set_title(\"Reconstruction loss\", size=12)\n",
    "\n",
    "ax2.plot(losses_reg_equal)\n",
    "ax2.grid()\n",
    "ax2.set_xlabel(\"Training iteration\", size=12)\n",
    "ax2.set_title(\"Regularization loss\", size=12)\n",
    "\n",
    "fig.suptitle('Continue training with same regularization', size=14, y=0.92)\n",
    "plt.tight_layout()\n",
    "plt.savefig(\"fine_tuning_same_reg.pdf\")"
   ]
  },
  {
   "cell_type": "code",
   "execution_count": 74,
   "id": "07a06021",
   "metadata": {},
   "outputs": [
    {
     "data": {
      "image/png": "[encoded data removed]",
      "text/plain": [
       "<Figure size 1000x400 with 2 Axes>"
      ]
     },
     "metadata": {},
     "output_type": "display_data"
    }
   ],
   "source": [
    "fig, (ax1, ax2) = plt.subplots(1, 2, figsize=(10, 4))\n",
    "\n",
    "ax1.plot(losses_recon_lower)\n",
    "ax1.grid()\n",
    "ax1.set_xlabel(\"Training iteration\", size=12)\n",
    "ax1.set_ylabel(\"Loss\", size=12)\n",
    "ax1.set_title(\"Reconstruction loss\", size=12)\n",
    "\n",
    "ax2.plot(losses_reg_lower)\n",
    "ax2.grid()\n",
    "ax2.set_xlabel(\"Training iteration\", size=12)\n",
    "ax2.set_title(\"Regularization loss\", size=12)\n",
    "\n",
    "fig.suptitle('Continue training with smaller regularization', size=14, y=0.94)\n",
    "plt.tight_layout()\n",
    "plt.savefig(\"fine_tuning_smaller_reg.pdf\")"
   ]
  },
  {
   "cell_type": "code",
   "execution_count": null,
   "id": "bbebb03c",
   "metadata": {},
   "outputs": [],
   "source": []
  }
 ],
 "metadata": {
  "kernelspec": {
   "display_name": "Python 3 (ipykernel)",
   "language": "python",
   "name": "python3"
  },
  "language_info": {
   "codemirror_mode": {
    "name": "ipython",
    "version": 3
   },
   "file_extension": ".py",
   "mimetype": "text/x-python",
   "name": "python",
   "nbconvert_exporter": "python",
   "pygments_lexer": "ipython3",
   "version": "3.10.10"
  }
 },
 "nbformat": 4,
 "nbformat_minor": 5
}
