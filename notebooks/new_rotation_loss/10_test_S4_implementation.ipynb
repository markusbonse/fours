{
 "cells": [
  {
   "cell_type": "code",
   "execution_count": 1,
   "id": "3a8104cf",
   "metadata": {},
   "outputs": [],
   "source": [
    "import json\n",
    "import numpy as np\n",
    "import matplotlib.pyplot as plt\n",
    "\n",
    "import torch\n",
    "from torch import optim\n",
    "from s4hci.utils.data_handling import load_adi_data\n",
    "from applefy.utils.file_handling import open_fits, save_as_fits\n",
    "from applefy.utils.fake_planets import add_fake_planets"
   ]
  },
  {
   "cell_type": "code",
   "execution_count": 2,
   "id": "34926576",
   "metadata": {},
   "outputs": [],
   "source": [
    "from s4hci.models.psf_subtraction import S4"
   ]
  },
  {
   "cell_type": "code",
   "execution_count": 3,
   "id": "6fff3050",
   "metadata": {},
   "outputs": [],
   "source": [
    "torch.set_float32_matmul_precision(\"high\")"
   ]
  },
  {
   "cell_type": "markdown",
   "id": "e2fe94b6",
   "metadata": {},
   "source": [
    "# Load the data and insert the fake planet"
   ]
  },
  {
   "cell_type": "code",
   "execution_count": 4,
   "id": "0832fed5",
   "metadata": {},
   "outputs": [],
   "source": [
    "# 2.) Load the dataset\n",
    "science_data, raw_angles, raw_psf_template_data = \\\n",
    "    load_adi_data(\n",
    "        hdf5_dataset=\"/fast/mbonse/s4/30_data/HD22049_303_199_C-0065_C_.hdf5\",\n",
    "        data_tag=\"object\",\n",
    "        psf_template_tag=\"psf_template\",\n",
    "        para_tag=\"header_object/PARANG\")\n",
    "\n",
    "science_data = science_data[:, 12:-12, 12:-12]\n",
    "raw_angles = raw_angles[:]\n",
    "\n",
    "# Background subtraction of the PSF template\n",
    "psf_template_data = np.median(raw_psf_template_data, axis=0)\n",
    "psf_template_data = psf_template_data - np.min(psf_template_data)"
   ]
  },
  {
   "cell_type": "code",
   "execution_count": 5,
   "id": "bc6fceb0",
   "metadata": {},
   "outputs": [],
   "source": [
    "dataset_id = \"0115b\"\n",
    "\n",
    "# add the fake planet\n",
    "fake_planet_config_file = \"/fast/mbonse/s4/70_results/07_partial_contrast_grid/HD22049_303_199_C-0065_C_/configs_cgrid/exp_ID_\" + dataset_id + \".json\"\n",
    "with open(fake_planet_config_file) as json_file:\n",
    "    fake_planet_config = json.load(json_file)\n",
    "\n",
    "data_with_fake_planet = add_fake_planets(\n",
    "    input_stack=science_data,\n",
    "    psf_template=psf_template_data,\n",
    "    parang=raw_angles,\n",
    "    dit_psf_template=0.004256,\n",
    "    dit_science=0.08,\n",
    "    experiment_config=fake_planet_config,\n",
    "    scaling_factor=1.0)"
   ]
  },
  {
   "cell_type": "code",
   "execution_count": 6,
   "id": "16894590",
   "metadata": {},
   "outputs": [],
   "source": [
    "# stacking\n",
    "ss = 10\n",
    "angles_stacked = np.array([np.mean(i) for i in np.array_split(raw_angles, int(len(raw_angles) / ss))])\n",
    "science_stacked = np.array([np.mean(i, axis=0) for i in np.array_split(data_with_fake_planet, int(len(raw_angles) / ss))])"
   ]
  },
  {
   "cell_type": "markdown",
   "id": "c1cacc6b",
   "metadata": {},
   "source": [
    "# Test lambda validation"
   ]
  },
  {
   "cell_type": "code",
   "execution_count": 7,
   "id": "3fa6a59f",
   "metadata": {},
   "outputs": [],
   "source": [
    "s4_model = S4(\n",
    "    science_cube=science_stacked,\n",
    "    adi_angles=angles_stacked,\n",
    "    psf_template=psf_template_data,\n",
    "    noise_cut_radius_psf=3.6,\n",
    "    noise_mask_radius=5.4,\n",
    "    device=0,\n",
    "    work_dir=\"/fast/mbonse/s4/70_results/09_new_rotation_loss/xx_test_new_implementation\",\n",
    "    noise_normalization=\"normal\",\n",
    "    noise_model_lambda_init=1000,\n",
    "    noise_model_convolve=True,\n",
    "    rotation_grid_subsample=1,\n",
    "    verbose=True)"
   ]
  },
  {
   "cell_type": "code",
   "execution_count": 8,
   "id": "d18dbb1b",
   "metadata": {
    "scrolled": true
   },
   "outputs": [
    {
     "name": "stdout",
     "output_type": "stream",
     "text": [
      "S4 model: validating noise model ... S4 Noise: validating noise model ... Compute validation positions for separation 5.2727272727272725 ...\n",
      "Compute betas for separation 5.2727272727272725 ...\n"
     ]
    },
    {
     "name": "stderr",
     "output_type": "stream",
     "text": [
      "100%|███████████████████████████████████████████████████████████████████████████████████████████████████████████████████████████████████████████████████████████████████████| 10/10 [00:11<00:00,  1.12s/it]\n"
     ]
    },
    {
     "name": "stdout",
     "output_type": "stream",
     "text": [
      "Re-mask betas for separation 5.2727272727272725 ...\n",
      "Compute validation errors for separation 5.2727272727272725 ...\n",
      "Compute validation positions for separation 10.545454545454545 ...\n",
      "Compute betas for separation 10.545454545454545 ...\n"
     ]
    },
    {
     "name": "stderr",
     "output_type": "stream",
     "text": [
      "100%|███████████████████████████████████████████████████████████████████████████████████████████████████████████████████████████████████████████████████████████████████████| 10/10 [00:10<00:00,  1.05s/it]\n"
     ]
    },
    {
     "name": "stdout",
     "output_type": "stream",
     "text": [
      "Re-mask betas for separation 10.545454545454545 ...\n",
      "Compute validation errors for separation 10.545454545454545 ...\n",
      "Compute validation positions for separation 15.818181818181817 ...\n",
      "Compute betas for separation 15.818181818181817 ...\n"
     ]
    },
    {
     "name": "stderr",
     "output_type": "stream",
     "text": [
      "100%|███████████████████████████████████████████████████████████████████████████████████████████████████████████████████████████████████████████████████████████████████████| 10/10 [00:10<00:00,  1.04s/it]\n"
     ]
    },
    {
     "name": "stdout",
     "output_type": "stream",
     "text": [
      "Re-mask betas for separation 15.818181818181817 ...\n",
      "Compute validation errors for separation 15.818181818181817 ...\n",
      "Compute validation positions for separation 21.09090909090909 ...\n",
      "Compute betas for separation 21.09090909090909 ...\n"
     ]
    },
    {
     "name": "stderr",
     "output_type": "stream",
     "text": [
      "100%|███████████████████████████████████████████████████████████████████████████████████████████████████████████████████████████████████████████████████████████████████████| 10/10 [00:10<00:00,  1.04s/it]\n"
     ]
    },
    {
     "name": "stdout",
     "output_type": "stream",
     "text": [
      "Re-mask betas for separation 21.09090909090909 ...\n",
      "Compute validation errors for separation 21.09090909090909 ...\n",
      "Compute validation positions for separation 26.363636363636363 ...\n",
      "Compute betas for separation 26.363636363636363 ...\n"
     ]
    },
    {
     "name": "stderr",
     "output_type": "stream",
     "text": [
      "100%|███████████████████████████████████████████████████████████████████████████████████████████████████████████████████████████████████████████████████████████████████████| 10/10 [00:10<00:00,  1.05s/it]\n"
     ]
    },
    {
     "name": "stdout",
     "output_type": "stream",
     "text": [
      "Re-mask betas for separation 26.363636363636363 ...\n",
      "Compute validation errors for separation 26.363636363636363 ...\n",
      "Compute validation positions for separation 31.636363636363633 ...\n",
      "Compute betas for separation 31.636363636363633 ...\n"
     ]
    },
    {
     "name": "stderr",
     "output_type": "stream",
     "text": [
      "100%|███████████████████████████████████████████████████████████████████████████████████████████████████████████████████████████████████████████████████████████████████████| 10/10 [00:11<00:00,  1.10s/it]\n"
     ]
    },
    {
     "name": "stdout",
     "output_type": "stream",
     "text": [
      "Re-mask betas for separation 31.636363636363633 ...\n",
      "Compute validation errors for separation 31.636363636363633 ...\n",
      "Compute validation positions for separation 36.90909090909091 ...\n",
      "Compute betas for separation 36.90909090909091 ...\n"
     ]
    },
    {
     "name": "stderr",
     "output_type": "stream",
     "text": [
      "100%|███████████████████████████████████████████████████████████████████████████████████████████████████████████████████████████████████████████████████████████████████████| 10/10 [00:11<00:00,  1.18s/it]\n"
     ]
    },
    {
     "name": "stdout",
     "output_type": "stream",
     "text": [
      "Re-mask betas for separation 36.90909090909091 ...\n",
      "Compute validation errors for separation 36.90909090909091 ...\n",
      "Compute validation positions for separation 42.18181818181818 ...\n",
      "Compute betas for separation 42.18181818181818 ...\n"
     ]
    },
    {
     "name": "stderr",
     "output_type": "stream",
     "text": [
      "100%|███████████████████████████████████████████████████████████████████████████████████████████████████████████████████████████████████████████████████████████████████████| 10/10 [00:11<00:00,  1.11s/it]\n"
     ]
    },
    {
     "name": "stdout",
     "output_type": "stream",
     "text": [
      "Re-mask betas for separation 42.18181818181818 ...\n",
      "Compute validation errors for separation 42.18181818181818 ...\n",
      "Compute validation positions for separation 47.45454545454545 ...\n",
      "Compute betas for separation 47.45454545454545 ...\n"
     ]
    },
    {
     "name": "stderr",
     "output_type": "stream",
     "text": [
      "100%|███████████████████████████████████████████████████████████████████████████████████████████████████████████████████████████████████████████████████████████████████████| 10/10 [00:12<00:00,  1.23s/it]\n"
     ]
    },
    {
     "name": "stdout",
     "output_type": "stream",
     "text": [
      "Re-mask betas for separation 47.45454545454545 ...\n",
      "Compute validation errors for separation 47.45454545454545 ...\n",
      "Compute validation positions for separation 52.72727272727273 ...\n",
      "Compute betas for separation 52.72727272727273 ...\n"
     ]
    },
    {
     "name": "stderr",
     "output_type": "stream",
     "text": [
      "100%|███████████████████████████████████████████████████████████████████████████████████████████████████████████████████████████████████████████████████████████████████████| 10/10 [00:11<00:00,  1.14s/it]\n"
     ]
    },
    {
     "name": "stdout",
     "output_type": "stream",
     "text": [
      "Re-mask betas for separation 52.72727272727273 ...\n",
      "Compute validation errors for separation 52.72727272727273 ...\n",
      "Recommended Lambda = 560716.99\n",
      "Make sure to check if the tested range of lambda values is covering the global minimum!\n",
      "[DONE]\n",
      "[DONE]\n"
     ]
    }
   ],
   "source": [
    "lambdas = np.logspace(1, 8, 200)\n",
    "all_results, best_lambda = s4_model.validate_lambdas_noise(\n",
    "    num_separations=10, \n",
    "    lambdas=lambdas,\n",
    "    num_test_positions=10,\n",
    "    test_size=0.3,\n",
    "    approx_svd=3000)"
   ]
  },
  {
   "cell_type": "code",
   "execution_count": 9,
   "id": "8a7bda6c",
   "metadata": {},
   "outputs": [
    {
     "data": {
      "image/png": "[encoded data removed]",
      "text/plain": [
       "<Figure size 600x400 with 1 Axes>"
      ]
     },
     "metadata": {},
     "output_type": "display_data"
    }
   ],
   "source": [
    "# 4.) Plot the result\n",
    "merged_results = np.array([i for i in all_results.values()])\n",
    "\n",
    "fig, (ax1) = plt.subplots(1, 1, figsize=(6, 4))\n",
    "\n",
    "ax1.plot(lambdas, np.array(merged_results).T)\n",
    "ax1.set_title(\"Validation error (contrast limited areas)\")\n",
    "ax1.set_xlabel(\"Lambda\")\n",
    "ax1.set_ylabel(\"Test Error\")\n",
    "ax1.set_xscale(\"log\")\n",
    "ax1.grid()\n",
    "ax1.set_ylim(-2, 4)\n",
    "ax1.set_xlim(1e1, 1e8)\n",
    "plt.show()"
   ]
  },
  {
   "cell_type": "code",
   "execution_count": 10,
   "id": "e25e918e",
   "metadata": {},
   "outputs": [],
   "source": [
    "best_lambda = lambdas[int(np.median(np.argmin(merged_results, axis=1)))]"
   ]
  },
  {
   "cell_type": "code",
   "execution_count": 11,
   "id": "b28553ea",
   "metadata": {},
   "outputs": [
    {
     "data": {
      "text/plain": [
       "344896.22604057594"
      ]
     },
     "execution_count": 11,
     "metadata": {},
     "output_type": "execute_result"
    }
   ],
   "source": [
    "best_lambda"
   ]
  },
  {
   "cell_type": "markdown",
   "id": "dd5c6b1f",
   "metadata": {},
   "source": [
    "# Test S4 with new rotation loss"
   ]
  },
  {
   "cell_type": "code",
   "execution_count": 12,
   "id": "6fabfd8c",
   "metadata": {},
   "outputs": [],
   "source": [
    "s4_model = S4(\n",
    "    science_cube=science_stacked,\n",
    "    adi_angles=angles_stacked,\n",
    "    psf_template=psf_template_data,\n",
    "    noise_cut_radius_psf=3.6,\n",
    "    noise_mask_radius=5.4,\n",
    "    device=0,\n",
    "    work_dir=\"/fast/mbonse/s4/70_results/09_new_rotation_loss/xx_test_new_implementation\",\n",
    "    noise_normalization=\"normal\",\n",
    "    noise_model_lambda_init=best_lambda,\n",
    "    noise_model_convolve=True,\n",
    "    rotation_grid_subsample=1,\n",
    "    verbose=True)"
   ]
  },
  {
   "cell_type": "code",
   "execution_count": 13,
   "id": "7ce84718",
   "metadata": {},
   "outputs": [
    {
     "name": "stdout",
     "output_type": "stream",
     "text": [
      "S4 model: Fit noise model ... "
     ]
    },
    {
     "data": {
      "application/vnd.jupyter.widget-view+json": {
       "model_id": "c707536c17b344809a9bee1065d4da6a",
       "version_major": 2,
       "version_minor": 0
      },
      "text/plain": [
       "  0%|          | 0/500 [00:00<?, ?it/s]"
      ]
     },
     "metadata": {},
     "output_type": "display_data"
    },
    {
     "name": "stdout",
     "output_type": "stream",
     "text": [
      "[DONE]\n"
     ]
    }
   ],
   "source": [
    "s4_model.fit_noise_model(\n",
    "    num_epochs=500,\n",
    "    use_rotation_loss=True,\n",
    "    training_name=\"105c_rotation_loss\",\n",
    "    logging_interval=1,\n",
    "    optimizer=None,\n",
    "    optimizer_kwargs=None)"
   ]
  },
  {
   "cell_type": "code",
   "execution_count": 14,
   "id": "5b8e33ab",
   "metadata": {},
   "outputs": [
    {
     "name": "stdout",
     "output_type": "stream",
     "text": [
      "S4 model: saving model ... S4 Noise: saving noise model ... [DONE]\n",
      "[DONE]\n"
     ]
    }
   ],
   "source": [
    "s4_model.save_models(\n",
    "    file_name_noise_model=\"test_noise_model\",\n",
    "    file_name_normalization_model=\"test_normalization_model\")"
   ]
  },
  {
   "cell_type": "markdown",
   "id": "20c17513",
   "metadata": {},
   "source": [
    "# Test old S4 solution with closed form"
   ]
  },
  {
   "cell_type": "code",
   "execution_count": 15,
   "id": "ba3bb81c",
   "metadata": {},
   "outputs": [],
   "source": [
    "s4_model = S4(\n",
    "    science_cube=science_stacked,\n",
    "    adi_angles=angles_stacked,\n",
    "    psf_template=psf_template_data,\n",
    "    noise_cut_radius_psf=3.6,\n",
    "    noise_mask_radius=5.4,\n",
    "    device=0,\n",
    "    work_dir=\"/fast/mbonse/s4/70_results/09_new_rotation_loss/xx_test_new_implementation\",\n",
    "    noise_normalization=\"normal\",\n",
    "    noise_model_lambda_init=best_lambda,\n",
    "    noise_model_convolve=True,\n",
    "    rotation_grid_subsample=1,\n",
    "    verbose=True)"
   ]
  },
  {
   "cell_type": "code",
   "execution_count": null,
   "id": "1b493475",
   "metadata": {
    "scrolled": true
   },
   "outputs": [
    {
     "name": "stdout",
     "output_type": "stream",
     "text": [
      "S4 model: Find noise model closed form and fine tune. ... S4 model: finding closed form noise model ... S4 Noise: fitting noise model ... Fitting ... "
     ]
    },
    {
     "name": "stderr",
     "output_type": "stream",
     "text": [
      "  2%|██▍                                                                                                                                                              | 207/13689 [01:46<1:53:16,  1.98it/s]"
     ]
    }
   ],
   "source": [
    "s4_model.fit_noise_model_closed_form(\n",
    "    num_epochs=100,\n",
    "    training_name=\"105c_closed_form\",\n",
    "    logging_interval=1,\n",
    "    learning_rate=1e-6)"
   ]
  },
  {
   "cell_type": "markdown",
   "id": "208485f8",
   "metadata": {},
   "source": [
    "# Test save and restoring the models"
   ]
  },
  {
   "cell_type": "code",
   "execution_count": null,
   "id": "595248fe",
   "metadata": {},
   "outputs": [],
   "source": [
    "s4_model = S4.create_from_checkpoint(\n",
    "    noise_model_file=\"/fast/mbonse/s4/70_results/09_new_rotation_loss/xx_test_new_implementation/models/test_noise_model\",\n",
    "    normalization_model_file=\"/fast/mbonse/s4/70_results/09_new_rotation_loss/xx_test_new_implementation/models/test_normalization_model\",\n",
    "    s4_work_dir=\"/fast/mbonse/s4/70_results/09_new_rotation_loss/xx_test_new_implementation\",\n",
    "    science_cube=science_stacked,\n",
    "    adi_angles=angles_stacked,\n",
    "    psf_template=psf_template_data,\n",
    "    device=0,\n",
    "    verbose=True)"
   ]
  },
  {
   "cell_type": "markdown",
   "id": "38e37462",
   "metadata": {},
   "source": [
    "## Test get residual on restored model"
   ]
  },
  {
   "cell_type": "code",
   "execution_count": null,
   "id": "de42b161",
   "metadata": {},
   "outputs": [],
   "source": [
    "residual = s4_model.compute_residual()"
   ]
  },
  {
   "cell_type": "code",
   "execution_count": null,
   "id": "c1cb0358",
   "metadata": {},
   "outputs": [],
   "source": [
    "plt.imshow(residual)"
   ]
  }
 ],
 "metadata": {
  "kernelspec": {
   "display_name": "Python 3 (ipykernel)",
   "language": "python",
   "name": "python3"
  },
  "language_info": {
   "codemirror_mode": {
    "name": "ipython",
    "version": 3
   },
   "file_extension": ".py",
   "mimetype": "text/x-python",
   "name": "python",
   "nbconvert_exporter": "python",
   "pygments_lexer": "ipython3",
   "version": "3.10.10"
  }
 },
 "nbformat": 4,
 "nbformat_minor": 5
}
