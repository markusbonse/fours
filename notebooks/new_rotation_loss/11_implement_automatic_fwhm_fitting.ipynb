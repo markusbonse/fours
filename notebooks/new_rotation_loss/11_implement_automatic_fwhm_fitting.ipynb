{
 "cells": [
  {
   "cell_type": "code",
   "execution_count": 1,
   "id": "3a8104cf",
   "metadata": {},
   "outputs": [],
   "source": [
    "import json\n",
    "import numpy as np\n",
    "import matplotlib.pyplot as plt\n",
    "\n",
    "import torch\n",
    "from torch import optim\n",
    "from s4hci.utils.data_handling import load_adi_data\n",
    "from applefy.utils.file_handling import open_fits, save_as_fits\n",
    "from applefy.utils.fake_planets import add_fake_planets"
   ]
  },
  {
   "cell_type": "code",
   "execution_count": 2,
   "id": "457d11f6",
   "metadata": {},
   "outputs": [],
   "source": [
    "from s4hci.models.psf_subtraction import S4"
   ]
  },
  {
   "cell_type": "code",
   "execution_count": 3,
   "id": "6fff3050",
   "metadata": {},
   "outputs": [],
   "source": [
    "torch.set_float32_matmul_precision(\"high\")"
   ]
  },
  {
   "cell_type": "markdown",
   "id": "e2fe94b6",
   "metadata": {},
   "source": [
    "# Load the data and insert the fake planet"
   ]
  },
  {
   "cell_type": "code",
   "execution_count": 4,
   "id": "0832fed5",
   "metadata": {},
   "outputs": [],
   "source": [
    "# 2.) Load the dataset\n",
    "science_data, raw_angles, raw_psf_template_data = \\\n",
    "    load_adi_data(\n",
    "        hdf5_dataset=\"/fast/mbonse/s4/30_data/HD22049_303_199_C-0065_C_.hdf5\",\n",
    "        data_tag=\"object\",\n",
    "        psf_template_tag=\"psf_template\",\n",
    "        para_tag=\"header_object/PARANG\")\n",
    "\n",
    "science_data = science_data[:, 35:-35, 35:-35]\n",
    "raw_angles = raw_angles[:]\n",
    "\n",
    "# Background subtraction of the PSF template\n",
    "psf_template_data = np.median(raw_psf_template_data, axis=0)\n",
    "psf_template_data = psf_template_data - np.min(psf_template_data)"
   ]
  },
  {
   "cell_type": "code",
   "execution_count": 5,
   "id": "04820201",
   "metadata": {},
   "outputs": [
    {
     "data": {
      "text/plain": [
       "10764.111528773727"
      ]
     },
     "execution_count": 5,
     "metadata": {},
     "output_type": "execute_result"
    }
   ],
   "source": [
    "np.max(psf_template_data)"
   ]
  },
  {
   "cell_type": "markdown",
   "id": "196ffcce",
   "metadata": {},
   "source": [
    "# Fit the FWHM"
   ]
  },
  {
   "cell_type": "code",
   "execution_count": 6,
   "id": "c7cc16eb",
   "metadata": {},
   "outputs": [],
   "source": [
    "from astropy.modeling.functional_models import Moffat2D\n",
    "from astropy.modeling import fitting"
   ]
  },
  {
   "cell_type": "code",
   "execution_count": 10,
   "id": "a65a4b45",
   "metadata": {},
   "outputs": [],
   "source": [
    "def get_fwhm(psf_template_data):\n",
    "    # Fit the data using astropy.modeling\n",
    "    p_init = Moffat2D(\n",
    "        amplitude=np.max(psf_template),\n",
    "        x_0=psf_template_data.shape[0]/2, \n",
    "        y_0=psf_template_data.shape[1]/2)\n",
    "    fit_p = fitting.LevMarLSQFitter()\n",
    "\n",
    "    y, x = np.mgrid[:psf_template.shape[0],\n",
    "                    :psf_template.shape[1]]\n",
    "    p = fit_p(p_init, x, y, psf_template)\n",
    "    fwhm = np.round(p.fwhm, 1)\n",
    "    \n",
    "    return fwhm"
   ]
  },
  {
   "cell_type": "code",
   "execution_count": 11,
   "id": "a10f4e8a",
   "metadata": {},
   "outputs": [
    {
     "data": {
      "text/plain": [
       "3.6"
      ]
     },
     "execution_count": 11,
     "metadata": {},
     "output_type": "execute_result"
    }
   ],
   "source": [
    "get_fwhm(psf_template_data)"
   ]
  },
  {
   "cell_type": "code",
   "execution_count": null,
   "id": "5585b32e",
   "metadata": {},
   "outputs": [],
   "source": []
  }
 ],
 "metadata": {
  "kernelspec": {
   "display_name": "Python 3 (ipykernel)",
   "language": "python",
   "name": "python3"
  },
  "language_info": {
   "codemirror_mode": {
    "name": "ipython",
    "version": 3
   },
   "file_extension": ".py",
   "mimetype": "text/x-python",
   "name": "python",
   "nbconvert_exporter": "python",
   "pygments_lexer": "ipython3",
   "version": "3.10.10"
  }
 },
 "nbformat": 4,
 "nbformat_minor": 5
}
