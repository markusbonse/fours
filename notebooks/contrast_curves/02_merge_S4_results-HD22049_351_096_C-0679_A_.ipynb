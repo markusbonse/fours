{
 "cells": [
  {
   "cell_type": "markdown",
   "id": "623b9dee",
   "metadata": {},
   "source": [
    "# Imports"
   ]
  },
  {
   "cell_type": "code",
   "execution_count": 1,
   "id": "03a4f38d",
   "metadata": {},
   "outputs": [],
   "source": [
    "from pathlib import Path\n",
    "import numpy as np\n",
    "from applefy.detections.contrast import Contrast\n",
    "import matplotlib.pyplot as plt\n",
    "import seaborn as sns\n",
    "from scipy import interpolate\n",
    "import pandas as pd\n",
    "\n",
    "from s4hci.utils.data_handling import load_adi_data\n",
    "from s4hci.detection_limits.applefy_wrapper import S4DataReduction, cADIDataReduction, PCADataReductionGPU\n",
    "from applefy.utils import flux_ratio2mag, mag2flux_ratio\n",
    "\n",
    "from applefy.utils.photometry import AperturePhotometryMode\n",
    "from applefy.statistics import TTest, gaussian_sigma_2_fpf, \\\n",
    "    fpf_2_gaussian_sigma, LaplaceBootstrapTest\n",
    "\n",
    "from applefy.utils.positions import center_subpixel"
   ]
  },
  {
   "cell_type": "markdown",
   "id": "8b14504a",
   "metadata": {},
   "source": [
    "# Files we need"
   ]
  },
  {
   "cell_type": "code",
   "execution_count": 2,
   "id": "4f1b343c",
   "metadata": {},
   "outputs": [],
   "source": [
    "dataset_name = \"HD22049_351_096_C-0679_A_\""
   ]
  },
  {
   "cell_type": "code",
   "execution_count": 3,
   "id": "da741a0a",
   "metadata": {},
   "outputs": [],
   "source": [
    "dataset_file = Path(\"/fast/mbonse/s4/30_data/\" + dataset_name + \".hdf5\")\n",
    "experiment_root_dir = Path(\"/fast/mbonse/s4/70_results/06_contrast_curves/02_cc_restored_models\")\n",
    "pre_trained_noise_model = \"/fast/mbonse/s4/70_results/06_contrast_curves/01_train_each_model_once/\" + dataset_name + \"/models/noise_model_fine_tuned.pkl\"\n",
    "pre_trained_normalization = \"/fast/mbonse/s4/70_results/06_contrast_curves/01_train_each_model_once/\" + dataset_name + \"/models/normalization_model.pkl\""
   ]
  },
  {
   "cell_type": "markdown",
   "id": "b30503f1",
   "metadata": {},
   "source": [
    "# Load the data"
   ]
  },
  {
   "cell_type": "code",
   "execution_count": 4,
   "id": "64822890",
   "metadata": {},
   "outputs": [],
   "source": [
    "# we need the psf template for contrast calculation\n",
    "science_data, angles, raw_psf_template_data = load_adi_data(\n",
    "    dataset_file,\n",
    "    data_tag=\"object\",\n",
    "    psf_template_tag=\"psf_template\",\n",
    "    para_tag=\"header_object/PARANG\")\n",
    "\n",
    "dit_psf_template = 0.0042560\n",
    "dit_science = 0.08\n",
    "\n",
    "science_data = science_data[:, 12:-12, 12:-12]\n",
    "\n",
    "psf_template = np.median(raw_psf_template_data, axis=0)\n",
    "psf_template = psf_template - np.min(psf_template)"
   ]
  },
  {
   "cell_type": "markdown",
   "id": "722ea7b1",
   "metadata": {},
   "source": [
    "# Fit the FWHM"
   ]
  },
  {
   "cell_type": "code",
   "execution_count": 5,
   "id": "fea8bc09",
   "metadata": {},
   "outputs": [],
   "source": [
    "from astropy.modeling.functional_models import Moffat2D\n",
    "from astropy.modeling import fitting"
   ]
  },
  {
   "cell_type": "code",
   "execution_count": 6,
   "id": "6808ee3d",
   "metadata": {},
   "outputs": [],
   "source": [
    "# Fit the data using astropy.modeling\n",
    "p_init = Moffat2D(amplitude=1e4, x_0=10, y_0=10)\n",
    "fit_p = fitting.LevMarLSQFitter()\n",
    "\n",
    "y, x = np.mgrid[:psf_template.shape[0],\n",
    "                :psf_template.shape[1]]\n",
    "p = fit_p(p_init, x, y, psf_template)"
   ]
  },
  {
   "cell_type": "code",
   "execution_count": 7,
   "id": "49367c91",
   "metadata": {},
   "outputs": [
    {
     "data": {
      "text/plain": [
       "3.6"
      ]
     },
     "execution_count": 7,
     "metadata": {},
     "output_type": "execute_result"
    }
   ],
   "source": [
    "fwhm = np.round(p.fwhm, 1)\n",
    "fwhm"
   ]
  },
  {
   "cell_type": "markdown",
   "id": "6106b026",
   "metadata": {},
   "source": [
    "# Create fake planet experiments"
   ]
  },
  {
   "cell_type": "code",
   "execution_count": 8,
   "id": "82deb9d3",
   "metadata": {},
   "outputs": [],
   "source": [
    "tmp_exp_root = experiment_root_dir / dataset_file.name[:-5]\n",
    "tmp_exp_root.mkdir(exist_ok=True)"
   ]
  },
  {
   "cell_type": "code",
   "execution_count": 9,
   "id": "d6dd058a",
   "metadata": {},
   "outputs": [],
   "source": [
    "contrast_instance = Contrast(\n",
    "    science_sequence=science_data,\n",
    "    psf_template=psf_template,\n",
    "    parang_rad=angles,\n",
    "    psf_fwhm_radius=fwhm / 2,\n",
    "    dit_psf_template=dit_psf_template,\n",
    "    dit_science=dit_science,\n",
    "    scaling_factor=1., # A factor to account e.g. for ND filters\n",
    "    checkpoint_dir=tmp_exp_root)"
   ]
  },
  {
   "cell_type": "code",
   "execution_count": 10,
   "id": "3171711c",
   "metadata": {},
   "outputs": [
    {
     "name": "stdout",
     "output_type": "stream",
     "text": [
      "Brightness of fake planets in mag: 14\n",
      "Planet-to-star flux ratio: 2.5118864315095823e-06\n"
     ]
    }
   ],
   "source": [
    "# fake planet brightness\n",
    "flux_ratio_mag = 14\n",
    "flux_ratio = mag2flux_ratio(flux_ratio_mag)\n",
    "\n",
    "print(\"Brightness of fake planets in mag: \" + str(flux_ratio_mag))\n",
    "print(\"Planet-to-star flux ratio: \" + str(flux_ratio))"
   ]
  },
  {
   "cell_type": "code",
   "execution_count": 11,
   "id": "7133c9cb",
   "metadata": {},
   "outputs": [
    {
     "data": {
      "text/plain": [
       "array([ 3.6,  5.4,  7.2,  9. , 10.8, 12.6, 14.4, 16.2, 18. , 19.8, 21.6,\n",
       "       23.4, 25.2, 27. , 28.8, 30.6, 32.4, 34.2, 36. , 37.8, 39.6, 41.4,\n",
       "       43.2, 45. , 46.8, 48.6, 50.4, 52.2, 54. , 55.8, 57.6])"
      ]
     },
     "execution_count": 11,
     "metadata": {},
     "output_type": "execute_result"
    }
   ],
   "source": [
    "center = center_subpixel(science_data[0])\n",
    "separations = np.arange(0, center[0], fwhm / 2.)[2:]\n",
    "separations"
   ]
  },
  {
   "cell_type": "code",
   "execution_count": 12,
   "id": "75951dce",
   "metadata": {},
   "outputs": [
    {
     "name": "stdout",
     "output_type": "stream",
     "text": [
      "Overwriting existing config files.\n"
     ]
    }
   ],
   "source": [
    "num_fake_planets = 6\n",
    "\n",
    "contrast_instance.design_fake_planet_experiments(\n",
    "    flux_ratios=flux_ratio,\n",
    "    num_planets=num_fake_planets,\n",
    "    separations=separations,\n",
    "    overwrite=True)"
   ]
  },
  {
   "cell_type": "markdown",
   "id": "705c1bf2",
   "metadata": {},
   "source": [
    "# Create S4 model"
   ]
  },
  {
   "cell_type": "code",
   "execution_count": 13,
   "id": "0f563a76",
   "metadata": {},
   "outputs": [],
   "source": [
    "s4_model = S4DataReduction(\n",
    "    noise_model_file=pre_trained_noise_model,\n",
    "    normalization_model_file=pre_trained_normalization,\n",
    "    device = \"cpu\",\n",
    "    work_dir = None,\n",
    "    verbose = True)"
   ]
  },
  {
   "cell_type": "code",
   "execution_count": 14,
   "id": "efba674c",
   "metadata": {},
   "outputs": [
    {
     "name": "stdout",
     "output_type": "stream",
     "text": [
      "Running fake planet experiments..."
     ]
    },
    {
     "name": "stderr",
     "output_type": "stream",
     "text": [
      "100%|█████████████████████████████████████████████████████████████████████████████████████████████████████████████████████████████████████████████████████████████████████████████████████████████████████████████████████████████████████████████████████████████████████████████████████████████████████████████████████████████████████| 187/187 [00:02<00:00, 69.51it/s]"
     ]
    },
    {
     "name": "stdout",
     "output_type": "stream",
     "text": [
      "[DONE]\n"
     ]
    },
    {
     "name": "stderr",
     "output_type": "stream",
     "text": [
      "\n"
     ]
    }
   ],
   "source": [
    "contrast_instance.run_fake_planet_experiments(\n",
    "    algorithm_function=s4_model,\n",
    "    num_parallel=1)"
   ]
  },
  {
   "cell_type": "markdown",
   "id": "5ed5e6bb",
   "metadata": {},
   "source": [
    "# Create PCA model"
   ]
  },
  {
   "cell_type": "code",
   "execution_count": 15,
   "id": "aba38019",
   "metadata": {},
   "outputs": [],
   "source": [
    "pca_model = PCADataReductionGPU(\n",
    "    approx_svd=10000,\n",
    "    pca_numbers=np.concatenate(\n",
    "        [np.arange(1, 100, 2),\n",
    "         np.arange(100, 505, 5)]),\n",
    "    device=\"cpu\",\n",
    "    verbose=False)"
   ]
  },
  {
   "cell_type": "code",
   "execution_count": 16,
   "id": "ee04bd4e",
   "metadata": {},
   "outputs": [
    {
     "name": "stdout",
     "output_type": "stream",
     "text": [
      "Running fake planet experiments..."
     ]
    },
    {
     "name": "stderr",
     "output_type": "stream",
     "text": [
      "100%|█████████████████████████████████████████████████████████████████████████████████████████████████████████████████████████████████████████████████████████████████████████████████████████████████████████████████████████████████████████████████████████████████████████████████████████████████████████████████████████████████████| 187/187 [02:52<00:00,  1.09it/s]"
     ]
    },
    {
     "name": "stdout",
     "output_type": "stream",
     "text": [
      "[DONE]\n"
     ]
    },
    {
     "name": "stderr",
     "output_type": "stream",
     "text": [
      "\n"
     ]
    }
   ],
   "source": [
    "old_results = contrast_instance.results_dict\n",
    "contrast_instance.run_fake_planet_experiments(\n",
    "    algorithm_function=pca_model,\n",
    "    num_parallel=1)"
   ]
  },
  {
   "cell_type": "code",
   "execution_count": 17,
   "id": "27441528",
   "metadata": {},
   "outputs": [],
   "source": [
    "contrast_instance.results_dict.update(old_results)"
   ]
  },
  {
   "cell_type": "markdown",
   "id": "3881ce90",
   "metadata": {},
   "source": [
    "# Create cADI model"
   ]
  },
  {
   "cell_type": "code",
   "execution_count": 18,
   "id": "cd7e9acc",
   "metadata": {},
   "outputs": [],
   "source": [
    "cadi_model = cADIDataReduction()"
   ]
  },
  {
   "cell_type": "code",
   "execution_count": 19,
   "id": "1409e743",
   "metadata": {},
   "outputs": [
    {
     "name": "stdout",
     "output_type": "stream",
     "text": [
      "Running fake planet experiments..."
     ]
    },
    {
     "name": "stderr",
     "output_type": "stream",
     "text": [
      "100%|████████████████████████████████████████████████████████████████████████████████████████████████████████████████████████████████████████████████████████████████████████████████████████████████████████████████████████████████████████████████████████████████████████████████████████████████████████████████████████████████████| 187/187 [00:01<00:00, 121.18it/s]"
     ]
    },
    {
     "name": "stdout",
     "output_type": "stream",
     "text": [
      "[DONE]\n"
     ]
    },
    {
     "name": "stderr",
     "output_type": "stream",
     "text": [
      "\n"
     ]
    }
   ],
   "source": [
    "old_results = contrast_instance.results_dict\n",
    "contrast_instance.run_fake_planet_experiments(\n",
    "    algorithm_function=cadi_model,\n",
    "    num_parallel=1)"
   ]
  },
  {
   "cell_type": "code",
   "execution_count": 20,
   "id": "bd61858e",
   "metadata": {},
   "outputs": [],
   "source": [
    "contrast_instance.results_dict.update(old_results)"
   ]
  },
  {
   "cell_type": "code",
   "execution_count": 21,
   "id": "dd438c68",
   "metadata": {},
   "outputs": [
    {
     "data": {
      "text/plain": [
       "dict_keys(['cADI', 'PCA_001_components', 'PCA_003_components', 'PCA_005_components', 'PCA_007_components', 'PCA_009_components', 'PCA_011_components', 'PCA_013_components', 'PCA_015_components', 'PCA_017_components', 'PCA_019_components', 'PCA_021_components', 'PCA_023_components', 'PCA_025_components', 'PCA_027_components', 'PCA_029_components', 'PCA_031_components', 'PCA_033_components', 'PCA_035_components', 'PCA_037_components', 'PCA_039_components', 'PCA_041_components', 'PCA_043_components', 'PCA_045_components', 'PCA_047_components', 'PCA_049_components', 'PCA_051_components', 'PCA_053_components', 'PCA_055_components', 'PCA_057_components', 'PCA_059_components', 'PCA_061_components', 'PCA_063_components', 'PCA_065_components', 'PCA_067_components', 'PCA_069_components', 'PCA_071_components', 'PCA_073_components', 'PCA_075_components', 'PCA_077_components', 'PCA_079_components', 'PCA_081_components', 'PCA_083_components', 'PCA_085_components', 'PCA_087_components', 'PCA_089_components', 'PCA_091_components', 'PCA_093_components', 'PCA_095_components', 'PCA_097_components', 'PCA_099_components', 'PCA_100_components', 'PCA_105_components', 'PCA_110_components', 'PCA_115_components', 'PCA_120_components', 'PCA_125_components', 'PCA_130_components', 'PCA_135_components', 'PCA_140_components', 'PCA_145_components', 'PCA_150_components', 'PCA_155_components', 'PCA_160_components', 'PCA_165_components', 'PCA_170_components', 'PCA_175_components', 'PCA_180_components', 'PCA_185_components', 'PCA_190_components', 'PCA_195_components', 'PCA_200_components', 'PCA_205_components', 'PCA_210_components', 'PCA_215_components', 'PCA_220_components', 'PCA_225_components', 'PCA_230_components', 'PCA_235_components', 'PCA_240_components', 'PCA_245_components', 'PCA_250_components', 'PCA_255_components', 'PCA_260_components', 'PCA_265_components', 'PCA_270_components', 'PCA_275_components', 'PCA_280_components', 'PCA_285_components', 'PCA_290_components', 'PCA_295_components', 'PCA_300_components', 'PCA_305_components', 'PCA_310_components', 'PCA_315_components', 'PCA_320_components', 'PCA_325_components', 'PCA_330_components', 'PCA_335_components', 'PCA_340_components', 'PCA_345_components', 'PCA_350_components', 'PCA_355_components', 'PCA_360_components', 'PCA_365_components', 'PCA_370_components', 'PCA_375_components', 'PCA_380_components', 'PCA_385_components', 'PCA_390_components', 'PCA_395_components', 'PCA_400_components', 'PCA_405_components', 'PCA_410_components', 'PCA_415_components', 'PCA_420_components', 'PCA_425_components', 'PCA_430_components', 'PCA_435_components', 'PCA_440_components', 'PCA_445_components', 'PCA_450_components', 'PCA_455_components', 'PCA_460_components', 'PCA_465_components', 'PCA_470_components', 'PCA_475_components', 'PCA_480_components', 'PCA_485_components', 'PCA_490_components', 'PCA_495_components', 'PCA_500_components', 's4_mean', 's4_median'])"
      ]
     },
     "execution_count": 21,
     "metadata": {},
     "output_type": "execute_result"
    }
   ],
   "source": [
    "contrast_instance.results_dict.keys()"
   ]
  },
  {
   "cell_type": "markdown",
   "id": "620d323f",
   "metadata": {},
   "source": [
    "# Compute the contrast curve"
   ]
  },
  {
   "cell_type": "code",
   "execution_count": 22,
   "id": "4a9757f8",
   "metadata": {},
   "outputs": [],
   "source": [
    "# Use apertures pixel values\n",
    "photometry_mode_planet = AperturePhotometryMode(\n",
    "    \"AS\", # or \"AS\"\n",
    "    psf_fwhm_radius=fwhm/2,\n",
    "    search_area=0.5)\n",
    "\n",
    "photometry_mode_noise = AperturePhotometryMode(\n",
    "    \"AS\",\n",
    "    psf_fwhm_radius=fwhm/2)"
   ]
  },
  {
   "cell_type": "code",
   "execution_count": 23,
   "id": "9d177739",
   "metadata": {},
   "outputs": [],
   "source": [
    "contrast_instance.prepare_contrast_results(\n",
    "    photometry_mode_planet=photometry_mode_planet,\n",
    "    photometry_mode_noise=photometry_mode_noise)"
   ]
  },
  {
   "cell_type": "code",
   "execution_count": 24,
   "id": "826b7c4a",
   "metadata": {},
   "outputs": [],
   "source": [
    "statistical_test = TTest()"
   ]
  },
  {
   "cell_type": "code",
   "execution_count": 25,
   "id": "1b270551",
   "metadata": {
    "scrolled": true
   },
   "outputs": [
    {
     "name": "stdout",
     "output_type": "stream",
     "text": [
      "Computing contrast curve for cADI\n"
     ]
    },
    {
     "name": "stderr",
     "output_type": "stream",
     "text": [
      "100%|███████████████████████████████████████████████████████████████████████████████████████████████████████████████████████████████████████████████████████████████████████████████████████████████████████████████████████████████████████████████████████████████████████████████████████████████████████████████████████████████████████| 31/31 [00:37<00:00,  1.22s/it]\n"
     ]
    },
    {
     "name": "stdout",
     "output_type": "stream",
     "text": [
      "Computing contrast curve for PCA_001_components\n"
     ]
    },
    {
     "name": "stderr",
     "output_type": "stream",
     "text": [
      "100%|███████████████████████████████████████████████████████████████████████████████████████████████████████████████████████████████████████████████████████████████████████████████████████████████████████████████████████████████████████████████████████████████████████████████████████████████████████████████████████████████████████| 31/31 [00:37<00:00,  1.21s/it]\n"
     ]
    },
    {
     "name": "stdout",
     "output_type": "stream",
     "text": [
      "Computing contrast curve for PCA_003_components\n"
     ]
    },
    {
     "name": "stderr",
     "output_type": "stream",
     "text": [
      "100%|███████████████████████████████████████████████████████████████████████████████████████████████████████████████████████████████████████████████████████████████████████████████████████████████████████████████████████████████████████████████████████████████████████████████████████████████████████████████████████████████████████| 31/31 [00:37<00:00,  1.20s/it]\n"
     ]
    },
    {
     "name": "stdout",
     "output_type": "stream",
     "text": [
      "Computing contrast curve for PCA_005_components\n"
     ]
    },
    {
     "name": "stderr",
     "output_type": "stream",
     "text": [
      "100%|███████████████████████████████████████████████████████████████████████████████████████████████████████████████████████████████████████████████████████████████████████████████████████████████████████████████████████████████████████████████████████████████████████████████████████████████████████████████████████████████████████| 31/31 [00:37<00:00,  1.21s/it]\n"
     ]
    },
    {
     "name": "stdout",
     "output_type": "stream",
     "text": [
      "Computing contrast curve for PCA_007_components\n"
     ]
    },
    {
     "name": "stderr",
     "output_type": "stream",
     "text": [
      "100%|███████████████████████████████████████████████████████████████████████████████████████████████████████████████████████████████████████████████████████████████████████████████████████████████████████████████████████████████████████████████████████████████████████████████████████████████████████████████████████████████████████| 31/31 [00:37<00:00,  1.22s/it]\n"
     ]
    },
    {
     "name": "stdout",
     "output_type": "stream",
     "text": [
      "Computing contrast curve for PCA_009_components\n"
     ]
    },
    {
     "name": "stderr",
     "output_type": "stream",
     "text": [
      "100%|███████████████████████████████████████████████████████████████████████████████████████████████████████████████████████████████████████████████████████████████████████████████████████████████████████████████████████████████████████████████████████████████████████████████████████████████████████████████████████████████████████| 31/31 [00:37<00:00,  1.20s/it]\n"
     ]
    },
    {
     "name": "stdout",
     "output_type": "stream",
     "text": [
      "Computing contrast curve for PCA_011_components\n"
     ]
    },
    {
     "name": "stderr",
     "output_type": "stream",
     "text": [
      "100%|███████████████████████████████████████████████████████████████████████████████████████████████████████████████████████████████████████████████████████████████████████████████████████████████████████████████████████████████████████████████████████████████████████████████████████████████████████████████████████████████████████| 31/31 [00:37<00:00,  1.22s/it]\n"
     ]
    },
    {
     "name": "stdout",
     "output_type": "stream",
     "text": [
      "Computing contrast curve for PCA_013_components\n"
     ]
    },
    {
     "name": "stderr",
     "output_type": "stream",
     "text": [
      "100%|███████████████████████████████████████████████████████████████████████████████████████████████████████████████████████████████████████████████████████████████████████████████████████████████████████████████████████████████████████████████████████████████████████████████████████████████████████████████████████████████████████| 31/31 [00:37<00:00,  1.21s/it]\n"
     ]
    },
    {
     "name": "stdout",
     "output_type": "stream",
     "text": [
      "Computing contrast curve for PCA_015_components\n"
     ]
    },
    {
     "name": "stderr",
     "output_type": "stream",
     "text": [
      "100%|███████████████████████████████████████████████████████████████████████████████████████████████████████████████████████████████████████████████████████████████████████████████████████████████████████████████████████████████████████████████████████████████████████████████████████████████████████████████████████████████████████| 31/31 [00:37<00:00,  1.21s/it]\n"
     ]
    },
    {
     "name": "stdout",
     "output_type": "stream",
     "text": [
      "Computing contrast curve for PCA_017_components\n"
     ]
    },
    {
     "name": "stderr",
     "output_type": "stream",
     "text": [
      "100%|███████████████████████████████████████████████████████████████████████████████████████████████████████████████████████████████████████████████████████████████████████████████████████████████████████████████████████████████████████████████████████████████████████████████████████████████████████████████████████████████████████| 31/31 [00:37<00:00,  1.22s/it]\n"
     ]
    },
    {
     "name": "stdout",
     "output_type": "stream",
     "text": [
      "Computing contrast curve for PCA_019_components\n"
     ]
    },
    {
     "name": "stderr",
     "output_type": "stream",
     "text": [
      "100%|███████████████████████████████████████████████████████████████████████████████████████████████████████████████████████████████████████████████████████████████████████████████████████████████████████████████████████████████████████████████████████████████████████████████████████████████████████████████████████████████████████| 31/31 [00:37<00:00,  1.20s/it]\n"
     ]
    },
    {
     "name": "stdout",
     "output_type": "stream",
     "text": [
      "Computing contrast curve for PCA_021_components\n"
     ]
    },
    {
     "name": "stderr",
     "output_type": "stream",
     "text": [
      "100%|███████████████████████████████████████████████████████████████████████████████████████████████████████████████████████████████████████████████████████████████████████████████████████████████████████████████████████████████████████████████████████████████████████████████████████████████████████████████████████████████████████| 31/31 [00:37<00:00,  1.20s/it]\n"
     ]
    },
    {
     "name": "stdout",
     "output_type": "stream",
     "text": [
      "Computing contrast curve for PCA_023_components\n"
     ]
    },
    {
     "name": "stderr",
     "output_type": "stream",
     "text": [
      "100%|███████████████████████████████████████████████████████████████████████████████████████████████████████████████████████████████████████████████████████████████████████████████████████████████████████████████████████████████████████████████████████████████████████████████████████████████████████████████████████████████████████| 31/31 [00:37<00:00,  1.21s/it]\n"
     ]
    },
    {
     "name": "stdout",
     "output_type": "stream",
     "text": [
      "Computing contrast curve for PCA_025_components\n"
     ]
    },
    {
     "name": "stderr",
     "output_type": "stream",
     "text": [
      "100%|███████████████████████████████████████████████████████████████████████████████████████████████████████████████████████████████████████████████████████████████████████████████████████████████████████████████████████████████████████████████████████████████████████████████████████████████████████████████████████████████████████| 31/31 [00:37<00:00,  1.20s/it]\n"
     ]
    },
    {
     "name": "stdout",
     "output_type": "stream",
     "text": [
      "Computing contrast curve for PCA_027_components\n"
     ]
    },
    {
     "name": "stderr",
     "output_type": "stream",
     "text": [
      "100%|███████████████████████████████████████████████████████████████████████████████████████████████████████████████████████████████████████████████████████████████████████████████████████████████████████████████████████████████████████████████████████████████████████████████████████████████████████████████████████████████████████| 31/31 [00:37<00:00,  1.21s/it]\n"
     ]
    },
    {
     "name": "stdout",
     "output_type": "stream",
     "text": [
      "Computing contrast curve for PCA_029_components\n"
     ]
    },
    {
     "name": "stderr",
     "output_type": "stream",
     "text": [
      "100%|███████████████████████████████████████████████████████████████████████████████████████████████████████████████████████████████████████████████████████████████████████████████████████████████████████████████████████████████████████████████████████████████████████████████████████████████████████████████████████████████████████| 31/31 [00:37<00:00,  1.22s/it]\n"
     ]
    },
    {
     "name": "stdout",
     "output_type": "stream",
     "text": [
      "Computing contrast curve for PCA_031_components\n"
     ]
    },
    {
     "name": "stderr",
     "output_type": "stream",
     "text": [
      "100%|███████████████████████████████████████████████████████████████████████████████████████████████████████████████████████████████████████████████████████████████████████████████████████████████████████████████████████████████████████████████████████████████████████████████████████████████████████████████████████████████████████| 31/31 [00:37<00:00,  1.21s/it]\n"
     ]
    },
    {
     "name": "stdout",
     "output_type": "stream",
     "text": [
      "Computing contrast curve for PCA_033_components\n"
     ]
    },
    {
     "name": "stderr",
     "output_type": "stream",
     "text": [
      "100%|███████████████████████████████████████████████████████████████████████████████████████████████████████████████████████████████████████████████████████████████████████████████████████████████████████████████████████████████████████████████████████████████████████████████████████████████████████████████████████████████████████| 31/31 [00:37<00:00,  1.22s/it]\n"
     ]
    },
    {
     "name": "stdout",
     "output_type": "stream",
     "text": [
      "Computing contrast curve for PCA_035_components\n"
     ]
    },
    {
     "name": "stderr",
     "output_type": "stream",
     "text": [
      "100%|███████████████████████████████████████████████████████████████████████████████████████████████████████████████████████████████████████████████████████████████████████████████████████████████████████████████████████████████████████████████████████████████████████████████████████████████████████████████████████████████████████| 31/31 [00:37<00:00,  1.21s/it]\n"
     ]
    },
    {
     "name": "stdout",
     "output_type": "stream",
     "text": [
      "Computing contrast curve for PCA_037_components\n"
     ]
    },
    {
     "name": "stderr",
     "output_type": "stream",
     "text": [
      "100%|███████████████████████████████████████████████████████████████████████████████████████████████████████████████████████████████████████████████████████████████████████████████████████████████████████████████████████████████████████████████████████████████████████████████████████████████████████████████████████████████████████| 31/31 [00:37<00:00,  1.21s/it]\n"
     ]
    },
    {
     "name": "stdout",
     "output_type": "stream",
     "text": [
      "Computing contrast curve for PCA_039_components\n"
     ]
    },
    {
     "name": "stderr",
     "output_type": "stream",
     "text": [
      "100%|███████████████████████████████████████████████████████████████████████████████████████████████████████████████████████████████████████████████████████████████████████████████████████████████████████████████████████████████████████████████████████████████████████████████████████████████████████████████████████████████████████| 31/31 [00:37<00:00,  1.22s/it]\n"
     ]
    },
    {
     "name": "stdout",
     "output_type": "stream",
     "text": [
      "Computing contrast curve for PCA_041_components\n"
     ]
    },
    {
     "name": "stderr",
     "output_type": "stream",
     "text": [
      "100%|███████████████████████████████████████████████████████████████████████████████████████████████████████████████████████████████████████████████████████████████████████████████████████████████████████████████████████████████████████████████████████████████████████████████████████████████████████████████████████████████████████| 31/31 [00:37<00:00,  1.20s/it]\n"
     ]
    },
    {
     "name": "stdout",
     "output_type": "stream",
     "text": [
      "Computing contrast curve for PCA_043_components\n"
     ]
    },
    {
     "name": "stderr",
     "output_type": "stream",
     "text": [
      "100%|███████████████████████████████████████████████████████████████████████████████████████████████████████████████████████████████████████████████████████████████████████████████████████████████████████████████████████████████████████████████████████████████████████████████████████████████████████████████████████████████████████| 31/31 [00:37<00:00,  1.22s/it]\n"
     ]
    },
    {
     "name": "stdout",
     "output_type": "stream",
     "text": [
      "Computing contrast curve for PCA_045_components\n"
     ]
    },
    {
     "name": "stderr",
     "output_type": "stream",
     "text": [
      "100%|███████████████████████████████████████████████████████████████████████████████████████████████████████████████████████████████████████████████████████████████████████████████████████████████████████████████████████████████████████████████████████████████████████████████████████████████████████████████████████████████████████| 31/31 [00:37<00:00,  1.22s/it]\n"
     ]
    },
    {
     "name": "stdout",
     "output_type": "stream",
     "text": [
      "Computing contrast curve for PCA_047_components\n"
     ]
    },
    {
     "name": "stderr",
     "output_type": "stream",
     "text": [
      "100%|███████████████████████████████████████████████████████████████████████████████████████████████████████████████████████████████████████████████████████████████████████████████████████████████████████████████████████████████████████████████████████████████████████████████████████████████████████████████████████████████████████| 31/31 [00:37<00:00,  1.20s/it]\n"
     ]
    },
    {
     "name": "stdout",
     "output_type": "stream",
     "text": [
      "Computing contrast curve for PCA_049_components\n"
     ]
    },
    {
     "name": "stderr",
     "output_type": "stream",
     "text": [
      "100%|███████████████████████████████████████████████████████████████████████████████████████████████████████████████████████████████████████████████████████████████████████████████████████████████████████████████████████████████████████████████████████████████████████████████████████████████████████████████████████████████████████| 31/31 [00:37<00:00,  1.21s/it]\n"
     ]
    },
    {
     "name": "stdout",
     "output_type": "stream",
     "text": [
      "Computing contrast curve for PCA_051_components\n"
     ]
    },
    {
     "name": "stderr",
     "output_type": "stream",
     "text": [
      "100%|███████████████████████████████████████████████████████████████████████████████████████████████████████████████████████████████████████████████████████████████████████████████████████████████████████████████████████████████████████████████████████████████████████████████████████████████████████████████████████████████████████| 31/31 [00:37<00:00,  1.20s/it]\n"
     ]
    },
    {
     "name": "stdout",
     "output_type": "stream",
     "text": [
      "Computing contrast curve for PCA_053_components\n"
     ]
    },
    {
     "name": "stderr",
     "output_type": "stream",
     "text": [
      "100%|███████████████████████████████████████████████████████████████████████████████████████████████████████████████████████████████████████████████████████████████████████████████████████████████████████████████████████████████████████████████████████████████████████████████████████████████████████████████████████████████████████| 31/31 [00:37<00:00,  1.21s/it]\n"
     ]
    },
    {
     "name": "stdout",
     "output_type": "stream",
     "text": [
      "Computing contrast curve for PCA_055_components\n"
     ]
    },
    {
     "name": "stderr",
     "output_type": "stream",
     "text": [
      "100%|███████████████████████████████████████████████████████████████████████████████████████████████████████████████████████████████████████████████████████████████████████████████████████████████████████████████████████████████████████████████████████████████████████████████████████████████████████████████████████████████████████| 31/31 [00:37<00:00,  1.22s/it]\n"
     ]
    },
    {
     "name": "stdout",
     "output_type": "stream",
     "text": [
      "Computing contrast curve for PCA_057_components\n"
     ]
    },
    {
     "name": "stderr",
     "output_type": "stream",
     "text": [
      "100%|███████████████████████████████████████████████████████████████████████████████████████████████████████████████████████████████████████████████████████████████████████████████████████████████████████████████████████████████████████████████████████████████████████████████████████████████████████████████████████████████████████| 31/31 [00:37<00:00,  1.20s/it]\n"
     ]
    },
    {
     "name": "stdout",
     "output_type": "stream",
     "text": [
      "Computing contrast curve for PCA_059_components\n"
     ]
    },
    {
     "name": "stderr",
     "output_type": "stream",
     "text": [
      "100%|███████████████████████████████████████████████████████████████████████████████████████████████████████████████████████████████████████████████████████████████████████████████████████████████████████████████████████████████████████████████████████████████████████████████████████████████████████████████████████████████████████| 31/31 [00:37<00:00,  1.22s/it]\n"
     ]
    },
    {
     "name": "stdout",
     "output_type": "stream",
     "text": [
      "Computing contrast curve for PCA_061_components\n"
     ]
    },
    {
     "name": "stderr",
     "output_type": "stream",
     "text": [
      "100%|███████████████████████████████████████████████████████████████████████████████████████████████████████████████████████████████████████████████████████████████████████████████████████████████████████████████████████████████████████████████████████████████████████████████████████████████████████████████████████████████████████| 31/31 [00:37<00:00,  1.21s/it]\n"
     ]
    },
    {
     "name": "stdout",
     "output_type": "stream",
     "text": [
      "Computing contrast curve for PCA_063_components\n"
     ]
    },
    {
     "name": "stderr",
     "output_type": "stream",
     "text": [
      "100%|███████████████████████████████████████████████████████████████████████████████████████████████████████████████████████████████████████████████████████████████████████████████████████████████████████████████████████████████████████████████████████████████████████████████████████████████████████████████████████████████████████| 31/31 [00:37<00:00,  1.21s/it]\n"
     ]
    },
    {
     "name": "stdout",
     "output_type": "stream",
     "text": [
      "Computing contrast curve for PCA_065_components\n"
     ]
    },
    {
     "name": "stderr",
     "output_type": "stream",
     "text": [
      "100%|███████████████████████████████████████████████████████████████████████████████████████████████████████████████████████████████████████████████████████████████████████████████████████████████████████████████████████████████████████████████████████████████████████████████████████████████████████████████████████████████████████| 31/31 [00:37<00:00,  1.22s/it]\n"
     ]
    },
    {
     "name": "stdout",
     "output_type": "stream",
     "text": [
      "Computing contrast curve for PCA_067_components\n"
     ]
    },
    {
     "name": "stderr",
     "output_type": "stream",
     "text": [
      "100%|███████████████████████████████████████████████████████████████████████████████████████████████████████████████████████████████████████████████████████████████████████████████████████████████████████████████████████████████████████████████████████████████████████████████████████████████████████████████████████████████████████| 31/31 [00:37<00:00,  1.20s/it]\n"
     ]
    },
    {
     "name": "stdout",
     "output_type": "stream",
     "text": [
      "Computing contrast curve for PCA_069_components\n"
     ]
    },
    {
     "name": "stderr",
     "output_type": "stream",
     "text": [
      "100%|███████████████████████████████████████████████████████████████████████████████████████████████████████████████████████████████████████████████████████████████████████████████████████████████████████████████████████████████████████████████████████████████████████████████████████████████████████████████████████████████████████| 31/31 [00:37<00:00,  1.21s/it]\n"
     ]
    },
    {
     "name": "stdout",
     "output_type": "stream",
     "text": [
      "Computing contrast curve for PCA_071_components\n"
     ]
    },
    {
     "name": "stderr",
     "output_type": "stream",
     "text": [
      "100%|███████████████████████████████████████████████████████████████████████████████████████████████████████████████████████████████████████████████████████████████████████████████████████████████████████████████████████████████████████████████████████████████████████████████████████████████████████████████████████████████████████| 31/31 [00:37<00:00,  1.21s/it]\n"
     ]
    },
    {
     "name": "stdout",
     "output_type": "stream",
     "text": [
      "Computing contrast curve for PCA_073_components\n"
     ]
    },
    {
     "name": "stderr",
     "output_type": "stream",
     "text": [
      "100%|███████████████████████████████████████████████████████████████████████████████████████████████████████████████████████████████████████████████████████████████████████████████████████████████████████████████████████████████████████████████████████████████████████████████████████████████████████████████████████████████████████| 31/31 [00:37<00:00,  1.21s/it]\n"
     ]
    },
    {
     "name": "stdout",
     "output_type": "stream",
     "text": [
      "Computing contrast curve for PCA_075_components\n"
     ]
    },
    {
     "name": "stderr",
     "output_type": "stream",
     "text": [
      "100%|███████████████████████████████████████████████████████████████████████████████████████████████████████████████████████████████████████████████████████████████████████████████████████████████████████████████████████████████████████████████████████████████████████████████████████████████████████████████████████████████████████| 31/31 [00:37<00:00,  1.22s/it]\n"
     ]
    },
    {
     "name": "stdout",
     "output_type": "stream",
     "text": [
      "Computing contrast curve for PCA_077_components\n"
     ]
    },
    {
     "name": "stderr",
     "output_type": "stream",
     "text": [
      "100%|███████████████████████████████████████████████████████████████████████████████████████████████████████████████████████████████████████████████████████████████████████████████████████████████████████████████████████████████████████████████████████████████████████████████████████████████████████████████████████████████████████| 31/31 [00:38<00:00,  1.23s/it]\n"
     ]
    },
    {
     "name": "stdout",
     "output_type": "stream",
     "text": [
      "Computing contrast curve for PCA_079_components\n"
     ]
    },
    {
     "name": "stderr",
     "output_type": "stream",
     "text": [
      "100%|███████████████████████████████████████████████████████████████████████████████████████████████████████████████████████████████████████████████████████████████████████████████████████████████████████████████████████████████████████████████████████████████████████████████████████████████████████████████████████████████████████| 31/31 [00:37<00:00,  1.20s/it]\n"
     ]
    },
    {
     "name": "stdout",
     "output_type": "stream",
     "text": [
      "Computing contrast curve for PCA_081_components\n"
     ]
    },
    {
     "name": "stderr",
     "output_type": "stream",
     "text": [
      "100%|███████████████████████████████████████████████████████████████████████████████████████████████████████████████████████████████████████████████████████████████████████████████████████████████████████████████████████████████████████████████████████████████████████████████████████████████████████████████████████████████████████| 31/31 [00:37<00:00,  1.21s/it]\n"
     ]
    },
    {
     "name": "stdout",
     "output_type": "stream",
     "text": [
      "Computing contrast curve for PCA_083_components\n"
     ]
    },
    {
     "name": "stderr",
     "output_type": "stream",
     "text": [
      "100%|███████████████████████████████████████████████████████████████████████████████████████████████████████████████████████████████████████████████████████████████████████████████████████████████████████████████████████████████████████████████████████████████████████████████████████████████████████████████████████████████████████| 31/31 [00:37<00:00,  1.21s/it]\n"
     ]
    },
    {
     "name": "stdout",
     "output_type": "stream",
     "text": [
      "Computing contrast curve for PCA_085_components\n"
     ]
    },
    {
     "name": "stderr",
     "output_type": "stream",
     "text": [
      "100%|███████████████████████████████████████████████████████████████████████████████████████████████████████████████████████████████████████████████████████████████████████████████████████████████████████████████████████████████████████████████████████████████████████████████████████████████████████████████████████████████████████| 31/31 [00:37<00:00,  1.21s/it]\n"
     ]
    },
    {
     "name": "stdout",
     "output_type": "stream",
     "text": [
      "Computing contrast curve for PCA_087_components\n"
     ]
    },
    {
     "name": "stderr",
     "output_type": "stream",
     "text": [
      "100%|███████████████████████████████████████████████████████████████████████████████████████████████████████████████████████████████████████████████████████████████████████████████████████████████████████████████████████████████████████████████████████████████████████████████████████████████████████████████████████████████████████| 31/31 [00:37<00:00,  1.21s/it]\n"
     ]
    },
    {
     "name": "stdout",
     "output_type": "stream",
     "text": [
      "Computing contrast curve for PCA_089_components\n"
     ]
    },
    {
     "name": "stderr",
     "output_type": "stream",
     "text": [
      "100%|███████████████████████████████████████████████████████████████████████████████████████████████████████████████████████████████████████████████████████████████████████████████████████████████████████████████████████████████████████████████████████████████████████████████████████████████████████████████████████████████████████| 31/31 [00:37<00:00,  1.20s/it]\n"
     ]
    },
    {
     "name": "stdout",
     "output_type": "stream",
     "text": [
      "Computing contrast curve for PCA_091_components\n"
     ]
    },
    {
     "name": "stderr",
     "output_type": "stream",
     "text": [
      "100%|███████████████████████████████████████████████████████████████████████████████████████████████████████████████████████████████████████████████████████████████████████████████████████████████████████████████████████████████████████████████████████████████████████████████████████████████████████████████████████████████████████| 31/31 [00:37<00:00,  1.22s/it]\n"
     ]
    },
    {
     "name": "stdout",
     "output_type": "stream",
     "text": [
      "Computing contrast curve for PCA_093_components\n"
     ]
    },
    {
     "name": "stderr",
     "output_type": "stream",
     "text": [
      "100%|███████████████████████████████████████████████████████████████████████████████████████████████████████████████████████████████████████████████████████████████████████████████████████████████████████████████████████████████████████████████████████████████████████████████████████████████████████████████████████████████████████| 31/31 [00:37<00:00,  1.22s/it]\n"
     ]
    },
    {
     "name": "stdout",
     "output_type": "stream",
     "text": [
      "Computing contrast curve for PCA_095_components\n"
     ]
    },
    {
     "name": "stderr",
     "output_type": "stream",
     "text": [
      "100%|███████████████████████████████████████████████████████████████████████████████████████████████████████████████████████████████████████████████████████████████████████████████████████████████████████████████████████████████████████████████████████████████████████████████████████████████████████████████████████████████████████| 31/31 [00:37<00:00,  1.20s/it]\n"
     ]
    },
    {
     "name": "stdout",
     "output_type": "stream",
     "text": [
      "Computing contrast curve for PCA_097_components\n"
     ]
    },
    {
     "name": "stderr",
     "output_type": "stream",
     "text": [
      "100%|███████████████████████████████████████████████████████████████████████████████████████████████████████████████████████████████████████████████████████████████████████████████████████████████████████████████████████████████████████████████████████████████████████████████████████████████████████████████████████████████████████| 31/31 [00:37<00:00,  1.21s/it]\n"
     ]
    },
    {
     "name": "stdout",
     "output_type": "stream",
     "text": [
      "Computing contrast curve for PCA_099_components\n"
     ]
    },
    {
     "name": "stderr",
     "output_type": "stream",
     "text": [
      "100%|███████████████████████████████████████████████████████████████████████████████████████████████████████████████████████████████████████████████████████████████████████████████████████████████████████████████████████████████████████████████████████████████████████████████████████████████████████████████████████████████████████| 31/31 [00:37<00:00,  1.21s/it]\n"
     ]
    },
    {
     "name": "stdout",
     "output_type": "stream",
     "text": [
      "Computing contrast curve for PCA_100_components\n"
     ]
    },
    {
     "name": "stderr",
     "output_type": "stream",
     "text": [
      "100%|███████████████████████████████████████████████████████████████████████████████████████████████████████████████████████████████████████████████████████████████████████████████████████████████████████████████████████████████████████████████████████████████████████████████████████████████████████████████████████████████████████| 31/31 [00:37<00:00,  1.21s/it]\n"
     ]
    },
    {
     "name": "stdout",
     "output_type": "stream",
     "text": [
      "Computing contrast curve for PCA_105_components\n"
     ]
    },
    {
     "name": "stderr",
     "output_type": "stream",
     "text": [
      "100%|███████████████████████████████████████████████████████████████████████████████████████████████████████████████████████████████████████████████████████████████████████████████████████████████████████████████████████████████████████████████████████████████████████████████████████████████████████████████████████████████████████| 31/31 [00:37<00:00,  1.22s/it]\n"
     ]
    },
    {
     "name": "stdout",
     "output_type": "stream",
     "text": [
      "Computing contrast curve for PCA_110_components\n"
     ]
    },
    {
     "name": "stderr",
     "output_type": "stream",
     "text": [
      "100%|███████████████████████████████████████████████████████████████████████████████████████████████████████████████████████████████████████████████████████████████████████████████████████████████████████████████████████████████████████████████████████████████████████████████████████████████████████████████████████████████████████| 31/31 [00:37<00:00,  1.21s/it]\n"
     ]
    },
    {
     "name": "stdout",
     "output_type": "stream",
     "text": [
      "Computing contrast curve for PCA_115_components\n"
     ]
    },
    {
     "name": "stderr",
     "output_type": "stream",
     "text": [
      "100%|███████████████████████████████████████████████████████████████████████████████████████████████████████████████████████████████████████████████████████████████████████████████████████████████████████████████████████████████████████████████████████████████████████████████████████████████████████████████████████████████████████| 31/31 [00:37<00:00,  1.22s/it]\n"
     ]
    },
    {
     "name": "stdout",
     "output_type": "stream",
     "text": [
      "Computing contrast curve for PCA_120_components\n"
     ]
    },
    {
     "name": "stderr",
     "output_type": "stream",
     "text": [
      "100%|███████████████████████████████████████████████████████████████████████████████████████████████████████████████████████████████████████████████████████████████████████████████████████████████████████████████████████████████████████████████████████████████████████████████████████████████████████████████████████████████████████| 31/31 [00:37<00:00,  1.22s/it]\n"
     ]
    },
    {
     "name": "stdout",
     "output_type": "stream",
     "text": [
      "Computing contrast curve for PCA_125_components\n"
     ]
    },
    {
     "name": "stderr",
     "output_type": "stream",
     "text": [
      "100%|███████████████████████████████████████████████████████████████████████████████████████████████████████████████████████████████████████████████████████████████████████████████████████████████████████████████████████████████████████████████████████████████████████████████████████████████████████████████████████████████████████| 31/31 [00:37<00:00,  1.21s/it]\n"
     ]
    },
    {
     "name": "stdout",
     "output_type": "stream",
     "text": [
      "Computing contrast curve for PCA_130_components\n"
     ]
    },
    {
     "name": "stderr",
     "output_type": "stream",
     "text": [
      "100%|███████████████████████████████████████████████████████████████████████████████████████████████████████████████████████████████████████████████████████████████████████████████████████████████████████████████████████████████████████████████████████████████████████████████████████████████████████████████████████████████████████| 31/31 [00:37<00:00,  1.21s/it]\n"
     ]
    },
    {
     "name": "stdout",
     "output_type": "stream",
     "text": [
      "Computing contrast curve for PCA_135_components\n"
     ]
    },
    {
     "name": "stderr",
     "output_type": "stream",
     "text": [
      "100%|███████████████████████████████████████████████████████████████████████████████████████████████████████████████████████████████████████████████████████████████████████████████████████████████████████████████████████████████████████████████████████████████████████████████████████████████████████████████████████████████████████| 31/31 [00:37<00:00,  1.21s/it]\n"
     ]
    },
    {
     "name": "stdout",
     "output_type": "stream",
     "text": [
      "Computing contrast curve for PCA_140_components\n"
     ]
    },
    {
     "name": "stderr",
     "output_type": "stream",
     "text": [
      "100%|███████████████████████████████████████████████████████████████████████████████████████████████████████████████████████████████████████████████████████████████████████████████████████████████████████████████████████████████████████████████████████████████████████████████████████████████████████████████████████████████████████| 31/31 [00:37<00:00,  1.20s/it]\n"
     ]
    },
    {
     "name": "stdout",
     "output_type": "stream",
     "text": [
      "Computing contrast curve for PCA_145_components\n"
     ]
    },
    {
     "name": "stderr",
     "output_type": "stream",
     "text": [
      "100%|███████████████████████████████████████████████████████████████████████████████████████████████████████████████████████████████████████████████████████████████████████████████████████████████████████████████████████████████████████████████████████████████████████████████████████████████████████████████████████████████████████| 31/31 [00:37<00:00,  1.22s/it]\n"
     ]
    },
    {
     "name": "stdout",
     "output_type": "stream",
     "text": [
      "Computing contrast curve for PCA_150_components\n"
     ]
    },
    {
     "name": "stderr",
     "output_type": "stream",
     "text": [
      "100%|███████████████████████████████████████████████████████████████████████████████████████████████████████████████████████████████████████████████████████████████████████████████████████████████████████████████████████████████████████████████████████████████████████████████████████████████████████████████████████████████████████| 31/31 [00:37<00:00,  1.21s/it]\n"
     ]
    },
    {
     "name": "stdout",
     "output_type": "stream",
     "text": [
      "Computing contrast curve for PCA_155_components\n"
     ]
    },
    {
     "name": "stderr",
     "output_type": "stream",
     "text": [
      "100%|███████████████████████████████████████████████████████████████████████████████████████████████████████████████████████████████████████████████████████████████████████████████████████████████████████████████████████████████████████████████████████████████████████████████████████████████████████████████████████████████████████| 31/31 [00:37<00:00,  1.21s/it]\n"
     ]
    },
    {
     "name": "stdout",
     "output_type": "stream",
     "text": [
      "Computing contrast curve for PCA_160_components\n"
     ]
    },
    {
     "name": "stderr",
     "output_type": "stream",
     "text": [
      "100%|███████████████████████████████████████████████████████████████████████████████████████████████████████████████████████████████████████████████████████████████████████████████████████████████████████████████████████████████████████████████████████████████████████████████████████████████████████████████████████████████████████| 31/31 [00:37<00:00,  1.22s/it]\n"
     ]
    },
    {
     "name": "stdout",
     "output_type": "stream",
     "text": [
      "Computing contrast curve for PCA_165_components\n"
     ]
    },
    {
     "name": "stderr",
     "output_type": "stream",
     "text": [
      "100%|███████████████████████████████████████████████████████████████████████████████████████████████████████████████████████████████████████████████████████████████████████████████████████████████████████████████████████████████████████████████████████████████████████████████████████████████████████████████████████████████████████| 31/31 [00:37<00:00,  1.21s/it]\n"
     ]
    },
    {
     "name": "stdout",
     "output_type": "stream",
     "text": [
      "Computing contrast curve for PCA_170_components\n"
     ]
    },
    {
     "name": "stderr",
     "output_type": "stream",
     "text": [
      "100%|███████████████████████████████████████████████████████████████████████████████████████████████████████████████████████████████████████████████████████████████████████████████████████████████████████████████████████████████████████████████████████████████████████████████████████████████████████████████████████████████████████| 31/31 [00:37<00:00,  1.20s/it]\n"
     ]
    },
    {
     "name": "stdout",
     "output_type": "stream",
     "text": [
      "Computing contrast curve for PCA_175_components\n"
     ]
    },
    {
     "name": "stderr",
     "output_type": "stream",
     "text": [
      "100%|███████████████████████████████████████████████████████████████████████████████████████████████████████████████████████████████████████████████████████████████████████████████████████████████████████████████████████████████████████████████████████████████████████████████████████████████████████████████████████████████████████| 31/31 [00:37<00:00,  1.21s/it]\n"
     ]
    },
    {
     "name": "stdout",
     "output_type": "stream",
     "text": [
      "Computing contrast curve for PCA_180_components\n"
     ]
    },
    {
     "name": "stderr",
     "output_type": "stream",
     "text": [
      "100%|███████████████████████████████████████████████████████████████████████████████████████████████████████████████████████████████████████████████████████████████████████████████████████████████████████████████████████████████████████████████████████████████████████████████████████████████████████████████████████████████████████| 31/31 [00:36<00:00,  1.19s/it]\n"
     ]
    },
    {
     "name": "stdout",
     "output_type": "stream",
     "text": [
      "Computing contrast curve for PCA_185_components\n"
     ]
    },
    {
     "name": "stderr",
     "output_type": "stream",
     "text": [
      "100%|███████████████████████████████████████████████████████████████████████████████████████████████████████████████████████████████████████████████████████████████████████████████████████████████████████████████████████████████████████████████████████████████████████████████████████████████████████████████████████████████████████| 31/31 [00:37<00:00,  1.21s/it]\n"
     ]
    },
    {
     "name": "stdout",
     "output_type": "stream",
     "text": [
      "Computing contrast curve for PCA_190_components\n"
     ]
    },
    {
     "name": "stderr",
     "output_type": "stream",
     "text": [
      "100%|███████████████████████████████████████████████████████████████████████████████████████████████████████████████████████████████████████████████████████████████████████████████████████████████████████████████████████████████████████████████████████████████████████████████████████████████████████████████████████████████████████| 31/31 [00:37<00:00,  1.20s/it]\n"
     ]
    },
    {
     "name": "stdout",
     "output_type": "stream",
     "text": [
      "Computing contrast curve for PCA_195_components\n"
     ]
    },
    {
     "name": "stderr",
     "output_type": "stream",
     "text": [
      "100%|███████████████████████████████████████████████████████████████████████████████████████████████████████████████████████████████████████████████████████████████████████████████████████████████████████████████████████████████████████████████████████████████████████████████████████████████████████████████████████████████████████| 31/31 [00:37<00:00,  1.20s/it]\n"
     ]
    },
    {
     "name": "stdout",
     "output_type": "stream",
     "text": [
      "Computing contrast curve for PCA_200_components\n"
     ]
    },
    {
     "name": "stderr",
     "output_type": "stream",
     "text": [
      "100%|███████████████████████████████████████████████████████████████████████████████████████████████████████████████████████████████████████████████████████████████████████████████████████████████████████████████████████████████████████████████████████████████████████████████████████████████████████████████████████████████████████| 31/31 [00:37<00:00,  1.20s/it]\n"
     ]
    },
    {
     "name": "stdout",
     "output_type": "stream",
     "text": [
      "Computing contrast curve for PCA_205_components\n"
     ]
    },
    {
     "name": "stderr",
     "output_type": "stream",
     "text": [
      "100%|███████████████████████████████████████████████████████████████████████████████████████████████████████████████████████████████████████████████████████████████████████████████████████████████████████████████████████████████████████████████████████████████████████████████████████████████████████████████████████████████████████| 31/31 [00:37<00:00,  1.20s/it]\n"
     ]
    },
    {
     "name": "stdout",
     "output_type": "stream",
     "text": [
      "Computing contrast curve for PCA_210_components\n"
     ]
    },
    {
     "name": "stderr",
     "output_type": "stream",
     "text": [
      "100%|███████████████████████████████████████████████████████████████████████████████████████████████████████████████████████████████████████████████████████████████████████████████████████████████████████████████████████████████████████████████████████████████████████████████████████████████████████████████████████████████████████| 31/31 [00:37<00:00,  1.21s/it]\n"
     ]
    },
    {
     "name": "stdout",
     "output_type": "stream",
     "text": [
      "Computing contrast curve for PCA_215_components\n"
     ]
    },
    {
     "name": "stderr",
     "output_type": "stream",
     "text": [
      "100%|███████████████████████████████████████████████████████████████████████████████████████████████████████████████████████████████████████████████████████████████████████████████████████████████████████████████████████████████████████████████████████████████████████████████████████████████████████████████████████████████████████| 31/31 [00:37<00:00,  1.20s/it]\n"
     ]
    },
    {
     "name": "stdout",
     "output_type": "stream",
     "text": [
      "Computing contrast curve for PCA_220_components\n"
     ]
    },
    {
     "name": "stderr",
     "output_type": "stream",
     "text": [
      "100%|███████████████████████████████████████████████████████████████████████████████████████████████████████████████████████████████████████████████████████████████████████████████████████████████████████████████████████████████████████████████████████████████████████████████████████████████████████████████████████████████████████| 31/31 [00:37<00:00,  1.20s/it]\n"
     ]
    },
    {
     "name": "stdout",
     "output_type": "stream",
     "text": [
      "Computing contrast curve for PCA_225_components\n"
     ]
    },
    {
     "name": "stderr",
     "output_type": "stream",
     "text": [
      "100%|███████████████████████████████████████████████████████████████████████████████████████████████████████████████████████████████████████████████████████████████████████████████████████████████████████████████████████████████████████████████████████████████████████████████████████████████████████████████████████████████████████| 31/31 [00:37<00:00,  1.21s/it]\n"
     ]
    },
    {
     "name": "stdout",
     "output_type": "stream",
     "text": [
      "Computing contrast curve for PCA_230_components\n"
     ]
    },
    {
     "name": "stderr",
     "output_type": "stream",
     "text": [
      "100%|███████████████████████████████████████████████████████████████████████████████████████████████████████████████████████████████████████████████████████████████████████████████████████████████████████████████████████████████████████████████████████████████████████████████████████████████████████████████████████████████████████| 31/31 [00:37<00:00,  1.20s/it]\n"
     ]
    },
    {
     "name": "stdout",
     "output_type": "stream",
     "text": [
      "Computing contrast curve for PCA_235_components\n"
     ]
    },
    {
     "name": "stderr",
     "output_type": "stream",
     "text": [
      "100%|███████████████████████████████████████████████████████████████████████████████████████████████████████████████████████████████████████████████████████████████████████████████████████████████████████████████████████████████████████████████████████████████████████████████████████████████████████████████████████████████████████| 31/31 [00:37<00:00,  1.20s/it]\n"
     ]
    },
    {
     "name": "stdout",
     "output_type": "stream",
     "text": [
      "Computing contrast curve for PCA_240_components\n"
     ]
    },
    {
     "name": "stderr",
     "output_type": "stream",
     "text": [
      "100%|███████████████████████████████████████████████████████████████████████████████████████████████████████████████████████████████████████████████████████████████████████████████████████████████████████████████████████████████████████████████████████████████████████████████████████████████████████████████████████████████████████| 31/31 [00:37<00:00,  1.21s/it]\n"
     ]
    },
    {
     "name": "stdout",
     "output_type": "stream",
     "text": [
      "Computing contrast curve for PCA_245_components\n"
     ]
    },
    {
     "name": "stderr",
     "output_type": "stream",
     "text": [
      "100%|███████████████████████████████████████████████████████████████████████████████████████████████████████████████████████████████████████████████████████████████████████████████████████████████████████████████████████████████████████████████████████████████████████████████████████████████████████████████████████████████████████| 31/31 [00:36<00:00,  1.18s/it]\n"
     ]
    },
    {
     "name": "stdout",
     "output_type": "stream",
     "text": [
      "Computing contrast curve for PCA_250_components\n"
     ]
    },
    {
     "name": "stderr",
     "output_type": "stream",
     "text": [
      "100%|███████████████████████████████████████████████████████████████████████████████████████████████████████████████████████████████████████████████████████████████████████████████████████████████████████████████████████████████████████████████████████████████████████████████████████████████████████████████████████████████████████| 31/31 [00:37<00:00,  1.22s/it]\n"
     ]
    },
    {
     "name": "stdout",
     "output_type": "stream",
     "text": [
      "Computing contrast curve for PCA_255_components\n"
     ]
    },
    {
     "name": "stderr",
     "output_type": "stream",
     "text": [
      "100%|███████████████████████████████████████████████████████████████████████████████████████████████████████████████████████████████████████████████████████████████████████████████████████████████████████████████████████████████████████████████████████████████████████████████████████████████████████████████████████████████████████| 31/31 [00:37<00:00,  1.21s/it]\n"
     ]
    },
    {
     "name": "stdout",
     "output_type": "stream",
     "text": [
      "Computing contrast curve for PCA_260_components\n"
     ]
    },
    {
     "name": "stderr",
     "output_type": "stream",
     "text": [
      "100%|███████████████████████████████████████████████████████████████████████████████████████████████████████████████████████████████████████████████████████████████████████████████████████████████████████████████████████████████████████████████████████████████████████████████████████████████████████████████████████████████████████| 31/31 [00:36<00:00,  1.19s/it]\n"
     ]
    },
    {
     "name": "stdout",
     "output_type": "stream",
     "text": [
      "Computing contrast curve for PCA_265_components\n"
     ]
    },
    {
     "name": "stderr",
     "output_type": "stream",
     "text": [
      "100%|███████████████████████████████████████████████████████████████████████████████████████████████████████████████████████████████████████████████████████████████████████████████████████████████████████████████████████████████████████████████████████████████████████████████████████████████████████████████████████████████████████| 31/31 [00:37<00:00,  1.20s/it]\n"
     ]
    },
    {
     "name": "stdout",
     "output_type": "stream",
     "text": [
      "Computing contrast curve for PCA_270_components\n"
     ]
    },
    {
     "name": "stderr",
     "output_type": "stream",
     "text": [
      "100%|███████████████████████████████████████████████████████████████████████████████████████████████████████████████████████████████████████████████████████████████████████████████████████████████████████████████████████████████████████████████████████████████████████████████████████████████████████████████████████████████████████| 31/31 [00:37<00:00,  1.21s/it]\n"
     ]
    },
    {
     "name": "stdout",
     "output_type": "stream",
     "text": [
      "Computing contrast curve for PCA_275_components\n"
     ]
    },
    {
     "name": "stderr",
     "output_type": "stream",
     "text": [
      "100%|███████████████████████████████████████████████████████████████████████████████████████████████████████████████████████████████████████████████████████████████████████████████████████████████████████████████████████████████████████████████████████████████████████████████████████████████████████████████████████████████████████| 31/31 [00:37<00:00,  1.20s/it]\n"
     ]
    },
    {
     "name": "stdout",
     "output_type": "stream",
     "text": [
      "Computing contrast curve for PCA_280_components\n"
     ]
    },
    {
     "name": "stderr",
     "output_type": "stream",
     "text": [
      "100%|███████████████████████████████████████████████████████████████████████████████████████████████████████████████████████████████████████████████████████████████████████████████████████████████████████████████████████████████████████████████████████████████████████████████████████████████████████████████████████████████████████| 31/31 [00:37<00:00,  1.22s/it]\n"
     ]
    },
    {
     "name": "stdout",
     "output_type": "stream",
     "text": [
      "Computing contrast curve for PCA_285_components\n"
     ]
    },
    {
     "name": "stderr",
     "output_type": "stream",
     "text": [
      "100%|███████████████████████████████████████████████████████████████████████████████████████████████████████████████████████████████████████████████████████████████████████████████████████████████████████████████████████████████████████████████████████████████████████████████████████████████████████████████████████████████████████| 31/31 [00:37<00:00,  1.21s/it]\n"
     ]
    },
    {
     "name": "stdout",
     "output_type": "stream",
     "text": [
      "Computing contrast curve for PCA_290_components\n"
     ]
    },
    {
     "name": "stderr",
     "output_type": "stream",
     "text": [
      "100%|███████████████████████████████████████████████████████████████████████████████████████████████████████████████████████████████████████████████████████████████████████████████████████████████████████████████████████████████████████████████████████████████████████████████████████████████████████████████████████████████████████| 31/31 [00:37<00:00,  1.21s/it]\n"
     ]
    },
    {
     "name": "stdout",
     "output_type": "stream",
     "text": [
      "Computing contrast curve for PCA_295_components\n"
     ]
    },
    {
     "name": "stderr",
     "output_type": "stream",
     "text": [
      "100%|███████████████████████████████████████████████████████████████████████████████████████████████████████████████████████████████████████████████████████████████████████████████████████████████████████████████████████████████████████████████████████████████████████████████████████████████████████████████████████████████████████| 31/31 [00:37<00:00,  1.21s/it]\n"
     ]
    },
    {
     "name": "stdout",
     "output_type": "stream",
     "text": [
      "Computing contrast curve for PCA_300_components\n"
     ]
    },
    {
     "name": "stderr",
     "output_type": "stream",
     "text": [
      "100%|███████████████████████████████████████████████████████████████████████████████████████████████████████████████████████████████████████████████████████████████████████████████████████████████████████████████████████████████████████████████████████████████████████████████████████████████████████████████████████████████████████| 31/31 [00:37<00:00,  1.20s/it]\n"
     ]
    },
    {
     "name": "stdout",
     "output_type": "stream",
     "text": [
      "Computing contrast curve for PCA_305_components\n"
     ]
    },
    {
     "name": "stderr",
     "output_type": "stream",
     "text": [
      "100%|███████████████████████████████████████████████████████████████████████████████████████████████████████████████████████████████████████████████████████████████████████████████████████████████████████████████████████████████████████████████████████████████████████████████████████████████████████████████████████████████████████| 31/31 [00:40<00:00,  1.31s/it]\n"
     ]
    },
    {
     "name": "stdout",
     "output_type": "stream",
     "text": [
      "Computing contrast curve for PCA_310_components\n"
     ]
    },
    {
     "name": "stderr",
     "output_type": "stream",
     "text": [
      "100%|███████████████████████████████████████████████████████████████████████████████████████████████████████████████████████████████████████████████████████████████████████████████████████████████████████████████████████████████████████████████████████████████████████████████████████████████████████████████████████████████████████| 31/31 [00:38<00:00,  1.25s/it]\n"
     ]
    },
    {
     "name": "stdout",
     "output_type": "stream",
     "text": [
      "Computing contrast curve for PCA_315_components\n"
     ]
    },
    {
     "name": "stderr",
     "output_type": "stream",
     "text": [
      "100%|███████████████████████████████████████████████████████████████████████████████████████████████████████████████████████████████████████████████████████████████████████████████████████████████████████████████████████████████████████████████████████████████████████████████████████████████████████████████████████████████████████| 31/31 [00:37<00:00,  1.22s/it]\n"
     ]
    },
    {
     "name": "stdout",
     "output_type": "stream",
     "text": [
      "Computing contrast curve for PCA_320_components\n"
     ]
    },
    {
     "name": "stderr",
     "output_type": "stream",
     "text": [
      "100%|███████████████████████████████████████████████████████████████████████████████████████████████████████████████████████████████████████████████████████████████████████████████████████████████████████████████████████████████████████████████████████████████████████████████████████████████████████████████████████████████████████| 31/31 [00:37<00:00,  1.21s/it]\n"
     ]
    },
    {
     "name": "stdout",
     "output_type": "stream",
     "text": [
      "Computing contrast curve for PCA_325_components\n"
     ]
    },
    {
     "name": "stderr",
     "output_type": "stream",
     "text": [
      "100%|███████████████████████████████████████████████████████████████████████████████████████████████████████████████████████████████████████████████████████████████████████████████████████████████████████████████████████████████████████████████████████████████████████████████████████████████████████████████████████████████████████| 31/31 [00:37<00:00,  1.22s/it]\n"
     ]
    },
    {
     "name": "stdout",
     "output_type": "stream",
     "text": [
      "Computing contrast curve for PCA_330_components\n"
     ]
    },
    {
     "name": "stderr",
     "output_type": "stream",
     "text": [
      "100%|███████████████████████████████████████████████████████████████████████████████████████████████████████████████████████████████████████████████████████████████████████████████████████████████████████████████████████████████████████████████████████████████████████████████████████████████████████████████████████████████████████| 31/31 [00:37<00:00,  1.21s/it]\n"
     ]
    },
    {
     "name": "stdout",
     "output_type": "stream",
     "text": [
      "Computing contrast curve for PCA_335_components\n"
     ]
    },
    {
     "name": "stderr",
     "output_type": "stream",
     "text": [
      "100%|███████████████████████████████████████████████████████████████████████████████████████████████████████████████████████████████████████████████████████████████████████████████████████████████████████████████████████████████████████████████████████████████████████████████████████████████████████████████████████████████████████| 31/31 [00:38<00:00,  1.23s/it]\n"
     ]
    },
    {
     "name": "stdout",
     "output_type": "stream",
     "text": [
      "Computing contrast curve for PCA_340_components\n"
     ]
    },
    {
     "name": "stderr",
     "output_type": "stream",
     "text": [
      "100%|███████████████████████████████████████████████████████████████████████████████████████████████████████████████████████████████████████████████████████████████████████████████████████████████████████████████████████████████████████████████████████████████████████████████████████████████████████████████████████████████████████| 31/31 [00:37<00:00,  1.21s/it]\n"
     ]
    },
    {
     "name": "stdout",
     "output_type": "stream",
     "text": [
      "Computing contrast curve for PCA_345_components\n"
     ]
    },
    {
     "name": "stderr",
     "output_type": "stream",
     "text": [
      "100%|███████████████████████████████████████████████████████████████████████████████████████████████████████████████████████████████████████████████████████████████████████████████████████████████████████████████████████████████████████████████████████████████████████████████████████████████████████████████████████████████████████| 31/31 [00:37<00:00,  1.22s/it]\n"
     ]
    },
    {
     "name": "stdout",
     "output_type": "stream",
     "text": [
      "Computing contrast curve for PCA_350_components\n"
     ]
    },
    {
     "name": "stderr",
     "output_type": "stream",
     "text": [
      "100%|███████████████████████████████████████████████████████████████████████████████████████████████████████████████████████████████████████████████████████████████████████████████████████████████████████████████████████████████████████████████████████████████████████████████████████████████████████████████████████████████████████| 31/31 [00:37<00:00,  1.21s/it]\n"
     ]
    },
    {
     "name": "stdout",
     "output_type": "stream",
     "text": [
      "Computing contrast curve for PCA_355_components\n"
     ]
    },
    {
     "name": "stderr",
     "output_type": "stream",
     "text": [
      "100%|███████████████████████████████████████████████████████████████████████████████████████████████████████████████████████████████████████████████████████████████████████████████████████████████████████████████████████████████████████████████████████████████████████████████████████████████████████████████████████████████████████| 31/31 [00:37<00:00,  1.21s/it]\n"
     ]
    },
    {
     "name": "stdout",
     "output_type": "stream",
     "text": [
      "Computing contrast curve for PCA_360_components\n"
     ]
    },
    {
     "name": "stderr",
     "output_type": "stream",
     "text": [
      "100%|███████████████████████████████████████████████████████████████████████████████████████████████████████████████████████████████████████████████████████████████████████████████████████████████████████████████████████████████████████████████████████████████████████████████████████████████████████████████████████████████████████| 31/31 [00:37<00:00,  1.20s/it]\n"
     ]
    },
    {
     "name": "stdout",
     "output_type": "stream",
     "text": [
      "Computing contrast curve for PCA_365_components\n"
     ]
    },
    {
     "name": "stderr",
     "output_type": "stream",
     "text": [
      "100%|███████████████████████████████████████████████████████████████████████████████████████████████████████████████████████████████████████████████████████████████████████████████████████████████████████████████████████████████████████████████████████████████████████████████████████████████████████████████████████████████████████| 31/31 [00:37<00:00,  1.21s/it]\n"
     ]
    },
    {
     "name": "stdout",
     "output_type": "stream",
     "text": [
      "Computing contrast curve for PCA_370_components\n"
     ]
    },
    {
     "name": "stderr",
     "output_type": "stream",
     "text": [
      "100%|███████████████████████████████████████████████████████████████████████████████████████████████████████████████████████████████████████████████████████████████████████████████████████████████████████████████████████████████████████████████████████████████████████████████████████████████████████████████████████████████████████| 31/31 [00:37<00:00,  1.19s/it]\n"
     ]
    },
    {
     "name": "stdout",
     "output_type": "stream",
     "text": [
      "Computing contrast curve for PCA_375_components\n"
     ]
    },
    {
     "name": "stderr",
     "output_type": "stream",
     "text": [
      "100%|███████████████████████████████████████████████████████████████████████████████████████████████████████████████████████████████████████████████████████████████████████████████████████████████████████████████████████████████████████████████████████████████████████████████████████████████████████████████████████████████████████| 31/31 [00:37<00:00,  1.21s/it]\n"
     ]
    },
    {
     "name": "stdout",
     "output_type": "stream",
     "text": [
      "Computing contrast curve for PCA_380_components\n"
     ]
    },
    {
     "name": "stderr",
     "output_type": "stream",
     "text": [
      "100%|███████████████████████████████████████████████████████████████████████████████████████████████████████████████████████████████████████████████████████████████████████████████████████████████████████████████████████████████████████████████████████████████████████████████████████████████████████████████████████████████████████| 31/31 [00:37<00:00,  1.21s/it]\n"
     ]
    },
    {
     "name": "stdout",
     "output_type": "stream",
     "text": [
      "Computing contrast curve for PCA_385_components\n"
     ]
    },
    {
     "name": "stderr",
     "output_type": "stream",
     "text": [
      "100%|███████████████████████████████████████████████████████████████████████████████████████████████████████████████████████████████████████████████████████████████████████████████████████████████████████████████████████████████████████████████████████████████████████████████████████████████████████████████████████████████████████| 31/31 [00:39<00:00,  1.27s/it]\n"
     ]
    },
    {
     "name": "stdout",
     "output_type": "stream",
     "text": [
      "Computing contrast curve for PCA_390_components\n"
     ]
    },
    {
     "name": "stderr",
     "output_type": "stream",
     "text": [
      "100%|███████████████████████████████████████████████████████████████████████████████████████████████████████████████████████████████████████████████████████████████████████████████████████████████████████████████████████████████████████████████████████████████████████████████████████████████████████████████████████████████████████| 31/31 [00:38<00:00,  1.25s/it]\n"
     ]
    },
    {
     "name": "stdout",
     "output_type": "stream",
     "text": [
      "Computing contrast curve for PCA_395_components\n"
     ]
    },
    {
     "name": "stderr",
     "output_type": "stream",
     "text": [
      "100%|███████████████████████████████████████████████████████████████████████████████████████████████████████████████████████████████████████████████████████████████████████████████████████████████████████████████████████████████████████████████████████████████████████████████████████████████████████████████████████████████████████| 31/31 [00:37<00:00,  1.20s/it]\n"
     ]
    },
    {
     "name": "stdout",
     "output_type": "stream",
     "text": [
      "Computing contrast curve for PCA_400_components\n"
     ]
    },
    {
     "name": "stderr",
     "output_type": "stream",
     "text": [
      "100%|███████████████████████████████████████████████████████████████████████████████████████████████████████████████████████████████████████████████████████████████████████████████████████████████████████████████████████████████████████████████████████████████████████████████████████████████████████████████████████████████████████| 31/31 [00:37<00:00,  1.21s/it]\n"
     ]
    },
    {
     "name": "stdout",
     "output_type": "stream",
     "text": [
      "Computing contrast curve for PCA_405_components\n"
     ]
    },
    {
     "name": "stderr",
     "output_type": "stream",
     "text": [
      "100%|███████████████████████████████████████████████████████████████████████████████████████████████████████████████████████████████████████████████████████████████████████████████████████████████████████████████████████████████████████████████████████████████████████████████████████████████████████████████████████████████████████| 31/31 [00:37<00:00,  1.21s/it]\n"
     ]
    },
    {
     "name": "stdout",
     "output_type": "stream",
     "text": [
      "Computing contrast curve for PCA_410_components\n"
     ]
    },
    {
     "name": "stderr",
     "output_type": "stream",
     "text": [
      "100%|███████████████████████████████████████████████████████████████████████████████████████████████████████████████████████████████████████████████████████████████████████████████████████████████████████████████████████████████████████████████████████████████████████████████████████████████████████████████████████████████████████| 31/31 [00:38<00:00,  1.25s/it]\n"
     ]
    },
    {
     "name": "stdout",
     "output_type": "stream",
     "text": [
      "Computing contrast curve for PCA_415_components\n"
     ]
    },
    {
     "name": "stderr",
     "output_type": "stream",
     "text": [
      "100%|███████████████████████████████████████████████████████████████████████████████████████████████████████████████████████████████████████████████████████████████████████████████████████████████████████████████████████████████████████████████████████████████████████████████████████████████████████████████████████████████████████| 31/31 [00:38<00:00,  1.23s/it]\n"
     ]
    },
    {
     "name": "stdout",
     "output_type": "stream",
     "text": [
      "Computing contrast curve for PCA_420_components\n"
     ]
    },
    {
     "name": "stderr",
     "output_type": "stream",
     "text": [
      "100%|███████████████████████████████████████████████████████████████████████████████████████████████████████████████████████████████████████████████████████████████████████████████████████████████████████████████████████████████████████████████████████████████████████████████████████████████████████████████████████████████████████| 31/31 [00:37<00:00,  1.21s/it]\n"
     ]
    },
    {
     "name": "stdout",
     "output_type": "stream",
     "text": [
      "Computing contrast curve for PCA_425_components\n"
     ]
    },
    {
     "name": "stderr",
     "output_type": "stream",
     "text": [
      "100%|███████████████████████████████████████████████████████████████████████████████████████████████████████████████████████████████████████████████████████████████████████████████████████████████████████████████████████████████████████████████████████████████████████████████████████████████████████████████████████████████████████| 31/31 [00:37<00:00,  1.20s/it]\n"
     ]
    },
    {
     "name": "stdout",
     "output_type": "stream",
     "text": [
      "Computing contrast curve for PCA_430_components\n"
     ]
    },
    {
     "name": "stderr",
     "output_type": "stream",
     "text": [
      "100%|███████████████████████████████████████████████████████████████████████████████████████████████████████████████████████████████████████████████████████████████████████████████████████████████████████████████████████████████████████████████████████████████████████████████████████████████████████████████████████████████████████| 31/31 [00:37<00:00,  1.22s/it]\n"
     ]
    },
    {
     "name": "stdout",
     "output_type": "stream",
     "text": [
      "Computing contrast curve for PCA_435_components\n"
     ]
    },
    {
     "name": "stderr",
     "output_type": "stream",
     "text": [
      "100%|███████████████████████████████████████████████████████████████████████████████████████████████████████████████████████████████████████████████████████████████████████████████████████████████████████████████████████████████████████████████████████████████████████████████████████████████████████████████████████████████████████| 31/31 [00:37<00:00,  1.21s/it]\n"
     ]
    },
    {
     "name": "stdout",
     "output_type": "stream",
     "text": [
      "Computing contrast curve for PCA_440_components\n"
     ]
    },
    {
     "name": "stderr",
     "output_type": "stream",
     "text": [
      "100%|███████████████████████████████████████████████████████████████████████████████████████████████████████████████████████████████████████████████████████████████████████████████████████████████████████████████████████████████████████████████████████████████████████████████████████████████████████████████████████████████████████| 31/31 [00:37<00:00,  1.22s/it]\n"
     ]
    },
    {
     "name": "stdout",
     "output_type": "stream",
     "text": [
      "Computing contrast curve for PCA_445_components\n"
     ]
    },
    {
     "name": "stderr",
     "output_type": "stream",
     "text": [
      "100%|███████████████████████████████████████████████████████████████████████████████████████████████████████████████████████████████████████████████████████████████████████████████████████████████████████████████████████████████████████████████████████████████████████████████████████████████████████████████████████████████████████| 31/31 [00:37<00:00,  1.22s/it]\n"
     ]
    },
    {
     "name": "stdout",
     "output_type": "stream",
     "text": [
      "Computing contrast curve for PCA_450_components\n"
     ]
    },
    {
     "name": "stderr",
     "output_type": "stream",
     "text": [
      "100%|███████████████████████████████████████████████████████████████████████████████████████████████████████████████████████████████████████████████████████████████████████████████████████████████████████████████████████████████████████████████████████████████████████████████████████████████████████████████████████████████████████| 31/31 [00:37<00:00,  1.21s/it]\n"
     ]
    },
    {
     "name": "stdout",
     "output_type": "stream",
     "text": [
      "Computing contrast curve for PCA_455_components\n"
     ]
    },
    {
     "name": "stderr",
     "output_type": "stream",
     "text": [
      "100%|███████████████████████████████████████████████████████████████████████████████████████████████████████████████████████████████████████████████████████████████████████████████████████████████████████████████████████████████████████████████████████████████████████████████████████████████████████████████████████████████████████| 31/31 [00:37<00:00,  1.21s/it]\n"
     ]
    },
    {
     "name": "stdout",
     "output_type": "stream",
     "text": [
      "Computing contrast curve for PCA_460_components\n"
     ]
    },
    {
     "name": "stderr",
     "output_type": "stream",
     "text": [
      "100%|███████████████████████████████████████████████████████████████████████████████████████████████████████████████████████████████████████████████████████████████████████████████████████████████████████████████████████████████████████████████████████████████████████████████████████████████████████████████████████████████████████| 31/31 [00:37<00:00,  1.22s/it]\n"
     ]
    },
    {
     "name": "stdout",
     "output_type": "stream",
     "text": [
      "Computing contrast curve for PCA_465_components\n"
     ]
    },
    {
     "name": "stderr",
     "output_type": "stream",
     "text": [
      "100%|███████████████████████████████████████████████████████████████████████████████████████████████████████████████████████████████████████████████████████████████████████████████████████████████████████████████████████████████████████████████████████████████████████████████████████████████████████████████████████████████████████| 31/31 [00:37<00:00,  1.22s/it]\n"
     ]
    },
    {
     "name": "stdout",
     "output_type": "stream",
     "text": [
      "Computing contrast curve for PCA_470_components\n"
     ]
    },
    {
     "name": "stderr",
     "output_type": "stream",
     "text": [
      "100%|███████████████████████████████████████████████████████████████████████████████████████████████████████████████████████████████████████████████████████████████████████████████████████████████████████████████████████████████████████████████████████████████████████████████████████████████████████████████████████████████████████| 31/31 [00:38<00:00,  1.23s/it]\n"
     ]
    },
    {
     "name": "stdout",
     "output_type": "stream",
     "text": [
      "Computing contrast curve for PCA_475_components\n"
     ]
    },
    {
     "name": "stderr",
     "output_type": "stream",
     "text": [
      "100%|███████████████████████████████████████████████████████████████████████████████████████████████████████████████████████████████████████████████████████████████████████████████████████████████████████████████████████████████████████████████████████████████████████████████████████████████████████████████████████████████████████| 31/31 [00:37<00:00,  1.20s/it]\n"
     ]
    },
    {
     "name": "stdout",
     "output_type": "stream",
     "text": [
      "Computing contrast curve for PCA_480_components\n"
     ]
    },
    {
     "name": "stderr",
     "output_type": "stream",
     "text": [
      "100%|███████████████████████████████████████████████████████████████████████████████████████████████████████████████████████████████████████████████████████████████████████████████████████████████████████████████████████████████████████████████████████████████████████████████████████████████████████████████████████████████████████| 31/31 [00:37<00:00,  1.20s/it]\n"
     ]
    },
    {
     "name": "stdout",
     "output_type": "stream",
     "text": [
      "Computing contrast curve for PCA_485_components\n"
     ]
    },
    {
     "name": "stderr",
     "output_type": "stream",
     "text": [
      "100%|███████████████████████████████████████████████████████████████████████████████████████████████████████████████████████████████████████████████████████████████████████████████████████████████████████████████████████████████████████████████████████████████████████████████████████████████████████████████████████████████████████| 31/31 [00:37<00:00,  1.20s/it]\n"
     ]
    },
    {
     "name": "stdout",
     "output_type": "stream",
     "text": [
      "Computing contrast curve for PCA_490_components\n"
     ]
    },
    {
     "name": "stderr",
     "output_type": "stream",
     "text": [
      "100%|███████████████████████████████████████████████████████████████████████████████████████████████████████████████████████████████████████████████████████████████████████████████████████████████████████████████████████████████████████████████████████████████████████████████████████████████████████████████████████████████████████| 31/31 [00:36<00:00,  1.19s/it]\n"
     ]
    },
    {
     "name": "stdout",
     "output_type": "stream",
     "text": [
      "Computing contrast curve for PCA_495_components\n"
     ]
    },
    {
     "name": "stderr",
     "output_type": "stream",
     "text": [
      "100%|███████████████████████████████████████████████████████████████████████████████████████████████████████████████████████████████████████████████████████████████████████████████████████████████████████████████████████████████████████████████████████████████████████████████████████████████████████████████████████████████████████| 31/31 [00:37<00:00,  1.20s/it]\n"
     ]
    },
    {
     "name": "stdout",
     "output_type": "stream",
     "text": [
      "Computing contrast curve for PCA_500_components\n"
     ]
    },
    {
     "name": "stderr",
     "output_type": "stream",
     "text": [
      "100%|███████████████████████████████████████████████████████████████████████████████████████████████████████████████████████████████████████████████████████████████████████████████████████████████████████████████████████████████████████████████████████████████████████████████████████████████████████████████████████████████████████| 31/31 [00:36<00:00,  1.19s/it]\n"
     ]
    },
    {
     "name": "stdout",
     "output_type": "stream",
     "text": [
      "Computing contrast curve for s4_mean\n"
     ]
    },
    {
     "name": "stderr",
     "output_type": "stream",
     "text": [
      "100%|███████████████████████████████████████████████████████████████████████████████████████████████████████████████████████████████████████████████████████████████████████████████████████████████████████████████████████████████████████████████████████████████████████████████████████████████████████████████████████████████████████| 31/31 [00:36<00:00,  1.17s/it]\n"
     ]
    },
    {
     "name": "stdout",
     "output_type": "stream",
     "text": [
      "Computing contrast curve for s4_median\n"
     ]
    },
    {
     "name": "stderr",
     "output_type": "stream",
     "text": [
      "100%|███████████████████████████████████████████████████████████████████████████████████████████████████████████████████████████████████████████████████████████████████████████████████████████████████████████████████████████████████████████████████████████████████████████████████████████████████████████████████████████████████████| 31/31 [00:35<00:00,  1.14s/it]\n"
     ]
    }
   ],
   "source": [
    "contrast_curves, contrast_errors = contrast_instance.compute_analytic_contrast_curves(\n",
    "    statistical_test=statistical_test,\n",
    "    confidence_level_fpf=gaussian_sigma_2_fpf(5),\n",
    "    num_rot_iter=20,\n",
    "    pixel_scale=0.02718)"
   ]
  },
  {
   "cell_type": "code",
   "execution_count": 26,
   "id": "81c9399a",
   "metadata": {},
   "outputs": [],
   "source": [
    "contrast_curves.to_pickle(dataset_file.name[:-5] + \"_cc.pkl\")"
   ]
  },
  {
   "cell_type": "code",
   "execution_count": 27,
   "id": "07880916",
   "metadata": {},
   "outputs": [],
   "source": [
    "contrast_errors.to_pickle(dataset_file.name[:-5] + \"_cc_errors.pkl\")"
   ]
  },
  {
   "cell_type": "markdown",
   "id": "378657fb",
   "metadata": {},
   "source": [
    "# Extract the values we are interested in"
   ]
  },
  {
   "cell_type": "code",
   "execution_count": 28,
   "id": "64bc4c15",
   "metadata": {},
   "outputs": [],
   "source": [
    "separations_arcsec = contrast_curves.reset_index(level=0).index\n",
    "separations_FWHM = contrast_curves.reset_index(level=1).index"
   ]
  },
  {
   "cell_type": "code",
   "execution_count": 29,
   "id": "a6875f70",
   "metadata": {},
   "outputs": [],
   "source": [
    "cADI_contrast_curve = contrast_curves[\"cADI\"]\n",
    "cADI_contrast_error = contrast_errors[\"cADI\"]"
   ]
  },
  {
   "cell_type": "code",
   "execution_count": 30,
   "id": "456f9081",
   "metadata": {},
   "outputs": [],
   "source": [
    "s4_contrast_curve = contrast_curves[\"s4_mean\"]\n",
    "s4_contrast_error = contrast_errors[\"s4_mean\"]"
   ]
  },
  {
   "cell_type": "code",
   "execution_count": 31,
   "id": "df982376",
   "metadata": {},
   "outputs": [],
   "source": [
    "pca_contrast_curves = contrast_curves.drop([\"cADI\", \"s4_mean\", \"s4_median\"], axis=1)\n",
    "pca_contrast_errors = contrast_errors.drop([\"cADI\", \"s4_mean\", \"s4_median\"], axis=1)"
   ]
  },
  {
   "cell_type": "code",
   "execution_count": 32,
   "id": "42691eae",
   "metadata": {},
   "outputs": [],
   "source": [
    "# compute the overall best contrast curve\n",
    "overall_best_pca = np.min(pca_contrast_curves.values, axis=1)\n",
    "\n",
    "# get the error bars of the the overall best contrast curve\n",
    "best_idx = np.argmin(pca_contrast_curves.values, axis=1)\n",
    "best_contrast_errors_pca = pca_contrast_errors.values[np.arange(len(best_idx)), best_idx]"
   ]
  },
  {
   "cell_type": "markdown",
   "id": "64a4b72c",
   "metadata": {},
   "source": [
    "# Load the PCA results (no longer needed)"
   ]
  },
  {
   "cell_type": "code",
   "execution_count": 33,
   "id": "18cd34cd",
   "metadata": {},
   "outputs": [],
   "source": [
    "data = pd.read_csv(dataset_name + \".csv\")\n",
    "pca_sep = data[\"Default Dataset\"][1:].values.astype(float)\n",
    "pca_contrast = mag2flux_ratio(data[\"Unnamed: 1\"][1:].values.astype(float))"
   ]
  },
  {
   "cell_type": "markdown",
   "id": "d19fe6d5",
   "metadata": {},
   "source": [
    "# Plot the Contrast Curves"
   ]
  },
  {
   "cell_type": "code",
   "execution_count": 34,
   "id": "8bbc8d6f",
   "metadata": {},
   "outputs": [
    {
     "data": {
      "text/html": [
       "<svg  width=\"7370\" height=\"55\"><rect x=\"0\" y=\"0\" width=\"55\" height=\"55\" style=\"fill:#242433;stroke-width:2;stroke:rgb(255,255,255)\"/><rect x=\"55\" y=\"0\" width=\"55\" height=\"55\" style=\"fill:#242434;stroke-width:2;stroke:rgb(255,255,255)\"/><rect x=\"110\" y=\"0\" width=\"55\" height=\"55\" style=\"fill:#242435;stroke-width:2;stroke:rgb(255,255,255)\"/><rect x=\"165\" y=\"0\" width=\"55\" height=\"55\" style=\"fill:#242437;stroke-width:2;stroke:rgb(255,255,255)\"/><rect x=\"220\" y=\"0\" width=\"55\" height=\"55\" style=\"fill:#232338;stroke-width:2;stroke:rgb(255,255,255)\"/><rect x=\"275\" y=\"0\" width=\"55\" height=\"55\" style=\"fill:#23233a;stroke-width:2;stroke:rgb(255,255,255)\"/><rect x=\"330\" y=\"0\" width=\"55\" height=\"55\" style=\"fill:#23233c;stroke-width:2;stroke:rgb(255,255,255)\"/><rect x=\"385\" y=\"0\" width=\"55\" height=\"55\" style=\"fill:#23233d;stroke-width:2;stroke:rgb(255,255,255)\"/><rect x=\"440\" y=\"0\" width=\"55\" height=\"55\" style=\"fill:#22223f;stroke-width:2;stroke:rgb(255,255,255)\"/><rect x=\"495\" y=\"0\" width=\"55\" height=\"55\" style=\"fill:#222240;stroke-width:2;stroke:rgb(255,255,255)\"/><rect x=\"550\" y=\"0\" width=\"55\" height=\"55\" style=\"fill:#222242;stroke-width:2;stroke:rgb(255,255,255)\"/><rect x=\"605\" y=\"0\" width=\"55\" height=\"55\" style=\"fill:#212144;stroke-width:2;stroke:rgb(255,255,255)\"/><rect x=\"660\" y=\"0\" width=\"55\" height=\"55\" style=\"fill:#212145;stroke-width:2;stroke:rgb(255,255,255)\"/><rect x=\"715\" y=\"0\" width=\"55\" height=\"55\" style=\"fill:#212147;stroke-width:2;stroke:rgb(255,255,255)\"/><rect x=\"770\" y=\"0\" width=\"55\" height=\"55\" style=\"fill:#212148;stroke-width:2;stroke:rgb(255,255,255)\"/><rect x=\"825\" y=\"0\" width=\"55\" height=\"55\" style=\"fill:#202049;stroke-width:2;stroke:rgb(255,255,255)\"/><rect x=\"880\" y=\"0\" width=\"55\" height=\"55\" style=\"fill:#20204b;stroke-width:2;stroke:rgb(255,255,255)\"/><rect x=\"935\" y=\"0\" width=\"55\" height=\"55\" style=\"fill:#20204c;stroke-width:2;stroke:rgb(255,255,255)\"/><rect x=\"990\" y=\"0\" width=\"55\" height=\"55\" style=\"fill:#20204e;stroke-width:2;stroke:rgb(255,255,255)\"/><rect x=\"1045\" y=\"0\" width=\"55\" height=\"55\" style=\"fill:#1f1f50;stroke-width:2;stroke:rgb(255,255,255)\"/><rect x=\"1100\" y=\"0\" width=\"55\" height=\"55\" style=\"fill:#1f1f51;stroke-width:2;stroke:rgb(255,255,255)\"/><rect x=\"1155\" y=\"0\" width=\"55\" height=\"55\" style=\"fill:#1f1f53;stroke-width:2;stroke:rgb(255,255,255)\"/><rect x=\"1210\" y=\"0\" width=\"55\" height=\"55\" style=\"fill:#1e1e54;stroke-width:2;stroke:rgb(255,255,255)\"/><rect x=\"1265\" y=\"0\" width=\"55\" height=\"55\" style=\"fill:#1e1e56;stroke-width:2;stroke:rgb(255,255,255)\"/><rect x=\"1320\" y=\"0\" width=\"55\" height=\"55\" style=\"fill:#1e1e58;stroke-width:2;stroke:rgb(255,255,255)\"/><rect x=\"1375\" y=\"0\" width=\"55\" height=\"55\" style=\"fill:#1e1e59;stroke-width:2;stroke:rgb(255,255,255)\"/><rect x=\"1430\" y=\"0\" width=\"55\" height=\"55\" style=\"fill:#1d1d5b;stroke-width:2;stroke:rgb(255,255,255)\"/><rect x=\"1485\" y=\"0\" width=\"55\" height=\"55\" style=\"fill:#1d1d5c;stroke-width:2;stroke:rgb(255,255,255)\"/><rect x=\"1540\" y=\"0\" width=\"55\" height=\"55\" style=\"fill:#1d1d5d;stroke-width:2;stroke:rgb(255,255,255)\"/><rect x=\"1595\" y=\"0\" width=\"55\" height=\"55\" style=\"fill:#1d1d5f;stroke-width:2;stroke:rgb(255,255,255)\"/><rect x=\"1650\" y=\"0\" width=\"55\" height=\"55\" style=\"fill:#1c1c60;stroke-width:2;stroke:rgb(255,255,255)\"/><rect x=\"1705\" y=\"0\" width=\"55\" height=\"55\" style=\"fill:#1c1c62;stroke-width:2;stroke:rgb(255,255,255)\"/><rect x=\"1760\" y=\"0\" width=\"55\" height=\"55\" style=\"fill:#1c1c64;stroke-width:2;stroke:rgb(255,255,255)\"/><rect x=\"1815\" y=\"0\" width=\"55\" height=\"55\" style=\"fill:#1b1b65;stroke-width:2;stroke:rgb(255,255,255)\"/><rect x=\"1870\" y=\"0\" width=\"55\" height=\"55\" style=\"fill:#1b1b67;stroke-width:2;stroke:rgb(255,255,255)\"/><rect x=\"1925\" y=\"0\" width=\"55\" height=\"55\" style=\"fill:#1b1b68;stroke-width:2;stroke:rgb(255,255,255)\"/><rect x=\"1980\" y=\"0\" width=\"55\" height=\"55\" style=\"fill:#1b1b6a;stroke-width:2;stroke:rgb(255,255,255)\"/><rect x=\"2035\" y=\"0\" width=\"55\" height=\"55\" style=\"fill:#1a1a6c;stroke-width:2;stroke:rgb(255,255,255)\"/><rect x=\"2090\" y=\"0\" width=\"55\" height=\"55\" style=\"fill:#1a1a6d;stroke-width:2;stroke:rgb(255,255,255)\"/><rect x=\"2145\" y=\"0\" width=\"55\" height=\"55\" style=\"fill:#1a1a6f;stroke-width:2;stroke:rgb(255,255,255)\"/><rect x=\"2200\" y=\"0\" width=\"55\" height=\"55\" style=\"fill:#1a1a70;stroke-width:2;stroke:rgb(255,255,255)\"/><rect x=\"2255\" y=\"0\" width=\"55\" height=\"55\" style=\"fill:#191971;stroke-width:2;stroke:rgb(255,255,255)\"/><rect x=\"2310\" y=\"0\" width=\"55\" height=\"55\" style=\"fill:#191973;stroke-width:2;stroke:rgb(255,255,255)\"/><rect x=\"2365\" y=\"0\" width=\"55\" height=\"55\" style=\"fill:#191974;stroke-width:2;stroke:rgb(255,255,255)\"/><rect x=\"2420\" y=\"0\" width=\"55\" height=\"55\" style=\"fill:#181876;stroke-width:2;stroke:rgb(255,255,255)\"/><rect x=\"2475\" y=\"0\" width=\"55\" height=\"55\" style=\"fill:#181878;stroke-width:2;stroke:rgb(255,255,255)\"/><rect x=\"2530\" y=\"0\" width=\"55\" height=\"55\" style=\"fill:#181879;stroke-width:2;stroke:rgb(255,255,255)\"/><rect x=\"2585\" y=\"0\" width=\"55\" height=\"55\" style=\"fill:#18187b;stroke-width:2;stroke:rgb(255,255,255)\"/><rect x=\"2640\" y=\"0\" width=\"55\" height=\"55\" style=\"fill:#17177c;stroke-width:2;stroke:rgb(255,255,255)\"/><rect x=\"2695\" y=\"0\" width=\"55\" height=\"55\" style=\"fill:#17177e;stroke-width:2;stroke:rgb(255,255,255)\"/><rect x=\"2750\" y=\"0\" width=\"55\" height=\"55\" style=\"fill:#171780;stroke-width:2;stroke:rgb(255,255,255)\"/><rect x=\"2805\" y=\"0\" width=\"55\" height=\"55\" style=\"fill:#161681;stroke-width:2;stroke:rgb(255,255,255)\"/><rect x=\"2860\" y=\"0\" width=\"55\" height=\"55\" style=\"fill:#161683;stroke-width:2;stroke:rgb(255,255,255)\"/><rect x=\"2915\" y=\"0\" width=\"55\" height=\"55\" style=\"fill:#161684;stroke-width:2;stroke:rgb(255,255,255)\"/><rect x=\"2970\" y=\"0\" width=\"55\" height=\"55\" style=\"fill:#161685;stroke-width:2;stroke:rgb(255,255,255)\"/><rect x=\"3025\" y=\"0\" width=\"55\" height=\"55\" style=\"fill:#151587;stroke-width:2;stroke:rgb(255,255,255)\"/><rect x=\"3080\" y=\"0\" width=\"55\" height=\"55\" style=\"fill:#151588;stroke-width:2;stroke:rgb(255,255,255)\"/><rect x=\"3135\" y=\"0\" width=\"55\" height=\"55\" style=\"fill:#15158a;stroke-width:2;stroke:rgb(255,255,255)\"/><rect x=\"3190\" y=\"0\" width=\"55\" height=\"55\" style=\"fill:#15158c;stroke-width:2;stroke:rgb(255,255,255)\"/><rect x=\"3245\" y=\"0\" width=\"55\" height=\"55\" style=\"fill:#14148d;stroke-width:2;stroke:rgb(255,255,255)\"/><rect x=\"3300\" y=\"0\" width=\"55\" height=\"55\" style=\"fill:#14148f;stroke-width:2;stroke:rgb(255,255,255)\"/><rect x=\"3355\" y=\"0\" width=\"55\" height=\"55\" style=\"fill:#141490;stroke-width:2;stroke:rgb(255,255,255)\"/><rect x=\"3410\" y=\"0\" width=\"55\" height=\"55\" style=\"fill:#131392;stroke-width:2;stroke:rgb(255,255,255)\"/><rect x=\"3465\" y=\"0\" width=\"55\" height=\"55\" style=\"fill:#131394;stroke-width:2;stroke:rgb(255,255,255)\"/><rect x=\"3520\" y=\"0\" width=\"55\" height=\"55\" style=\"fill:#131395;stroke-width:2;stroke:rgb(255,255,255)\"/><rect x=\"3575\" y=\"0\" width=\"55\" height=\"55\" style=\"fill:#131397;stroke-width:2;stroke:rgb(255,255,255)\"/><rect x=\"3630\" y=\"0\" width=\"55\" height=\"55\" style=\"fill:#121298;stroke-width:2;stroke:rgb(255,255,255)\"/><rect x=\"3685\" y=\"0\" width=\"55\" height=\"55\" style=\"fill:#121299;stroke-width:2;stroke:rgb(255,255,255)\"/><rect x=\"3740\" y=\"0\" width=\"55\" height=\"55\" style=\"fill:#12129b;stroke-width:2;stroke:rgb(255,255,255)\"/><rect x=\"3795\" y=\"0\" width=\"55\" height=\"55\" style=\"fill:#12129d;stroke-width:2;stroke:rgb(255,255,255)\"/><rect x=\"3850\" y=\"0\" width=\"55\" height=\"55\" style=\"fill:#11119e;stroke-width:2;stroke:rgb(255,255,255)\"/><rect x=\"3905\" y=\"0\" width=\"55\" height=\"55\" style=\"fill:#1111a0;stroke-width:2;stroke:rgb(255,255,255)\"/><rect x=\"3960\" y=\"0\" width=\"55\" height=\"55\" style=\"fill:#1111a1;stroke-width:2;stroke:rgb(255,255,255)\"/><rect x=\"4015\" y=\"0\" width=\"55\" height=\"55\" style=\"fill:#1010a3;stroke-width:2;stroke:rgb(255,255,255)\"/><rect x=\"4070\" y=\"0\" width=\"55\" height=\"55\" style=\"fill:#1010a5;stroke-width:2;stroke:rgb(255,255,255)\"/><rect x=\"4125\" y=\"0\" width=\"55\" height=\"55\" style=\"fill:#1010a6;stroke-width:2;stroke:rgb(255,255,255)\"/><rect x=\"4180\" y=\"0\" width=\"55\" height=\"55\" style=\"fill:#1010a8;stroke-width:2;stroke:rgb(255,255,255)\"/><rect x=\"4235\" y=\"0\" width=\"55\" height=\"55\" style=\"fill:#0f0fa9;stroke-width:2;stroke:rgb(255,255,255)\"/><rect x=\"4290\" y=\"0\" width=\"55\" height=\"55\" style=\"fill:#0f0fab;stroke-width:2;stroke:rgb(255,255,255)\"/><rect x=\"4345\" y=\"0\" width=\"55\" height=\"55\" style=\"fill:#0f0fad;stroke-width:2;stroke:rgb(255,255,255)\"/><rect x=\"4400\" y=\"0\" width=\"55\" height=\"55\" style=\"fill:#0f0fad;stroke-width:2;stroke:rgb(255,255,255)\"/><rect x=\"4455\" y=\"0\" width=\"55\" height=\"55\" style=\"fill:#0e0eaf;stroke-width:2;stroke:rgb(255,255,255)\"/><rect x=\"4510\" y=\"0\" width=\"55\" height=\"55\" style=\"fill:#0e0eb1;stroke-width:2;stroke:rgb(255,255,255)\"/><rect x=\"4565\" y=\"0\" width=\"55\" height=\"55\" style=\"fill:#0e0eb2;stroke-width:2;stroke:rgb(255,255,255)\"/><rect x=\"4620\" y=\"0\" width=\"55\" height=\"55\" style=\"fill:#0d0db4;stroke-width:2;stroke:rgb(255,255,255)\"/><rect x=\"4675\" y=\"0\" width=\"55\" height=\"55\" style=\"fill:#0d0db5;stroke-width:2;stroke:rgb(255,255,255)\"/><rect x=\"4730\" y=\"0\" width=\"55\" height=\"55\" style=\"fill:#0d0db7;stroke-width:2;stroke:rgb(255,255,255)\"/><rect x=\"4785\" y=\"0\" width=\"55\" height=\"55\" style=\"fill:#0d0db9;stroke-width:2;stroke:rgb(255,255,255)\"/><rect x=\"4840\" y=\"0\" width=\"55\" height=\"55\" style=\"fill:#0c0cba;stroke-width:2;stroke:rgb(255,255,255)\"/><rect x=\"4895\" y=\"0\" width=\"55\" height=\"55\" style=\"fill:#0c0cbc;stroke-width:2;stroke:rgb(255,255,255)\"/><rect x=\"4950\" y=\"0\" width=\"55\" height=\"55\" style=\"fill:#0c0cbd;stroke-width:2;stroke:rgb(255,255,255)\"/><rect x=\"5005\" y=\"0\" width=\"55\" height=\"55\" style=\"fill:#0b0bbf;stroke-width:2;stroke:rgb(255,255,255)\"/><rect x=\"5060\" y=\"0\" width=\"55\" height=\"55\" style=\"fill:#0b0bc1;stroke-width:2;stroke:rgb(255,255,255)\"/><rect x=\"5115\" y=\"0\" width=\"55\" height=\"55\" style=\"fill:#0b0bc2;stroke-width:2;stroke:rgb(255,255,255)\"/><rect x=\"5170\" y=\"0\" width=\"55\" height=\"55\" style=\"fill:#0b0bc3;stroke-width:2;stroke:rgb(255,255,255)\"/><rect x=\"5225\" y=\"0\" width=\"55\" height=\"55\" style=\"fill:#0a0ac5;stroke-width:2;stroke:rgb(255,255,255)\"/><rect x=\"5280\" y=\"0\" width=\"55\" height=\"55\" style=\"fill:#0a0ac6;stroke-width:2;stroke:rgb(255,255,255)\"/><rect x=\"5335\" y=\"0\" width=\"55\" height=\"55\" style=\"fill:#0a0ac8;stroke-width:2;stroke:rgb(255,255,255)\"/><rect x=\"5390\" y=\"0\" width=\"55\" height=\"55\" style=\"fill:#0a0ac9;stroke-width:2;stroke:rgb(255,255,255)\"/><rect x=\"5445\" y=\"0\" width=\"55\" height=\"55\" style=\"fill:#0909cb;stroke-width:2;stroke:rgb(255,255,255)\"/><rect x=\"5500\" y=\"0\" width=\"55\" height=\"55\" style=\"fill:#0909cd;stroke-width:2;stroke:rgb(255,255,255)\"/><rect x=\"5555\" y=\"0\" width=\"55\" height=\"55\" style=\"fill:#0909ce;stroke-width:2;stroke:rgb(255,255,255)\"/><rect x=\"5610\" y=\"0\" width=\"55\" height=\"55\" style=\"fill:#0808d0;stroke-width:2;stroke:rgb(255,255,255)\"/><rect x=\"5665\" y=\"0\" width=\"55\" height=\"55\" style=\"fill:#0808d1;stroke-width:2;stroke:rgb(255,255,255)\"/><rect x=\"5720\" y=\"0\" width=\"55\" height=\"55\" style=\"fill:#0808d3;stroke-width:2;stroke:rgb(255,255,255)\"/><rect x=\"5775\" y=\"0\" width=\"55\" height=\"55\" style=\"fill:#0808d5;stroke-width:2;stroke:rgb(255,255,255)\"/><rect x=\"5830\" y=\"0\" width=\"55\" height=\"55\" style=\"fill:#0707d6;stroke-width:2;stroke:rgb(255,255,255)\"/><rect x=\"5885\" y=\"0\" width=\"55\" height=\"55\" style=\"fill:#0707d7;stroke-width:2;stroke:rgb(255,255,255)\"/><rect x=\"5940\" y=\"0\" width=\"55\" height=\"55\" style=\"fill:#0707d9;stroke-width:2;stroke:rgb(255,255,255)\"/><rect x=\"5995\" y=\"0\" width=\"55\" height=\"55\" style=\"fill:#0707da;stroke-width:2;stroke:rgb(255,255,255)\"/><rect x=\"6050\" y=\"0\" width=\"55\" height=\"55\" style=\"fill:#0606dc;stroke-width:2;stroke:rgb(255,255,255)\"/><rect x=\"6105\" y=\"0\" width=\"55\" height=\"55\" style=\"fill:#0606dd;stroke-width:2;stroke:rgb(255,255,255)\"/><rect x=\"6160\" y=\"0\" width=\"55\" height=\"55\" style=\"fill:#0606df;stroke-width:2;stroke:rgb(255,255,255)\"/><rect x=\"6215\" y=\"0\" width=\"55\" height=\"55\" style=\"fill:#0505e1;stroke-width:2;stroke:rgb(255,255,255)\"/><rect x=\"6270\" y=\"0\" width=\"55\" height=\"55\" style=\"fill:#0505e2;stroke-width:2;stroke:rgb(255,255,255)\"/><rect x=\"6325\" y=\"0\" width=\"55\" height=\"55\" style=\"fill:#0505e4;stroke-width:2;stroke:rgb(255,255,255)\"/><rect x=\"6380\" y=\"0\" width=\"55\" height=\"55\" style=\"fill:#0505e5;stroke-width:2;stroke:rgb(255,255,255)\"/><rect x=\"6435\" y=\"0\" width=\"55\" height=\"55\" style=\"fill:#0404e7;stroke-width:2;stroke:rgb(255,255,255)\"/><rect x=\"6490\" y=\"0\" width=\"55\" height=\"55\" style=\"fill:#0404e9;stroke-width:2;stroke:rgb(255,255,255)\"/><rect x=\"6545\" y=\"0\" width=\"55\" height=\"55\" style=\"fill:#0404ea;stroke-width:2;stroke:rgb(255,255,255)\"/><rect x=\"6600\" y=\"0\" width=\"55\" height=\"55\" style=\"fill:#0404eb;stroke-width:2;stroke:rgb(255,255,255)\"/><rect x=\"6655\" y=\"0\" width=\"55\" height=\"55\" style=\"fill:#0303ed;stroke-width:2;stroke:rgb(255,255,255)\"/><rect x=\"6710\" y=\"0\" width=\"55\" height=\"55\" style=\"fill:#0303ee;stroke-width:2;stroke:rgb(255,255,255)\"/><rect x=\"6765\" y=\"0\" width=\"55\" height=\"55\" style=\"fill:#0303f0;stroke-width:2;stroke:rgb(255,255,255)\"/><rect x=\"6820\" y=\"0\" width=\"55\" height=\"55\" style=\"fill:#0202f1;stroke-width:2;stroke:rgb(255,255,255)\"/><rect x=\"6875\" y=\"0\" width=\"55\" height=\"55\" style=\"fill:#0202f3;stroke-width:2;stroke:rgb(255,255,255)\"/><rect x=\"6930\" y=\"0\" width=\"55\" height=\"55\" style=\"fill:#0202f5;stroke-width:2;stroke:rgb(255,255,255)\"/><rect x=\"6985\" y=\"0\" width=\"55\" height=\"55\" style=\"fill:#0202f6;stroke-width:2;stroke:rgb(255,255,255)\"/><rect x=\"7040\" y=\"0\" width=\"55\" height=\"55\" style=\"fill:#0101f8;stroke-width:2;stroke:rgb(255,255,255)\"/><rect x=\"7095\" y=\"0\" width=\"55\" height=\"55\" style=\"fill:#0101f9;stroke-width:2;stroke:rgb(255,255,255)\"/><rect x=\"7150\" y=\"0\" width=\"55\" height=\"55\" style=\"fill:#0101fb;stroke-width:2;stroke:rgb(255,255,255)\"/><rect x=\"7205\" y=\"0\" width=\"55\" height=\"55\" style=\"fill:#0000fd;stroke-width:2;stroke:rgb(255,255,255)\"/><rect x=\"7260\" y=\"0\" width=\"55\" height=\"55\" style=\"fill:#0000fe;stroke-width:2;stroke:rgb(255,255,255)\"/><rect x=\"7315\" y=\"0\" width=\"55\" height=\"55\" style=\"fill:#0000ff;stroke-width:2;stroke:rgb(255,255,255)\"/></svg>"
      ],
      "text/plain": [
       "[(0.14289171628325356, 0.14289583210240445, 0.19919851992384108),\n",
       " (0.14233135661155452, 0.14233545629023817, 0.20233891788492406),\n",
       " (0.14121063726815647, 0.14121470466590558, 0.20861971380709002),\n",
       " (0.1400899179247584, 0.140093953041573, 0.21490050972925595),\n",
       " (0.13896919858136034, 0.1389732014172404, 0.2211813056514219),\n",
       " (0.13784847923796226, 0.1378524497929078, 0.22746210157358787),\n",
       " (0.1367277598945642, 0.13673169816857522, 0.23374289749575383),\n",
       " (0.13560704055116612, 0.13561094654424266, 0.24002369341791976),\n",
       " (0.13448632120776804, 0.13449019491991007, 0.24630448934008572),\n",
       " (0.13336560186437, 0.13336944329557748, 0.25258528526225166),\n",
       " (0.1322448825209719, 0.1322486916712449, 0.2588660811844176),\n",
       " (0.13112416317757386, 0.1311279400469123, 0.2651468771065836),\n",
       " (0.13000344383417578, 0.13000718842257974, 0.27142767302874954),\n",
       " (0.12888272449077773, 0.12888643679824716, 0.2777084689509155),\n",
       " (0.1283223648190787, 0.12832606098608085, 0.28084886691199845),\n",
       " (0.12720164547568064, 0.1272053093617483, 0.2871296628341644),\n",
       " (0.12608092613228256, 0.1260845577374157, 0.2934104587563304),\n",
       " (0.12496020678888449, 0.12496380611308311, 0.29969125467849633),\n",
       " (0.12383948744548642, 0.12384305448875052, 0.30597205060066224),\n",
       " (0.12271876810208836, 0.12272230286441793, 0.3122528465228282),\n",
       " (0.12159804875869029, 0.12160155124008536, 0.31853364244499416),\n",
       " (0.12047732941529221, 0.12048079961575277, 0.3248144383671601),\n",
       " (0.11935661007189416, 0.11936004799142019, 0.3310952342893261),\n",
       " (0.11823589072849608, 0.1182392963670876, 0.33737603021149204),\n",
       " (0.11711517138509801, 0.11711854474275502, 0.343656826133658),\n",
       " (0.11599445204169995, 0.11599779311842243, 0.3499376220558239),\n",
       " (0.11487373269830188, 0.11487704149408985, 0.3562184179779899),\n",
       " (0.11431337302660285, 0.11431666568192356, 0.3593588159390729),\n",
       " (0.11319265368320479, 0.11319591405759097, 0.36563961186123883),\n",
       " (0.11207193433980671, 0.11207516243325838, 0.37192040778340474),\n",
       " (0.11095121499640864, 0.1109544108089258, 0.3782012037055707),\n",
       " (0.10983049565301058, 0.10983365918459323, 0.38448199962773666),\n",
       " (0.10870977630961251, 0.10871290756026064, 0.3907627955499026),\n",
       " (0.10758905696621444, 0.10759215593592805, 0.3970435914720686),\n",
       " (0.10646833762281638, 0.10647140431159546, 0.4033243873942345),\n",
       " (0.10534761827941831, 0.10535065268726287, 0.4096051833164005),\n",
       " (0.10422689893602025, 0.10422990106293031, 0.4158859792385664),\n",
       " (0.10310617959262218, 0.10310914943859772, 0.4221667751607324),\n",
       " (0.10198546024922411, 0.10198839781426514, 0.4284475710828983),\n",
       " (0.10086474090582603, 0.10086764618993255, 0.4347283670050643),\n",
       " (0.10030438123412701, 0.10030727037776627, 0.43786876496614724),\n",
       " (0.09918366189072894, 0.09918651875343368, 0.44414956088831326),\n",
       " (0.09806294254733088, 0.09806576712910109, 0.45043035681047916),\n",
       " (0.09694222320393281, 0.09694501550476851, 0.4567111527326451),\n",
       " (0.09582150386053474, 0.09582426388043593, 0.4629919486548111),\n",
       " (0.09470078451713668, 0.09470351225610334, 0.46927274457697704),\n",
       " (0.09358006517373861, 0.09358276063177076, 0.475553540499143),\n",
       " (0.09245934583034054, 0.09246200900743817, 0.4818343364213089),\n",
       " (0.09133862648694246, 0.09134125738310558, 0.48811513234347487),\n",
       " (0.09021790714354441, 0.090220505758773, 0.4943959282656409),\n",
       " (0.08909718780014633, 0.08909975413444042, 0.5006767241878067),\n",
       " (0.08797646845674828, 0.08797900251010785, 0.5069575201099727),\n",
       " (0.0868557491133502, 0.08685825088577526, 0.5132383160321388),\n",
       " (0.08573502976995213, 0.08573749926144267, 0.5195191119543047),\n",
       " (0.08517467009825311, 0.08517712344927637, 0.5226595099153877),\n",
       " (0.08405395075485504, 0.0840563718249438, 0.5289403058375536),\n",
       " (0.08293323141145698, 0.08293562020061121, 0.5352211017597195),\n",
       " (0.0818125120680589, 0.08181486857627862, 0.5415018976818855),\n",
       " (0.08069179272466084, 0.08069411695194603, 0.5477826936040515),\n",
       " (0.07957107338126276, 0.07957336532761346, 0.5540634895262173),\n",
       " (0.0784503540378647, 0.07845261370328087, 0.5603442854483833),\n",
       " (0.07732963469446663, 0.0773318620789483, 0.5666250813705493),\n",
       " (0.07620891535106857, 0.0762111104546157, 0.5729058772927152),\n",
       " (0.0750881960076705, 0.07509035883028313, 0.5791866732148812),\n",
       " (0.07396747666427243, 0.07396960720595054, 0.5854674691370472),\n",
       " (0.07284675732087437, 0.07284885558161795, 0.5917482650592131),\n",
       " (0.0717260379774763, 0.07172810395728536, 0.598029060981379),\n",
       " (0.07116567830577726, 0.07116772814511908, 0.6011694589424621),\n",
       " (0.07004495896237921, 0.0700469765207865, 0.6074502548646279),\n",
       " (0.06892423961898114, 0.06892622489645392, 0.6137310507867939),\n",
       " (0.06780352027558306, 0.06780547327212132, 0.6200118467089599),\n",
       " (0.066682800932185, 0.06668472164778874, 0.6262926426311258),\n",
       " (0.06556208158878693, 0.06556397002345617, 0.6325734385532917),\n",
       " (0.06444136224538885, 0.06444321839912356, 0.6388542344754577),\n",
       " (0.0633206429019908, 0.06332246677479099, 0.6451350303976238),\n",
       " (0.06219992355859273, 0.0622017151504584, 0.6514158263197896),\n",
       " (0.061079204215194666, 0.061080963526125825, 0.6576966222419556),\n",
       " (0.0599584848717966, 0.05996021190179325, 0.6639774181641215),\n",
       " (0.05883776552839852, 0.05883946027746065, 0.6702582140862875),\n",
       " (0.057717046185000453, 0.05771870865312807, 0.6765390100084534),\n",
       " (0.05715668651330143, 0.05715833284096178, 0.6796794079695364),\n",
       " (0.05603596716990336, 0.056037581216629204, 0.6859602038917023),\n",
       " (0.05491524782650528, 0.0549168295922966, 0.6922409998138683),\n",
       " (0.05379452848310723, 0.053796077967964026, 0.6985217957360343),\n",
       " (0.05267380913970916, 0.05267532634363145, 0.7048025916582003),\n",
       " (0.0515530897963111, 0.05155457471929886, 0.7110833875803662),\n",
       " (0.05043237045291302, 0.050433823094966274, 0.7173641835025322),\n",
       " (0.04931165110951495, 0.049313071470633685, 0.7236449794246981),\n",
       " (0.048190931766116885, 0.04819231984630111, 0.729925775346864),\n",
       " (0.04707021242271883, 0.047071568221968535, 0.73620657126903),\n",
       " (0.04594949307932075, 0.04595081659763593, 0.742487367191196),\n",
       " (0.044828773735922686, 0.04483006497330336, 0.7487681631133619),\n",
       " (0.04370805439252462, 0.04370931334897077, 0.7550489590355278),\n",
       " (0.042587335049126554, 0.042588561724638194, 0.7613297549576937),\n",
       " (0.04202697537742753, 0.0420281859124719, 0.7644701529187767),\n",
       " (0.04090625603402945, 0.04090743428813931, 0.7707509488409428),\n",
       " (0.03978553669063138, 0.039786682663806736, 0.7770317447631087),\n",
       " (0.038664817347233316, 0.03866593103947415, 0.7833125406852746),\n",
       " (0.03754409800383525, 0.03754517941514156, 0.7895933366074407),\n",
       " (0.03642337866043718, 0.03642442779080897, 0.7958741325296066),\n",
       " (0.03530265931703912, 0.035303676166476394, 0.8021549284517725),\n",
       " (0.03418193997364105, 0.03418292454214382, 0.8084357243739384),\n",
       " (0.033061220630242985, 0.03306217291781123, 0.8147165202961043),\n",
       " (0.031940501286844905, 0.03194142129347864, 0.8209973162182703),\n",
       " (0.030819781943446853, 0.030820669669146053, 0.8272781121404363),\n",
       " (0.029699062600048787, 0.029699918044813478, 0.8335589080626022),\n",
       " (0.028578343256650707, 0.02857916642048089, 0.8398397039847683),\n",
       " (0.02801798358495168, 0.028018790608314595, 0.8429801019458513),\n",
       " (0.026897264241553615, 0.02689803898398202, 0.8492608978680172),\n",
       " (0.02577654489815555, 0.02577728735964943, 0.8555416937901831),\n",
       " (0.024655825554757482, 0.024656535735316856, 0.861822489712349),\n",
       " (0.023535106211359402, 0.023535784110984254, 0.868103285634515),\n",
       " (0.022414386867961336, 0.02241503248665168, 0.8743840815566809),\n",
       " (0.021293667524563284, 0.021294280862319104, 0.8806648774788469),\n",
       " (0.020172948181165218, 0.020173529237986515, 0.8869456734010128),\n",
       " (0.019052228837767138, 0.019052777613653926, 0.8932264693231788),\n",
       " (0.01793150949436907, 0.017932025989321337, 0.8995072652453447),\n",
       " (0.016810790150971006, 0.01681127436498875, 0.9057880611675106),\n",
       " (0.015690070807572953, 0.015690522740656188, 0.9120688570896767),\n",
       " (0.014569351464174873, 0.014569771116323599, 0.9183496530118427),\n",
       " (0.014008991792475833, 0.01400939530415729, 0.9214900509729256),\n",
       " (0.012888272449077781, 0.01288864367982473, 0.9277708468950915),\n",
       " (0.011767553105679701, 0.01176789205549214, 0.9340516428172575),\n",
       " (0.010646833762281621, 0.010647140431159552, 0.9403324387394235),\n",
       " (0.009526114418883569, 0.009526388806826963, 0.9466132346615894),\n",
       " (0.008405395075485517, 0.008405637182494374, 0.9528940305837553),\n",
       " (0.007284675732087437, 0.007284885558161813, 0.9591748265059212),\n",
       " (0.0061639563886893844, 0.0061641339338292245, 0.9654556224280872),\n",
       " (0.0050432370452913045, 0.005043382309496636, 0.9717364183502533),\n",
       " (0.0039225177018932245, 0.003922630685164047, 0.9780172142724192),\n",
       " (0.0028017983584951722, 0.002801879060831458, 0.9842980101945851),\n",
       " (0.0016810790150970922, 0.0016811274364988693, 0.9905788061167511),\n",
       " (0.00056035967169904, 0.0005603758121662805, 0.996859602038917),\n",
       " (0.0, 0.0, 1.0)]"
      ]
     },
     "execution_count": 34,
     "metadata": {},
     "output_type": "execute_result"
    }
   ],
   "source": [
    "# Find one color for each number of PCA components used.\n",
    "colors = sns.dark_palette(\n",
    "    \"Blue\",\n",
    "    n_colors=len(contrast_curves.columns))\n",
    "colors"
   ]
  },
  {
   "cell_type": "code",
   "execution_count": 38,
   "id": "87894045",
   "metadata": {
    "scrolled": true
   },
   "outputs": [
    {
     "data": {
      "image/png": "[encoded data removed]",
      "text/plain": [
       "<Figure size 1200x800 with 4 Axes>"
      ]
     },
     "metadata": {},
     "output_type": "display_data"
    }
   ],
   "source": [
    "plot_old = False\n",
    "\n",
    "# 1.) Create Plot Layout\n",
    "fig = plt.figure(constrained_layout=False, figsize=(12, 8))\n",
    "gs0 = fig.add_gridspec(2, 1, height_ratios=[1, 0.1], hspace=0.25)\n",
    "axis_contrast_curvse = fig.add_subplot(gs0[0, 0])\n",
    "\n",
    "# ------------------- Create the PCA number legend -----------\n",
    "axis_legend_lines = fig.add_subplot(gs0[1, 0])\n",
    "\n",
    "for idx, tmp_model in enumerate(pca_contrast_curves.columns):\n",
    "    tmp_components = int(tmp_model[4:7])\n",
    "    if tmp_components < 100:\n",
    "        lw=3\n",
    "    else:\n",
    "        lw=8\n",
    "    axis_legend_lines.vlines(\n",
    "        [tmp_components], \n",
    "        ymin=0, ymax=1, color=colors[idx],\n",
    "        lw=lw)\n",
    "    \n",
    "axis_legend_lines.set_xlim(0, 500)\n",
    "axis_legend_lines.set_ylim(0, 1)\n",
    "axis_legend_lines.set_yticks([])\n",
    "axis_legend_lines.tick_params(\n",
    "    axis='both', which='major', labelsize=14)\n",
    "\n",
    "axis_legend_lines.set_xlabel(\"Number of PCA components\", size=16)\n",
    "\n",
    "\n",
    "# ---------------------- Create the PCA plots --------------------\n",
    "i = 0 # color picker\n",
    "\n",
    "for tmp_model in pca_contrast_curves.columns:\n",
    "\n",
    "    tmp_flux_ratios = pca_contrast_curves.reset_index(\n",
    "        level=0)[tmp_model].values\n",
    "    tmp_errors = pca_contrast_errors.reset_index(\n",
    "        level=0)[tmp_model].values\n",
    "\n",
    "    axis_contrast_curvse.plot(\n",
    "        separations_arcsec,\n",
    "        tmp_flux_ratios,\n",
    "        color = colors[i],\n",
    "        lw=2,\n",
    "        alpha=0.5)\n",
    "\n",
    "    axis_contrast_curvse.fill_between(\n",
    "        separations_arcsec,\n",
    "        tmp_flux_ratios + tmp_errors,\n",
    "        tmp_flux_ratios - tmp_errors,\n",
    "        color = colors[i],\n",
    "        alpha=0.1)\n",
    "    i+=1\n",
    "\n",
    "axis_contrast_curvse.set_yscale(\"log\")\n",
    "\n",
    "# ----------- Plot the best PCA contrast -------------------------\n",
    "axis_contrast_curvse.plot(\n",
    "    separations_arcsec,\n",
    "    overall_best_pca,\n",
    "    color = \"white\",\n",
    "    lw=5)\n",
    "\n",
    "axis_contrast_curvse.plot(\n",
    "    separations_arcsec,\n",
    "    overall_best_pca,\n",
    "    color = \"blue\",\n",
    "    lw=3,\n",
    "    label=\"PCA (best)\",\n",
    "    ls=\"dashed\")\n",
    "\n",
    "axis_contrast_curvse.fill_between(\n",
    "    separations_arcsec,\n",
    "    overall_best_pca + best_contrast_errors_pca,\n",
    "    overall_best_pca - best_contrast_errors_pca,\n",
    "    color = \"blue\",\n",
    "    alpha=0.5)\n",
    "\n",
    "# ----------- Plot the raw contrast -------------------------\n",
    "axis_contrast_curvse.plot(\n",
    "    separations_arcsec,\n",
    "    cADI_contrast_curve.values,\n",
    "    color = \"white\",\n",
    "    lw=5)\n",
    "\n",
    "axis_contrast_curvse.plot(\n",
    "    separations_arcsec,\n",
    "    cADI_contrast_curve.values,\n",
    "    color = \"black\",\n",
    "    lw=3,\n",
    "    label=\"cADI\",\n",
    "    ls=\"dashed\")\n",
    "\n",
    "axis_contrast_curvse.fill_between(\n",
    "    separations_arcsec,\n",
    "    cADI_contrast_curve.values + cADI_contrast_error.values,\n",
    "    cADI_contrast_curve.values - cADI_contrast_error.values,\n",
    "    color = \"black\",\n",
    "    alpha=0.5)\n",
    "\n",
    "# ----------- Plot the S4 contrast --------------------------\n",
    "axis_contrast_curvse.plot(\n",
    "    separations_arcsec,\n",
    "    s4_contrast_curve.values,\n",
    "    color = \"white\",\n",
    "    lw=5)\n",
    "\n",
    "axis_contrast_curvse.plot(\n",
    "    separations_arcsec,\n",
    "    s4_contrast_curve.values,\n",
    "    color = \"red\",\n",
    "    lw=3,\n",
    "    label=\"S4\",\n",
    "    ls=\"dashed\")\n",
    "\n",
    "axis_contrast_curvse.fill_between(\n",
    "    separations_arcsec,\n",
    "    s4_contrast_curve.values + s4_contrast_error.values,\n",
    "    s4_contrast_curve.values - s4_contrast_error.values,\n",
    "    color = \"red\",\n",
    "    alpha=0.5)\n",
    "\n",
    "# ------------ Plot the overall best -------------------------\n",
    "if plot_old:\n",
    "    axis_contrast_curvse.plot(\n",
    "        pca_sep,\n",
    "        pca_contrast,\n",
    "        color = \"white\",\n",
    "        lw=6)\n",
    "\n",
    "    axis_contrast_curvse.plot(\n",
    "        pca_sep,\n",
    "        pca_contrast,\n",
    "        color = \"green\",\n",
    "        lw=3,\n",
    "        ls=\"dashed\",\n",
    "        label=\"Old best PCA\")\n",
    "\n",
    "# ------------- Double axis and limits -----------------------\n",
    "lim_mag_y = (15.5, 7)\n",
    "lim_arcsec_x = (0.05, 1.6)\n",
    "\n",
    "sep_lambda_arcse = interpolate.interp1d(\n",
    "    separations_arcsec,\n",
    "    separations_FWHM,\n",
    "    fill_value='extrapolate')\n",
    "\n",
    "axis_contrast_curvse_mag = axis_contrast_curvse.twinx()\n",
    "axis_contrast_curvse_mag.plot(\n",
    "    separations_arcsec,\n",
    "    flux_ratio2mag(tmp_flux_ratios),\n",
    "    alpha=0.)\n",
    "axis_contrast_curvse_mag.invert_yaxis()\n",
    "\n",
    "axis_contrast_curvse_lambda = axis_contrast_curvse.twiny()\n",
    "axis_contrast_curvse_lambda.plot(\n",
    "    separations_FWHM,\n",
    "    tmp_flux_ratios,\n",
    "    alpha=0.)\n",
    "\n",
    "axis_contrast_curvse.grid(which='both')\n",
    "axis_contrast_curvse_mag.set_ylim(*lim_mag_y)\n",
    "axis_contrast_curvse.set_ylim(\n",
    "    mag2flux_ratio(lim_mag_y[0]),\n",
    "    mag2flux_ratio(lim_mag_y[1]))\n",
    "\n",
    "axis_contrast_curvse.set_xlim(\n",
    "    *lim_arcsec_x)\n",
    "axis_contrast_curvse_mag.set_xlim(\n",
    "    *lim_arcsec_x)\n",
    "axis_contrast_curvse_lambda.set_xlim(\n",
    "    *sep_lambda_arcse(lim_arcsec_x))\n",
    "\n",
    "# ----------- Labels and fontsizes --------------------------\n",
    "\n",
    "axis_contrast_curvse.set_xlabel(\n",
    "    r\"Separation [arcsec]\", size=16)\n",
    "axis_contrast_curvse_lambda.set_xlabel(\n",
    "    r\"Separation [FWHM]\", size=16)\n",
    "\n",
    "axis_contrast_curvse.set_ylabel(\n",
    "    r\"Planet-to-star flux ratio\", size=16)\n",
    "axis_contrast_curvse_mag.set_ylabel(\n",
    "    r\"$\\Delta$ Magnitude\", size=16)\n",
    "\n",
    "axis_contrast_curvse.tick_params(\n",
    "    axis='both', which='major', labelsize=14)\n",
    "axis_contrast_curvse_lambda.tick_params(\n",
    "    axis='both', which='major', labelsize=14)\n",
    "axis_contrast_curvse_mag.tick_params(\n",
    "    axis='both', which='major', labelsize=14)\n",
    "\n",
    "axis_contrast_curvse_mag.set_title(\n",
    "    r\"$5 \\sigma_{\\mathcal{N}}$ Contrast Curves - \" + dataset_name[:-1],\n",
    "    fontsize=18, fontweight=\"bold\", y=1.13)\n",
    "\n",
    "# --------------------------- Legend -----------------------\n",
    "handles, labels = axis_contrast_curvse.\\\n",
    "    get_legend_handles_labels()\n",
    "\n",
    "leg1 = fig.legend(handles, labels,\n",
    "                  bbox_to_anchor=(0.14, 0.27),\n",
    "                  fontsize=14,\n",
    "                  #title=\"# PCA components\",\n",
    "                  loc='lower left', ncol=8)\n",
    "\n",
    "_=plt.setp(leg1.get_title(),fontsize=14)\n",
    "plt.savefig(\"PCA_vs_S4_\" + dataset_name + \".pdf\", bbox_inches='tight')"
   ]
  },
  {
   "cell_type": "markdown",
   "id": "93125901",
   "metadata": {},
   "source": [
    "# Comparison relative"
   ]
  },
  {
   "cell_type": "code",
   "execution_count": 36,
   "id": "c03c599f",
   "metadata": {},
   "outputs": [],
   "source": [
    "improvement_s4 = s4_contrast_curve.values / overall_best_pca"
   ]
  },
  {
   "cell_type": "code",
   "execution_count": 37,
   "id": "ed811a1c",
   "metadata": {},
   "outputs": [
    {
     "data": {
      "image/png": "[encoded data removed]",
      "text/plain": [
       "<Figure size 1200x500 with 1 Axes>"
      ]
     },
     "metadata": {},
     "output_type": "display_data"
    }
   ],
   "source": [
    "plt.figure(figsize=(12,5))\n",
    "\n",
    "plt.plot(\n",
    "    separations_FWHM,\n",
    "    flux_ratio2mag(improvement_s4))\n",
    "plt.grid()\n",
    "\n",
    "_=plt.xticks(separations_FWHM.values[::2])\n",
    "plt.xlabel(\"Separation [FWHM]\")\n",
    "plt.ylabel(\"S4 vs. PCA imporvement [mag]\")\n",
    "plt.ylim(0, 2.5)\n",
    "plt.savefig(\"Relative_PCA_vs_S4_\" + dataset_name + \".pdf\", bbox_inches='tight')"
   ]
  },
  {
   "cell_type": "code",
   "execution_count": null,
   "id": "5f24988f",
   "metadata": {},
   "outputs": [],
   "source": []
  }
 ],
 "metadata": {
  "kernelspec": {
   "display_name": "Python 3 (ipykernel)",
   "language": "python",
   "name": "python3"
  },
  "language_info": {
   "codemirror_mode": {
    "name": "ipython",
    "version": 3
   },
   "file_extension": ".py",
   "mimetype": "text/x-python",
   "name": "python",
   "nbconvert_exporter": "python",
   "pygments_lexer": "ipython3",
   "version": "3.10.10"
  }
 },
 "nbformat": 4,
 "nbformat_minor": 5
}
