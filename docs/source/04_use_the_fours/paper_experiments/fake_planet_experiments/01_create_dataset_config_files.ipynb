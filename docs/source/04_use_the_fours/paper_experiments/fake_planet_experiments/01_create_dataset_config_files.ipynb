{
 "cells": [
  {
   "cell_type": "markdown",
   "id": "b3df3fdc",
   "metadata": {},
   "source": [
    "# Setup config for fake planet experiments"
   ]
  },
  {
   "cell_type": "code",
   "execution_count": 20,
   "id": "7de74e66",
   "metadata": {},
   "outputs": [],
   "source": [
    "import json\n",
    "from pathlib import Path\n",
    "import numpy as np\n",
    "\n",
    "from applefy.utils.file_handling import load_adi_data\n",
    "\n",
    "from fours.utils.fwhm import get_fwhm\n",
    "from fours.utils.data_handling import read_fours_root_dir"
   ]
  },
  {
   "cell_type": "markdown",
   "id": "15b3da29",
   "metadata": {},
   "source": [
    "## 1. All dataset parameters"
   ]
  },
  {
   "cell_type": "code",
   "execution_count": 2,
   "id": "637ca8b1",
   "metadata": {},
   "outputs": [],
   "source": [
    "# Dataset setups (Name of the dataset, dit_psf, dit_science, ND scaling)\n",
    "datasets = [ \n",
    "    (\"HD2262_305_199_C-0065_C_\", 0.02, 0.35, 1.0), #1\n",
    "    (\"HD7570_331_1101_C-0092_C_\", 0.02, 0.35, 1.0), #2\n",
    "    (\"HD11171_332_1101_C-0092_C_\", 0.02, 0.35, 1.0), #3\n",
    "    (\"HD22049_351_096_C-0679_A_\", 0.0042560, 0.08, 1.0), #4\n",
    "    (\"HD22049_303_199_C-0065_C_\", 0.0042560, 0.08, 1.0), #5\n",
    "    (\"HD38678_331_084_C-0396_A_\", 0.2, 0.2, 55.87), #6\n",
    "    (\"HD40136_333_1101_C-0092_C_\", 0.01, 0.3, 1.0), #7\n",
    "    (\"HD115892_143_1101_C-0092_E_\", 0.008, 0.35, 1.0), #8\n",
    "    (\"HD169022_140_1101_C-0092_E_\", 0.005, 0.35, 1.0), #9\n",
    "    (\"HD177724_231_091_C-0654_A_\", 0.08, 0.2, 55.87), #10\n",
    "    (\"HD209952_196_089_C-0149_A_\", 0.04, 0.2, 55.87), #11\n",
    "]"
   ]
  },
  {
   "cell_type": "code",
   "execution_count": 10,
   "id": "c6c628e0",
   "metadata": {},
   "outputs": [
    {
     "data": {
      "text/plain": [
       "'HD7570_331_1101_C-0092_C_'"
      ]
     },
     "execution_count": 10,
     "metadata": {},
     "output_type": "execute_result"
    }
   ],
   "source": [
    "# select one dataset\n",
    "dataset_name, dit_psf, dit_science, nd_scaling  = datasets[1]\n",
    "pixel_scale=0.02718\n",
    "dataset_name"
   ]
  },
  {
   "cell_type": "markdown",
   "id": "979faed0",
   "metadata": {},
   "source": [
    "## 2. Load the dataset"
   ]
  },
  {
   "cell_type": "code",
   "execution_count": 11,
   "id": "ff708eb4",
   "metadata": {},
   "outputs": [
    {
     "name": "stdout",
     "output_type": "stream",
     "text": [
      "Data in the FOURS_ROOT_DIR found. Location: /fast/mbonse/s4\n"
     ]
    }
   ],
   "source": [
    "root_dir = Path(read_fours_root_dir())"
   ]
  },
  {
   "cell_type": "code",
   "execution_count": 12,
   "id": "33490212",
   "metadata": {},
   "outputs": [],
   "source": [
    "dataset_file = root_dir / Path(\"30_data/\" + dataset_name + \".hdf5\")\n",
    "experiment_root_dir = root_dir / Path(\"70_results/x1_fake_planet_experiments/\" + dataset_name)\n",
    "experiment_root_dir.mkdir(exist_ok=True)"
   ]
  },
  {
   "cell_type": "code",
   "execution_count": 13,
   "id": "de79e738",
   "metadata": {},
   "outputs": [],
   "source": [
    "science_data, angles, raw_psf_template_data = load_adi_data(\n",
    "    dataset_file,\n",
    "    data_tag=\"object_stacked_05\",\n",
    "    psf_template_tag=\"psf_template\",\n",
    "    para_tag=\"header_object_stacked_05/PARANG\")\n",
    "\n",
    "psf_template = np.median(raw_psf_template_data, axis=0)"
   ]
  },
  {
   "cell_type": "code",
   "execution_count": 14,
   "id": "23dacc48",
   "metadata": {},
   "outputs": [
    {
     "name": "stdout",
     "output_type": "stream",
     "text": [
      "88.30022075055187\n"
     ]
    }
   ],
   "source": [
    "# we want the image to show the innermost 1.2 arcsec\n",
    "print(1.2 / pixel_scale * 2)"
   ]
  },
  {
   "cell_type": "code",
   "execution_count": 15,
   "id": "cc9787c4",
   "metadata": {},
   "outputs": [],
   "source": [
    "# we cut the image to 91 x 91 pixel to be slightly larger than 1.2 arcsec\n",
    "cut_off = int((science_data.shape[1] - 91) / 2)\n",
    "science_data = science_data[:, cut_off:-cut_off, cut_off:-cut_off]"
   ]
  },
  {
   "cell_type": "code",
   "execution_count": 17,
   "id": "989daa01",
   "metadata": {},
   "outputs": [
    {
     "data": {
      "text/plain": [
       "3.6"
      ]
     },
     "execution_count": 17,
     "metadata": {},
     "output_type": "execute_result"
    }
   ],
   "source": [
    "fwhm = get_fwhm(psf_template)\n",
    "#fwhm = 3.6 # for most datasets\n",
    "fwhm"
   ]
  },
  {
   "cell_type": "code",
   "execution_count": 18,
   "id": "556e75d4",
   "metadata": {},
   "outputs": [],
   "source": [
    "# Use the exact SVD\n",
    "svd_approx = -1"
   ]
  },
  {
   "cell_type": "markdown",
   "id": "951a2d09",
   "metadata": {},
   "source": [
    "## 3. Save the parameters as json"
   ]
  },
  {
   "cell_type": "code",
   "execution_count": 19,
   "id": "7a84019f",
   "metadata": {},
   "outputs": [],
   "source": [
    "# This is a residual from previous experiments for which we have optimized lambda\n",
    "# but the effect is very small so we just run a few options (see the script)\n",
    "best_lambda = 1000"
   ]
  },
  {
   "cell_type": "code",
   "execution_count": 21,
   "id": "86e15d32",
   "metadata": {},
   "outputs": [],
   "source": [
    "parameter_dict = {\n",
    "    \"dataset_name\" : dataset_name,\n",
    "    \"dit_psf\" : dit_psf,\n",
    "    \"dit_science\" : dit_science,\n",
    "    \"nd_scaling\" : nd_scaling,\n",
    "    \"pixel_scale\" : pixel_scale,\n",
    "    \"fwhm\" : fwhm,\n",
    "    \"svd_approx\" : svd_approx,\n",
    "    \"lambda_reg\" : best_lambda,\n",
    "    \"num_epochs\" : 500}"
   ]
  },
  {
   "cell_type": "code",
   "execution_count": 146,
   "id": "07ffcb56",
   "metadata": {},
   "outputs": [],
   "source": [
    "with open(root_dir / Path(\"30_data/\" + dataset_name + \".json\"), 'w', encoding='utf-8') as f:\n",
    "    json.dump(parameter_dict, f, ensure_ascii=False, indent=4)"
   ]
  }
 ],
 "metadata": {
  "kernelspec": {
   "display_name": "Python 3 (ipykernel)",
   "language": "python",
   "name": "python3"
  },
  "language_info": {
   "codemirror_mode": {
    "name": "ipython",
    "version": 3
   },
   "file_extension": ".py",
   "mimetype": "text/x-python",
   "name": "python",
   "nbconvert_exporter": "python",
   "pygments_lexer": "ipython3",
   "version": "3.10.10"
  }
 },
 "nbformat": 4,
 "nbformat_minor": 5
}
