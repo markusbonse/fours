{
 "cells": [
  {
   "cell_type": "markdown",
   "id": "a4f0217a",
   "metadata": {},
   "source": [
    "# Visualization Plots"
   ]
  },
  {
   "cell_type": "markdown",
   "id": "94edc212",
   "metadata": {},
   "source": [
    "## 1. Imports"
   ]
  },
  {
   "cell_type": "code",
   "execution_count": 1,
   "id": "c79d9dbf",
   "metadata": {
    "ExecuteTime": {
     "end_time": "2024-03-06T10:45:18.273465Z",
     "start_time": "2024-03-06T10:45:02.452883Z"
    }
   },
   "outputs": [],
   "source": [
    "from pathlib import Path\n",
    "import json\n",
    "import numpy as np\n",
    "\n",
    "import torch\n",
    "import matplotlib.pyplot as plt\n",
    "from scipy.ndimage import rotate\n",
    "from tqdm import tqdm\n",
    "\n",
    "from applefy.utils.file_handling import load_adi_data\n",
    "\n",
    "from fours.utils.data_handling import read_fours_root_dir"
   ]
  },
  {
   "cell_type": "markdown",
   "id": "6c856f9b",
   "metadata": {},
   "source": [
    "## 2. Load the dataset"
   ]
  },
  {
   "cell_type": "code",
   "execution_count": 2,
   "id": "0967b2c2",
   "metadata": {
    "ExecuteTime": {
     "end_time": "2024-03-06T10:45:34.411555Z",
     "start_time": "2024-03-06T10:45:34.365735Z"
    }
   },
   "outputs": [
    {
     "name": "stdout",
     "output_type": "stream",
     "text": [
      "Data in the FOURS_ROOT_DIR found. Location: /fast/mbonse/s4\n"
     ]
    }
   ],
   "source": [
    "dataset_name = \"HD22049_303_199_C-0065_C_\"\n",
    "root_dir = Path(read_fours_root_dir())\n",
    "json_file = root_dir / Path(\"30_data/\" + dataset_name + \".json\")"
   ]
  },
  {
   "cell_type": "code",
   "execution_count": 3,
   "id": "38db3a50",
   "metadata": {
    "ExecuteTime": {
     "end_time": "2024-03-06T10:45:34.681270Z",
     "start_time": "2024-03-06T10:45:34.664795Z"
    }
   },
   "outputs": [],
   "source": [
    "with open(json_file) as f:\n",
    "    parameter_config = json.load(f)\n",
    "\n",
    "dit_psf_template = float(parameter_config[\"dit_psf\"])\n",
    "dit_science = float(parameter_config[\"dit_science\"])\n",
    "fwhm = float(parameter_config[\"fwhm\"])\n",
    "scaling_factor = float(parameter_config[\"nd_scaling\"])\n",
    "lambda_reg = float(parameter_config[\"lambda_reg\"])\n",
    "svd_approx = int(parameter_config[\"svd_approx\"])\n",
    "pixel_scale = 0.02718"
   ]
  },
  {
   "cell_type": "code",
   "execution_count": 4,
   "id": "8df970fc",
   "metadata": {
    "ExecuteTime": {
     "end_time": "2024-03-06T10:45:35.022431Z",
     "start_time": "2024-03-06T10:45:35.017753Z"
    }
   },
   "outputs": [],
   "source": [
    "dataset_file = root_dir / Path(\"30_data/\" + dataset_name + \".hdf5\")"
   ]
  },
  {
   "cell_type": "code",
   "execution_count": 5,
   "id": "ff7f1b74",
   "metadata": {
    "ExecuteTime": {
     "end_time": "2024-03-06T10:45:36.993287Z",
     "start_time": "2024-03-06T10:45:35.395920Z"
    }
   },
   "outputs": [],
   "source": [
    "science_data, angles, raw_psf_template_data = load_adi_data(\n",
    "    dataset_file,\n",
    "    data_tag=\"object_stacked_05\",\n",
    "    psf_template_tag=\"psf_template\",\n",
    "    para_tag=\"header_object_stacked_05/PARANG\")\n",
    "\n",
    "psf_template = np.median(raw_psf_template_data, axis=0)"
   ]
  },
  {
   "cell_type": "code",
   "execution_count": 6,
   "id": "c38829ca",
   "metadata": {
    "ExecuteTime": {
     "end_time": "2024-03-06T10:45:37.002411Z",
     "start_time": "2024-03-06T10:45:36.994710Z"
    }
   },
   "outputs": [],
   "source": [
    "# we cut the image to 91 x 91 pixel to be slightly larger than 1.2 arcsec\n",
    "cut_off = int((science_data.shape[1] - 91) / 2)\n",
    "science_data = science_data[:, cut_off:-cut_off, cut_off:-cut_off]"
   ]
  },
  {
   "cell_type": "markdown",
   "id": "650c91f0",
   "metadata": {},
   "source": [
    "## 3. Plot the PCA components"
   ]
  },
  {
   "cell_type": "code",
   "execution_count": 7,
   "id": "59ff6cb4",
   "metadata": {
    "ExecuteTime": {
     "end_time": "2024-03-06T10:45:43.878735Z",
     "start_time": "2024-03-06T10:45:37.000863Z"
    }
   },
   "outputs": [],
   "source": [
    "# 1.) Convert images to torch tensor\n",
    "im_shape = science_data.shape\n",
    "images_torch = torch.from_numpy(science_data)\n",
    "\n",
    "# 2.) remove the mean as needed for PCA\n",
    "images_torch = images_torch - images_torch.mean(dim=0)\n",
    "\n",
    "# 3.) reshape images to fit for PCA\n",
    "images_torch = images_torch.view(im_shape[0], im_shape[1] * im_shape[2])\n",
    "\n",
    "# 4.) compute PCA basis\n",
    "_, _, V = torch.svd_lowrank(images_torch, niter=1, q=2000)"
   ]
  },
  {
   "cell_type": "code",
   "execution_count": 8,
   "id": "e3eb8fc7",
   "metadata": {
    "ExecuteTime": {
     "end_time": "2024-03-06T10:45:43.922711Z",
     "start_time": "2024-03-06T10:45:43.918977Z"
    }
   },
   "outputs": [],
   "source": [
    "pca_number = 300\n",
    "components = V[:, :pca_number].reshape(91, 91, pca_number)"
   ]
  },
  {
   "cell_type": "code",
   "execution_count": 9,
   "id": "1b8b15e56d1813b1",
   "metadata": {
    "ExecuteTime": {
     "end_time": "2024-03-06T10:45:43.924025Z",
     "start_time": "2024-03-06T10:45:43.919297Z"
    }
   },
   "outputs": [],
   "source": [
    "# Create a subfolder for the plots\n",
    "Path(\"./final_plots/illustration_plots\").mkdir(parents=True, exist_ok=True)"
   ]
  },
  {
   "cell_type": "code",
   "execution_count": 10,
   "id": "e7e638e9",
   "metadata": {
    "ExecuteTime": {
     "end_time": "2024-03-06T10:45:44.588662Z",
     "start_time": "2024-03-06T10:45:43.919476Z"
    }
   },
   "outputs": [],
   "source": [
    "# Plot the first 4 PCA components without any title as separate pdfs\n",
    "\n",
    "# find a common color range\n",
    "vmin = torch.min(components[:, :, :4]) * 0.7\n",
    "vmax = torch.max(components[:, :, :4]) * 0.7\n",
    "\n",
    "for i in range(4):\n",
    "    fig, ax = plt.subplots(1, 1, figsize=(5, 5))\n",
    "    ax.imshow(components[:, :, i],\n",
    "              cmap=\"magma\",\n",
    "              vmin=vmin, \n",
    "              vmax=vmax)\n",
    "    ax.axis(\"off\")\n",
    "    \n",
    "    plt.savefig(f\"./final_plots/illustration_plots/x1_pca_component_{i}.pdf\", bbox_inches='tight')\n",
    "    plt.close()"
   ]
  },
  {
   "cell_type": "markdown",
   "id": "51083930",
   "metadata": {},
   "source": [
    "## 4. Plot the unsaturated PSF"
   ]
  },
  {
   "cell_type": "code",
   "execution_count": 11,
   "id": "463ec7d6429f5a71",
   "metadata": {
    "ExecuteTime": {
     "end_time": "2024-03-06T14:03:23.226277Z",
     "start_time": "2024-03-06T14:03:22.876971Z"
    }
   },
   "outputs": [
    {
     "data": {
      "image/png": "[encoded data removed]",
      "text/plain": [
       "<Figure size 500x500 with 1 Axes>"
      ]
     },
     "metadata": {
      "needs_background": "light"
     },
     "output_type": "display_data"
    }
   ],
   "source": [
    "# plot the unsaturated PSF\n",
    "fig, ax = plt.subplots(1, 1, figsize=(5, 5))\n",
    "\n",
    "# make the image a bit brighter by setting vmin and vmax\n",
    "ax.imshow(psf_template, cmap=\"magma\", \n",
    "          vmin=-2000, vmax=10000)\n",
    "ax.axis(\"off\")\n",
    "\n",
    "# set the background color to transparent\n",
    "fig.patch.set_alpha(0.0)\n",
    "\n",
    "plt.savefig(f\"./final_plots/illustration_plots/x2_psf_template.pdf\", bbox_inches='tight')"
   ]
  },
  {
   "cell_type": "markdown",
   "id": "5136c167a47aa74",
   "metadata": {},
   "source": [
    "## 5. Plot examples of time series in S4"
   ]
  },
  {
   "cell_type": "code",
   "execution_count": 12,
   "id": "2ac546d521e4e0f4",
   "metadata": {
    "ExecuteTime": {
     "end_time": "2024-03-06T10:45:45.118080Z",
     "start_time": "2024-03-06T10:45:44.834458Z"
    }
   },
   "outputs": [],
   "source": [
    "# subtract the temporal mean from the science data\n",
    "# create a copy of the data\n",
    "science_mean_sub = science_data - science_data.mean(axis=0)"
   ]
  },
  {
   "cell_type": "code",
   "execution_count": 13,
   "id": "12828e49603978ec",
   "metadata": {
    "ExecuteTime": {
     "end_time": "2024-03-06T10:45:52.328083Z",
     "start_time": "2024-03-06T10:45:45.119393Z"
    }
   },
   "outputs": [
    {
     "name": "stderr",
     "output_type": "stream",
     "text": [
      "100%|███████████████████████████████████████████████████████████████████████████████████████████████████████████████████████████████████████████████████████████████| 11593/11593 [00:10<00:00, 1138.57it/s]\n"
     ]
    }
   ],
   "source": [
    "# Derotate all science images\n",
    "derotated_science = np.zeros_like(science_mean_sub)\n",
    "\n",
    "for i in tqdm(range(science_mean_sub.shape[0])):\n",
    "    derotated_science[i] = rotate(\n",
    "        science_mean_sub[i], \n",
    "        -np.rad2deg(angles[i]),\n",
    "        reshape=False)"
   ]
  },
  {
   "cell_type": "code",
   "execution_count": 14,
   "id": "baf8d59378e9e09f",
   "metadata": {
    "ExecuteTime": {
     "end_time": "2024-03-06T10:51:06.451424Z",
     "start_time": "2024-03-06T10:51:06.402631Z"
    }
   },
   "outputs": [],
   "source": [
    "# select 4 positions\n",
    "positions = np.array([[30, 30], [70, 45], [50, 50], [30, 70]])\n",
    "\n",
    "# get the time series for the selected positions\n",
    "time_series = derotated_science[:5000, positions[:, 0], positions[:, 1]]\n",
    "time_series = time_series.T"
   ]
  },
  {
   "cell_type": "code",
   "execution_count": 15,
   "id": "3d94a0e773eacb61",
   "metadata": {
    "ExecuteTime": {
     "end_time": "2024-03-06T10:51:07.004320Z",
     "start_time": "2024-03-06T10:51:06.974626Z"
    }
   },
   "outputs": [],
   "source": [
    "# smooth the time series with a gaussian filter\n",
    "from scipy.ndimage import gaussian_filter1d\n",
    "smoothed_time_series = gaussian_filter1d(time_series, 100, axis=1)\n",
    "\n",
    "# normalize the time series such that each series in the range [0, 1]\n",
    "smoothed_time_series = (smoothed_time_series.T - smoothed_time_series.min(axis=1)) / (smoothed_time_series.max(axis=1) - smoothed_time_series.min(axis=1))\n",
    "smoothed_time_series = smoothed_time_series.T"
   ]
  },
  {
   "cell_type": "code",
   "execution_count": 16,
   "id": "5b0e0188a6f238b1",
   "metadata": {
    "ExecuteTime": {
     "end_time": "2024-03-06T15:19:23.589652Z",
     "start_time": "2024-03-06T15:19:22.639109Z"
    }
   },
   "outputs": [
    {
     "data": {
      "image/png": "[encoded data removed]",
      "text/plain": [
       "<Figure size 1000x200 with 1 Axes>"
      ]
     },
     "metadata": {
      "needs_background": "light"
     },
     "output_type": "display_data"
    },
    {
     "data": {
      "image/png": "[encoded data removed]",
      "text/plain": [
       "<Figure size 1000x200 with 1 Axes>"
      ]
     },
     "metadata": {
      "needs_background": "light"
     },
     "output_type": "display_data"
    },
    {
     "data": {
      "image/png": "[encoded data removed]",
      "text/plain": [
       "<Figure size 1000x200 with 1 Axes>"
      ]
     },
     "metadata": {
      "needs_background": "light"
     },
     "output_type": "display_data"
    },
    {
     "data": {
      "image/png": "[encoded data removed]",
      "text/plain": [
       "<Figure size 1000x200 with 1 Axes>"
      ]
     },
     "metadata": {
      "needs_background": "light"
     },
     "output_type": "display_data"
    }
   ],
   "source": [
    "# define the colors for the time series (colorblind friendly) not red, blue, orange\n",
    "colors = [\"#bcbd22\", \"#32245E\",  \"#32245E\",  \"#32245E\"]\n",
    "\n",
    "# plot the time series in 4 separate plots\n",
    "for i in range(4):\n",
    "    fig, ax = plt.subplots(1, 1, figsize=(10, 2))\n",
    "    # plot the mean as a horizontal line\n",
    "    ax.axhline(smoothed_time_series[i].mean(), \n",
    "               color=\"#6978b4\", \n",
    "               linestyle=\"-\", \n",
    "               label=r\"$\\mathbf{\\overline{r}}_{x, y}$\", lw=3)\n",
    "    \n",
    "    \n",
    "    \n",
    "        \n",
    "    # plot the time series    \n",
    "    ax.plot(smoothed_time_series[i],\n",
    "            color=colors[i],\n",
    "            zorder=10,\n",
    "            label=r\"$\\mathbf{r}_{x, y}$\", lw=3)\n",
    "    \n",
    "    # plot read vertical lines between the time series and the mean every 1000 frames\n",
    "    for j in range(0, 5000, 100):\n",
    "        ax.plot([j, j], \n",
    "                [smoothed_time_series[i].mean(), \n",
    "                 smoothed_time_series[i][j]],\n",
    "                label=r\"$\\mathcal{L}$\",\n",
    "                color=\"red\", linestyle=\"--\", lw=2)\n",
    "    \n",
    "    # Turn off the axis and grid\n",
    "    ax.axis(\"off\")\n",
    "    ax.grid(False)\n",
    "    \n",
    "    # for the last plot add a legend\n",
    "    # add the legend below outside the plot\n",
    "    # remove duplicate labels\n",
    "    handles, labels = ax.get_legend_handles_labels()\n",
    "    by_label = dict(zip(labels, handles))\n",
    "    if i == 3:\n",
    "        ax.legend(\n",
    "            by_label.values(),\n",
    "            by_label.keys(), \n",
    "            fontsize=20,\n",
    "            bbox_to_anchor=(0.5, -0.3),\n",
    "            loc=\"lower center\", ncol=3, frameon=False)\n",
    "    \n",
    "    # set the background color to transparent\n",
    "    fig.patch.set_alpha(0.0)\n",
    "    \n",
    "    # save the plot\n",
    "    plt.savefig(f\"./final_plots/illustration_plots/x2_time_series_{i}.pdf\", \n",
    "                bbox_inches='tight')"
   ]
  }
 ],
 "metadata": {
  "kernelspec": {
   "display_name": "Python 3 (ipykernel)",
   "language": "python",
   "name": "python3"
  },
  "language_info": {
   "codemirror_mode": {
    "name": "ipython",
    "version": 3
   },
   "file_extension": ".py",
   "mimetype": "text/x-python",
   "name": "python",
   "nbconvert_exporter": "python",
   "pygments_lexer": "ipython3",
   "version": "3.10.10"
  }
 },
 "nbformat": 4,
 "nbformat_minor": 5
}
