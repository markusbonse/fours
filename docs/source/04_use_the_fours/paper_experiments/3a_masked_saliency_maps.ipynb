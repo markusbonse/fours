{
 "cells": [
  {
   "cell_type": "markdown",
   "id": "ee26680c0aef3a7a",
   "metadata": {},
   "source": [
    "# Masked Saliency Maps"
   ]
  },
  {
   "cell_type": "markdown",
   "id": "40cc0114",
   "metadata": {},
   "source": [
    "## 1. Imports"
   ]
  },
  {
   "cell_type": "code",
   "execution_count": 1,
   "id": "81e0c9d9",
   "metadata": {
    "ExecuteTime": {
     "end_time": "2024-10-29T14:29:26.563115Z",
     "start_time": "2024-10-29T14:29:26.557695Z"
    }
   },
   "outputs": [],
   "source": [
    "import json\n",
    "import pickle\n",
    "from pathlib import Path\n",
    "\n",
    "import numpy as np\n",
    "import torch\n",
    "import pandas as pd\n",
    "import matplotlib.pyplot as plt\n",
    "\n",
    "from fours.models.noise import FourSNoise\n",
    "from fours.utils.data_handling import read_fours_root_dir, load_adi_data\n",
    "from fours.utils.masks import construct_rfrr_mask"
   ]
  },
  {
   "cell_type": "code",
   "execution_count": 2,
   "id": "ede6fbf5c31b7b7e",
   "metadata": {
    "ExecuteTime": {
     "end_time": "2024-10-29T14:07:32.886778Z",
     "start_time": "2024-10-29T14:07:32.752576Z"
    }
   },
   "outputs": [
    {
     "name": "stdout",
     "output_type": "stream",
     "text": [
      "Data in the FOURS_ROOT_DIR found. Location: /fast/mbonse/s4\n"
     ]
    }
   ],
   "source": [
    "root_dir = Path(read_fours_root_dir())"
   ]
  },
  {
   "cell_type": "markdown",
   "id": "12c640a4",
   "metadata": {},
   "source": [
    "## 2. Input gradients for S4"
   ]
  },
  {
   "cell_type": "code",
   "execution_count": 3,
   "id": "57acd212",
   "metadata": {
    "ExecuteTime": {
     "end_time": "2024-10-29T14:35:40.766785Z",
     "start_time": "2024-10-29T14:35:38.409779Z"
    }
   },
   "outputs": [],
   "source": [
    "# Load the noise model\n",
    "noise_model_file = root_dir / Path(\"70_results/x1_fake_planet_experiments/HD22049_351_096_C-0679_A_/scratch/tensorboard_S4/models/noise_model_0000_lambda_010000.pkl\")\n",
    "\n",
    "s4_noise_model = FourSNoise.load(noise_model_file)"
   ]
  },
  {
   "cell_type": "code",
   "execution_count": 4,
   "id": "e7166aad88fb01a0",
   "metadata": {
    "ExecuteTime": {
     "end_time": "2024-10-29T14:35:41.513325Z",
     "start_time": "2024-10-29T14:35:40.769231Z"
    }
   },
   "outputs": [],
   "source": [
    "# Compute the input gradients\n",
    "s4_noise_model.compute_betas()\n",
    "input_gradients_4s = np.abs(s4_noise_model.betas.detach().numpy())\n",
    "input_gradients_4s = input_gradients_4s.reshape(-1, 91, 91)"
   ]
  },
  {
   "cell_type": "markdown",
   "id": "297b621b2677ce19",
   "metadata": {},
   "source": [
    "## 3. Input gradients for PCA"
   ]
  },
  {
   "cell_type": "markdown",
   "id": "d37845c88a683415",
   "metadata": {},
   "source": [
    "### 3.1 Load the data"
   ]
  },
  {
   "cell_type": "code",
   "execution_count": 5,
   "id": "b423dd959e5b18e8",
   "metadata": {
    "ExecuteTime": {
     "end_time": "2024-10-29T14:35:41.518074Z",
     "start_time": "2024-10-29T14:35:41.515017Z"
    }
   },
   "outputs": [],
   "source": [
    "dataset_name = \"HD22049_351_096_C-0679_A_\"\n",
    "dataset_file = root_dir / Path(\"30_data/\" + dataset_name + \".hdf5\")"
   ]
  },
  {
   "cell_type": "code",
   "execution_count": 6,
   "id": "9b56f636251b8ab7",
   "metadata": {
    "ExecuteTime": {
     "end_time": "2024-10-29T14:35:42.277832Z",
     "start_time": "2024-10-29T14:35:41.519632Z"
    }
   },
   "outputs": [],
   "source": [
    "science_data, angles, raw_psf_template = load_adi_data(\n",
    "    dataset_file,\n",
    "    data_tag=\"object_stacked_05\",\n",
    "    psf_template_tag=\"psf_template\",\n",
    "    para_tag=\"header_object_stacked_05/PARANG\")\n",
    "\n",
    "psf_template = np.median(raw_psf_template, axis=0)"
   ]
  },
  {
   "cell_type": "code",
   "execution_count": 7,
   "id": "4844f0c735d82c2a",
   "metadata": {
    "ExecuteTime": {
     "end_time": "2024-10-29T14:35:42.282632Z",
     "start_time": "2024-10-29T14:35:42.279552Z"
    }
   },
   "outputs": [],
   "source": [
    "# we cut the image to 91 x 91 pixel to be slightly larger than 1.2 arcsec\n",
    "cut_off = int((science_data.shape[1] - 91) / 2)\n",
    "science_data = science_data[:, cut_off:-cut_off, cut_off:-cut_off]"
   ]
  },
  {
   "cell_type": "markdown",
   "id": "47459241e0557e4d",
   "metadata": {},
   "source": [
    "### 3.2 Compute the PCA basis using SVD"
   ]
  },
  {
   "cell_type": "code",
   "execution_count": 8,
   "id": "e8f9f34efc50bc19",
   "metadata": {
    "ExecuteTime": {
     "end_time": "2024-10-29T14:36:48.474087Z",
     "start_time": "2024-10-29T14:35:42.284045Z"
    }
   },
   "outputs": [],
   "source": [
    "# 1.) Convert images to torch tensor\n",
    "im_shape = science_data.shape\n",
    "images_torch = torch.from_numpy(science_data)\n",
    "\n",
    "# 2.) remove the mean as needed for PCA\n",
    "images_torch = images_torch - images_torch.mean(dim=0)\n",
    "\n",
    "# 3.) reshape images to fit for PCA\n",
    "images_torch = images_torch.view(im_shape[0], im_shape[1] * im_shape[2])\n",
    "\n",
    "# 4.) compute PCA basis\n",
    "_, _, V = torch.svd(images_torch)"
   ]
  },
  {
   "cell_type": "markdown",
   "id": "603d144e34415f80",
   "metadata": {},
   "source": [
    "### 3.3 Find optimal number of PCA components"
   ]
  },
  {
   "cell_type": "code",
   "execution_count": 9,
   "id": "5f29821388ebdbc6",
   "metadata": {
    "ExecuteTime": {
     "end_time": "2024-10-29T14:36:48.480267Z",
     "start_time": "2024-10-29T14:36:48.476765Z"
    }
   },
   "outputs": [],
   "source": [
    "cc_result_file = root_dir / Path(\"70_results/x1_fake_planet_experiments/contrast_curves/HD22049_351_096_C-0679_A_.pkl\")"
   ]
  },
  {
   "cell_type": "code",
   "execution_count": 10,
   "id": "bfea378410a45c0c",
   "metadata": {
    "ExecuteTime": {
     "end_time": "2024-10-29T14:36:48.497595Z",
     "start_time": "2024-10-29T14:36:48.481354Z"
    }
   },
   "outputs": [],
   "source": [
    "with open(cc_result_file, 'rb') as f:\n",
    "    tmp_data = pickle.load(f)"
   ]
  },
  {
   "cell_type": "code",
   "execution_count": 11,
   "id": "e6a954f193de7b3",
   "metadata": {
    "ExecuteTime": {
     "end_time": "2024-10-29T15:14:50.596990Z",
     "start_time": "2024-10-29T15:14:50.586633Z"
    }
   },
   "outputs": [],
   "source": [
    "all_cc_combined = pd.concat(tmp_data.values(), keys=tmp_data.keys(), axis=1)\n",
    "# drop all columns that start with s4\n",
    "all_cc_combined = all_cc_combined.loc[:, ~all_cc_combined.columns.get_level_values(0).str.startswith(\"s4\")]\n",
    "# round the index\n",
    "all_cc_combined.index = np.round(all_cc_combined.index, 1)"
   ]
  },
  {
   "cell_type": "code",
   "execution_count": 12,
   "id": "6224459f6b8424ed",
   "metadata": {
    "ExecuteTime": {
     "end_time": "2024-10-29T15:14:51.883719Z",
     "start_time": "2024-10-29T15:14:51.877781Z"
    }
   },
   "outputs": [
    {
     "data": {
      "text/plain": [
       "'stacked_05_PCA_090_components'"
      ]
     },
     "execution_count": 12,
     "metadata": {},
     "output_type": "execute_result"
    }
   ],
   "source": [
    "# find the best number of PCA components at 2.5 lambda/D\n",
    "best_pca = all_cc_combined.loc[2.5].argmax()\n",
    "all_cc_combined.columns[best_pca][0]"
   ]
  },
  {
   "cell_type": "code",
   "execution_count": 13,
   "id": "ee41f1b0d43e3862",
   "metadata": {
    "ExecuteTime": {
     "end_time": "2024-10-29T15:14:57.443351Z",
     "start_time": "2024-10-29T15:14:57.438917Z"
    }
   },
   "outputs": [],
   "source": [
    "pca_number = 90"
   ]
  },
  {
   "cell_type": "markdown",
   "id": "5ceccac148fba022",
   "metadata": {},
   "source": [
    "### 3.4 Compute the input gradients"
   ]
  },
  {
   "cell_type": "code",
   "execution_count": 14,
   "id": "cbec5db0ca7bf829",
   "metadata": {
    "ExecuteTime": {
     "end_time": "2024-10-29T15:14:59.014239Z",
     "start_time": "2024-10-29T15:14:58.699939Z"
    }
   },
   "outputs": [],
   "source": [
    "input_gradients_pca = torch.matmul(V[:, :pca_number], V[:, :pca_number].T)\n",
    "input_gradients_pca = np.abs(input_gradients_pca.detach().numpy())\n",
    "input_gradients_pca = input_gradients_pca.reshape(-1, 91, 91)"
   ]
  },
  {
   "cell_type": "markdown",
   "id": "5fba49d7e9166378",
   "metadata": {},
   "source": [
    "### 3.5 Maks input gradients"
   ]
  },
  {
   "cell_type": "code",
   "execution_count": 15,
   "id": "aeeecf94d0cc35c8",
   "metadata": {
    "ExecuteTime": {
     "end_time": "2024-10-29T15:27:19.204010Z",
     "start_time": "2024-10-29T15:27:17.386395Z"
    }
   },
   "outputs": [],
   "source": [
    "mask = construct_rfrr_mask(\n",
    "    cut_off_radius=3.6 * 1.5,\n",
    "    psf_template_in=psf_template,\n",
    "    mask_size_in=91,\n",
    "    use_template=False\n",
    ")"
   ]
  },
  {
   "cell_type": "code",
   "execution_count": 16,
   "id": "421fd9be4c5bf6be",
   "metadata": {
    "ExecuteTime": {
     "end_time": "2024-10-29T15:27:19.597917Z",
     "start_time": "2024-10-29T15:27:19.205751Z"
    }
   },
   "outputs": [],
   "source": [
    "input_gradients_pca = input_gradients_pca * mask"
   ]
  },
  {
   "cell_type": "markdown",
   "id": "e1d626a6",
   "metadata": {},
   "source": [
    "## 4. Plot the result"
   ]
  },
  {
   "cell_type": "code",
   "execution_count": 17,
   "id": "a4e6e7bb",
   "metadata": {
    "ExecuteTime": {
     "end_time": "2024-10-29T15:27:21.270748Z",
     "start_time": "2024-10-29T15:27:21.263644Z"
    }
   },
   "outputs": [],
   "source": [
    "def plot_saliency_map(\n",
    "    axis_in,\n",
    "    input_gradients,\n",
    "    position):\n",
    "    \n",
    "    idx = position[0] * 91 + position[1]\n",
    "    axis_in.imshow(input_gradients[idx])\n",
    "    axis_in.axis(\"off\")\n",
    "    \n",
    "    axis_in.scatter(position[1], position[0], color=\"white\", marker=\"+\", s=50)\n",
    "    axis_in.scatter(45, 45, color=\"red\", marker=\"*\", s=50)"
   ]
  },
  {
   "cell_type": "code",
   "execution_count": 18,
   "id": "5858ea6e82ee35bc",
   "metadata": {
    "ExecuteTime": {
     "end_time": "2024-10-29T15:27:21.544488Z",
     "start_time": "2024-10-29T15:27:21.536877Z"
    }
   },
   "outputs": [
    {
     "data": {
      "text/plain": [
       "2.4845199749997664"
      ]
     },
     "execution_count": 18,
     "metadata": {},
     "output_type": "execute_result"
    }
   ],
   "source": [
    "# compute the distance between the point and the center\n",
    "def distance_to_center(position):\n",
    "    center = np.array([45, 45])\n",
    "    return np.linalg.norm(np.array(position) - center)\n",
    "\n",
    "# distance of position 1\n",
    "distance_to_center((49, 37)) / 3.6"
   ]
  },
  {
   "cell_type": "code",
   "execution_count": 19,
   "id": "788f3d08",
   "metadata": {
    "ExecuteTime": {
     "end_time": "2024-10-29T15:36:38.705979Z",
     "start_time": "2024-10-29T15:36:38.254050Z"
    }
   },
   "outputs": [
    {
     "data": {
      "image/png": "[encoded data removed]",
      "text/plain": [
       "<Figure size 800x400 with 2 Axes>"
      ]
     },
     "metadata": {},
     "output_type": "display_data"
    }
   ],
   "source": [
    "position = (49, 37)\n",
    "\n",
    "# 1.) Create the Plot Layout ------------------------------\n",
    "fig = plt.figure(\n",
    "    constrained_layout=False,\n",
    "    figsize=(8, 4))\n",
    "\n",
    "gs0 = fig.add_gridspec(1, 2, width_ratios = [1, 1])\n",
    "gs0.update(wspace=0.05, hspace=0.07)\n",
    "\n",
    "# Residual Plots\n",
    "example_pca = fig.add_subplot(gs0[0, 0])\n",
    "example_4s = fig.add_subplot(gs0[0, 1])\n",
    "\n",
    "plot_saliency_map(example_pca, input_gradients_pca, position)\n",
    "plot_saliency_map(example_4s, input_gradients_4s, position)\n",
    "\n",
    "# plot a dashed circle at the given position in the PCA plot\n",
    "circle = plt.Circle(\n",
    "    (position[1], position[0]),\n",
    "    3.6 * 1.5,\n",
    "    color=\"white\",\n",
    "    fill=False,\n",
    "    alpha=0.8,\n",
    "    linestyle=\"--\",\n",
    "    linewidth=1.5)\n",
    "\n",
    "example_pca.add_artist(circle)\n",
    "\n",
    "# Add Figure Title\n",
    "example_pca.set_title(\n",
    "    \"Optimal PCA (masked)\",\n",
    "    fontsize=14,\n",
    "    fontweight=\"bold\",\n",
    "    y=1.01)\n",
    "\n",
    "example_4s.set_title(\n",
    "    \"4S\",\n",
    "    fontsize=14,\n",
    "    fontweight=\"bold\",\n",
    "    y=1.01)\n",
    "\n",
    "fig_title = fig.suptitle(\n",
    "    \"Saliency Maps at 2.5 $\\lambda/D$\",\n",
    "    size=16, fontweight=\"bold\", y=1.03)\n",
    "\n",
    "\n",
    "fig.patch.set_facecolor('white')\n",
    "plt.savefig(\"./final_plots/0a5_maked_sailency_map.pdf\",\n",
    "            bbox_inches='tight')"
   ]
  }
 ],
 "metadata": {
  "kernelspec": {
   "display_name": "Python 3 (ipykernel)",
   "language": "python",
   "name": "python3"
  },
  "language_info": {
   "codemirror_mode": {
    "name": "ipython",
    "version": 3
   },
   "file_extension": ".py",
   "mimetype": "text/x-python",
   "name": "python",
   "nbconvert_exporter": "python",
   "pygments_lexer": "ipython3",
   "version": "3.10.10"
  }
 },
 "nbformat": 4,
 "nbformat_minor": 5
}
